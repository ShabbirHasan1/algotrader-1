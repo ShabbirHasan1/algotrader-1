{
 "cells": [
  {
   "cell_type": "code",
   "execution_count": 1,
   "metadata": {},
   "outputs": [],
   "source": [
    "#!/usr/bin/python\n",
    "\n",
    "#setup logging\n",
    "import logging\n",
    "logging.basicConfig(format='%(asctime)s:%(levelname)s:\\t%(message)s', level=logging.DEBUG, datefmt='%m-%d %H:%M:%S')\n",
    "logger = logging.getLogger('simple_example')\n",
    "#logger.setLevel(logging.DEBUG)\n",
    "\n",
    "pdebug = lambda x: logger.debug(x)\n",
    "pinfo = lambda x: logger.info(x)\n",
    "perror = lambda x: logger.error(x)\n",
    "pexception = lambda x: logger.critical(x)"
   ]
  },
  {
   "cell_type": "code",
   "execution_count": 2,
   "metadata": {},
   "outputs": [
    {
     "name": "stderr",
     "output_type": "stream",
     "text": [
      "02-17 20:16:24:DEBUG:\tStarting Thread-1\n",
      "02-17 20:16:24:DEBUG:\tStarting Thread-2\n",
      "02-17 20:16:24:DEBUG:\tStarting Thread-3\n",
      "02-17 20:16:24:INFO:\tThread-2 processing One\n",
      "02-17 20:16:24:INFO:\tThread-3 processing Two\n",
      "02-17 20:16:25:INFO:\tThread-1 processing Three\n",
      "02-17 20:16:25:INFO:\tThread-2 processing Four\n",
      "02-17 20:16:25:INFO:\tThread-3 processing Five\n",
      "02-17 20:16:26:DEBUG:\tExiting Thread-1\n",
      "02-17 20:16:26:DEBUG:\tExiting Thread-2\n",
      "02-17 20:16:26:DEBUG:\tExiting Thread-3\n",
      "02-17 20:16:26:INFO:\tExiting Main Thread\n"
     ]
    }
   ],
   "source": [
    "import threading\n",
    "import time\n",
    "from queue import Queue\n",
    "\n",
    "exitFlag = 0\n",
    "\n",
    "class myThread (threading.Thread):\n",
    "    def __init__(self, threadID, name, callback, q):\n",
    "        threading.Thread.__init__(self)\n",
    "        self.threadID = threadID\n",
    "        self.name = name\n",
    "        self.q = q\n",
    "        self.callback = callback\n",
    "        \n",
    "    def run(self):\n",
    "        pdebug(\"Starting \" + self.name)\n",
    "        process_data(self.name, self.q)\n",
    "        #self.callback(self.name, 1,1)\n",
    "        pdebug(\"Exiting \" + self.name)\n",
    "        \n",
    "    \n",
    "def process_data(threadName, q):\n",
    "    while not exitFlag:\n",
    "        queueLock.acquire()\n",
    "        if not workQueue.empty():\n",
    "            data = q.get()\n",
    "            queueLock.release()\n",
    "            pinfo(\"%s processing %s\" % (threadName, data))\n",
    "        else:\n",
    "            queueLock.release()\n",
    "        time.sleep(1)\n",
    "\n",
    "threadList = [\"Thread-1\", \"Thread-2\", \"Thread-3\"]\n",
    "nameList = [\"One\", \"Two\", \"Three\", \"Four\", \"Five\"]\n",
    "queueLock = threading.Lock()\n",
    "workQueue = Queue(maxsize=10)\n",
    "threads = []\n",
    "threadID = 1\n",
    "\n",
    "# Create new threads\n",
    "for tName in threadList:\n",
    "    thread = myThread(threadID, tName, process_data, workQueue)\n",
    "    thread.start()\n",
    "    threads.append(thread)\n",
    "    threadID += 1\n",
    "\n",
    "# Fill the queue\n",
    "queueLock.acquire()\n",
    "for word in nameList:\n",
    "    workQueue.put(word)\n",
    "queueLock.release()\n",
    "\n",
    "# Wait for queue to empty\n",
    "while not workQueue.empty():\n",
    "    pass\n",
    "\n",
    "# Notify threads it's time to exit\n",
    "exitFlag = 1\n",
    "\n",
    "# Wait for all threads to complete\n",
    "for t in threads:\n",
    "    t.join()\n",
    "pinfo(\"Exiting Main Thread\")"
   ]
  },
  {
   "cell_type": "code",
   "execution_count": null,
   "metadata": {},
   "outputs": [],
   "source": []
  },
  {
   "cell_type": "code",
   "execution_count": 2,
   "metadata": {},
   "outputs": [],
   "source": [
    "import threading\n",
    "import time\n",
    "from queue import Queue\n",
    "import redis\n",
    "import multiprocessing\n",
    "\n",
    "exitFlag = 0\n",
    "\n",
    "conn = redis.Redis(host='redis', port=6379, db=0, charset=\"utf-8\", decode_responses=True)\n",
    "\n",
    "class myThread (threading.Thread):\n",
    "    def __init__(self, threadID, name, callback):\n",
    "        threading.Thread.__init__(self)\n",
    "        self.threadID = threadID\n",
    "        self.name = name\n",
    "        self.callback = callback\n",
    "        \n",
    "    def run(self):\n",
    "        pdebug(\"Starting \" + self.name)\n",
    "        self.thread_function(self.callback)\n",
    "        pdebug(\"Exiting \" + self.name)\n",
    "        \n",
    "    def thread_function(self, callback):\n",
    "        pubsub = conn.pubsub()\n",
    "        pubsub.subscribe([self.name+'/cmd', self.name+'/data'])\n",
    "\n",
    "        for item in pubsub.listen():\n",
    "            channel = item['channel'].split('/')[1]\n",
    "            data = item['data']\n",
    "            pdebug(self.name+':'+channel)\n",
    "            if channel== 'data':\n",
    "                callback(data)\n",
    "            elif channel== 'cmd' and data == 'stop':\n",
    "                pubsub.unsubscribe()\n",
    "                break\n",
    "jobs = []\n",
    "class threadManager():\n",
    "    def __init__(self, name, thread_list, callback_list):\n",
    "        self.threads = []\n",
    "        self.name = name\n",
    "        self.threadList = thread_list\n",
    "        self.threadCallback = callback_list\n",
    "        self.threadID = 1\n",
    "        \n",
    "        self.job = multiprocessing.Process(target=self.init)\n",
    "        jobs.append(self.job)\n",
    "        self.job.start()\n",
    "        \n",
    "    def init(self):\n",
    "        # Create new threads\n",
    "        for tName in self.threadList:\n",
    "            self.add(tName, self.threadCallback[self.threadID-1])\n",
    "\n",
    "        # Wait for all threads to complete\n",
    "        #for t in self.threads:\n",
    "        #    t.join()\n",
    "        #pinfo(\"Exiting Main Thread\")\n",
    "        \n",
    "    def add(self, name, callback):\n",
    "        thread = myThread(self.threadID, name, callback)\n",
    "        thread.start()\n",
    "        self.threads.append(thread)\n",
    "        self.threadID += 1"
   ]
  },
  {
   "cell_type": "code",
   "execution_count": 3,
   "metadata": {},
   "outputs": [
    {
     "name": "stderr",
     "output_type": "stream",
     "text": [
      "02-17 20:19:42:DEBUG:\tStarting order\n",
      "02-17 20:19:42:DEBUG:\tStarting trade\n",
      "02-17 20:19:42:DEBUG:\torder:cmd\n",
      "02-17 20:19:42:DEBUG:\torder:data\n",
      "02-17 20:19:42:DEBUG:\ttrade:cmd\n",
      "02-17 20:19:42:DEBUG:\ttrade:data\n",
      "02-17 20:19:42:DEBUG:\t2: 2\n",
      "02-17 20:19:42:DEBUG:\t1: 2\n",
      "02-17 20:20:09:DEBUG:\ttrade:cmd\n",
      "02-17 20:20:09:DEBUG:\tExiting trade\n",
      "02-17 20:20:13:DEBUG:\torder:cmd\n",
      "02-17 20:20:13:DEBUG:\tExiting order\n"
     ]
    }
   ],
   "source": [
    "def hello_world1(data):\n",
    "    pdebug(\"1: \"+ str(data))\n",
    "    \n",
    "def hello_world2(data):\n",
    "    pdebug(\"2: \"+ str(data))\n",
    "    \n",
    "\n",
    "tradeManager = threadManager(\"tradeManager\", [\"order\", \"trade\"], [hello_world1, hello_world2])\n"
   ]
  },
  {
   "cell_type": "code",
   "execution_count": 4,
   "metadata": {},
   "outputs": [
    {
     "name": "stderr",
     "output_type": "stream",
     "text": [
      "02-17 20:19:45:DEBUG:\tStarting log\n",
      "02-17 20:19:45:DEBUG:\tlog:cmd\n",
      "02-17 20:19:45:DEBUG:\tlog:data\n",
      "02-17 20:19:45:DEBUG:\t1: 2\n",
      "02-17 20:19:59:DEBUG:\tlog:data\n",
      "02-17 20:19:59:DEBUG:\t1: stop\n",
      "02-17 20:20:20:DEBUG:\tlog:cmd\n",
      "02-17 20:20:20:DEBUG:\tExiting log\n"
     ]
    }
   ],
   "source": [
    "tradeManager.add(\"log\",hello_world1)"
   ]
  },
  {
   "cell_type": "code",
   "execution_count": 5,
   "metadata": {},
   "outputs": [
    {
     "data": {
      "text/plain": [
       "False"
      ]
     },
     "execution_count": 5,
     "metadata": {},
     "output_type": "execute_result"
    }
   ],
   "source": [
    "jobs[0].is_alive()"
   ]
  },
  {
   "cell_type": "code",
   "execution_count": null,
   "metadata": {},
   "outputs": [],
   "source": []
  },
  {
   "cell_type": "code",
   "execution_count": null,
   "metadata": {},
   "outputs": [],
   "source": []
  }
 ],
 "metadata": {
  "kernelspec": {
   "display_name": "Python 3",
   "language": "python",
   "name": "python3"
  },
  "language_info": {
   "codemirror_mode": {
    "name": "ipython",
    "version": 3
   },
   "file_extension": ".py",
   "mimetype": "text/x-python",
   "name": "python",
   "nbconvert_exporter": "python",
   "pygments_lexer": "ipython3",
   "version": "3.7.6"
  }
 },
 "nbformat": 4,
 "nbformat_minor": 4
}
