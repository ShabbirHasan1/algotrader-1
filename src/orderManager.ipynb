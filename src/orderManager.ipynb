{
 "cells": [
  {
   "cell_type": "code",
   "execution_count": 1,
   "metadata": {},
   "outputs": [],
   "source": [
    "#!/usr/bin/python\n",
    "\n",
    "#setup logging\n",
    "import logging\n",
    "logging.basicConfig(format='%(asctime)s:%(levelname)s:\\t%(message)s', level=logging.DEBUG, datefmt='%m-%d %H:%M:%S')\n",
    "logger = logging.getLogger('simple_example')\n",
    "#logger.setLevel(logging.DEBUG)\n",
    "\n",
    "pdebug = lambda x: logger.debug(x)\n",
    "pinfo = lambda x: logger.info(x)\n",
    "perror = lambda x: logger.error(x)\n",
    "pexception = lambda x: logger.critical(x)"
   ]
  },
  {
   "cell_type": "code",
   "execution_count": null,
   "metadata": {},
   "outputs": [],
   "source": []
  },
  {
   "cell_type": "code",
   "execution_count": null,
   "metadata": {},
   "outputs": [],
   "source": []
  },
  {
   "cell_type": "code",
   "execution_count": 2,
   "metadata": {},
   "outputs": [],
   "source": [
    "import threading\n",
    "import time\n",
    "from queue import Queue\n",
    "from redis import Redis\n",
    "import multiprocessing\n",
    "\n",
    "exitFlag = 0\n",
    "\n",
    "conn = Redis(host='redis', port=6379, db=0, charset=\"utf-8\", decode_responses=True)\n",
    "\n",
    "class myThread (threading.Thread):\n",
    "    def __init__(self, manager, name, callback, pubsub=True, q=\"default\"):\n",
    "        threading.Thread.__init__(self)\n",
    "        self.threadID = manager.threadID\n",
    "        self.name = name\n",
    "        self.callback = callback\n",
    "        self.pubsub = pubsub\n",
    "        self.queue = q\n",
    "        self.manager = manager\n",
    "        \n",
    "    def run(self):\n",
    "        pdebug(\"Starting \" + self.name)\n",
    "        if self.pubsub:\n",
    "            self.thread_function(self.callback)\n",
    "        else:\n",
    "            self.thread_job(self.callback, self.queue)\n",
    "        pdebug(\"Exiting \" + self.name)\n",
    "        \n",
    "    def thread_function(self, callback):\n",
    "        pubsub = conn.pubsub()\n",
    "        pubsub.subscribe([self.name+'/cmd', self.name+'/data'])\n",
    "        \n",
    "        pubsub.get_message(self.name+'/cmd')\n",
    "        pubsub.get_message(self.name+'/data')\n",
    "\n",
    "        for item in pubsub.listen():\n",
    "            channel = item['channel'].split('/')[1]\n",
    "            data = item['data']\n",
    "            pdebug(self.name+':'+channel)\n",
    "            if channel== 'data':\n",
    "                callback(self.manager, data)\n",
    "            elif channel== 'cmd' and data == 'stop':\n",
    "                pubsub.unsubscribe()\n",
    "                break\n",
    "                \n",
    "    def thread_job(self, callback, queue):\n",
    "        #pdebug(conn.rpop(queue))\n",
    "        callback(queue)\n",
    "        \n",
    "        \n",
    "        \n",
    "jobs = []\n",
    "class threadManager():\n",
    "    def __init__(self, name, thread_list, callback_list):\n",
    "        self.threads = []\n",
    "        self.name = name\n",
    "        self.threadList = thread_list\n",
    "        self.threadCallback = callback_list\n",
    "        self.threadID = 1\n",
    "        \n",
    "        self.job = multiprocessing.Process(target=self.init)\n",
    "        jobs.append(self.job)\n",
    "        self.job.start()\n",
    "        \n",
    "    def init(self):\n",
    "        # Create new threads\n",
    "        for tName in self.threadList:\n",
    "            self.add(tName, self.threadCallback[self.threadID-1])\n",
    "\n",
    "        # Wait for all threads to complete\n",
    "        #for t in self.threads:\n",
    "        #    t.join()\n",
    "        #pinfo(\"Exiting Main Thread\")\n",
    "        \n",
    "    def add(self, name, callback, pubsub=True, q=\"default\"):\n",
    "        thread = myThread(self, name, callback, pubsub, q)\n",
    "        thread.start()\n",
    "        self.threads.append(thread)\n",
    "        self.threadID += 1"
   ]
  },
  {
   "cell_type": "code",
   "execution_count": 3,
   "metadata": {},
   "outputs": [
    {
     "name": "stderr",
     "output_type": "stream",
     "text": [
      "02-18 21:10:06:DEBUG:\tStarting order\n",
      "02-18 21:10:06:DEBUG:\tStarting trade\n",
      "02-18 21:10:06:DEBUG:\torder:cmd\n",
      "02-18 21:10:06:DEBUG:\ttrade:cmd\n",
      "02-18 21:10:06:DEBUG:\tExiting order\n",
      "02-18 21:10:06:DEBUG:\tExiting trade\n"
     ]
    }
   ],
   "source": [
    "def hello_world1(manager, data):\n",
    "    pdebug(\"1: \"+ str(data))\n",
    "    \n",
    "def hello_world2(manager, data):\n",
    "    pdebug(\"2: \"+ str(data))\n",
    "    \n",
    "\n",
    "tradeManager = threadManager(\"tradeManager\", [\"order\", \"trade\"], [hello_world1, hello_world2])\n"
   ]
  },
  {
   "cell_type": "code",
   "execution_count": 4,
   "metadata": {},
   "outputs": [
    {
     "name": "stderr",
     "output_type": "stream",
     "text": [
      "02-18 21:10:06:DEBUG:\tStarting log\n"
     ]
    }
   ],
   "source": [
    "tradeManager.add(\"log\",hello_world1)"
   ]
  },
  {
   "cell_type": "code",
   "execution_count": 5,
   "metadata": {},
   "outputs": [
    {
     "name": "stderr",
     "output_type": "stream",
     "text": [
      "02-18 21:10:06:DEBUG:\tlog:cmd\n",
      "02-18 21:10:06:DEBUG:\tExiting log\n"
     ]
    },
    {
     "data": {
      "text/plain": [
       "1"
      ]
     },
     "execution_count": 5,
     "metadata": {},
     "output_type": "execute_result"
    }
   ],
   "source": [
    "\n",
    "conn.publish('order/cmd','stop')\n",
    "conn.publish('trade/cmd','stop')\n",
    "conn.publish('log/cmd','stop')\n"
   ]
  },
  {
   "cell_type": "code",
   "execution_count": null,
   "metadata": {},
   "outputs": [],
   "source": [
    "\n"
   ]
  },
  {
   "cell_type": "code",
   "execution_count": 6,
   "metadata": {},
   "outputs": [],
   "source": [
    "'''\n",
    "# order/data\n",
    "{\n",
    "'stock':'NIFTY',\n",
    "'qty':'12',\n",
    "'type':'BO',\n",
    "'SL':'1234',\n",
    "'Target':'1234',\n",
    "'Price':'1234'\n",
    "}\n",
    "\n",
    "\n",
    "'''\n",
    "import pandas as pd\n",
    "import json\n",
    "\n",
    "def order_job(queue):\n",
    "    data = conn.rpop(queue)\n",
    "    order_df = pd.read_json(data)\n",
    "    \n",
    "    stock = order_df['stock'][0]\n",
    "    state=stock+'_state'\n",
    "    \n",
    "    pdebug('order_job: start: {}\\n{}'.format(stock, order_df))\n",
    "    \n",
    "    pubsub = conn.pubsub()\n",
    "    pubsub.subscribe([stock+'/cmd'])\n",
    "    \n",
    "    for item in pubsub.listen():\n",
    "        data = item['data']\n",
    "        pdebug('order_job: running: {}'.format(stock))\n",
    "        conn.set(state, 'running')\n",
    "        \n",
    "        if data == \"abort\":\n",
    "            conn.delete(state)\n",
    "            pubsub.unsubscribe()\n",
    "            break\n",
    "        elif data == \"info\":\n",
    "            pinfo(\"{} : {}\\n {}\\n\".format(stock, conn.get(state), order_df))\n",
    "    conn.delete(state)\n",
    "            \n",
    "\n",
    "\n",
    "#order_queue_lock = r.lock('order_queue_lock')\n",
    "orderManager = \"\"\n",
    "def order_handler(manager, data):\n",
    "    pdebug('order_handler: {}'.format(data))\n",
    "    stock = pd.read_json(data)['stock']\n",
    "    state = stock[0]+'_state'\n",
    "    if conn.get(state) == None:\n",
    "        #Kex does not exist\n",
    "        conn.lpush('order_queue', data)\n",
    "        conn.set(state,'init')\n",
    "        manager.add(\"order_job_\"+stock[0],order_job, False, 'order_queue')\n",
    "    else:\n",
    "        for t in manager.threads:\n",
    "            print(t.name)\n",
    "        pinfo('order_handler: Trade in progress: publish command to {}/cmd'.format(pd.read_json(data)['stock'][0]))\n",
    "        "
   ]
  },
  {
   "cell_type": "code",
   "execution_count": 7,
   "metadata": {},
   "outputs": [
    {
     "name": "stderr",
     "output_type": "stream",
     "text": [
      "02-18 21:10:07:DEBUG:\tStarting order_handler\n",
      "02-18 21:10:12:DEBUG:\torder_handler:data\n",
      "02-18 21:10:13:DEBUG:\torder_handler: [{\"cmd\":\"Buy\",\"stock\":\"INFY\",\"qty\":\"12\",\"type\":\"BO\",\"SL\":\"1234\",\"Target\":\"1234\",\"Price\":\"1234\",\"state\":\"idle\"}]\n",
      "02-18 21:10:13:DEBUG:\tStarting order_job_INFY\n",
      "02-18 21:10:13:DEBUG:\torder_job: start: INFY\n",
      "   cmd stock  qty type    SL  Target  Price state\n",
      "0  Buy  INFY   12   BO  1234    1234   1234  idle\n",
      "02-18 21:10:13:DEBUG:\torder_job: running: INFY\n",
      "02-18 21:10:29:DEBUG:\torder_job: running: INFY\n",
      "02-18 21:10:29:INFO:\tINFY : running\n",
      "    cmd stock  qty type    SL  Target  Price state\n",
      "0  Buy  INFY   12   BO  1234    1234   1234  idle\n",
      "\n",
      "02-18 21:10:59:DEBUG:\torder_job: running: INFY\n",
      "02-18 21:10:59:DEBUG:\tExiting order_job_INFY\n",
      "02-18 21:11:05:DEBUG:\torder_handler:data\n",
      "02-18 21:11:05:DEBUG:\torder_handler: [{\"cmd\":\"Buy\",\"stock\":\"INFY\",\"qty\":\"12\",\"type\":\"BO\",\"SL\":\"1234\",\"Target\":\"1234\",\"Price\":\"1234\",\"state\":\"idle\"}]\n",
      "02-18 21:11:05:DEBUG:\tStarting order_job_INFY\n",
      "02-18 21:11:05:DEBUG:\torder_job: start: INFY\n",
      "   cmd stock  qty type    SL  Target  Price state\n",
      "0  Buy  INFY   12   BO  1234    1234   1234  idle\n",
      "02-18 21:11:05:DEBUG:\torder_job: running: INFY\n",
      "02-18 21:11:07:DEBUG:\torder_job: running: INFY\n",
      "02-18 21:11:07:INFO:\tINFY : running\n",
      "    cmd stock  qty type    SL  Target  Price state\n",
      "0  Buy  INFY   12   BO  1234    1234   1234  idle\n",
      "\n",
      "02-18 21:11:13:DEBUG:\torder_job: running: INFY\n",
      "02-18 21:11:13:INFO:\tINFY : running\n",
      "    cmd stock  qty type    SL  Target  Price state\n",
      "0  Buy  INFY   12   BO  1234    1234   1234  idle\n",
      "\n",
      "02-18 21:11:20:DEBUG:\torder_handler:data\n",
      "02-18 21:11:20:DEBUG:\torder_handler: [{\"cmd\":\"Buy\",\"stock\":\"INFY\",\"qty\":\"12\",\"type\":\"BO\",\"SL\":\"1234\",\"Target\":\"1234\",\"Price\":\"1234\",\"state\":\"idle\"}]\n"
     ]
    },
    {
     "name": "stdout",
     "output_type": "stream",
     "text": [
      "order_handler\n",
      "order_job_INFY\n",
      "order_job_INFY\n"
     ]
    },
    {
     "name": "stderr",
     "output_type": "stream",
     "text": [
      "02-18 21:11:20:INFO:\torder_handler: Trade in progress: publish command to INFY/cmd\n",
      "02-18 21:11:21:DEBUG:\torder_job: running: INFY\n",
      "02-18 21:11:21:INFO:\tINFY : running\n",
      "    cmd stock  qty type    SL  Target  Price state\n",
      "0  Buy  INFY   12   BO  1234    1234   1234  idle\n",
      "\n",
      "02-18 21:11:58:DEBUG:\torder_handler:data\n",
      "02-18 21:11:58:DEBUG:\torder_handler: [{\"cmd\":\"Buy\",\"stock\":\"INFY\",\"qty\":\"12\",\"type\":\"BO\",\"SL\":\"1234\",\"Target\":\"1234\",\"Price\":\"1234\",\"state\":\"idle\"}]\n"
     ]
    },
    {
     "name": "stdout",
     "output_type": "stream",
     "text": [
      "order_handler\n",
      "order_job_INFY\n",
      "order_job_INFY\n"
     ]
    },
    {
     "name": "stderr",
     "output_type": "stream",
     "text": [
      "02-18 21:11:58:INFO:\torder_handler: Trade in progress: publish command to INFY/cmd\n",
      "02-18 21:12:26:DEBUG:\torder_job: running: INFY\n",
      "02-18 21:12:26:INFO:\tINFY : running\n",
      "    cmd stock  qty type    SL  Target  Price state\n",
      "0  Buy  INFY   12   BO  1234    1234   1234  idle\n",
      "\n",
      "02-18 21:12:32:DEBUG:\torder_job: running: INFY\n",
      "02-18 21:12:32:DEBUG:\tExiting order_job_INFY\n",
      "02-18 21:12:39:DEBUG:\torder_handler:data\n",
      "02-18 21:12:39:DEBUG:\torder_handler: [{\"cmd\":\"Buy\",\"stock\":\"INFY\",\"qty\":\"12\",\"type\":\"BO\",\"SL\":\"1234\",\"Target\":\"1234\",\"Price\":\"1234\",\"state\":\"idle\"}]\n",
      "02-18 21:12:39:DEBUG:\tStarting order_job_INFY\n",
      "02-18 21:12:39:DEBUG:\torder_job: start: INFY\n",
      "   cmd stock  qty type    SL  Target  Price state\n",
      "0  Buy  INFY   12   BO  1234    1234   1234  idle\n",
      "02-18 21:12:39:DEBUG:\torder_job: running: INFY\n",
      "02-18 21:12:44:DEBUG:\torder_handler:data\n",
      "02-18 21:12:44:DEBUG:\torder_handler: [{\"cmd\":\"Buy\",\"stock\":\"INFY\",\"qty\":\"12\",\"type\":\"BO\",\"SL\":\"1234\",\"Target\":\"1234\",\"Price\":\"1234\",\"state\":\"idle\"}]\n"
     ]
    },
    {
     "name": "stdout",
     "output_type": "stream",
     "text": [
      "order_handler\n",
      "order_job_INFY\n",
      "order_job_INFY\n",
      "order_job_INFY\n"
     ]
    },
    {
     "name": "stderr",
     "output_type": "stream",
     "text": [
      "02-18 21:12:44:INFO:\torder_handler: Trade in progress: publish command to INFY/cmd\n",
      "02-18 21:13:19:DEBUG:\torder_job: running: INFY\n",
      "02-18 21:13:19:DEBUG:\tExiting order_job_INFY\n",
      "02-18 21:13:25:DEBUG:\torder_handler:cmd\n",
      "02-18 21:13:25:DEBUG:\tExiting order_handler\n"
     ]
    }
   ],
   "source": [
    "conn.delete('order_queue')\n",
    "orderManager = threadManager(\"orderManager\", [\"order_handler\"], [order_handler])    "
   ]
  },
  {
   "cell_type": "code",
   "execution_count": null,
   "metadata": {},
   "outputs": [],
   "source": []
  },
  {
   "cell_type": "code",
   "execution_count": 8,
   "metadata": {},
   "outputs": [],
   "source": [
    "import pandas as pd\n",
    "import json\n",
    "\n",
    "data={\n",
    "    'cmd':'Buy',\n",
    "    'stock':'INFY',\n",
    "    'qty':'12',\n",
    "    'type':'BO',\n",
    "    'SL':'1234',\n",
    "    'Target':'1234',\n",
    "    'Price':'1234',\n",
    "    'state':'idle'\n",
    "}\n",
    "\n",
    "df = pd.DataFrame(data=data, index=['stock'])\n",
    "json_data = df.to_json(orient='records')"
   ]
  },
  {
   "cell_type": "code",
   "execution_count": 9,
   "metadata": {},
   "outputs": [
    {
     "data": {
      "text/plain": [
       "'[{\"cmd\":\"Buy\",\"stock\":\"INFY\",\"qty\":\"12\",\"type\":\"BO\",\"SL\":\"1234\",\"Target\":\"1234\",\"Price\":\"1234\",\"state\":\"idle\"}]'"
      ]
     },
     "execution_count": 9,
     "metadata": {},
     "output_type": "execute_result"
    }
   ],
   "source": [
    "json_data"
   ]
  },
  {
   "cell_type": "code",
   "execution_count": 10,
   "metadata": {},
   "outputs": [
    {
     "data": {
      "text/plain": [
       "1"
      ]
     },
     "execution_count": 10,
     "metadata": {},
     "output_type": "execute_result"
    }
   ],
   "source": [
    "conn.delete(\"INFY_state\")"
   ]
  },
  {
   "cell_type": "code",
   "execution_count": 23,
   "metadata": {},
   "outputs": [
    {
     "data": {
      "text/plain": [
       "1"
      ]
     },
     "execution_count": 23,
     "metadata": {},
     "output_type": "execute_result"
    }
   ],
   "source": [
    "conn.publish('order_handler/data',json_data)\n",
    "#conn.publish('order_handler/data','swagatam')"
   ]
  },
  {
   "cell_type": "code",
   "execution_count": 20,
   "metadata": {},
   "outputs": [
    {
     "data": {
      "text/plain": [
       "1"
      ]
     },
     "execution_count": 20,
     "metadata": {},
     "output_type": "execute_result"
    }
   ],
   "source": [
    "conn.publish('INFY/cmd','info')"
   ]
  },
  {
   "cell_type": "code",
   "execution_count": 21,
   "metadata": {},
   "outputs": [
    {
     "data": {
      "text/plain": [
       "1"
      ]
     },
     "execution_count": 21,
     "metadata": {},
     "output_type": "execute_result"
    }
   ],
   "source": [
    "\n",
    "conn.publish('INFY/cmd','abort')"
   ]
  },
  {
   "cell_type": "code",
   "execution_count": 25,
   "metadata": {},
   "outputs": [
    {
     "data": {
      "text/plain": [
       "0"
      ]
     },
     "execution_count": 25,
     "metadata": {},
     "output_type": "execute_result"
    }
   ],
   "source": [
    "conn.publish('INFY/cmd','abort')\n",
    "conn.publish('SBI/cmd','abort')\n",
    "conn.publish('WIPRO/cmd','abort')"
   ]
  },
  {
   "cell_type": "code",
   "execution_count": 27,
   "metadata": {},
   "outputs": [
    {
     "data": {
      "text/plain": [
       "1"
      ]
     },
     "execution_count": 27,
     "metadata": {},
     "output_type": "execute_result"
    }
   ],
   "source": [
    "conn.publish('order_handler/cmd','stop')"
   ]
  },
  {
   "cell_type": "code",
   "execution_count": 28,
   "metadata": {},
   "outputs": [
    {
     "data": {
      "text/plain": [
       "[]"
      ]
     },
     "execution_count": 28,
     "metadata": {},
     "output_type": "execute_result"
    }
   ],
   "source": [
    "conn.pubsub_channels()"
   ]
  },
  {
   "cell_type": "code",
   "execution_count": 21,
   "metadata": {},
   "outputs": [
    {
     "data": {
      "text/plain": [
       "[('nifty/cmd', 0)]"
      ]
     },
     "execution_count": 21,
     "metadata": {},
     "output_type": "execute_result"
    }
   ],
   "source": [
    "conn.pubsub_numsub('nifty/cmd')"
   ]
  },
  {
   "cell_type": "code",
   "execution_count": null,
   "metadata": {},
   "outputs": [],
   "source": []
  },
  {
   "cell_type": "code",
   "execution_count": 32,
   "metadata": {},
   "outputs": [
    {
     "data": {
      "text/plain": [
       "False"
      ]
     },
     "execution_count": 32,
     "metadata": {},
     "output_type": "execute_result"
    }
   ],
   "source": [
    "jobs[1].is_alive()"
   ]
  },
  {
   "cell_type": "code",
   "execution_count": null,
   "metadata": {},
   "outputs": [],
   "source": []
  },
  {
   "cell_type": "code",
   "execution_count": null,
   "metadata": {},
   "outputs": [],
   "source": []
  },
  {
   "cell_type": "code",
   "execution_count": null,
   "metadata": {},
   "outputs": [],
   "source": [
    "from kiteconnect import KiteConnect\n",
    "from kiteconnect import KiteTicker"
   ]
  },
  {
   "cell_type": "code",
   "execution_count": null,
   "metadata": {},
   "outputs": [],
   "source": [
    "kite = KiteConnect(api_key=KiteAPIKey)\n",
    "reauthentication = False\n",
    "\n",
    "f = open(\"kite_data/access_token.txt\", mode=\"r\")\n",
    "access_token = f.readlines()\n",
    "logger.info(access_token[0])\n",
    "\n",
    "try:\n",
    "    kite.set_access_token(access_token[0])\n",
    "    logger.info(\"Welcome \"+kite.profile()['user_name'])\n",
    "except:\n",
    "    logger.critical(\"Offline Mode: Could not authenticate with the Kite Server\")\n",
    "    offline = True"
   ]
  },
  {
   "cell_type": "code",
   "execution_count": null,
   "metadata": {},
   "outputs": [],
   "source": [
    "try:\n",
    "    if exchange==\"\":\n",
    "        exchange = \"NSE\"\n",
    "except:\n",
    "    logging.debug(\"Exchange not defined: Using default NSE\")\n",
    "    exchange = \"NSE\"\n",
    "\n",
    "try:\n",
    "    instruments_df = getInstruments(exchange)\n",
    "    instruments_df.to_hdf('kite_data/kite_cache.h5', key=exchange, mode='a', format=\"table\")\n",
    "except:\n",
    "    logger.critical(\"Error in downloading instrument table from kite\")\n",
    "    \n",
    "try:\n",
    "    instruments_df = pd.read_hdf('kite_data/kite_cache.h5', key=exchange, mode='r', format=\"table\")\n",
    "\n",
    "    EQSYMBOL = lambda x:instruments_df[instruments_df['instrument_token']==x].index[0]\n",
    "    EQTOKEN = lambda x:instruments_df.loc[x,'instrument_token']\n",
    "except:\n",
    "    logger.critical(\"Error in reading h5 file\")"
   ]
  },
  {
   "cell_type": "code",
   "execution_count": null,
   "metadata": {},
   "outputs": [],
   "source": [
    "#logging.critical(\"BUY\"+symbol)\n",
    "def buy_slm(symbol, price, trigger,quantity=1): \n",
    "    logger.info('%12s'%\"BUY SLM: \"+symbol+\", price: \"+str('%0.2f'%price)+\", stoploss: \"+str('%0.2f'%stoploss)+\", quantity: \"+str(quantity))\n",
    "    \n",
    "    if papertrade:\n",
    "        return\n",
    "    \n",
    "    try:\n",
    "        order_id = kite.place_order(tradingsymbol=symbol,\n",
    "                                exchange=kite.EXCHANGE_NSE,\n",
    "                                transaction_type=kite.TRANSACTION_TYPE_BUY,\n",
    "                                quantity=quantity,\n",
    "                                order_type=kite.ORDER_TYPE_SLM,\n",
    "                                product=kite.PRODUCT_MIS,\n",
    "                                trigger_price=round(trigger,1),\n",
    "                                #stoploss=round(stoploss,1),\n",
    "                                #price=price,\n",
    "                                variety=kite.VARIETY_REGULAR\n",
    "                                )\n",
    "        logger.info(\"Order placed. ID is: {}\".format(order_id))\n",
    "    except Exception as e:\n",
    "        logger.info(\"Order placement failed: {}\".format(e.message))\n",
    "        \n",
    "def sell_slm(symbol, price, trigger, quantity=1):\n",
    "    \n",
    "    logger.info('%12s'%\"SELL SLM: \"+symbol+\", price: \"+str('%0.2f'%price)+\", stoploss: \"+str('%0.2f'%stoploss)+\", quantity: \"+str(quantity))\n",
    "       \n",
    "    if papertrade:\n",
    "         return\n",
    "    try:\n",
    "        order_id = kite.place_order(tradingsymbol=symbol,\n",
    "                            exchange=kite.EXCHANGE_NSE,\n",
    "                            transaction_type=kite.TRANSACTION_TYPE_SELL,\n",
    "                            quantity=quantity,\n",
    "                            order_type=kite.ORDER_TYPE_SLM,\n",
    "                            product=kite.PRODUCT_MIS,\n",
    "                            trigger_price=round(trigger,1),\n",
    "                            #price=price,\n",
    "                            variety=kite.VARIETY_REGULAR)\n",
    "        logger.info(\"Order placed. ID is: {}\".format(order_id))\n",
    "    except Exception as e:\n",
    "        logger.info(\"Order placement failed: {}\".format(e.message))\n",
    "\n",
    "def buy_bo(symbol, price, trigger, stoploss, squareoff, quantity=1, tag=\"bot\"): \n",
    "    logger.info('%12s'%\"BUY BO: \"+symbol+\", price: \"+str('%0.2f'%price)+\", squareoff: \"+str('%0.2f'%squareoff)+\", stoploss: \"+str('%0.2f'%stoploss)+\", quantity: \"+str(quantity))\n",
    "    if papertrade:\n",
    "        return\n",
    "    \n",
    "    try:\n",
    "        order_id = kite.place_order(tradingsymbol=symbol, exchange=kite.EXCHANGE_NSE, transaction_type=kite.TRANSACTION_TYPE_BUY,\n",
    "                        order_type=kite.ORDER_TYPE_LIMIT, product=kite.PRODUCT_MIS, variety=kite.VARIETY_BO, \n",
    "                                quantity=quantity, trigger_price=trigger, price=price,\n",
    "                                squareoff=squareoff,  stoploss=stoploss, tag=tag )\n",
    "        logger.info(\"Order placed. ID is: {}\".format(order_id))\n",
    "    except Exception as e:\n",
    "        logger.info(\"Order placement failed: {}\".format(e.message))\n",
    "\n",
    "\n",
    "\n",
    "def sell_bo(symbol, price, trigger, stoploss, squareoff, quantity=1, tag=\"bot\"): \n",
    "    logger.info('%12s'%\"SELL BO: \"+symbol+\", price: \"+str('%0.2f'%price)+\", squareoff: \"+str('%0.2f'%squareoff)+\", stoploss: \"+str('%0.2f'%stoploss)+\", quantity: \"+str(quantity))\n",
    "    if papertrade:\n",
    "        return\n",
    "    \n",
    "    try:\n",
    "        order_id = kite.place_order(tradingsymbol=symbol, exchange=kite.EXCHANGE_NSE, transaction_type=kite.TRANSACTION_TYPE_SELL,\n",
    "                                order_type=kite.ORDER_TYPE_LIMIT, product=kite.PRODUCT_MIS, variety=kite.VARIETY_BO,\n",
    "                                quantity=quantity, trigger_price=trigger, price=price,\n",
    "                                stoploss=stoploss, squareoff=squareoff,  tag=tag )\n",
    "        logger.info(\"Order placed. ID is: {}\".format(order_id))\n",
    "    except Exception as e:\n",
    "        logger.info(\"Order placement failed: {}\".format(e.message))\n",
    "        \n",
    "def getOrders():    \n",
    "    # Fetch all orders\n",
    "    return pd.DataFrame(kite.orders())\n",
    "\n",
    "def cancelOrder(orderId):\n",
    "    if papertrade:\n",
    "        logging.critical(\"In Paper Trade Mode: Order cancellation not possible\")\n",
    "        return\n",
    "    \n",
    "    try:\n",
    "        kite.cancel_order(variety=kite.VARIETY_REGULAR, order_id=orderId, parent_order_id=None)    \n",
    "    except Exception as e:\n",
    "        logger.info(\"Order Cancellation failed: {}\".format(e.message))\n",
    "        \n",
    "def squareoff(symbol=None, tag=\"bot\"):\n",
    "    logger.info('%12s'%\"Squareoff: \"+symbol)\n",
    "    if papertrade:\n",
    "        return\n",
    "    \n",
    "    orders_df = pd.DataFrame(kite.orders())\n",
    "    if symbol != None:\n",
    "        open_orders = orders_df[(orders_df['tradingsymbol']==symbol) & (orders_df['status'] == 'TRIGGER PENDING')  & (orders_df['tag'] == tag)]\n",
    "    else:\n",
    "        open_orders = orders_df[(orders_df['status'] == 'TRIGGER PENDING')  & (orders_df['tag'] == tag)]\n",
    "        \n",
    "    for index, row in open_orders.iterrows():\n",
    "        print(row.order_id, row.parent_order_id)\n",
    "        #kite.exit_order(variety=kite.VARIETY_AMO, order_id=row.order_id, parent_order_id=row.parent_order_id)\n",
    "        kite.exit_order(variety=kite.VARIETY_BO, order_id=order_id, parent_order_id=parent_order_id)\n"
   ]
  },
  {
   "cell_type": "code",
   "execution_count": null,
   "metadata": {},
   "outputs": [],
   "source": [
    "def resample(ws, freq=\"1min\"):\n",
    "    #F = open(\"kite_data/recommendation.csv\",\"a\") \n",
    "    \n",
    "    logging.debug(str(ws.prevtimeStamp)+\": In resampler function\")\n",
    "    \n",
    "    if ws.LiveStream.empty:\n",
    "        logging.debug(str(ws.prevtimeStamp)+\": Empty dataframe, Exiting resampler\")\n",
    "        return\n",
    "      \n",
    "    LiveStream2 = ws.LiveStream.groupby(['symbol','date']).agg({'price':['first','max','min','last'], 'volume':['last']})\n",
    "    LiveStream2.columns = LiveStream2.columns.droplevel()\n",
    "    LiveStream2.columns = ['open', 'high','low','close', 'volume']\n",
    "\n",
    "    for index, data in LiveStream2.groupby(level=0):\n",
    "        sampled = data.loc[index].resample(freq).agg({'open':{'open':'first'},'high':{'high':'max'},'low':{'low':'min'},'close':{'close':'last'},'volume':{'volume':'last'}})\n",
    "        sampled.columns = sampled.columns.droplevel()\n",
    "        logger.debug(index)\n",
    "        \n",
    "        sampled['volume'] = sampled['volume'] - sampled['volume'].shift(1) \n",
    "        sampled['symbol'] = index\n",
    "        sampled.set_index(['symbol',sampled.index], inplace=True)\n",
    "        #logger.debug(sampled.tail())\n",
    "\n",
    "        ws.LiveStreamOHLC = ws.LiveStreamOHLC.append(sampled.iloc[-1])\n",
    "        \n",
    "    #ws.LiveStreamOHLC.to_csv(\"kite_data/livestreamohlc.csv\", mode='a')\n",
    "\n",
    "    for symbol in portfolio[0]:\n",
    "        #symbol = portfolio[0].iloc[-1]\n",
    "        temp_ohlc_df = ws.LiveStreamOHLC.loc[symbol].tail(120)\n",
    "        ws.tradebook_df.loc[symbol,'symbol'].trade_manager(symbol, temp_ohlc_df)\n",
    "    \n",
    "    \n",
    "def ticksHandler(ws, ticks):\n",
    "    #timeStamp = dt.datetime.now().replace(second=0, microsecond=0)\n",
    "    tick_df = pd.DataFrame(ticks)\n",
    "    \n",
    "    try:\n",
    "        #tick_df.loc[tick_df['timestamp'].isna(), 'timestamp'] = timeStamp\n",
    "        tick_df = tick_df[['timestamp','instrument_token','last_price','volume']]\n",
    "        tick_df.instrument_token = tick_df.instrument_token.apply(EQSYMBOL)\n",
    "        tick_df.columns = ['date','symbol','price','volume']\n",
    "        tick_df.set_index(['symbol','date'], inplace=True)\n",
    "        \n",
    "        timeStamp = tick_df.index[0][-1].to_pydatetime()\n",
    "        \n",
    "    except  Exception as e:\n",
    "        logging.debug(\"Exception: ticksHandler: \"+str(e)+str(tick_df))\n",
    "        \n",
    "    if( (timeStamp - ws.prevtimeStamp) >= dt.timedelta(minutes=1)):\n",
    "        ws.prevtimeStamp = timeStamp\n",
    "        resample(ws)\n",
    "    \n",
    "    ws.LiveStream = ws.LiveStream.append(tick_df)\n",
    "\n",
    "def orderNotification(ws,data):\n",
    "    #logger.debug(data)\n",
    "    order_df = pd.DataFrame.from_dict(data, orient='index')\n",
    "\n",
    "    symbol = order_df.loc['tradingsymbol'][0]\n",
    "    \n",
    "    ws.tradebook_df.loc[symbol,'symbol'].update_order(order_df)\n",
    "    #logger.debug(order_df)\n",
    "\n",
    "def initTrade(ws):\n",
    "    ws.prevtimeStamp = dt.datetime.now() - dt.timedelta(minutes=10)\n",
    "    toDate = dt.datetime.now()\n",
    "    \n",
    "    ws.tradebook_df = pd.DataFrame()\n",
    "    \n",
    "    for symbol in portfolio[0]:\n",
    "        temp_df = pd.DataFrame(data=[algoTrade(symbol)], index=[symbol], columns=['symbol'])\n",
    "        ws.tradebook_df = ws.tradebook_df.append(temp_df)\n",
    "        \n",
    "    #TODO: Convert to multistock handling\n",
    "    #symbol = portfolio[0].iloc[-1]\n",
    "    #ws.a = algoTrade(symbol)\n",
    "    \n",
    "    ws.LiveStream = pd.DataFrame()\n",
    "    ws.LiveStreamOHLC = pd.DataFrame()\n",
    "    ws.LiveStreamOHLC = portfolioDownload(portfolio, toDate)\n",
    "    "
   ]
  },
  {
   "cell_type": "code",
   "execution_count": null,
   "metadata": {},
   "outputs": [],
   "source": [
    "def on_ticks(ws, ticks):\n",
    "    # Callback to receive ticks.\n",
    "    #logging.debug(\"Ticks: {}\".format(ticks))\n",
    "    ticksHandler(ws, ticks)\n",
    "\n",
    "\n",
    "def on_connect(ws, response):\n",
    "    initTrade(ws)\n",
    "    logger.debug(portfolioToken)\n",
    "    # Callback on successful connect.\n",
    "    # Subscribe to a list of instrument_tokens (RELIANCE and ACC here).\n",
    "    #ws.subscribe(portfolioToken)\n",
    "\n",
    "    ws.subscribe(portfolioToken)\n",
    "    \n",
    "    # Set RELIANCE to tick in `full` mode.\n",
    "    # MODE_LTP, MODE_QUOTE, or MODE_FULL\n",
    "\n",
    "    ws.set_mode(ws.MODE_FULL, portfolioToken)\n",
    "    #ws.set_mode(ws.MODE_FULL, [225537]) \n",
    "    #ws.set_mode(ws.MODE_LTP, [225537, 3861249]) \n",
    "    #ws.set_mode(ws.MODE_MODE_QUOTE, [2714625,779521]) \n",
    "\n",
    "def on_close(ws, code, reason):\n",
    "    # On connection close stop the main loop\n",
    "    # Reconnection will not happen after executing `ws.stop()`\n",
    "    ws.stop()\n",
    "\n",
    "def on_order_update(ws, data):\n",
    "    #logger.info(\"New Order Update\")\n",
    "    orderNotification(ws,data)"
   ]
  },
  {
   "cell_type": "code",
   "execution_count": null,
   "metadata": {},
   "outputs": [],
   "source": []
  },
  {
   "cell_type": "code",
   "execution_count": null,
   "metadata": {},
   "outputs": [],
   "source": []
  },
  {
   "cell_type": "code",
   "execution_count": null,
   "metadata": {},
   "outputs": [],
   "source": []
  },
  {
   "cell_type": "code",
   "execution_count": null,
   "metadata": {},
   "outputs": [],
   "source": []
  },
  {
   "cell_type": "code",
   "execution_count": null,
   "metadata": {},
   "outputs": [],
   "source": []
  },
  {
   "cell_type": "code",
   "execution_count": null,
   "metadata": {},
   "outputs": [],
   "source": []
  }
 ],
 "metadata": {
  "kernelspec": {
   "display_name": "Python 3",
   "language": "python",
   "name": "python3"
  },
  "language_info": {
   "codemirror_mode": {
    "name": "ipython",
    "version": 3
   },
   "file_extension": ".py",
   "mimetype": "text/x-python",
   "name": "python",
   "nbconvert_exporter": "python",
   "pygments_lexer": "ipython3",
   "version": "3.7.6"
  }
 },
 "nbformat": 4,
 "nbformat_minor": 4
}
