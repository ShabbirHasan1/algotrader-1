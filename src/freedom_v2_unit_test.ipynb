{
 "cells": [
  {
   "cell_type": "code",
   "execution_count": 1,
   "metadata": {},
   "outputs": [],
   "source": [
    "%load_ext autoreload\n",
    "%autoreload 2"
   ]
  },
  {
   "cell_type": "code",
   "execution_count": 2,
   "metadata": {},
   "outputs": [],
   "source": []
  },
  {
   "cell_type": "code",
   "execution_count": 3,
   "metadata": {},
   "outputs": [
    {
     "data": {
      "text/plain": [
       "['default']"
      ]
     },
     "execution_count": 3,
     "metadata": {},
     "output_type": "execute_result"
    }
   ],
   "source": [
    "redis_conn.hkeys('algos')"
   ]
  },
  {
   "cell_type": "code",
   "execution_count": null,
   "metadata": {},
   "outputs": [],
   "source": []
  },
  {
   "cell_type": "code",
   "execution_count": 267,
   "metadata": {
    "scrolled": false
   },
   "outputs": [
    {
     "name": "stderr",
     "output_type": "stream",
     "text": [
      "DEBUG:\tCache initialized for: backtest_uni\n",
      "DEBUG:\tCache initialized for: backtest_uni\n",
      "INFO:\tStarting Handler: kite_simulator\n",
      "INFO:\tStarting Handler: ohlc_tick_handler\n"
     ]
    },
    {
     "name": "stdout",
     "output_type": "stream",
     "text": [
      "True\n",
      "['tick_resamplerlive', 'ohlc_tick_handlerlive', 'ohlc_tick_handlerbacktest_web', 'order_handlerlive', 'kite_simulatorbacktest_web', 'freedom_initfreedom']\n",
      "[<Process(Process-54, stopped[SIGTERM])>, <Process(Process-55, stopped[SIGTERM])>, <Process(Process-56, stopped[SIGTERM])>, <Process(Process-57, stopped[SIGTERM])>, <Process(Process-58, started)>]\n"
     ]
    },
    {
     "name": "stderr",
     "output_type": "stream",
     "text": [
      "DEBUG:\tkite_simulator: 1\n",
      "ERROR:\tkite_simulator: Invalid msg: 1\n",
      "DEBUG:\tkite_simulator: {\"stock\": [\"TCS\"], \"sl\": 1, \"target\": 1, \"qty\": 10, \"algo\": \"haikin_1\", \"fromDate\": \"2019-5-2\", \"toDate\": \"2019-5-3\", \"freq\": \"1T\"}\n",
      "DEBUG:\tTrade_init: TCS\n",
      "INFO:\tTCSbacktest_uni=>{'stock': 'TCS', 'qty': '0', 'SL %': '0.0', 'TP %': '0.0', 'amount': '0', 'price': '0.0', 'P&L': '0.0', 'P&L %': '0.0', 'Total P&L': '0.0', 'Total P&L %': '0.0', 'low': '0.0', 'sl': '0.0', 'ltp': '0.0', 'ltp %': '0.0', 'tp': '0.0', 'high': '0.0', 'last_processed': '1999-01-01', 'state': 'INIT', 'mode': 'PAUSE', 'algo': '', 'freq': '1D', 'hdf_freq': 'day'}\n",
      "INFO:\tKite_Simulator: Done: 1500\n",
      "TRADE: B: EN:  : 2019-05-02 09:34 : TCS -> 2239.0\n",
      "TRADE: S: EX:  : 2019-05-02 09:52 : TCS -> 2239.45\n",
      "TRADE: B: EN:  : 2019-05-02 09:59 : TCS -> 2236.9\n",
      "TRADE: S: EX:  : 2019-05-02 10:19 : TCS -> 2249.9\n",
      "TRADE: B: EN:  : 2019-05-02 10:31 : TCS -> 2238.05\n",
      "TRADE: S: EX:  : 2019-05-02 10:50 : TCS -> 2233.9\n",
      "TRADE: B: EN:  : 2019-05-02 11:05 : TCS -> 2228.45\n",
      "TRADE: S: EX:  : 2019-05-02 11:59 : TCS -> 2220.0\n",
      "TRADE: S: EN:  : 2019-05-02 12:05 : TCS -> 2219.95\n",
      "TRADE: B: EX:  : 2019-05-02 12:17 : TCS -> 2215.6\n",
      "TRADE: S: EN:  : 2019-05-02 12:26 : TCS -> 2215.3\n",
      "TRADE: B: EX:  : 2019-05-02 12:35 : TCS -> 2215.0\n",
      "TRADE: S: EN:  : 2019-05-02 12:45 : TCS -> 2217.0\n",
      "TRADE: B: EX:  : 2019-05-02 12:47 : TCS -> 2218.7\n",
      "TRADE: S: EN:  : 2019-05-02 12:52 : TCS -> 2219.7\n",
      "TRADE: B: EX:  : 2019-05-02 13:16 : TCS -> 2218.1\n",
      "TRADE: S: EN:  : 2019-05-02 13:20 : TCS -> 2219.7\n",
      "TRADE: B: EX:  : 2019-05-02 13:40 : TCS -> 2219.0\n",
      "TRADE: S: EN:  : 2019-05-02 13:51 : TCS -> 2219.45\n",
      "TRADE: B: EX:  : 2019-05-02 14:21 : TCS -> 2225.9\n",
      "TRADE: B: EN:  : 2019-05-02 14:28 : TCS -> 2221.0\n",
      "TRADE: S: EX:  : 2019-05-02 14:35 : TCS -> 2223.0\n",
      "TRADE: S: EN:  : 2019-05-02 14:37 : TCS -> 2221.65\n",
      "TRADE: B: EX:  : 2019-05-02 14:43 : TCS -> 2219.35\n",
      "TRADE: B: EN:  : 2019-05-02 14:54 : TCS -> 2219.5\n",
      "TRADE: S: EX:  : 2019-05-02 15:07 : TCS -> 2216.5\n",
      "ERROR:\tUn-supported message: 1500: ('1588999555555-0', {'data': '\"done\"'})\n"
     ]
    }
   ],
   "source": [
    "######################\n",
    "# Initiate Backtest  #\n",
    "######################\n",
    "from lib.multitasking_lib import *\n",
    "cache_type ='backtest_uni'\n",
    "my_cache = cache_state('backtest_uni')\n",
    "#my_cache.flushall()\n",
    "def backtest_unitest(stocks):\n",
    "    stocks = stocks\n",
    "    sl = 1\n",
    "    target = 1\n",
    "    qty = 10\n",
    "    algo = \"\"\n",
    "    fromDate = '2019-5-2'\n",
    "    toDate = '2019-5-3'\n",
    "    freq = '1T'\n",
    "    algo_name = 'haikin_1'\n",
    "    backtest_msg={'stock':stocks,'sl':sl,'target':target,'qty':qty,'algo':algo_name,'fromDate':fromDate,'toDate':toDate,'freq':freq}\n",
    "\n",
    "    try:\n",
    "        store_algo(algo, algo_name)\n",
    "    except:\n",
    "        perror('Something went wrong while saving algo')\n",
    "\n",
    "    #pdebug1(backtest_msg)\n",
    "    # Step 2: Store the stock name under backtest in the redis cache\n",
    "    for stock in stocks:\n",
    "        redis_conn.set('stock',stock) #TODO: replace\n",
    "\n",
    "    # Step 4: Done is set to 0: Backtest is in progress, will be resetted by backtest job\n",
    "    redis_conn.set('done'+cache_type,0)\n",
    "    # Step 5: Send the msg to backtest thread to initiate the back test\n",
    "    #pdebug(json.dumps(backtest_msg))\n",
    "    redis_conn.publish('kite_simulator'+cache_type,json.dumps(backtest_msg))\n",
    "    \n",
    "##########################\n",
    "# Unit Test              #\n",
    "##########################\n",
    "\n",
    "open('log/freedom.log','r+')\n",
    "#log_file.close()\n",
    "\n",
    "logger.setLevel(10)\n",
    "loggerT.setLevel(21)\n",
    "redis_conn.set('done'+cache_type,1)\n",
    "\n",
    "try:\n",
    "    if backtest_manager.job.is_alive():\n",
    "        backtest_manager.job.terminate()\n",
    "        time.sleep(0.1)\n",
    "except:\n",
    "    pass\n",
    "finally:\n",
    "    backtest_manager = threadManager(cache_type, [\"kite_simulator\",\"ohlc_tick_handler\"], [kite_simulator, ohlc_tick_handler])\n",
    "    \n",
    "print(backtest_manager.job.is_alive())\n",
    "print(redis_conn.pubsub_channels())\n",
    "print(jobs)\n"
   ]
  },
  {
   "cell_type": "code",
   "execution_count": 268,
   "metadata": {
    "scrolled": true
   },
   "outputs": [
    {
     "name": "stderr",
     "output_type": "stream",
     "text": [
      "ERROR:\tSomething went wrong while saving algo\n"
     ]
    }
   ],
   "source": [
    "backtest_unitest(['TCS'])"
   ]
  },
  {
   "cell_type": "code",
   "execution_count": 249,
   "metadata": {},
   "outputs": [
    {
     "data": {
      "text/plain": [
       "True"
      ]
     },
     "execution_count": 249,
     "metadata": {},
     "output_type": "execute_result"
    }
   ],
   "source": [
    "my_cache.delete('msgBufferQueue'+cache_postfix)\n",
    "my_cache.set('TCSbacktest_uniTICK',pd.DataFrame().to_json())"
   ]
  },
  {
   "cell_type": "code",
   "execution_count": 266,
   "metadata": {},
   "outputs": [
    {
     "data": {
      "text/plain": [
       "['tick_resamplerlive',\n",
       " 'ohlc_tick_handlerlive',\n",
       " 'ohlc_tick_handlerbacktest_web',\n",
       " 'order_handlerlive',\n",
       " 'kite_simulatorbacktest_web',\n",
       " 'freedom_initfreedom']"
      ]
     },
     "execution_count": 266,
     "metadata": {},
     "output_type": "execute_result"
    }
   ],
   "source": [
    "if backtest_manager.job.is_alive():\n",
    "    backtest_manager.job.terminate()\n",
    "backtest_manager.job.is_alive()\n",
    "redis_conn.pubsub_channels()"
   ]
  },
  {
   "cell_type": "code",
   "execution_count": 17,
   "metadata": {},
   "outputs": [],
   "source": [
    "backtest_unitest(['TCS'])"
   ]
  },
  {
   "cell_type": "code",
   "execution_count": null,
   "metadata": {},
   "outputs": [],
   "source": [
    "backtest_unitest(['WIPRO','TCS'])"
   ]
  },
  {
   "cell_type": "code",
   "execution_count": 258,
   "metadata": {
    "scrolled": true
   },
   "outputs": [
    {
     "data": {
      "text/html": [
       "<div>\n",
       "<style scoped>\n",
       "    .dataframe tbody tr th:only-of-type {\n",
       "        vertical-align: middle;\n",
       "    }\n",
       "\n",
       "    .dataframe tbody tr th {\n",
       "        vertical-align: top;\n",
       "    }\n",
       "\n",
       "    .dataframe thead th {\n",
       "        text-align: right;\n",
       "    }\n",
       "</style>\n",
       "<table border=\"1\" class=\"dataframe\">\n",
       "  <thead>\n",
       "    <tr style=\"text-align: right;\">\n",
       "      <th></th>\n",
       "      <th>close</th>\n",
       "      <th>high</th>\n",
       "      <th>low</th>\n",
       "      <th>open</th>\n",
       "    </tr>\n",
       "  </thead>\n",
       "  <tbody>\n",
       "    <tr>\n",
       "      <th>2018-11-05</th>\n",
       "      <td>1890.85</td>\n",
       "      <td>1927.35</td>\n",
       "      <td>1884.75</td>\n",
       "      <td>1910.0</td>\n",
       "    </tr>\n",
       "    <tr>\n",
       "      <th>2018-11-06</th>\n",
       "      <td>1932.70</td>\n",
       "      <td>1937.50</td>\n",
       "      <td>1891.00</td>\n",
       "      <td>1894.0</td>\n",
       "    </tr>\n",
       "    <tr>\n",
       "      <th>2018-11-07</th>\n",
       "      <td>1942.15</td>\n",
       "      <td>1949.00</td>\n",
       "      <td>1937.00</td>\n",
       "      <td>1940.0</td>\n",
       "    </tr>\n",
       "    <tr>\n",
       "      <th>2018-11-09</th>\n",
       "      <td>1909.20</td>\n",
       "      <td>1961.95</td>\n",
       "      <td>1905.00</td>\n",
       "      <td>1961.0</td>\n",
       "    </tr>\n",
       "    <tr>\n",
       "      <th>2018-11-12</th>\n",
       "      <td>1914.85</td>\n",
       "      <td>1946.10</td>\n",
       "      <td>1908.50</td>\n",
       "      <td>1908.5</td>\n",
       "    </tr>\n",
       "    <tr>\n",
       "      <th>...</th>\n",
       "      <td>...</td>\n",
       "      <td>...</td>\n",
       "      <td>...</td>\n",
       "      <td>...</td>\n",
       "    </tr>\n",
       "    <tr>\n",
       "      <th>2019-04-16</th>\n",
       "      <td>2131.80</td>\n",
       "      <td>2155.95</td>\n",
       "      <td>2115.55</td>\n",
       "      <td>2120.0</td>\n",
       "    </tr>\n",
       "    <tr>\n",
       "      <th>2019-04-18</th>\n",
       "      <td>2150.05</td>\n",
       "      <td>2155.00</td>\n",
       "      <td>2114.20</td>\n",
       "      <td>2149.9</td>\n",
       "    </tr>\n",
       "    <tr>\n",
       "      <th>2019-04-22</th>\n",
       "      <td>2161.45</td>\n",
       "      <td>2176.00</td>\n",
       "      <td>2145.60</td>\n",
       "      <td>2148.0</td>\n",
       "    </tr>\n",
       "    <tr>\n",
       "      <th>2019-04-23</th>\n",
       "      <td>2155.05</td>\n",
       "      <td>2165.50</td>\n",
       "      <td>2134.05</td>\n",
       "      <td>2163.0</td>\n",
       "    </tr>\n",
       "    <tr>\n",
       "      <th>2019-04-24</th>\n",
       "      <td>2156.10</td>\n",
       "      <td>2195.00</td>\n",
       "      <td>2156.10</td>\n",
       "      <td>2158.0</td>\n",
       "    </tr>\n",
       "  </tbody>\n",
       "</table>\n",
       "<p>116 rows × 4 columns</p>\n",
       "</div>"
      ],
      "text/plain": [
       "              close     high      low    open\n",
       "2018-11-05  1890.85  1927.35  1884.75  1910.0\n",
       "2018-11-06  1932.70  1937.50  1891.00  1894.0\n",
       "2018-11-07  1942.15  1949.00  1937.00  1940.0\n",
       "2018-11-09  1909.20  1961.95  1905.00  1961.0\n",
       "2018-11-12  1914.85  1946.10  1908.50  1908.5\n",
       "...             ...      ...      ...     ...\n",
       "2019-04-16  2131.80  2155.95  2115.55  2120.0\n",
       "2019-04-18  2150.05  2155.00  2114.20  2149.9\n",
       "2019-04-22  2161.45  2176.00  2145.60  2148.0\n",
       "2019-04-23  2155.05  2165.50  2134.05  2163.0\n",
       "2019-04-24  2156.10  2195.00  2156.10  2158.0\n",
       "\n",
       "[116 rows x 4 columns]"
      ]
     },
     "execution_count": 258,
     "metadata": {},
     "output_type": "execute_result"
    }
   ],
   "source": [
    "my_cache.getOHLC('TCS')"
   ]
  },
  {
   "cell_type": "code",
   "execution_count": 269,
   "metadata": {},
   "outputs": [
    {
     "data": {
      "text/html": [
       "<div>\n",
       "<style scoped>\n",
       "    .dataframe tbody tr th:only-of-type {\n",
       "        vertical-align: middle;\n",
       "    }\n",
       "\n",
       "    .dataframe tbody tr th {\n",
       "        vertical-align: top;\n",
       "    }\n",
       "\n",
       "    .dataframe thead th {\n",
       "        text-align: right;\n",
       "    }\n",
       "</style>\n",
       "<table border=\"1\" class=\"dataframe\">\n",
       "  <thead>\n",
       "    <tr style=\"text-align: right;\">\n",
       "      <th></th>\n",
       "      <th>buy</th>\n",
       "      <th>mode</th>\n",
       "      <th>sell</th>\n",
       "    </tr>\n",
       "  </thead>\n",
       "  <tbody>\n",
       "    <tr>\n",
       "      <th>2019-05-02 09:34:00</th>\n",
       "      <td>2239.00</td>\n",
       "      <td>B: EN:</td>\n",
       "      <td>NaN</td>\n",
       "    </tr>\n",
       "    <tr>\n",
       "      <th>2019-05-02 09:52:00</th>\n",
       "      <td>NaN</td>\n",
       "      <td>S: EX:</td>\n",
       "      <td>2239.45</td>\n",
       "    </tr>\n",
       "    <tr>\n",
       "      <th>2019-05-02 09:59:00</th>\n",
       "      <td>2236.90</td>\n",
       "      <td>B: EN:</td>\n",
       "      <td>NaN</td>\n",
       "    </tr>\n",
       "    <tr>\n",
       "      <th>2019-05-02 10:19:00</th>\n",
       "      <td>NaN</td>\n",
       "      <td>S: EX:</td>\n",
       "      <td>2249.90</td>\n",
       "    </tr>\n",
       "    <tr>\n",
       "      <th>2019-05-02 10:31:00</th>\n",
       "      <td>2238.05</td>\n",
       "      <td>B: EN:</td>\n",
       "      <td>NaN</td>\n",
       "    </tr>\n",
       "    <tr>\n",
       "      <th>2019-05-02 10:50:00</th>\n",
       "      <td>NaN</td>\n",
       "      <td>S: EX:</td>\n",
       "      <td>2233.90</td>\n",
       "    </tr>\n",
       "    <tr>\n",
       "      <th>2019-05-02 11:05:00</th>\n",
       "      <td>2228.45</td>\n",
       "      <td>B: EN:</td>\n",
       "      <td>NaN</td>\n",
       "    </tr>\n",
       "    <tr>\n",
       "      <th>2019-05-02 11:59:00</th>\n",
       "      <td>NaN</td>\n",
       "      <td>S: EX:</td>\n",
       "      <td>2220.00</td>\n",
       "    </tr>\n",
       "    <tr>\n",
       "      <th>2019-05-02 12:05:00</th>\n",
       "      <td>NaN</td>\n",
       "      <td>S: EN:</td>\n",
       "      <td>2219.95</td>\n",
       "    </tr>\n",
       "    <tr>\n",
       "      <th>2019-05-02 12:17:00</th>\n",
       "      <td>2215.60</td>\n",
       "      <td>B: EX:</td>\n",
       "      <td>NaN</td>\n",
       "    </tr>\n",
       "    <tr>\n",
       "      <th>2019-05-02 12:26:00</th>\n",
       "      <td>NaN</td>\n",
       "      <td>S: EN:</td>\n",
       "      <td>2215.30</td>\n",
       "    </tr>\n",
       "    <tr>\n",
       "      <th>2019-05-02 12:35:00</th>\n",
       "      <td>2215.00</td>\n",
       "      <td>B: EX:</td>\n",
       "      <td>NaN</td>\n",
       "    </tr>\n",
       "    <tr>\n",
       "      <th>2019-05-02 12:45:00</th>\n",
       "      <td>NaN</td>\n",
       "      <td>S: EN:</td>\n",
       "      <td>2217.00</td>\n",
       "    </tr>\n",
       "    <tr>\n",
       "      <th>2019-05-02 12:47:00</th>\n",
       "      <td>2218.70</td>\n",
       "      <td>B: EX:</td>\n",
       "      <td>NaN</td>\n",
       "    </tr>\n",
       "    <tr>\n",
       "      <th>2019-05-02 12:52:00</th>\n",
       "      <td>NaN</td>\n",
       "      <td>S: EN:</td>\n",
       "      <td>2219.70</td>\n",
       "    </tr>\n",
       "    <tr>\n",
       "      <th>2019-05-02 13:16:00</th>\n",
       "      <td>2218.10</td>\n",
       "      <td>B: EX:</td>\n",
       "      <td>NaN</td>\n",
       "    </tr>\n",
       "    <tr>\n",
       "      <th>2019-05-02 13:20:00</th>\n",
       "      <td>NaN</td>\n",
       "      <td>S: EN:</td>\n",
       "      <td>2219.70</td>\n",
       "    </tr>\n",
       "    <tr>\n",
       "      <th>2019-05-02 13:40:00</th>\n",
       "      <td>2219.00</td>\n",
       "      <td>B: EX:</td>\n",
       "      <td>NaN</td>\n",
       "    </tr>\n",
       "    <tr>\n",
       "      <th>2019-05-02 13:51:00</th>\n",
       "      <td>NaN</td>\n",
       "      <td>S: EN:</td>\n",
       "      <td>2219.45</td>\n",
       "    </tr>\n",
       "    <tr>\n",
       "      <th>2019-05-02 14:21:00</th>\n",
       "      <td>2225.90</td>\n",
       "      <td>B: EX:</td>\n",
       "      <td>NaN</td>\n",
       "    </tr>\n",
       "    <tr>\n",
       "      <th>2019-05-02 14:28:00</th>\n",
       "      <td>2221.00</td>\n",
       "      <td>B: EN:</td>\n",
       "      <td>NaN</td>\n",
       "    </tr>\n",
       "    <tr>\n",
       "      <th>2019-05-02 14:35:00</th>\n",
       "      <td>NaN</td>\n",
       "      <td>S: EX:</td>\n",
       "      <td>2223.00</td>\n",
       "    </tr>\n",
       "    <tr>\n",
       "      <th>2019-05-02 14:37:00</th>\n",
       "      <td>NaN</td>\n",
       "      <td>S: EN:</td>\n",
       "      <td>2221.65</td>\n",
       "    </tr>\n",
       "    <tr>\n",
       "      <th>2019-05-02 14:43:00</th>\n",
       "      <td>2219.35</td>\n",
       "      <td>B: EX:</td>\n",
       "      <td>NaN</td>\n",
       "    </tr>\n",
       "    <tr>\n",
       "      <th>2019-05-02 14:54:00</th>\n",
       "      <td>2219.50</td>\n",
       "      <td>B: EN:</td>\n",
       "      <td>NaN</td>\n",
       "    </tr>\n",
       "    <tr>\n",
       "      <th>2019-05-02 15:07:00</th>\n",
       "      <td>NaN</td>\n",
       "      <td>S: EX:</td>\n",
       "      <td>2216.50</td>\n",
       "    </tr>\n",
       "  </tbody>\n",
       "</table>\n",
       "</div>"
      ],
      "text/plain": [
       "                         buy     mode     sell\n",
       "2019-05-02 09:34:00  2239.00  B: EN:       NaN\n",
       "2019-05-02 09:52:00      NaN  S: EX:   2239.45\n",
       "2019-05-02 09:59:00  2236.90  B: EN:       NaN\n",
       "2019-05-02 10:19:00      NaN  S: EX:   2249.90\n",
       "2019-05-02 10:31:00  2238.05  B: EN:       NaN\n",
       "2019-05-02 10:50:00      NaN  S: EX:   2233.90\n",
       "2019-05-02 11:05:00  2228.45  B: EN:       NaN\n",
       "2019-05-02 11:59:00      NaN  S: EX:   2220.00\n",
       "2019-05-02 12:05:00      NaN  S: EN:   2219.95\n",
       "2019-05-02 12:17:00  2215.60  B: EX:       NaN\n",
       "2019-05-02 12:26:00      NaN  S: EN:   2215.30\n",
       "2019-05-02 12:35:00  2215.00  B: EX:       NaN\n",
       "2019-05-02 12:45:00      NaN  S: EN:   2217.00\n",
       "2019-05-02 12:47:00  2218.70  B: EX:       NaN\n",
       "2019-05-02 12:52:00      NaN  S: EN:   2219.70\n",
       "2019-05-02 13:16:00  2218.10  B: EX:       NaN\n",
       "2019-05-02 13:20:00      NaN  S: EN:   2219.70\n",
       "2019-05-02 13:40:00  2219.00  B: EX:       NaN\n",
       "2019-05-02 13:51:00      NaN  S: EN:   2219.45\n",
       "2019-05-02 14:21:00  2225.90  B: EX:       NaN\n",
       "2019-05-02 14:28:00  2221.00  B: EN:       NaN\n",
       "2019-05-02 14:35:00      NaN  S: EX:   2223.00\n",
       "2019-05-02 14:37:00      NaN  S: EN:   2221.65\n",
       "2019-05-02 14:43:00  2219.35  B: EX:       NaN\n",
       "2019-05-02 14:54:00  2219.50  B: EN:       NaN\n",
       "2019-05-02 15:07:00      NaN  S: EX:   2216.50"
      ]
     },
     "execution_count": 269,
     "metadata": {},
     "output_type": "execute_result"
    }
   ],
   "source": [
    "my_cache.getTrades('TCS')"
   ]
  },
  {
   "cell_type": "code",
   "execution_count": null,
   "metadata": {},
   "outputs": [],
   "source": []
  },
  {
   "cell_type": "code",
   "execution_count": null,
   "metadata": {},
   "outputs": [],
   "source": []
  },
  {
   "cell_type": "code",
   "execution_count": null,
   "metadata": {},
   "outputs": [],
   "source": []
  },
  {
   "cell_type": "code",
   "execution_count": 270,
   "metadata": {},
   "outputs": [
    {
     "data": {
      "text/plain": [
       "''"
      ]
     },
     "execution_count": 270,
     "metadata": {},
     "output_type": "execute_result"
    }
   ],
   "source": [
    "from lib.charting_lib import *\n",
    "cache_type = 'backtest_uni'\n",
    "fig = freedom_chart('TCS')\n",
    "fig"
   ]
  },
  {
   "cell_type": "code",
   "execution_count": null,
   "metadata": {},
   "outputs": [],
   "source": []
  },
  {
   "cell_type": "code",
   "execution_count": 263,
   "metadata": {},
   "outputs": [
    {
     "name": "stdout",
     "output_type": "stream",
     "text": [
      "False\n",
      "['tick_resamplerlive', 'ohlc_tick_handlerlive', 'ohlc_tick_handlerbacktest_web', 'order_handlerlive', 'kite_simulatorbacktest_web', 'freedom_initfreedom']\n"
     ]
    }
   ],
   "source": [
    "# Terminate all the processes\n",
    "backtest_manager.job.terminate()\n",
    "time.sleep(0.1)\n",
    "print(backtest_manager.job.is_alive())\n",
    "print(redis_conn.pubsub_channels())\n",
    "jobs\n",
    "jobs = []"
   ]
  },
  {
   "cell_type": "code",
   "execution_count": 220,
   "metadata": {},
   "outputs": [
    {
     "data": {
      "text/html": [
       "<div>\n",
       "<style scoped>\n",
       "    .dataframe tbody tr th:only-of-type {\n",
       "        vertical-align: middle;\n",
       "    }\n",
       "\n",
       "    .dataframe tbody tr th {\n",
       "        vertical-align: top;\n",
       "    }\n",
       "\n",
       "    .dataframe thead th {\n",
       "        text-align: right;\n",
       "    }\n",
       "</style>\n",
       "<table border=\"1\" class=\"dataframe\">\n",
       "  <thead>\n",
       "    <tr style=\"text-align: right;\">\n",
       "      <th></th>\n",
       "      <th>close</th>\n",
       "      <th>high</th>\n",
       "      <th>low</th>\n",
       "      <th>open</th>\n",
       "    </tr>\n",
       "  </thead>\n",
       "  <tbody>\n",
       "    <tr>\n",
       "      <th>2018-11-05</th>\n",
       "      <td>1890.85</td>\n",
       "      <td>1927.35</td>\n",
       "      <td>1884.75</td>\n",
       "      <td>1910.00</td>\n",
       "    </tr>\n",
       "    <tr>\n",
       "      <th>2018-11-06</th>\n",
       "      <td>1932.70</td>\n",
       "      <td>1937.50</td>\n",
       "      <td>1891.00</td>\n",
       "      <td>1894.00</td>\n",
       "    </tr>\n",
       "    <tr>\n",
       "      <th>2018-11-07</th>\n",
       "      <td>1942.15</td>\n",
       "      <td>1949.00</td>\n",
       "      <td>1937.00</td>\n",
       "      <td>1940.00</td>\n",
       "    </tr>\n",
       "    <tr>\n",
       "      <th>2018-11-09</th>\n",
       "      <td>1909.20</td>\n",
       "      <td>1961.95</td>\n",
       "      <td>1905.00</td>\n",
       "      <td>1961.00</td>\n",
       "    </tr>\n",
       "    <tr>\n",
       "      <th>2018-11-12</th>\n",
       "      <td>1914.85</td>\n",
       "      <td>1946.10</td>\n",
       "      <td>1908.50</td>\n",
       "      <td>1908.50</td>\n",
       "    </tr>\n",
       "    <tr>\n",
       "      <th>...</th>\n",
       "      <td>...</td>\n",
       "      <td>...</td>\n",
       "      <td>...</td>\n",
       "      <td>...</td>\n",
       "    </tr>\n",
       "    <tr>\n",
       "      <th>2019-04-25</th>\n",
       "      <td>2195.00</td>\n",
       "      <td>2205.00</td>\n",
       "      <td>2168.05</td>\n",
       "      <td>2175.00</td>\n",
       "    </tr>\n",
       "    <tr>\n",
       "      <th>2019-04-26</th>\n",
       "      <td>2238.55</td>\n",
       "      <td>2243.95</td>\n",
       "      <td>2193.15</td>\n",
       "      <td>2203.00</td>\n",
       "    </tr>\n",
       "    <tr>\n",
       "      <th>2019-04-30</th>\n",
       "      <td>2260.35</td>\n",
       "      <td>2266.95</td>\n",
       "      <td>2230.10</td>\n",
       "      <td>2238.55</td>\n",
       "    </tr>\n",
       "    <tr>\n",
       "      <th>2019-05-02</th>\n",
       "      <td>2215.40</td>\n",
       "      <td>2259.40</td>\n",
       "      <td>2211.10</td>\n",
       "      <td>2255.00</td>\n",
       "    </tr>\n",
       "    <tr>\n",
       "      <th>2019-05-03</th>\n",
       "      <td>2132.00</td>\n",
       "      <td>2186.05</td>\n",
       "      <td>2125.00</td>\n",
       "      <td>2185.00</td>\n",
       "    </tr>\n",
       "  </tbody>\n",
       "</table>\n",
       "<p>121 rows × 4 columns</p>\n",
       "</div>"
      ],
      "text/plain": [
       "              close     high      low     open\n",
       "2018-11-05  1890.85  1927.35  1884.75  1910.00\n",
       "2018-11-06  1932.70  1937.50  1891.00  1894.00\n",
       "2018-11-07  1942.15  1949.00  1937.00  1940.00\n",
       "2018-11-09  1909.20  1961.95  1905.00  1961.00\n",
       "2018-11-12  1914.85  1946.10  1908.50  1908.50\n",
       "...             ...      ...      ...      ...\n",
       "2019-04-25  2195.00  2205.00  2168.05  2175.00\n",
       "2019-04-26  2238.55  2243.95  2193.15  2203.00\n",
       "2019-04-30  2260.35  2266.95  2230.10  2238.55\n",
       "2019-05-02  2215.40  2259.40  2211.10  2255.00\n",
       "2019-05-03  2132.00  2186.05  2125.00  2185.00\n",
       "\n",
       "[121 rows x 4 columns]"
      ]
     },
     "execution_count": 220,
     "metadata": {},
     "output_type": "execute_result"
    }
   ],
   "source": [
    "def resample(df, freq = '1T'):\n",
    "    tmp_df = pd.DataFrame()    \n",
    "    tmp_df = df.resample(freq,label='left').agg(['last','max','min','first']).dropna()\n",
    "    tmp_df.columns = ['close', 'high', 'low', 'open']\n",
    "    #print(tmp_df.head(5))\n",
    "    return tmp_df\n",
    "tmp_df = pd.read_json(my_cache.get('TCSbacktest_uniTICK'))\n",
    "resample(tmp_df['ltp'],'1D')"
   ]
  },
  {
   "cell_type": "code",
   "execution_count": null,
   "metadata": {},
   "outputs": [],
   "source": []
  },
  {
   "cell_type": "code",
   "execution_count": null,
   "metadata": {},
   "outputs": [],
   "source": []
  },
  {
   "cell_type": "code",
   "execution_count": null,
   "metadata": {},
   "outputs": [],
   "source": []
  },
  {
   "cell_type": "code",
   "execution_count": null,
   "metadata": {},
   "outputs": [],
   "source": []
  },
  {
   "cell_type": "code",
   "execution_count": null,
   "metadata": {
    "scrolled": false
   },
   "outputs": [],
   "source": [
    "temp_file = pd.HDFStore(\"data/kite_cache.h5\", mode=\"r\")\n",
    "temp_file.keys()"
   ]
  },
  {
   "cell_type": "code",
   "execution_count": null,
   "metadata": {},
   "outputs": [],
   "source": []
  },
  {
   "cell_type": "code",
   "execution_count": null,
   "metadata": {},
   "outputs": [],
   "source": []
  },
  {
   "cell_type": "code",
   "execution_count": null,
   "metadata": {},
   "outputs": [],
   "source": []
  },
  {
   "cell_type": "code",
   "execution_count": null,
   "metadata": {},
   "outputs": [],
   "source": []
  },
  {
   "cell_type": "code",
   "execution_count": null,
   "metadata": {},
   "outputs": [],
   "source": []
  },
  {
   "cell_type": "code",
   "execution_count": null,
   "metadata": {},
   "outputs": [],
   "source": [
    "# Long Strategies\n",
    "def long_indicators(s):\n",
    "    temp_df = 0\n",
    "    #temp_df = temp_df | (REF(s.fastk,1) <=20)&(s.fastk>20)\n",
    "    #temp_df = temp_df | CROSSOVER(s.fastk, s.fastd)\n",
    "    #temp_df = temp_df | (REF(s.macd,1) <=0)&(s.macd>0)\n",
    "    #temp_df = temp_df | CROSSOVER(s.macd, s.macdsignal)\n",
    "    temp_df = temp_df | (REF(s.rsi,1) <=40)\n",
    "    #temp_df = temp_df | (s.CLOSE.shift(1) == s.min.shift(1)) & (s.CLOSE > s.OPEN)\n",
    "    #temp_df = temp_df & CROSSOVER(s.BBB, s.CLOSE)\n",
    "\n",
    "    return pd.DataFrame(  temp_df, columns=[\"buy\"] )\n",
    "\n",
    "# Short Strategies\n",
    "def short_indicators(s):\n",
    "    temp_df = 0\n",
    "    #temp_df = temp_df | (REF(s.fastk,1) >=80)&(s.fastk<80)\n",
    "    #temp_df = temp_df | CROSSOVER(s.fastd, s.fastk)\n",
    "    #temp_df = temp_df | (REF(s.macd,1) >=0)&(s.macd<0)\n",
    "    #temp_df = temp_df | CROSSOVER(s.macdsignal, s.macd)\n",
    "    temp_df = temp_df | (REF(s.rsi,1) >=60)\n",
    "    #temp_df = temp_df & CROSSOVER(s.CLOSE, s.BBT)\n",
    "    return pd.DataFrame( temp_df, columns=[\"sell\"])\n",
    "\n",
    "\n",
    "\n",
    "def long_breakout(s):\n",
    "    temp_df = s.haCLOSE >= s.BBT.shift(1)\n",
    "    temp_df = temp_df | (s.haCLOSE >= s.haOPEN.shift(2))\n",
    "    temp_df = temp_df & ( CROSSOVER(s.OPEN, s.BBT) | CROSSOVER(s.OPEN, s.BBB) | CROSSOVER(s.OPEN, s.BBM))\n",
    "    return pd.DataFrame( temp_df , columns=[\"buy\"])\n",
    "\n",
    "def short_breakout(s):\n",
    "    temp_df = s.haOPEN <= s.BBB.shift(1)\n",
    "    temp_df = temp_df | (s.haCLOSE <= s.haOPEN.shift(2))\n",
    "    temp_df = temp_df & ( CROSSOVER(s.BBT, s.OPEN) | CROSSOVER(s.BBB, s.OPEN) | CROSSOVER(s.BBM, s.OPEN))\n",
    "    return pd.DataFrame( temp_df , columns=[\"sell\"])\n",
    "\n",
    "def long_ha(s):\n",
    "    temp_df = (REF(s.haCLOSE,3) < REF(s.haOPEN,3)) & (REF(s.haCLOSE,2) < REF(s.haOPEN,2)) & (REF(s.haCLOSE,1) > REF(s.haOPEN,1)) & (s.haCLOSE > s.haOPEN)  \n",
    "    #temp_df = temp_df & (s.rsi < 40 )\n",
    "    return pd.DataFrame( temp_df , columns=[\"buy\"])\n",
    "\n",
    "def short_ha(s):\n",
    "    temp_df = (REF(s.haCLOSE,3) > REF(s.haOPEN,3)) & (REF(s.haCLOSE,2) > REF(s.haOPEN,2)) & (REF(s.haCLOSE,1) < REF(s.haOPEN,1)) & (s.haCLOSE < s.haOPEN)\n",
    "    #temp_df = temp_df & (s.rsi > 60 )\n",
    "    return pd.DataFrame( temp_df , columns=[\"sell\"])\n",
    "    \n"
   ]
  },
  {
   "cell_type": "markdown",
   "metadata": {},
   "source": [
    "## Redis Console"
   ]
  },
  {
   "cell_type": "code",
   "execution_count": null,
   "metadata": {},
   "outputs": [],
   "source": [
    "from redis import Redis\n",
    "import json\n",
    "\n",
    "conn = Redis(host='redis', port=6379, db=0, charset=\"utf-8\", decode_responses=True)"
   ]
  },
  {
   "cell_type": "code",
   "execution_count": null,
   "metadata": {},
   "outputs": [],
   "source": [
    "conn.xadd('msgBufferQueue',{'msg': 'next'})"
   ]
  },
  {
   "cell_type": "code",
   "execution_count": null,
   "metadata": {},
   "outputs": [],
   "source": [
    "# Unit Test#1\n",
    "freq='day'\n",
    "exchange='NSE'\n",
    "fromDate = '2019-01-01'\n",
    "toDate = '2019-05-03'\n",
    "stock='INFY'\n",
    "\n",
    "state = 'INIT'\n",
    "hash_key = stock+'_state'\n",
    "\n",
    "try:\n",
    "    all_keys = list(conn.hgetall(hash_key).keys())\n",
    "    conn.hdel(hash_key,*all_keys)\n",
    "except:\n",
    "    pass\n",
    "\n",
    "#conn.hmset(hash_key, {'state':state,'stock':stock, 'qty':0,'price':0,'algo':'','freq':'day','so':0,'target':0})\n",
    "\n",
    "msg = json.dumps({'stock': stock, 'fromDate':fromDate,'toDate':toDate, 'exchange':exchange, 'freq':freq})\n",
    "conn.publish('trade_handler','start')\n",
    "msgid2 = conn.publish('kite_simulator',msg)\n"
   ]
  },
  {
   "cell_type": "code",
   "execution_count": null,
   "metadata": {},
   "outputs": [],
   "source": [
    "# Unit Test#2\n",
    "stock = 'NDTV'\n",
    "msg = json.dumps({'stock': stock, 'fromDate':fromDate,'toDate':toDate, 'exchange':exchange, 'freq':freq})\n",
    "conn.publish('trade_handler','start')\n",
    "msgid2 = conn.publish('kite_simulator',msg)\n",
    "conn.xadd('msgBufferQueue',{'msg': 'next'})"
   ]
  },
  {
   "cell_type": "code",
   "execution_count": null,
   "metadata": {},
   "outputs": [],
   "source": []
  },
  {
   "cell_type": "code",
   "execution_count": null,
   "metadata": {},
   "outputs": [],
   "source": [
    "# Shut down\n",
    "conn.publish('kite_simulator','stop')\n",
    "conn.publish('trade_handler','stop')\n",
    "freedom.job.terminate()\n",
    "print(freedom.job.is_alive())\n",
    "conn.pubsub_channels()"
   ]
  },
  {
   "cell_type": "code",
   "execution_count": null,
   "metadata": {},
   "outputs": [],
   "source": [
    "conn.pubsub_channels()"
   ]
  },
  {
   "cell_type": "code",
   "execution_count": null,
   "metadata": {
    "scrolled": false
   },
   "outputs": [],
   "source": [
    "# Debug\n",
    "stock='TCS'\n",
    "#notification_despatcher(None, 'msg')\n",
    "print(stock)\n",
    "pd.read_json(conn.hget(stock+'_state','ohlc'))"
   ]
  },
  {
   "cell_type": "code",
   "execution_count": null,
   "metadata": {
    "scrolled": true
   },
   "outputs": [],
   "source": [
    "pd.set_option('display.max_rows', 50)\n",
    "pd.read_json(conn.hget(stock+'_state','ohlc')).tail(50)"
   ]
  },
  {
   "cell_type": "code",
   "execution_count": null,
   "metadata": {},
   "outputs": [],
   "source": []
  },
  {
   "cell_type": "raw",
   "metadata": {},
   "source": [
    "msg = [['msgBufferQueue', [('1587153010498-0', {'stock': 'TCS', 'fromDate': '2019-01-01', 'toDate': '2019-05-03', 'exchange': 'NSE', 'freq': 'day'})]]]"
   ]
  },
  {
   "cell_type": "code",
   "execution_count": null,
   "metadata": {},
   "outputs": [],
   "source": []
  },
  {
   "cell_type": "markdown",
   "metadata": {},
   "source": [
    "## Scratchpad"
   ]
  },
  {
   "cell_type": "code",
   "execution_count": null,
   "metadata": {},
   "outputs": [],
   "source": [
    "redis_conn.pubsub_channels()"
   ]
  },
  {
   "cell_type": "code",
   "execution_count": null,
   "metadata": {},
   "outputs": [],
   "source": [
    "my_cache = cache_state('backtest_web')"
   ]
  },
  {
   "cell_type": "code",
   "execution_count": null,
   "metadata": {},
   "outputs": [],
   "source": [
    "df = my_cache.getValue()"
   ]
  },
  {
   "cell_type": "code",
   "execution_count": null,
   "metadata": {},
   "outputs": [],
   "source": [
    "df"
   ]
  },
  {
   "cell_type": "code",
   "execution_count": null,
   "metadata": {},
   "outputs": [],
   "source": [
    "trades_df = my_cache.getTrades('TCS')\n",
    "trades_df"
   ]
  },
  {
   "cell_type": "code",
   "execution_count": null,
   "metadata": {},
   "outputs": [],
   "source": [
    "(total_profit, max_loss, max_profit, total_win, total_loss, max_winning_streak, max_loosing_streak, trade_log_df) = trade_analysis_raw(trades_df)"
   ]
  },
  {
   "cell_type": "code",
   "execution_count": 1,
   "metadata": {},
   "outputs": [],
   "source": [
    "import pandas as pd\n",
    "import plotly\n",
    "import plotly.graph_objs as go\n",
    "from datetime import datetime as dt\n",
    "from datetime import timedelta\n",
    "from plotly.subplots import make_subplots\n",
    "import plotly.graph_objects as go\n",
    "\n",
    "from lib.multitasking_lib import *\n",
    "from plotly.offline import download_plotlyjs, init_notebook_mode, plot, iplot"
   ]
  },
  {
   "cell_type": "code",
   "execution_count": 8,
   "metadata": {},
   "outputs": [],
   "source": [
    "# GetData\n",
    "\n",
    "logger.setLevel(logging.DEBUG)\n",
    "stock = 'WIPRO'\n",
    "fromDate = '2019-4-22'\n",
    "toDate  = '2019-4-24'\n",
    "freq = 'minute'\n",
    "mydate = fromDate\n",
    "exchange = 'NSE'\n",
    "ohlc_data = {}\n",
    "ohlc_data[stock] = getData(stock, fromDate, toDate, exchange, freq, False, stock)"
   ]
  },
  {
   "cell_type": "code",
   "execution_count": 6,
   "metadata": {},
   "outputs": [
    {
     "data": {
      "text/html": [
       "<div>\n",
       "<style scoped>\n",
       "    .dataframe tbody tr th:only-of-type {\n",
       "        vertical-align: middle;\n",
       "    }\n",
       "\n",
       "    .dataframe tbody tr th {\n",
       "        vertical-align: top;\n",
       "    }\n",
       "\n",
       "    .dataframe thead th {\n",
       "        text-align: right;\n",
       "    }\n",
       "</style>\n",
       "<table border=\"1\" class=\"dataframe\">\n",
       "  <thead>\n",
       "    <tr style=\"text-align: right;\">\n",
       "      <th></th>\n",
       "      <th>close</th>\n",
       "      <th>high</th>\n",
       "      <th>low</th>\n",
       "      <th>open</th>\n",
       "      <th>volume</th>\n",
       "    </tr>\n",
       "    <tr>\n",
       "      <th>date</th>\n",
       "      <th></th>\n",
       "      <th></th>\n",
       "      <th></th>\n",
       "      <th></th>\n",
       "      <th></th>\n",
       "    </tr>\n",
       "  </thead>\n",
       "  <tbody>\n",
       "    <tr>\n",
       "      <th>2019-04-22 09:15:00</th>\n",
       "      <td>285.90</td>\n",
       "      <td>286.50</td>\n",
       "      <td>285.15</td>\n",
       "      <td>285.50</td>\n",
       "      <td>167257</td>\n",
       "    </tr>\n",
       "    <tr>\n",
       "      <th>2019-04-22 09:16:00</th>\n",
       "      <td>286.45</td>\n",
       "      <td>286.55</td>\n",
       "      <td>285.60</td>\n",
       "      <td>285.85</td>\n",
       "      <td>128478</td>\n",
       "    </tr>\n",
       "    <tr>\n",
       "      <th>2019-04-22 09:17:00</th>\n",
       "      <td>286.40</td>\n",
       "      <td>286.55</td>\n",
       "      <td>286.00</td>\n",
       "      <td>286.25</td>\n",
       "      <td>105224</td>\n",
       "    </tr>\n",
       "    <tr>\n",
       "      <th>2019-04-22 09:18:00</th>\n",
       "      <td>286.80</td>\n",
       "      <td>287.00</td>\n",
       "      <td>286.35</td>\n",
       "      <td>286.40</td>\n",
       "      <td>96006</td>\n",
       "    </tr>\n",
       "    <tr>\n",
       "      <th>2019-04-22 09:19:00</th>\n",
       "      <td>287.65</td>\n",
       "      <td>287.80</td>\n",
       "      <td>286.80</td>\n",
       "      <td>286.80</td>\n",
       "      <td>100153</td>\n",
       "    </tr>\n",
       "  </tbody>\n",
       "</table>\n",
       "</div>"
      ],
      "text/plain": [
       "                      close    high     low    open  volume\n",
       "date                                                       \n",
       "2019-04-22 09:15:00  285.90  286.50  285.15  285.50  167257\n",
       "2019-04-22 09:16:00  286.45  286.55  285.60  285.85  128478\n",
       "2019-04-22 09:17:00  286.40  286.55  286.00  286.25  105224\n",
       "2019-04-22 09:18:00  286.80  287.00  286.35  286.40   96006\n",
       "2019-04-22 09:19:00  287.65  287.80  286.80  286.80  100153"
      ]
     },
     "execution_count": 6,
     "metadata": {},
     "output_type": "execute_result"
    }
   ],
   "source": [
    "ohlc_data[stock].head()"
   ]
  },
  {
   "cell_type": "code",
   "execution_count": 2,
   "metadata": {},
   "outputs": [
    {
     "data": {
      "text/html": [
       "<div>\n",
       "<style scoped>\n",
       "    .dataframe tbody tr th:only-of-type {\n",
       "        vertical-align: middle;\n",
       "    }\n",
       "\n",
       "    .dataframe tbody tr th {\n",
       "        vertical-align: top;\n",
       "    }\n",
       "\n",
       "    .dataframe thead th {\n",
       "        text-align: right;\n",
       "    }\n",
       "</style>\n",
       "<table border=\"1\" class=\"dataframe\">\n",
       "  <thead>\n",
       "    <tr style=\"text-align: right;\">\n",
       "      <th></th>\n",
       "      <th>stock</th>\n",
       "      <th>qty</th>\n",
       "      <th>SL %</th>\n",
       "      <th>TP %</th>\n",
       "      <th>amount</th>\n",
       "      <th>price</th>\n",
       "      <th>P&amp;L</th>\n",
       "      <th>P&amp;L %</th>\n",
       "      <th>Total P&amp;L</th>\n",
       "      <th>Total P&amp;L %</th>\n",
       "      <th>...</th>\n",
       "      <th>ltp</th>\n",
       "      <th>ltp %</th>\n",
       "      <th>tp</th>\n",
       "      <th>high</th>\n",
       "      <th>last_processed</th>\n",
       "      <th>state</th>\n",
       "      <th>mode</th>\n",
       "      <th>algo</th>\n",
       "      <th>freq</th>\n",
       "      <th>hdf_freq</th>\n",
       "    </tr>\n",
       "  </thead>\n",
       "  <tbody>\n",
       "    <tr>\n",
       "      <th>0</th>\n",
       "      <td>AXISBANK</td>\n",
       "      <td>10</td>\n",
       "      <td>1</td>\n",
       "      <td>1</td>\n",
       "      <td>7745.0</td>\n",
       "      <td>0</td>\n",
       "      <td>-3.9999999999997726</td>\n",
       "      <td>-0.5167291047667966</td>\n",
       "      <td>12.499999999995453</td>\n",
       "      <td>0.161394448030929</td>\n",
       "      <td>...</td>\n",
       "      <td>762.5</td>\n",
       "      <td>0.0</td>\n",
       "      <td>0</td>\n",
       "      <td>773.55</td>\n",
       "      <td>2019-04-01 15:29</td>\n",
       "      <td>SCANNING</td>\n",
       "      <td>PAUSE</td>\n",
       "      <td>default</td>\n",
       "      <td>minute</td>\n",
       "      <td>day</td>\n",
       "    </tr>\n",
       "    <tr>\n",
       "      <th>1</th>\n",
       "      <td>WIPRO</td>\n",
       "      <td>10</td>\n",
       "      <td>1</td>\n",
       "      <td>1</td>\n",
       "      <td>2898.5</td>\n",
       "      <td>0</td>\n",
       "      <td>1.4999999999997726</td>\n",
       "      <td>0.5172413793102664</td>\n",
       "      <td>3.999999999999204</td>\n",
       "      <td>0.1380024150422358</td>\n",
       "      <td>...</td>\n",
       "      <td>291.6</td>\n",
       "      <td>0.0</td>\n",
       "      <td>0</td>\n",
       "      <td>291.85</td>\n",
       "      <td>2019-04-23 15:29</td>\n",
       "      <td>SCANNING</td>\n",
       "      <td>PAUSE</td>\n",
       "      <td>default</td>\n",
       "      <td>1T</td>\n",
       "      <td>minute</td>\n",
       "    </tr>\n",
       "    <tr>\n",
       "      <th>2</th>\n",
       "      <td>TCS</td>\n",
       "      <td>10</td>\n",
       "      <td>1</td>\n",
       "      <td>1</td>\n",
       "      <td>21498.5</td>\n",
       "      <td>0</td>\n",
       "      <td>14.00000000000091</td>\n",
       "      <td>0.6516325723196217</td>\n",
       "      <td>-168.50000000000364</td>\n",
       "      <td>-0.7837756122520346</td>\n",
       "      <td>...</td>\n",
       "      <td>2163.0</td>\n",
       "      <td>0.0</td>\n",
       "      <td>0</td>\n",
       "      <td>2165.5</td>\n",
       "      <td>2019-04-23 15:29</td>\n",
       "      <td>SCANNING</td>\n",
       "      <td>PAUSE</td>\n",
       "      <td>default</td>\n",
       "      <td>1T</td>\n",
       "      <td>minute</td>\n",
       "    </tr>\n",
       "  </tbody>\n",
       "</table>\n",
       "<p>3 rows × 22 columns</p>\n",
       "</div>"
      ],
      "text/plain": [
       "      stock qty SL % TP %   amount price                  P&L  \\\n",
       "0  AXISBANK  10    1    1   7745.0     0  -3.9999999999997726   \n",
       "1     WIPRO  10    1    1   2898.5     0   1.4999999999997726   \n",
       "2       TCS  10    1    1  21498.5     0    14.00000000000091   \n",
       "\n",
       "                 P&L %            Total P&L          Total P&L %  ...     ltp  \\\n",
       "0  -0.5167291047667966   12.499999999995453    0.161394448030929  ...   762.5   \n",
       "1   0.5172413793102664    3.999999999999204   0.1380024150422358  ...   291.6   \n",
       "2   0.6516325723196217  -168.50000000000364  -0.7837756122520346  ...  2163.0   \n",
       "\n",
       "  ltp % tp    high    last_processed     state   mode     algo    freq  \\\n",
       "0   0.0  0  773.55  2019-04-01 15:29  SCANNING  PAUSE  default  minute   \n",
       "1   0.0  0  291.85  2019-04-23 15:29  SCANNING  PAUSE  default      1T   \n",
       "2   0.0  0  2165.5  2019-04-23 15:29  SCANNING  PAUSE  default      1T   \n",
       "\n",
       "  hdf_freq  \n",
       "0      day  \n",
       "1   minute  \n",
       "2   minute  \n",
       "\n",
       "[3 rows x 22 columns]"
      ]
     },
     "execution_count": 2,
     "metadata": {},
     "output_type": "execute_result"
    }
   ],
   "source": [
    "from lib.data_model_lib import *\n",
    "live_cache = cache_state('backtest_web')\n",
    "live_cache.getValue()\n",
    "#live_cache.getOHLC('TCS', '1D').head()"
   ]
  },
  {
   "cell_type": "code",
   "execution_count": 9,
   "metadata": {},
   "outputs": [],
   "source": [
    "msg_ltp = {\n",
    "    \"status\": \"success\",\n",
    "    \"data\": {\n",
    "        \"BSE:SENSEX\": {\n",
    "            \"instrument_token\": 265,\n",
    "            \"last_price\": 31606.48\n",
    "        },\n",
    "        \"NSE:INFY\": {\n",
    "            \"instrument_token\": 408065,\n",
    "            \"last_price\": 890.9\n",
    "        },\n",
    "        \"NSE:NIFTY 50\": {\n",
    "            \"instrument_token\": 256265,\n",
    "            \"last_price\": 9893.4\n",
    "        }\n",
    "    }\n",
    "}"
   ]
  },
  {
   "cell_type": "code",
   "execution_count": 94,
   "metadata": {},
   "outputs": [],
   "source": [
    "def push_tick(ws, msg):\n",
    "    live_cache.xadd('tickBuffer', {'data':json.dumps(msg_ltp['data'])})\n",
    "\n"
   ]
  },
  {
   "cell_type": "code",
   "execution_count": 153,
   "metadata": {},
   "outputs": [],
   "source": [
    "push_tick(None, msg_ltp)"
   ]
  },
  {
   "cell_type": "code",
   "execution_count": 161,
   "metadata": {
    "scrolled": true
   },
   "outputs": [
    {
     "data": {
      "text/plain": [
       "(3000, 2)"
      ]
     },
     "execution_count": 161,
     "metadata": {},
     "output_type": "execute_result"
    }
   ],
   "source": [
    "def tick_resampler():\n",
    "    global tick_df\n",
    "    #print(msg['data'])\n",
    "    tickBuffer = live_cache.xread({'tickBuffer':'0-0'})\n",
    "    tick_df = pd.DataFrame()\n",
    "    for val in tickBuffer[0][1]:\n",
    "        date_val = datetime.fromtimestamp(int(val[0].split('-')[0])/1000).strftime('%Y-%m-%d %H:%M:%S')\n",
    "        stock = []\n",
    "        ltp = []\n",
    "        date = []\n",
    "        for key, data in json.loads(val[1]['data']).items():\n",
    "            stock_id = key.split(':')[1]\n",
    "            stock.append(stock_id)\n",
    "            ltp.append(json.loads(data)['last_price'])\n",
    "            date.append(date_val)\n",
    "        tmp_df = pd.DataFrame(data={'date':date,'stock':stock,'ltp':ltp})  \n",
    "        tick_df = tick_df.append(tmp_df)\n",
    "        \n",
    "    return tick_df\n",
    "\n",
    "#tick_resampler()\n",
    "\n",
    "\n",
    "\n",
    "#df = tick_df[tick_df['stock']=='INFY'].set_index('date')\n",
    "#df.index = pd.to_datetime(df.index)\n",
    "\n",
    "df = tick_resampler()\n",
    "\n",
    "df = df[df['stock']=='TCS'].set_index('date')\n",
    "df.index = pd.to_datetime(df.index)\n",
    "df.shape\n"
   ]
  },
  {
   "cell_type": "code",
   "execution_count": 191,
   "metadata": {},
   "outputs": [],
   "source": [
    "def resample(df, freq = '1T'):\n",
    "    tmp_df = pd.DataFrame()    \n",
    "    tmp_df = df.resample(freq,label='left').agg(['last','max','min','first']).dropna()\n",
    "    tmp_df.columns = ['close', 'high', 'low', 'open']\n",
    "    #print(tmp_df.head(5))\n",
    "    return tmp_df\n",
    "\n",
    "#df['ltp'].shape\n",
    "resample_df = resample(df['ltp'])"
   ]
  },
  {
   "cell_type": "code",
   "execution_count": 192,
   "metadata": {},
   "outputs": [],
   "source": [
    "#live_cache.xlen('tickBuffer')"
   ]
  },
  {
   "cell_type": "code",
   "execution_count": 193,
   "metadata": {},
   "outputs": [
    {
     "name": "stdout",
     "output_type": "stream",
     "text": [
      "(750, 4)\n"
     ]
    },
    {
     "data": {
      "text/html": [
       "<div>\n",
       "<style scoped>\n",
       "    .dataframe tbody tr th:only-of-type {\n",
       "        vertical-align: middle;\n",
       "    }\n",
       "\n",
       "    .dataframe tbody tr th {\n",
       "        vertical-align: top;\n",
       "    }\n",
       "\n",
       "    .dataframe thead th {\n",
       "        text-align: right;\n",
       "    }\n",
       "</style>\n",
       "<table border=\"1\" class=\"dataframe\">\n",
       "  <thead>\n",
       "    <tr style=\"text-align: right;\">\n",
       "      <th></th>\n",
       "      <th>close</th>\n",
       "      <th>high</th>\n",
       "      <th>low</th>\n",
       "      <th>open</th>\n",
       "    </tr>\n",
       "    <tr>\n",
       "      <th>date</th>\n",
       "      <th></th>\n",
       "      <th></th>\n",
       "      <th></th>\n",
       "      <th></th>\n",
       "    </tr>\n",
       "  </thead>\n",
       "  <tbody>\n",
       "    <tr>\n",
       "      <th>2019-04-23 15:25:00</th>\n",
       "      <td>2161.15</td>\n",
       "      <td>2161.60</td>\n",
       "      <td>2159.80</td>\n",
       "      <td>2160.75</td>\n",
       "    </tr>\n",
       "    <tr>\n",
       "      <th>2019-04-23 15:26:00</th>\n",
       "      <td>2160.00</td>\n",
       "      <td>2161.95</td>\n",
       "      <td>2159.30</td>\n",
       "      <td>2161.10</td>\n",
       "    </tr>\n",
       "    <tr>\n",
       "      <th>2019-04-23 15:27:00</th>\n",
       "      <td>2163.10</td>\n",
       "      <td>2165.30</td>\n",
       "      <td>2160.00</td>\n",
       "      <td>2160.00</td>\n",
       "    </tr>\n",
       "    <tr>\n",
       "      <th>2019-04-23 15:28:00</th>\n",
       "      <td>2164.75</td>\n",
       "      <td>2165.50</td>\n",
       "      <td>2163.15</td>\n",
       "      <td>2164.35</td>\n",
       "    </tr>\n",
       "    <tr>\n",
       "      <th>2019-04-23 15:29:00</th>\n",
       "      <td>2163.00</td>\n",
       "      <td>2164.90</td>\n",
       "      <td>2158.00</td>\n",
       "      <td>2164.00</td>\n",
       "    </tr>\n",
       "  </tbody>\n",
       "</table>\n",
       "</div>"
      ],
      "text/plain": [
       "                       close     high      low     open\n",
       "date                                                   \n",
       "2019-04-23 15:25:00  2161.15  2161.60  2159.80  2160.75\n",
       "2019-04-23 15:26:00  2160.00  2161.95  2159.30  2161.10\n",
       "2019-04-23 15:27:00  2163.10  2165.30  2160.00  2160.00\n",
       "2019-04-23 15:28:00  2164.75  2165.50  2163.15  2164.35\n",
       "2019-04-23 15:29:00  2163.00  2164.90  2158.00  2164.00"
      ]
     },
     "execution_count": 193,
     "metadata": {},
     "output_type": "execute_result"
    }
   ],
   "source": [
    "print(resample_df.shape)\n",
    "resample_df.tail()"
   ]
  },
  {
   "cell_type": "code",
   "execution_count": 185,
   "metadata": {},
   "outputs": [
    {
     "data": {
      "text/html": [
       "<div>\n",
       "<style scoped>\n",
       "    .dataframe tbody tr th:only-of-type {\n",
       "        vertical-align: middle;\n",
       "    }\n",
       "\n",
       "    .dataframe tbody tr th {\n",
       "        vertical-align: top;\n",
       "    }\n",
       "\n",
       "    .dataframe thead th {\n",
       "        text-align: right;\n",
       "    }\n",
       "</style>\n",
       "<table border=\"1\" class=\"dataframe\">\n",
       "  <thead>\n",
       "    <tr style=\"text-align: right;\">\n",
       "      <th></th>\n",
       "      <th>close</th>\n",
       "      <th>high</th>\n",
       "      <th>low</th>\n",
       "      <th>open</th>\n",
       "      <th>volume</th>\n",
       "    </tr>\n",
       "    <tr>\n",
       "      <th>date</th>\n",
       "      <th></th>\n",
       "      <th></th>\n",
       "      <th></th>\n",
       "      <th></th>\n",
       "      <th></th>\n",
       "    </tr>\n",
       "  </thead>\n",
       "  <tbody>\n",
       "    <tr>\n",
       "      <th>2019-04-23 15:25:00</th>\n",
       "      <td>2161.15</td>\n",
       "      <td>2161.60</td>\n",
       "      <td>2159.80</td>\n",
       "      <td>2160.75</td>\n",
       "      <td>9968</td>\n",
       "    </tr>\n",
       "    <tr>\n",
       "      <th>2019-04-23 15:26:00</th>\n",
       "      <td>2160.00</td>\n",
       "      <td>2161.95</td>\n",
       "      <td>2159.30</td>\n",
       "      <td>2161.10</td>\n",
       "      <td>11768</td>\n",
       "    </tr>\n",
       "    <tr>\n",
       "      <th>2019-04-23 15:27:00</th>\n",
       "      <td>2163.10</td>\n",
       "      <td>2165.30</td>\n",
       "      <td>2160.00</td>\n",
       "      <td>2160.00</td>\n",
       "      <td>52242</td>\n",
       "    </tr>\n",
       "    <tr>\n",
       "      <th>2019-04-23 15:28:00</th>\n",
       "      <td>2164.75</td>\n",
       "      <td>2165.50</td>\n",
       "      <td>2163.15</td>\n",
       "      <td>2164.35</td>\n",
       "      <td>13517</td>\n",
       "    </tr>\n",
       "    <tr>\n",
       "      <th>2019-04-23 15:29:00</th>\n",
       "      <td>2163.00</td>\n",
       "      <td>2164.90</td>\n",
       "      <td>2158.00</td>\n",
       "      <td>2164.00</td>\n",
       "      <td>6439</td>\n",
       "    </tr>\n",
       "  </tbody>\n",
       "</table>\n",
       "</div>"
      ],
      "text/plain": [
       "                       close     high      low     open  volume\n",
       "date                                                           \n",
       "2019-04-23 15:25:00  2161.15  2161.60  2159.80  2160.75    9968\n",
       "2019-04-23 15:26:00  2160.00  2161.95  2159.30  2161.10   11768\n",
       "2019-04-23 15:27:00  2163.10  2165.30  2160.00  2160.00   52242\n",
       "2019-04-23 15:28:00  2164.75  2165.50  2163.15  2164.35   13517\n",
       "2019-04-23 15:29:00  2163.00  2164.90  2158.00  2164.00    6439"
      ]
     },
     "execution_count": 185,
     "metadata": {},
     "output_type": "execute_result"
    }
   ],
   "source": [
    "ohlc_data['TCS'].tail()"
   ]
  },
  {
   "cell_type": "code",
   "execution_count": 95,
   "metadata": {},
   "outputs": [],
   "source": [
    "tickBuffer = live_cache.xread({'tickBuffer':'0-0'})"
   ]
  },
  {
   "cell_type": "code",
   "execution_count": 102,
   "metadata": {},
   "outputs": [
    {
     "data": {
      "text/plain": [
       "[('1588882591684-0',\n",
       "  {'data': '{\"BSE:SENSEX\": {\"instrument_token\": 265, \"last_price\": 31606.48}, \"NSE:INFY\": {\"instrument_token\": 408065, \"last_price\": 890.9}, \"NSE:NIFTY 50\": {\"instrument_token\": 256265, \"last_price\": 9893.4}}'}),\n",
       " ('1588882594477-0',\n",
       "  {'data': '{\"BSE:SENSEX\": {\"instrument_token\": 265, \"last_price\": 31606.48}, \"NSE:INFY\": {\"instrument_token\": 408065, \"last_price\": 890.9}, \"NSE:NIFTY 50\": {\"instrument_token\": 256265, \"last_price\": 9893.4}}'}),\n",
       " ('1588882596669-0',\n",
       "  {'data': '{\"BSE:SENSEX\": {\"instrument_token\": 265, \"last_price\": 31606.48}, \"NSE:INFY\": {\"instrument_token\": 408065, \"last_price\": 890.9}, \"NSE:NIFTY 50\": {\"instrument_token\": 256265, \"last_price\": 9893.4}}'}),\n",
       " ('1588882598647-0',\n",
       "  {'data': '{\"BSE:SENSEX\": {\"instrument_token\": 265, \"last_price\": 31606.48}, \"NSE:INFY\": {\"instrument_token\": 408065, \"last_price\": 890.9}, \"NSE:NIFTY 50\": {\"instrument_token\": 256265, \"last_price\": 9893.4}}'}),\n",
       " ('1588882600762-0',\n",
       "  {'data': '{\"BSE:SENSEX\": {\"instrument_token\": 265, \"last_price\": 31606.48}, \"NSE:INFY\": {\"instrument_token\": 408065, \"last_price\": 890.9}, \"NSE:NIFTY 50\": {\"instrument_token\": 256265, \"last_price\": 9893.4}}'}),\n",
       " ('1588882603089-0',\n",
       "  {'data': '{\"BSE:SENSEX\": {\"instrument_token\": 265, \"last_price\": 31606.48}, \"NSE:INFY\": {\"instrument_token\": 408065, \"last_price\": 890.9}, \"NSE:NIFTY 50\": {\"instrument_token\": 256265, \"last_price\": 9893.4}}'})]"
      ]
     },
     "execution_count": 102,
     "metadata": {},
     "output_type": "execute_result"
    }
   ],
   "source": [
    "tickBuffer[0][1]"
   ]
  },
  {
   "cell_type": "code",
   "execution_count": 89,
   "metadata": {},
   "outputs": [
    {
     "data": {
      "text/plain": [
       "[('1588882591684-0',\n",
       "  {'data': '{\"BSE:SENSEX\": {\"instrument_token\": 265, \"last_price\": 31606.48}, \"NSE:INFY\": {\"instrument_token\": 408065, \"last_price\": 890.9}, \"NSE:NIFTY 50\": {\"instrument_token\": 256265, \"last_price\": 9893.4}}'}),\n",
       " ('1588882594477-0',\n",
       "  {'data': '{\"BSE:SENSEX\": {\"instrument_token\": 265, \"last_price\": 31606.48}, \"NSE:INFY\": {\"instrument_token\": 408065, \"last_price\": 890.9}, \"NSE:NIFTY 50\": {\"instrument_token\": 256265, \"last_price\": 9893.4}}'}),\n",
       " ('1588882596669-0',\n",
       "  {'data': '{\"BSE:SENSEX\": {\"instrument_token\": 265, \"last_price\": 31606.48}, \"NSE:INFY\": {\"instrument_token\": 408065, \"last_price\": 890.9}, \"NSE:NIFTY 50\": {\"instrument_token\": 256265, \"last_price\": 9893.4}}'}),\n",
       " ('1588882598647-0',\n",
       "  {'data': '{\"BSE:SENSEX\": {\"instrument_token\": 265, \"last_price\": 31606.48}, \"NSE:INFY\": {\"instrument_token\": 408065, \"last_price\": 890.9}, \"NSE:NIFTY 50\": {\"instrument_token\": 256265, \"last_price\": 9893.4}}'}),\n",
       " ('1588882600762-0',\n",
       "  {'data': '{\"BSE:SENSEX\": {\"instrument_token\": 265, \"last_price\": 31606.48}, \"NSE:INFY\": {\"instrument_token\": 408065, \"last_price\": 890.9}, \"NSE:NIFTY 50\": {\"instrument_token\": 256265, \"last_price\": 9893.4}}'}),\n",
       " ('1588882603089-0',\n",
       "  {'data': '{\"BSE:SENSEX\": {\"instrument_token\": 265, \"last_price\": 31606.48}, \"NSE:INFY\": {\"instrument_token\": 408065, \"last_price\": 890.9}, \"NSE:NIFTY 50\": {\"instrument_token\": 256265, \"last_price\": 9893.4}}'})]"
      ]
     },
     "execution_count": 89,
     "metadata": {},
     "output_type": "execute_result"
    }
   ],
   "source": [
    "live_cache.xrange('tickBuffer')"
   ]
  },
  {
   "cell_type": "code",
   "execution_count": null,
   "metadata": {},
   "outputs": [],
   "source": []
  },
  {
   "cell_type": "code",
   "execution_count": null,
   "metadata": {},
   "outputs": [],
   "source": []
  },
  {
   "cell_type": "code",
   "execution_count": null,
   "metadata": {},
   "outputs": [],
   "source": [
    "for stock,data in msg['data'].items():\n",
    "        stock_name = stock.split(':')[1]\n",
    "        ltp = data['last_price']\n",
    "        print('{}=>{}'.format(stock_name, ltp))"
   ]
  },
  {
   "cell_type": "code",
   "execution_count": null,
   "metadata": {},
   "outputs": [],
   "source": [
    "from lib.data_model_lib import *\n",
    "live_cache = cache_state('backtest_web')\n",
    "live_cache.getValue()"
   ]
  },
  {
   "cell_type": "code",
   "execution_count": 8,
   "metadata": {},
   "outputs": [],
   "source": [
    "data = ['WIPRO','TCS']\n",
    "fromDate = startDate = '2019-4-22'\n",
    "toDate  = '2019-4-24'\n",
    "hdf_freq = 'minute'\n",
    "mydate = fromDate\n",
    "exchange = 'NSE'\n",
    "\n",
    "ohlc_data = {}\n",
    "for stock_key in data: #Initialize\n",
    "    # Load data from the Cache\n",
    "    #cache.setValue(stock_key, 'hdf_freq', hdf_freq)        \n",
    "    df = getData(stock_key, startDate, toDate, exchange, hdf_freq, False, stock_key)\n",
    "    ohlc_data[stock_key] = df\n",
    "    #trade_init(stock_key, algo, freq, qty, sl, target, hdf_freq)\n",
    "\n",
    "#cache.publish('ohlc_tick_handler'+cache_postfix,'start')\n",
    "\n",
    "#cache.set('logMsg'+cache_postfix,'Backtest Started: {} :\\n'.format(stock)) # Used for displaying trade log\n",
    "\n"
   ]
  },
  {
   "cell_type": "code",
   "execution_count": 151,
   "metadata": {},
   "outputs": [
    {
     "data": {
      "text/plain": [
       "3000"
      ]
     },
     "execution_count": 151,
     "metadata": {},
     "output_type": "execute_result"
    }
   ],
   "source": [
    "stock = data[-1]\n",
    "no = ohlc_data[stock].shape[0]\n",
    "#no = 2\n",
    "counter = 0\n",
    "live_cache.delete('tickBuffer')\n",
    "stream_id = lambda x,y:str(int(x.timestamp()+y)*1000)+'-0'\n",
    "for i in np.linspace(0,no-1,no): # Push data\n",
    "    i = int(i)\n",
    "\n",
    "    msg_dict_open = {}\n",
    "    msg_dict_high = {}\n",
    "    msg_dict_low = {}\n",
    "    msg_dict_close = {}\n",
    "    for stock in  data:\n",
    "        row = ohlc_data[stock].iloc[i]\n",
    "        index = ohlc_data[stock].index[i]\n",
    "        \n",
    "        #stream_id = str(int(index.timestamp())*1000)+'-0'\n",
    "        msg = {exchange+\":\"+stock:json.dumps({\"last_price\":row['open']})}\n",
    "        msg_dict_open.update(msg)\n",
    "        \n",
    "        #stream_id = str(int(index.timestamp())*1000)+'-0'\n",
    "        msg = {exchange+\":\"+stock:json.dumps({\"last_price\":row['high']})}\n",
    "        msg_dict_high.update(msg)\n",
    "        \n",
    "        #stream_id = str(int(index.timestamp())*1000)+'-0'\n",
    "        msg = {exchange+\":\"+stock:json.dumps({\"last_price\":row['low']})}\n",
    "        msg_dict_low.update(msg)\n",
    "        \n",
    "        #stream_id = str(int(index.timestamp())*1000)+'-0'\n",
    "        msg = {exchange+\":\"+stock:json.dumps({\"last_price\":row['close']})}\n",
    "        msg_dict_close.update(msg)\n",
    "        \n",
    "    \n",
    "    live_cache.xadd('tickBuffer', {'data':json.dumps(msg_dict_open)}, id=stream_id(index,5))\n",
    "    live_cache.xadd('tickBuffer', {'data':json.dumps(msg_dict_high)}, id=stream_id(index,10))\n",
    "    live_cache.xadd('tickBuffer', {'data':json.dumps(msg_dict_low)}, id=stream_id(index,20))\n",
    "    live_cache.xadd('tickBuffer', {'data':json.dumps(msg_dict_close)}, id=stream_id(index,30))\n",
    "    \n",
    "live_cache.xlen('tickBuffer')"
   ]
  },
  {
   "cell_type": "code",
   "execution_count": 152,
   "metadata": {},
   "outputs": [
    {
     "data": {
      "text/plain": [
       "750"
      ]
     },
     "execution_count": 152,
     "metadata": {},
     "output_type": "execute_result"
    }
   ],
   "source": [
    "ohlc_data[stock].shape[0]"
   ]
  },
  {
   "cell_type": "code",
   "execution_count": 63,
   "metadata": {},
   "outputs": [
    {
     "name": "stdout",
     "output_type": "stream",
     "text": [
      "Help on method xadd in module redis.client:\n",
      "\n",
      "xadd(name, fields, id='*', maxlen=None, approximate=True) method of lib.data_model_lib.cache_state instance\n",
      "    Add to a stream.\n",
      "    name: name of the stream\n",
      "    fields: dict of field/value pairs to insert into the stream\n",
      "    id: Location to insert this record. By default it is appended.\n",
      "    maxlen: truncate old stream members beyond this size\n",
      "    approximate: actual stream length may be slightly more than maxlen\n",
      "\n"
     ]
    }
   ],
   "source": [
    "help(live_cache.xadd)"
   ]
  },
  {
   "cell_type": "code",
   "execution_count": null,
   "metadata": {},
   "outputs": [],
   "source": []
  },
  {
   "cell_type": "code",
   "execution_count": null,
   "metadata": {},
   "outputs": [],
   "source": []
  },
  {
   "cell_type": "code",
   "execution_count": null,
   "metadata": {},
   "outputs": [],
   "source": []
  },
  {
   "cell_type": "code",
   "execution_count": null,
   "metadata": {
    "scrolled": true
   },
   "outputs": [],
   "source": []
  },
  {
   "cell_type": "code",
   "execution_count": null,
   "metadata": {},
   "outputs": [],
   "source": []
  }
 ],
 "metadata": {
  "kernelspec": {
   "display_name": "Python 3",
   "language": "python",
   "name": "python3"
  },
  "language_info": {
   "codemirror_mode": {
    "name": "ipython",
    "version": 3
   },
   "file_extension": ".py",
   "mimetype": "text/x-python",
   "name": "python",
   "nbconvert_exporter": "python",
   "pygments_lexer": "ipython3",
   "version": "3.7.7"
  }
 },
 "nbformat": 4,
 "nbformat_minor": 4
}
