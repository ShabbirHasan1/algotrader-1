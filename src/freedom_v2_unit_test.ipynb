{
 "cells": [
  {
   "cell_type": "code",
   "execution_count": 1,
   "metadata": {},
   "outputs": [],
   "source": [
    "%load_ext autoreload\n",
    "%autoreload 2\n",
    "#from lib.multitasking_lib import *"
   ]
  },
  {
   "cell_type": "code",
   "execution_count": 2,
   "metadata": {},
   "outputs": [],
   "source": [
    "from lib.multitasking_lib import *\n",
    "cache_type ='backtest_uni'\n",
    "\n",
    "my_cache = cache_state('backtest_uni')"
   ]
  },
  {
   "cell_type": "code",
   "execution_count": 3,
   "metadata": {},
   "outputs": [],
   "source": [
    "def load_algo_to_redis(filename):\n",
    "    algo = open('algo/'+filename+'.txt')\n",
    "    algo_str = algo.read()\n",
    "    my_cache.hset('algos', filename,algo_str)\n",
    "    \n"
   ]
  },
  {
   "cell_type": "code",
   "execution_count": 4,
   "metadata": {},
   "outputs": [],
   "source": [
    "load_algo_to_redis('breakout_1')"
   ]
  },
  {
   "cell_type": "code",
   "execution_count": 9,
   "metadata": {
    "scrolled": true
   },
   "outputs": [
    {
     "name": "stderr",
     "output_type": "stream",
     "text": [
      "2020-06-06 11:49:56,484 INFO:\tStarting Handler: kite_simulator\n"
     ]
    },
    {
     "name": "stdout",
     "output_type": "stream",
     "text": [
      "True\n",
      "['order_handlerbacktest_web', 'ohlc_tick_handlerbacktest_web', 'kite_simulatorbacktest_web', 'kite_ticker_handlerlive', 'ohlc_tick_handlerlive', 'order_notification_handlerlive', 'order_handlerlive']\n",
      "[]\n"
     ]
    },
    {
     "name": "stderr",
     "output_type": "stream",
     "text": [
      "2020-06-06 11:49:56,491 INFO:\tStarting Handler: ohlc_tick_handler\n",
      "2020-06-06 11:49:56,492 INFO:\tStarting Handler: order_handler\n",
      "2020-06-06 11:49:56,509 DEBUG:\tkite_simulator: 1\n",
      "2020-06-06 11:49:56,539 DEBUG:\tohlc_tick_handler(backtest_uni) - INIT: 1\n",
      "2020-06-06 11:49:56,557 ERROR:\tkite_simulator: Invalid msg: 1\n",
      "2020-06-06 11:49:56,573 DEBUG:\torder_handler(backtest_uni): 1\n",
      "2020-06-06 11:49:56,637 ERROR:\tError in order handler\n",
      "2020-06-06 11:49:57,895 DEBUG:\tkite_simulator: {\"stock\": [\"TCS\", \"WIPRO\"], \"sl\": 1, \"target\": 1, \"qty\": 10, \"algo\": \"haikin_1_new\", \"fromDate\": \"2019-4-1\", \"toDate\": \"2019-4-2\", \"freq\": \"1T\", \"mode\": \"full\"}\n",
      "2020-06-06 11:49:57,922 DEBUG:\tTrade_init: TCS\n",
      "2020-06-06 11:49:57,950 INFO:\tReset Cache for: TCSbacktest_uni\n",
      "2020-06-06 11:49:57,976 INFO:\tTCSbacktest_uni=>{'stock': 'TCS', 'qty': '0', 'SL %': '0.0', 'TP %': '0.0', 'amount': '0', 'price': '0.0', 'P&L': '0.0', 'P&L %': '0.0', 'Total P&L': '0.0', 'Total P&L %': '0.0', 'low': '0.0', 'sl': '0.0', 'ltp': '0.0', 'ltp %': '0.0', 'tp': '0.0', 'high': '0.0', 'last_processed': '0', 'state': 'INIT', 'mode': 'PAUSE', 'algo': '', 'freq': '1T', 'hdf_freq': 'minute', 'order_id': '0'}\n",
      "2020-06-06 11:49:58,824 DEBUG:\tTrade_init: WIPRO\n",
      "2020-06-06 11:49:58,834 INFO:\tReset Cache for: WIPRObacktest_uni\n",
      "2020-06-06 11:49:58,855 INFO:\tWIPRObacktest_uni=>{'stock': 'WIPRO', 'qty': '0', 'SL %': '0.0', 'TP %': '0.0', 'amount': '0', 'price': '0.0', 'P&L': '0.0', 'P&L %': '0.0', 'Total P&L': '0.0', 'Total P&L %': '0.0', 'low': '0.0', 'sl': '0.0', 'ltp': '0.0', 'ltp %': '0.0', 'tp': '0.0', 'high': '0.0', 'last_processed': '0', 'state': 'INIT', 'mode': 'PAUSE', 'algo': '', 'freq': '1T', 'hdf_freq': 'minute', 'order_id': '0'}\n",
      "2020-06-06 11:49:59,185 INFO:\tRunning Full Backtest\n",
      "TRADE: B: EN:  : 2019-04-01 09:17 : TCS -> 2012.05\n",
      "2020-06-06 11:49:59,626 DEBUG:\tPlace Order: 2012.05,0.0,0,0.0\n",
      "2020-06-06 11:49:59,659 DEBUG:\torder_handler(backtest_uni): {\"cmd\": \"buy\", \"symbol\": \"TCS\", \"price\": 2012.05, \"qty\": 10.0}\n",
      "2020-06-06 11:49:59,718 INFO:\tPlaceorder(full):buy: TCS: 10x2012.05\n",
      "2020-06-06 11:49:59,756 INFO:\tPO:LONG\n",
      "TRADE: S: EX:  : 2019-04-01 09:19 : TCS -> 2010.45\n",
      "2020-06-06 11:50:00,291 DEBUG:\tPlace Order: 2010.45,2012.05,0,0.0\n",
      "2020-06-06 11:50:00,317 DEBUG:\torder_handler(backtest_uni): {\"cmd\": \"sell\", \"symbol\": \"TCS\", \"price\": 2010.45, \"qty\": 10.0}\n",
      "2020-06-06 11:50:00,360 INFO:\tPlaceorder(full):sell: TCS: 10x2010.45\n",
      "2020-06-06 11:50:00,389 INFO:\tSQUAREOFF:LONG\n",
      "TRADE: S: EN:  : 2019-04-01 09:20 : WIPRO -> 257.15\n",
      "2020-06-06 11:50:00,774 DEBUG:\tPlace Order: 257.15,0.0,0,0.0\n",
      "2020-06-06 11:50:00,796 DEBUG:\torder_handler(backtest_uni): {\"cmd\": \"sell\", \"symbol\": \"WIPRO\", \"price\": 257.15, \"qty\": 10.0}\n",
      "2020-06-06 11:50:00,873 INFO:\tPlaceorder(full):sell: WIPRO: 10x257.15\n",
      "2020-06-06 11:50:00,913 INFO:\tPO:SHORT\n",
      "TRADE: B: EN:  : 2019-04-01 09:22 : TCS -> 2012.25\n",
      "2020-06-06 11:50:01,242 DEBUG:\tPlace Order: 2012.25,0.0,0,-15.99999999999909\n",
      "2020-06-06 11:50:01,268 DEBUG:\torder_handler(backtest_uni): {\"cmd\": \"buy\", \"symbol\": \"TCS\", \"price\": 2012.25, \"qty\": 10.0}\n",
      "2020-06-06 11:50:01,318 INFO:\tPlaceorder(full):buy: TCS: 10x2012.25\n",
      "2020-06-06 11:50:01,359 INFO:\tPO:LONG\n",
      "TRADE: B: EX:  : 2019-04-01 09:26 : WIPRO -> 257.4\n",
      "2020-06-06 11:50:02,218 DEBUG:\tPlace Order: 257.4,257.15,0,0.0\n",
      "2020-06-06 11:50:02,239 DEBUG:\torder_handler(backtest_uni): {\"cmd\": \"buy\", \"symbol\": \"WIPRO\", \"price\": 257.4, \"qty\": 10.0}\n",
      "2020-06-06 11:50:02,291 INFO:\tPlaceorder(full):buy: WIPRO: 10x257.4\n",
      "2020-06-06 11:50:02,315 INFO:\tSQUAREOFF:SHORT\n",
      "TRADE: S: EX:  : 2019-04-01 09:27 : TCS -> 2013.95\n",
      "2020-06-06 11:50:02,403 DEBUG:\tPlace Order: 2013.95,2012.25,0,-15.99999999999909\n",
      "2020-06-06 11:50:02,424 DEBUG:\torder_handler(backtest_uni): {\"cmd\": \"sell\", \"symbol\": \"TCS\", \"price\": 2013.95, \"qty\": 10.0}\n",
      "2020-06-06 11:50:02,438 INFO:\tPlaceorder(full):sell: TCS: 10x2013.95\n",
      "2020-06-06 11:50:02,508 INFO:\tSQUAREOFF:LONG\n",
      "TRADE: S: EN:  : 2019-04-01 09:27 : WIPRO -> 257.35\n",
      "2020-06-06 11:50:02,592 DEBUG:\tPlace Order: 257.35,0.0,0,-2.5\n",
      "2020-06-06 11:50:02,615 DEBUG:\torder_handler(backtest_uni): {\"cmd\": \"sell\", \"symbol\": \"WIPRO\", \"price\": 257.35, \"qty\": 10.0}\n",
      "2020-06-06 11:50:02,633 INFO:\tPlaceorder(full):sell: WIPRO: 10x257.35\n",
      "2020-06-06 11:50:02,668 INFO:\tPO:SHORT\n",
      "TRADE: B: EN:  : 2019-04-01 09:29 : TCS -> 2014.55\n",
      "2020-06-06 11:50:02,991 DEBUG:\tPlace Order: 2014.55,0.0,0,1.0000000000013642\n",
      "2020-06-06 11:50:03,021 DEBUG:\torder_handler(backtest_uni): {\"cmd\": \"buy\", \"symbol\": \"TCS\", \"price\": 2014.55, \"qty\": 10.0}\n",
      "2020-06-06 11:50:03,088 INFO:\tPlaceorder(full):buy: TCS: 10x2014.55\n",
      "2020-06-06 11:50:03,098 INFO:\tPO:LONG\n",
      "TRADE: B: EX:  : 2019-04-01 09:29 : WIPRO -> 257.65\n",
      "2020-06-06 11:50:03,275 DEBUG:\tPlace Order: 257.65,257.35,0,-2.5\n",
      "2020-06-06 11:50:03,305 DEBUG:\torder_handler(backtest_uni): {\"cmd\": \"buy\", \"symbol\": \"WIPRO\", \"price\": 257.65, \"qty\": 10.0}\n",
      "2020-06-06 11:50:03,423 INFO:\tPlaceorder(full):buy: WIPRO: 10x257.65\n",
      "2020-06-06 11:50:03,495 INFO:\tSQUAREOFF:SHORT\n",
      "TRADE: S: EX:  : 2019-04-01 09:30 : TCS -> 2013.4\n",
      "2020-06-06 11:50:03,639 DEBUG:\tPlace Order: 2013.4,2014.55,0,1.0000000000013642\n",
      "2020-06-06 11:50:03,666 DEBUG:\torder_handler(backtest_uni): {\"cmd\": \"sell\", \"symbol\": \"TCS\", \"price\": 2013.4, \"qty\": 10.0}\n",
      "2020-06-06 11:50:03,702 INFO:\tPlaceorder(full):sell: TCS: 10x2013.4\n",
      "2020-06-06 11:50:03,761 INFO:\tSQUAREOFF:LONG\n",
      "TRADE: S: EN:  : 2019-04-01 09:31 : WIPRO -> 257.5\n",
      "2020-06-06 11:50:04,030 DEBUG:\tPlace Order: 257.5,0.0,0,-5.499999999999545\n",
      "2020-06-06 11:50:04,051 DEBUG:\torder_handler(backtest_uni): {\"cmd\": \"sell\", \"symbol\": \"WIPRO\", \"price\": 257.5, \"qty\": 10.0}\n",
      "2020-06-06 11:50:04,141 INFO:\tPlaceorder(full):sell: WIPRO: 10x257.5\n",
      "2020-06-06 11:50:04,206 INFO:\tPO:SHORT\n",
      "TRADE: B: EN:  : 2019-04-01 09:32 : TCS -> 2013.3\n",
      "2020-06-06 11:50:04,357 DEBUG:\tPlace Order: 2013.3,0.0,0,-10.499999999997272\n",
      "2020-06-06 11:50:04,381 DEBUG:\torder_handler(backtest_uni): {\"cmd\": \"buy\", \"symbol\": \"TCS\", \"price\": 2013.3, \"qty\": 10.0}\n",
      "2020-06-06 11:50:04,394 INFO:\tPlaceorder(full):buy: TCS: 10x2013.3\n",
      "2020-06-06 11:50:04,407 INFO:\tPO:LONG\n",
      "TRADE: S: EX:  : 2019-04-01 09:33 : TCS -> 2012.2\n",
      "2020-06-06 11:50:04,699 DEBUG:\tPlace Order: 2012.2,2013.3,0,-10.499999999997272\n",
      "2020-06-06 11:50:04,729 DEBUG:\torder_handler(backtest_uni): {\"cmd\": \"sell\", \"symbol\": \"TCS\", \"price\": 2012.2, \"qty\": 10.0}\n",
      "2020-06-06 11:50:04,783 INFO:\tPlaceorder(full):sell: TCS: 10x2012.2\n",
      "2020-06-06 11:50:04,796 INFO:\tSQUAREOFF:LONG\n",
      "TRADE: B: EX:  : 2019-04-01 09:33 : WIPRO -> 257.55\n",
      "2020-06-06 11:50:04,946 DEBUG:\tPlace Order: 257.55,257.5,0,-5.499999999999545\n",
      "2020-06-06 11:50:04,964 DEBUG:\torder_handler(backtest_uni): {\"cmd\": \"buy\", \"symbol\": \"WIPRO\", \"price\": 257.55, \"qty\": 10.0}\n",
      "2020-06-06 11:50:05,029 INFO:\tPlaceorder(full):buy: WIPRO: 10x257.55\n",
      "2020-06-06 11:50:05,052 INFO:\tSQUAREOFF:SHORT\n",
      "TRADE: S: EN:  : 2019-04-01 09:34 : WIPRO -> 257.5\n",
      "2020-06-06 11:50:05,250 DEBUG:\tPlace Order: 257.5,0.0,0,-5.999999999999659\n",
      "2020-06-06 11:50:05,272 DEBUG:\torder_handler(backtest_uni): {\"cmd\": \"sell\", \"symbol\": \"WIPRO\", \"price\": 257.5, \"qty\": 10.0}\n",
      "2020-06-06 11:50:05,338 INFO:\tPlaceorder(full):sell: WIPRO: 10x257.5\n",
      "2020-06-06 11:50:05,390 INFO:\tPO:SHORT\n",
      "TRADE: B: EN:  : 2019-04-01 09:36 : TCS -> 2014.0\n",
      "2020-06-06 11:50:05,806 DEBUG:\tPlace Order: 2014.0,0.0,0,-21.499999999996362\n",
      "2020-06-06 11:50:05,829 DEBUG:\torder_handler(backtest_uni): {\"cmd\": \"buy\", \"symbol\": \"TCS\", \"price\": 2014.0, \"qty\": 10.0}\n",
      "2020-06-06 11:50:05,904 INFO:\tPlaceorder(full):buy: TCS: 10x2014.0\n",
      "2020-06-06 11:50:05,916 INFO:\tPO:LONG\n",
      "TRADE: S: EX:  : 2019-04-01 09:37 : TCS -> 2011.8\n",
      "2020-06-06 11:50:06,142 DEBUG:\tPlace Order: 2011.8,2014.0,0,-21.499999999996362\n",
      "2020-06-06 11:50:06,169 DEBUG:\torder_handler(backtest_uni): {\"cmd\": \"sell\", \"symbol\": \"TCS\", \"price\": 2011.8, \"qty\": 10.0}\n",
      "2020-06-06 11:50:06,189 INFO:\tPlaceorder(full):sell: TCS: 10x2011.8\n",
      "2020-06-06 11:50:06,225 INFO:\tSQUAREOFF:LONG\n",
      "TRADE: B: EN:  : 2019-04-01 09:39 : TCS -> 2013.5\n",
      "2020-06-06 11:50:06,699 DEBUG:\tPlace Order: 2013.5,0.0,0,-43.49999999999682\n",
      "2020-06-06 11:50:06,715 DEBUG:\torder_handler(backtest_uni): {\"cmd\": \"buy\", \"symbol\": \"TCS\", \"price\": 2013.5, \"qty\": 10.0}\n",
      "2020-06-06 11:50:06,810 INFO:\tPlaceorder(full):buy: TCS: 10x2013.5\n",
      "2020-06-06 11:50:06,838 INFO:\tPO:LONG\n",
      "TRADE: S: EX:  : 2019-04-01 09:44 : TCS -> 2016.05\n"
     ]
    },
    {
     "name": "stderr",
     "output_type": "stream",
     "text": [
      "2020-06-06 11:50:07,852 DEBUG:\tPlace Order: 2016.05,2013.5,0,-43.49999999999682\n",
      "2020-06-06 11:50:07,866 DEBUG:\torder_handler(backtest_uni): {\"cmd\": \"sell\", \"symbol\": \"TCS\", \"price\": 2016.05, \"qty\": 10.0}\n",
      "2020-06-06 11:50:07,935 INFO:\tPlaceorder(full):sell: TCS: 10x2016.05\n",
      "2020-06-06 11:50:07,944 INFO:\tSQUAREOFF:LONG\n",
      "TRADE: B: EX:  : 2019-04-01 09:44 : WIPRO -> 257.2\n",
      "2020-06-06 11:50:08,051 DEBUG:\tPlace Order: 257.2,257.5,0,-5.999999999999659\n",
      "2020-06-06 11:50:08,074 DEBUG:\torder_handler(backtest_uni): {\"cmd\": \"buy\", \"symbol\": \"WIPRO\", \"price\": 257.2, \"qty\": 10.0}\n",
      "2020-06-06 11:50:08,130 INFO:\tPlaceorder(full):buy: WIPRO: 10x257.2\n",
      "2020-06-06 11:50:08,148 INFO:\tSQUAREOFF:SHORT\n",
      "TRADE: S: EN:  : 2019-04-01 09:45 : WIPRO -> 256.7\n",
      "2020-06-06 11:50:08,348 DEBUG:\tPlace Order: 256.7,0.0,0,-2.9999999999995453\n",
      "2020-06-06 11:50:08,372 DEBUG:\torder_handler(backtest_uni): {\"cmd\": \"sell\", \"symbol\": \"WIPRO\", \"price\": 256.7, \"qty\": 10.0}\n",
      "2020-06-06 11:50:08,440 INFO:\tPlaceorder(full):sell: WIPRO: 10x256.7\n",
      "2020-06-06 11:50:08,457 INFO:\tPO:SHORT\n",
      "TRADE: B: EX:  : 2019-04-01 09:46 : WIPRO -> 257.3\n",
      "2020-06-06 11:50:08,656 DEBUG:\tPlace Order: 257.3,256.7,0,-2.9999999999995453\n",
      "2020-06-06 11:50:08,677 DEBUG:\torder_handler(backtest_uni): {\"cmd\": \"buy\", \"symbol\": \"WIPRO\", \"price\": 257.3, \"qty\": 10.0}\n",
      "2020-06-06 11:50:08,735 INFO:\tPlaceorder(full):buy: WIPRO: 10x257.3\n",
      "2020-06-06 11:50:08,766 INFO:\tSQUAREOFF:SHORT\n",
      "TRADE: S: EN:  : 2019-04-01 09:48 : WIPRO -> 257.3\n",
      "2020-06-06 11:50:09,106 DEBUG:\tPlace Order: 257.3,0.0,0,-8.999999999999773\n",
      "2020-06-06 11:50:09,133 DEBUG:\torder_handler(backtest_uni): {\"cmd\": \"sell\", \"symbol\": \"WIPRO\", \"price\": 257.3, \"qty\": 10.0}\n",
      "2020-06-06 11:50:09,149 INFO:\tPlaceorder(full):sell: WIPRO: 10x257.3\n",
      "2020-06-06 11:50:09,199 INFO:\tPO:SHORT\n",
      "TRADE: B: EN:  : 2019-04-01 09:51 : TCS -> 2014.5\n",
      "2020-06-06 11:50:09,656 DEBUG:\tPlace Order: 2014.5,0.0,0,-17.99999999999727\n",
      "2020-06-06 11:50:09,682 DEBUG:\torder_handler(backtest_uni): {\"cmd\": \"buy\", \"symbol\": \"TCS\", \"price\": 2014.5, \"qty\": 10.0}\n",
      "2020-06-06 11:50:09,735 INFO:\tPlaceorder(full):buy: TCS: 10x2014.5\n",
      "2020-06-06 11:50:09,755 INFO:\tPO:LONG\n",
      "TRADE: B: EX:  : 2019-04-01 09:52 : WIPRO -> 256.9\n",
      "2020-06-06 11:50:10,041 DEBUG:\tPlace Order: 256.9,257.3,0,-8.999999999999773\n",
      "2020-06-06 11:50:10,063 DEBUG:\torder_handler(backtest_uni): {\"cmd\": \"buy\", \"symbol\": \"WIPRO\", \"price\": 256.9, \"qty\": 10.0}\n",
      "2020-06-06 11:50:10,135 INFO:\tPlaceorder(full):buy: WIPRO: 10x256.9\n",
      "2020-06-06 11:50:10,166 INFO:\tSQUAREOFF:SHORT\n",
      "TRADE: S: EX:  : 2019-04-01 09:55 : TCS -> 2016.25\n",
      "2020-06-06 11:50:10,613 DEBUG:\tPlace Order: 2016.25,2014.5,0,-17.99999999999727\n",
      "2020-06-06 11:50:10,633 DEBUG:\torder_handler(backtest_uni): {\"cmd\": \"sell\", \"symbol\": \"TCS\", \"price\": 2016.25, \"qty\": 10.0}\n",
      "2020-06-06 11:50:10,699 INFO:\tPlaceorder(full):sell: TCS: 10x2016.25\n",
      "2020-06-06 11:50:10,716 INFO:\tSQUAREOFF:LONG\n",
      "TRADE: S: EN:  : 2019-04-01 09:56 : WIPRO -> 257.3\n",
      "2020-06-06 11:50:10,988 DEBUG:\tPlace Order: 257.3,0.0,0,-4.999999999999432\n",
      "2020-06-06 11:50:11,007 DEBUG:\torder_handler(backtest_uni): {\"cmd\": \"sell\", \"symbol\": \"WIPRO\", \"price\": 257.3, \"qty\": 10.0}\n",
      "2020-06-06 11:50:11,074 INFO:\tPlaceorder(full):sell: WIPRO: 10x257.3\n",
      "2020-06-06 11:50:11,094 INFO:\tPO:SHORT\n",
      "TRADE: B: EN:  : 2019-04-01 09:57 : TCS -> 2019.5\n",
      "2020-06-06 11:50:11,194 DEBUG:\tPlace Order: 2019.5,0.0,0,-0.4999999999972715\n",
      "2020-06-06 11:50:11,217 DEBUG:\torder_handler(backtest_uni): {\"cmd\": \"buy\", \"symbol\": \"TCS\", \"price\": 2019.5, \"qty\": 10.0}\n",
      "2020-06-06 11:50:11,283 INFO:\tPlaceorder(full):buy: TCS: 10x2019.5\n",
      "2020-06-06 11:50:11,305 INFO:\tPO:LONG\n",
      "TRADE: B: EX:  : 2019-04-01 09:58 : WIPRO -> 257.6\n",
      "2020-06-06 11:50:11,582 DEBUG:\tPlace Order: 257.6,257.3,0,-4.999999999999432\n",
      "2020-06-06 11:50:11,626 DEBUG:\torder_handler(backtest_uni): {\"cmd\": \"buy\", \"symbol\": \"WIPRO\", \"price\": 257.6, \"qty\": 10.0}\n",
      "2020-06-06 11:50:11,662 INFO:\tPlaceorder(full):buy: WIPRO: 10x257.6\n",
      "2020-06-06 11:50:11,701 INFO:\tSQUAREOFF:SHORT\n",
      "TRADE: S: EN:  : 2019-04-01 10:03 : WIPRO -> 258.0\n",
      "2020-06-06 11:50:12,798 DEBUG:\tPlace Order: 258.0,0.0,0,-7.999999999999545\n",
      "2020-06-06 11:50:12,823 DEBUG:\torder_handler(backtest_uni): {\"cmd\": \"sell\", \"symbol\": \"WIPRO\", \"price\": 258.0, \"qty\": 10.0}\n",
      "2020-06-06 11:50:12,908 INFO:\tPlaceorder(full):sell: WIPRO: 10x258.0\n",
      "2020-06-06 11:50:12,939 INFO:\tPO:SHORT\n",
      "TRADE: B: EX:  : 2019-04-01 10:04 : WIPRO -> 258.2\n",
      "2020-06-06 11:50:13,694 DEBUG:\tPlace Order: 258.2,258.0,0,-7.999999999999545\n",
      "2020-06-06 11:50:13,722 DEBUG:\torder_handler(backtest_uni): {\"cmd\": \"buy\", \"symbol\": \"WIPRO\", \"price\": 258.2, \"qty\": 10.0}\n",
      "2020-06-06 11:50:13,784 INFO:\tPlaceorder(full):buy: WIPRO: 10x258.2\n",
      "2020-06-06 11:50:13,852 INFO:\tSQUAREOFF:SHORT\n",
      "TRADE: B: EN:  : 2019-04-01 10:05 : WIPRO -> 258.35\n",
      "2020-06-06 11:50:14,163 DEBUG:\tPlace Order: 258.35,0.0,0,-9.999999999999432\n",
      "2020-06-06 11:50:14,184 DEBUG:\torder_handler(backtest_uni): {\"cmd\": \"buy\", \"symbol\": \"WIPRO\", \"price\": 258.35, \"qty\": 10.0}\n",
      "2020-06-06 11:50:14,259 INFO:\tPlaceorder(full):buy: WIPRO: 10x258.35\n",
      "2020-06-06 11:50:14,279 INFO:\tPO:LONG\n",
      "TRADE: S: EX:  : 2019-04-01 10:07 : TCS -> 2026.0\n",
      "2020-06-06 11:50:14,728 DEBUG:\tPlace Order: 2026.0,2019.5,0,-0.4999999999972715\n",
      "2020-06-06 11:50:14,751 DEBUG:\torder_handler(backtest_uni): {\"cmd\": \"sell\", \"symbol\": \"TCS\", \"price\": 2026.0, \"qty\": 10.0}\n",
      "2020-06-06 11:50:14,818 INFO:\tPlaceorder(full):sell: TCS: 10x2026.0\n",
      "2020-06-06 11:50:14,833 INFO:\tSQUAREOFF:LONG\n",
      "TRADE: B: EN:  : 2019-04-01 10:09 : TCS -> 2027.75\n",
      "2020-06-06 11:50:15,287 DEBUG:\tPlace Order: 2027.75,0.0,0,64.50000000000273\n",
      "2020-06-06 11:50:15,303 DEBUG:\torder_handler(backtest_uni): {\"cmd\": \"buy\", \"symbol\": \"TCS\", \"price\": 2027.75, \"qty\": 10.0}\n",
      "2020-06-06 11:50:15,362 INFO:\tPlaceorder(full):buy: TCS: 10x2027.75\n",
      "2020-06-06 11:50:15,387 INFO:\tPO:LONG\n",
      "TRADE: S: EX:  : 2019-04-01 10:11 : TCS -> 2026.95\n",
      "2020-06-06 11:50:15,801 DEBUG:\tPlace Order: 2026.95,2027.75,0,64.50000000000273\n",
      "2020-06-06 11:50:15,828 DEBUG:\torder_handler(backtest_uni): {\"cmd\": \"sell\", \"symbol\": \"TCS\", \"price\": 2026.95, \"qty\": 10.0}\n",
      "2020-06-06 11:50:15,894 INFO:\tPlaceorder(full):sell: TCS: 10x2026.95\n",
      "2020-06-06 11:50:15,908 INFO:\tSQUAREOFF:LONG\n",
      "TRADE: S: TP:  : 2019-04-01 10:12 : WIPRO -> 261.0\n",
      "2020-06-06 11:50:16,171 DEBUG:\tPlace Order: 261.0,258.35,0,-9.999999999999432\n",
      "2020-06-06 11:50:16,190 DEBUG:\torder_handler(backtest_uni): {\"cmd\": \"sell\", \"symbol\": \"WIPRO\", \"price\": 261.0, \"qty\": 10.0}\n",
      "2020-06-06 11:50:16,252 INFO:\tPlaceorder(full):sell: WIPRO: 10x261.0\n",
      "2020-06-06 11:50:16,266 INFO:\tSQUAREOFF:LONG\n",
      "TRADE: B: EN:  : 2019-04-01 10:14 : TCS -> 2026.25\n",
      "2020-06-06 11:50:16,558 DEBUG:\tPlace Order: 2026.25,0.0,0,56.50000000000318\n",
      "2020-06-06 11:50:16,584 DEBUG:\torder_handler(backtest_uni): {\"cmd\": \"buy\", \"symbol\": \"TCS\", \"price\": 2026.25, \"qty\": 10.0}\n",
      "2020-06-06 11:50:16,655 INFO:\tPlaceorder(full):buy: TCS: 10x2026.25\n",
      "2020-06-06 11:50:16,688 INFO:\tPO:LONG\n",
      "TRADE: S: EX:  : 2019-04-01 10:15 : TCS -> 2026.9\n",
      "2020-06-06 11:50:16,902 DEBUG:\tPlace Order: 2026.9,2026.25,0,56.50000000000318\n",
      "2020-06-06 11:50:16,920 DEBUG:\torder_handler(backtest_uni): {\"cmd\": \"sell\", \"symbol\": \"TCS\", \"price\": 2026.9, \"qty\": 10.0}\n",
      "2020-06-06 11:50:17,012 INFO:\tPlaceorder(full):sell: TCS: 10x2026.9\n",
      "2020-06-06 11:50:17,045 INFO:\tSQUAREOFF:LONG\n",
      "TRADE: S: EN:  : 2019-04-01 10:15 : WIPRO -> 260.7\n",
      "2020-06-06 11:50:17,159 DEBUG:\tPlace Order: 260.7,0.0,0,16.50000000000034\n",
      "2020-06-06 11:50:17,180 DEBUG:\torder_handler(backtest_uni): {\"cmd\": \"sell\", \"symbol\": \"WIPRO\", \"price\": 260.7, \"qty\": 10.0}\n",
      "2020-06-06 11:50:17,242 INFO:\tPlaceorder(full):sell: WIPRO: 10x260.7\n",
      "2020-06-06 11:50:17,267 INFO:\tPO:SHORT\n",
      "TRADE: B: EN:  : 2019-04-01 10:17 : TCS -> 2027.5\n",
      "2020-06-06 11:50:17,544 DEBUG:\tPlace Order: 2027.5,0.0,0,63.00000000000409\n",
      "2020-06-06 11:50:17,572 DEBUG:\torder_handler(backtest_uni): {\"cmd\": \"buy\", \"symbol\": \"TCS\", \"price\": 2027.5, \"qty\": 10.0}\n",
      "2020-06-06 11:50:17,614 INFO:\tPlaceorder(full):buy: TCS: 10x2027.5\n",
      "2020-06-06 11:50:17,673 INFO:\tPO:LONG\n",
      "TRADE: B: EX:  : 2019-04-01 10:20 : WIPRO -> 260.65\n",
      "2020-06-06 11:50:18,320 DEBUG:\tPlace Order: 260.65,260.7,0,16.50000000000034\n",
      "2020-06-06 11:50:18,339 DEBUG:\torder_handler(backtest_uni): {\"cmd\": \"buy\", \"symbol\": \"WIPRO\", \"price\": 260.65, \"qty\": 10.0}\n",
      "2020-06-06 11:50:18,406 INFO:\tPlaceorder(full):buy: WIPRO: 10x260.65\n"
     ]
    },
    {
     "name": "stderr",
     "output_type": "stream",
     "text": [
      "2020-06-06 11:50:18,421 INFO:\tSQUAREOFF:SHORT\n",
      "TRADE: S: EX:  : 2019-04-01 10:22 : TCS -> 2028.0\n",
      "2020-06-06 11:50:18,718 DEBUG:\tPlace Order: 2028.0,2027.5,0,63.00000000000409\n",
      "2020-06-06 11:50:18,747 DEBUG:\torder_handler(backtest_uni): {\"cmd\": \"sell\", \"symbol\": \"TCS\", \"price\": 2028.0, \"qty\": 10.0}\n",
      "2020-06-06 11:50:18,824 INFO:\tPlaceorder(full):sell: TCS: 10x2028.0\n",
      "2020-06-06 11:50:18,866 INFO:\tSQUAREOFF:LONG\n",
      "TRADE: S: EN:  : 2019-04-01 10:23 : WIPRO -> 261.5\n",
      "2020-06-06 11:50:19,156 DEBUG:\tPlace Order: 261.5,0.0,0,17.000000000000455\n",
      "2020-06-06 11:50:19,177 DEBUG:\torder_handler(backtest_uni): {\"cmd\": \"sell\", \"symbol\": \"WIPRO\", \"price\": 261.5, \"qty\": 10.0}\n",
      "2020-06-06 11:50:19,201 INFO:\tPlaceorder(full):sell: WIPRO: 10x261.5\n",
      "2020-06-06 11:50:19,222 INFO:\tPO:SHORT\n",
      "TRADE: B: EN:  : 2019-04-01 10:24 : TCS -> 2029.95\n",
      "2020-06-06 11:50:19,371 DEBUG:\tPlace Order: 2029.95,0.0,0,68.00000000000409\n",
      "2020-06-06 11:50:19,388 DEBUG:\torder_handler(backtest_uni): {\"cmd\": \"buy\", \"symbol\": \"TCS\", \"price\": 2029.95, \"qty\": 10.0}\n",
      "2020-06-06 11:50:19,468 INFO:\tPlaceorder(full):buy: TCS: 10x2029.95\n",
      "2020-06-06 11:50:19,485 INFO:\tPO:LONG\n",
      "TRADE: B: EX:  : 2019-04-01 10:24 : WIPRO -> 261.45\n",
      "2020-06-06 11:50:19,593 DEBUG:\tPlace Order: 261.45,261.5,0,17.000000000000455\n",
      "2020-06-06 11:50:19,628 DEBUG:\torder_handler(backtest_uni): {\"cmd\": \"buy\", \"symbol\": \"WIPRO\", \"price\": 261.45, \"qty\": 10.0}\n",
      "2020-06-06 11:50:19,666 INFO:\tPlaceorder(full):buy: WIPRO: 10x261.45\n",
      "2020-06-06 11:50:19,705 INFO:\tSQUAREOFF:SHORT\n",
      "TRADE: S: EN:  : 2019-04-01 10:26 : WIPRO -> 261.4\n",
      "2020-06-06 11:50:20,091 DEBUG:\tPlace Order: 261.4,0.0,0,17.50000000000057\n",
      "2020-06-06 11:50:20,115 DEBUG:\torder_handler(backtest_uni): {\"cmd\": \"sell\", \"symbol\": \"WIPRO\", \"price\": 261.4, \"qty\": 10.0}\n",
      "2020-06-06 11:50:20,137 INFO:\tPlaceorder(full):sell: WIPRO: 10x261.4\n",
      "2020-06-06 11:50:20,170 INFO:\tPO:SHORT\n",
      "TRADE: S: EX:  : 2019-04-01 10:27 : TCS -> 2028.75\n",
      "2020-06-06 11:50:20,299 DEBUG:\tPlace Order: 2028.75,2029.95,0,68.00000000000409\n",
      "2020-06-06 11:50:20,318 DEBUG:\torder_handler(backtest_uni): {\"cmd\": \"sell\", \"symbol\": \"TCS\", \"price\": 2028.75, \"qty\": 10.0}\n",
      "2020-06-06 11:50:20,338 INFO:\tPlaceorder(full):sell: TCS: 10x2028.75\n",
      "2020-06-06 11:50:20,355 INFO:\tSQUAREOFF:LONG\n",
      "TRADE: B: EX:  : 2019-04-01 10:27 : WIPRO -> 261.7\n",
      "2020-06-06 11:50:20,500 DEBUG:\tPlace Order: 261.7,261.4,0,17.50000000000057\n",
      "2020-06-06 11:50:20,516 DEBUG:\torder_handler(backtest_uni): {\"cmd\": \"buy\", \"symbol\": \"WIPRO\", \"price\": 261.7, \"qty\": 10.0}\n",
      "2020-06-06 11:50:20,555 INFO:\tPlaceorder(full):buy: WIPRO: 10x261.7\n",
      "2020-06-06 11:50:20,572 INFO:\tSQUAREOFF:SHORT\n",
      "TRADE: S: EN:  : 2019-04-01 10:30 : WIPRO -> 261.75\n",
      "2020-06-06 11:50:21,163 DEBUG:\tPlace Order: 261.75,0.0,0,14.500000000000455\n",
      "2020-06-06 11:50:21,180 DEBUG:\torder_handler(backtest_uni): {\"cmd\": \"sell\", \"symbol\": \"WIPRO\", \"price\": 261.75, \"qty\": 10.0}\n",
      "2020-06-06 11:50:21,198 INFO:\tPlaceorder(full):sell: WIPRO: 10x261.75\n",
      "2020-06-06 11:50:21,250 INFO:\tPO:SHORT\n",
      "TRADE: B: EN:  : 2019-04-01 10:31 : TCS -> 2027.6\n",
      "2020-06-06 11:50:21,379 DEBUG:\tPlace Order: 2027.6,0.0,0,56.00000000000364\n",
      "2020-06-06 11:50:21,404 DEBUG:\torder_handler(backtest_uni): {\"cmd\": \"buy\", \"symbol\": \"TCS\", \"price\": 2027.6, \"qty\": 10.0}\n",
      "2020-06-06 11:50:21,489 INFO:\tPlaceorder(full):buy: TCS: 10x2027.6\n",
      "2020-06-06 11:50:21,506 INFO:\tPO:LONG\n",
      "TRADE: B: EX:  : 2019-04-01 10:31 : WIPRO -> 262.1\n",
      "2020-06-06 11:50:21,635 DEBUG:\tPlace Order: 262.1,261.75,0,14.500000000000455\n",
      "2020-06-06 11:50:21,657 DEBUG:\torder_handler(backtest_uni): {\"cmd\": \"buy\", \"symbol\": \"WIPRO\", \"price\": 262.1, \"qty\": 10.0}\n",
      "2020-06-06 11:50:21,728 INFO:\tPlaceorder(full):buy: WIPRO: 10x262.1\n",
      "2020-06-06 11:50:21,743 INFO:\tSQUAREOFF:SHORT\n",
      "TRADE: S: EX:  : 2019-04-01 10:32 : TCS -> 2024.25\n",
      "2020-06-06 11:50:21,847 DEBUG:\tPlace Order: 2024.25,2027.6,0,56.00000000000364\n",
      "2020-06-06 11:50:21,865 DEBUG:\torder_handler(backtest_uni): {\"cmd\": \"sell\", \"symbol\": \"TCS\", \"price\": 2024.25, \"qty\": 10.0}\n",
      "2020-06-06 11:50:21,934 INFO:\tPlaceorder(full):sell: TCS: 10x2024.25\n",
      "2020-06-06 11:50:21,946 INFO:\tSQUAREOFF:LONG\n",
      "TRADE: S: EN:  : 2019-04-01 10:33 : WIPRO -> 261.05\n",
      "2020-06-06 11:50:22,248 DEBUG:\tPlace Order: 261.05,0.0,0,11.000000000000227\n",
      "2020-06-06 11:50:22,267 DEBUG:\torder_handler(backtest_uni): {\"cmd\": \"sell\", \"symbol\": \"WIPRO\", \"price\": 261.05, \"qty\": 10.0}\n",
      "2020-06-06 11:50:22,318 INFO:\tPlaceorder(full):sell: WIPRO: 10x261.05\n",
      "2020-06-06 11:50:22,346 INFO:\tPO:SHORT\n",
      "TRADE: B: EN:  : 2019-04-01 10:35 : TCS -> 2028.25\n",
      "2020-06-06 11:50:22,829 DEBUG:\tPlace Order: 2028.25,0.0,0,22.500000000004547\n",
      "2020-06-06 11:50:22,847 DEBUG:\torder_handler(backtest_uni): {\"cmd\": \"buy\", \"symbol\": \"TCS\", \"price\": 2028.25, \"qty\": 10.0}\n",
      "2020-06-06 11:50:22,935 INFO:\tPlaceorder(full):buy: TCS: 10x2028.25\n",
      "2020-06-06 11:50:22,955 INFO:\tPO:LONG\n",
      "TRADE: B: EX:  : 2019-04-01 10:38 : WIPRO -> 260.5\n",
      "2020-06-06 11:50:23,917 DEBUG:\tPlace Order: 260.5,261.05,0,11.000000000000227\n",
      "2020-06-06 11:50:23,939 DEBUG:\torder_handler(backtest_uni): {\"cmd\": \"buy\", \"symbol\": \"WIPRO\", \"price\": 260.5, \"qty\": 10.0}\n",
      "2020-06-06 11:50:24,018 INFO:\tPlaceorder(full):buy: WIPRO: 10x260.5\n",
      "2020-06-06 11:50:24,031 INFO:\tSQUAREOFF:SHORT\n",
      "TRADE: S: EX:  : 2019-04-01 10:40 : TCS -> 2028.5\n",
      "2020-06-06 11:50:24,388 DEBUG:\tPlace Order: 2028.5,2028.25,0,22.500000000004547\n",
      "2020-06-06 11:50:24,428 DEBUG:\torder_handler(backtest_uni): {\"cmd\": \"sell\", \"symbol\": \"TCS\", \"price\": 2028.5, \"qty\": 10.0}\n",
      "2020-06-06 11:50:24,467 INFO:\tPlaceorder(full):sell: TCS: 10x2028.5\n",
      "2020-06-06 11:50:24,521 INFO:\tSQUAREOFF:LONG\n",
      "TRADE: B: EN:  : 2019-04-01 10:43 : TCS -> 2029.7\n",
      "2020-06-06 11:50:25,204 DEBUG:\tPlace Order: 2029.7,0.0,0,25.000000000004547\n",
      "2020-06-06 11:50:25,268 DEBUG:\torder_handler(backtest_uni): {\"cmd\": \"buy\", \"symbol\": \"TCS\", \"price\": 2029.7, \"qty\": 10.0}\n",
      "2020-06-06 11:50:25,394 INFO:\tPlaceorder(full):buy: TCS: 10x2029.7\n",
      "2020-06-06 11:50:25,407 INFO:\tPO:LONG\n",
      "TRADE: S: EN:  : 2019-04-01 10:45 : WIPRO -> 260.8\n",
      "2020-06-06 11:50:25,862 DEBUG:\tPlace Order: 260.8,0.0,0,16.50000000000034\n",
      "2020-06-06 11:50:25,879 DEBUG:\torder_handler(backtest_uni): {\"cmd\": \"sell\", \"symbol\": \"WIPRO\", \"price\": 260.8, \"qty\": 10.0}\n",
      "2020-06-06 11:50:25,954 INFO:\tPlaceorder(full):sell: WIPRO: 10x260.8\n",
      "2020-06-06 11:50:25,977 INFO:\tPO:SHORT\n",
      "TRADE: B: EX:  : 2019-04-01 10:46 : WIPRO -> 260.75\n",
      "2020-06-06 11:50:26,203 DEBUG:\tPlace Order: 260.75,260.8,0,16.50000000000034\n",
      "2020-06-06 11:50:26,221 DEBUG:\torder_handler(backtest_uni): {\"cmd\": \"buy\", \"symbol\": \"WIPRO\", \"price\": 260.75, \"qty\": 10.0}\n",
      "2020-06-06 11:50:26,283 INFO:\tPlaceorder(full):buy: WIPRO: 10x260.75\n",
      "2020-06-06 11:50:26,306 INFO:\tSQUAREOFF:SHORT\n",
      "TRADE: S: EN:  : 2019-04-01 10:47 : WIPRO -> 260.8\n",
      "2020-06-06 11:50:26,521 DEBUG:\tPlace Order: 260.8,0.0,0,17.000000000000455\n",
      "2020-06-06 11:50:26,539 DEBUG:\torder_handler(backtest_uni): {\"cmd\": \"sell\", \"symbol\": \"WIPRO\", \"price\": 260.8, \"qty\": 10.0}\n",
      "2020-06-06 11:50:26,577 INFO:\tPlaceorder(full):sell: WIPRO: 10x260.8\n",
      "2020-06-06 11:50:26,641 INFO:\tPO:SHORT\n",
      "TRADE: S: EX:  : 2019-04-01 10:48 : TCS -> 2027.7\n",
      "2020-06-06 11:50:26,768 DEBUG:\tPlace Order: 2027.7,2029.7,0,25.000000000004547\n",
      "2020-06-06 11:50:26,787 DEBUG:\torder_handler(backtest_uni): {\"cmd\": \"sell\", \"symbol\": \"TCS\", \"price\": 2027.7, \"qty\": 10.0}\n",
      "2020-06-06 11:50:26,830 INFO:\tPlaceorder(full):sell: TCS: 10x2027.7\n",
      "2020-06-06 11:50:26,856 INFO:\tSQUAREOFF:LONG\n",
      "TRADE: B: EX:  : 2019-04-01 10:48 : WIPRO -> 260.65\n",
      "2020-06-06 11:50:27,019 DEBUG:\tPlace Order: 260.65,260.8,0,17.000000000000455\n",
      "2020-06-06 11:50:27,044 DEBUG:\torder_handler(backtest_uni): {\"cmd\": \"buy\", \"symbol\": \"WIPRO\", \"price\": 260.65, \"qty\": 10.0}\n",
      "2020-06-06 11:50:27,132 INFO:\tPlaceorder(full):buy: WIPRO: 10x260.65\n",
      "2020-06-06 11:50:27,146 INFO:\tSQUAREOFF:SHORT\n",
      "TRADE: S: EN:  : 2019-04-01 10:49 : WIPRO -> 260.55\n",
      "2020-06-06 11:50:27,320 DEBUG:\tPlace Order: 260.55,0.0,0,18.500000000000796\n",
      "2020-06-06 11:50:27,359 DEBUG:\torder_handler(backtest_uni): {\"cmd\": \"sell\", \"symbol\": \"WIPRO\", \"price\": 260.55, \"qty\": 10.0}\n",
      "2020-06-06 11:50:27,424 INFO:\tPlaceorder(full):sell: WIPRO: 10x260.55\n",
      "2020-06-06 11:50:27,444 INFO:\tPO:SHORT\n",
      "TRADE: B: EN:  : 2019-04-01 10:51 : TCS -> 2029.85\n",
      "2020-06-06 11:50:27,811 DEBUG:\tPlace Order: 2029.85,0.0,0,5.0000000000045475\n",
      "2020-06-06 11:50:27,837 DEBUG:\torder_handler(backtest_uni): {\"cmd\": \"buy\", \"symbol\": \"TCS\", \"price\": 2029.85, \"qty\": 10.0}\n"
     ]
    },
    {
     "name": "stderr",
     "output_type": "stream",
     "text": [
      "2020-06-06 11:50:27,909 INFO:\tPlaceorder(full):buy: TCS: 10x2029.85\n",
      "2020-06-06 11:50:27,928 INFO:\tPO:LONG\n",
      "TRADE: S: EX:  : 2019-04-01 10:53 : TCS -> 2027.65\n",
      "2020-06-06 11:50:28,290 DEBUG:\tPlace Order: 2027.65,2029.85,0,5.0000000000045475\n",
      "2020-06-06 11:50:28,307 DEBUG:\torder_handler(backtest_uni): {\"cmd\": \"sell\", \"symbol\": \"TCS\", \"price\": 2027.65, \"qty\": 10.0}\n",
      "2020-06-06 11:50:28,373 INFO:\tPlaceorder(full):sell: TCS: 10x2027.65\n",
      "2020-06-06 11:50:28,390 INFO:\tSQUAREOFF:LONG\n",
      "TRADE: B: EN:  : 2019-04-01 10:58 : TCS -> 2026.0\n",
      "2020-06-06 11:50:29,348 DEBUG:\tPlace Order: 2026.0,0.0,0,-16.999999999993634\n",
      "2020-06-06 11:50:29,413 DEBUG:\torder_handler(backtest_uni): {\"cmd\": \"buy\", \"symbol\": \"TCS\", \"price\": 2026.0, \"qty\": 10.0}\n",
      "2020-06-06 11:50:29,479 INFO:\tPlaceorder(full):buy: TCS: 10x2026.0\n",
      "2020-06-06 11:50:29,495 INFO:\tPO:LONG\n",
      "TRADE: B: EX:  : 2019-04-01 10:58 : WIPRO -> 260.55\n",
      "2020-06-06 11:50:29,622 DEBUG:\tPlace Order: 260.55,260.55,0,18.500000000000796\n",
      "2020-06-06 11:50:29,656 DEBUG:\torder_handler(backtest_uni): {\"cmd\": \"buy\", \"symbol\": \"WIPRO\", \"price\": 260.55, \"qty\": 10.0}\n",
      "2020-06-06 11:50:29,723 INFO:\tPlaceorder(full):buy: WIPRO: 10x260.55\n",
      "2020-06-06 11:50:29,744 INFO:\tSQUAREOFF:SHORT\n",
      "TRADE: S: EN:  : 2019-04-01 11:01 : WIPRO -> 260.3\n",
      "2020-06-06 11:50:30,439 DEBUG:\tPlace Order: 260.3,0.0,0,18.500000000000796\n",
      "2020-06-06 11:50:30,466 DEBUG:\torder_handler(backtest_uni): {\"cmd\": \"sell\", \"symbol\": \"WIPRO\", \"price\": 260.3, \"qty\": 10.0}\n",
      "2020-06-06 11:50:30,545 INFO:\tPlaceorder(full):sell: WIPRO: 10x260.3\n",
      "2020-06-06 11:50:30,575 INFO:\tPO:SHORT\n",
      "TRADE: S: EX:  : 2019-04-01 11:05 : TCS -> 2025.95\n",
      "2020-06-06 11:50:31,376 DEBUG:\tPlace Order: 2025.95,2026.0,0,-16.999999999993634\n",
      "2020-06-06 11:50:31,397 DEBUG:\torder_handler(backtest_uni): {\"cmd\": \"sell\", \"symbol\": \"TCS\", \"price\": 2025.95, \"qty\": 10.0}\n",
      "2020-06-06 11:50:31,469 INFO:\tPlaceorder(full):sell: TCS: 10x2025.95\n",
      "2020-06-06 11:50:31,484 INFO:\tSQUAREOFF:LONG\n",
      "TRADE: B: EN:  : 2019-04-01 11:06 : TCS -> 2025.4\n",
      "2020-06-06 11:50:31,722 DEBUG:\tPlace Order: 2025.4,0.0,0,-17.49999999999318\n",
      "2020-06-06 11:50:31,739 DEBUG:\torder_handler(backtest_uni): {\"cmd\": \"buy\", \"symbol\": \"TCS\", \"price\": 2025.4, \"qty\": 10.0}\n",
      "2020-06-06 11:50:31,834 INFO:\tPlaceorder(full):buy: TCS: 10x2025.4\n",
      "2020-06-06 11:50:31,849 INFO:\tPO:LONG\n",
      "TRADE: S: EX:  : 2019-04-01 11:07 : TCS -> 2024.75\n",
      "2020-06-06 11:50:32,038 DEBUG:\tPlace Order: 2024.75,2025.4,0,-17.49999999999318\n",
      "2020-06-06 11:50:32,061 DEBUG:\torder_handler(backtest_uni): {\"cmd\": \"sell\", \"symbol\": \"TCS\", \"price\": 2024.75, \"qty\": 10.0}\n",
      "2020-06-06 11:50:32,149 INFO:\tPlaceorder(full):sell: TCS: 10x2024.75\n",
      "2020-06-06 11:50:32,168 INFO:\tSQUAREOFF:LONG\n",
      "TRADE: B: EN:  : 2019-04-01 11:10 : TCS -> 2025.2\n",
      "2020-06-06 11:50:32,714 DEBUG:\tPlace Order: 2025.2,0.0,0,-23.99999999999409\n",
      "2020-06-06 11:50:32,731 DEBUG:\torder_handler(backtest_uni): {\"cmd\": \"buy\", \"symbol\": \"TCS\", \"price\": 2025.2, \"qty\": 10.0}\n",
      "2020-06-06 11:50:32,772 INFO:\tPlaceorder(full):buy: TCS: 10x2025.2\n",
      "2020-06-06 11:50:32,802 INFO:\tPO:LONG\n",
      "TRADE: B: EX:  : 2019-04-01 11:11 : WIPRO -> 259.85\n",
      "2020-06-06 11:50:33,134 DEBUG:\tPlace Order: 259.85,260.3,0,18.500000000000796\n",
      "2020-06-06 11:50:33,159 DEBUG:\torder_handler(backtest_uni): {\"cmd\": \"buy\", \"symbol\": \"WIPRO\", \"price\": 259.85, \"qty\": 10.0}\n",
      "2020-06-06 11:50:33,236 INFO:\tPlaceorder(full):buy: WIPRO: 10x259.85\n",
      "2020-06-06 11:50:33,252 INFO:\tSQUAREOFF:SHORT\n",
      "TRADE: S: EX:  : 2019-04-01 11:15 : TCS -> 2029.45\n",
      "2020-06-06 11:50:33,911 DEBUG:\tPlace Order: 2029.45,2025.2,0,-23.99999999999409\n",
      "2020-06-06 11:50:33,928 DEBUG:\torder_handler(backtest_uni): {\"cmd\": \"sell\", \"symbol\": \"TCS\", \"price\": 2029.45, \"qty\": 10.0}\n",
      "2020-06-06 11:50:33,988 INFO:\tPlaceorder(full):sell: TCS: 10x2029.45\n",
      "2020-06-06 11:50:34,004 INFO:\tSQUAREOFF:LONG\n",
      "TRADE: B: EN:  : 2019-04-01 11:17 : TCS -> 2027.75\n",
      "2020-06-06 11:50:34,387 DEBUG:\tPlace Order: 2027.75,0.0,0,18.50000000000591\n",
      "2020-06-06 11:50:34,415 DEBUG:\torder_handler(backtest_uni): {\"cmd\": \"buy\", \"symbol\": \"TCS\", \"price\": 2027.75, \"qty\": 10.0}\n",
      "2020-06-06 11:50:34,470 INFO:\tPlaceorder(full):buy: TCS: 10x2027.75\n",
      "2020-06-06 11:50:34,496 INFO:\tPO:LONG\n",
      "TRADE: S: EX:  : 2019-04-01 11:18 : TCS -> 2028.75\n",
      "2020-06-06 11:50:34,695 DEBUG:\tPlace Order: 2028.75,2027.75,0,18.50000000000591\n",
      "2020-06-06 11:50:34,726 DEBUG:\torder_handler(backtest_uni): {\"cmd\": \"sell\", \"symbol\": \"TCS\", \"price\": 2028.75, \"qty\": 10.0}\n",
      "2020-06-06 11:50:34,783 INFO:\tPlaceorder(full):sell: TCS: 10x2028.75\n",
      "2020-06-06 11:50:34,790 INFO:\tSQUAREOFF:LONG\n",
      "TRADE: B: EN:  : 2019-04-01 11:18 : WIPRO -> 260.0\n",
      "2020-06-06 11:50:34,899 DEBUG:\tPlace Order: 260.0,0.0,0,23.000000000000682\n",
      "2020-06-06 11:50:34,917 DEBUG:\torder_handler(backtest_uni): {\"cmd\": \"buy\", \"symbol\": \"WIPRO\", \"price\": 260.0, \"qty\": 10.0}\n",
      "2020-06-06 11:50:34,960 INFO:\tPlaceorder(full):buy: WIPRO: 10x260.0\n",
      "2020-06-06 11:50:34,990 INFO:\tPO:LONG\n",
      "TRADE: B: EN:  : 2019-04-01 11:19 : TCS -> 2029.55\n",
      "2020-06-06 11:50:35,217 DEBUG:\tPlace Order: 2029.55,0.0,0,28.50000000000591\n",
      "2020-06-06 11:50:35,244 DEBUG:\torder_handler(backtest_uni): {\"cmd\": \"buy\", \"symbol\": \"TCS\", \"price\": 2029.55, \"qty\": 10.0}\n",
      "2020-06-06 11:50:35,282 INFO:\tPlaceorder(full):buy: TCS: 10x2029.55\n",
      "2020-06-06 11:50:35,314 INFO:\tPO:LONG\n",
      "TRADE: S: EX:  : 2019-04-01 11:19 : WIPRO -> 260.4\n",
      "2020-06-06 11:50:35,485 DEBUG:\tPlace Order: 260.4,260.0,0,23.000000000000682\n",
      "2020-06-06 11:50:35,504 DEBUG:\torder_handler(backtest_uni): {\"cmd\": \"sell\", \"symbol\": \"WIPRO\", \"price\": 260.4, \"qty\": 10.0}\n",
      "2020-06-06 11:50:35,608 INFO:\tPlaceorder(full):sell: WIPRO: 10x260.4\n",
      "2020-06-06 11:50:35,643 INFO:\tSQUAREOFF:LONG\n",
      "TRADE: B: EN:  : 2019-04-01 11:20 : WIPRO -> 260.3\n",
      "2020-06-06 11:50:35,875 DEBUG:\tPlace Order: 260.3,0.0,0,27.000000000000455\n",
      "2020-06-06 11:50:35,905 DEBUG:\torder_handler(backtest_uni): {\"cmd\": \"buy\", \"symbol\": \"WIPRO\", \"price\": 260.3, \"qty\": 10.0}\n",
      "2020-06-06 11:50:35,965 INFO:\tPlaceorder(full):buy: WIPRO: 10x260.3\n",
      "2020-06-06 11:50:35,996 INFO:\tPO:LONG\n",
      "TRADE: S: EX:  : 2019-04-01 11:22 : WIPRO -> 260.95\n",
      "2020-06-06 11:50:36,421 DEBUG:\tPlace Order: 260.95,260.3,0,27.000000000000455\n",
      "2020-06-06 11:50:36,447 DEBUG:\torder_handler(backtest_uni): {\"cmd\": \"sell\", \"symbol\": \"WIPRO\", \"price\": 260.95, \"qty\": 10.0}\n",
      "2020-06-06 11:50:36,506 INFO:\tPlaceorder(full):sell: WIPRO: 10x260.95\n",
      "2020-06-06 11:50:36,515 INFO:\tSQUAREOFF:LONG\n",
      "TRADE: B: EN:  : 2019-04-01 11:23 : WIPRO -> 260.85\n",
      "2020-06-06 11:50:36,768 DEBUG:\tPlace Order: 260.85,0.0,0,33.50000000000023\n",
      "2020-06-06 11:50:36,791 DEBUG:\torder_handler(backtest_uni): {\"cmd\": \"buy\", \"symbol\": \"WIPRO\", \"price\": 260.85, \"qty\": 10.0}\n",
      "2020-06-06 11:50:36,847 INFO:\tPlaceorder(full):buy: WIPRO: 10x260.85\n",
      "2020-06-06 11:50:36,872 INFO:\tPO:LONG\n",
      "TRADE: S: EX:  : 2019-04-01 11:25 : TCS -> 2033.5\n",
      "2020-06-06 11:50:37,281 DEBUG:\tPlace Order: 2033.5,2029.55,0,28.50000000000591\n",
      "2020-06-06 11:50:37,322 DEBUG:\torder_handler(backtest_uni): {\"cmd\": \"sell\", \"symbol\": \"TCS\", \"price\": 2033.5, \"qty\": 10.0}\n",
      "2020-06-06 11:50:37,380 INFO:\tPlaceorder(full):sell: TCS: 10x2033.5\n",
      "2020-06-06 11:50:37,396 INFO:\tSQUAREOFF:LONG\n",
      "TRADE: S: EX:  : 2019-04-01 11:27 : WIPRO -> 260.55\n",
      "2020-06-06 11:50:37,910 DEBUG:\tPlace Order: 260.55,260.85,0,33.50000000000023\n",
      "2020-06-06 11:50:37,925 DEBUG:\torder_handler(backtest_uni): {\"cmd\": \"sell\", \"symbol\": \"WIPRO\", \"price\": 260.55, \"qty\": 10.0}\n",
      "2020-06-06 11:50:38,020 INFO:\tPlaceorder(full):sell: WIPRO: 10x260.55\n",
      "2020-06-06 11:50:38,044 INFO:\tSQUAREOFF:LONG\n",
      "TRADE: B: EN:  : 2019-04-01 11:30 : WIPRO -> 261.1\n",
      "2020-06-06 11:50:38,611 DEBUG:\tPlace Order: 261.1,0.0,0,30.500000000000114\n",
      "2020-06-06 11:50:38,636 DEBUG:\torder_handler(backtest_uni): {\"cmd\": \"buy\", \"symbol\": \"WIPRO\", \"price\": 261.1, \"qty\": 10.0}\n",
      "2020-06-06 11:50:38,702 INFO:\tPlaceorder(full):buy: WIPRO: 10x261.1\n",
      "2020-06-06 11:50:38,744 INFO:\tPO:LONG\n",
      "TRADE: B: EN:  : 2019-04-01 11:31 : TCS -> 2028.1\n",
      "2020-06-06 11:50:38,890 DEBUG:\tPlace Order: 2028.1,0.0,0,68.00000000000637\n",
      "2020-06-06 11:50:38,908 DEBUG:\torder_handler(backtest_uni): {\"cmd\": \"buy\", \"symbol\": \"TCS\", \"price\": 2028.1, \"qty\": 10.0}\n",
      "2020-06-06 11:50:38,982 INFO:\tPlaceorder(full):buy: TCS: 10x2028.1\n",
      "2020-06-06 11:50:38,996 INFO:\tPO:LONG\n",
      "TRADE: S: EX:  : 2019-04-01 11:32 : TCS -> 2029.45\n",
      "2020-06-06 11:50:39,197 DEBUG:\tPlace Order: 2029.45,2028.1,0,68.00000000000637\n"
     ]
    },
    {
     "name": "stderr",
     "output_type": "stream",
     "text": [
      "2020-06-06 11:50:39,223 DEBUG:\torder_handler(backtest_uni): {\"cmd\": \"sell\", \"symbol\": \"TCS\", \"price\": 2029.45, \"qty\": 10.0}\n",
      "2020-06-06 11:50:39,302 INFO:\tPlaceorder(full):sell: TCS: 10x2029.45\n",
      "2020-06-06 11:50:39,371 INFO:\tSQUAREOFF:LONG\n",
      "TRADE: B: EN:  : 2019-04-01 11:33 : TCS -> 2028.2\n",
      "2020-06-06 11:50:39,516 DEBUG:\tPlace Order: 2028.2,0.0,0,81.50000000000773\n",
      "2020-06-06 11:50:39,535 DEBUG:\torder_handler(backtest_uni): {\"cmd\": \"buy\", \"symbol\": \"TCS\", \"price\": 2028.2, \"qty\": 10.0}\n",
      "2020-06-06 11:50:39,612 INFO:\tPlaceorder(full):buy: TCS: 10x2028.2\n",
      "2020-06-06 11:50:39,632 INFO:\tPO:LONG\n",
      "TRADE: S: EX:  : 2019-04-01 11:33 : WIPRO -> 260.95\n",
      "2020-06-06 11:50:39,757 DEBUG:\tPlace Order: 260.95,261.1,0,30.500000000000114\n",
      "2020-06-06 11:50:39,778 DEBUG:\torder_handler(backtest_uni): {\"cmd\": \"sell\", \"symbol\": \"WIPRO\", \"price\": 260.95, \"qty\": 10.0}\n",
      "2020-06-06 11:50:39,807 INFO:\tPlaceorder(full):sell: WIPRO: 10x260.95\n",
      "2020-06-06 11:50:39,819 INFO:\tSQUAREOFF:LONG\n",
      "TRADE: B: EN:  : 2019-04-01 11:34 : WIPRO -> 261.15\n",
      "2020-06-06 11:50:40,156 DEBUG:\tPlace Order: 261.15,0.0,0,28.999999999999773\n",
      "2020-06-06 11:50:40,175 DEBUG:\torder_handler(backtest_uni): {\"cmd\": \"buy\", \"symbol\": \"WIPRO\", \"price\": 261.15, \"qty\": 10.0}\n",
      "2020-06-06 11:50:40,265 INFO:\tPlaceorder(full):buy: WIPRO: 10x261.15\n",
      "2020-06-06 11:50:40,303 INFO:\tPO:LONG\n",
      "TRADE: S: EX:  : 2019-04-01 11:35 : TCS -> 2028.45\n",
      "2020-06-06 11:50:40,419 DEBUG:\tPlace Order: 2028.45,2028.2,0,81.50000000000773\n",
      "2020-06-06 11:50:40,442 DEBUG:\torder_handler(backtest_uni): {\"cmd\": \"sell\", \"symbol\": \"TCS\", \"price\": 2028.45, \"qty\": 10.0}\n",
      "2020-06-06 11:50:40,464 INFO:\tPlaceorder(full):sell: TCS: 10x2028.45\n",
      "2020-06-06 11:50:40,499 INFO:\tSQUAREOFF:LONG\n",
      "TRADE: B: EN:  : 2019-04-01 11:36 : TCS -> 2028.55\n",
      "2020-06-06 11:50:40,778 DEBUG:\tPlace Order: 2028.55,0.0,0,84.00000000000773\n",
      "2020-06-06 11:50:40,794 DEBUG:\torder_handler(backtest_uni): {\"cmd\": \"buy\", \"symbol\": \"TCS\", \"price\": 2028.55, \"qty\": 10.0}\n",
      "2020-06-06 11:50:40,804 INFO:\tPlaceorder(full):buy: TCS: 10x2028.55\n",
      "2020-06-06 11:50:40,856 INFO:\tPO:LONG\n",
      "TRADE: S: EX:  : 2019-04-01 11:38 : TCS -> 2028.2\n",
      "2020-06-06 11:50:41,361 DEBUG:\tPlace Order: 2028.2,2028.55,0,84.00000000000773\n",
      "2020-06-06 11:50:41,384 DEBUG:\torder_handler(backtest_uni): {\"cmd\": \"sell\", \"symbol\": \"TCS\", \"price\": 2028.2, \"qty\": 10.0}\n",
      "2020-06-06 11:50:41,469 INFO:\tPlaceorder(full):sell: TCS: 10x2028.2\n",
      "2020-06-06 11:50:41,501 INFO:\tSQUAREOFF:LONG\n",
      "TRADE: B: EN:  : 2019-04-01 11:40 : TCS -> 2030.15\n",
      "2020-06-06 11:50:41,985 DEBUG:\tPlace Order: 2030.15,0.0,0,80.50000000000864\n",
      "2020-06-06 11:50:42,005 DEBUG:\torder_handler(backtest_uni): {\"cmd\": \"buy\", \"symbol\": \"TCS\", \"price\": 2030.15, \"qty\": 10.0}\n",
      "2020-06-06 11:50:42,083 INFO:\tPlaceorder(full):buy: TCS: 10x2030.15\n",
      "2020-06-06 11:50:42,125 INFO:\tPO:LONG\n",
      "TRADE: S: EX:  : 2019-04-01 11:40 : WIPRO -> 261.35\n",
      "2020-06-06 11:50:42,236 DEBUG:\tPlace Order: 261.35,261.15,0,28.999999999999773\n",
      "2020-06-06 11:50:42,259 DEBUG:\torder_handler(backtest_uni): {\"cmd\": \"sell\", \"symbol\": \"WIPRO\", \"price\": 261.35, \"qty\": 10.0}\n",
      "2020-06-06 11:50:42,287 INFO:\tPlaceorder(full):sell: WIPRO: 10x261.35\n",
      "2020-06-06 11:50:42,306 INFO:\tSQUAREOFF:LONG\n",
      "TRADE: B: EN:  : 2019-04-01 11:41 : WIPRO -> 261.35\n",
      "2020-06-06 11:50:42,616 DEBUG:\tPlace Order: 261.35,0.0,0,31.000000000000227\n",
      "2020-06-06 11:50:42,633 DEBUG:\torder_handler(backtest_uni): {\"cmd\": \"buy\", \"symbol\": \"WIPRO\", \"price\": 261.35, \"qty\": 10.0}\n",
      "2020-06-06 11:50:42,684 INFO:\tPlaceorder(full):buy: WIPRO: 10x261.35\n",
      "2020-06-06 11:50:42,732 INFO:\tPO:LONG\n",
      "TRADE: S: EX:  : 2019-04-01 11:44 : WIPRO -> 261.15\n",
      "2020-06-06 11:50:43,377 DEBUG:\tPlace Order: 261.15,261.35,0,31.000000000000227\n",
      "2020-06-06 11:50:43,396 DEBUG:\torder_handler(backtest_uni): {\"cmd\": \"sell\", \"symbol\": \"WIPRO\", \"price\": 261.15, \"qty\": 10.0}\n",
      "2020-06-06 11:50:43,491 INFO:\tPlaceorder(full):sell: WIPRO: 10x261.15\n",
      "2020-06-06 11:50:43,511 INFO:\tSQUAREOFF:LONG\n",
      "TRADE: B: EN:  : 2019-04-01 11:47 : WIPRO -> 261.45\n",
      "2020-06-06 11:50:44,066 DEBUG:\tPlace Order: 261.45,0.0,0,28.999999999999773\n",
      "2020-06-06 11:50:44,091 DEBUG:\torder_handler(backtest_uni): {\"cmd\": \"buy\", \"symbol\": \"WIPRO\", \"price\": 261.45, \"qty\": 10.0}\n",
      "2020-06-06 11:50:44,156 INFO:\tPlaceorder(full):buy: WIPRO: 10x261.45\n",
      "2020-06-06 11:50:44,205 INFO:\tPO:LONG\n",
      "TRADE: S: EX:  : 2019-04-01 11:49 : TCS -> 2031.05\n",
      "2020-06-06 11:50:44,585 DEBUG:\tPlace Order: 2031.05,2030.15,0,80.50000000000864\n",
      "2020-06-06 11:50:44,631 DEBUG:\torder_handler(backtest_uni): {\"cmd\": \"sell\", \"symbol\": \"TCS\", \"price\": 2031.05, \"qty\": 10.0}\n",
      "2020-06-06 11:50:44,673 INFO:\tPlaceorder(full):sell: TCS: 10x2031.05\n",
      "2020-06-06 11:50:44,713 INFO:\tSQUAREOFF:LONG\n",
      "TRADE: S: EX:  : 2019-04-01 11:49 : WIPRO -> 261.45\n",
      "2020-06-06 11:50:44,865 DEBUG:\tPlace Order: 261.45,261.45,0,28.999999999999773\n",
      "2020-06-06 11:50:44,881 DEBUG:\torder_handler(backtest_uni): {\"cmd\": \"sell\", \"symbol\": \"WIPRO\", \"price\": 261.45, \"qty\": 10.0}\n",
      "2020-06-06 11:50:44,937 INFO:\tPlaceorder(full):sell: WIPRO: 10x261.45\n",
      "2020-06-06 11:50:44,952 INFO:\tSQUAREOFF:LONG\n",
      "TRADE: B: EN:  : 2019-04-01 11:50 : WIPRO -> 261.5\n",
      "2020-06-06 11:50:45,215 DEBUG:\tPlace Order: 261.5,0.0,0,28.999999999999773\n",
      "2020-06-06 11:50:45,240 DEBUG:\torder_handler(backtest_uni): {\"cmd\": \"buy\", \"symbol\": \"WIPRO\", \"price\": 261.5, \"qty\": 10.0}\n",
      "2020-06-06 11:50:45,312 INFO:\tPlaceorder(full):buy: WIPRO: 10x261.5\n",
      "2020-06-06 11:50:45,379 INFO:\tPO:LONG\n",
      "TRADE: B: EN:  : 2019-04-01 11:52 : TCS -> 2031.4\n",
      "2020-06-06 11:50:45,798 DEBUG:\tPlace Order: 2031.4,0.0,0,89.50000000000728\n",
      "2020-06-06 11:50:45,819 DEBUG:\torder_handler(backtest_uni): {\"cmd\": \"buy\", \"symbol\": \"TCS\", \"price\": 2031.4, \"qty\": 10.0}\n",
      "2020-06-06 11:50:45,851 INFO:\tPlaceorder(full):buy: TCS: 10x2031.4\n",
      "2020-06-06 11:50:45,872 INFO:\tPO:LONG\n",
      "TRADE: S: EX:  : 2019-04-01 11:53 : WIPRO -> 261.45\n",
      "2020-06-06 11:50:46,207 DEBUG:\tPlace Order: 261.45,261.5,0,28.999999999999773\n",
      "2020-06-06 11:50:46,233 DEBUG:\torder_handler(backtest_uni): {\"cmd\": \"sell\", \"symbol\": \"WIPRO\", \"price\": 261.45, \"qty\": 10.0}\n",
      "2020-06-06 11:50:46,324 INFO:\tPlaceorder(full):sell: WIPRO: 10x261.45\n",
      "2020-06-06 11:50:46,335 INFO:\tSQUAREOFF:LONG\n",
      "TRADE: S: EX:  : 2019-04-01 11:55 : TCS -> 2031.0\n",
      "2020-06-06 11:50:46,674 DEBUG:\tPlace Order: 2031.0,2031.4,0,89.50000000000728\n",
      "2020-06-06 11:50:46,712 DEBUG:\torder_handler(backtest_uni): {\"cmd\": \"sell\", \"symbol\": \"TCS\", \"price\": 2031.0, \"qty\": 10.0}\n",
      "2020-06-06 11:50:46,781 INFO:\tPlaceorder(full):sell: TCS: 10x2031.0\n",
      "2020-06-06 11:50:46,804 INFO:\tSQUAREOFF:LONG\n",
      "TRADE: B: EN:  : 2019-04-01 12:00 : TCS -> 2030.8\n",
      "2020-06-06 11:50:47,767 DEBUG:\tPlace Order: 2030.8,0.0,0,85.50000000000637\n",
      "2020-06-06 11:50:47,787 DEBUG:\torder_handler(backtest_uni): {\"cmd\": \"buy\", \"symbol\": \"TCS\", \"price\": 2030.8, \"qty\": 10.0}\n",
      "2020-06-06 11:50:47,806 INFO:\tPlaceorder(full):buy: TCS: 10x2030.8\n",
      "2020-06-06 11:50:47,858 INFO:\tPO:LONG\n",
      "TRADE: B: EN:  : 2019-04-01 12:00 : WIPRO -> 261.35\n",
      "2020-06-06 11:50:47,986 DEBUG:\tPlace Order: 261.35,0.0,0,28.49999999999966\n",
      "2020-06-06 11:50:48,009 DEBUG:\torder_handler(backtest_uni): {\"cmd\": \"buy\", \"symbol\": \"WIPRO\", \"price\": 261.35, \"qty\": 10.0}\n",
      "2020-06-06 11:50:48,088 INFO:\tPlaceorder(full):buy: WIPRO: 10x261.35\n",
      "2020-06-06 11:50:48,119 INFO:\tPO:LONG\n",
      "TRADE: S: EX:  : 2019-04-01 12:04 : WIPRO -> 261.25\n",
      "2020-06-06 11:50:48,977 DEBUG:\tPlace Order: 261.25,261.35,0,28.49999999999966\n",
      "2020-06-06 11:50:49,029 DEBUG:\torder_handler(backtest_uni): {\"cmd\": \"sell\", \"symbol\": \"WIPRO\", \"price\": 261.25, \"qty\": 10.0}\n",
      "2020-06-06 11:50:49,116 INFO:\tPlaceorder(full):sell: WIPRO: 10x261.25\n",
      "2020-06-06 11:50:49,136 INFO:\tSQUAREOFF:LONG\n",
      "TRADE: S: EX:  : 2019-04-01 12:05 : TCS -> 2031.35\n",
      "2020-06-06 11:50:49,273 DEBUG:\tPlace Order: 2031.35,2030.8,0,85.50000000000637\n",
      "2020-06-06 11:50:49,321 DEBUG:\torder_handler(backtest_uni): {\"cmd\": \"sell\", \"symbol\": \"TCS\", \"price\": 2031.35, \"qty\": 10.0}\n",
      "2020-06-06 11:50:49,399 INFO:\tPlaceorder(full):sell: TCS: 10x2031.35\n",
      "2020-06-06 11:50:49,418 INFO:\tSQUAREOFF:LONG\n",
      "TRADE: B: EN:  : 2019-04-01 12:07 : WIPRO -> 261.4\n",
      "2020-06-06 11:50:50,135 DEBUG:\tPlace Order: 261.4,0.0,0,27.49999999999943\n",
      "2020-06-06 11:50:50,165 DEBUG:\torder_handler(backtest_uni): {\"cmd\": \"buy\", \"symbol\": \"WIPRO\", \"price\": 261.4, \"qty\": 10.0}\n",
      "2020-06-06 11:50:50,204 INFO:\tPlaceorder(full):buy: WIPRO: 10x261.4\n",
      "2020-06-06 11:50:50,266 INFO:\tPO:LONG\n"
     ]
    },
    {
     "name": "stderr",
     "output_type": "stream",
     "text": [
      "TRADE: B: EN:  : 2019-04-01 12:10 : TCS -> 2030.2\n",
      "2020-06-06 11:50:50,842 DEBUG:\tPlace Order: 2030.2,0.0,0,91.00000000000591\n",
      "2020-06-06 11:50:50,865 DEBUG:\torder_handler(backtest_uni): {\"cmd\": \"buy\", \"symbol\": \"TCS\", \"price\": 2030.2, \"qty\": 10.0}\n",
      "2020-06-06 11:50:50,971 INFO:\tPlaceorder(full):buy: TCS: 10x2030.2\n",
      "2020-06-06 11:50:50,990 INFO:\tPO:LONG\n",
      "TRADE: S: EX:  : 2019-04-01 12:11 : WIPRO -> 261.4\n",
      "2020-06-06 11:50:51,392 DEBUG:\tPlace Order: 261.4,261.4,0,27.49999999999943\n",
      "2020-06-06 11:50:51,415 DEBUG:\torder_handler(backtest_uni): {\"cmd\": \"sell\", \"symbol\": \"WIPRO\", \"price\": 261.4, \"qty\": 10.0}\n",
      "2020-06-06 11:50:51,482 INFO:\tPlaceorder(full):sell: WIPRO: 10x261.4\n",
      "2020-06-06 11:50:51,508 INFO:\tSQUAREOFF:LONG\n",
      "TRADE: S: EX:  : 2019-04-01 12:13 : TCS -> 2029.55\n",
      "2020-06-06 11:50:51,838 DEBUG:\tPlace Order: 2029.55,2030.2,0,91.00000000000591\n",
      "2020-06-06 11:50:51,871 DEBUG:\torder_handler(backtest_uni): {\"cmd\": \"sell\", \"symbol\": \"TCS\", \"price\": 2029.55, \"qty\": 10.0}\n",
      "2020-06-06 11:50:51,896 INFO:\tPlaceorder(full):sell: TCS: 10x2029.55\n",
      "2020-06-06 11:50:51,920 INFO:\tSQUAREOFF:LONG\n",
      "TRADE: B: EN:  : 2019-04-01 12:14 : WIPRO -> 261.5\n",
      "2020-06-06 11:50:52,290 DEBUG:\tPlace Order: 261.5,0.0,0,27.49999999999943\n",
      "2020-06-06 11:50:52,335 DEBUG:\torder_handler(backtest_uni): {\"cmd\": \"buy\", \"symbol\": \"WIPRO\", \"price\": 261.5, \"qty\": 10.0}\n",
      "2020-06-06 11:50:52,384 INFO:\tPlaceorder(full):buy: WIPRO: 10x261.5\n",
      "2020-06-06 11:50:52,486 INFO:\tPO:LONG\n",
      "TRADE: B: EN:  : 2019-04-01 12:15 : TCS -> 2029.0\n",
      "2020-06-06 11:50:52,656 DEBUG:\tPlace Order: 2029.0,0.0,0,84.500000000005\n",
      "2020-06-06 11:50:52,678 DEBUG:\torder_handler(backtest_uni): {\"cmd\": \"buy\", \"symbol\": \"TCS\", \"price\": 2029.0, \"qty\": 10.0}\n",
      "2020-06-06 11:50:52,707 INFO:\tPlaceorder(full):buy: TCS: 10x2029.0\n",
      "2020-06-06 11:50:52,765 INFO:\tPO:LONG\n",
      "TRADE: S: EX:  : 2019-04-01 12:16 : TCS -> 2029.0\n",
      "2020-06-06 11:50:53,043 DEBUG:\tPlace Order: 2029.0,2029.0,0,84.500000000005\n",
      "2020-06-06 11:50:53,075 DEBUG:\torder_handler(backtest_uni): {\"cmd\": \"sell\", \"symbol\": \"TCS\", \"price\": 2029.0, \"qty\": 10.0}\n",
      "2020-06-06 11:50:53,149 INFO:\tPlaceorder(full):sell: TCS: 10x2029.0\n",
      "2020-06-06 11:50:53,180 INFO:\tSQUAREOFF:LONG\n",
      "TRADE: B: EN:  : 2019-04-01 12:17 : TCS -> 2029.75\n",
      "2020-06-06 11:50:53,388 DEBUG:\tPlace Order: 2029.75,0.0,0,84.500000000005\n",
      "2020-06-06 11:50:53,413 DEBUG:\torder_handler(backtest_uni): {\"cmd\": \"buy\", \"symbol\": \"TCS\", \"price\": 2029.75, \"qty\": 10.0}\n",
      "2020-06-06 11:50:53,488 INFO:\tPlaceorder(full):buy: TCS: 10x2029.75\n",
      "2020-06-06 11:50:53,513 INFO:\tPO:LONG\n",
      "TRADE: S: EX:  : 2019-04-01 12:18 : WIPRO -> 261.35\n",
      "2020-06-06 11:50:53,943 DEBUG:\tPlace Order: 261.35,261.5,0,27.49999999999943\n",
      "2020-06-06 11:50:53,973 DEBUG:\torder_handler(backtest_uni): {\"cmd\": \"sell\", \"symbol\": \"WIPRO\", \"price\": 261.35, \"qty\": 10.0}\n",
      "2020-06-06 11:50:54,043 INFO:\tPlaceorder(full):sell: WIPRO: 10x261.35\n",
      "2020-06-06 11:50:54,065 INFO:\tSQUAREOFF:LONG\n",
      "TRADE: S: EX:  : 2019-04-01 12:19 : TCS -> 2026.95\n",
      "2020-06-06 11:50:54,174 DEBUG:\tPlace Order: 2026.95,2029.75,0,84.500000000005\n",
      "2020-06-06 11:50:54,193 DEBUG:\torder_handler(backtest_uni): {\"cmd\": \"sell\", \"symbol\": \"TCS\", \"price\": 2026.95, \"qty\": 10.0}\n",
      "2020-06-06 11:50:54,247 INFO:\tPlaceorder(full):sell: TCS: 10x2026.95\n",
      "2020-06-06 11:50:54,267 INFO:\tSQUAREOFF:LONG\n",
      "TRADE: B: EN:  : 2019-04-01 12:21 : TCS -> 2027.8\n",
      "2020-06-06 11:50:54,696 DEBUG:\tPlace Order: 2027.8,0.0,0,56.50000000000546\n",
      "2020-06-06 11:50:54,712 DEBUG:\torder_handler(backtest_uni): {\"cmd\": \"buy\", \"symbol\": \"TCS\", \"price\": 2027.8, \"qty\": 10.0}\n",
      "2020-06-06 11:50:54,783 INFO:\tPlaceorder(full):buy: TCS: 10x2027.8\n",
      "2020-06-06 11:50:54,796 INFO:\tPO:LONG\n",
      "TRADE: S: EX:  : 2019-04-01 12:22 : TCS -> 2027.45\n",
      "2020-06-06 11:50:54,979 DEBUG:\tPlace Order: 2027.45,2027.8,0,56.50000000000546\n",
      "2020-06-06 11:50:55,005 DEBUG:\torder_handler(backtest_uni): {\"cmd\": \"sell\", \"symbol\": \"TCS\", \"price\": 2027.45, \"qty\": 10.0}\n",
      "2020-06-06 11:50:55,071 INFO:\tPlaceorder(full):sell: TCS: 10x2027.45\n",
      "2020-06-06 11:50:55,139 INFO:\tSQUAREOFF:LONG\n",
      "TRADE: B: EN:  : 2019-04-01 12:22 : WIPRO -> 261.3\n",
      "2020-06-06 11:50:55,259 DEBUG:\tPlace Order: 261.3,0.0,0,25.99999999999966\n",
      "2020-06-06 11:50:55,285 DEBUG:\torder_handler(backtest_uni): {\"cmd\": \"buy\", \"symbol\": \"WIPRO\", \"price\": 261.3, \"qty\": 10.0}\n",
      "2020-06-06 11:50:55,359 INFO:\tPlaceorder(full):buy: WIPRO: 10x261.3\n",
      "2020-06-06 11:50:55,379 INFO:\tPO:LONG\n",
      "TRADE: S: EX:  : 2019-04-01 12:24 : WIPRO -> 261.55\n",
      "2020-06-06 11:50:55,839 DEBUG:\tPlace Order: 261.55,261.3,0,25.99999999999966\n",
      "2020-06-06 11:50:55,853 DEBUG:\torder_handler(backtest_uni): {\"cmd\": \"sell\", \"symbol\": \"WIPRO\", \"price\": 261.55, \"qty\": 10.0}\n",
      "2020-06-06 11:50:56,047 INFO:\tPlaceorder(full):sell: WIPRO: 10x261.55\n",
      "2020-06-06 11:50:56,100 INFO:\tSQUAREOFF:LONG\n",
      "TRADE: B: EN:  : 2019-04-01 12:25 : WIPRO -> 261.6\n",
      "2020-06-06 11:50:56,246 DEBUG:\tPlace Order: 261.6,0.0,0,28.49999999999966\n",
      "2020-06-06 11:50:56,273 DEBUG:\torder_handler(backtest_uni): {\"cmd\": \"buy\", \"symbol\": \"WIPRO\", \"price\": 261.6, \"qty\": 10.0}\n",
      "2020-06-06 11:50:56,341 INFO:\tPlaceorder(full):buy: WIPRO: 10x261.6\n",
      "2020-06-06 11:50:56,355 INFO:\tPO:LONG\n",
      "TRADE: B: EN:  : 2019-04-01 12:26 : TCS -> 2028.05\n",
      "2020-06-06 11:50:56,456 DEBUG:\tPlace Order: 2028.05,0.0,0,53.00000000000637\n",
      "2020-06-06 11:50:56,492 DEBUG:\torder_handler(backtest_uni): {\"cmd\": \"buy\", \"symbol\": \"TCS\", \"price\": 2028.05, \"qty\": 10.0}\n",
      "2020-06-06 11:50:56,513 INFO:\tPlaceorder(full):buy: TCS: 10x2028.05\n",
      "2020-06-06 11:50:56,562 INFO:\tPO:LONG\n",
      "TRADE: S: EX:  : 2019-04-01 12:27 : WIPRO -> 261.9\n",
      "2020-06-06 11:50:56,979 DEBUG:\tPlace Order: 261.9,261.6,0,28.49999999999966\n",
      "2020-06-06 11:50:57,007 DEBUG:\torder_handler(backtest_uni): {\"cmd\": \"sell\", \"symbol\": \"WIPRO\", \"price\": 261.9, \"qty\": 10.0}\n",
      "2020-06-06 11:50:57,074 INFO:\tPlaceorder(full):sell: WIPRO: 10x261.9\n",
      "2020-06-06 11:50:57,087 INFO:\tSQUAREOFF:LONG\n",
      "TRADE: B: EN:  : 2019-04-01 12:28 : WIPRO -> 261.7\n",
      "2020-06-06 11:50:57,285 DEBUG:\tPlace Order: 261.7,0.0,0,31.499999999999204\n",
      "2020-06-06 11:50:57,302 DEBUG:\torder_handler(backtest_uni): {\"cmd\": \"buy\", \"symbol\": \"WIPRO\", \"price\": 261.7, \"qty\": 10.0}\n",
      "2020-06-06 11:50:57,466 INFO:\tPlaceorder(full):buy: WIPRO: 10x261.7\n",
      "2020-06-06 11:50:57,524 INFO:\tPO:LONG\n",
      "TRADE: S: EX:  : 2019-04-01 12:29 : TCS -> 2026.0\n",
      "2020-06-06 11:50:57,684 DEBUG:\tPlace Order: 2026.0,2028.05,0,53.00000000000637\n",
      "2020-06-06 11:50:57,703 DEBUG:\torder_handler(backtest_uni): {\"cmd\": \"sell\", \"symbol\": \"TCS\", \"price\": 2026.0, \"qty\": 10.0}\n",
      "2020-06-06 11:50:57,762 INFO:\tPlaceorder(full):sell: TCS: 10x2026.0\n",
      "2020-06-06 11:50:57,785 INFO:\tSQUAREOFF:LONG\n",
      "TRADE: S: EX:  : 2019-04-01 12:30 : WIPRO -> 261.6\n",
      "2020-06-06 11:50:58,135 DEBUG:\tPlace Order: 261.6,261.7,0,31.499999999999204\n",
      "2020-06-06 11:50:58,159 DEBUG:\torder_handler(backtest_uni): {\"cmd\": \"sell\", \"symbol\": \"WIPRO\", \"price\": 261.6, \"qty\": 10.0}\n",
      "2020-06-06 11:50:58,194 INFO:\tPlaceorder(full):sell: WIPRO: 10x261.6\n",
      "2020-06-06 11:50:58,249 INFO:\tSQUAREOFF:LONG\n",
      "TRADE: B: EN:  : 2019-04-01 12:32 : TCS -> 2027.7\n",
      "2020-06-06 11:50:58,656 DEBUG:\tPlace Order: 2027.7,0.0,0,32.50000000000682\n",
      "2020-06-06 11:50:58,689 DEBUG:\torder_handler(backtest_uni): {\"cmd\": \"buy\", \"symbol\": \"TCS\", \"price\": 2027.7, \"qty\": 10.0}\n",
      "2020-06-06 11:50:58,728 INFO:\tPlaceorder(full):buy: TCS: 10x2027.7\n",
      "2020-06-06 11:50:58,763 INFO:\tPO:LONG\n",
      "TRADE: B: EN:  : 2019-04-01 12:32 : WIPRO -> 262.05\n",
      "2020-06-06 11:50:58,921 DEBUG:\tPlace Order: 262.05,0.0,0,30.499999999999545\n",
      "2020-06-06 11:50:58,964 DEBUG:\torder_handler(backtest_uni): {\"cmd\": \"buy\", \"symbol\": \"WIPRO\", \"price\": 262.05, \"qty\": 10.0}\n",
      "2020-06-06 11:50:59,047 INFO:\tPlaceorder(full):buy: WIPRO: 10x262.05\n",
      "2020-06-06 11:50:59,077 INFO:\tPO:LONG\n",
      "TRADE: S: EX:  : 2019-04-01 12:35 : WIPRO -> 261.75\n",
      "2020-06-06 11:50:59,798 DEBUG:\tPlace Order: 261.75,262.05,0,30.499999999999545\n",
      "2020-06-06 11:50:59,836 DEBUG:\torder_handler(backtest_uni): {\"cmd\": \"sell\", \"symbol\": \"WIPRO\", \"price\": 261.75, \"qty\": 10.0}\n",
      "2020-06-06 11:50:59,879 INFO:\tPlaceorder(full):sell: WIPRO: 10x261.75\n",
      "2020-06-06 11:50:59,946 INFO:\tSQUAREOFF:LONG\n",
      "TRADE: B: EN:  : 2019-04-01 12:38 : WIPRO -> 262.0\n",
      "2020-06-06 11:51:00,721 DEBUG:\tPlace Order: 262.0,0.0,0,27.49999999999943\n",
      "2020-06-06 11:51:00,748 DEBUG:\torder_handler(backtest_uni): {\"cmd\": \"buy\", \"symbol\": \"WIPRO\", \"price\": 262.0, \"qty\": 10.0}\n",
      "2020-06-06 11:51:00,817 INFO:\tPlaceorder(full):buy: WIPRO: 10x262.0\n"
     ]
    },
    {
     "name": "stderr",
     "output_type": "stream",
     "text": [
      "2020-06-06 11:51:00,841 INFO:\tPO:LONG\n",
      "TRADE: S: EX:  : 2019-04-01 12:39 : TCS -> 2028.4\n",
      "2020-06-06 11:51:00,992 DEBUG:\tPlace Order: 2028.4,2027.7,0,32.50000000000682\n",
      "2020-06-06 11:51:01,014 DEBUG:\torder_handler(backtest_uni): {\"cmd\": \"sell\", \"symbol\": \"TCS\", \"price\": 2028.4, \"qty\": 10.0}\n",
      "2020-06-06 11:51:01,121 INFO:\tPlaceorder(full):sell: TCS: 10x2028.4\n",
      "2020-06-06 11:51:01,141 INFO:\tSQUAREOFF:LONG\n",
      "TRADE: S: EX:  : 2019-04-01 12:41 : WIPRO -> 261.9\n",
      "2020-06-06 11:51:01,700 DEBUG:\tPlace Order: 261.9,262.0,0,27.49999999999943\n",
      "2020-06-06 11:51:01,722 DEBUG:\torder_handler(backtest_uni): {\"cmd\": \"sell\", \"symbol\": \"WIPRO\", \"price\": 261.9, \"qty\": 10.0}\n",
      "2020-06-06 11:51:01,805 INFO:\tPlaceorder(full):sell: WIPRO: 10x261.9\n",
      "2020-06-06 11:51:01,826 INFO:\tSQUAREOFF:LONG\n",
      "TRADE: B: EN:  : 2019-04-01 12:42 : TCS -> 2028.65\n",
      "2020-06-06 11:51:02,002 DEBUG:\tPlace Order: 2028.65,0.0,0,39.500000000007276\n",
      "2020-06-06 11:51:02,027 DEBUG:\torder_handler(backtest_uni): {\"cmd\": \"buy\", \"symbol\": \"TCS\", \"price\": 2028.65, \"qty\": 10.0}\n",
      "2020-06-06 11:51:02,105 INFO:\tPlaceorder(full):buy: TCS: 10x2028.65\n",
      "2020-06-06 11:51:02,139 INFO:\tPO:LONG\n",
      "TRADE: S: EX:  : 2019-04-01 12:43 : TCS -> 2029.0\n",
      "2020-06-06 11:51:02,370 DEBUG:\tPlace Order: 2029.0,2028.65,0,39.500000000007276\n",
      "2020-06-06 11:51:02,397 DEBUG:\torder_handler(backtest_uni): {\"cmd\": \"sell\", \"symbol\": \"TCS\", \"price\": 2029.0, \"qty\": 10.0}\n",
      "2020-06-06 11:51:02,444 INFO:\tPlaceorder(full):sell: TCS: 10x2029.0\n",
      "2020-06-06 11:51:02,509 INFO:\tSQUAREOFF:LONG\n",
      "TRADE: B: EN:  : 2019-04-01 12:45 : TCS -> 2027.3\n",
      "2020-06-06 11:51:02,888 DEBUG:\tPlace Order: 2027.3,0.0,0,43.00000000000637\n",
      "2020-06-06 11:51:02,913 DEBUG:\torder_handler(backtest_uni): {\"cmd\": \"buy\", \"symbol\": \"TCS\", \"price\": 2027.3, \"qty\": 10.0}\n",
      "2020-06-06 11:51:02,960 INFO:\tPlaceorder(full):buy: TCS: 10x2027.3\n",
      "2020-06-06 11:51:03,011 INFO:\tPO:LONG\n",
      "TRADE: B: EN:  : 2019-04-01 12:45 : WIPRO -> 261.75\n",
      "2020-06-06 11:51:03,206 DEBUG:\tPlace Order: 261.75,0.0,0,26.499999999999204\n",
      "2020-06-06 11:51:03,233 DEBUG:\torder_handler(backtest_uni): {\"cmd\": \"buy\", \"symbol\": \"WIPRO\", \"price\": 261.75, \"qty\": 10.0}\n",
      "2020-06-06 11:51:03,268 INFO:\tPlaceorder(full):buy: WIPRO: 10x261.75\n",
      "2020-06-06 11:51:03,339 INFO:\tPO:LONG\n",
      "TRADE: S: EX:  : 2019-04-01 12:46 : TCS -> 2028.7\n",
      "2020-06-06 11:51:03,484 DEBUG:\tPlace Order: 2028.7,2027.3,0,43.00000000000637\n",
      "2020-06-06 11:51:03,515 DEBUG:\torder_handler(backtest_uni): {\"cmd\": \"sell\", \"symbol\": \"TCS\", \"price\": 2028.7, \"qty\": 10.0}\n",
      "2020-06-06 11:51:03,572 INFO:\tPlaceorder(full):sell: TCS: 10x2028.7\n",
      "2020-06-06 11:51:03,599 INFO:\tSQUAREOFF:LONG\n",
      "TRADE: S: EX:  : 2019-04-01 12:46 : WIPRO -> 261.7\n",
      "2020-06-06 11:51:03,710 DEBUG:\tPlace Order: 261.7,261.75,0,26.499999999999204\n",
      "2020-06-06 11:51:03,735 DEBUG:\torder_handler(backtest_uni): {\"cmd\": \"sell\", \"symbol\": \"WIPRO\", \"price\": 261.7, \"qty\": 10.0}\n",
      "2020-06-06 11:51:03,799 INFO:\tPlaceorder(full):sell: WIPRO: 10x261.7\n",
      "2020-06-06 11:51:03,815 INFO:\tSQUAREOFF:LONG\n",
      "TRADE: B: EN:  : 2019-04-01 12:48 : TCS -> 2028.85\n",
      "2020-06-06 11:51:04,176 DEBUG:\tPlace Order: 2028.85,0.0,0,57.000000000007276\n",
      "2020-06-06 11:51:04,208 DEBUG:\torder_handler(backtest_uni): {\"cmd\": \"buy\", \"symbol\": \"TCS\", \"price\": 2028.85, \"qty\": 10.0}\n",
      "2020-06-06 11:51:04,275 INFO:\tPlaceorder(full):buy: TCS: 10x2028.85\n",
      "2020-06-06 11:51:04,347 INFO:\tPO:LONG\n",
      "TRADE: B: EN:  : 2019-04-01 12:48 : WIPRO -> 261.85\n",
      "2020-06-06 11:51:04,493 DEBUG:\tPlace Order: 261.85,0.0,0,25.99999999999909\n",
      "2020-06-06 11:51:04,530 DEBUG:\torder_handler(backtest_uni): {\"cmd\": \"buy\", \"symbol\": \"WIPRO\", \"price\": 261.85, \"qty\": 10.0}\n",
      "2020-06-06 11:51:04,640 INFO:\tPlaceorder(full):buy: WIPRO: 10x261.85\n",
      "2020-06-06 11:51:04,657 INFO:\tPO:LONG\n",
      "TRADE: S: EX:  : 2019-04-01 12:51 : TCS -> 2028.65\n",
      "2020-06-06 11:51:05,204 DEBUG:\tPlace Order: 2028.65,2028.85,0,57.000000000007276\n",
      "2020-06-06 11:51:05,221 DEBUG:\torder_handler(backtest_uni): {\"cmd\": \"sell\", \"symbol\": \"TCS\", \"price\": 2028.65, \"qty\": 10.0}\n",
      "2020-06-06 11:51:05,285 INFO:\tPlaceorder(full):sell: TCS: 10x2028.65\n",
      "2020-06-06 11:51:05,321 INFO:\tSQUAREOFF:LONG\n",
      "TRADE: S: EX:  : 2019-04-01 12:51 : WIPRO -> 261.9\n",
      "2020-06-06 11:51:05,454 DEBUG:\tPlace Order: 261.9,261.85,0,25.99999999999909\n",
      "2020-06-06 11:51:05,474 DEBUG:\torder_handler(backtest_uni): {\"cmd\": \"sell\", \"symbol\": \"WIPRO\", \"price\": 261.9, \"qty\": 10.0}\n",
      "2020-06-06 11:51:05,510 INFO:\tPlaceorder(full):sell: WIPRO: 10x261.9\n",
      "2020-06-06 11:51:05,529 INFO:\tSQUAREOFF:LONG\n",
      "TRADE: B: EN:  : 2019-04-01 12:53 : TCS -> 2028.4\n",
      "2020-06-06 11:51:05,864 DEBUG:\tPlace Order: 2028.4,0.0,0,55.000000000009095\n",
      "2020-06-06 11:51:05,891 DEBUG:\torder_handler(backtest_uni): {\"cmd\": \"buy\", \"symbol\": \"TCS\", \"price\": 2028.4, \"qty\": 10.0}\n",
      "2020-06-06 11:51:05,929 INFO:\tPlaceorder(full):buy: TCS: 10x2028.4\n",
      "2020-06-06 11:51:05,967 INFO:\tPO:LONG\n",
      "TRADE: S: EX:  : 2019-04-01 12:54 : TCS -> 2028.15\n",
      "2020-06-06 11:51:06,202 DEBUG:\tPlace Order: 2028.15,2028.4,0,55.000000000009095\n",
      "2020-06-06 11:51:06,226 DEBUG:\torder_handler(backtest_uni): {\"cmd\": \"sell\", \"symbol\": \"TCS\", \"price\": 2028.15, \"qty\": 10.0}\n",
      "2020-06-06 11:51:06,238 INFO:\tPlaceorder(full):sell: TCS: 10x2028.15\n",
      "2020-06-06 11:51:06,248 INFO:\tSQUAREOFF:LONG\n",
      "TRADE: S: EN:  : 2019-04-01 12:54 : WIPRO -> 261.9\n",
      "2020-06-06 11:51:06,426 DEBUG:\tPlace Order: 261.9,0.0,0,26.499999999998636\n",
      "2020-06-06 11:51:06,458 DEBUG:\torder_handler(backtest_uni): {\"cmd\": \"sell\", \"symbol\": \"WIPRO\", \"price\": 261.9, \"qty\": 10.0}\n",
      "2020-06-06 11:51:06,498 INFO:\tPlaceorder(full):sell: WIPRO: 10x261.9\n",
      "2020-06-06 11:51:06,542 INFO:\tPO:SHORT\n",
      "TRADE: B: EX:  : 2019-04-01 12:55 : WIPRO -> 261.9\n",
      "2020-06-06 11:51:06,745 DEBUG:\tPlace Order: 261.9,261.9,0,26.499999999998636\n",
      "2020-06-06 11:51:06,787 DEBUG:\torder_handler(backtest_uni): {\"cmd\": \"buy\", \"symbol\": \"WIPRO\", \"price\": 261.9, \"qty\": 10.0}\n",
      "2020-06-06 11:51:06,817 INFO:\tPlaceorder(full):buy: WIPRO: 10x261.9\n",
      "2020-06-06 11:51:06,838 INFO:\tSQUAREOFF:SHORT\n",
      "TRADE: B: EN:  : 2019-04-01 12:56 : TCS -> 2030.0\n",
      "2020-06-06 11:51:07,002 DEBUG:\tPlace Order: 2030.0,0.0,0,52.500000000009095\n",
      "2020-06-06 11:51:07,029 DEBUG:\torder_handler(backtest_uni): {\"cmd\": \"buy\", \"symbol\": \"TCS\", \"price\": 2030.0, \"qty\": 10.0}\n",
      "2020-06-06 11:51:07,111 INFO:\tPlaceorder(full):buy: TCS: 10x2030.0\n",
      "2020-06-06 11:51:07,129 INFO:\tPO:LONG\n",
      "TRADE: B: EN:  : 2019-04-01 12:58 : WIPRO -> 261.85\n",
      "2020-06-06 11:51:07,604 DEBUG:\tPlace Order: 261.85,0.0,0,26.499999999998636\n",
      "2020-06-06 11:51:07,629 DEBUG:\torder_handler(backtest_uni): {\"cmd\": \"buy\", \"symbol\": \"WIPRO\", \"price\": 261.85, \"qty\": 10.0}\n",
      "2020-06-06 11:51:07,704 INFO:\tPlaceorder(full):buy: WIPRO: 10x261.85\n",
      "2020-06-06 11:51:07,716 INFO:\tPO:LONG\n",
      "TRADE: S: EX:  : 2019-04-01 12:59 : WIPRO -> 261.75\n",
      "2020-06-06 11:51:07,905 DEBUG:\tPlace Order: 261.75,261.85,0,26.499999999998636\n",
      "2020-06-06 11:51:07,922 DEBUG:\torder_handler(backtest_uni): {\"cmd\": \"sell\", \"symbol\": \"WIPRO\", \"price\": 261.75, \"qty\": 10.0}\n",
      "2020-06-06 11:51:07,965 INFO:\tPlaceorder(full):sell: WIPRO: 10x261.75\n",
      "2020-06-06 11:51:07,991 INFO:\tSQUAREOFF:LONG\n",
      "TRADE: S: EX:  : 2019-04-01 13:00 : TCS -> 2029.1\n",
      "2020-06-06 11:51:08,116 DEBUG:\tPlace Order: 2029.1,2030.0,0,52.500000000009095\n",
      "2020-06-06 11:51:08,139 DEBUG:\torder_handler(backtest_uni): {\"cmd\": \"sell\", \"symbol\": \"TCS\", \"price\": 2029.1, \"qty\": 10.0}\n",
      "2020-06-06 11:51:08,174 INFO:\tPlaceorder(full):sell: TCS: 10x2029.1\n",
      "2020-06-06 11:51:08,233 INFO:\tSQUAREOFF:LONG\n",
      "TRADE: B: EN:  : 2019-04-01 13:01 : WIPRO -> 261.8\n",
      "2020-06-06 11:51:08,544 DEBUG:\tPlace Order: 261.8,0.0,0,25.49999999999841\n",
      "2020-06-06 11:51:08,570 DEBUG:\torder_handler(backtest_uni): {\"cmd\": \"buy\", \"symbol\": \"WIPRO\", \"price\": 261.8, \"qty\": 10.0}\n",
      "2020-06-06 11:51:08,668 INFO:\tPlaceorder(full):buy: WIPRO: 10x261.8\n",
      "2020-06-06 11:51:08,684 INFO:\tPO:LONG\n",
      "TRADE: B: EN:  : 2019-04-01 13:02 : TCS -> 2029.25\n",
      "2020-06-06 11:51:08,807 DEBUG:\tPlace Order: 2029.25,0.0,0,43.500000000008185\n",
      "2020-06-06 11:51:08,827 DEBUG:\torder_handler(backtest_uni): {\"cmd\": \"buy\", \"symbol\": \"TCS\", \"price\": 2029.25, \"qty\": 10.0}\n",
      "2020-06-06 11:51:08,899 INFO:\tPlaceorder(full):buy: TCS: 10x2029.25\n",
      "2020-06-06 11:51:08,966 INFO:\tPO:LONG\n",
      "TRADE: S: EX:  : 2019-04-01 13:03 : WIPRO -> 261.75\n",
      "2020-06-06 11:51:09,342 DEBUG:\tPlace Order: 261.75,261.8,0,25.49999999999841\n",
      "2020-06-06 11:51:09,363 DEBUG:\torder_handler(backtest_uni): {\"cmd\": \"sell\", \"symbol\": \"WIPRO\", \"price\": 261.75, \"qty\": 10.0}\n"
     ]
    },
    {
     "name": "stderr",
     "output_type": "stream",
     "text": [
      "2020-06-06 11:51:09,382 INFO:\tPlaceorder(full):sell: WIPRO: 10x261.75\n",
      "2020-06-06 11:51:09,428 INFO:\tSQUAREOFF:LONG\n",
      "TRADE: S: EX:  : 2019-04-01 13:04 : TCS -> 2028.25\n",
      "2020-06-06 11:51:09,623 DEBUG:\tPlace Order: 2028.25,2029.25,0,43.500000000008185\n",
      "2020-06-06 11:51:09,660 DEBUG:\torder_handler(backtest_uni): {\"cmd\": \"sell\", \"symbol\": \"TCS\", \"price\": 2028.25, \"qty\": 10.0}\n",
      "2020-06-06 11:51:09,705 INFO:\tPlaceorder(full):sell: TCS: 10x2028.25\n",
      "2020-06-06 11:51:09,752 INFO:\tSQUAREOFF:LONG\n",
      "TRADE: B: EN:  : 2019-04-01 13:04 : WIPRO -> 261.7\n",
      "2020-06-06 11:51:09,919 DEBUG:\tPlace Order: 261.7,0.0,0,24.999999999998295\n",
      "2020-06-06 11:51:09,946 DEBUG:\torder_handler(backtest_uni): {\"cmd\": \"buy\", \"symbol\": \"WIPRO\", \"price\": 261.7, \"qty\": 10.0}\n",
      "2020-06-06 11:51:10,030 INFO:\tPlaceorder(full):buy: WIPRO: 10x261.7\n",
      "2020-06-06 11:51:10,048 INFO:\tPO:LONG\n",
      "TRADE: B: EN:  : 2019-04-01 13:06 : TCS -> 2029.8\n",
      "2020-06-06 11:51:10,343 DEBUG:\tPlace Order: 2029.8,0.0,0,33.500000000008185\n",
      "2020-06-06 11:51:10,363 DEBUG:\torder_handler(backtest_uni): {\"cmd\": \"buy\", \"symbol\": \"TCS\", \"price\": 2029.8, \"qty\": 10.0}\n",
      "2020-06-06 11:51:10,432 INFO:\tPlaceorder(full):buy: TCS: 10x2029.8\n",
      "2020-06-06 11:51:10,445 INFO:\tPO:LONG\n",
      "TRADE: S: EX:  : 2019-04-01 13:06 : WIPRO -> 262.05\n",
      "2020-06-06 11:51:10,551 DEBUG:\tPlace Order: 262.05,261.7,0,24.999999999998295\n",
      "2020-06-06 11:51:10,577 DEBUG:\torder_handler(backtest_uni): {\"cmd\": \"sell\", \"symbol\": \"WIPRO\", \"price\": 262.05, \"qty\": 10.0}\n",
      "2020-06-06 11:51:10,652 INFO:\tPlaceorder(full):sell: WIPRO: 10x262.05\n",
      "2020-06-06 11:51:10,717 INFO:\tSQUAREOFF:LONG\n",
      "TRADE: B: EN:  : 2019-04-01 13:07 : WIPRO -> 262.05\n",
      "2020-06-06 11:51:10,937 DEBUG:\tPlace Order: 262.05,0.0,0,28.499999999998522\n",
      "2020-06-06 11:51:10,961 DEBUG:\torder_handler(backtest_uni): {\"cmd\": \"buy\", \"symbol\": \"WIPRO\", \"price\": 262.05, \"qty\": 10.0}\n",
      "2020-06-06 11:51:11,014 INFO:\tPlaceorder(full):buy: WIPRO: 10x262.05\n",
      "2020-06-06 11:51:11,064 INFO:\tPO:LONG\n",
      "TRADE: S: EX:  : 2019-04-01 13:09 : TCS -> 2029.3\n",
      "2020-06-06 11:51:11,426 DEBUG:\tPlace Order: 2029.3,2029.8,0,33.500000000008185\n",
      "2020-06-06 11:51:11,458 DEBUG:\torder_handler(backtest_uni): {\"cmd\": \"sell\", \"symbol\": \"TCS\", \"price\": 2029.3, \"qty\": 10.0}\n",
      "2020-06-06 11:51:11,557 INFO:\tPlaceorder(full):sell: TCS: 10x2029.3\n",
      "2020-06-06 11:51:11,584 INFO:\tSQUAREOFF:LONG\n",
      "TRADE: B: EN:  : 2019-04-01 13:10 : TCS -> 2029.85\n",
      "2020-06-06 11:51:11,822 DEBUG:\tPlace Order: 2029.85,0.0,0,28.500000000008185\n",
      "2020-06-06 11:51:11,849 DEBUG:\torder_handler(backtest_uni): {\"cmd\": \"buy\", \"symbol\": \"TCS\", \"price\": 2029.85, \"qty\": 10.0}\n",
      "2020-06-06 11:51:11,907 INFO:\tPlaceorder(full):buy: TCS: 10x2029.85\n",
      "2020-06-06 11:51:11,926 INFO:\tPO:LONG\n",
      "TRADE: S: EX:  : 2019-04-01 13:12 : TCS -> 2030.4\n",
      "2020-06-06 11:51:12,404 DEBUG:\tPlace Order: 2030.4,2029.85,0,28.500000000008185\n",
      "2020-06-06 11:51:12,437 DEBUG:\torder_handler(backtest_uni): {\"cmd\": \"sell\", \"symbol\": \"TCS\", \"price\": 2030.4, \"qty\": 10.0}\n",
      "2020-06-06 11:51:12,485 INFO:\tPlaceorder(full):sell: TCS: 10x2030.4\n",
      "2020-06-06 11:51:12,498 INFO:\tSQUAREOFF:LONG\n",
      "TRADE: S: EX:  : 2019-04-01 13:12 : WIPRO -> 262.0\n",
      "2020-06-06 11:51:12,632 DEBUG:\tPlace Order: 262.0,262.05,0,28.499999999998522\n",
      "2020-06-06 11:51:12,651 DEBUG:\torder_handler(backtest_uni): {\"cmd\": \"sell\", \"symbol\": \"WIPRO\", \"price\": 262.0, \"qty\": 10.0}\n",
      "2020-06-06 11:51:12,709 INFO:\tPlaceorder(full):sell: WIPRO: 10x262.0\n",
      "2020-06-06 11:51:12,732 INFO:\tSQUAREOFF:LONG\n",
      "TRADE: B: EN:  : 2019-04-01 13:13 : TCS -> 2030.5\n",
      "2020-06-06 11:51:12,871 DEBUG:\tPlace Order: 2030.5,0.0,0,34.000000000010004\n",
      "2020-06-06 11:51:12,904 DEBUG:\torder_handler(backtest_uni): {\"cmd\": \"buy\", \"symbol\": \"TCS\", \"price\": 2030.5, \"qty\": 10.0}\n",
      "2020-06-06 11:51:12,933 INFO:\tPlaceorder(full):buy: TCS: 10x2030.5\n",
      "2020-06-06 11:51:12,962 INFO:\tPO:LONG\n",
      "TRADE: B: EN:  : 2019-04-01 13:14 : WIPRO -> 262.25\n",
      "2020-06-06 11:51:13,350 DEBUG:\tPlace Order: 262.25,0.0,0,27.99999999999841\n",
      "2020-06-06 11:51:13,369 DEBUG:\torder_handler(backtest_uni): {\"cmd\": \"buy\", \"symbol\": \"WIPRO\", \"price\": 262.25, \"qty\": 10.0}\n",
      "2020-06-06 11:51:13,400 INFO:\tPlaceorder(full):buy: WIPRO: 10x262.25\n",
      "2020-06-06 11:51:13,419 INFO:\tPO:LONG\n",
      "TRADE: S: EX:  : 2019-04-01 13:16 : TCS -> 2028.75\n",
      "2020-06-06 11:51:13,806 DEBUG:\tPlace Order: 2028.75,2030.5,0,34.000000000010004\n",
      "2020-06-06 11:51:13,832 DEBUG:\torder_handler(backtest_uni): {\"cmd\": \"sell\", \"symbol\": \"TCS\", \"price\": 2028.75, \"qty\": 10.0}\n",
      "2020-06-06 11:51:13,918 INFO:\tPlaceorder(full):sell: TCS: 10x2028.75\n",
      "2020-06-06 11:51:13,954 INFO:\tSQUAREOFF:LONG\n",
      "TRADE: S: EX:  : 2019-04-01 13:16 : WIPRO -> 262.15\n",
      "2020-06-06 11:51:14,183 DEBUG:\tPlace Order: 262.15,262.25,0,27.99999999999841\n",
      "2020-06-06 11:51:14,196 DEBUG:\torder_handler(backtest_uni): {\"cmd\": \"sell\", \"symbol\": \"WIPRO\", \"price\": 262.15, \"qty\": 10.0}\n",
      "2020-06-06 11:51:14,270 INFO:\tPlaceorder(full):sell: WIPRO: 10x262.15\n",
      "2020-06-06 11:51:14,285 INFO:\tSQUAREOFF:LONG\n",
      "TRADE: B: EN:  : 2019-04-01 13:18 : TCS -> 2028.5\n",
      "2020-06-06 11:51:14,583 DEBUG:\tPlace Order: 2028.5,0.0,0,16.500000000010004\n",
      "2020-06-06 11:51:14,626 DEBUG:\torder_handler(backtest_uni): {\"cmd\": \"buy\", \"symbol\": \"TCS\", \"price\": 2028.5, \"qty\": 10.0}\n",
      "2020-06-06 11:51:14,637 INFO:\tPlaceorder(full):buy: TCS: 10x2028.5\n",
      "2020-06-06 11:51:14,650 INFO:\tPO:LONG\n",
      "TRADE: S: EX:  : 2019-04-01 13:19 : TCS -> 2029.0\n",
      "2020-06-06 11:51:15,040 DEBUG:\tPlace Order: 2029.0,2028.5,0,16.500000000010004\n",
      "2020-06-06 11:51:15,062 DEBUG:\torder_handler(backtest_uni): {\"cmd\": \"sell\", \"symbol\": \"TCS\", \"price\": 2029.0, \"qty\": 10.0}\n",
      "2020-06-06 11:51:15,144 INFO:\tPlaceorder(full):sell: TCS: 10x2029.0\n",
      "2020-06-06 11:51:15,155 INFO:\tSQUAREOFF:LONG\n",
      "TRADE: B: EN:  : 2019-04-01 13:21 : WIPRO -> 262.0\n",
      "2020-06-06 11:51:15,708 DEBUG:\tPlace Order: 262.0,0.0,0,26.99999999999818\n",
      "2020-06-06 11:51:15,731 DEBUG:\torder_handler(backtest_uni): {\"cmd\": \"buy\", \"symbol\": \"WIPRO\", \"price\": 262.0, \"qty\": 10.0}\n",
      "2020-06-06 11:51:15,823 INFO:\tPlaceorder(full):buy: WIPRO: 10x262.0\n",
      "2020-06-06 11:51:15,851 INFO:\tPO:LONG\n",
      "TRADE: B: EN:  : 2019-04-01 13:23 : TCS -> 2028.55\n",
      "2020-06-06 11:51:16,236 DEBUG:\tPlace Order: 2028.55,0.0,0,21.500000000010004\n",
      "2020-06-06 11:51:16,264 DEBUG:\torder_handler(backtest_uni): {\"cmd\": \"buy\", \"symbol\": \"TCS\", \"price\": 2028.55, \"qty\": 10.0}\n",
      "2020-06-06 11:51:16,313 INFO:\tPlaceorder(full):buy: TCS: 10x2028.55\n",
      "2020-06-06 11:51:16,362 INFO:\tPO:LONG\n",
      "TRADE: S: EX:  : 2019-04-01 13:25 : WIPRO -> 262.0\n",
      "2020-06-06 11:51:17,029 DEBUG:\tPlace Order: 262.0,262.0,0,26.99999999999818\n",
      "2020-06-06 11:51:17,054 DEBUG:\torder_handler(backtest_uni): {\"cmd\": \"sell\", \"symbol\": \"WIPRO\", \"price\": 262.0, \"qty\": 10.0}\n",
      "2020-06-06 11:51:17,124 INFO:\tPlaceorder(full):sell: WIPRO: 10x262.0\n",
      "2020-06-06 11:51:17,166 INFO:\tSQUAREOFF:LONG\n",
      "TRADE: B: EN:  : 2019-04-01 13:27 : WIPRO -> 262.05\n",
      "2020-06-06 11:51:17,621 DEBUG:\tPlace Order: 262.05,0.0,0,26.99999999999818\n",
      "2020-06-06 11:51:17,656 DEBUG:\torder_handler(backtest_uni): {\"cmd\": \"buy\", \"symbol\": \"WIPRO\", \"price\": 262.05, \"qty\": 10.0}\n",
      "2020-06-06 11:51:17,714 INFO:\tPlaceorder(full):buy: WIPRO: 10x262.05\n",
      "2020-06-06 11:51:17,743 INFO:\tPO:LONG\n",
      "TRADE: S: EX:  : 2019-04-01 13:30 : TCS -> 2028.85\n",
      "2020-06-06 11:51:18,250 DEBUG:\tPlace Order: 2028.85,2028.55,0,21.500000000010004\n",
      "2020-06-06 11:51:18,325 DEBUG:\torder_handler(backtest_uni): {\"cmd\": \"sell\", \"symbol\": \"TCS\", \"price\": 2028.85, \"qty\": 10.0}\n",
      "2020-06-06 11:51:18,385 INFO:\tPlaceorder(full):sell: TCS: 10x2028.85\n",
      "2020-06-06 11:51:18,398 INFO:\tSQUAREOFF:LONG\n",
      "TRADE: S: EX:  : 2019-04-01 13:30 : WIPRO -> 262.0\n",
      "2020-06-06 11:51:18,530 DEBUG:\tPlace Order: 262.0,262.05,0,26.99999999999818\n",
      "2020-06-06 11:51:18,557 DEBUG:\torder_handler(backtest_uni): {\"cmd\": \"sell\", \"symbol\": \"WIPRO\", \"price\": 262.0, \"qty\": 10.0}\n",
      "2020-06-06 11:51:18,599 INFO:\tPlaceorder(full):sell: WIPRO: 10x262.0\n",
      "2020-06-06 11:51:18,617 INFO:\tSQUAREOFF:LONG\n",
      "TRADE: B: EN:  : 2019-04-01 13:31 : TCS -> 2029.15\n",
      "2020-06-06 11:51:18,762 DEBUG:\tPlace Order: 2029.15,0.0,0,24.50000000000955\n",
      "2020-06-06 11:51:18,789 DEBUG:\torder_handler(backtest_uni): {\"cmd\": \"buy\", \"symbol\": \"TCS\", \"price\": 2029.15, \"qty\": 10.0}\n",
      "2020-06-06 11:51:18,865 INFO:\tPlaceorder(full):buy: TCS: 10x2029.15\n",
      "2020-06-06 11:51:18,882 INFO:\tPO:LONG\n",
      "TRADE: B: EN:  : 2019-04-01 13:32 : WIPRO -> 262.0\n",
      "2020-06-06 11:51:19,182 DEBUG:\tPlace Order: 262.0,0.0,0,26.499999999998067\n"
     ]
    },
    {
     "name": "stderr",
     "output_type": "stream",
     "text": [
      "2020-06-06 11:51:19,198 DEBUG:\torder_handler(backtest_uni): {\"cmd\": \"buy\", \"symbol\": \"WIPRO\", \"price\": 262.0, \"qty\": 10.0}\n",
      "2020-06-06 11:51:19,287 INFO:\tPlaceorder(full):buy: WIPRO: 10x262.0\n",
      "2020-06-06 11:51:19,317 INFO:\tPO:LONG\n",
      "TRADE: S: EX:  : 2019-04-01 13:34 : WIPRO -> 262.0\n",
      "2020-06-06 11:51:19,807 DEBUG:\tPlace Order: 262.0,262.0,0,26.499999999998067\n",
      "2020-06-06 11:51:19,824 DEBUG:\torder_handler(backtest_uni): {\"cmd\": \"sell\", \"symbol\": \"WIPRO\", \"price\": 262.0, \"qty\": 10.0}\n",
      "2020-06-06 11:51:19,884 INFO:\tPlaceorder(full):sell: WIPRO: 10x262.0\n",
      "2020-06-06 11:51:19,936 INFO:\tSQUAREOFF:LONG\n",
      "TRADE: S: EX:  : 2019-04-01 13:35 : TCS -> 2028.8\n",
      "2020-06-06 11:51:20,129 DEBUG:\tPlace Order: 2028.8,2029.15,0,24.50000000000955\n",
      "2020-06-06 11:51:20,177 DEBUG:\torder_handler(backtest_uni): {\"cmd\": \"sell\", \"symbol\": \"TCS\", \"price\": 2028.8, \"qty\": 10.0}\n",
      "2020-06-06 11:51:20,266 INFO:\tPlaceorder(full):sell: TCS: 10x2028.8\n",
      "2020-06-06 11:51:20,281 INFO:\tSQUAREOFF:LONG\n",
      "TRADE: B: EN:  : 2019-04-01 13:36 : WIPRO -> 262.0\n",
      "2020-06-06 11:51:20,740 DEBUG:\tPlace Order: 262.0,0.0,0,26.499999999998067\n",
      "2020-06-06 11:51:20,761 DEBUG:\torder_handler(backtest_uni): {\"cmd\": \"buy\", \"symbol\": \"WIPRO\", \"price\": 262.0, \"qty\": 10.0}\n",
      "2020-06-06 11:51:20,846 INFO:\tPlaceorder(full):buy: WIPRO: 10x262.0\n",
      "2020-06-06 11:51:20,880 INFO:\tPO:LONG\n",
      "TRADE: S: EX:  : 2019-04-01 13:37 : WIPRO -> 262.0\n",
      "2020-06-06 11:51:21,128 DEBUG:\tPlace Order: 262.0,262.0,0,26.499999999998067\n",
      "2020-06-06 11:51:21,161 DEBUG:\torder_handler(backtest_uni): {\"cmd\": \"sell\", \"symbol\": \"WIPRO\", \"price\": 262.0, \"qty\": 10.0}\n",
      "2020-06-06 11:51:21,192 INFO:\tPlaceorder(full):sell: WIPRO: 10x262.0\n",
      "2020-06-06 11:51:21,251 INFO:\tSQUAREOFF:LONG\n",
      "TRADE: B: EN:  : 2019-04-01 13:38 : TCS -> 2029.5\n",
      "2020-06-06 11:51:21,371 DEBUG:\tPlace Order: 2029.5,0.0,0,21.000000000008185\n",
      "2020-06-06 11:51:21,399 DEBUG:\torder_handler(backtest_uni): {\"cmd\": \"buy\", \"symbol\": \"TCS\", \"price\": 2029.5, \"qty\": 10.0}\n",
      "2020-06-06 11:51:21,435 INFO:\tPlaceorder(full):buy: TCS: 10x2029.5\n",
      "2020-06-06 11:51:21,479 INFO:\tPO:LONG\n",
      "TRADE: B: EN:  : 2019-04-01 13:38 : WIPRO -> 262.2\n",
      "2020-06-06 11:51:21,655 DEBUG:\tPlace Order: 262.2,0.0,0,26.499999999998067\n",
      "2020-06-06 11:51:21,688 DEBUG:\torder_handler(backtest_uni): {\"cmd\": \"buy\", \"symbol\": \"WIPRO\", \"price\": 262.2, \"qty\": 10.0}\n",
      "2020-06-06 11:51:21,725 INFO:\tPlaceorder(full):buy: WIPRO: 10x262.2\n",
      "2020-06-06 11:51:21,768 INFO:\tPO:LONG\n",
      "TRADE: S: EX:  : 2019-04-01 13:40 : TCS -> 2028.6\n",
      "2020-06-06 11:51:22,137 DEBUG:\tPlace Order: 2028.6,2029.5,0,21.000000000008185\n",
      "2020-06-06 11:51:22,154 DEBUG:\torder_handler(backtest_uni): {\"cmd\": \"sell\", \"symbol\": \"TCS\", \"price\": 2028.6, \"qty\": 10.0}\n",
      "2020-06-06 11:51:22,204 INFO:\tPlaceorder(full):sell: TCS: 10x2028.6\n",
      "2020-06-06 11:51:22,232 INFO:\tSQUAREOFF:LONG\n",
      "TRADE: S: EX:  : 2019-04-01 13:41 : WIPRO -> 262.3\n",
      "2020-06-06 11:51:22,550 DEBUG:\tPlace Order: 262.3,262.2,0,26.499999999998067\n",
      "2020-06-06 11:51:22,571 DEBUG:\torder_handler(backtest_uni): {\"cmd\": \"sell\", \"symbol\": \"WIPRO\", \"price\": 262.3, \"qty\": 10.0}\n",
      "2020-06-06 11:51:22,642 INFO:\tPlaceorder(full):sell: WIPRO: 10x262.3\n",
      "2020-06-06 11:51:22,652 INFO:\tSQUAREOFF:LONG\n",
      "TRADE: B: EN:  : 2019-04-01 13:42 : TCS -> 2028.9\n",
      "2020-06-06 11:51:22,778 DEBUG:\tPlace Order: 2028.9,0.0,0,12.000000000007276\n",
      "2020-06-06 11:51:22,801 DEBUG:\torder_handler(backtest_uni): {\"cmd\": \"buy\", \"symbol\": \"TCS\", \"price\": 2028.9, \"qty\": 10.0}\n",
      "2020-06-06 11:51:22,877 INFO:\tPlaceorder(full):buy: TCS: 10x2028.9\n",
      "2020-06-06 11:51:22,911 INFO:\tPO:LONG\n",
      "TRADE: B: EN:  : 2019-04-01 13:42 : WIPRO -> 262.5\n",
      "2020-06-06 11:51:23,166 DEBUG:\tPlace Order: 262.5,0.0,0,27.499999999998295\n",
      "2020-06-06 11:51:23,198 DEBUG:\torder_handler(backtest_uni): {\"cmd\": \"buy\", \"symbol\": \"WIPRO\", \"price\": 262.5, \"qty\": 10.0}\n",
      "2020-06-06 11:51:23,227 INFO:\tPlaceorder(full):buy: WIPRO: 10x262.5\n",
      "2020-06-06 11:51:23,280 INFO:\tPO:LONG\n",
      "TRADE: S: EX:  : 2019-04-01 13:44 : TCS -> 2028.85\n",
      "2020-06-06 11:51:23,643 DEBUG:\tPlace Order: 2028.85,2028.9,0,12.000000000007276\n",
      "2020-06-06 11:51:23,662 DEBUG:\torder_handler(backtest_uni): {\"cmd\": \"sell\", \"symbol\": \"TCS\", \"price\": 2028.85, \"qty\": 10.0}\n",
      "2020-06-06 11:51:23,743 INFO:\tPlaceorder(full):sell: TCS: 10x2028.85\n",
      "2020-06-06 11:51:23,770 INFO:\tSQUAREOFF:LONG\n",
      "TRADE: S: EX:  : 2019-04-01 13:44 : WIPRO -> 262.35\n",
      "2020-06-06 11:51:23,908 DEBUG:\tPlace Order: 262.35,262.5,0,27.499999999998295\n",
      "2020-06-06 11:51:23,931 DEBUG:\torder_handler(backtest_uni): {\"cmd\": \"sell\", \"symbol\": \"WIPRO\", \"price\": 262.35, \"qty\": 10.0}\n",
      "2020-06-06 11:51:23,999 INFO:\tPlaceorder(full):sell: WIPRO: 10x262.35\n",
      "2020-06-06 11:51:24,081 INFO:\tSQUAREOFF:LONG\n",
      "TRADE: B: EN:  : 2019-04-01 13:45 : TCS -> 2028.8\n",
      "2020-06-06 11:51:24,338 DEBUG:\tPlace Order: 2028.8,0.0,0,11.500000000005457\n",
      "2020-06-06 11:51:24,368 DEBUG:\torder_handler(backtest_uni): {\"cmd\": \"buy\", \"symbol\": \"TCS\", \"price\": 2028.8, \"qty\": 10.0}\n",
      "2020-06-06 11:51:24,443 INFO:\tPlaceorder(full):buy: TCS: 10x2028.8\n",
      "2020-06-06 11:51:24,457 INFO:\tPO:LONG\n",
      "TRADE: S: EX:  : 2019-04-01 13:47 : TCS -> 2028.55\n",
      "2020-06-06 11:51:24,857 DEBUG:\tPlace Order: 2028.55,2028.8,0,11.500000000005457\n",
      "2020-06-06 11:51:24,873 DEBUG:\torder_handler(backtest_uni): {\"cmd\": \"sell\", \"symbol\": \"TCS\", \"price\": 2028.55, \"qty\": 10.0}\n",
      "2020-06-06 11:51:24,960 INFO:\tPlaceorder(full):sell: TCS: 10x2028.55\n",
      "2020-06-06 11:51:24,977 INFO:\tSQUAREOFF:LONG\n",
      "TRADE: B: EN:  : 2019-04-01 13:50 : WIPRO -> 262.25\n",
      "2020-06-06 11:51:25,693 DEBUG:\tPlace Order: 262.25,0.0,0,25.999999999998522\n",
      "2020-06-06 11:51:25,714 DEBUG:\torder_handler(backtest_uni): {\"cmd\": \"buy\", \"symbol\": \"WIPRO\", \"price\": 262.25, \"qty\": 10.0}\n",
      "2020-06-06 11:51:25,765 INFO:\tPlaceorder(full):buy: WIPRO: 10x262.25\n",
      "2020-06-06 11:51:25,804 INFO:\tPO:LONG\n",
      "TRADE: B: EN:  : 2019-04-01 13:51 : TCS -> 2028.0\n",
      "2020-06-06 11:51:25,957 DEBUG:\tPlace Order: 2028.0,0.0,0,9.000000000005457\n",
      "2020-06-06 11:51:25,996 DEBUG:\torder_handler(backtest_uni): {\"cmd\": \"buy\", \"symbol\": \"TCS\", \"price\": 2028.0, \"qty\": 10.0}\n",
      "2020-06-06 11:51:26,066 INFO:\tPlaceorder(full):buy: TCS: 10x2028.0\n",
      "2020-06-06 11:51:26,100 INFO:\tPO:LONG\n",
      "TRADE: S: EX:  : 2019-04-01 13:52 : WIPRO -> 262.15\n",
      "2020-06-06 11:51:26,463 DEBUG:\tPlace Order: 262.15,262.25,0,25.999999999998522\n",
      "2020-06-06 11:51:26,484 DEBUG:\torder_handler(backtest_uni): {\"cmd\": \"sell\", \"symbol\": \"WIPRO\", \"price\": 262.15, \"qty\": 10.0}\n",
      "2020-06-06 11:51:26,510 INFO:\tPlaceorder(full):sell: WIPRO: 10x262.15\n",
      "2020-06-06 11:51:26,547 INFO:\tSQUAREOFF:LONG\n",
      "TRADE: B: EN:  : 2019-04-01 13:54 : WIPRO -> 262.1\n",
      "2020-06-06 11:51:27,045 DEBUG:\tPlace Order: 262.1,0.0,0,24.999999999998295\n",
      "2020-06-06 11:51:27,064 DEBUG:\torder_handler(backtest_uni): {\"cmd\": \"buy\", \"symbol\": \"WIPRO\", \"price\": 262.1, \"qty\": 10.0}\n",
      "2020-06-06 11:51:27,149 INFO:\tPlaceorder(full):buy: WIPRO: 10x262.1\n",
      "2020-06-06 11:51:27,166 INFO:\tPO:LONG\n",
      "TRADE: S: EX:  : 2019-04-01 13:55 : WIPRO -> 262.05\n",
      "2020-06-06 11:51:27,446 DEBUG:\tPlace Order: 262.05,262.1,0,24.999999999998295\n",
      "2020-06-06 11:51:27,472 DEBUG:\torder_handler(backtest_uni): {\"cmd\": \"sell\", \"symbol\": \"WIPRO\", \"price\": 262.05, \"qty\": 10.0}\n",
      "2020-06-06 11:51:27,526 INFO:\tPlaceorder(full):sell: WIPRO: 10x262.05\n",
      "2020-06-06 11:51:27,556 INFO:\tSQUAREOFF:LONG\n",
      "TRADE: S: EX:  : 2019-04-01 13:57 : TCS -> 2028.7\n",
      "2020-06-06 11:51:27,853 DEBUG:\tPlace Order: 2028.7,2028.0,0,9.000000000005457\n",
      "2020-06-06 11:51:27,871 DEBUG:\torder_handler(backtest_uni): {\"cmd\": \"sell\", \"symbol\": \"TCS\", \"price\": 2028.7, \"qty\": 10.0}\n",
      "2020-06-06 11:51:27,953 INFO:\tPlaceorder(full):sell: TCS: 10x2028.7\n",
      "2020-06-06 11:51:27,966 INFO:\tSQUAREOFF:LONG\n",
      "TRADE: B: EN:  : 2019-04-01 14:01 : TCS -> 2028.4\n",
      "2020-06-06 11:51:28,793 DEBUG:\tPlace Order: 2028.4,0.0,0,16.00000000000591\n",
      "2020-06-06 11:51:28,843 DEBUG:\torder_handler(backtest_uni): {\"cmd\": \"buy\", \"symbol\": \"TCS\", \"price\": 2028.4, \"qty\": 10.0}\n",
      "2020-06-06 11:51:28,894 INFO:\tPlaceorder(full):buy: TCS: 10x2028.4\n",
      "2020-06-06 11:51:28,913 INFO:\tPO:LONG\n",
      "TRADE: S: EN:  : 2019-04-01 14:01 : WIPRO -> 262.05\n",
      "2020-06-06 11:51:29,034 DEBUG:\tPlace Order: 262.05,0.0,0,24.49999999999818\n",
      "2020-06-06 11:51:29,059 DEBUG:\torder_handler(backtest_uni): {\"cmd\": \"sell\", \"symbol\": \"WIPRO\", \"price\": 262.05, \"qty\": 10.0}\n",
      "2020-06-06 11:51:29,075 INFO:\tPlaceorder(full):sell: WIPRO: 10x262.05\n",
      "2020-06-06 11:51:29,096 INFO:\tPO:SHORT\n",
      "TRADE: B: EX:  : 2019-04-01 14:02 : WIPRO -> 262.4\n"
     ]
    },
    {
     "name": "stderr",
     "output_type": "stream",
     "text": [
      "2020-06-06 11:51:29,391 DEBUG:\tPlace Order: 262.4,262.05,0,24.49999999999818\n",
      "2020-06-06 11:51:29,410 DEBUG:\torder_handler(backtest_uni): {\"cmd\": \"buy\", \"symbol\": \"WIPRO\", \"price\": 262.4, \"qty\": 10.0}\n",
      "2020-06-06 11:51:29,432 INFO:\tPlaceorder(full):buy: WIPRO: 10x262.4\n",
      "2020-06-06 11:51:29,558 INFO:\tSQUAREOFF:SHORT\n",
      "TRADE: S: EX:  : 2019-04-01 14:05 : TCS -> 2028.0\n",
      "2020-06-06 11:51:30,173 DEBUG:\tPlace Order: 2028.0,2028.4,0,16.00000000000591\n",
      "2020-06-06 11:51:30,189 DEBUG:\torder_handler(backtest_uni): {\"cmd\": \"sell\", \"symbol\": \"TCS\", \"price\": 2028.0, \"qty\": 10.0}\n",
      "2020-06-06 11:51:30,246 INFO:\tPlaceorder(full):sell: TCS: 10x2028.0\n",
      "2020-06-06 11:51:30,267 INFO:\tSQUAREOFF:LONG\n",
      "TRADE: B: EN:  : 2019-04-01 14:06 : TCS -> 2025.45\n",
      "2020-06-06 11:51:30,504 DEBUG:\tPlace Order: 2025.45,0.0,0,12.000000000005002\n",
      "2020-06-06 11:51:30,529 DEBUG:\torder_handler(backtest_uni): {\"cmd\": \"buy\", \"symbol\": \"TCS\", \"price\": 2025.45, \"qty\": 10.0}\n",
      "2020-06-06 11:51:30,620 INFO:\tPlaceorder(full):buy: TCS: 10x2025.45\n",
      "2020-06-06 11:51:30,658 INFO:\tPO:LONG\n",
      "TRADE: S: EX:  : 2019-04-01 14:07 : TCS -> 2026.95\n",
      "2020-06-06 11:51:30,924 DEBUG:\tPlace Order: 2026.95,2025.45,0,12.000000000005002\n",
      "2020-06-06 11:51:30,933 DEBUG:\torder_handler(backtest_uni): {\"cmd\": \"sell\", \"symbol\": \"TCS\", \"price\": 2026.95, \"qty\": 10.0}\n",
      "2020-06-06 11:51:30,958 INFO:\tPlaceorder(full):sell: TCS: 10x2026.95\n",
      "2020-06-06 11:51:30,972 INFO:\tSQUAREOFF:LONG\n",
      "TRADE: S: EN:  : 2019-04-01 14:07 : WIPRO -> 262.55\n",
      "2020-06-06 11:51:31,076 DEBUG:\tPlace Order: 262.55,0.0,0,20.999999999998522\n",
      "2020-06-06 11:51:31,086 DEBUG:\torder_handler(backtest_uni): {\"cmd\": \"sell\", \"symbol\": \"WIPRO\", \"price\": 262.55, \"qty\": 10.0}\n",
      "2020-06-06 11:51:31,111 INFO:\tPlaceorder(full):sell: WIPRO: 10x262.55\n",
      "2020-06-06 11:51:31,130 INFO:\tPO:SHORT\n",
      "TRADE: B: EN:  : 2019-04-01 14:09 : TCS -> 2027.35\n",
      "2020-06-06 11:51:31,626 DEBUG:\tPlace Order: 2027.35,0.0,0,27.000000000005002\n",
      "2020-06-06 11:51:31,651 DEBUG:\torder_handler(backtest_uni): {\"cmd\": \"buy\", \"symbol\": \"TCS\", \"price\": 2027.35, \"qty\": 10.0}\n",
      "2020-06-06 11:51:31,703 INFO:\tPlaceorder(full):buy: TCS: 10x2027.35\n",
      "2020-06-06 11:51:31,722 INFO:\tPO:LONG\n",
      "TRADE: S: EX:  : 2019-04-01 14:13 : TCS -> 2026.0\n",
      "2020-06-06 11:51:32,531 DEBUG:\tPlace Order: 2026.0,2027.35,0,27.000000000005002\n",
      "2020-06-06 11:51:32,556 DEBUG:\torder_handler(backtest_uni): {\"cmd\": \"sell\", \"symbol\": \"TCS\", \"price\": 2026.0, \"qty\": 10.0}\n",
      "2020-06-06 11:51:32,648 INFO:\tPlaceorder(full):sell: TCS: 10x2026.0\n",
      "2020-06-06 11:51:32,703 INFO:\tSQUAREOFF:LONG\n",
      "TRADE: B: EN:  : 2019-04-01 14:15 : TCS -> 2026.35\n",
      "2020-06-06 11:51:33,156 DEBUG:\tPlace Order: 2026.35,0.0,0,13.500000000005912\n",
      "2020-06-06 11:51:33,188 DEBUG:\torder_handler(backtest_uni): {\"cmd\": \"buy\", \"symbol\": \"TCS\", \"price\": 2026.35, \"qty\": 10.0}\n",
      "2020-06-06 11:51:33,286 INFO:\tPlaceorder(full):buy: TCS: 10x2026.35\n",
      "2020-06-06 11:51:33,303 INFO:\tPO:LONG\n",
      "TRADE: S: EX:  : 2019-04-01 14:21 : TCS -> 2029.2\n",
      "2020-06-06 11:51:34,640 DEBUG:\tPlace Order: 2029.2,2026.35,0,13.500000000005912\n",
      "2020-06-06 11:51:34,680 DEBUG:\torder_handler(backtest_uni): {\"cmd\": \"sell\", \"symbol\": \"TCS\", \"price\": 2029.2, \"qty\": 10.0}\n",
      "2020-06-06 11:51:34,710 INFO:\tPlaceorder(full):sell: TCS: 10x2029.2\n",
      "2020-06-06 11:51:34,749 INFO:\tSQUAREOFF:LONG\n",
      "TRADE: B: EX:  : 2019-04-01 14:21 : WIPRO -> 262.45\n",
      "2020-06-06 11:51:34,871 DEBUG:\tPlace Order: 262.45,262.55,0,20.999999999998522\n",
      "2020-06-06 11:51:34,888 DEBUG:\torder_handler(backtest_uni): {\"cmd\": \"buy\", \"symbol\": \"WIPRO\", \"price\": 262.45, \"qty\": 10.0}\n",
      "2020-06-06 11:51:34,945 INFO:\tPlaceorder(full):buy: WIPRO: 10x262.45\n",
      "2020-06-06 11:51:34,991 INFO:\tSQUAREOFF:SHORT\n",
      "TRADE: B: EN:  : 2019-04-01 14:22 : TCS -> 2027.95\n",
      "2020-06-06 11:51:35,110 DEBUG:\tPlace Order: 2027.95,0.0,0,42.000000000007276\n",
      "2020-06-06 11:51:35,148 DEBUG:\torder_handler(backtest_uni): {\"cmd\": \"buy\", \"symbol\": \"TCS\", \"price\": 2027.95, \"qty\": 10.0}\n",
      "2020-06-06 11:51:35,192 INFO:\tPlaceorder(full):buy: TCS: 10x2027.95\n",
      "2020-06-06 11:51:35,237 INFO:\tPO:LONG\n",
      "TRADE: S: EX:  : 2019-04-01 14:24 : TCS -> 2027.0\n",
      "2020-06-06 11:51:35,779 DEBUG:\tPlace Order: 2027.0,2027.95,0,42.000000000007276\n",
      "2020-06-06 11:51:35,809 DEBUG:\torder_handler(backtest_uni): {\"cmd\": \"sell\", \"symbol\": \"TCS\", \"price\": 2027.0, \"qty\": 10.0}\n",
      "2020-06-06 11:51:35,903 INFO:\tPlaceorder(full):sell: TCS: 10x2027.0\n",
      "2020-06-06 11:51:35,919 INFO:\tSQUAREOFF:LONG\n",
      "TRADE: B: EN:  : 2019-04-01 14:26 : TCS -> 2030.5\n",
      "2020-06-06 11:51:36,357 DEBUG:\tPlace Order: 2030.5,0.0,0,32.50000000000682\n",
      "2020-06-06 11:51:36,378 DEBUG:\torder_handler(backtest_uni): {\"cmd\": \"buy\", \"symbol\": \"TCS\", \"price\": 2030.5, \"qty\": 10.0}\n",
      "2020-06-06 11:51:36,474 INFO:\tPlaceorder(full):buy: TCS: 10x2030.5\n",
      "2020-06-06 11:51:36,488 INFO:\tPO:LONG\n",
      "TRADE: S: EN:  : 2019-04-01 14:26 : WIPRO -> 262.65\n",
      "2020-06-06 11:51:36,596 DEBUG:\tPlace Order: 262.65,0.0,0,21.99999999999875\n",
      "2020-06-06 11:51:36,625 DEBUG:\torder_handler(backtest_uni): {\"cmd\": \"sell\", \"symbol\": \"WIPRO\", \"price\": 262.65, \"qty\": 10.0}\n",
      "2020-06-06 11:51:36,663 INFO:\tPlaceorder(full):sell: WIPRO: 10x262.65\n",
      "2020-06-06 11:51:36,712 INFO:\tPO:SHORT\n",
      "TRADE: B: EX:  : 2019-04-01 14:27 : WIPRO -> 262.65\n",
      "2020-06-06 11:51:36,915 DEBUG:\tPlace Order: 262.65,262.65,0,21.99999999999875\n",
      "2020-06-06 11:51:36,941 DEBUG:\torder_handler(backtest_uni): {\"cmd\": \"buy\", \"symbol\": \"WIPRO\", \"price\": 262.65, \"qty\": 10.0}\n",
      "2020-06-06 11:51:37,045 INFO:\tPlaceorder(full):buy: WIPRO: 10x262.65\n",
      "2020-06-06 11:51:37,067 INFO:\tSQUAREOFF:SHORT\n",
      "TRADE: S: EN:  : 2019-04-01 14:28 : WIPRO -> 262.55\n",
      "2020-06-06 11:51:37,363 DEBUG:\tPlace Order: 262.55,0.0,0,21.99999999999875\n",
      "2020-06-06 11:51:37,383 DEBUG:\torder_handler(backtest_uni): {\"cmd\": \"sell\", \"symbol\": \"WIPRO\", \"price\": 262.55, \"qty\": 10.0}\n",
      "2020-06-06 11:51:37,442 INFO:\tPlaceorder(full):sell: WIPRO: 10x262.55\n",
      "2020-06-06 11:51:37,468 INFO:\tPO:SHORT\n",
      "TRADE: S: EX:  : 2019-04-01 14:29 : TCS -> 2028.3\n",
      "2020-06-06 11:51:37,580 DEBUG:\tPlace Order: 2028.3,2030.5,0,32.50000000000682\n",
      "2020-06-06 11:51:37,607 DEBUG:\torder_handler(backtest_uni): {\"cmd\": \"sell\", \"symbol\": \"TCS\", \"price\": 2028.3, \"qty\": 10.0}\n",
      "2020-06-06 11:51:37,671 INFO:\tPlaceorder(full):sell: TCS: 10x2028.3\n",
      "2020-06-06 11:51:37,698 INFO:\tSQUAREOFF:LONG\n",
      "TRADE: B: EN:  : 2019-04-01 14:31 : TCS -> 2028.95\n",
      "2020-06-06 11:51:38,065 DEBUG:\tPlace Order: 2028.95,0.0,0,10.500000000006366\n",
      "2020-06-06 11:51:38,103 DEBUG:\torder_handler(backtest_uni): {\"cmd\": \"buy\", \"symbol\": \"TCS\", \"price\": 2028.95, \"qty\": 10.0}\n",
      "2020-06-06 11:51:38,210 INFO:\tPlaceorder(full):buy: TCS: 10x2028.95\n",
      "2020-06-06 11:51:38,249 INFO:\tPO:LONG\n",
      "TRADE: B: EX:  : 2019-04-01 14:32 : WIPRO -> 262.9\n",
      "2020-06-06 11:51:38,552 DEBUG:\tPlace Order: 262.9,262.55,0,21.99999999999875\n",
      "2020-06-06 11:51:38,570 DEBUG:\torder_handler(backtest_uni): {\"cmd\": \"buy\", \"symbol\": \"WIPRO\", \"price\": 262.9, \"qty\": 10.0}\n",
      "2020-06-06 11:51:38,678 INFO:\tPlaceorder(full):buy: WIPRO: 10x262.9\n",
      "2020-06-06 11:51:38,741 INFO:\tSQUAREOFF:SHORT\n",
      "TRADE: S: EX:  : 2019-04-01 14:33 : TCS -> 2028.85\n",
      "2020-06-06 11:51:38,868 DEBUG:\tPlace Order: 2028.85,2028.95,0,10.500000000006366\n",
      "2020-06-06 11:51:38,903 DEBUG:\torder_handler(backtest_uni): {\"cmd\": \"sell\", \"symbol\": \"TCS\", \"price\": 2028.85, \"qty\": 10.0}\n",
      "2020-06-06 11:51:38,993 INFO:\tPlaceorder(full):sell: TCS: 10x2028.85\n",
      "2020-06-06 11:51:39,006 INFO:\tSQUAREOFF:LONG\n",
      "TRADE: B: EN:  : 2019-04-01 14:34 : TCS -> 2031.0\n",
      "2020-06-06 11:51:39,281 DEBUG:\tPlace Order: 2031.0,0.0,0,9.500000000005002\n",
      "2020-06-06 11:51:39,309 DEBUG:\torder_handler(backtest_uni): {\"cmd\": \"buy\", \"symbol\": \"TCS\", \"price\": 2031.0, \"qty\": 10.0}\n",
      "2020-06-06 11:51:39,347 INFO:\tPlaceorder(full):buy: TCS: 10x2031.0\n",
      "2020-06-06 11:51:39,378 INFO:\tPO:LONG\n",
      "TRADE: S: EN:  : 2019-04-01 14:36 : WIPRO -> 263.2\n",
      "2020-06-06 11:51:39,998 DEBUG:\tPlace Order: 263.2,0.0,0,18.49999999999909\n",
      "2020-06-06 11:51:40,024 DEBUG:\torder_handler(backtest_uni): {\"cmd\": \"sell\", \"symbol\": \"WIPRO\", \"price\": 263.2, \"qty\": 10.0}\n",
      "2020-06-06 11:51:40,048 INFO:\tPlaceorder(full):sell: WIPRO: 10x263.2\n",
      "2020-06-06 11:51:40,078 INFO:\tPO:SHORT\n",
      "TRADE: S: EX:  : 2019-04-01 14:41 : TCS -> 2034.1\n",
      "2020-06-06 11:51:40,928 DEBUG:\tPlace Order: 2034.1,2031.0,0,9.500000000005002\n",
      "2020-06-06 11:51:40,944 DEBUG:\torder_handler(backtest_uni): {\"cmd\": \"sell\", \"symbol\": \"TCS\", \"price\": 2034.1, \"qty\": 10.0}\n",
      "2020-06-06 11:51:40,990 INFO:\tPlaceorder(full):sell: TCS: 10x2034.1\n"
     ]
    },
    {
     "name": "stderr",
     "output_type": "stream",
     "text": [
      "2020-06-06 11:51:40,997 INFO:\tSQUAREOFF:LONG\n",
      "TRADE: B: EN:  : 2019-04-01 14:43 : TCS -> 2035.4\n",
      "2020-06-06 11:51:41,501 DEBUG:\tPlace Order: 2035.4,0.0,0,40.50000000000409\n",
      "2020-06-06 11:51:41,529 DEBUG:\torder_handler(backtest_uni): {\"cmd\": \"buy\", \"symbol\": \"TCS\", \"price\": 2035.4, \"qty\": 10.0}\n",
      "2020-06-06 11:51:41,563 INFO:\tPlaceorder(full):buy: TCS: 10x2035.4\n",
      "2020-06-06 11:51:41,639 INFO:\tPO:LONG\n",
      "TRADE: S: EX:  : 2019-04-01 14:45 : TCS -> 2036.5\n",
      "2020-06-06 11:51:42,019 DEBUG:\tPlace Order: 2036.5,2035.4,0,40.50000000000409\n",
      "2020-06-06 11:51:42,041 DEBUG:\torder_handler(backtest_uni): {\"cmd\": \"sell\", \"symbol\": \"TCS\", \"price\": 2036.5, \"qty\": 10.0}\n",
      "2020-06-06 11:51:42,071 INFO:\tPlaceorder(full):sell: TCS: 10x2036.5\n",
      "2020-06-06 11:51:42,094 INFO:\tSQUAREOFF:LONG\n",
      "TRADE: B: EX:  : 2019-04-01 14:45 : WIPRO -> 263.25\n",
      "2020-06-06 11:51:42,225 DEBUG:\tPlace Order: 263.25,263.2,0,18.49999999999909\n",
      "2020-06-06 11:51:42,243 DEBUG:\torder_handler(backtest_uni): {\"cmd\": \"buy\", \"symbol\": \"WIPRO\", \"price\": 263.25, \"qty\": 10.0}\n",
      "2020-06-06 11:51:42,315 INFO:\tPlaceorder(full):buy: WIPRO: 10x263.25\n",
      "2020-06-06 11:51:42,331 INFO:\tSQUAREOFF:SHORT\n",
      "TRADE: B: EN:  : 2019-04-01 14:46 : TCS -> 2039.0\n",
      "2020-06-06 11:51:42,448 DEBUG:\tPlace Order: 2039.0,0.0,0,51.50000000000318\n",
      "2020-06-06 11:51:42,466 DEBUG:\torder_handler(backtest_uni): {\"cmd\": \"buy\", \"symbol\": \"TCS\", \"price\": 2039.0, \"qty\": 10.0}\n",
      "2020-06-06 11:51:42,493 INFO:\tPlaceorder(full):buy: TCS: 10x2039.0\n",
      "2020-06-06 11:51:42,544 INFO:\tPO:LONG\n",
      "TRADE: S: EX:  : 2019-04-01 14:49 : TCS -> 2037.15\n",
      "2020-06-06 11:51:43,163 DEBUG:\tPlace Order: 2037.15,2039.0,0,51.50000000000318\n",
      "2020-06-06 11:51:43,180 DEBUG:\torder_handler(backtest_uni): {\"cmd\": \"sell\", \"symbol\": \"TCS\", \"price\": 2037.15, \"qty\": 10.0}\n",
      "2020-06-06 11:51:43,200 INFO:\tPlaceorder(full):sell: TCS: 10x2037.15\n",
      "2020-06-06 11:51:43,221 INFO:\tSQUAREOFF:LONG\n",
      "TRADE: S: EN:  : 2019-04-01 14:49 : WIPRO -> 263.35\n",
      "2020-06-06 11:51:43,360 DEBUG:\tPlace Order: 263.35,0.0,0,17.999999999998977\n",
      "2020-06-06 11:51:43,388 DEBUG:\torder_handler(backtest_uni): {\"cmd\": \"sell\", \"symbol\": \"WIPRO\", \"price\": 263.35, \"qty\": 10.0}\n",
      "2020-06-06 11:51:43,450 INFO:\tPlaceorder(full):sell: WIPRO: 10x263.35\n",
      "2020-06-06 11:51:43,464 INFO:\tPO:SHORT\n",
      "TRADE: B: EX:  : 2019-04-01 14:53 : WIPRO -> 263.25\n",
      "2020-06-06 11:51:44,524 DEBUG:\tPlace Order: 263.25,263.35,0,17.999999999998977\n",
      "2020-06-06 11:51:44,543 DEBUG:\torder_handler(backtest_uni): {\"cmd\": \"buy\", \"symbol\": \"WIPRO\", \"price\": 263.25, \"qty\": 10.0}\n",
      "2020-06-06 11:51:44,638 INFO:\tPlaceorder(full):buy: WIPRO: 10x263.25\n",
      "2020-06-06 11:51:44,646 INFO:\tSQUAREOFF:SHORT\n",
      "2020-06-06 11:51:54,926 INFO:\tKite_Simulator: Done: 1500\n"
     ]
    }
   ],
   "source": [
    "######################\n",
    "# Initiate Backtest  #\n",
    "######################\n",
    "def store_algo(algo, algo_name=\"default\"):\n",
    "    redis_conn.hset(\"algos\",algo_name, algo)\n",
    "    algo_f = open(\"algo/\"+algo_name+\".txt\", \"w\")\n",
    "    algo_f.write(algo)\n",
    "    algo_f.close()\n",
    "\n",
    "def load_algo_to_redis(filename):\n",
    "    algo = open('algo/'+filename+'.txt')\n",
    "    algo_str = algo.read()\n",
    "    my_cache.hset('algos', filename,algo_str)\n",
    "    \n",
    "#my_cache.flushall()\n",
    "def backtest_unitest(stocks, freq='1T',algo_name = 'haikin_1_new', fromDate='2019-4-1', toDate='2019-4-2', mode='full'):\n",
    "    stocks = stocks\n",
    "    sl = 1\n",
    "    target = 1\n",
    "    qty = 10\n",
    "    backtest_msg={'stock':stocks,'sl':sl,'target':target,'qty':qty,'algo':algo_name,'fromDate':fromDate,'toDate':toDate,'freq':freq, 'mode':mode}\n",
    "    \n",
    "    load_algo_to_redis(algo_name)\n",
    "    \n",
    "    # Step 4: Done is set to 0: Backtest is in progress, will be resetted by backtest job\n",
    "    redis_conn.set('done'+cache_type,0)\n",
    "    # Step 5: Send the msg to backtest thread to initiate the back test\n",
    "    #pdebug(json.dumps(backtest_msg))\n",
    "    redis_conn.publish('kite_simulator'+cache_type,json.dumps(backtest_msg))\n",
    "    \n",
    "##########################\n",
    "# Unit Test              #\n",
    "##########################\n",
    "\n",
    "open('log/freedom.log','r+')\n",
    "#log_file.close()\n",
    "\n",
    "logger.setLevel(10)\n",
    "loggerT.setLevel(21)\n",
    "my_cache.set('done'+cache_type,1)\n",
    "my_cache.xtrim('msgBufferQueue'+cache_type,0,False)\n",
    "my_cache.set('last_id_msg'+cache_type, 0)\n",
    "\n",
    "\n",
    "try:\n",
    "    if backtest_manager.job.is_alive():\n",
    "        backtest_manager.job.terminate()\n",
    "        time.sleep(0.1)\n",
    "except:\n",
    "    pass\n",
    "finally:\n",
    "    backtest_manager = threadManager(cache_type, [\"kite_simulator\",\"ohlc_tick_handler\",\"order_handler\"], [kite_simulator, ohlc_tick_handler, order_handler])\n",
    "\n",
    "#redis_conn.publish('ohlc_tick_handler'+cache_type,'start')\n",
    "print(backtest_manager.job.is_alive())\n",
    "print(redis_conn.pubsub_channels())\n",
    "print(jobs)\n"
   ]
  },
  {
   "cell_type": "code",
   "execution_count": 10,
   "metadata": {
    "scrolled": true
   },
   "outputs": [],
   "source": [
    "backtest_unitest(['TCS','WIPRO'], algo_name='haikin_1_new')"
   ]
  },
  {
   "cell_type": "code",
   "execution_count": 27,
   "metadata": {},
   "outputs": [
    {
     "data": {
      "text/plain": [
       "'01:04:19 09:16'"
      ]
     },
     "execution_count": 27,
     "metadata": {},
     "output_type": "execute_result"
    }
   ],
   "source": [
    "my_cache.getOHLC('WIPRO').index[1].strftime('%d:%m:%y %H:%M')"
   ]
  },
  {
   "cell_type": "code",
   "execution_count": null,
   "metadata": {},
   "outputs": [],
   "source": []
  },
  {
   "cell_type": "code",
   "execution_count": 8,
   "metadata": {},
   "outputs": [
    {
     "name": "stderr",
     "output_type": "stream",
     "text": [
      "2020-06-06 11:49:53,280 INFO:\tbacktest_uni\n"
     ]
    },
    {
     "name": "stdout",
     "output_type": "stream",
     "text": [
      "False\n",
      "['order_handlerbacktest_web', 'ohlc_tick_handlerbacktest_web', 'kite_simulatorbacktest_web', 'kite_ticker_handlerlive', 'ohlc_tick_handlerlive', 'order_notification_handlerlive', 'order_handlerlive']\n"
     ]
    }
   ],
   "source": [
    "################################\n",
    "###         Stop Trade       ###\n",
    "################################\n",
    "pinfo(cache_type)\n",
    "my_cache.xtrim('msgBufferQueue'+cache_type,0,False)\n",
    "my_cache.delete('msgBufferQueue'+cache_type)\n",
    "my_cache.set('TCSbacktest_uniTICK',pd.DataFrame().to_json())\n",
    "\n",
    "if backtest_manager.job.is_alive():\n",
    "    backtest_manager.job.terminate()\n",
    "time.sleep(1)\n",
    "print(backtest_manager.job.is_alive())\n",
    "print(redis_conn.pubsub_channels())\n",
    "my_cache.set('last_id_msg',0)\n",
    "jobs\n",
    "jobs = []"
   ]
  },
  {
   "cell_type": "code",
   "execution_count": null,
   "metadata": {},
   "outputs": [],
   "source": []
  },
  {
   "cell_type": "code",
   "execution_count": 24,
   "metadata": {},
   "outputs": [
    {
     "data": {
      "text/plain": [
       "1"
      ]
     },
     "execution_count": 24,
     "metadata": {},
     "output_type": "execute_result"
    }
   ],
   "source": [
    "my_cache.publish('kite_simulatorbacktest_web','stop')"
   ]
  },
  {
   "cell_type": "code",
   "execution_count": 3,
   "metadata": {},
   "outputs": [
    {
     "data": {
      "text/plain": [
       "['kite_simulatorbacktest_web',\n",
       " 'order_handlerlive',\n",
       " 'order_handlerbacktest_web',\n",
       " 'order_notification_handlerlive',\n",
       " 'ohlc_tick_handlerbacktest_web']"
      ]
     },
     "execution_count": 3,
     "metadata": {},
     "output_type": "execute_result"
    }
   ],
   "source": [
    "my_cache.pubsub_channels()"
   ]
  },
  {
   "cell_type": "code",
   "execution_count": null,
   "metadata": {},
   "outputs": [],
   "source": [
    "backtest_unitest(['TCS'])"
   ]
  },
  {
   "cell_type": "code",
   "execution_count": null,
   "metadata": {},
   "outputs": [],
   "source": [
    "backtest_unitest(['WIPRO','TCS'])"
   ]
  },
  {
   "cell_type": "code",
   "execution_count": null,
   "metadata": {},
   "outputs": [],
   "source": [
    "from lib.charting_lib import *\n",
    "cache_type = 'backtest_uni'\n",
    "chart_type ='haikin'\n",
    "\n",
    "symbol='WIPRO'\n",
    "my_cache = cache_state(cache_type)\n",
    "\n",
    "#######  Hack for freq  ############\n",
    "my_cache.setValue('TCS','freq','1T')\n",
    "#####################################\n",
    "dfohlc = my_cache.getOHLC(symbol)\n",
    "print(dfohlc.tail())\n",
    "trade_df = pd.read_json(redis_conn.get(symbol+cache_type+'Trade'), orient='columns')\n",
    "\n",
    "render_charts(dfohlc, trade_df, symbol, chart_type)"
   ]
  },
  {
   "cell_type": "code",
   "execution_count": null,
   "metadata": {},
   "outputs": [],
   "source": [
    "cache_state('backtest_uni').getValue()"
   ]
  },
  {
   "cell_type": "markdown",
   "metadata": {},
   "source": [
    "## Live Trade Debugging"
   ]
  },
  {
   "cell_type": "code",
   "execution_count": null,
   "metadata": {
    "scrolled": true
   },
   "outputs": [],
   "source": [
    "live = threadManager('live', [\"ohlc_tick_handler\"], [ohlc_tick_handler])\n"
   ]
  },
  {
   "cell_type": "code",
   "execution_count": null,
   "metadata": {},
   "outputs": [],
   "source": [
    "live_cache.setValue('WIPRO','mode','paper')"
   ]
  },
  {
   "cell_type": "code",
   "execution_count": null,
   "metadata": {},
   "outputs": [],
   "source": [
    "live.job.terminate()\n",
    "live_cache.set('WIPROliveTICK', pd.DataFrame().to_json(orient='columns'))\n",
    "live_cache.setValue('WIPRO','last_processed',0)\n",
    "live_cache.getValue('WIPRO')"
   ]
  },
  {
   "cell_type": "code",
   "execution_count": null,
   "metadata": {},
   "outputs": [],
   "source": [
    "#live_cache.getOHLC('WIPRO') \n",
    "print(live_cache.xrange('msgBufferQueuelive')[-2:])\n",
    "print(datetime.fromtimestamp(int(live_cache.xrange('msgBufferQueuelive')[-1][0].split('-')[0] )/1000))\n"
   ]
  },
  {
   "cell_type": "code",
   "execution_count": null,
   "metadata": {},
   "outputs": [],
   "source": [
    "live_cache.getOHLC('WIPRO').tail()"
   ]
  },
  {
   "cell_type": "code",
   "execution_count": null,
   "metadata": {},
   "outputs": [],
   "source": [
    "my_cache.getOHLC('TCS')"
   ]
  },
  {
   "cell_type": "markdown",
   "metadata": {},
   "source": [
    "## Quick Backtest"
   ]
  },
  {
   "cell_type": "code",
   "execution_count": null,
   "metadata": {
    "scrolled": false
   },
   "outputs": [],
   "source": [
    "###########################################################\n",
    "###                  Quick Backtest                     ###\n",
    "###########################################################\n",
    "from talib import MACD, MACDEXT, RSI, BBANDS, MACD, AROON, STOCHF, ATR, OBV, ADOSC, MINUS_DI, PLUS_DI, ADX, EMA, SMA\n",
    "from talib import LINEARREG, BETA, LINEARREG_INTERCEPT, LINEARREG_SLOPE, STDDEV, TSF, ADOSC, VAR, ROC, MIN, MAX, MINMAX\n",
    "\n",
    "ohlc_get = lambda df, key: df.iloc[-1][key]\n",
    "def HAIKINASI(ohlc_data_df):\n",
    "    REF = lambda key, i: ohlc_get(ohlc_data_df.shift(i), key)\n",
    "    \n",
    "    OPEN  = ohlc_data_df['open']\n",
    "    HIGH  = ohlc_data_df['high']\n",
    "    LOW   = ohlc_data_df['low']\n",
    "    CLOSE = ohlc_data_df['close']\n",
    "    \n",
    "    haOPEN  = (OPEN.shift(1) + CLOSE.shift(1))/2\n",
    "    haHIGH  = pd.DataFrame([HIGH,OPEN,CLOSE]).max(axis = 0, skipna = True)\n",
    "    haLOW   = pd.DataFrame([LOW,OPEN,CLOSE]).min(axis = 0, skipna = True)\n",
    "    haCLOSE = (OPEN+HIGH+LOW+CLOSE)/4\n",
    "    \n",
    "    return (haOPEN, haHIGH, haLOW, haCLOSE)\n",
    "\n",
    "\n",
    "################ Load Data ###################\n",
    "from lib.charting_lib import *\n",
    "cache_type = 'backtest_uni'\n",
    "symbol='TCS'\n",
    "my_cache = cache_state(cache_type)\n",
    "\n",
    "###  Set Freq for Algo\n",
    "my_cache.setValue('TCS','freq','1T')\n",
    "dfohlc = my_cache.getOHLC(symbol)\n",
    "#print(dfohlc.head())\n",
    "\n",
    "### Load Data\n",
    "ohlc_data_temp = dfohlc\n",
    "pd.set_option('display.max_rows', None)\n",
    "################ Initialize Helper Functions ###################\n",
    "trade_df1 = pd.DataFrame()\n",
    "OPEN = ohlc_data_temp['open']\n",
    "CLOSE = ohlc_data_temp['close']\n",
    "HIGH = ohlc_data_temp['high']\n",
    "LOW = ohlc_data_temp['low']\n",
    "#VOLUME = ohlc_data_temp['volume']\n",
    "\n",
    "(haOPEN, haHIGH, haLOW, haCLOSE) = HAIKINASI(ohlc_data_temp)\n",
    "\n",
    "TIME = ohlc_data_temp.index.minute+ohlc_data_temp.index.hour*60\n",
    "\n",
    "#REF = lambda df, i: df.iloc[-i-1]\n",
    "REF = lambda df, i: df.shift(i)\n",
    "TREND_UP = lambda a,b: ROC(a, b) >= 0.1\n",
    "TREND_DOWN = lambda a,b: ROC(a, b) <= -0.1\n",
    "CROSSOVER = lambda a, b: (REF(a,1)<=REF(b,1)) & (a > b)\n",
    "\n",
    "\n",
    "def BUY(CLOSE, x, trade_df1):\n",
    "    #global trade_df1\n",
    "    tmp_df = pd.DataFrame()\n",
    "    tmp_df[\"buy\"] = CLOSE[x]\n",
    "    trade_df1 = trade_df1.append(tmp_df)\n",
    "    return trade_df1\n",
    "\n",
    "def SELL(CLOSE, x, trade_df1):\n",
    "    #global trade_df1\n",
    "    tmp_df = pd.DataFrame()\n",
    "    tmp_df[\"sell\"] = CLOSE[x]\n",
    "    trade_df1 = trade_df1.append(tmp_df)\n",
    "    return trade_df1\n",
    "    \n",
    "################# Write Algo For Backtest Here ###################\n",
    "\n",
    "roc = ROC(CLOSE, 10)\n",
    "bbh, bbm, bbl = BBANDS(CLOSE)\n",
    "\n",
    "delbb = bbh - bbl\n",
    "\n",
    "#sell = (REF(roc,0) > 0.1) & (REF(haOPEN, 0) > REF(haCLOSE,0)) & (REF(haOPEN, 1) < REF(haCLOSE,1))\n",
    "#buy = (REF(roc,0) < -0.1) & (REF(haOPEN, 0) < REF(haCLOSE,0)) & (REF(haOPEN, 1) > REF(haCLOSE,1))\n",
    "buy = delbb > 2.1 * REF(delbb, 3)\n",
    "sell = delbb < 0.4 * REF(delbb, 3)\n",
    "\n",
    "logic = buy | sell\n",
    "\n",
    "summary_df = trade_df1.copy(deep=True)\n",
    "#summary_df['haopen'] = haOPEN[ logic ]\n",
    "#summary_df['haclose'] = haCLOSE[ logic ]\n",
    "summary_df['roc'] = ROC(CLOSE, 30)[logic]\n",
    "\n",
    "#print(summary_df.sort_index())\n",
    "#print(summary_df.sort_index().tail(10))\n",
    "#print(ROC(CLOSE,3))\n",
    "#################### Render Charts ###############################\n",
    "\n",
    "trade_df1 = SELL(CLOSE, sell, trade_df1)\n",
    "trade_df1 = BUY(CLOSE, buy, trade_df1)\n",
    "\n",
    "#print(trade_df1.sort_index())\n",
    "my_cache.setCache(symbol+cache_type+'Trade',trade_df1)\n",
    "#my_cache.pushTrade(symbol, trade_df1)\n",
    "\n",
    "chart_type ='haikin'\n",
    "trade_df = pd.read_json(redis_conn.get(symbol+cache_type+'Trade'), orient='columns')\n",
    "\n",
    "\n",
    "render_charts(ohlc_data_temp, trade_df, symbol, chart_type)"
   ]
  },
  {
   "cell_type": "code",
   "execution_count": null,
   "metadata": {
    "scrolled": false
   },
   "outputs": [],
   "source": [
    "\n",
    "state = 'WAIT'\n",
    "profit = 0\n",
    "for index, row in trade_df.sort_index().fillna(0).iterrows():\n",
    "    if state == 'WAIT':\n",
    "        if row['sell']!=0:\n",
    "            #print(\"S: ->: {}\".format(row['sell']))\n",
    "            state = 'SELL'\n",
    "            profit = profit + row['sell']\n",
    "        elif row['buy']!=0:\n",
    "            #print(\"B: ->: {}\".format(row['buy']))\n",
    "            state = 'BUY'\n",
    "            profit = profit - row['buy']\n",
    "    elif state == 'BUY':\n",
    "        if row['sell']!=0:\n",
    "            #print(\"S: <-: {}\".format(row['sell']))\n",
    "            state = 'WAIT'\n",
    "            profit = profit + row['sell']\n",
    "    elif state == 'SELL':\n",
    "        if row['buy']!=0:\n",
    "            #print(\"B: <-: {}\".format(row['buy']))\n",
    "            state = 'WAIT'\n",
    "            profit = profit - row['buy']\n",
    "    \n",
    "if state == 'BUY':\n",
    "    profit = profit + row['buy']\n",
    "elif state == 'SELL':\n",
    "    profit = profit - row['sell']\n",
    "    \n",
    "print(\"Total Profit: {}\".format(profit))"
   ]
  },
  {
   "cell_type": "code",
   "execution_count": null,
   "metadata": {},
   "outputs": [],
   "source": [
    "bbh, bbm, bbl = BBANDS(CLOSE)\n",
    "\n",
    "print(pd.DataFrame(data={'bbl':bbl, 'bbm':bbm, 'bbh':bbh, 'del':(bbh-bbl)/bbl*100}))"
   ]
  },
  {
   "cell_type": "code",
   "execution_count": null,
   "metadata": {},
   "outputs": [],
   "source": [
    "(bbh-bbl)/STDDEV(CLOSE)"
   ]
  },
  {
   "cell_type": "code",
   "execution_count": null,
   "metadata": {},
   "outputs": [],
   "source": [
    "cache_type = 'backtest_web'\n",
    "symbol='TCS'\n",
    "my_cache = cache_state(cache_type)\n",
    "my_cache.getTrades(symbol)\n",
    "\n",
    "my_cache.get('TCSbacktest_webTrades')"
   ]
  },
  {
   "cell_type": "code",
   "execution_count": null,
   "metadata": {},
   "outputs": [],
   "source": [
    "my_cache.getValue()"
   ]
  },
  {
   "cell_type": "code",
   "execution_count": null,
   "metadata": {
    "scrolled": false
   },
   "outputs": [],
   "source": [
    "temp_file = pd.HDFStore(\"data/kite_cache.h5\", mode=\"r\")\n",
    "temp_file.keys()"
   ]
  },
  {
   "cell_type": "code",
   "execution_count": null,
   "metadata": {},
   "outputs": [],
   "source": []
  },
  {
   "cell_type": "markdown",
   "metadata": {},
   "source": [
    "## Redis Console"
   ]
  },
  {
   "cell_type": "code",
   "execution_count": 28,
   "metadata": {
    "scrolled": true
   },
   "outputs": [],
   "source": [
    "from lib.multitasking_lib import *\n",
    "#from lib.data_model_lib import *\n",
    "import json\n",
    "web_cache = cache_state('backtest_web')\n",
    "live_cache = cache_state('live')\n",
    "uni_cache = cache_state('backtest_uni')\n",
    "\n",
    "pd.set_option('display.max_rows', None)"
   ]
  },
  {
   "cell_type": "code",
   "execution_count": 30,
   "metadata": {},
   "outputs": [
    {
     "data": {
      "text/plain": [
       "''"
      ]
     },
     "execution_count": 30,
     "metadata": {},
     "output_type": "execute_result"
    }
   ],
   "source": [
    "cache_postfix"
   ]
  },
  {
   "cell_type": "code",
   "execution_count": 47,
   "metadata": {},
   "outputs": [
    {
     "data": {
      "text/plain": [
       "'0'"
      ]
     },
     "execution_count": 47,
     "metadata": {},
     "output_type": "execute_result"
    }
   ],
   "source": [
    "web_cache.get('last_id_msgbacktest_web')"
   ]
  },
  {
   "cell_type": "code",
   "execution_count": null,
   "metadata": {},
   "outputs": [],
   "source": [
    "live_cache.hget('algos','breakout_1')"
   ]
  },
  {
   "cell_type": "code",
   "execution_count": null,
   "metadata": {},
   "outputs": [],
   "source": [
    "live_cache.pubsub_channels()"
   ]
  },
  {
   "cell_type": "code",
   "execution_count": null,
   "metadata": {},
   "outputs": [],
   "source": [
    "live_cache.xread({'notificationQueuelivenew':0}, block=2000, count=5000)"
   ]
  },
  {
   "cell_type": "code",
   "execution_count": 52,
   "metadata": {},
   "outputs": [
    {
     "data": {
      "text/plain": [
       "'1555991160.0'"
      ]
     },
     "execution_count": 52,
     "metadata": {},
     "output_type": "execute_result"
    }
   ],
   "source": [
    "str(web_cache.getOHLC('TCS').index[1].tz_localize(tz='Asia/Calcutta').timestamp())"
   ]
  },
  {
   "cell_type": "code",
   "execution_count": 54,
   "metadata": {},
   "outputs": [
    {
     "data": {
      "text/plain": [
       "'1556013540.0'"
      ]
     },
     "execution_count": 54,
     "metadata": {},
     "output_type": "execute_result"
    }
   ],
   "source": [
    "web_cache.getValue('WIPRO','last_processed')"
   ]
  },
  {
   "cell_type": "code",
   "execution_count": null,
   "metadata": {},
   "outputs": [],
   "source": [
    "live_cache.remove()"
   ]
  },
  {
   "cell_type": "code",
   "execution_count": null,
   "metadata": {},
   "outputs": [],
   "source": [
    "df = uni_cache.getValue()\n",
    "df"
   ]
  },
  {
   "cell_type": "code",
   "execution_count": null,
   "metadata": {
    "scrolled": true
   },
   "outputs": [],
   "source": [
    "live_cache.getOHLC('TCS')"
   ]
  },
  {
   "cell_type": "code",
   "execution_count": null,
   "metadata": {},
   "outputs": [],
   "source": [
    "trades_df = live_cache.getTrades('TCS')\n",
    "trades_df"
   ]
  },
  {
   "cell_type": "code",
   "execution_count": null,
   "metadata": {},
   "outputs": [],
   "source": [
    "(total_profit, max_loss, max_profit, total_win, total_loss, max_winning_streak, max_loosing_streak, trade_log_df) = trade_analysis_raw(trades_df)"
   ]
  },
  {
   "cell_type": "code",
   "execution_count": null,
   "metadata": {},
   "outputs": [],
   "source": [
    "import pandas as pd\n",
    "import plotly\n",
    "import plotly.graph_objs as go\n",
    "from datetime import datetime as dt\n",
    "from datetime import timedelta\n",
    "from plotly.subplots import make_subplots\n",
    "import plotly.graph_objects as go\n",
    "\n",
    "from lib.multitasking_lib import *\n",
    "from plotly.offline import download_plotlyjs, init_notebook_mode, plot, iplot"
   ]
  },
  {
   "cell_type": "markdown",
   "metadata": {},
   "source": [
    "### GetData"
   ]
  },
  {
   "cell_type": "code",
   "execution_count": null,
   "metadata": {},
   "outputs": [],
   "source": [
    "logger.setLevel(logging.DEBUG)\n",
    "stock = 'WIPRO'\n",
    "fromDate = '2019-4-22'\n",
    "toDate  = '2019-4-24'\n",
    "freq = 'minute'\n",
    "mydate = fromDate\n",
    "exchange = 'NSE'\n",
    "ohlc_data = {}\n",
    "ohlc_data[stock] = getData(stock, fromDate, toDate, exchange, freq, False, stock)"
   ]
  },
  {
   "cell_type": "code",
   "execution_count": null,
   "metadata": {},
   "outputs": [],
   "source": [
    "ohlc_data[stock].head()"
   ]
  },
  {
   "cell_type": "markdown",
   "metadata": {},
   "source": [
    "# Kite Connect"
   ]
  },
  {
   "cell_type": "code",
   "execution_count": 4,
   "metadata": {},
   "outputs": [
    {
     "name": "stdout",
     "output_type": "stream",
     "text": [
      "YJ0P1Qgy3fMwR3Yr42inEnM2z7pZzvPe\n",
      "b2w0sfnr1zr92nxm\n"
     ]
    }
   ],
   "source": [
    "from kiteconnect import KiteConnect\n",
    "kite_api_key = 'b2w0sfnr1zr92nxm'\n",
    "live_cache.set('KiteAPIKey',kite_api_key)\n",
    "access_token = live_cache.get('access_token')\n",
    "print(access_token)\n",
    "print(live_cache.get('KiteAPIKey'))\n",
    "\n",
    "kite = KiteConnect(api_key=kite_api_key)\n",
    "kite.set_access_token(access_token)"
   ]
  },
  {
   "cell_type": "code",
   "execution_count": 5,
   "metadata": {},
   "outputs": [
    {
     "data": {
      "text/plain": [
       "'YJ0P1Qgy3fMwR3Yr42inEnM2z7pZzvPe'"
      ]
     },
     "execution_count": 5,
     "metadata": {},
     "output_type": "execute_result"
    }
   ],
   "source": [
    "kite.access_token"
   ]
  },
  {
   "cell_type": "code",
   "execution_count": null,
   "metadata": {},
   "outputs": [],
   "source": []
  },
  {
   "cell_type": "code",
   "execution_count": 6,
   "metadata": {},
   "outputs": [
    {
     "data": {
      "text/plain": [
       "{'user_id': 'YM1755',\n",
       " 'user_type': 'individual',\n",
       " 'email': 'saswati.suhan@gmail.com',\n",
       " 'user_name': 'Saswati Saha',\n",
       " 'user_shortname': 'Saswati',\n",
       " 'broker': 'ZERODHA',\n",
       " 'exchanges': ['NSE', 'BSE', 'BFO', 'MF', 'NFO', 'MCX', 'CDS'],\n",
       " 'products': ['CNC', 'NRML', 'MIS', 'BO', 'CO'],\n",
       " 'order_types': ['MARKET', 'LIMIT', 'SL', 'SL-M'],\n",
       " 'avatar_url': '',\n",
       " 'meta': {'demat_consent': 'physical'}}"
      ]
     },
     "execution_count": 6,
     "metadata": {},
     "output_type": "execute_result"
    }
   ],
   "source": [
    "kite.profile()"
   ]
  },
  {
   "cell_type": "code",
   "execution_count": null,
   "metadata": {},
   "outputs": [],
   "source": [
    "cancel_order('CIPLA')"
   ]
  },
  {
   "cell_type": "code",
   "execution_count": null,
   "metadata": {
    "scrolled": true
   },
   "outputs": [],
   "source": [
    "orders_df = pd.DataFrame(kite.orders())\n",
    "orders_df[['order_id','status','tradingsymbol','transaction_type','quantity','tag','price']]"
   ]
  },
  {
   "cell_type": "code",
   "execution_count": null,
   "metadata": {},
   "outputs": [],
   "source": []
  },
  {
   "cell_type": "code",
   "execution_count": 7,
   "metadata": {},
   "outputs": [
    {
     "data": {
      "text/html": [
       "<div>\n",
       "<style scoped>\n",
       "    .dataframe tbody tr th:only-of-type {\n",
       "        vertical-align: middle;\n",
       "    }\n",
       "\n",
       "    .dataframe tbody tr th {\n",
       "        vertical-align: top;\n",
       "    }\n",
       "\n",
       "    .dataframe thead th {\n",
       "        text-align: right;\n",
       "    }\n",
       "</style>\n",
       "<table border=\"1\" class=\"dataframe\">\n",
       "  <thead>\n",
       "    <tr style=\"text-align: right;\">\n",
       "      <th></th>\n",
       "    </tr>\n",
       "  </thead>\n",
       "  <tbody>\n",
       "  </tbody>\n",
       "</table>\n",
       "</div>"
      ],
      "text/plain": [
       "Empty DataFrame\n",
       "Columns: []\n",
       "Index: []"
      ]
     },
     "execution_count": 7,
     "metadata": {},
     "output_type": "execute_result"
    }
   ],
   "source": [
    "live_cache.getValue()"
   ]
  },
  {
   "cell_type": "code",
   "execution_count": null,
   "metadata": {},
   "outputs": [],
   "source": [
    "position_df = pd.DataFrame(kite.positions()['net'])\n",
    "position_df"
   ]
  },
  {
   "cell_type": "code",
   "execution_count": null,
   "metadata": {},
   "outputs": [],
   "source": [
    "pd.DataFrame(kite.positions()['net']).columns"
   ]
  },
  {
   "cell_type": "code",
   "execution_count": null,
   "metadata": {},
   "outputs": [],
   "source": [
    "orders_df = pd.DataFrame()\n",
    "for msg in live_cache.xrange('notificationQueuelivenew'):\n",
    "    tmp_df = pd.DataFrame.from_dict(json.loads(msg[1]['data']), orient='index').transpose()\n",
    "    orders_df = orders_df.append(tmp_df)\n",
    "    #print(msg)\n",
    "orders_df[['order_id', 'status', 'tradingsymbol','order_type','transaction_type','quantity', 'average_price']]"
   ]
  },
  {
   "cell_type": "code",
   "execution_count": null,
   "metadata": {},
   "outputs": [],
   "source": []
  },
  {
   "cell_type": "code",
   "execution_count": null,
   "metadata": {},
   "outputs": [],
   "source": []
  },
  {
   "cell_type": "code",
   "execution_count": null,
   "metadata": {},
   "outputs": [],
   "source": [
    "orders_df.columns"
   ]
  },
  {
   "cell_type": "code",
   "execution_count": null,
   "metadata": {},
   "outputs": [],
   "source": [
    "live_cache.getValue().columns"
   ]
  },
  {
   "cell_type": "code",
   "execution_count": null,
   "metadata": {
    "scrolled": true
   },
   "outputs": [],
   "source": [
    "kite.margins()"
   ]
  },
  {
   "cell_type": "markdown",
   "metadata": {},
   "source": [
    "#### Starting Live Trade for a stock"
   ]
  },
  {
   "cell_type": "code",
   "execution_count": null,
   "metadata": {},
   "outputs": [],
   "source": [
    "symbol = 'INFY'\n",
    "live_cache.add(symbol)\n",
    "token = int(live_cache.hmget('eq_token',symbol)[0])\n",
    "live_cache.publish('live_trade_handlerlive', json.dumps({'cmd':'add','value':[token],'mode':'ltp'}))\n",
    "\n",
    "live_cache.setValue(symbol,'qty','1')\n",
    "live_cache.setValue(symbol,'SL %','0.4')\n",
    "live_cache.setValue(symbol,'TP %','1')\n",
    "live_cache.setValue(symbol,'algo','haikin_1_new')\n",
    "live_cache.setValue(symbol,'freq','1T')\n",
    "live_cache.setValue(symbol,'last_processed',datetime.now().timestamp())\n",
    "live_cache.setValue(symbol,'mode','paper')"
   ]
  },
  {
   "cell_type": "code",
   "execution_count": null,
   "metadata": {},
   "outputs": [],
   "source": [
    "symbol = 'WIPRO'\n",
    "live_cache.setValue(symbol,'last_processed',datetime.now().timestamp())"
   ]
  },
  {
   "cell_type": "code",
   "execution_count": null,
   "metadata": {},
   "outputs": [],
   "source": [
    "datetime.now().timestamp()"
   ]
  },
  {
   "cell_type": "code",
   "execution_count": null,
   "metadata": {},
   "outputs": [],
   "source": [
    "symbol = 'INFY'\n",
    "live_cache.setValue(symbol,'mode','PAUSE')"
   ]
  },
  {
   "cell_type": "code",
   "execution_count": null,
   "metadata": {},
   "outputs": [],
   "source": [
    "live_cache.getValue(symbol)"
   ]
  },
  {
   "cell_type": "markdown",
   "metadata": {},
   "source": [
    "### Kite Ticker Handler Manipulation"
   ]
  },
  {
   "cell_type": "code",
   "execution_count": null,
   "metadata": {},
   "outputs": [],
   "source": [
    "#live_cache.publish('live_trade_handlerlive','profile')\n",
    "live_cache.publish('live_trade_handlerlive','status')"
   ]
  },
  {
   "cell_type": "code",
   "execution_count": null,
   "metadata": {},
   "outputs": [],
   "source": [
    "live_cache.publish('kite_ticker_handlerlive','INIT')"
   ]
  },
  {
   "cell_type": "code",
   "execution_count": null,
   "metadata": {},
   "outputs": [],
   "source": [
    "live_cache.publish('kite_ticker_handlerlive','CLOSE')"
   ]
  },
  {
   "cell_type": "code",
   "execution_count": null,
   "metadata": {},
   "outputs": [],
   "source": [
    "live_cache.publish('kite_ticker_handlerlive','START')"
   ]
  },
  {
   "cell_type": "code",
   "execution_count": null,
   "metadata": {},
   "outputs": [],
   "source": [
    "live_cache.publish('kite_ticker_handlerlive','profile')"
   ]
  },
  {
   "cell_type": "code",
   "execution_count": null,
   "metadata": {},
   "outputs": [],
   "source": [
    "live_cache.smembers('live_token')"
   ]
  },
  {
   "cell_type": "code",
   "execution_count": null,
   "metadata": {},
   "outputs": [],
   "source": [
    "values = list(map(int,live_cache.smembers('ticker_list')))\n",
    "values"
   ]
  },
  {
   "cell_type": "code",
   "execution_count": null,
   "metadata": {},
   "outputs": [],
   "source": [
    "live_cache.publish('kite_ticker_handlerlive',json.dumps({'cmd':'add','value':values,'mode':'ltp'}))"
   ]
  },
  {
   "cell_type": "code",
   "execution_count": null,
   "metadata": {},
   "outputs": [],
   "source": [
    "live_cache.publish('kite_ticker_handlerlive',json.dumps({'cmd':'remove','value':[1510401],'mode':'quote'}))\n"
   ]
  },
  {
   "cell_type": "code",
   "execution_count": null,
   "metadata": {},
   "outputs": [],
   "source": [
    "pd.DataFrame(kite.orders())"
   ]
  },
  {
   "cell_type": "markdown",
   "metadata": {},
   "source": [
    "#### TickerList Manipulaitons"
   ]
  },
  {
   "cell_type": "code",
   "execution_count": null,
   "metadata": {},
   "outputs": [],
   "source": [
    "live_cache.sadd('ticker_list','2953217')\n",
    "live_cache.sadd('ticker_list','969473')\n",
    "\n",
    "live_cache.sadd('ticker_list','1510401')"
   ]
  },
  {
   "cell_type": "code",
   "execution_count": null,
   "metadata": {},
   "outputs": [],
   "source": [
    "values = list(map(int,live_cache.smembers('ticker_list')))\n",
    "print(values)\n",
    "live_cache.hmget('eq_token', values)"
   ]
  },
  {
   "cell_type": "code",
   "execution_count": null,
   "metadata": {},
   "outputs": [],
   "source": [
    "live_cache.srem('ticker_list',1510401)"
   ]
  },
  {
   "cell_type": "code",
   "execution_count": null,
   "metadata": {},
   "outputs": [],
   "source": [
    "live_cache.sismember('ticker_list',4268801)"
   ]
  },
  {
   "cell_type": "code",
   "execution_count": null,
   "metadata": {},
   "outputs": [],
   "source": [
    "live_cache.delete('ticker_list')"
   ]
  },
  {
   "cell_type": "code",
   "execution_count": null,
   "metadata": {},
   "outputs": [],
   "source": [
    "live_cache.getValue()"
   ]
  },
  {
   "cell_type": "markdown",
   "metadata": {},
   "source": [
    "### Get Kite Ticker Status"
   ]
  },
  {
   "cell_type": "code",
   "execution_count": 8,
   "metadata": {},
   "outputs": [
    {
     "data": {
      "text/plain": [
       "'connected'"
      ]
     },
     "execution_count": 8,
     "metadata": {},
     "output_type": "execute_result"
    }
   ],
   "source": [
    "## Get Status of Kite\n",
    "live_cache.get('Kite_Status')"
   ]
  },
  {
   "cell_type": "markdown",
   "metadata": {},
   "source": [
    "### OrderHandler Monitor and Manipulation"
   ]
  },
  {
   "cell_type": "code",
   "execution_count": null,
   "metadata": {},
   "outputs": [],
   "source": [
    "# Pause Ordering\n",
    "live_cache.publish('order_handlerlive', 'pause')"
   ]
  },
  {
   "cell_type": "code",
   "execution_count": null,
   "metadata": {},
   "outputs": [],
   "source": [
    "# Resume Ordering\n",
    "live_cache.publish('order_handlerlive', 'resume')"
   ]
  },
  {
   "cell_type": "code",
   "execution_count": null,
   "metadata": {},
   "outputs": [],
   "source": [
    "# Buy\n",
    "live_cache.publish('order_handlerlive',json.dumps({'cmd':'buy','symbol':'WIPRO','price':180,'qty':1}))"
   ]
  },
  {
   "cell_type": "code",
   "execution_count": null,
   "metadata": {},
   "outputs": [],
   "source": [
    "# Sell\n",
    "live_cache.publish('order_handlerlive',json.dumps({'cmd':'sell','symbol':'WIPRO','price':190,'qty':1}))"
   ]
  },
  {
   "cell_type": "code",
   "execution_count": null,
   "metadata": {},
   "outputs": [],
   "source": [
    "# Cancel\n",
    "live_cache.publish('order_handlerlive',json.dumps({'cmd':'cancel','symbol':'WIPRO'}))"
   ]
  },
  {
   "cell_type": "code",
   "execution_count": null,
   "metadata": {},
   "outputs": [],
   "source": [
    "live_cache.publish('order_handlerlive',json.dumps({'cmd':'getOrders'}))"
   ]
  },
  {
   "cell_type": "code",
   "execution_count": null,
   "metadata": {},
   "outputs": [],
   "source": [
    "## Cancel All the orders\n",
    "live_cache.publish('order_handlerlive',json.dumps({'cmd':'cancelAll'}))"
   ]
  },
  {
   "cell_type": "code",
   "execution_count": null,
   "metadata": {},
   "outputs": [],
   "source": [
    "#from lib.kite_wrapper_lib import *\n",
    "cancel_order(kite,['CIPLA'])"
   ]
  },
  {
   "cell_type": "code",
   "execution_count": null,
   "metadata": {},
   "outputs": [],
   "source": [
    "buy_limit('WIPRO',188.5,1)"
   ]
  },
  {
   "cell_type": "code",
   "execution_count": null,
   "metadata": {},
   "outputs": [],
   "source": [
    "sell_limit('WIPRO',188.7,1)"
   ]
  },
  {
   "cell_type": "code",
   "execution_count": null,
   "metadata": {
    "scrolled": true
   },
   "outputs": [],
   "source": [
    "live_cache.getOHLC('WIPRO').tail(10)"
   ]
  },
  {
   "cell_type": "code",
   "execution_count": null,
   "metadata": {},
   "outputs": [],
   "source": [
    "kite.cancel_order(kite.VARIETY_REGULAR, 200511002924441, parent_order_id=None)"
   ]
  },
  {
   "cell_type": "code",
   "execution_count": null,
   "metadata": {},
   "outputs": [],
   "source": [
    "kite.convert_position(kite.EXCHANGE_NSE, 'WIPRO', transaction_type, position_type, quantity, old_product, new_product)\n"
   ]
  },
  {
   "cell_type": "code",
   "execution_count": null,
   "metadata": {},
   "outputs": [],
   "source": [
    "kite.modify_order(kite.VARIETY_REGULAR, 200511003019322, parent_order_id=None, quantity=None, price=187.4, order_type=None, trigger_price=None, validity=None, disclosed_quantity=None)\n"
   ]
  },
  {
   "cell_type": "code",
   "execution_count": null,
   "metadata": {},
   "outputs": [],
   "source": [
    "msg = {'data': '[{\"tradable\": true, \"mode\": \"quote\", \"instrument_token\": 969473, \"last_price\": 184.7, \"last_quantity\": 5, \"average_price\": 187.07, \"volume\": 4393242, \"buy_quantity\": 0, \"sell_quantity\": 0, \"ohlc\": {\"open\": 185.0, \"high\": 189.95, \"low\": 184.1, \"close\": 184.0}, \"change\": 0.38043478260868946}, {\"tradable\": true, \"mode\": \"quote\", \"instrument_token\": 2953217, \"last_price\": 1935.3, \"last_quantity\": 25, \"average_price\": 1939.47, \"volume\": 2449395, \"buy_quantity\": 0, \"sell_quantity\": 0, \"ohlc\": {\"open\": 1909.0, \"high\": 1951.4, \"low\": 1909.0, \"close\": 1893.4}, \"change\": 2.2129502482306886}]'}"
   ]
  },
  {
   "cell_type": "code",
   "execution_count": null,
   "metadata": {},
   "outputs": [],
   "source": [
    "msg['data']"
   ]
  },
  {
   "cell_type": "code",
   "execution_count": null,
   "metadata": {},
   "outputs": [],
   "source": [
    "val = json.loads(msg['data'])"
   ]
  },
  {
   "cell_type": "markdown",
   "metadata": {},
   "source": [
    "##### Reset state for tradejob"
   ]
  },
  {
   "cell_type": "code",
   "execution_count": null,
   "metadata": {},
   "outputs": [],
   "source": [
    "live_cache.setValue('WIPRO','state','SCANNING')"
   ]
  },
  {
   "cell_type": "markdown",
   "metadata": {},
   "source": [
    "### Live Cache State Monitor and manipulation"
   ]
  },
  {
   "cell_type": "code",
   "execution_count": null,
   "metadata": {},
   "outputs": [],
   "source": [
    "live_cache.getValue()"
   ]
  },
  {
   "cell_type": "code",
   "execution_count": null,
   "metadata": {},
   "outputs": [],
   "source": []
  },
  {
   "cell_type": "code",
   "execution_count": null,
   "metadata": {},
   "outputs": [],
   "source": [
    "#Modify cache table\n",
    "stock_key = 'CIPLA'\n",
    "#live_cache.add(stock_key, True) #TODO: While adding stock to table use True\n",
    "live_cache.setValue(stock_key, 'algo', 'haikin_1_new')\n",
    "live_cache.setValue(stock_key, 'freq', '1T')\n",
    "live_cache.setValue(stock_key, 'qty', 1)\n",
    "live_cache.setValue(stock_key, 'SL %', 1)\n",
    "live_cache.setValue(stock_key, 'TP %', 1)\n",
    "live_cache.setValue(stock_key, 'P&L', 0)\n",
    "live_cache.setValue(stock_key, 'Total P&L', 0)\n",
    "live_cache.setValue(stock_key, 'price', 0)\n",
    "live_cache.setValue(stock_key, 'hdf_freq', 'minute')\n",
    "live_cache.getValue()"
   ]
  },
  {
   "cell_type": "code",
   "execution_count": null,
   "metadata": {},
   "outputs": [],
   "source": [
    "live_cache.setValue('WIPRO', 'mode', 'paper')"
   ]
  },
  {
   "cell_type": "code",
   "execution_count": null,
   "metadata": {},
   "outputs": [],
   "source": [
    "#live_cache.remove('AXISBANK')\n",
    "live_cache.getValue()"
   ]
  },
  {
   "cell_type": "code",
   "execution_count": null,
   "metadata": {},
   "outputs": [],
   "source": [
    "live_cache.remove()"
   ]
  },
  {
   "cell_type": "markdown",
   "metadata": {},
   "source": [
    "#### Get token for Stock symbol"
   ]
  },
  {
   "cell_type": "code",
   "execution_count": null,
   "metadata": {},
   "outputs": [],
   "source": [
    "live_cache.hmget('eq_token',['CIPLA','INFY'])"
   ]
  },
  {
   "cell_type": "code",
   "execution_count": null,
   "metadata": {},
   "outputs": [],
   "source": [
    "live_cache.hmget('eq_token',['TCS','WIPRO','AXISBANK'])"
   ]
  },
  {
   "cell_type": "markdown",
   "metadata": {},
   "source": [
    "#### Peek into OHLC buffer"
   ]
  },
  {
   "cell_type": "code",
   "execution_count": null,
   "metadata": {},
   "outputs": [],
   "source": [
    "live_cache.getOHLC('INFRATEL').tail(5)"
   ]
  },
  {
   "cell_type": "markdown",
   "metadata": {},
   "source": [
    "#### msgBufferQueue Monitoring"
   ]
  },
  {
   "cell_type": "code",
   "execution_count": null,
   "metadata": {},
   "outputs": [],
   "source": [
    "peek_msg_queue = live_cache.xrange('msgBufferQueuelive')[-1]\n",
    "print(peek_msg_queue)\n",
    "datetime.fromtimestamp(int(peek_msg_queue[0].split('-')[0] )/1000)"
   ]
  },
  {
   "cell_type": "code",
   "execution_count": null,
   "metadata": {},
   "outputs": [],
   "source": [
    "live_cache.xrange('notificationQueuelivenew')"
   ]
  },
  {
   "cell_type": "code",
   "execution_count": null,
   "metadata": {},
   "outputs": [],
   "source": [
    "datetime.fromtimestamp(1589428580968/1000)"
   ]
  },
  {
   "cell_type": "code",
   "execution_count": null,
   "metadata": {},
   "outputs": [],
   "source": [
    "live_cache.getOHLC('INFRATEL').tail()"
   ]
  },
  {
   "cell_type": "markdown",
   "metadata": {},
   "source": [
    "##### Monitor: OHLC Tick Handler"
   ]
  },
  {
   "cell_type": "code",
   "execution_count": null,
   "metadata": {},
   "outputs": [],
   "source": [
    "val = live_cache.get('last_id_msg')\n",
    "print(val)\n",
    "datetime.fromtimestamp(int(val.split('-')[0] )/1000)"
   ]
  },
  {
   "cell_type": "raw",
   "metadata": {},
   "source": [
    "# Reset last_processed msg\n",
    "live_cache.setValue('WIPRO','last_processed',0)"
   ]
  },
  {
   "cell_type": "code",
   "execution_count": null,
   "metadata": {},
   "outputs": [],
   "source": [
    "# Timestamp to ID\n",
    "timestamp_to_id = lambda x:str(int(float(x)*1000))+'-'+str(0)\n",
    "id_val = timestamp_to_id(live_cache.getValue('WIPRO','last_processed'))\n",
    "print(id_val)\n",
    "live_cache.xread({'msgBufferQueuelive':id_val}, count=1)"
   ]
  },
  {
   "cell_type": "code",
   "execution_count": null,
   "metadata": {},
   "outputs": [],
   "source": [
    "# Peek into the last msg processed by tick handler\n",
    "print(live_cache.getValue('WIPRO','last_processed'))\n",
    "datetime.fromtimestamp(float(live_cache.getValue('WIPRO','last_processed')))"
   ]
  },
  {
   "cell_type": "code",
   "execution_count": null,
   "metadata": {},
   "outputs": [],
   "source": [
    "## Ticker job monitoring\n",
    "live_cache.get('tick_count')"
   ]
  },
  {
   "cell_type": "code",
   "execution_count": null,
   "metadata": {},
   "outputs": [],
   "source": [
    "datetime.fromtimestamp(1589535456664/1000)"
   ]
  },
  {
   "cell_type": "code",
   "execution_count": null,
   "metadata": {},
   "outputs": [],
   "source": [
    "msgBufferDump = live_cache.xrange('msgBufferQueuelive')"
   ]
  },
  {
   "cell_type": "code",
   "execution_count": null,
   "metadata": {},
   "outputs": [],
   "source": [
    "fp = open('log/ticker_log.log',mode='w')"
   ]
  },
  {
   "cell_type": "code",
   "execution_count": null,
   "metadata": {},
   "outputs": [],
   "source": [
    "fp.write(json.dumps(msgBufferDump))"
   ]
  },
  {
   "cell_type": "markdown",
   "metadata": {},
   "source": [
    "### Update Redis with Instrument list"
   ]
  },
  {
   "cell_type": "markdown",
   "metadata": {},
   "source": [
    "##### Download fresh data and store in cache"
   ]
  },
  {
   "cell_type": "code",
   "execution_count": null,
   "metadata": {},
   "outputs": [],
   "source": [
    "instruments_df = pd.DataFrame(kite.instruments())"
   ]
  },
  {
   "cell_type": "code",
   "execution_count": null,
   "metadata": {},
   "outputs": [],
   "source": [
    "instruments_df.to_hdf('data/instruments.h5',key='instruments')"
   ]
  },
  {
   "cell_type": "code",
   "execution_count": null,
   "metadata": {},
   "outputs": [],
   "source": [
    "instruments_df.columns"
   ]
  },
  {
   "cell_type": "code",
   "execution_count": null,
   "metadata": {},
   "outputs": [],
   "source": [
    "eq_nse = instruments_df.loc[(instruments_df['exchange']=='NSE') & (instruments_df['segment']=='NSE')  & (instruments_df['instrument_type']=='EQ'), ['instrument_token','tradingsymbol']]"
   ]
  },
  {
   "cell_type": "code",
   "execution_count": null,
   "metadata": {},
   "outputs": [],
   "source": [
    "eq_nse.loc[eq_nse['tradingsymbol'].isin(['TCS','WIPRO']),'instrument_token'].values"
   ]
  },
  {
   "cell_type": "markdown",
   "metadata": {},
   "source": [
    "##### Use cache"
   ]
  },
  {
   "cell_type": "code",
   "execution_count": null,
   "metadata": {},
   "outputs": [],
   "source": [
    "instruments_df = pd.read_hdf('data/instruments.h5',key='instruments')"
   ]
  },
  {
   "cell_type": "code",
   "execution_count": null,
   "metadata": {},
   "outputs": [],
   "source": [
    "instruments_df"
   ]
  },
  {
   "cell_type": "code",
   "execution_count": null,
   "metadata": {},
   "outputs": [],
   "source": [
    "eq_nse = instruments_df.loc[(instruments_df['exchange']=='NSE') & (instruments_df['segment']=='NSE')  & (instruments_df['instrument_type']=='EQ'), ['instrument_token','tradingsymbol']]"
   ]
  },
  {
   "cell_type": "code",
   "execution_count": null,
   "metadata": {},
   "outputs": [],
   "source": [
    "eq_nse.loc[eq_nse['tradingsymbol'].isin(['TCS','WIPRO']),:].values\n",
    "\n",
    "eq_nse.set_index('instrument_token')"
   ]
  },
  {
   "cell_type": "code",
   "execution_count": null,
   "metadata": {},
   "outputs": [],
   "source": [
    "live_cache.delete('eq_token')"
   ]
  },
  {
   "cell_type": "code",
   "execution_count": null,
   "metadata": {},
   "outputs": [],
   "source": [
    "eq_nse.head().to_dict(orient='records')"
   ]
  },
  {
   "cell_type": "code",
   "execution_count": null,
   "metadata": {},
   "outputs": [],
   "source": [
    "eq_nse.head().set_index('tradingsymbol').transpose().to_dict(orient='records')"
   ]
  },
  {
   "cell_type": "code",
   "execution_count": null,
   "metadata": {},
   "outputs": [],
   "source": [
    "eq_nse.head().set_index('instrument_token').transpose().to_dict(orient='records')[0]"
   ]
  },
  {
   "cell_type": "markdown",
   "metadata": {},
   "source": [
    "##### Update redis with tokens"
   ]
  },
  {
   "cell_type": "code",
   "execution_count": null,
   "metadata": {},
   "outputs": [],
   "source": [
    "live_cache.hmset('eq_token',eq_nse.set_index('instrument_token').transpose().to_dict(orient='records')[0])\n",
    "live_cache.hmset('eq_token',eq_nse.set_index('tradingsymbol').transpose().to_dict(orient='records')[0])"
   ]
  },
  {
   "cell_type": "code",
   "execution_count": null,
   "metadata": {},
   "outputs": [],
   "source": [
    "live_cache.hmget('eq_token',['TCS','WIPRO'])"
   ]
  },
  {
   "cell_type": "code",
   "execution_count": null,
   "metadata": {},
   "outputs": [],
   "source": [
    "live_cache.hgetall('eq_token')"
   ]
  },
  {
   "cell_type": "code",
   "execution_count": null,
   "metadata": {},
   "outputs": [],
   "source": [
    "live_cache.hmget('eq_token',[2953217, 969473])"
   ]
  },
  {
   "cell_type": "code",
   "execution_count": null,
   "metadata": {},
   "outputs": [],
   "source": []
  },
  {
   "cell_type": "code",
   "execution_count": null,
   "metadata": {},
   "outputs": [],
   "source": []
  },
  {
   "cell_type": "code",
   "execution_count": null,
   "metadata": {},
   "outputs": [],
   "source": [
    "import pandas as pd"
   ]
  },
  {
   "cell_type": "code",
   "execution_count": null,
   "metadata": {},
   "outputs": [],
   "source": [
    "df = pd.read_hdf('data/kite_cache_day_backup.h5')"
   ]
  },
  {
   "cell_type": "code",
   "execution_count": null,
   "metadata": {},
   "outputs": [],
   "source": [
    "import pandas as pd\n",
    "kite_cache_path = 'data/kite_cache.h5'\n",
    "temp_file = pd.HDFStore(kite_cache_path, mode=\"r\")\n",
    "#rDate = temp_file.get(key).tail(1).index"
   ]
  },
  {
   "cell_type": "code",
   "execution_count": null,
   "metadata": {},
   "outputs": [],
   "source": [
    "temp_file.keys()"
   ]
  },
  {
   "cell_type": "code",
   "execution_count": null,
   "metadata": {},
   "outputs": [],
   "source": [
    "df1 = pd.read_hdf(temp_file, key='/minute/NSE/WIPRO')"
   ]
  },
  {
   "cell_type": "code",
   "execution_count": null,
   "metadata": {},
   "outputs": [],
   "source": [
    "keys = ['BHARTIARTL', '3MINDIA', 'AARTIIND', 'ABB', 'ABFRL', 'ACC', 'ACE', 'ADANIENT', 'ADANIPORTS', 'ADANIPOWER', 'AIAENG', 'AJANTPHARM', 'AKZOINDIA', 'ALBK', 'ALKEM', 'ALLCARGO', 'AMARAJABAT', 'AMBUJACEM', 'ANANTRAJ', 'APOLLOHOSP', 'APOLLOTYRE', 'ARVIND', 'ASAHIINDIA', 'ASHOKLEY', 'ASIANPAINT', 'ASTRAZEN', 'ATFL', 'ATUL', 'AUBANK', 'AUROPHARMA', 'AUTOAXLES', 'AVANTIFEED', 'AXISBANK', 'BAJAJ-AUTO', 'BAJAJELEC', 'BAJAJFINSV', 'BAJAJHLDNG', 'BAJFINANCE', 'BALKRISIND', 'BALRAMCHIN', 'BANCOINDIA', 'BANKBARODA', 'BANKBEES', 'BANKINDIA', 'BATAINDIA', 'BBTC', 'BEL', 'BEML', 'BERGEPAINT', 'BFUTILITIE', 'BHARATFIN', 'BHARATFORG', 'BHARTIARTL', 'BHEL', 'BIOCON', 'BLISSGVS', 'BLKASHYAP', 'BLUEDART', 'BOSCHLTD', 'BPCL', 'BRITANNIA', 'BSE', 'CADILAHC', 'CAMLINFINE', 'CANBK', 'CANFINHOME', 'CAPACITE', 'CASTROLIND', 'CDSL', 'CEATLTD', 'CENTRUM', 'CENTURYPLY', 'CENTURYTEX', 'CEREBRAINT', 'CESC', 'CGCL', 'CGPOWER', 'CHENNPETRO', 'CHOLAFIN', 'CIPLA', 'CNOVAPETRO', 'COALINDIA', 'COCHINSHIP', 'COFFEEDAY', 'COLPAL', 'CONCOR', 'COROMANDEL', 'COX&KINGS', 'CRISIL', 'CROMPTON', 'CUB', 'CUMMINSIND', 'CYIENT', 'DAAWAT', 'DABUR', 'DALMIASUG', 'DBCORP', 'DCBBANK', 'DCMSHRIRAM', 'DEN', 'DHAMPURSUG', 'DHFL', 'DIAMONDYD', 'DISHTV', 'DIVISLAB', 'DIXON', 'DLF', 'DMART', 'DREDGECORP', 'DRREDDY', 'ECLERX', 'EICHERMOT', 'EIDPARRY', 'EIHOTEL', 'ELECTCAST', 'EMAMILTD', 'ENDURANCE', 'ENGINERSIN', 'EQUITAS', 'ERIS', 'EROSMEDIA', 'ESCORTS', 'ESTER', 'EXIDEIND', 'FEDERALBNK', 'FEL', 'FINCABLES', 'FORTIS', 'FRETAIL', 'GAIL', 'GATI', 'GDL', 'GEPIL', 'GESHIP', 'GET&D', 'GHCL', 'GICHSGFIN', 'GICRE', 'GILLETTE', 'GLAXO', 'GLENMARK', 'GLOBUSSPR', 'GMBREW', 'GMRINFRA', 'GNA', 'GNFC', 'GODFRYPHLP', 'GODREJAGRO', 'GODREJCP', 'GODREJIND', 'GODREJPROP', 'GOLDBEES', 'GPPL', 'GRANULES', 'GRASIM', 'GREAVESCOT', 'GSFC', 'GSKCONS', 'GSPL', 'GUJALKALI', 'GUJFLUORO', 'GUJGASLTD', 'HATHWAY', 'HAVELLS', 'HBLPOWER', 'HCL-INSYS', 'HCLTECH', 'HDFC', 'HDFCAMC', 'HDFCBANK', 'HDFCLIFE', 'HEIDELBERG', 'HEROMOTOCO', 'HEXAWARE', 'HGS', 'HIKAL', 'HINDALCO', 'HINDCOPPER', 'HINDPETRO', 'HINDUNILVR', 'HINDZINC', 'HONAUT', 'HSCL', 'HSIL', 'HUDCO', 'IBULHSGFIN', 'ICICIBANK', 'ICICIGI', 'ICICINIFTY', 'ICICIPRULI', 'IDBI', 'IDEA', 'IDFC', 'IDFCFIRSTB', 'IEX', 'IFCI', 'IGL', 'INDHOTEL', 'INDIACEM', 'INDIANB', 'INDIGO', 'INDUSINDBK', 'INFIBEAM', 'INFRATEL', 'INFY', 'INOXLEISUR', 'INOXWIND', 'INTELLECT', 'IOB', 'IOC', 'IPCALAB', 'IRB', 'ITC', 'ITDCEM', 'JAGRAN', 'JAICORPLTD', 'JAMNAAUTO', 'JAYAGROGN', 'JAYSREETEA', 'JETAIRWAYS', 'JINDALSTEL', 'JINDWORLD', 'JISLJALEQS', 'JKCEMENT', 'JKPAPER', 'JKTYRE', 'JMFINANCIL', 'JPASSOCIAT', 'JSLHISAR', 'JSWENERGY', 'JSWSTEEL', 'JUBILANT', 'JUBLFOOD', 'JUSTDIAL', 'JYOTHYLAB', 'KAJARIACER', 'KALPATPOWR', 'KANSAINER', 'KARURVYSYA', 'KEC', 'KEI', 'KILITCH', 'KIRIINDUS', 'KOTAKBANK', 'KOTAKNIFTY', 'KSCL', 'KTKBANK', 'L&TFH', 'LALPATHLAB', 'LIBERTSHOE', 'LICHSGFIN', 'LINCOLN', 'LIQUIDBEES', 'LOVABLE', 'LT', 'LUPIN', 'M&M', 'M&MFIN', 'M50', 'MAGMA', 'MAHINDCIE', 'MAHLOG', 'MAHSEAMLES', 'MAJESCO', 'MANALIPETC', 'MANAPPURAM', 'MANGTIMBER', 'MANINDS', 'MANINFRA', 'MARICO', 'MARKSANS', 'MARUTI', 'MASFIN', 'MASTEK', 'MCDOWELL-N', 'MCX', 'MEGH', 'MFSL', 'MGL', 'MIDHANI', 'MINDACORP', 'MINDAIND', 'MINDTREE', 'MMTC', 'MOIL', 'MOLDTKPAC', 'MOREPENLAB', 'MOTHERSUMI', 'MPHASIS', 'MRF', 'MRPL', 'MUKANDLTD', 'MUNJALAU', 'MUTHOOTFIN', 'NATCOPHARM', 'NATIONALUM', 'NAUKRI', 'NAVINFLUOR', 'NAVNETEDUL', 'NBCC', 'NCC', 'NESTLEIND', 'NETWORK18', 'NFL', 'NH', 'NHPC', 'NIACL', 'NIFTY 100', 'NIFTY 200', 'NIFTY 50', 'NIFTY AUTO', 'NIFTY BANK', 'NIFTY COMMODITIES', 'NIFTY ENERGY', 'NIFTY FIN SERVICE', 'NIFTY FMCG', 'NIFTY INFRA', 'NIFTY IT', 'NIFTY JUNIOR', 'NIFTY MEDIA', 'NIFTY METAL', 'NIFTY MIDCAP 100', 'NIFTY MIDCAP 50', 'NIFTY MNC', 'NIFTY PHARMA', 'NIFTY PSU BANK', 'NIFTY REALTY', 'NIFTY SMALL 100', 'NIFTYBEES', 'NIITTECH', 'NLCINDIA', 'NMDC', 'NOCIL', 'NRBBEARING', 'NTPC', 'OBEROIRLTY', 'OFSS', 'OIL', 'OMAXE', 'ONGC', 'ORIENTBANK', 'ORIENTCEM', 'PAGEIND', 'PAPERPROD', 'PARAGMILK', 'PATELENG', 'PCJEWELLER', 'PEL', 'PERSISTENT', 'PETRONET', 'PFC', 'PFIZER', 'PGHH', 'PHILIPCARB', 'PHOENIXLTD', 'PIDILITIND', 'PIIND', 'PNB', 'PNBGILTS', 'PNBHOUSING', 'POLYPLEX', 'POWERGRID', 'PRAJIND', 'PRESTIGE', 'PTC', 'PURVA', 'PVR', 'QUICKHEAL', 'RADICO', 'RADIOCITY', 'RAJESHEXPO', 'RALLIS', 'RAMCOCEM', 'RAMCOIND', 'RAMKY', 'RAYMOND', 'RBLBANK', 'RCF', 'RECLTD', 'RELAXO', 'RELCAPITAL', 'RELIANCE', 'RELINFRA', 'REPCOHOME', 'RICOAUTO', 'RIIL', 'RKFORGE', 'RPOWER', 'SAIL', 'SAKUMA', 'SALASAR', 'SALZERELEC', 'SANGHIIND', 'SANGHVIMOV', 'SANOFI', 'SAREGAMA', 'SBILIFE', 'SBIN', 'SCHAEFFLER', 'SCHAND', 'SCHNEIDER', 'SCI', 'SELAN', 'SEQUENT', 'SHARDAMOTR', 'SHREECEM', 'SHRIRAMCIT', 'SIEMENS', 'SIMPLEXINF', 'SINTEX', 'SIS', 'SJVN', 'SKFINDIA', 'SNOWMAN', 'SOBHA', 'SOLARINDS', 'SOUTHBANK', 'SPARC', 'SPTL', 'SREINFRA', 'SRF', 'SRTRANSFIN', 'STAR', 'STCINDIA', 'STRTECH', 'SUNDARMFIN', 'SUNDRMFAST', 'SUNPHARMA', 'SUNTECK', 'SUNTV', 'SUPREMEIND', 'SUVEN', 'SUZLON', 'SYNDIBANK', 'SYNGENE', 'TAKE', 'TALWALKARS', 'TATACHEM', 'TATACOFFEE', 'TATACOMM', 'TATAELXSI', 'TATAGLOBAL', 'TATAINVEST', 'TATAMOTORS', 'TATAMTRDVR', 'TATAPOWER', 'TATASPONGE', 'TATASTEEL', 'TBZ', 'TCI', 'TCS', 'TECHM', 'TEJASNET', 'TEXMOPIPES', 'TEXRAIL', 'THERMAX', 'THOMASCOOK', 'THYROCARE', 'TIMETECHNO', 'TINPLATE', 'TITAN', 'TNPETRO', 'TNPL', 'TORNTPHARM', 'TORNTPOWER', 'TRENT', 'TRIDENT', 'TRIGYN', 'TRIVENI', 'TTKPRESTIG', 'TV18BRDCST', 'TVSMOTOR', 'TWL', 'UBL', 'UCOBANK', 'UJJIVAN', 'ULTRACEMCO', 'UNIONBANK', 'UNIVCABLES', 'UPL', 'USHAMART', 'VEDL', 'VGUARD', 'VIPCLOTHNG', 'VIPIND', 'VOLTAS', 'VTL', 'WABCOINDIA', 'WALCHANNAG', 'WELCORP', 'WELENT', 'WELSPUNIND', 'WHIRLPOOL', 'WINDMACHIN', 'WIPRO', 'WOCKPHARMA', 'WONDERLA', 'YESBANK', 'ZEEL']\n",
    "\n",
    "temp_file1 = pd.HDFStore('data/kite_cache_sample.h5', mode=\"w\")\n",
    "for key in keys:\n",
    "    hash1 = '/minute/NSE/'+key\n",
    "    hash2 = '/day/NSE/'+key\n",
    "    df1 = pd.read_hdf(temp_file, key=hash1)\n",
    "    df2 = pd.read_hdf(temp_file, key=hash2)\n",
    "    \n",
    "    df1.tail(10000).to_hdf(temp_file1, hash1)\n",
    "    df2.tail(1000).to_hdf(temp_file1, hash2)\n",
    "    \n",
    "    #print(key)\n",
    "    \n",
    "    temp_file1.close()"
   ]
  },
  {
   "cell_type": "code",
   "execution_count": null,
   "metadata": {},
   "outputs": [],
   "source": [
    "pd.HDFStore('data/kite_cache_sample.h5', mode=\"r\").keys()"
   ]
  },
  {
   "cell_type": "code",
   "execution_count": null,
   "metadata": {},
   "outputs": [],
   "source": [
    "pd.read_hdf('data/kite_cache_sample.h5', key='/minute/NSE/WIPRO')"
   ]
  },
  {
   "cell_type": "code",
   "execution_count": null,
   "metadata": {},
   "outputs": [],
   "source": [
    "temp_file1.close()"
   ]
  },
  {
   "cell_type": "code",
   "execution_count": null,
   "metadata": {},
   "outputs": [],
   "source": []
  }
 ],
 "metadata": {
  "kernelspec": {
   "display_name": "Python 3",
   "language": "python",
   "name": "python3"
  },
  "language_info": {
   "codemirror_mode": {
    "name": "ipython",
    "version": 3
   },
   "file_extension": ".py",
   "mimetype": "text/x-python",
   "name": "python",
   "nbconvert_exporter": "python",
   "pygments_lexer": "ipython3",
   "version": "3.7.7"
  }
 },
 "nbformat": 4,
 "nbformat_minor": 4
}
