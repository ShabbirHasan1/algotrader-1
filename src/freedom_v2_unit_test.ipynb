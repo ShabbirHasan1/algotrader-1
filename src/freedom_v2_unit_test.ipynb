{
 "cells": [
  {
   "cell_type": "code",
   "execution_count": 1,
   "metadata": {},
   "outputs": [],
   "source": [
    "%load_ext autoreload\n",
    "%autoreload 2\n",
    "#from lib.multitasking_lib import *"
   ]
  },
  {
   "cell_type": "code",
   "execution_count": 2,
   "metadata": {},
   "outputs": [],
   "source": [
    "from lib.multitasking_lib import *\n",
    "cache_type ='backtest_uni'\n",
    "\n",
    "my_cache = cache_state('backtest_uni')"
   ]
  },
  {
   "cell_type": "code",
   "execution_count": 8,
   "metadata": {
    "scrolled": false
   },
   "outputs": [
    {
     "name": "stdout",
     "output_type": "stream",
     "text": [
      "True\n",
      "['kite_ticker_handlerlive', 'order_notification_handlerlive', 'ohlc_tick_handlerbacktest_web', 'kite_simulatorbacktest_web', 'order_handlerbacktest_web', 'order_handlerlive', 'ohlc_tick_handlerlive']\n",
      "[]\n"
     ]
    },
    {
     "name": "stderr",
     "output_type": "stream",
     "text": [
      "2020-05-25 22:50:18,842 INFO:\tStarting Handler: kite_simulator\n",
      "2020-05-25 22:50:18,853 INFO:\tStarting Handler: ohlc_tick_handler\n",
      "2020-05-25 22:50:18,856 INFO:\tStarting Handler: order_handler\n",
      "2020-05-25 22:50:18,908 DEBUG:\tkite_simulator: 1\n",
      "2020-05-25 22:50:19,115 DEBUG:\tohlc_tick_handler(backtest_uni) - INIT: 1\n",
      "2020-05-25 22:50:19,118 DEBUG:\torder_handler(backtest_uni): 1\n",
      "2020-05-25 22:50:19,130 ERROR:\tkite_simulator: Invalid msg: 1\n",
      "2020-05-25 22:50:19,168 ERROR:\tError in order handler\n",
      "2020-05-25 22:50:22,679 DEBUG:\tkite_simulator: {\"stock\": [\"TCS\", \"WIPRO\", \"INFRATEL\"], \"sl\": 1, \"target\": 1, \"qty\": 10, \"algo\": \"haikin_1_new\", \"fromDate\": \"2019-4-8\", \"toDate\": \"2019-4-9\", \"freq\": \"1T\", \"mode\": \"quick\"}\n",
      "2020-05-25 22:50:22,687 DEBUG:\tTrade_init: TCS\n",
      "2020-05-25 22:50:22,718 INFO:\tReset Cache for: TCSbacktest_uni\n",
      "2020-05-25 22:50:22,754 INFO:\tTCSbacktest_uni=>{'stock': 'TCS', 'qty': '0', 'SL %': '0.0', 'TP %': '0.0', 'amount': '0', 'price': '0.0', 'P&L': '0.0', 'P&L %': '0.0', 'Total P&L': '0.0', 'Total P&L %': '0.0', 'low': '0.0', 'sl': '0.0', 'ltp': '0.0', 'ltp %': '0.0', 'tp': '0.0', 'high': '0.0', 'last_processed': '0', 'state': 'INIT', 'mode': 'PAUSE', 'algo': '', 'freq': '1T', 'hdf_freq': 'minute', 'order_id': '0'}\n",
      "2020-05-25 22:50:23,755 DEBUG:\tTrade_init: WIPRO\n",
      "2020-05-25 22:50:23,761 INFO:\tReset Cache for: WIPRObacktest_uni\n",
      "2020-05-25 22:50:23,780 INFO:\tWIPRObacktest_uni=>{'stock': 'WIPRO', 'qty': '0', 'SL %': '0.0', 'TP %': '0.0', 'amount': '0', 'price': '0.0', 'P&L': '0.0', 'P&L %': '0.0', 'Total P&L': '0.0', 'Total P&L %': '0.0', 'low': '0.0', 'sl': '0.0', 'ltp': '0.0', 'ltp %': '0.0', 'tp': '0.0', 'high': '0.0', 'last_processed': '0', 'state': 'INIT', 'mode': 'PAUSE', 'algo': '', 'freq': '1T', 'hdf_freq': 'minute', 'order_id': '0'}\n",
      "2020-05-25 22:50:24,167 DEBUG:\tTrade_init: INFRATEL\n",
      "2020-05-25 22:50:24,179 INFO:\tReset Cache for: INFRATELbacktest_uni\n",
      "2020-05-25 22:50:24,205 INFO:\tINFRATELbacktest_uni=>{'stock': 'INFRATEL', 'qty': '0', 'SL %': '0.0', 'TP %': '0.0', 'amount': '0', 'price': '0.0', 'P&L': '0.0', 'P&L %': '0.0', 'Total P&L': '0.0', 'Total P&L %': '0.0', 'low': '0.0', 'sl': '0.0', 'ltp': '0.0', 'ltp %': '0.0', 'tp': '0.0', 'high': '0.0', 'last_processed': '0', 'state': 'INIT', 'mode': 'PAUSE', 'algo': '', 'freq': '1T', 'hdf_freq': 'minute', 'order_id': '0'}\n",
      "2020-05-25 22:50:24,570 INFO:\tRunning Quick Backtest\n",
      "2020-05-25 22:50:24,576 INFO:\tquick backtest\n"
     ]
    }
   ],
   "source": [
    "######################\n",
    "# Initiate Backtest  #\n",
    "######################\n",
    "def store_algo(algo, algo_name=\"default\"):\n",
    "    redis_conn.hset(\"algos\",algo_name, algo)\n",
    "    algo_f = open(\"algo/\"+algo_name+\".txt\", \"w\")\n",
    "    algo_f.write(algo)\n",
    "    algo_f.close()\n",
    "    \n",
    "#my_cache.flushall()\n",
    "def backtest_unitest(stocks, freq='1T',algo_name = 'haikin_1_new', fromDate='2019-4-8', toDate='2019-4-9', mode='quick'):\n",
    "    stocks = stocks\n",
    "    sl = 1\n",
    "    target = 1\n",
    "    qty = 10\n",
    "    backtest_msg={'stock':stocks,'sl':sl,'target':target,'qty':qty,'algo':algo_name,'fromDate':fromDate,'toDate':toDate,'freq':freq, 'mode':mode}\n",
    "\n",
    "    # Step 4: Done is set to 0: Backtest is in progress, will be resetted by backtest job\n",
    "    redis_conn.set('done'+cache_type,0)\n",
    "    # Step 5: Send the msg to backtest thread to initiate the back test\n",
    "    #pdebug(json.dumps(backtest_msg))\n",
    "    redis_conn.publish('kite_simulator'+cache_type,json.dumps(backtest_msg))\n",
    "    \n",
    "##########################\n",
    "# Unit Test              #\n",
    "##########################\n",
    "\n",
    "open('log/freedom.log','r+')\n",
    "#log_file.close()\n",
    "\n",
    "logger.setLevel(10)\n",
    "loggerT.setLevel(21)\n",
    "my_cache.set('done'+cache_type,1)\n",
    "my_cache.xtrim('msgBufferQueue'+cache_type,0,False)\n",
    "my_cache.set('last_id_msg'+cache_type, 0)\n",
    "\n",
    "\n",
    "try:\n",
    "    if backtest_manager.job.is_alive():\n",
    "        backtest_manager.job.terminate()\n",
    "        time.sleep(0.1)\n",
    "except:\n",
    "    pass\n",
    "finally:\n",
    "    backtest_manager = threadManager(cache_type, [\"kite_simulator\",\"ohlc_tick_handler\",\"order_handler\"], [kite_simulator, ohlc_tick_handler, order_handler])\n",
    "\n",
    "#redis_conn.publish('ohlc_tick_handler'+cache_type,'start')\n",
    "print(backtest_manager.job.is_alive())\n",
    "print(redis_conn.pubsub_channels())\n",
    "print(jobs)\n"
   ]
  },
  {
   "cell_type": "code",
   "execution_count": 9,
   "metadata": {
    "scrolled": true
   },
   "outputs": [],
   "source": [
    "backtest_unitest(['TCS','WIPRO','INFRATEL'])"
   ]
  },
  {
   "cell_type": "code",
   "execution_count": null,
   "metadata": {},
   "outputs": [],
   "source": []
  },
  {
   "cell_type": "code",
   "execution_count": 5,
   "metadata": {},
   "outputs": [
    {
     "name": "stderr",
     "output_type": "stream",
     "text": [
      "2020-05-25 22:48:07,177 INFO:\tbacktest_uni\n"
     ]
    },
    {
     "name": "stdout",
     "output_type": "stream",
     "text": [
      "False\n",
      "['kite_ticker_handlerlive', 'order_notification_handlerlive', 'ohlc_tick_handlerbacktest_web', 'kite_simulatorbacktest_web', 'order_handlerbacktest_web', 'order_handlerlive', 'ohlc_tick_handlerlive']\n"
     ]
    }
   ],
   "source": [
    "################################\n",
    "###         Stop Trade       ###\n",
    "################################\n",
    "pinfo(cache_type)\n",
    "my_cache.xtrim('msgBufferQueue'+cache_type,0,False)\n",
    "my_cache.delete('msgBufferQueue'+cache_type)\n",
    "my_cache.set('TCSbacktest_uniTICK',pd.DataFrame().to_json())\n",
    "\n",
    "if backtest_manager.job.is_alive():\n",
    "    backtest_manager.job.terminate()\n",
    "time.sleep(1)\n",
    "print(backtest_manager.job.is_alive())\n",
    "print(redis_conn.pubsub_channels())\n",
    "my_cache.set('last_id_msg',0)\n",
    "jobs\n",
    "jobs = []"
   ]
  },
  {
   "cell_type": "code",
   "execution_count": null,
   "metadata": {},
   "outputs": [],
   "source": []
  },
  {
   "cell_type": "code",
   "execution_count": null,
   "metadata": {},
   "outputs": [],
   "source": [
    "pd.read_json(my_cache.get('TCSbacktest_uniTrade'))"
   ]
  },
  {
   "cell_type": "code",
   "execution_count": null,
   "metadata": {},
   "outputs": [],
   "source": [
    "redis_conn.pubsub_channels()"
   ]
  },
  {
   "cell_type": "code",
   "execution_count": null,
   "metadata": {},
   "outputs": [],
   "source": [
    "backtest_unitest(['TCS'])"
   ]
  },
  {
   "cell_type": "code",
   "execution_count": null,
   "metadata": {},
   "outputs": [],
   "source": [
    "backtest_unitest(['WIPRO','TCS'])"
   ]
  },
  {
   "cell_type": "code",
   "execution_count": null,
   "metadata": {},
   "outputs": [],
   "source": [
    "from lib.charting_lib import *\n",
    "cache_type = 'backtest_uni'\n",
    "chart_type ='haikin'\n",
    "\n",
    "symbol='TCS'\n",
    "my_cache = cache_state(cache_type)\n",
    "\n",
    "#######  Hack for freq  ############\n",
    "my_cache.setValue('TCS','freq','1T')\n",
    "#####################################\n",
    "dfohlc = my_cache.getOHLC(symbol)\n",
    "print(dfohlc.tail())\n",
    "trade_df = pd.read_json(redis_conn.get(symbol+cache_type+'Trade'), orient='columns')\n",
    "\n",
    "render_charts(dfohlc, trade_df, symbol, chart_type)"
   ]
  },
  {
   "cell_type": "code",
   "execution_count": null,
   "metadata": {},
   "outputs": [],
   "source": [
    "cache_state('backtest_uni').getValue()"
   ]
  },
  {
   "cell_type": "markdown",
   "metadata": {},
   "source": [
    "## Live Trade Debugging"
   ]
  },
  {
   "cell_type": "code",
   "execution_count": null,
   "metadata": {
    "scrolled": true
   },
   "outputs": [],
   "source": [
    "live = threadManager('live', [\"ohlc_tick_handler\"], [ohlc_tick_handler])\n"
   ]
  },
  {
   "cell_type": "code",
   "execution_count": null,
   "metadata": {},
   "outputs": [],
   "source": [
    "live_cache.setValue('WIPRO','mode','paper')"
   ]
  },
  {
   "cell_type": "code",
   "execution_count": null,
   "metadata": {},
   "outputs": [],
   "source": [
    "live.job.terminate()\n",
    "live_cache.set('WIPROliveTICK', pd.DataFrame().to_json(orient='columns'))\n",
    "live_cache.setValue('WIPRO','last_processed',0)\n",
    "live_cache.getValue('WIPRO')"
   ]
  },
  {
   "cell_type": "code",
   "execution_count": null,
   "metadata": {},
   "outputs": [],
   "source": [
    "#live_cache.getOHLC('WIPRO') \n",
    "print(live_cache.xrange('msgBufferQueuelive')[-2:])\n",
    "print(datetime.fromtimestamp(int(live_cache.xrange('msgBufferQueuelive')[-1][0].split('-')[0] )/1000))\n"
   ]
  },
  {
   "cell_type": "code",
   "execution_count": null,
   "metadata": {},
   "outputs": [],
   "source": [
    "live_cache.getOHLC('WIPRO').tail()"
   ]
  },
  {
   "cell_type": "code",
   "execution_count": 7,
   "metadata": {},
   "outputs": [
    {
     "data": {
      "text/html": [
       "<div>\n",
       "<style scoped>\n",
       "    .dataframe tbody tr th:only-of-type {\n",
       "        vertical-align: middle;\n",
       "    }\n",
       "\n",
       "    .dataframe tbody tr th {\n",
       "        vertical-align: top;\n",
       "    }\n",
       "\n",
       "    .dataframe thead th {\n",
       "        text-align: right;\n",
       "    }\n",
       "</style>\n",
       "<table border=\"1\" class=\"dataframe\">\n",
       "  <thead>\n",
       "    <tr style=\"text-align: right;\">\n",
       "      <th></th>\n",
       "    </tr>\n",
       "  </thead>\n",
       "  <tbody>\n",
       "  </tbody>\n",
       "</table>\n",
       "</div>"
      ],
      "text/plain": [
       "Empty DataFrame\n",
       "Columns: []\n",
       "Index: []"
      ]
     },
     "execution_count": 7,
     "metadata": {},
     "output_type": "execute_result"
    }
   ],
   "source": [
    "my_cache.getOHLC('TCS')"
   ]
  },
  {
   "cell_type": "markdown",
   "metadata": {},
   "source": [
    "## Quick Backtest"
   ]
  },
  {
   "cell_type": "code",
   "execution_count": 6,
   "metadata": {
    "scrolled": false
   },
   "outputs": [
    {
     "ename": "KeyError",
     "evalue": "'open'",
     "output_type": "error",
     "traceback": [
      "\u001b[0;31m---------------------------------------------------------------------------\u001b[0m",
      "\u001b[0;31mTypeError\u001b[0m                                 Traceback (most recent call last)",
      "\u001b[0;32mpandas/_libs/index.pyx\u001b[0m in \u001b[0;36mpandas._libs.index.IndexEngine.get_loc\u001b[0;34m()\u001b[0m\n",
      "\u001b[0;32mpandas/_libs/hashtable_class_helper.pxi\u001b[0m in \u001b[0;36mpandas._libs.hashtable.Float64HashTable.get_item\u001b[0;34m()\u001b[0m\n",
      "\u001b[0;31mTypeError\u001b[0m: must be real number, not str",
      "\nDuring handling of the above exception, another exception occurred:\n",
      "\u001b[0;31mKeyError\u001b[0m                                  Traceback (most recent call last)",
      "\u001b[0;32m/usr/local/lib/python3.7/site-packages/pandas/core/indexes/base.py\u001b[0m in \u001b[0;36mget_loc\u001b[0;34m(self, key, method, tolerance)\u001b[0m\n\u001b[1;32m   2645\u001b[0m             \u001b[0;32mtry\u001b[0m\u001b[0;34m:\u001b[0m\u001b[0;34m\u001b[0m\u001b[0;34m\u001b[0m\u001b[0m\n\u001b[0;32m-> 2646\u001b[0;31m                 \u001b[0;32mreturn\u001b[0m \u001b[0mself\u001b[0m\u001b[0;34m.\u001b[0m\u001b[0m_engine\u001b[0m\u001b[0;34m.\u001b[0m\u001b[0mget_loc\u001b[0m\u001b[0;34m(\u001b[0m\u001b[0mkey\u001b[0m\u001b[0;34m)\u001b[0m\u001b[0;34m\u001b[0m\u001b[0;34m\u001b[0m\u001b[0m\n\u001b[0m\u001b[1;32m   2647\u001b[0m             \u001b[0;32mexcept\u001b[0m \u001b[0mKeyError\u001b[0m\u001b[0;34m:\u001b[0m\u001b[0;34m\u001b[0m\u001b[0;34m\u001b[0m\u001b[0m\n",
      "\u001b[0;32mpandas/_libs/index.pyx\u001b[0m in \u001b[0;36mpandas._libs.index.IndexEngine.get_loc\u001b[0;34m()\u001b[0m\n",
      "\u001b[0;32mpandas/_libs/index.pyx\u001b[0m in \u001b[0;36mpandas._libs.index.IndexEngine.get_loc\u001b[0;34m()\u001b[0m\n",
      "\u001b[0;31mKeyError\u001b[0m: 'open'",
      "\nDuring handling of the above exception, another exception occurred:\n",
      "\u001b[0;31mTypeError\u001b[0m                                 Traceback (most recent call last)",
      "\u001b[0;32mpandas/_libs/index.pyx\u001b[0m in \u001b[0;36mpandas._libs.index.IndexEngine.get_loc\u001b[0;34m()\u001b[0m\n",
      "\u001b[0;32mpandas/_libs/hashtable_class_helper.pxi\u001b[0m in \u001b[0;36mpandas._libs.hashtable.Float64HashTable.get_item\u001b[0;34m()\u001b[0m\n",
      "\u001b[0;31mTypeError\u001b[0m: must be real number, not str",
      "\nDuring handling of the above exception, another exception occurred:\n",
      "\u001b[0;31mKeyError\u001b[0m                                  Traceback (most recent call last)",
      "\u001b[0;32m<ipython-input-6-2341ce261295>\u001b[0m in \u001b[0;36m<module>\u001b[0;34m\u001b[0m\n\u001b[1;32m     38\u001b[0m \u001b[0;31m################ Initialize Helper Functions ###################\u001b[0m\u001b[0;34m\u001b[0m\u001b[0;34m\u001b[0m\u001b[0;34m\u001b[0m\u001b[0m\n\u001b[1;32m     39\u001b[0m \u001b[0mtrade_df1\u001b[0m \u001b[0;34m=\u001b[0m \u001b[0mpd\u001b[0m\u001b[0;34m.\u001b[0m\u001b[0mDataFrame\u001b[0m\u001b[0;34m(\u001b[0m\u001b[0;34m)\u001b[0m\u001b[0;34m\u001b[0m\u001b[0;34m\u001b[0m\u001b[0m\n\u001b[0;32m---> 40\u001b[0;31m \u001b[0mOPEN\u001b[0m \u001b[0;34m=\u001b[0m \u001b[0mohlc_data_temp\u001b[0m\u001b[0;34m[\u001b[0m\u001b[0;34m'open'\u001b[0m\u001b[0;34m]\u001b[0m\u001b[0;34m\u001b[0m\u001b[0;34m\u001b[0m\u001b[0m\n\u001b[0m\u001b[1;32m     41\u001b[0m \u001b[0mCLOSE\u001b[0m \u001b[0;34m=\u001b[0m \u001b[0mohlc_data_temp\u001b[0m\u001b[0;34m[\u001b[0m\u001b[0;34m'close'\u001b[0m\u001b[0;34m]\u001b[0m\u001b[0;34m\u001b[0m\u001b[0;34m\u001b[0m\u001b[0m\n\u001b[1;32m     42\u001b[0m \u001b[0mHIGH\u001b[0m \u001b[0;34m=\u001b[0m \u001b[0mohlc_data_temp\u001b[0m\u001b[0;34m[\u001b[0m\u001b[0;34m'high'\u001b[0m\u001b[0;34m]\u001b[0m\u001b[0;34m\u001b[0m\u001b[0;34m\u001b[0m\u001b[0m\n",
      "\u001b[0;32m/usr/local/lib/python3.7/site-packages/pandas/core/frame.py\u001b[0m in \u001b[0;36m__getitem__\u001b[0;34m(self, key)\u001b[0m\n\u001b[1;32m   2798\u001b[0m             \u001b[0;32mif\u001b[0m \u001b[0mself\u001b[0m\u001b[0;34m.\u001b[0m\u001b[0mcolumns\u001b[0m\u001b[0;34m.\u001b[0m\u001b[0mnlevels\u001b[0m \u001b[0;34m>\u001b[0m \u001b[0;36m1\u001b[0m\u001b[0;34m:\u001b[0m\u001b[0;34m\u001b[0m\u001b[0;34m\u001b[0m\u001b[0m\n\u001b[1;32m   2799\u001b[0m                 \u001b[0;32mreturn\u001b[0m \u001b[0mself\u001b[0m\u001b[0;34m.\u001b[0m\u001b[0m_getitem_multilevel\u001b[0m\u001b[0;34m(\u001b[0m\u001b[0mkey\u001b[0m\u001b[0;34m)\u001b[0m\u001b[0;34m\u001b[0m\u001b[0;34m\u001b[0m\u001b[0m\n\u001b[0;32m-> 2800\u001b[0;31m             \u001b[0mindexer\u001b[0m \u001b[0;34m=\u001b[0m \u001b[0mself\u001b[0m\u001b[0;34m.\u001b[0m\u001b[0mcolumns\u001b[0m\u001b[0;34m.\u001b[0m\u001b[0mget_loc\u001b[0m\u001b[0;34m(\u001b[0m\u001b[0mkey\u001b[0m\u001b[0;34m)\u001b[0m\u001b[0;34m\u001b[0m\u001b[0;34m\u001b[0m\u001b[0m\n\u001b[0m\u001b[1;32m   2801\u001b[0m             \u001b[0;32mif\u001b[0m \u001b[0mis_integer\u001b[0m\u001b[0;34m(\u001b[0m\u001b[0mindexer\u001b[0m\u001b[0;34m)\u001b[0m\u001b[0;34m:\u001b[0m\u001b[0;34m\u001b[0m\u001b[0;34m\u001b[0m\u001b[0m\n\u001b[1;32m   2802\u001b[0m                 \u001b[0mindexer\u001b[0m \u001b[0;34m=\u001b[0m \u001b[0;34m[\u001b[0m\u001b[0mindexer\u001b[0m\u001b[0;34m]\u001b[0m\u001b[0;34m\u001b[0m\u001b[0;34m\u001b[0m\u001b[0m\n",
      "\u001b[0;32m/usr/local/lib/python3.7/site-packages/pandas/core/indexes/numeric.py\u001b[0m in \u001b[0;36mget_loc\u001b[0;34m(self, key, method, tolerance)\u001b[0m\n\u001b[1;32m    506\u001b[0m         \u001b[0;32mexcept\u001b[0m \u001b[0;34m(\u001b[0m\u001b[0mTypeError\u001b[0m\u001b[0;34m,\u001b[0m \u001b[0mNotImplementedError\u001b[0m\u001b[0;34m)\u001b[0m\u001b[0;34m:\u001b[0m\u001b[0;34m\u001b[0m\u001b[0;34m\u001b[0m\u001b[0m\n\u001b[1;32m    507\u001b[0m             \u001b[0;32mpass\u001b[0m\u001b[0;34m\u001b[0m\u001b[0;34m\u001b[0m\u001b[0m\n\u001b[0;32m--> 508\u001b[0;31m         \u001b[0;32mreturn\u001b[0m \u001b[0msuper\u001b[0m\u001b[0;34m(\u001b[0m\u001b[0;34m)\u001b[0m\u001b[0;34m.\u001b[0m\u001b[0mget_loc\u001b[0m\u001b[0;34m(\u001b[0m\u001b[0mkey\u001b[0m\u001b[0;34m,\u001b[0m \u001b[0mmethod\u001b[0m\u001b[0;34m=\u001b[0m\u001b[0mmethod\u001b[0m\u001b[0;34m,\u001b[0m \u001b[0mtolerance\u001b[0m\u001b[0;34m=\u001b[0m\u001b[0mtolerance\u001b[0m\u001b[0;34m)\u001b[0m\u001b[0;34m\u001b[0m\u001b[0;34m\u001b[0m\u001b[0m\n\u001b[0m\u001b[1;32m    509\u001b[0m \u001b[0;34m\u001b[0m\u001b[0m\n\u001b[1;32m    510\u001b[0m     \u001b[0;34m@\u001b[0m\u001b[0mcache_readonly\u001b[0m\u001b[0;34m\u001b[0m\u001b[0;34m\u001b[0m\u001b[0m\n",
      "\u001b[0;32m/usr/local/lib/python3.7/site-packages/pandas/core/indexes/base.py\u001b[0m in \u001b[0;36mget_loc\u001b[0;34m(self, key, method, tolerance)\u001b[0m\n\u001b[1;32m   2646\u001b[0m                 \u001b[0;32mreturn\u001b[0m \u001b[0mself\u001b[0m\u001b[0;34m.\u001b[0m\u001b[0m_engine\u001b[0m\u001b[0;34m.\u001b[0m\u001b[0mget_loc\u001b[0m\u001b[0;34m(\u001b[0m\u001b[0mkey\u001b[0m\u001b[0;34m)\u001b[0m\u001b[0;34m\u001b[0m\u001b[0;34m\u001b[0m\u001b[0m\n\u001b[1;32m   2647\u001b[0m             \u001b[0;32mexcept\u001b[0m \u001b[0mKeyError\u001b[0m\u001b[0;34m:\u001b[0m\u001b[0;34m\u001b[0m\u001b[0;34m\u001b[0m\u001b[0m\n\u001b[0;32m-> 2648\u001b[0;31m                 \u001b[0;32mreturn\u001b[0m \u001b[0mself\u001b[0m\u001b[0;34m.\u001b[0m\u001b[0m_engine\u001b[0m\u001b[0;34m.\u001b[0m\u001b[0mget_loc\u001b[0m\u001b[0;34m(\u001b[0m\u001b[0mself\u001b[0m\u001b[0;34m.\u001b[0m\u001b[0m_maybe_cast_indexer\u001b[0m\u001b[0;34m(\u001b[0m\u001b[0mkey\u001b[0m\u001b[0;34m)\u001b[0m\u001b[0;34m)\u001b[0m\u001b[0;34m\u001b[0m\u001b[0;34m\u001b[0m\u001b[0m\n\u001b[0m\u001b[1;32m   2649\u001b[0m         \u001b[0mindexer\u001b[0m \u001b[0;34m=\u001b[0m \u001b[0mself\u001b[0m\u001b[0;34m.\u001b[0m\u001b[0mget_indexer\u001b[0m\u001b[0;34m(\u001b[0m\u001b[0;34m[\u001b[0m\u001b[0mkey\u001b[0m\u001b[0;34m]\u001b[0m\u001b[0;34m,\u001b[0m \u001b[0mmethod\u001b[0m\u001b[0;34m=\u001b[0m\u001b[0mmethod\u001b[0m\u001b[0;34m,\u001b[0m \u001b[0mtolerance\u001b[0m\u001b[0;34m=\u001b[0m\u001b[0mtolerance\u001b[0m\u001b[0;34m)\u001b[0m\u001b[0;34m\u001b[0m\u001b[0;34m\u001b[0m\u001b[0m\n\u001b[1;32m   2650\u001b[0m         \u001b[0;32mif\u001b[0m \u001b[0mindexer\u001b[0m\u001b[0;34m.\u001b[0m\u001b[0mndim\u001b[0m \u001b[0;34m>\u001b[0m \u001b[0;36m1\u001b[0m \u001b[0;32mor\u001b[0m \u001b[0mindexer\u001b[0m\u001b[0;34m.\u001b[0m\u001b[0msize\u001b[0m \u001b[0;34m>\u001b[0m \u001b[0;36m1\u001b[0m\u001b[0;34m:\u001b[0m\u001b[0;34m\u001b[0m\u001b[0;34m\u001b[0m\u001b[0m\n",
      "\u001b[0;32mpandas/_libs/index.pyx\u001b[0m in \u001b[0;36mpandas._libs.index.IndexEngine.get_loc\u001b[0;34m()\u001b[0m\n",
      "\u001b[0;32mpandas/_libs/index.pyx\u001b[0m in \u001b[0;36mpandas._libs.index.IndexEngine.get_loc\u001b[0;34m()\u001b[0m\n",
      "\u001b[0;31mKeyError\u001b[0m: 'open'"
     ]
    }
   ],
   "source": [
    "###########################################################\n",
    "###                  Quick Backtest                     ###\n",
    "###########################################################\n",
    "from talib import MACD, MACDEXT, RSI, BBANDS, MACD, AROON, STOCHF, ATR, OBV, ADOSC, MINUS_DI, PLUS_DI, ADX, EMA, SMA\n",
    "from talib import LINEARREG, BETA, LINEARREG_INTERCEPT, LINEARREG_SLOPE, STDDEV, TSF, ADOSC, VAR, ROC, MIN, MAX, MINMAX\n",
    "\n",
    "ohlc_get = lambda df, key: df.iloc[-1][key]\n",
    "def HAIKINASI(ohlc_data_df):\n",
    "    REF = lambda key, i: ohlc_get(ohlc_data_df.shift(i), key)\n",
    "    \n",
    "    OPEN  = ohlc_data_df['open']\n",
    "    HIGH  = ohlc_data_df['high']\n",
    "    LOW   = ohlc_data_df['low']\n",
    "    CLOSE = ohlc_data_df['close']\n",
    "    \n",
    "    haOPEN  = (OPEN.shift(1) + CLOSE.shift(1))/2\n",
    "    haHIGH  = pd.DataFrame([HIGH,OPEN,CLOSE]).max(axis = 0, skipna = True)\n",
    "    haLOW   = pd.DataFrame([LOW,OPEN,CLOSE]).min(axis = 0, skipna = True)\n",
    "    haCLOSE = (OPEN+HIGH+LOW+CLOSE)/4\n",
    "    \n",
    "    return (haOPEN, haHIGH, haLOW, haCLOSE)\n",
    "\n",
    "\n",
    "################ Load Data ###################\n",
    "from lib.charting_lib import *\n",
    "cache_type = 'backtest_uni'\n",
    "symbol='TCS'\n",
    "my_cache = cache_state(cache_type)\n",
    "\n",
    "###  Set Freq for Algo\n",
    "my_cache.setValue('TCS','freq','1T')\n",
    "dfohlc = my_cache.getOHLC(symbol)\n",
    "#print(dfohlc.head())\n",
    "\n",
    "### Load Data\n",
    "ohlc_data_temp = dfohlc\n",
    "pd.set_option('display.max_rows', None)\n",
    "################ Initialize Helper Functions ###################\n",
    "trade_df1 = pd.DataFrame()\n",
    "OPEN = ohlc_data_temp['open']\n",
    "CLOSE = ohlc_data_temp['close']\n",
    "HIGH = ohlc_data_temp['high']\n",
    "LOW = ohlc_data_temp['low']\n",
    "#VOLUME = ohlc_data_temp['volume']\n",
    "\n",
    "(haOPEN, haHIGH, haLOW, haCLOSE) = HAIKINASI(ohlc_data_temp)\n",
    "\n",
    "TIME = ohlc_data_temp.index.minute+ohlc_data_temp.index.hour*60\n",
    "\n",
    "#REF = lambda df, i: df.iloc[-i-1]\n",
    "REF = lambda df, i: df.shift(i)\n",
    "TREND_UP = lambda a,b: ROC(a, b) >= 0.1\n",
    "TREND_DOWN = lambda a,b: ROC(a, b) <= -0.1\n",
    "CROSSOVER = lambda a, b: (REF(a,1)<=REF(b,1)) & (a > b)\n",
    "\n",
    "\n",
    "def BUY(CLOSE, x, trade_df1):\n",
    "    #global trade_df1\n",
    "    tmp_df = pd.DataFrame()\n",
    "    tmp_df[\"buy\"] = CLOSE[x]\n",
    "    trade_df1 = trade_df1.append(tmp_df)\n",
    "    return trade_df1\n",
    "\n",
    "def SELL(CLOSE, x, trade_df1):\n",
    "    #global trade_df1\n",
    "    tmp_df = pd.DataFrame()\n",
    "    tmp_df[\"sell\"] = CLOSE[x]\n",
    "    trade_df1 = trade_df1.append(tmp_df)\n",
    "    return trade_df1\n",
    "    \n",
    "################# Write Algo For Backtest Here ###################\n",
    "\n",
    "roc = ROC(CLOSE, 10)\n",
    "bbh, bbm, bbl = BBANDS(CLOSE)\n",
    "\n",
    "delbb = bbh - bbl\n",
    "\n",
    "#sell = (REF(roc,0) > 0.1) & (REF(haOPEN, 0) > REF(haCLOSE,0)) & (REF(haOPEN, 1) < REF(haCLOSE,1))\n",
    "#buy = (REF(roc,0) < -0.1) & (REF(haOPEN, 0) < REF(haCLOSE,0)) & (REF(haOPEN, 1) > REF(haCLOSE,1))\n",
    "buy = delbb > 2.1 * REF(delbb, 3)\n",
    "sell = delbb < 0.4 * REF(delbb, 3)\n",
    "\n",
    "logic = buy | sell\n",
    "\n",
    "summary_df = trade_df1.copy(deep=True)\n",
    "#summary_df['haopen'] = haOPEN[ logic ]\n",
    "#summary_df['haclose'] = haCLOSE[ logic ]\n",
    "summary_df['roc'] = ROC(CLOSE, 30)[logic]\n",
    "\n",
    "#print(summary_df.sort_index())\n",
    "#print(summary_df.sort_index().tail(10))\n",
    "#print(ROC(CLOSE,3))\n",
    "#################### Render Charts ###############################\n",
    "\n",
    "trade_df1 = SELL(CLOSE, sell, trade_df1)\n",
    "trade_df1 = BUY(CLOSE, buy, trade_df1)\n",
    "\n",
    "#print(trade_df1.sort_index())\n",
    "my_cache.setCache(symbol+cache_type+'Trade',trade_df1)\n",
    "#my_cache.pushTrade(symbol, trade_df1)\n",
    "\n",
    "chart_type ='haikin'\n",
    "trade_df = pd.read_json(redis_conn.get(symbol+cache_type+'Trade'), orient='columns')\n",
    "\n",
    "\n",
    "render_charts(ohlc_data_temp, trade_df, symbol, chart_type)"
   ]
  },
  {
   "cell_type": "code",
   "execution_count": null,
   "metadata": {
    "scrolled": false
   },
   "outputs": [],
   "source": [
    "\n",
    "state = 'WAIT'\n",
    "profit = 0\n",
    "for index, row in trade_df.sort_index().fillna(0).iterrows():\n",
    "    if state == 'WAIT':\n",
    "        if row['sell']!=0:\n",
    "            #print(\"S: ->: {}\".format(row['sell']))\n",
    "            state = 'SELL'\n",
    "            profit = profit + row['sell']\n",
    "        elif row['buy']!=0:\n",
    "            #print(\"B: ->: {}\".format(row['buy']))\n",
    "            state = 'BUY'\n",
    "            profit = profit - row['buy']\n",
    "    elif state == 'BUY':\n",
    "        if row['sell']!=0:\n",
    "            #print(\"S: <-: {}\".format(row['sell']))\n",
    "            state = 'WAIT'\n",
    "            profit = profit + row['sell']\n",
    "    elif state == 'SELL':\n",
    "        if row['buy']!=0:\n",
    "            #print(\"B: <-: {}\".format(row['buy']))\n",
    "            state = 'WAIT'\n",
    "            profit = profit - row['buy']\n",
    "    \n",
    "if state == 'BUY':\n",
    "    profit = profit + row['buy']\n",
    "elif state == 'SELL':\n",
    "    profit = profit - row['sell']\n",
    "    \n",
    "print(\"Total Profit: {}\".format(profit))"
   ]
  },
  {
   "cell_type": "code",
   "execution_count": null,
   "metadata": {},
   "outputs": [],
   "source": [
    "bbh, bbm, bbl = BBANDS(CLOSE)\n",
    "\n",
    "print(pd.DataFrame(data={'bbl':bbl, 'bbm':bbm, 'bbh':bbh, 'del':(bbh-bbl)/bbl*100}))"
   ]
  },
  {
   "cell_type": "code",
   "execution_count": null,
   "metadata": {},
   "outputs": [],
   "source": [
    "(bbh-bbl)/bbl*100"
   ]
  },
  {
   "cell_type": "code",
   "execution_count": null,
   "metadata": {},
   "outputs": [],
   "source": [
    "cache_type = 'backtest_web'\n",
    "symbol='TCS'\n",
    "my_cache = cache_state(cache_type)\n",
    "my_cache.getTrades(symbol)\n",
    "\n",
    "my_cache.get('TCSbacktest_webTrades')"
   ]
  },
  {
   "cell_type": "code",
   "execution_count": null,
   "metadata": {},
   "outputs": [],
   "source": [
    "my_cache.getValue()"
   ]
  },
  {
   "cell_type": "code",
   "execution_count": null,
   "metadata": {
    "scrolled": false
   },
   "outputs": [],
   "source": [
    "temp_file = pd.HDFStore(\"data/kite_cache.h5\", mode=\"r\")\n",
    "temp_file.keys()"
   ]
  },
  {
   "cell_type": "code",
   "execution_count": null,
   "metadata": {},
   "outputs": [],
   "source": []
  },
  {
   "cell_type": "markdown",
   "metadata": {},
   "source": [
    "## Redis Console"
   ]
  },
  {
   "cell_type": "code",
   "execution_count": 4,
   "metadata": {
    "scrolled": true
   },
   "outputs": [],
   "source": [
    "from lib.multitasking_lib import *\n",
    "#from lib.data_model_lib import *\n",
    "import json\n",
    "web_cache = cache_state('backtest_web')\n",
    "live_cache = cache_state('live')\n",
    "uni_cache = cache_state('backtest_uni')\n",
    "\n",
    "pd.set_option('display.max_rows', None)"
   ]
  },
  {
   "cell_type": "code",
   "execution_count": null,
   "metadata": {},
   "outputs": [],
   "source": [
    "live_cache.pubsub_channels()"
   ]
  },
  {
   "cell_type": "code",
   "execution_count": 4,
   "metadata": {},
   "outputs": [
    {
     "data": {
      "text/plain": [
       "[]"
      ]
     },
     "execution_count": 4,
     "metadata": {},
     "output_type": "execute_result"
    }
   ],
   "source": [
    "live_cache.xread({'notificationQueuelivenew':0}, block=2000, count=5000)"
   ]
  },
  {
   "cell_type": "code",
   "execution_count": null,
   "metadata": {},
   "outputs": [],
   "source": []
  },
  {
   "cell_type": "code",
   "execution_count": null,
   "metadata": {},
   "outputs": [],
   "source": [
    "live_cache.remove()"
   ]
  },
  {
   "cell_type": "code",
   "execution_count": null,
   "metadata": {},
   "outputs": [],
   "source": [
    "df = uni_cache.getValue()\n",
    "df"
   ]
  },
  {
   "cell_type": "code",
   "execution_count": null,
   "metadata": {
    "scrolled": true
   },
   "outputs": [],
   "source": [
    "live_cache.getOHLC('TCS')"
   ]
  },
  {
   "cell_type": "code",
   "execution_count": null,
   "metadata": {},
   "outputs": [],
   "source": [
    "trades_df = live_cache.getTrades('TCS')\n",
    "trades_df"
   ]
  },
  {
   "cell_type": "code",
   "execution_count": null,
   "metadata": {},
   "outputs": [],
   "source": [
    "(total_profit, max_loss, max_profit, total_win, total_loss, max_winning_streak, max_loosing_streak, trade_log_df) = trade_analysis_raw(trades_df)"
   ]
  },
  {
   "cell_type": "code",
   "execution_count": null,
   "metadata": {},
   "outputs": [],
   "source": [
    "import pandas as pd\n",
    "import plotly\n",
    "import plotly.graph_objs as go\n",
    "from datetime import datetime as dt\n",
    "from datetime import timedelta\n",
    "from plotly.subplots import make_subplots\n",
    "import plotly.graph_objects as go\n",
    "\n",
    "from lib.multitasking_lib import *\n",
    "from plotly.offline import download_plotlyjs, init_notebook_mode, plot, iplot"
   ]
  },
  {
   "cell_type": "markdown",
   "metadata": {},
   "source": [
    "### GetData"
   ]
  },
  {
   "cell_type": "code",
   "execution_count": null,
   "metadata": {},
   "outputs": [],
   "source": [
    "logger.setLevel(logging.DEBUG)\n",
    "stock = 'WIPRO'\n",
    "fromDate = '2019-4-22'\n",
    "toDate  = '2019-4-24'\n",
    "freq = 'minute'\n",
    "mydate = fromDate\n",
    "exchange = 'NSE'\n",
    "ohlc_data = {}\n",
    "ohlc_data[stock] = getData(stock, fromDate, toDate, exchange, freq, False, stock)"
   ]
  },
  {
   "cell_type": "code",
   "execution_count": null,
   "metadata": {},
   "outputs": [],
   "source": [
    "ohlc_data[stock].head()"
   ]
  },
  {
   "cell_type": "markdown",
   "metadata": {},
   "source": [
    "# Kite Connect"
   ]
  },
  {
   "cell_type": "code",
   "execution_count": 17,
   "metadata": {},
   "outputs": [
    {
     "name": "stdout",
     "output_type": "stream",
     "text": [
      "2307bLkt0EWdWt1DfTmSx9AxRg91l4V8\n",
      "b2w0sfnr1zr92nxm\n"
     ]
    }
   ],
   "source": [
    "from kiteconnect import KiteConnect\n",
    "kite_api_key = 'b2w0sfnr1zr92nxm'\n",
    "live_cache.set('KiteAPIKey',kite_api_key)\n",
    "access_token = live_cache.get('access_token')\n",
    "print(access_token)\n",
    "print(live_cache.get('KiteAPIKey'))\n",
    "\n",
    "kite = KiteConnect(api_key=kite_api_key)\n",
    "kite.set_access_token(access_token)"
   ]
  },
  {
   "cell_type": "code",
   "execution_count": null,
   "metadata": {},
   "outputs": [],
   "source": [
    "kite.access_token"
   ]
  },
  {
   "cell_type": "code",
   "execution_count": null,
   "metadata": {},
   "outputs": [],
   "source": []
  },
  {
   "cell_type": "code",
   "execution_count": null,
   "metadata": {},
   "outputs": [],
   "source": [
    "kite.profile()"
   ]
  },
  {
   "cell_type": "code",
   "execution_count": null,
   "metadata": {},
   "outputs": [],
   "source": [
    "cancel_order('CIPLA')"
   ]
  },
  {
   "cell_type": "code",
   "execution_count": null,
   "metadata": {
    "scrolled": true
   },
   "outputs": [],
   "source": [
    "orders_df = pd.DataFrame(kite.orders())\n",
    "orders_df[['order_id','status','tradingsymbol','transaction_type','quantity','tag','price']]"
   ]
  },
  {
   "cell_type": "code",
   "execution_count": null,
   "metadata": {},
   "outputs": [],
   "source": []
  },
  {
   "cell_type": "code",
   "execution_count": null,
   "metadata": {},
   "outputs": [],
   "source": [
    "live_cache.getValue()"
   ]
  },
  {
   "cell_type": "code",
   "execution_count": null,
   "metadata": {},
   "outputs": [],
   "source": [
    "position_df = pd.DataFrame(kite.positions()['net'])\n",
    "position_df"
   ]
  },
  {
   "cell_type": "code",
   "execution_count": 20,
   "metadata": {},
   "outputs": [
    {
     "data": {
      "text/plain": [
       "Index(['tradingsymbol', 'exchange', 'instrument_token', 'product', 'quantity',\n",
       "       'overnight_quantity', 'multiplier', 'average_price', 'close_price',\n",
       "       'last_price', 'value', 'pnl', 'm2m', 'unrealised', 'realised',\n",
       "       'buy_quantity', 'buy_price', 'buy_value', 'buy_m2m', 'sell_quantity',\n",
       "       'sell_price', 'sell_value', 'sell_m2m', 'day_buy_quantity',\n",
       "       'day_buy_price', 'day_buy_value', 'day_sell_quantity', 'day_sell_price',\n",
       "       'day_sell_value'],\n",
       "      dtype='object')"
      ]
     },
     "execution_count": 20,
     "metadata": {},
     "output_type": "execute_result"
    }
   ],
   "source": [
    "pd.DataFrame(kite.positions()['net']).columns"
   ]
  },
  {
   "cell_type": "code",
   "execution_count": null,
   "metadata": {},
   "outputs": [],
   "source": [
    "orders_df = pd.DataFrame()\n",
    "for msg in live_cache.xrange('notificationQueuelivenew'):\n",
    "    tmp_df = pd.DataFrame.from_dict(json.loads(msg[1]['data']), orient='index').transpose()\n",
    "    orders_df = orders_df.append(tmp_df)\n",
    "    #print(msg)\n",
    "orders_df[['order_id', 'status', 'tradingsymbol','order_type','transaction_type','quantity', 'average_price']]"
   ]
  },
  {
   "cell_type": "code",
   "execution_count": null,
   "metadata": {},
   "outputs": [],
   "source": []
  },
  {
   "cell_type": "code",
   "execution_count": null,
   "metadata": {},
   "outputs": [],
   "source": []
  },
  {
   "cell_type": "code",
   "execution_count": null,
   "metadata": {},
   "outputs": [],
   "source": [
    "orders_df.columns"
   ]
  },
  {
   "cell_type": "code",
   "execution_count": null,
   "metadata": {},
   "outputs": [],
   "source": [
    "live_cache.getValue().columns"
   ]
  },
  {
   "cell_type": "code",
   "execution_count": null,
   "metadata": {
    "scrolled": true
   },
   "outputs": [],
   "source": [
    "kite.margins()"
   ]
  },
  {
   "cell_type": "markdown",
   "metadata": {},
   "source": [
    "#### Starting Live Trade for a stock"
   ]
  },
  {
   "cell_type": "code",
   "execution_count": null,
   "metadata": {},
   "outputs": [],
   "source": [
    "symbol = 'INFY'\n",
    "live_cache.add(symbol)\n",
    "token = int(live_cache.hmget('eq_token',symbol)[0])\n",
    "live_cache.publish('live_trade_handlerlive', json.dumps({'cmd':'add','value':[token],'mode':'ltp'}))\n",
    "\n",
    "live_cache.setValue(symbol,'qty','1')\n",
    "live_cache.setValue(symbol,'SL %','0.4')\n",
    "live_cache.setValue(symbol,'TP %','1')\n",
    "live_cache.setValue(symbol,'algo','haikin_1_new')\n",
    "live_cache.setValue(symbol,'freq','1T')\n",
    "live_cache.setValue(symbol,'last_processed',datetime.now().timestamp())\n",
    "live_cache.setValue(symbol,'mode','paper')"
   ]
  },
  {
   "cell_type": "code",
   "execution_count": null,
   "metadata": {},
   "outputs": [],
   "source": [
    "symbol = 'WIPRO'\n",
    "live_cache.setValue(symbol,'last_processed',datetime.now().timestamp())"
   ]
  },
  {
   "cell_type": "code",
   "execution_count": null,
   "metadata": {},
   "outputs": [],
   "source": [
    "datetime.now().timestamp()"
   ]
  },
  {
   "cell_type": "code",
   "execution_count": null,
   "metadata": {},
   "outputs": [],
   "source": [
    "symbol = 'INFY'\n",
    "live_cache.setValue(symbol,'mode','PAUSE')"
   ]
  },
  {
   "cell_type": "code",
   "execution_count": null,
   "metadata": {},
   "outputs": [],
   "source": [
    "live_cache.getValue(symbol)"
   ]
  },
  {
   "cell_type": "markdown",
   "metadata": {},
   "source": [
    "### Kite Ticker Handler Manipulation"
   ]
  },
  {
   "cell_type": "code",
   "execution_count": null,
   "metadata": {},
   "outputs": [],
   "source": [
    "#live_cache.publish('live_trade_handlerlive','profile')\n",
    "live_cache.publish('live_trade_handlerlive','status')"
   ]
  },
  {
   "cell_type": "code",
   "execution_count": null,
   "metadata": {},
   "outputs": [],
   "source": [
    "live_cache.publish('kite_ticker_handlerlive','INIT')"
   ]
  },
  {
   "cell_type": "code",
   "execution_count": null,
   "metadata": {},
   "outputs": [],
   "source": [
    "live_cache.publish('kite_ticker_handlerlive','CLOSE')"
   ]
  },
  {
   "cell_type": "code",
   "execution_count": null,
   "metadata": {},
   "outputs": [],
   "source": [
    "live_cache.publish('kite_ticker_handlerlive','START')"
   ]
  },
  {
   "cell_type": "code",
   "execution_count": null,
   "metadata": {},
   "outputs": [],
   "source": [
    "live_cache.publish('kite_ticker_handlerlive','profile')"
   ]
  },
  {
   "cell_type": "code",
   "execution_count": null,
   "metadata": {},
   "outputs": [],
   "source": [
    "live_cache.smembers('live_token')"
   ]
  },
  {
   "cell_type": "code",
   "execution_count": null,
   "metadata": {},
   "outputs": [],
   "source": [
    "values = list(map(int,live_cache.smembers('ticker_list')))\n",
    "values"
   ]
  },
  {
   "cell_type": "code",
   "execution_count": null,
   "metadata": {},
   "outputs": [],
   "source": [
    "live_cache.publish('kite_ticker_handlerlive',json.dumps({'cmd':'add','value':values,'mode':'ltp'}))"
   ]
  },
  {
   "cell_type": "code",
   "execution_count": null,
   "metadata": {},
   "outputs": [],
   "source": [
    "live_cache.publish('kite_ticker_handlerlive',json.dumps({'cmd':'remove','value':[1510401],'mode':'quote'}))\n"
   ]
  },
  {
   "cell_type": "code",
   "execution_count": null,
   "metadata": {},
   "outputs": [],
   "source": [
    "pd.DataFrame(kite.orders())"
   ]
  },
  {
   "cell_type": "markdown",
   "metadata": {},
   "source": [
    "#### TickerList Manipulaitons"
   ]
  },
  {
   "cell_type": "code",
   "execution_count": null,
   "metadata": {},
   "outputs": [],
   "source": [
    "live_cache.sadd('ticker_list','2953217')\n",
    "live_cache.sadd('ticker_list','969473')\n",
    "\n",
    "live_cache.sadd('ticker_list','1510401')"
   ]
  },
  {
   "cell_type": "code",
   "execution_count": null,
   "metadata": {},
   "outputs": [],
   "source": [
    "values = list(map(int,live_cache.smembers('ticker_list')))\n",
    "print(values)\n",
    "live_cache.hmget('eq_token', values)"
   ]
  },
  {
   "cell_type": "code",
   "execution_count": null,
   "metadata": {},
   "outputs": [],
   "source": [
    "live_cache.srem('ticker_list',1510401)"
   ]
  },
  {
   "cell_type": "code",
   "execution_count": null,
   "metadata": {},
   "outputs": [],
   "source": [
    "live_cache.sismember('ticker_list',4268801)"
   ]
  },
  {
   "cell_type": "code",
   "execution_count": null,
   "metadata": {},
   "outputs": [],
   "source": [
    "live_cache.delete('ticker_list')"
   ]
  },
  {
   "cell_type": "code",
   "execution_count": null,
   "metadata": {},
   "outputs": [],
   "source": [
    "live_cache.getValue()"
   ]
  },
  {
   "cell_type": "markdown",
   "metadata": {},
   "source": [
    "### Get Kite Ticker Status"
   ]
  },
  {
   "cell_type": "code",
   "execution_count": null,
   "metadata": {},
   "outputs": [],
   "source": [
    "## Get Status of Kite\n",
    "live_cache.get('Kite_Status')"
   ]
  },
  {
   "cell_type": "markdown",
   "metadata": {},
   "source": [
    "### OrderHandler Monitor and Manipulation"
   ]
  },
  {
   "cell_type": "code",
   "execution_count": null,
   "metadata": {},
   "outputs": [],
   "source": [
    "# Pause Ordering\n",
    "live_cache.publish('order_handlerlive', 'pause')"
   ]
  },
  {
   "cell_type": "code",
   "execution_count": null,
   "metadata": {},
   "outputs": [],
   "source": [
    "# Resume Ordering\n",
    "live_cache.publish('order_handlerlive', 'resume')"
   ]
  },
  {
   "cell_type": "code",
   "execution_count": null,
   "metadata": {},
   "outputs": [],
   "source": [
    "# Buy\n",
    "live_cache.publish('order_handlerlive',json.dumps({'cmd':'buy','symbol':'WIPRO','price':180,'qty':1}))"
   ]
  },
  {
   "cell_type": "code",
   "execution_count": null,
   "metadata": {},
   "outputs": [],
   "source": [
    "# Sell\n",
    "live_cache.publish('order_handlerlive',json.dumps({'cmd':'sell','symbol':'WIPRO','price':190,'qty':1}))"
   ]
  },
  {
   "cell_type": "code",
   "execution_count": null,
   "metadata": {},
   "outputs": [],
   "source": [
    "# Cancel\n",
    "live_cache.publish('order_handlerlive',json.dumps({'cmd':'cancel','symbol':'WIPRO'}))"
   ]
  },
  {
   "cell_type": "code",
   "execution_count": null,
   "metadata": {},
   "outputs": [],
   "source": [
    "live_cache.publish('order_handlerlive',json.dumps({'cmd':'getOrders'}))"
   ]
  },
  {
   "cell_type": "code",
   "execution_count": null,
   "metadata": {},
   "outputs": [],
   "source": [
    "## Cancel All the orders\n",
    "live_cache.publish('order_handlerlive',json.dumps({'cmd':'cancelAll'}))"
   ]
  },
  {
   "cell_type": "code",
   "execution_count": null,
   "metadata": {},
   "outputs": [],
   "source": [
    "#from lib.kite_wrapper_lib import *\n",
    "cancel_order(kite,['CIPLA'])"
   ]
  },
  {
   "cell_type": "code",
   "execution_count": null,
   "metadata": {},
   "outputs": [],
   "source": [
    "buy_limit('WIPRO',188.5,1)"
   ]
  },
  {
   "cell_type": "code",
   "execution_count": null,
   "metadata": {},
   "outputs": [],
   "source": [
    "sell_limit('WIPRO',188.7,1)"
   ]
  },
  {
   "cell_type": "code",
   "execution_count": null,
   "metadata": {
    "scrolled": true
   },
   "outputs": [],
   "source": [
    "live_cache.getOHLC('WIPRO').tail(10)"
   ]
  },
  {
   "cell_type": "code",
   "execution_count": null,
   "metadata": {},
   "outputs": [],
   "source": [
    "kite.cancel_order(kite.VARIETY_REGULAR, 200511002924441, parent_order_id=None)"
   ]
  },
  {
   "cell_type": "code",
   "execution_count": null,
   "metadata": {},
   "outputs": [],
   "source": [
    "kite.convert_position(kite.EXCHANGE_NSE, 'WIPRO', transaction_type, position_type, quantity, old_product, new_product)\n"
   ]
  },
  {
   "cell_type": "code",
   "execution_count": null,
   "metadata": {},
   "outputs": [],
   "source": [
    "kite.modify_order(kite.VARIETY_REGULAR, 200511003019322, parent_order_id=None, quantity=None, price=187.4, order_type=None, trigger_price=None, validity=None, disclosed_quantity=None)\n"
   ]
  },
  {
   "cell_type": "code",
   "execution_count": null,
   "metadata": {},
   "outputs": [],
   "source": [
    "msg = {'data': '[{\"tradable\": true, \"mode\": \"quote\", \"instrument_token\": 969473, \"last_price\": 184.7, \"last_quantity\": 5, \"average_price\": 187.07, \"volume\": 4393242, \"buy_quantity\": 0, \"sell_quantity\": 0, \"ohlc\": {\"open\": 185.0, \"high\": 189.95, \"low\": 184.1, \"close\": 184.0}, \"change\": 0.38043478260868946}, {\"tradable\": true, \"mode\": \"quote\", \"instrument_token\": 2953217, \"last_price\": 1935.3, \"last_quantity\": 25, \"average_price\": 1939.47, \"volume\": 2449395, \"buy_quantity\": 0, \"sell_quantity\": 0, \"ohlc\": {\"open\": 1909.0, \"high\": 1951.4, \"low\": 1909.0, \"close\": 1893.4}, \"change\": 2.2129502482306886}]'}"
   ]
  },
  {
   "cell_type": "code",
   "execution_count": null,
   "metadata": {},
   "outputs": [],
   "source": [
    "msg['data']"
   ]
  },
  {
   "cell_type": "code",
   "execution_count": null,
   "metadata": {},
   "outputs": [],
   "source": [
    "val = json.loads(msg['data'])"
   ]
  },
  {
   "cell_type": "markdown",
   "metadata": {},
   "source": [
    "##### Reset state for tradejob"
   ]
  },
  {
   "cell_type": "code",
   "execution_count": null,
   "metadata": {},
   "outputs": [],
   "source": [
    "live_cache.setValue('WIPRO','state','SCANNING')"
   ]
  },
  {
   "cell_type": "markdown",
   "metadata": {},
   "source": [
    "### Live Cache State Monitor and manipulation"
   ]
  },
  {
   "cell_type": "code",
   "execution_count": 7,
   "metadata": {},
   "outputs": [
    {
     "data": {
      "text/html": [
       "<div>\n",
       "<style scoped>\n",
       "    .dataframe tbody tr th:only-of-type {\n",
       "        vertical-align: middle;\n",
       "    }\n",
       "\n",
       "    .dataframe tbody tr th {\n",
       "        vertical-align: top;\n",
       "    }\n",
       "\n",
       "    .dataframe thead th {\n",
       "        text-align: right;\n",
       "    }\n",
       "</style>\n",
       "<table border=\"1\" class=\"dataframe\">\n",
       "  <thead>\n",
       "    <tr style=\"text-align: right;\">\n",
       "      <th></th>\n",
       "      <th>stock</th>\n",
       "      <th>qty</th>\n",
       "      <th>SL %</th>\n",
       "      <th>TP %</th>\n",
       "      <th>amount</th>\n",
       "      <th>price</th>\n",
       "      <th>P&amp;L</th>\n",
       "      <th>P&amp;L %</th>\n",
       "      <th>Total P&amp;L</th>\n",
       "      <th>Total P&amp;L %</th>\n",
       "      <th>...</th>\n",
       "      <th>ltp %</th>\n",
       "      <th>tp</th>\n",
       "      <th>high</th>\n",
       "      <th>last_processed</th>\n",
       "      <th>state</th>\n",
       "      <th>mode</th>\n",
       "      <th>algo</th>\n",
       "      <th>freq</th>\n",
       "      <th>hdf_freq</th>\n",
       "      <th>order_id</th>\n",
       "    </tr>\n",
       "  </thead>\n",
       "  <tbody>\n",
       "    <tr>\n",
       "      <th>0</th>\n",
       "      <td>WIPRO</td>\n",
       "      <td>1</td>\n",
       "      <td>0.4</td>\n",
       "      <td>1.5</td>\n",
       "      <td>185.1</td>\n",
       "      <td>185.1</td>\n",
       "      <td>-0.75</td>\n",
       "      <td>-0.40683482506102525</td>\n",
       "      <td>184.05000000000004</td>\n",
       "      <td>99.43273905996762</td>\n",
       "      <td>...</td>\n",
       "      <td>0.0</td>\n",
       "      <td>0</td>\n",
       "      <td>185.1</td>\n",
       "      <td>1589886717.871</td>\n",
       "      <td>SCANNING</td>\n",
       "      <td>pause</td>\n",
       "      <td>haikin_1_new_roc</td>\n",
       "      <td>1T</td>\n",
       "      <td>minute</td>\n",
       "      <td>200519003064351</td>\n",
       "    </tr>\n",
       "    <tr>\n",
       "      <th>1</th>\n",
       "      <td>BPCL</td>\n",
       "      <td>1</td>\n",
       "      <td>0.4</td>\n",
       "      <td>1.5</td>\n",
       "      <td>292.95</td>\n",
       "      <td>0</td>\n",
       "      <td>-3.0500000000000114</td>\n",
       "      <td>-1.0304054054054093</td>\n",
       "      <td>0.75</td>\n",
       "      <td>0.2560163850486431</td>\n",
       "      <td>...</td>\n",
       "      <td>0.0</td>\n",
       "      <td>0</td>\n",
       "      <td>299.0</td>\n",
       "      <td>1589886717.871</td>\n",
       "      <td>SCANNING</td>\n",
       "      <td>pause</td>\n",
       "      <td>haikin_1_new_roc</td>\n",
       "      <td>1T</td>\n",
       "      <td>day</td>\n",
       "      <td>0</td>\n",
       "    </tr>\n",
       "    <tr>\n",
       "      <th>2</th>\n",
       "      <td>INFRATEL</td>\n",
       "      <td>1</td>\n",
       "      <td>0.4</td>\n",
       "      <td>1.5</td>\n",
       "      <td>212.6</td>\n",
       "      <td>212.6</td>\n",
       "      <td>0</td>\n",
       "      <td>0</td>\n",
       "      <td>7.599999999999994</td>\n",
       "      <td>3.5747883349012204</td>\n",
       "      <td>...</td>\n",
       "      <td>0.0</td>\n",
       "      <td>215.789</td>\n",
       "      <td>220.6</td>\n",
       "      <td>1589886717.871</td>\n",
       "      <td>SCANNING</td>\n",
       "      <td>live</td>\n",
       "      <td>haikin_1_new_roc</td>\n",
       "      <td>1T</td>\n",
       "      <td>day</td>\n",
       "      <td>200519001474585</td>\n",
       "    </tr>\n",
       "  </tbody>\n",
       "</table>\n",
       "<p>3 rows × 23 columns</p>\n",
       "</div>"
      ],
      "text/plain": [
       "      stock qty SL % TP %  amount  price                  P&L  \\\n",
       "0     WIPRO   1  0.4  1.5   185.1  185.1                -0.75   \n",
       "1      BPCL   1  0.4  1.5  292.95      0  -3.0500000000000114   \n",
       "2  INFRATEL   1  0.4  1.5   212.6  212.6                    0   \n",
       "\n",
       "                  P&L %           Total P&L         Total P&L %  ... ltp %  \\\n",
       "0  -0.40683482506102525  184.05000000000004   99.43273905996762  ...   0.0   \n",
       "1   -1.0304054054054093                0.75  0.2560163850486431  ...   0.0   \n",
       "2                     0   7.599999999999994  3.5747883349012204  ...   0.0   \n",
       "\n",
       "        tp   high  last_processed     state   mode              algo freq  \\\n",
       "0        0  185.1  1589886717.871  SCANNING  pause  haikin_1_new_roc   1T   \n",
       "1        0  299.0  1589886717.871  SCANNING  pause  haikin_1_new_roc   1T   \n",
       "2  215.789  220.6  1589886717.871  SCANNING   live  haikin_1_new_roc   1T   \n",
       "\n",
       "  hdf_freq         order_id  \n",
       "0   minute  200519003064351  \n",
       "1      day                0  \n",
       "2      day  200519001474585  \n",
       "\n",
       "[3 rows x 23 columns]"
      ]
     },
     "execution_count": 7,
     "metadata": {},
     "output_type": "execute_result"
    }
   ],
   "source": [
    "live_cache.getValue()"
   ]
  },
  {
   "cell_type": "code",
   "execution_count": null,
   "metadata": {},
   "outputs": [],
   "source": []
  },
  {
   "cell_type": "code",
   "execution_count": null,
   "metadata": {},
   "outputs": [],
   "source": [
    "#Modify cache table\n",
    "stock_key = 'CIPLA'\n",
    "#live_cache.add(stock_key, True) #TODO: While adding stock to table use True\n",
    "live_cache.setValue(stock_key, 'algo', 'haikin_1_new')\n",
    "live_cache.setValue(stock_key, 'freq', '1T')\n",
    "live_cache.setValue(stock_key, 'qty', 1)\n",
    "live_cache.setValue(stock_key, 'SL %', 1)\n",
    "live_cache.setValue(stock_key, 'TP %', 1)\n",
    "live_cache.setValue(stock_key, 'P&L', 0)\n",
    "live_cache.setValue(stock_key, 'Total P&L', 0)\n",
    "live_cache.setValue(stock_key, 'price', 0)\n",
    "live_cache.setValue(stock_key, 'hdf_freq', 'minute')\n",
    "live_cache.getValue()"
   ]
  },
  {
   "cell_type": "code",
   "execution_count": null,
   "metadata": {},
   "outputs": [],
   "source": [
    "live_cache.setValue('WIPRO', 'mode', 'paper')"
   ]
  },
  {
   "cell_type": "code",
   "execution_count": null,
   "metadata": {},
   "outputs": [],
   "source": [
    "#live_cache.remove('AXISBANK')\n",
    "live_cache.getValue()"
   ]
  },
  {
   "cell_type": "code",
   "execution_count": null,
   "metadata": {},
   "outputs": [],
   "source": [
    "live_cache.remove()"
   ]
  },
  {
   "cell_type": "markdown",
   "metadata": {},
   "source": [
    "#### Get token for Stock symbol"
   ]
  },
  {
   "cell_type": "code",
   "execution_count": null,
   "metadata": {},
   "outputs": [],
   "source": [
    "live_cache.hmget('eq_token',['CIPLA','INFY'])"
   ]
  },
  {
   "cell_type": "code",
   "execution_count": null,
   "metadata": {},
   "outputs": [],
   "source": [
    "live_cache.hmget('eq_token',['TCS','WIPRO','AXISBANK'])"
   ]
  },
  {
   "cell_type": "markdown",
   "metadata": {},
   "source": [
    "#### Peek into OHLC buffer"
   ]
  },
  {
   "cell_type": "code",
   "execution_count": 9,
   "metadata": {},
   "outputs": [
    {
     "data": {
      "text/html": [
       "<div>\n",
       "<style scoped>\n",
       "    .dataframe tbody tr th:only-of-type {\n",
       "        vertical-align: middle;\n",
       "    }\n",
       "\n",
       "    .dataframe tbody tr th {\n",
       "        vertical-align: top;\n",
       "    }\n",
       "\n",
       "    .dataframe thead th {\n",
       "        text-align: right;\n",
       "    }\n",
       "</style>\n",
       "<table border=\"1\" class=\"dataframe\">\n",
       "  <thead>\n",
       "    <tr style=\"text-align: right;\">\n",
       "      <th></th>\n",
       "      <th>close</th>\n",
       "      <th>high</th>\n",
       "      <th>low</th>\n",
       "      <th>open</th>\n",
       "    </tr>\n",
       "  </thead>\n",
       "  <tbody>\n",
       "    <tr>\n",
       "      <th>2020-05-21 10:32:00</th>\n",
       "      <td>207.50</td>\n",
       "      <td>208.35</td>\n",
       "      <td>207.45</td>\n",
       "      <td>208.25</td>\n",
       "    </tr>\n",
       "    <tr>\n",
       "      <th>2020-05-21 10:33:00</th>\n",
       "      <td>207.30</td>\n",
       "      <td>207.70</td>\n",
       "      <td>207.10</td>\n",
       "      <td>207.50</td>\n",
       "    </tr>\n",
       "    <tr>\n",
       "      <th>2020-05-21 10:34:00</th>\n",
       "      <td>207.50</td>\n",
       "      <td>207.65</td>\n",
       "      <td>207.25</td>\n",
       "      <td>207.30</td>\n",
       "    </tr>\n",
       "    <tr>\n",
       "      <th>2020-05-21 10:35:00</th>\n",
       "      <td>206.65</td>\n",
       "      <td>207.50</td>\n",
       "      <td>206.55</td>\n",
       "      <td>207.40</td>\n",
       "    </tr>\n",
       "    <tr>\n",
       "      <th>2020-05-21 10:36:00</th>\n",
       "      <td>207.10</td>\n",
       "      <td>207.30</td>\n",
       "      <td>206.70</td>\n",
       "      <td>206.85</td>\n",
       "    </tr>\n",
       "  </tbody>\n",
       "</table>\n",
       "</div>"
      ],
      "text/plain": [
       "                      close    high     low    open\n",
       "2020-05-21 10:32:00  207.50  208.35  207.45  208.25\n",
       "2020-05-21 10:33:00  207.30  207.70  207.10  207.50\n",
       "2020-05-21 10:34:00  207.50  207.65  207.25  207.30\n",
       "2020-05-21 10:35:00  206.65  207.50  206.55  207.40\n",
       "2020-05-21 10:36:00  207.10  207.30  206.70  206.85"
      ]
     },
     "execution_count": 9,
     "metadata": {},
     "output_type": "execute_result"
    }
   ],
   "source": [
    "live_cache.getOHLC('INFRATEL').tail(5)"
   ]
  },
  {
   "cell_type": "markdown",
   "metadata": {},
   "source": [
    "#### msgBufferQueue Monitoring"
   ]
  },
  {
   "cell_type": "code",
   "execution_count": 8,
   "metadata": {},
   "outputs": [
    {
     "name": "stdout",
     "output_type": "stream",
     "text": [
      "('1590037606838-0', {'data': '[{\"tradable\": true, \"mode\": \"quote\", \"instrument_token\": 134657, \"last_price\": 308.1, \"last_quantity\": 10, \"average_price\": 305.98, \"volume\": 2669100, \"buy_quantity\": 654327, \"sell_quantity\": 552836, \"ohlc\": {\"open\": 310.0, \"high\": 311.4, \"low\": 301.6, \"close\": 308.9}, \"change\": -0.2589834898025104}, {\"tradable\": true, \"mode\": \"quote\", \"instrument_token\": 7458561, \"last_price\": 207.1, \"last_quantity\": 10, \"average_price\": 207.59, \"volume\": 6337952, \"buy_quantity\": 931509, \"sell_quantity\": 1200065, \"ohlc\": {\"open\": 204.0, \"high\": 209.65, \"low\": 204.0, \"close\": 200.85}, \"change\": 3.1117749564351507}, {\"tradable\": true, \"mode\": \"quote\", \"instrument_token\": 969473, \"last_price\": 187.6, \"last_quantity\": 1, \"average_price\": 186.05, \"volume\": 1595068, \"buy_quantity\": 972665, \"sell_quantity\": 719224, \"ohlc\": {\"open\": 183.4, \"high\": 187.75, \"low\": 183.4, \"close\": 184.95}, \"change\": 1.4328196809948666}]'})\n"
     ]
    },
    {
     "data": {
      "text/plain": [
       "datetime.datetime(2020, 5, 21, 10, 36, 46, 838000)"
      ]
     },
     "execution_count": 8,
     "metadata": {},
     "output_type": "execute_result"
    }
   ],
   "source": [
    "peek_msg_queue = live_cache.xrange('msgBufferQueuelive')[-1]\n",
    "print(peek_msg_queue)\n",
    "datetime.fromtimestamp(int(peek_msg_queue[0].split('-')[0] )/1000)"
   ]
  },
  {
   "cell_type": "code",
   "execution_count": 15,
   "metadata": {},
   "outputs": [
    {
     "data": {
      "text/plain": [
       "[('1590119523620-0',\n",
       "  {'data': '{\"placed_by\": \"YM1755\", \"order_id\": \"200522000319311\", \"exchange_order_id\": \"1300000000825811\", \"parent_order_id\": null, \"status\": \"OPEN\", \"status_message\": null, \"status_message_raw\": null, \"order_timestamp\": \"2020-05-22 09:22:03\", \"exchange_update_timestamp\": \"2020-05-22 09:22:03\", \"exchange_timestamp\": \"2020-05-22 09:22:03\", \"variety\": \"regular\", \"exchange\": \"NSE\", \"tradingsymbol\": \"WIPRO\", \"instrument_token\": 969473, \"order_type\": \"LIMIT\", \"transaction_type\": \"BUY\", \"validity\": \"DAY\", \"product\": \"MIS\", \"quantity\": 1, \"disclosed_quantity\": 0, \"price\": 187.8, \"trigger_price\": 0, \"average_price\": 0, \"filled_quantity\": 0, \"pending_quantity\": 1, \"cancelled_quantity\": 0, \"market_protection\": 0, \"meta_raw\": null, \"meta\": {}, \"tag\": \"freedom_v2\", \"tags\": [\"freedom_v2\"], \"guid\": \"11327XJvZwilDmKOpq\", \"account_id\": \"YM1755\", \"unfilled_quantity\": 0, \"app_id\": 11327, \"checksum\": \"\"}'}),\n",
       " ('1590119723375-0',\n",
       "  {'data': '{\"placed_by\": \"YM1755\", \"order_id\": \"200522000319311\", \"exchange_order_id\": \"1300000000825811\", \"parent_order_id\": null, \"status\": \"CANCELLED\", \"status_message\": null, \"status_message_raw\": null, \"order_timestamp\": \"2020-05-22 09:25:23\", \"exchange_update_timestamp\": \"2020-05-22 09:25:23\", \"exchange_timestamp\": \"2020-05-22 09:25:23\", \"variety\": \"regular\", \"exchange\": \"NSE\", \"tradingsymbol\": \"WIPRO\", \"instrument_token\": 969473, \"order_type\": \"LIMIT\", \"transaction_type\": \"BUY\", \"validity\": \"DAY\", \"product\": \"MIS\", \"quantity\": 1, \"disclosed_quantity\": 0, \"price\": 187.8, \"trigger_price\": 0, \"average_price\": 0, \"filled_quantity\": 0, \"pending_quantity\": 0, \"cancelled_quantity\": 1, \"market_protection\": 0, \"meta_raw\": null, \"meta\": {}, \"tag\": \"freedom_v2\", \"tags\": [\"freedom_v2\"], \"guid\": \"11327XJvZwilDmKOpq\", \"account_id\": \"YM1755\", \"unfilled_quantity\": 0, \"app_id\": 11327, \"checksum\": \"\"}'}),\n",
       " ('1590119723379-0',\n",
       "  {'data': '{\"placed_by\": \"YM1755\", \"order_id\": \"200522000319311\", \"exchange_order_id\": \"1300000000825811\", \"parent_order_id\": null, \"status\": \"CANCELLED\", \"status_message\": null, \"status_message_raw\": null, \"order_timestamp\": \"2020-05-22 09:25:23\", \"exchange_update_timestamp\": \"2020-05-22 09:25:23\", \"exchange_timestamp\": \"2020-05-22 09:25:23\", \"variety\": \"regular\", \"exchange\": \"NSE\", \"tradingsymbol\": \"WIPRO\", \"instrument_token\": 969473, \"order_type\": \"LIMIT\", \"transaction_type\": \"BUY\", \"validity\": \"DAY\", \"product\": \"MIS\", \"quantity\": 1, \"disclosed_quantity\": 0, \"price\": 187.8, \"trigger_price\": 0, \"average_price\": 0, \"filled_quantity\": 0, \"pending_quantity\": 1, \"cancelled_quantity\": 1, \"market_protection\": 0, \"meta_raw\": null, \"meta\": {}, \"tag\": \"freedom_v2\", \"tags\": [\"freedom_v2\"], \"guid\": \"11327XJvZwilDmKOpq\", \"account_id\": \"YM1755\", \"unfilled_quantity\": 0, \"app_id\": 11327, \"checksum\": \"\"}'}),\n",
       " ('1590120189069-0',\n",
       "  {'data': '{\"placed_by\": \"YM1755\", \"order_id\": \"200522000574829\", \"exchange_order_id\": \"1300000001548714\", \"parent_order_id\": null, \"status\": \"COMPLETE\", \"status_message\": null, \"status_message_raw\": null, \"order_timestamp\": \"2020-05-22 09:33:09\", \"exchange_update_timestamp\": \"2020-05-22 09:33:09\", \"exchange_timestamp\": \"2020-05-22 09:33:09\", \"variety\": \"regular\", \"exchange\": \"NSE\", \"tradingsymbol\": \"WIPRO\", \"instrument_token\": 969473, \"order_type\": \"LIMIT\", \"transaction_type\": \"SELL\", \"validity\": \"DAY\", \"product\": \"MIS\", \"quantity\": 1, \"disclosed_quantity\": 0, \"price\": 190.05, \"trigger_price\": 0, \"average_price\": 190.15, \"filled_quantity\": 1, \"pending_quantity\": 0, \"cancelled_quantity\": 0, \"market_protection\": 0, \"meta_raw\": null, \"meta\": {}, \"tag\": \"freedom_v2\", \"tags\": [\"freedom_v2\"], \"guid\": \"11327XFHg5Ehnm8CH1\", \"account_id\": \"YM1755\", \"unfilled_quantity\": 0, \"app_id\": 11327, \"checksum\": \"\"}'}),\n",
       " ('1590120189074-0',\n",
       "  {'data': '{\"placed_by\": \"YM1755\", \"order_id\": \"200522000574829\", \"exchange_order_id\": \"1300000001548714\", \"parent_order_id\": null, \"status\": \"OPEN\", \"status_message\": null, \"status_message_raw\": null, \"order_timestamp\": \"2020-05-22 09:33:09\", \"exchange_update_timestamp\": \"2020-05-22 09:33:09\", \"exchange_timestamp\": \"2020-05-22 09:33:09\", \"variety\": \"regular\", \"exchange\": \"NSE\", \"tradingsymbol\": \"WIPRO\", \"instrument_token\": 969473, \"order_type\": \"LIMIT\", \"transaction_type\": \"SELL\", \"validity\": \"DAY\", \"product\": \"MIS\", \"quantity\": 1, \"disclosed_quantity\": 0, \"price\": 190.05, \"trigger_price\": 0, \"average_price\": 0, \"filled_quantity\": 0, \"pending_quantity\": 1, \"cancelled_quantity\": 0, \"market_protection\": 0, \"meta_raw\": null, \"meta\": {}, \"tag\": \"freedom_v2\", \"tags\": [\"freedom_v2\"], \"guid\": \"11327XFHg5Ehnm8CH1\", \"account_id\": \"YM1755\", \"unfilled_quantity\": 0, \"app_id\": 11327, \"checksum\": \"\"}'}),\n",
       " ('1590121863152-0',\n",
       "  {'data': '{\"placed_by\": \"YM1755\", \"order_id\": \"200522000985108\", \"exchange_order_id\": \"1300000002721325\", \"parent_order_id\": null, \"status\": \"OPEN\", \"status_message\": null, \"status_message_raw\": null, \"order_timestamp\": \"2020-05-22 10:01:04\", \"exchange_update_timestamp\": \"2020-05-22 10:01:04\", \"exchange_timestamp\": \"2020-05-22 10:01:04\", \"variety\": \"regular\", \"exchange\": \"NSE\", \"tradingsymbol\": \"WIPRO\", \"instrument_token\": 969473, \"order_type\": \"LIMIT\", \"transaction_type\": \"BUY\", \"validity\": \"DAY\", \"product\": \"MIS\", \"quantity\": 1, \"disclosed_quantity\": 0, \"price\": 189.35, \"trigger_price\": 0, \"average_price\": 0, \"filled_quantity\": 0, \"pending_quantity\": 1, \"cancelled_quantity\": 0, \"market_protection\": 0, \"meta_raw\": null, \"meta\": {}, \"tag\": \"freedom_v2\", \"tags\": [\"freedom_v2\"], \"guid\": \"11327XOQVycfmkU9kA\", \"account_id\": \"YM1755\", \"unfilled_quantity\": 0, \"app_id\": 11327, \"checksum\": \"\"}'}),\n",
       " ('1590121868759-0',\n",
       "  {'data': '{\"placed_by\": \"YM1755\", \"order_id\": \"200522000985108\", \"exchange_order_id\": \"1300000002721325\", \"parent_order_id\": null, \"status\": \"COMPLETE\", \"status_message\": null, \"status_message_raw\": null, \"order_timestamp\": \"2020-05-22 10:01:09\", \"exchange_update_timestamp\": \"2020-05-22 10:01:09\", \"exchange_timestamp\": \"2020-05-22 10:01:04\", \"variety\": \"regular\", \"exchange\": \"NSE\", \"tradingsymbol\": \"WIPRO\", \"instrument_token\": 969473, \"order_type\": \"LIMIT\", \"transaction_type\": \"BUY\", \"validity\": \"DAY\", \"product\": \"MIS\", \"quantity\": 1, \"disclosed_quantity\": 0, \"price\": 189.35, \"trigger_price\": 0, \"average_price\": 189.35, \"filled_quantity\": 1, \"pending_quantity\": 0, \"cancelled_quantity\": 0, \"market_protection\": 0, \"meta_raw\": null, \"meta\": {}, \"tag\": \"freedom_v2\", \"tags\": [\"freedom_v2\"], \"guid\": \"11327XOQVycfmkU9kA\", \"account_id\": \"YM1755\", \"unfilled_quantity\": 0, \"app_id\": 11327, \"checksum\": \"\"}'})]"
      ]
     },
     "execution_count": 15,
     "metadata": {},
     "output_type": "execute_result"
    }
   ],
   "source": [
    "live_cache.xrange('notificationQueuelivenew')"
   ]
  },
  {
   "cell_type": "code",
   "execution_count": null,
   "metadata": {},
   "outputs": [],
   "source": [
    "datetime.fromtimestamp(1589428580968/1000)"
   ]
  },
  {
   "cell_type": "code",
   "execution_count": 16,
   "metadata": {},
   "outputs": [
    {
     "data": {
      "text/html": [
       "<div>\n",
       "<style scoped>\n",
       "    .dataframe tbody tr th:only-of-type {\n",
       "        vertical-align: middle;\n",
       "    }\n",
       "\n",
       "    .dataframe tbody tr th {\n",
       "        vertical-align: top;\n",
       "    }\n",
       "\n",
       "    .dataframe thead th {\n",
       "        text-align: right;\n",
       "    }\n",
       "</style>\n",
       "<table border=\"1\" class=\"dataframe\">\n",
       "  <thead>\n",
       "    <tr style=\"text-align: right;\">\n",
       "      <th></th>\n",
       "      <th>close</th>\n",
       "      <th>high</th>\n",
       "      <th>low</th>\n",
       "      <th>open</th>\n",
       "    </tr>\n",
       "  </thead>\n",
       "  <tbody>\n",
       "    <tr>\n",
       "      <th>2020-05-19 15:07:00</th>\n",
       "      <td>219.45</td>\n",
       "      <td>219.85</td>\n",
       "      <td>219.40</td>\n",
       "      <td>219.40</td>\n",
       "    </tr>\n",
       "    <tr>\n",
       "      <th>2020-05-19 15:08:00</th>\n",
       "      <td>219.00</td>\n",
       "      <td>219.50</td>\n",
       "      <td>219.00</td>\n",
       "      <td>219.45</td>\n",
       "    </tr>\n",
       "    <tr>\n",
       "      <th>2020-05-19 15:09:00</th>\n",
       "      <td>218.75</td>\n",
       "      <td>219.50</td>\n",
       "      <td>218.75</td>\n",
       "      <td>219.00</td>\n",
       "    </tr>\n",
       "    <tr>\n",
       "      <th>2020-05-19 15:48:00</th>\n",
       "      <td>218.75</td>\n",
       "      <td>218.75</td>\n",
       "      <td>218.75</td>\n",
       "      <td>218.75</td>\n",
       "    </tr>\n",
       "    <tr>\n",
       "      <th>2020-05-19 16:41:00</th>\n",
       "      <td>218.75</td>\n",
       "      <td>218.75</td>\n",
       "      <td>218.75</td>\n",
       "      <td>218.75</td>\n",
       "    </tr>\n",
       "  </tbody>\n",
       "</table>\n",
       "</div>"
      ],
      "text/plain": [
       "                      close    high     low    open\n",
       "2020-05-19 15:07:00  219.45  219.85  219.40  219.40\n",
       "2020-05-19 15:08:00  219.00  219.50  219.00  219.45\n",
       "2020-05-19 15:09:00  218.75  219.50  218.75  219.00\n",
       "2020-05-19 15:48:00  218.75  218.75  218.75  218.75\n",
       "2020-05-19 16:41:00  218.75  218.75  218.75  218.75"
      ]
     },
     "execution_count": 16,
     "metadata": {},
     "output_type": "execute_result"
    }
   ],
   "source": [
    "live_cache.getOHLC('INFRATEL').tail()"
   ]
  },
  {
   "cell_type": "markdown",
   "metadata": {},
   "source": [
    "##### Monitor: OHLC Tick Handler"
   ]
  },
  {
   "cell_type": "code",
   "execution_count": null,
   "metadata": {},
   "outputs": [],
   "source": [
    "val = live_cache.get('last_id_msg')\n",
    "print(val)\n",
    "datetime.fromtimestamp(int(val.split('-')[0] )/1000)"
   ]
  },
  {
   "cell_type": "raw",
   "metadata": {},
   "source": [
    "# Reset last_processed msg\n",
    "live_cache.setValue('WIPRO','last_processed',0)"
   ]
  },
  {
   "cell_type": "code",
   "execution_count": null,
   "metadata": {},
   "outputs": [],
   "source": [
    "# Timestamp to ID\n",
    "timestamp_to_id = lambda x:str(int(float(x)*1000))+'-'+str(0)\n",
    "id_val = timestamp_to_id(live_cache.getValue('WIPRO','last_processed'))\n",
    "print(id_val)\n",
    "live_cache.xread({'msgBufferQueuelive':id_val}, count=1)"
   ]
  },
  {
   "cell_type": "code",
   "execution_count": null,
   "metadata": {},
   "outputs": [],
   "source": [
    "# Peek into the last msg processed by tick handler\n",
    "print(live_cache.getValue('WIPRO','last_processed'))\n",
    "datetime.fromtimestamp(float(live_cache.getValue('WIPRO','last_processed')))"
   ]
  },
  {
   "cell_type": "code",
   "execution_count": null,
   "metadata": {},
   "outputs": [],
   "source": [
    "## Ticker job monitoring\n",
    "live_cache.get('tick_count')"
   ]
  },
  {
   "cell_type": "code",
   "execution_count": null,
   "metadata": {},
   "outputs": [],
   "source": [
    "datetime.fromtimestamp(1589535456664/1000)"
   ]
  },
  {
   "cell_type": "code",
   "execution_count": null,
   "metadata": {},
   "outputs": [],
   "source": [
    "msgBufferDump = live_cache.xrange('msgBufferQueuelive')"
   ]
  },
  {
   "cell_type": "code",
   "execution_count": null,
   "metadata": {},
   "outputs": [],
   "source": [
    "fp = open('log/ticker_log.log',mode='w')"
   ]
  },
  {
   "cell_type": "code",
   "execution_count": null,
   "metadata": {},
   "outputs": [],
   "source": [
    "fp.write(json.dumps(msgBufferDump))"
   ]
  },
  {
   "cell_type": "markdown",
   "metadata": {},
   "source": [
    "### Update Redis with Instrument list"
   ]
  },
  {
   "cell_type": "markdown",
   "metadata": {},
   "source": [
    "##### Download fresh data and store in cache"
   ]
  },
  {
   "cell_type": "code",
   "execution_count": null,
   "metadata": {},
   "outputs": [],
   "source": [
    "instruments_df = pd.DataFrame(kite.instruments())"
   ]
  },
  {
   "cell_type": "code",
   "execution_count": null,
   "metadata": {},
   "outputs": [],
   "source": [
    "instruments_df.to_hdf('data/instruments.h5',key='instruments')"
   ]
  },
  {
   "cell_type": "code",
   "execution_count": null,
   "metadata": {},
   "outputs": [],
   "source": [
    "instruments_df.columns"
   ]
  },
  {
   "cell_type": "code",
   "execution_count": null,
   "metadata": {},
   "outputs": [],
   "source": [
    "eq_nse = instruments_df.loc[(instruments_df['exchange']=='NSE') & (instruments_df['segment']=='NSE')  & (instruments_df['instrument_type']=='EQ'), ['instrument_token','tradingsymbol']]"
   ]
  },
  {
   "cell_type": "code",
   "execution_count": null,
   "metadata": {},
   "outputs": [],
   "source": [
    "eq_nse.loc[eq_nse['tradingsymbol'].isin(['TCS','WIPRO']),'instrument_token'].values"
   ]
  },
  {
   "cell_type": "markdown",
   "metadata": {},
   "source": [
    "##### Use cache"
   ]
  },
  {
   "cell_type": "code",
   "execution_count": null,
   "metadata": {},
   "outputs": [],
   "source": [
    "instruments_df = pd.read_hdf('data/instruments.h5',key='instruments')"
   ]
  },
  {
   "cell_type": "code",
   "execution_count": null,
   "metadata": {},
   "outputs": [],
   "source": [
    "instruments_df"
   ]
  },
  {
   "cell_type": "code",
   "execution_count": null,
   "metadata": {},
   "outputs": [],
   "source": [
    "eq_nse = instruments_df.loc[(instruments_df['exchange']=='NSE') & (instruments_df['segment']=='NSE')  & (instruments_df['instrument_type']=='EQ'), ['instrument_token','tradingsymbol']]"
   ]
  },
  {
   "cell_type": "code",
   "execution_count": null,
   "metadata": {},
   "outputs": [],
   "source": [
    "eq_nse.loc[eq_nse['tradingsymbol'].isin(['TCS','WIPRO']),:].values\n",
    "\n",
    "eq_nse.set_index('instrument_token')"
   ]
  },
  {
   "cell_type": "code",
   "execution_count": null,
   "metadata": {},
   "outputs": [],
   "source": [
    "live_cache.delete('eq_token')"
   ]
  },
  {
   "cell_type": "code",
   "execution_count": null,
   "metadata": {},
   "outputs": [],
   "source": [
    "eq_nse.head().to_dict(orient='records')"
   ]
  },
  {
   "cell_type": "code",
   "execution_count": null,
   "metadata": {},
   "outputs": [],
   "source": [
    "eq_nse.head().set_index('tradingsymbol').transpose().to_dict(orient='records')"
   ]
  },
  {
   "cell_type": "code",
   "execution_count": null,
   "metadata": {},
   "outputs": [],
   "source": [
    "eq_nse.head().set_index('instrument_token').transpose().to_dict(orient='records')[0]"
   ]
  },
  {
   "cell_type": "markdown",
   "metadata": {},
   "source": [
    "##### Update redis with tokens"
   ]
  },
  {
   "cell_type": "code",
   "execution_count": null,
   "metadata": {},
   "outputs": [],
   "source": [
    "live_cache.hmset('eq_token',eq_nse.set_index('instrument_token').transpose().to_dict(orient='records')[0])\n",
    "live_cache.hmset('eq_token',eq_nse.set_index('tradingsymbol').transpose().to_dict(orient='records')[0])"
   ]
  },
  {
   "cell_type": "code",
   "execution_count": null,
   "metadata": {},
   "outputs": [],
   "source": [
    "live_cache.hmget('eq_token',['TCS','WIPRO'])"
   ]
  },
  {
   "cell_type": "code",
   "execution_count": null,
   "metadata": {},
   "outputs": [],
   "source": [
    "live_cache.hgetall('eq_token')"
   ]
  },
  {
   "cell_type": "code",
   "execution_count": null,
   "metadata": {},
   "outputs": [],
   "source": [
    "live_cache.hmget('eq_token',[2953217, 969473])"
   ]
  },
  {
   "cell_type": "code",
   "execution_count": null,
   "metadata": {},
   "outputs": [],
   "source": []
  },
  {
   "cell_type": "code",
   "execution_count": null,
   "metadata": {},
   "outputs": [],
   "source": []
  },
  {
   "cell_type": "code",
   "execution_count": 1,
   "metadata": {},
   "outputs": [],
   "source": [
    "import pandas as pd"
   ]
  },
  {
   "cell_type": "code",
   "execution_count": 4,
   "metadata": {},
   "outputs": [
    {
     "ename": "ValueError",
     "evalue": "key must be provided when HDF5 file contains multiple datasets.",
     "output_type": "error",
     "traceback": [
      "\u001b[0;31m---------------------------------------------------------------------------\u001b[0m",
      "\u001b[0;31mValueError\u001b[0m                                Traceback (most recent call last)",
      "\u001b[0;32m<ipython-input-4-b1ab92f06cc6>\u001b[0m in \u001b[0;36m<module>\u001b[0;34m\u001b[0m\n\u001b[0;32m----> 1\u001b[0;31m \u001b[0mdf\u001b[0m \u001b[0;34m=\u001b[0m \u001b[0mpd\u001b[0m\u001b[0;34m.\u001b[0m\u001b[0mread_hdf\u001b[0m\u001b[0;34m(\u001b[0m\u001b[0;34m'data/kite_cache_day_backup.h5'\u001b[0m\u001b[0;34m)\u001b[0m\u001b[0;34m\u001b[0m\u001b[0;34m\u001b[0m\u001b[0m\n\u001b[0m",
      "\u001b[0;32m/usr/local/lib/python3.7/site-packages/pandas/io/pytables.py\u001b[0m in \u001b[0;36mread_hdf\u001b[0;34m(path_or_buf, key, mode, errors, where, start, stop, columns, iterator, chunksize, **kwargs)\u001b[0m\n\u001b[1;32m    414\u001b[0m                 \u001b[0;32mif\u001b[0m \u001b[0;32mnot\u001b[0m \u001b[0m_is_metadata_of\u001b[0m\u001b[0;34m(\u001b[0m\u001b[0mgroup_to_check\u001b[0m\u001b[0;34m,\u001b[0m \u001b[0mcandidate_only_group\u001b[0m\u001b[0;34m)\u001b[0m\u001b[0;34m:\u001b[0m\u001b[0;34m\u001b[0m\u001b[0;34m\u001b[0m\u001b[0m\n\u001b[1;32m    415\u001b[0m                     raise ValueError(\n\u001b[0;32m--> 416\u001b[0;31m                         \u001b[0;34m\"key must be provided when HDF5 file \"\u001b[0m\u001b[0;34m\u001b[0m\u001b[0;34m\u001b[0m\u001b[0m\n\u001b[0m\u001b[1;32m    417\u001b[0m                         \u001b[0;34m\"contains multiple datasets.\"\u001b[0m\u001b[0;34m\u001b[0m\u001b[0;34m\u001b[0m\u001b[0m\n\u001b[1;32m    418\u001b[0m                     )\n",
      "\u001b[0;31mValueError\u001b[0m: key must be provided when HDF5 file contains multiple datasets."
     ]
    }
   ],
   "source": [
    "df = pd.read_hdf('data/kite_cache_day_backup.h5')"
   ]
  },
  {
   "cell_type": "code",
   "execution_count": 2,
   "metadata": {},
   "outputs": [],
   "source": [
    "import pandas as pd\n",
    "kite_cache_path = 'data/kite_cache.h5'\n",
    "temp_file = pd.HDFStore(kite_cache_path, mode=\"r\")\n",
    "#rDate = temp_file.get(key).tail(1).index"
   ]
  },
  {
   "cell_type": "code",
   "execution_count": 25,
   "metadata": {},
   "outputs": [
    {
     "data": {
      "text/plain": [
       "['/NSE',\n",
       " '/minute/minute/BHARTIARTL',\n",
       " '/minute/NSE/3MINDIA',\n",
       " '/minute/NSE/AARTIIND',\n",
       " '/minute/NSE/ABB',\n",
       " '/minute/NSE/ABFRL',\n",
       " '/minute/NSE/ACC',\n",
       " '/minute/NSE/ACE',\n",
       " '/minute/NSE/ADANIENT',\n",
       " '/minute/NSE/ADANIPORTS',\n",
       " '/minute/NSE/ADANIPOWER',\n",
       " '/minute/NSE/AIAENG',\n",
       " '/minute/NSE/AJANTPHARM',\n",
       " '/minute/NSE/AKZOINDIA',\n",
       " '/minute/NSE/ALBK',\n",
       " '/minute/NSE/ALKEM',\n",
       " '/minute/NSE/ALLCARGO',\n",
       " '/minute/NSE/AMARAJABAT',\n",
       " '/minute/NSE/AMBUJACEM',\n",
       " '/minute/NSE/ANANTRAJ',\n",
       " '/minute/NSE/APOLLOHOSP',\n",
       " '/minute/NSE/APOLLOTYRE',\n",
       " '/minute/NSE/ARVIND',\n",
       " '/minute/NSE/ASAHIINDIA',\n",
       " '/minute/NSE/ASHOKLEY',\n",
       " '/minute/NSE/ASIANPAINT',\n",
       " '/minute/NSE/ASTRAZEN',\n",
       " '/minute/NSE/ATFL',\n",
       " '/minute/NSE/ATUL',\n",
       " '/minute/NSE/AUBANK',\n",
       " '/minute/NSE/AUROPHARMA',\n",
       " '/minute/NSE/AUTOAXLES',\n",
       " '/minute/NSE/AVANTIFEED',\n",
       " '/minute/NSE/AXISBANK',\n",
       " '/minute/NSE/BAJAJ-AUTO',\n",
       " '/minute/NSE/BAJAJELEC',\n",
       " '/minute/NSE/BAJAJFINSV',\n",
       " '/minute/NSE/BAJAJHLDNG',\n",
       " '/minute/NSE/BAJFINANCE',\n",
       " '/minute/NSE/BALKRISIND',\n",
       " '/minute/NSE/BALRAMCHIN',\n",
       " '/minute/NSE/BANCOINDIA',\n",
       " '/minute/NSE/BANKBARODA',\n",
       " '/minute/NSE/BANKBEES',\n",
       " '/minute/NSE/BANKINDIA',\n",
       " '/minute/NSE/BATAINDIA',\n",
       " '/minute/NSE/BBTC',\n",
       " '/minute/NSE/BEL',\n",
       " '/minute/NSE/BEML',\n",
       " '/minute/NSE/BERGEPAINT',\n",
       " '/minute/NSE/BFUTILITIE',\n",
       " '/minute/NSE/BHARATFIN',\n",
       " '/minute/NSE/BHARATFORG',\n",
       " '/minute/NSE/BHARTIARTL',\n",
       " '/minute/NSE/BHEL',\n",
       " '/minute/NSE/BIOCON',\n",
       " '/minute/NSE/BLISSGVS',\n",
       " '/minute/NSE/BLKASHYAP',\n",
       " '/minute/NSE/BLUEDART',\n",
       " '/minute/NSE/BOSCHLTD',\n",
       " '/minute/NSE/BPCL',\n",
       " '/minute/NSE/BRITANNIA',\n",
       " '/minute/NSE/BSE',\n",
       " '/minute/NSE/CADILAHC',\n",
       " '/minute/NSE/CAMLINFINE',\n",
       " '/minute/NSE/CANBK',\n",
       " '/minute/NSE/CANFINHOME',\n",
       " '/minute/NSE/CAPACITE',\n",
       " '/minute/NSE/CASTROLIND',\n",
       " '/minute/NSE/CDSL',\n",
       " '/minute/NSE/CEATLTD',\n",
       " '/minute/NSE/CENTRUM',\n",
       " '/minute/NSE/CENTURYPLY',\n",
       " '/minute/NSE/CENTURYTEX',\n",
       " '/minute/NSE/CEREBRAINT',\n",
       " '/minute/NSE/CESC',\n",
       " '/minute/NSE/CGCL',\n",
       " '/minute/NSE/CGPOWER',\n",
       " '/minute/NSE/CHENNPETRO',\n",
       " '/minute/NSE/CHOLAFIN',\n",
       " '/minute/NSE/CIPLA',\n",
       " '/minute/NSE/CNOVAPETRO',\n",
       " '/minute/NSE/COALINDIA',\n",
       " '/minute/NSE/COCHINSHIP',\n",
       " '/minute/NSE/COFFEEDAY',\n",
       " '/minute/NSE/COLPAL',\n",
       " '/minute/NSE/CONCOR',\n",
       " '/minute/NSE/COROMANDEL',\n",
       " '/minute/NSE/COX&KINGS',\n",
       " '/minute/NSE/CRISIL',\n",
       " '/minute/NSE/CROMPTON',\n",
       " '/minute/NSE/CUB',\n",
       " '/minute/NSE/CUMMINSIND',\n",
       " '/minute/NSE/CYIENT',\n",
       " '/minute/NSE/DAAWAT',\n",
       " '/minute/NSE/DABUR',\n",
       " '/minute/NSE/DALMIASUG',\n",
       " '/minute/NSE/DBCORP',\n",
       " '/minute/NSE/DCBBANK',\n",
       " '/minute/NSE/DCMSHRIRAM',\n",
       " '/minute/NSE/DEN',\n",
       " '/minute/NSE/DHAMPURSUG',\n",
       " '/minute/NSE/DHFL',\n",
       " '/minute/NSE/DIAMONDYD',\n",
       " '/minute/NSE/DISHTV',\n",
       " '/minute/NSE/DIVISLAB',\n",
       " '/minute/NSE/DIXON',\n",
       " '/minute/NSE/DLF',\n",
       " '/minute/NSE/DMART',\n",
       " '/minute/NSE/DREDGECORP',\n",
       " '/minute/NSE/DRREDDY',\n",
       " '/minute/NSE/ECLERX',\n",
       " '/minute/NSE/EICHERMOT',\n",
       " '/minute/NSE/EIDPARRY',\n",
       " '/minute/NSE/EIHOTEL',\n",
       " '/minute/NSE/ELECTCAST',\n",
       " '/minute/NSE/EMAMILTD',\n",
       " '/minute/NSE/ENDURANCE',\n",
       " '/minute/NSE/ENGINERSIN',\n",
       " '/minute/NSE/EQUITAS',\n",
       " '/minute/NSE/ERIS',\n",
       " '/minute/NSE/EROSMEDIA',\n",
       " '/minute/NSE/ESCORTS',\n",
       " '/minute/NSE/ESTER',\n",
       " '/minute/NSE/EXIDEIND',\n",
       " '/minute/NSE/FEDERALBNK',\n",
       " '/minute/NSE/FEL',\n",
       " '/minute/NSE/FINCABLES',\n",
       " '/minute/NSE/FORTIS',\n",
       " '/minute/NSE/FRETAIL',\n",
       " '/minute/NSE/GAIL',\n",
       " '/minute/NSE/GATI',\n",
       " '/minute/NSE/GDL',\n",
       " '/minute/NSE/GEPIL',\n",
       " '/minute/NSE/GESHIP',\n",
       " '/minute/NSE/GET&D',\n",
       " '/minute/NSE/GHCL',\n",
       " '/minute/NSE/GICHSGFIN',\n",
       " '/minute/NSE/GICRE',\n",
       " '/minute/NSE/GILLETTE',\n",
       " '/minute/NSE/GLAXO',\n",
       " '/minute/NSE/GLENMARK',\n",
       " '/minute/NSE/GLOBUSSPR',\n",
       " '/minute/NSE/GMBREW',\n",
       " '/minute/NSE/GMRINFRA',\n",
       " '/minute/NSE/GNA',\n",
       " '/minute/NSE/GNFC',\n",
       " '/minute/NSE/GODFRYPHLP',\n",
       " '/minute/NSE/GODREJAGRO',\n",
       " '/minute/NSE/GODREJCP',\n",
       " '/minute/NSE/GODREJIND',\n",
       " '/minute/NSE/GODREJPROP',\n",
       " '/minute/NSE/GOLDBEES',\n",
       " '/minute/NSE/GPPL',\n",
       " '/minute/NSE/GRANULES',\n",
       " '/minute/NSE/GRASIM',\n",
       " '/minute/NSE/GREAVESCOT',\n",
       " '/minute/NSE/GSFC',\n",
       " '/minute/NSE/GSKCONS',\n",
       " '/minute/NSE/GSPL',\n",
       " '/minute/NSE/GUJALKALI',\n",
       " '/minute/NSE/GUJFLUORO',\n",
       " '/minute/NSE/GUJGASLTD',\n",
       " '/minute/NSE/HATHWAY',\n",
       " '/minute/NSE/HAVELLS',\n",
       " '/minute/NSE/HBLPOWER',\n",
       " '/minute/NSE/HCL-INSYS',\n",
       " '/minute/NSE/HCLTECH',\n",
       " '/minute/NSE/HDFC',\n",
       " '/minute/NSE/HDFCAMC',\n",
       " '/minute/NSE/HDFCBANK',\n",
       " '/minute/NSE/HDFCLIFE',\n",
       " '/minute/NSE/HEIDELBERG',\n",
       " '/minute/NSE/HEROMOTOCO',\n",
       " '/minute/NSE/HEXAWARE',\n",
       " '/minute/NSE/HGS',\n",
       " '/minute/NSE/HIKAL',\n",
       " '/minute/NSE/HINDALCO',\n",
       " '/minute/NSE/HINDCOPPER',\n",
       " '/minute/NSE/HINDPETRO',\n",
       " '/minute/NSE/HINDUNILVR',\n",
       " '/minute/NSE/HINDZINC',\n",
       " '/minute/NSE/HONAUT',\n",
       " '/minute/NSE/HSCL',\n",
       " '/minute/NSE/HSIL',\n",
       " '/minute/NSE/HUDCO',\n",
       " '/minute/NSE/IBULHSGFIN',\n",
       " '/minute/NSE/ICICIBANK',\n",
       " '/minute/NSE/ICICIGI',\n",
       " '/minute/NSE/ICICINIFTY',\n",
       " '/minute/NSE/ICICIPRULI',\n",
       " '/minute/NSE/IDBI',\n",
       " '/minute/NSE/IDEA',\n",
       " '/minute/NSE/IDFC',\n",
       " '/minute/NSE/IDFCFIRSTB',\n",
       " '/minute/NSE/IEX',\n",
       " '/minute/NSE/IFCI',\n",
       " '/minute/NSE/IGL',\n",
       " '/minute/NSE/INDHOTEL',\n",
       " '/minute/NSE/INDIACEM',\n",
       " '/minute/NSE/INDIANB',\n",
       " '/minute/NSE/INDIGO',\n",
       " '/minute/NSE/INDUSINDBK',\n",
       " '/minute/NSE/INFIBEAM',\n",
       " '/minute/NSE/INFRATEL',\n",
       " '/minute/NSE/INFY',\n",
       " '/minute/NSE/INOXLEISUR',\n",
       " '/minute/NSE/INOXWIND',\n",
       " '/minute/NSE/INTELLECT',\n",
       " '/minute/NSE/IOB',\n",
       " '/minute/NSE/IOC',\n",
       " '/minute/NSE/IPCALAB',\n",
       " '/minute/NSE/IRB',\n",
       " '/minute/NSE/ITC',\n",
       " '/minute/NSE/ITDCEM',\n",
       " '/minute/NSE/JAGRAN',\n",
       " '/minute/NSE/JAICORPLTD',\n",
       " '/minute/NSE/JAMNAAUTO',\n",
       " '/minute/NSE/JAYAGROGN',\n",
       " '/minute/NSE/JAYSREETEA',\n",
       " '/minute/NSE/JETAIRWAYS',\n",
       " '/minute/NSE/JINDALSTEL',\n",
       " '/minute/NSE/JINDWORLD',\n",
       " '/minute/NSE/JISLJALEQS',\n",
       " '/minute/NSE/JKCEMENT',\n",
       " '/minute/NSE/JKPAPER',\n",
       " '/minute/NSE/JKTYRE',\n",
       " '/minute/NSE/JMFINANCIL',\n",
       " '/minute/NSE/JPASSOCIAT',\n",
       " '/minute/NSE/JSLHISAR',\n",
       " '/minute/NSE/JSWENERGY',\n",
       " '/minute/NSE/JSWSTEEL',\n",
       " '/minute/NSE/JUBILANT',\n",
       " '/minute/NSE/JUBLFOOD',\n",
       " '/minute/NSE/JUSTDIAL',\n",
       " '/minute/NSE/JYOTHYLAB',\n",
       " '/minute/NSE/KAJARIACER',\n",
       " '/minute/NSE/KALPATPOWR',\n",
       " '/minute/NSE/KANSAINER',\n",
       " '/minute/NSE/KARURVYSYA',\n",
       " '/minute/NSE/KEC',\n",
       " '/minute/NSE/KEI',\n",
       " '/minute/NSE/KILITCH',\n",
       " '/minute/NSE/KIRIINDUS',\n",
       " '/minute/NSE/KOTAKBANK',\n",
       " '/minute/NSE/KOTAKNIFTY',\n",
       " '/minute/NSE/KSCL',\n",
       " '/minute/NSE/KTKBANK',\n",
       " '/minute/NSE/L&TFH',\n",
       " '/minute/NSE/LALPATHLAB',\n",
       " '/minute/NSE/LIBERTSHOE',\n",
       " '/minute/NSE/LICHSGFIN',\n",
       " '/minute/NSE/LINCOLN',\n",
       " '/minute/NSE/LIQUIDBEES',\n",
       " '/minute/NSE/LOVABLE',\n",
       " '/minute/NSE/LT',\n",
       " '/minute/NSE/LUPIN',\n",
       " '/minute/NSE/M&M',\n",
       " '/minute/NSE/M&MFIN',\n",
       " '/minute/NSE/M50',\n",
       " '/minute/NSE/MAGMA',\n",
       " '/minute/NSE/MAHINDCIE',\n",
       " '/minute/NSE/MAHLOG',\n",
       " '/minute/NSE/MAHSEAMLES',\n",
       " '/minute/NSE/MAJESCO',\n",
       " '/minute/NSE/MANALIPETC',\n",
       " '/minute/NSE/MANAPPURAM',\n",
       " '/minute/NSE/MANGTIMBER',\n",
       " '/minute/NSE/MANINDS',\n",
       " '/minute/NSE/MANINFRA',\n",
       " '/minute/NSE/MARICO',\n",
       " '/minute/NSE/MARKSANS',\n",
       " '/minute/NSE/MARUTI',\n",
       " '/minute/NSE/MASFIN',\n",
       " '/minute/NSE/MASTEK',\n",
       " '/minute/NSE/MCDOWELL-N',\n",
       " '/minute/NSE/MCX',\n",
       " '/minute/NSE/MEGH',\n",
       " '/minute/NSE/MFSL',\n",
       " '/minute/NSE/MGL',\n",
       " '/minute/NSE/MIDHANI',\n",
       " '/minute/NSE/MINDACORP',\n",
       " '/minute/NSE/MINDAIND',\n",
       " '/minute/NSE/MINDTREE',\n",
       " '/minute/NSE/MMTC',\n",
       " '/minute/NSE/MOIL',\n",
       " '/minute/NSE/MOLDTKPAC',\n",
       " '/minute/NSE/MOREPENLAB',\n",
       " '/minute/NSE/MOTHERSUMI',\n",
       " '/minute/NSE/MPHASIS',\n",
       " '/minute/NSE/MRF',\n",
       " '/minute/NSE/MRPL',\n",
       " '/minute/NSE/MUKANDLTD',\n",
       " '/minute/NSE/MUNJALAU',\n",
       " '/minute/NSE/MUTHOOTFIN',\n",
       " '/minute/NSE/NATCOPHARM',\n",
       " '/minute/NSE/NATIONALUM',\n",
       " '/minute/NSE/NAUKRI',\n",
       " '/minute/NSE/NAVINFLUOR',\n",
       " '/minute/NSE/NAVNETEDUL',\n",
       " '/minute/NSE/NBCC',\n",
       " '/minute/NSE/NCC',\n",
       " '/minute/NSE/NESTLEIND',\n",
       " '/minute/NSE/NETWORK18',\n",
       " '/minute/NSE/NFL',\n",
       " '/minute/NSE/NH',\n",
       " '/minute/NSE/NHPC',\n",
       " '/minute/NSE/NIACL',\n",
       " '/minute/NSE/NIFTY 100',\n",
       " '/minute/NSE/NIFTY 200',\n",
       " '/minute/NSE/NIFTY 50',\n",
       " '/minute/NSE/NIFTY AUTO',\n",
       " '/minute/NSE/NIFTY BANK',\n",
       " '/minute/NSE/NIFTY COMMODITIES',\n",
       " '/minute/NSE/NIFTY ENERGY',\n",
       " '/minute/NSE/NIFTY FIN SERVICE',\n",
       " '/minute/NSE/NIFTY FMCG',\n",
       " '/minute/NSE/NIFTY INFRA',\n",
       " '/minute/NSE/NIFTY IT',\n",
       " '/minute/NSE/NIFTY JUNIOR',\n",
       " '/minute/NSE/NIFTY MEDIA',\n",
       " '/minute/NSE/NIFTY METAL',\n",
       " '/minute/NSE/NIFTY MIDCAP 100',\n",
       " '/minute/NSE/NIFTY MIDCAP 50',\n",
       " '/minute/NSE/NIFTY MNC',\n",
       " '/minute/NSE/NIFTY PHARMA',\n",
       " '/minute/NSE/NIFTY PSU BANK',\n",
       " '/minute/NSE/NIFTY REALTY',\n",
       " '/minute/NSE/NIFTY SMALL 100',\n",
       " '/minute/NSE/NIFTYBEES',\n",
       " '/minute/NSE/NIITTECH',\n",
       " '/minute/NSE/NLCINDIA',\n",
       " '/minute/NSE/NMDC',\n",
       " '/minute/NSE/NOCIL',\n",
       " '/minute/NSE/NRBBEARING',\n",
       " '/minute/NSE/NTPC',\n",
       " '/minute/NSE/OBEROIRLTY',\n",
       " '/minute/NSE/OFSS',\n",
       " '/minute/NSE/OIL',\n",
       " '/minute/NSE/OMAXE',\n",
       " '/minute/NSE/ONGC',\n",
       " '/minute/NSE/ORIENTBANK',\n",
       " '/minute/NSE/ORIENTCEM',\n",
       " '/minute/NSE/PAGEIND',\n",
       " '/minute/NSE/PAPERPROD',\n",
       " '/minute/NSE/PARAGMILK',\n",
       " '/minute/NSE/PATELENG',\n",
       " '/minute/NSE/PCJEWELLER',\n",
       " '/minute/NSE/PEL',\n",
       " '/minute/NSE/PERSISTENT',\n",
       " '/minute/NSE/PETRONET',\n",
       " '/minute/NSE/PFC',\n",
       " '/minute/NSE/PFIZER',\n",
       " '/minute/NSE/PGHH',\n",
       " '/minute/NSE/PHILIPCARB',\n",
       " '/minute/NSE/PHOENIXLTD',\n",
       " '/minute/NSE/PIDILITIND',\n",
       " '/minute/NSE/PIIND',\n",
       " '/minute/NSE/PNB',\n",
       " '/minute/NSE/PNBGILTS',\n",
       " '/minute/NSE/PNBHOUSING',\n",
       " '/minute/NSE/POLYPLEX',\n",
       " '/minute/NSE/POWERGRID',\n",
       " '/minute/NSE/PRAJIND',\n",
       " '/minute/NSE/PRESTIGE',\n",
       " '/minute/NSE/PTC',\n",
       " '/minute/NSE/PURVA',\n",
       " '/minute/NSE/PVR',\n",
       " '/minute/NSE/QUICKHEAL',\n",
       " '/minute/NSE/RADICO',\n",
       " '/minute/NSE/RADIOCITY',\n",
       " '/minute/NSE/RAJESHEXPO',\n",
       " '/minute/NSE/RALLIS',\n",
       " '/minute/NSE/RAMCOCEM',\n",
       " '/minute/NSE/RAMCOIND',\n",
       " '/minute/NSE/RAMKY',\n",
       " '/minute/NSE/RAYMOND',\n",
       " '/minute/NSE/RBLBANK',\n",
       " '/minute/NSE/RCF',\n",
       " '/minute/NSE/RECLTD',\n",
       " '/minute/NSE/RELAXO',\n",
       " '/minute/NSE/RELCAPITAL',\n",
       " '/minute/NSE/RELIANCE',\n",
       " '/minute/NSE/RELINFRA',\n",
       " '/minute/NSE/REPCOHOME',\n",
       " '/minute/NSE/RICOAUTO',\n",
       " '/minute/NSE/RIIL',\n",
       " '/minute/NSE/RKFORGE',\n",
       " '/minute/NSE/RPOWER',\n",
       " '/minute/NSE/SAIL',\n",
       " '/minute/NSE/SAKUMA',\n",
       " '/minute/NSE/SALASAR',\n",
       " '/minute/NSE/SALZERELEC',\n",
       " '/minute/NSE/SANGHIIND',\n",
       " '/minute/NSE/SANGHVIMOV',\n",
       " '/minute/NSE/SANOFI',\n",
       " '/minute/NSE/SAREGAMA',\n",
       " '/minute/NSE/SBILIFE',\n",
       " '/minute/NSE/SBIN',\n",
       " '/minute/NSE/SCHAEFFLER',\n",
       " '/minute/NSE/SCHAND',\n",
       " '/minute/NSE/SCHNEIDER',\n",
       " '/minute/NSE/SCI',\n",
       " '/minute/NSE/SELAN',\n",
       " '/minute/NSE/SEQUENT',\n",
       " '/minute/NSE/SHARDAMOTR',\n",
       " '/minute/NSE/SHREECEM',\n",
       " '/minute/NSE/SHRIRAMCIT',\n",
       " '/minute/NSE/SIEMENS',\n",
       " '/minute/NSE/SIMPLEXINF',\n",
       " '/minute/NSE/SINTEX',\n",
       " '/minute/NSE/SIS',\n",
       " '/minute/NSE/SJVN',\n",
       " '/minute/NSE/SKFINDIA',\n",
       " '/minute/NSE/SNOWMAN',\n",
       " '/minute/NSE/SOBHA',\n",
       " '/minute/NSE/SOLARINDS',\n",
       " '/minute/NSE/SOUTHBANK',\n",
       " '/minute/NSE/SPARC',\n",
       " '/minute/NSE/SPTL',\n",
       " '/minute/NSE/SREINFRA',\n",
       " '/minute/NSE/SRF',\n",
       " '/minute/NSE/SRTRANSFIN',\n",
       " '/minute/NSE/STAR',\n",
       " '/minute/NSE/STCINDIA',\n",
       " '/minute/NSE/STRTECH',\n",
       " '/minute/NSE/SUNDARMFIN',\n",
       " '/minute/NSE/SUNDRMFAST',\n",
       " '/minute/NSE/SUNPHARMA',\n",
       " '/minute/NSE/SUNTECK',\n",
       " '/minute/NSE/SUNTV',\n",
       " '/minute/NSE/SUPREMEIND',\n",
       " '/minute/NSE/SUVEN',\n",
       " '/minute/NSE/SUZLON',\n",
       " '/minute/NSE/SYNDIBANK',\n",
       " '/minute/NSE/SYNGENE',\n",
       " '/minute/NSE/TAKE',\n",
       " '/minute/NSE/TALWALKARS',\n",
       " '/minute/NSE/TATACHEM',\n",
       " '/minute/NSE/TATACOFFEE',\n",
       " '/minute/NSE/TATACOMM',\n",
       " '/minute/NSE/TATAELXSI',\n",
       " '/minute/NSE/TATAGLOBAL',\n",
       " '/minute/NSE/TATAINVEST',\n",
       " '/minute/NSE/TATAMOTORS',\n",
       " '/minute/NSE/TATAMTRDVR',\n",
       " '/minute/NSE/TATAPOWER',\n",
       " '/minute/NSE/TATASPONGE',\n",
       " '/minute/NSE/TATASTEEL',\n",
       " '/minute/NSE/TBZ',\n",
       " '/minute/NSE/TCI',\n",
       " '/minute/NSE/TCS',\n",
       " '/minute/NSE/TECHM',\n",
       " '/minute/NSE/TEJASNET',\n",
       " '/minute/NSE/TEXMOPIPES',\n",
       " '/minute/NSE/TEXRAIL',\n",
       " '/minute/NSE/THERMAX',\n",
       " '/minute/NSE/THOMASCOOK',\n",
       " '/minute/NSE/THYROCARE',\n",
       " '/minute/NSE/TIMETECHNO',\n",
       " '/minute/NSE/TINPLATE',\n",
       " '/minute/NSE/TITAN',\n",
       " '/minute/NSE/TNPETRO',\n",
       " '/minute/NSE/TNPL',\n",
       " '/minute/NSE/TORNTPHARM',\n",
       " '/minute/NSE/TORNTPOWER',\n",
       " '/minute/NSE/TRENT',\n",
       " '/minute/NSE/TRIDENT',\n",
       " '/minute/NSE/TRIGYN',\n",
       " '/minute/NSE/TRIVENI',\n",
       " '/minute/NSE/TTKPRESTIG',\n",
       " '/minute/NSE/TV18BRDCST',\n",
       " '/minute/NSE/TVSMOTOR',\n",
       " '/minute/NSE/TWL',\n",
       " '/minute/NSE/UBL',\n",
       " '/minute/NSE/UCOBANK',\n",
       " '/minute/NSE/UJJIVAN',\n",
       " '/minute/NSE/ULTRACEMCO',\n",
       " '/minute/NSE/UNIONBANK',\n",
       " '/minute/NSE/UNIVCABLES',\n",
       " '/minute/NSE/UPL',\n",
       " '/minute/NSE/USHAMART',\n",
       " '/minute/NSE/VEDL',\n",
       " '/minute/NSE/VGUARD',\n",
       " '/minute/NSE/VIPCLOTHNG',\n",
       " '/minute/NSE/VIPIND',\n",
       " '/minute/NSE/VOLTAS',\n",
       " '/minute/NSE/VTL',\n",
       " '/minute/NSE/WABCOINDIA',\n",
       " '/minute/NSE/WALCHANNAG',\n",
       " '/minute/NSE/WELCORP',\n",
       " '/minute/NSE/WELENT',\n",
       " '/minute/NSE/WELSPUNIND',\n",
       " '/minute/NSE/WHIRLPOOL',\n",
       " '/minute/NSE/WINDMACHIN',\n",
       " '/minute/NSE/WIPRO',\n",
       " '/minute/NSE/WOCKPHARMA',\n",
       " '/minute/NSE/WONDERLA',\n",
       " '/minute/NSE/YESBANK',\n",
       " '/minute/NSE/ZEEL',\n",
       " '/minute/NFO/NIFTY19MAYFUT',\n",
       " '/day/NSE/3MINDIA',\n",
       " '/day/NSE/AARTIIND',\n",
       " '/day/NSE/ABB',\n",
       " '/day/NSE/ABFRL',\n",
       " '/day/NSE/ACC',\n",
       " '/day/NSE/ACE',\n",
       " '/day/NSE/ADANIENT',\n",
       " '/day/NSE/ADANIPORTS',\n",
       " '/day/NSE/ADANIPOWER',\n",
       " '/day/NSE/AIAENG',\n",
       " '/day/NSE/AJANTPHARM',\n",
       " '/day/NSE/AKZOINDIA',\n",
       " '/day/NSE/ALBK',\n",
       " '/day/NSE/ALKEM',\n",
       " '/day/NSE/ALLCARGO',\n",
       " '/day/NSE/AMARAJABAT',\n",
       " '/day/NSE/AMBUJACEM',\n",
       " '/day/NSE/ANANTRAJ',\n",
       " '/day/NSE/APOLLOHOSP',\n",
       " '/day/NSE/APOLLOTYRE',\n",
       " '/day/NSE/ARVIND',\n",
       " '/day/NSE/ASAHIINDIA',\n",
       " '/day/NSE/ASHOKLEY',\n",
       " '/day/NSE/ASIANPAINT',\n",
       " '/day/NSE/ASTRAZEN',\n",
       " '/day/NSE/ATFL',\n",
       " '/day/NSE/ATUL',\n",
       " '/day/NSE/AUBANK',\n",
       " '/day/NSE/AUROPHARMA',\n",
       " '/day/NSE/AUTOAXLES',\n",
       " '/day/NSE/AVANTIFEED',\n",
       " '/day/NSE/AXISBANK',\n",
       " '/day/NSE/BAJAJ-AUTO',\n",
       " '/day/NSE/BAJAJELEC',\n",
       " '/day/NSE/BAJAJFINSV',\n",
       " '/day/NSE/BAJAJHLDNG',\n",
       " '/day/NSE/BAJFINANCE',\n",
       " '/day/NSE/BALKRISIND',\n",
       " '/day/NSE/BALRAMCHIN',\n",
       " '/day/NSE/BANCOINDIA',\n",
       " '/day/NSE/BANKBARODA',\n",
       " '/day/NSE/BANKBEES',\n",
       " '/day/NSE/BANKINDIA',\n",
       " '/day/NSE/BATAINDIA',\n",
       " '/day/NSE/BBTC',\n",
       " '/day/NSE/BEL',\n",
       " '/day/NSE/BEML',\n",
       " '/day/NSE/BERGEPAINT',\n",
       " '/day/NSE/BFUTILITIE',\n",
       " '/day/NSE/BHARATFIN',\n",
       " '/day/NSE/BHARATFORG',\n",
       " '/day/NSE/BHARTIARTL',\n",
       " '/day/NSE/BHEL',\n",
       " '/day/NSE/BIOCON',\n",
       " '/day/NSE/BLISSGVS',\n",
       " '/day/NSE/BLKASHYAP',\n",
       " '/day/NSE/BLUEDART',\n",
       " '/day/NSE/BOSCHLTD',\n",
       " '/day/NSE/BPCL',\n",
       " '/day/NSE/BRITANNIA',\n",
       " '/day/NSE/BSE',\n",
       " '/day/NSE/CADILAHC',\n",
       " '/day/NSE/CAMLINFINE',\n",
       " '/day/NSE/CANBK',\n",
       " '/day/NSE/CANFINHOME',\n",
       " '/day/NSE/CAPACITE',\n",
       " '/day/NSE/CASTROLIND',\n",
       " '/day/NSE/CDSL',\n",
       " '/day/NSE/CEATLTD',\n",
       " '/day/NSE/CENTRUM',\n",
       " '/day/NSE/CENTURYPLY',\n",
       " '/day/NSE/CENTURYTEX',\n",
       " '/day/NSE/CEREBRAINT',\n",
       " '/day/NSE/CESC',\n",
       " '/day/NSE/CGCL',\n",
       " '/day/NSE/CGPOWER',\n",
       " '/day/NSE/CHENNPETRO',\n",
       " '/day/NSE/CHOLAFIN',\n",
       " '/day/NSE/CIPLA',\n",
       " '/day/NSE/CNOVAPETRO',\n",
       " '/day/NSE/COALINDIA',\n",
       " '/day/NSE/COCHINSHIP',\n",
       " '/day/NSE/COFFEEDAY',\n",
       " '/day/NSE/COLPAL',\n",
       " '/day/NSE/CONCOR',\n",
       " '/day/NSE/COROMANDEL',\n",
       " '/day/NSE/COX&KINGS',\n",
       " '/day/NSE/CRISIL',\n",
       " '/day/NSE/CROMPTON',\n",
       " '/day/NSE/CUB',\n",
       " '/day/NSE/CUMMINSIND',\n",
       " '/day/NSE/CYIENT',\n",
       " '/day/NSE/DAAWAT',\n",
       " '/day/NSE/DABUR',\n",
       " '/day/NSE/DALMIASUG',\n",
       " '/day/NSE/DBCORP',\n",
       " '/day/NSE/DCBBANK',\n",
       " '/day/NSE/DCMSHRIRAM',\n",
       " '/day/NSE/DEN',\n",
       " '/day/NSE/DHAMPURSUG',\n",
       " '/day/NSE/DHFL',\n",
       " '/day/NSE/DIAMONDYD',\n",
       " '/day/NSE/DISHTV',\n",
       " '/day/NSE/DIVISLAB',\n",
       " '/day/NSE/DIXON',\n",
       " '/day/NSE/DLF',\n",
       " '/day/NSE/DMART',\n",
       " '/day/NSE/DREDGECORP',\n",
       " '/day/NSE/DRREDDY',\n",
       " '/day/NSE/ECLERX',\n",
       " '/day/NSE/EICHERMOT',\n",
       " '/day/NSE/EIDPARRY',\n",
       " '/day/NSE/EIHOTEL',\n",
       " '/day/NSE/ELECTCAST',\n",
       " '/day/NSE/EMAMILTD',\n",
       " '/day/NSE/ENDURANCE',\n",
       " '/day/NSE/ENGINERSIN',\n",
       " '/day/NSE/EQUITAS',\n",
       " '/day/NSE/ERIS',\n",
       " '/day/NSE/EROSMEDIA',\n",
       " '/day/NSE/ESCORTS',\n",
       " '/day/NSE/ESTER',\n",
       " '/day/NSE/EXIDEIND',\n",
       " '/day/NSE/FEDERALBNK',\n",
       " '/day/NSE/FEL',\n",
       " '/day/NSE/FINCABLES',\n",
       " '/day/NSE/FORTIS',\n",
       " '/day/NSE/FRETAIL',\n",
       " '/day/NSE/GAIL',\n",
       " '/day/NSE/GATI',\n",
       " '/day/NSE/GDL',\n",
       " '/day/NSE/GEPIL',\n",
       " '/day/NSE/GESHIP',\n",
       " '/day/NSE/GET&D',\n",
       " '/day/NSE/GHCL',\n",
       " '/day/NSE/GICHSGFIN',\n",
       " '/day/NSE/GICRE',\n",
       " '/day/NSE/GILLETTE',\n",
       " '/day/NSE/GLAXO',\n",
       " '/day/NSE/GLENMARK',\n",
       " '/day/NSE/GLOBUSSPR',\n",
       " '/day/NSE/GMBREW',\n",
       " '/day/NSE/GMRINFRA',\n",
       " '/day/NSE/GNA',\n",
       " '/day/NSE/GNFC',\n",
       " '/day/NSE/GODFRYPHLP',\n",
       " '/day/NSE/GODREJAGRO',\n",
       " '/day/NSE/GODREJCP',\n",
       " '/day/NSE/GODREJIND',\n",
       " '/day/NSE/GODREJPROP',\n",
       " '/day/NSE/GOLDBEES',\n",
       " '/day/NSE/GPPL',\n",
       " '/day/NSE/GRANULES',\n",
       " '/day/NSE/GRASIM',\n",
       " '/day/NSE/GREAVESCOT',\n",
       " '/day/NSE/GSFC',\n",
       " '/day/NSE/GSKCONS',\n",
       " '/day/NSE/GSPL',\n",
       " '/day/NSE/GUJALKALI',\n",
       " '/day/NSE/GUJFLUORO',\n",
       " '/day/NSE/GUJGASLTD',\n",
       " '/day/NSE/HATHWAY',\n",
       " '/day/NSE/HAVELLS',\n",
       " '/day/NSE/HBLPOWER',\n",
       " '/day/NSE/HCL-INSYS',\n",
       " '/day/NSE/HCLTECH',\n",
       " '/day/NSE/HDFC',\n",
       " '/day/NSE/HDFCAMC',\n",
       " '/day/NSE/HDFCBANK',\n",
       " '/day/NSE/HDFCLIFE',\n",
       " '/day/NSE/HEIDELBERG',\n",
       " '/day/NSE/HEROMOTOCO',\n",
       " '/day/NSE/HEXAWARE',\n",
       " '/day/NSE/HGS',\n",
       " '/day/NSE/HIKAL',\n",
       " '/day/NSE/HINDALCO',\n",
       " '/day/NSE/HINDCOPPER',\n",
       " '/day/NSE/HINDPETRO',\n",
       " '/day/NSE/HINDUNILVR',\n",
       " '/day/NSE/HINDZINC',\n",
       " '/day/NSE/HONAUT',\n",
       " '/day/NSE/HSCL',\n",
       " '/day/NSE/HSIL',\n",
       " '/day/NSE/HUDCO',\n",
       " '/day/NSE/IBULHSGFIN',\n",
       " '/day/NSE/ICICIBANK',\n",
       " '/day/NSE/ICICIGI',\n",
       " '/day/NSE/ICICINIFTY',\n",
       " '/day/NSE/ICICIPRULI',\n",
       " '/day/NSE/IDBI',\n",
       " '/day/NSE/IDEA',\n",
       " '/day/NSE/IDFC',\n",
       " '/day/NSE/IDFCFIRSTB',\n",
       " '/day/NSE/IEX',\n",
       " '/day/NSE/IFCI',\n",
       " '/day/NSE/IGL',\n",
       " '/day/NSE/INDHOTEL',\n",
       " '/day/NSE/INDIACEM',\n",
       " '/day/NSE/INDIANB',\n",
       " '/day/NSE/INDIGO',\n",
       " '/day/NSE/INDUSINDBK',\n",
       " '/day/NSE/INFIBEAM',\n",
       " '/day/NSE/INFRATEL',\n",
       " '/day/NSE/INFY',\n",
       " '/day/NSE/INOXLEISUR',\n",
       " '/day/NSE/INOXWIND',\n",
       " '/day/NSE/INTELLECT',\n",
       " '/day/NSE/IOB',\n",
       " '/day/NSE/IOC',\n",
       " '/day/NSE/IPCALAB',\n",
       " '/day/NSE/IRB',\n",
       " '/day/NSE/ITC',\n",
       " '/day/NSE/ITDCEM',\n",
       " '/day/NSE/JAGRAN',\n",
       " '/day/NSE/JAICORPLTD',\n",
       " '/day/NSE/JAMNAAUTO',\n",
       " '/day/NSE/JAYAGROGN',\n",
       " '/day/NSE/JAYSREETEA',\n",
       " '/day/NSE/JETAIRWAYS',\n",
       " '/day/NSE/JINDALSTEL',\n",
       " '/day/NSE/JINDWORLD',\n",
       " '/day/NSE/JISLJALEQS',\n",
       " '/day/NSE/JKCEMENT',\n",
       " '/day/NSE/JKPAPER',\n",
       " '/day/NSE/JKTYRE',\n",
       " '/day/NSE/JMFINANCIL',\n",
       " '/day/NSE/JPASSOCIAT',\n",
       " '/day/NSE/JSLHISAR',\n",
       " '/day/NSE/JSWENERGY',\n",
       " '/day/NSE/JSWSTEEL',\n",
       " '/day/NSE/JUBILANT',\n",
       " '/day/NSE/JUBLFOOD',\n",
       " '/day/NSE/JUSTDIAL',\n",
       " '/day/NSE/JYOTHYLAB',\n",
       " '/day/NSE/KAJARIACER',\n",
       " '/day/NSE/KALPATPOWR',\n",
       " '/day/NSE/KANSAINER',\n",
       " '/day/NSE/KARURVYSYA',\n",
       " '/day/NSE/KEC',\n",
       " '/day/NSE/KEI',\n",
       " '/day/NSE/KILITCH',\n",
       " '/day/NSE/KIRIINDUS',\n",
       " '/day/NSE/KOTAKBANK',\n",
       " '/day/NSE/KOTAKNIFTY',\n",
       " '/day/NSE/KSCL',\n",
       " '/day/NSE/KTKBANK',\n",
       " '/day/NSE/L&TFH',\n",
       " '/day/NSE/LALPATHLAB',\n",
       " '/day/NSE/LIBERTSHOE',\n",
       " '/day/NSE/LICHSGFIN',\n",
       " '/day/NSE/LINCOLN',\n",
       " '/day/NSE/LIQUIDBEES',\n",
       " '/day/NSE/LOVABLE',\n",
       " '/day/NSE/LT',\n",
       " '/day/NSE/LUPIN',\n",
       " '/day/NSE/M&M',\n",
       " '/day/NSE/M&MFIN',\n",
       " '/day/NSE/M50',\n",
       " '/day/NSE/MAGMA',\n",
       " '/day/NSE/MAHINDCIE',\n",
       " '/day/NSE/MAHLOG',\n",
       " '/day/NSE/MAHSEAMLES',\n",
       " '/day/NSE/MAJESCO',\n",
       " '/day/NSE/MANALIPETC',\n",
       " '/day/NSE/MANAPPURAM',\n",
       " '/day/NSE/MANGTIMBER',\n",
       " '/day/NSE/MANINDS',\n",
       " '/day/NSE/MANINFRA',\n",
       " '/day/NSE/MARICO',\n",
       " '/day/NSE/MARKSANS',\n",
       " '/day/NSE/MARUTI',\n",
       " '/day/NSE/MASFIN',\n",
       " '/day/NSE/MASTEK',\n",
       " '/day/NSE/MCDOWELL-N',\n",
       " '/day/NSE/MCX',\n",
       " '/day/NSE/MEGH',\n",
       " '/day/NSE/MFSL',\n",
       " '/day/NSE/MGL',\n",
       " '/day/NSE/MIDHANI',\n",
       " '/day/NSE/MINDACORP',\n",
       " '/day/NSE/MINDAIND',\n",
       " '/day/NSE/MINDTREE',\n",
       " '/day/NSE/MMTC',\n",
       " '/day/NSE/MOIL',\n",
       " '/day/NSE/MOLDTKPAC',\n",
       " '/day/NSE/MOREPENLAB',\n",
       " '/day/NSE/MOTHERSUMI',\n",
       " '/day/NSE/MPHASIS',\n",
       " '/day/NSE/MRF',\n",
       " '/day/NSE/MRPL',\n",
       " '/day/NSE/MUKANDLTD',\n",
       " '/day/NSE/MUNJALAU',\n",
       " '/day/NSE/MUTHOOTFIN',\n",
       " '/day/NSE/NATCOPHARM',\n",
       " '/day/NSE/NATIONALUM',\n",
       " '/day/NSE/NAUKRI',\n",
       " '/day/NSE/NAVINFLUOR',\n",
       " '/day/NSE/NAVNETEDUL',\n",
       " '/day/NSE/NBCC',\n",
       " '/day/NSE/NCC',\n",
       " '/day/NSE/NESTLEIND',\n",
       " '/day/NSE/NETWORK18',\n",
       " '/day/NSE/NFL',\n",
       " '/day/NSE/NH',\n",
       " '/day/NSE/NHPC',\n",
       " '/day/NSE/NIACL',\n",
       " '/day/NSE/NIFTY 100',\n",
       " '/day/NSE/NIFTY 200',\n",
       " '/day/NSE/NIFTY 50',\n",
       " '/day/NSE/NIFTY AUTO',\n",
       " '/day/NSE/NIFTY BANK',\n",
       " '/day/NSE/NIFTY COMMODITIES',\n",
       " '/day/NSE/NIFTY ENERGY',\n",
       " '/day/NSE/NIFTY FIN SERVICE',\n",
       " '/day/NSE/NIFTY FMCG',\n",
       " '/day/NSE/NIFTY INFRA',\n",
       " '/day/NSE/NIFTY IT',\n",
       " '/day/NSE/NIFTY JUNIOR',\n",
       " '/day/NSE/NIFTY MEDIA',\n",
       " '/day/NSE/NIFTY METAL',\n",
       " '/day/NSE/NIFTY MIDCAP 100',\n",
       " '/day/NSE/NIFTY MIDCAP 50',\n",
       " '/day/NSE/NIFTY MNC',\n",
       " '/day/NSE/NIFTY PHARMA',\n",
       " '/day/NSE/NIFTY PSU BANK',\n",
       " '/day/NSE/NIFTY REALTY',\n",
       " '/day/NSE/NIFTY SMALL 100',\n",
       " '/day/NSE/NIFTYBEES',\n",
       " '/day/NSE/NIITTECH',\n",
       " '/day/NSE/NLCINDIA',\n",
       " '/day/NSE/NMDC',\n",
       " '/day/NSE/NOCIL',\n",
       " '/day/NSE/NRBBEARING',\n",
       " '/day/NSE/NTPC',\n",
       " '/day/NSE/OBEROIRLTY',\n",
       " '/day/NSE/OFSS',\n",
       " '/day/NSE/OIL',\n",
       " '/day/NSE/OMAXE',\n",
       " '/day/NSE/ONGC',\n",
       " '/day/NSE/ORIENTBANK',\n",
       " '/day/NSE/ORIENTCEM',\n",
       " '/day/NSE/PAGEIND',\n",
       " '/day/NSE/PAPERPROD',\n",
       " '/day/NSE/PARAGMILK',\n",
       " '/day/NSE/PATELENG',\n",
       " '/day/NSE/PCJEWELLER',\n",
       " '/day/NSE/PEL',\n",
       " '/day/NSE/PERSISTENT',\n",
       " '/day/NSE/PETRONET',\n",
       " '/day/NSE/PFC',\n",
       " '/day/NSE/PFIZER',\n",
       " '/day/NSE/PGHH',\n",
       " '/day/NSE/PHILIPCARB',\n",
       " '/day/NSE/PHOENIXLTD',\n",
       " '/day/NSE/PIDILITIND',\n",
       " '/day/NSE/PIIND',\n",
       " '/day/NSE/PNB',\n",
       " '/day/NSE/PNBGILTS',\n",
       " '/day/NSE/PNBHOUSING',\n",
       " '/day/NSE/POLYPLEX',\n",
       " '/day/NSE/POWERGRID',\n",
       " '/day/NSE/PRAJIND',\n",
       " '/day/NSE/PRESTIGE',\n",
       " '/day/NSE/PTC',\n",
       " '/day/NSE/PURVA',\n",
       " '/day/NSE/PVR',\n",
       " '/day/NSE/QUICKHEAL',\n",
       " '/day/NSE/RADICO',\n",
       " '/day/NSE/RADIOCITY',\n",
       " '/day/NSE/RAJESHEXPO',\n",
       " '/day/NSE/RALLIS',\n",
       " '/day/NSE/RAMCOCEM',\n",
       " '/day/NSE/RAMCOIND',\n",
       " '/day/NSE/RAMKY',\n",
       " '/day/NSE/RAYMOND',\n",
       " '/day/NSE/RBLBANK',\n",
       " '/day/NSE/RCF',\n",
       " '/day/NSE/RECLTD',\n",
       " '/day/NSE/RELAXO',\n",
       " '/day/NSE/RELCAPITAL',\n",
       " '/day/NSE/RELIANCE',\n",
       " '/day/NSE/RELINFRA',\n",
       " '/day/NSE/REPCOHOME',\n",
       " '/day/NSE/RICOAUTO',\n",
       " '/day/NSE/RIIL',\n",
       " '/day/NSE/RKFORGE',\n",
       " '/day/NSE/RPOWER',\n",
       " '/day/NSE/SAIL',\n",
       " '/day/NSE/SAKUMA',\n",
       " '/day/NSE/SALASAR',\n",
       " '/day/NSE/SALZERELEC',\n",
       " '/day/NSE/SANGHIIND',\n",
       " '/day/NSE/SANGHVIMOV',\n",
       " '/day/NSE/SANOFI',\n",
       " '/day/NSE/SAREGAMA',\n",
       " '/day/NSE/SBILIFE',\n",
       " '/day/NSE/SBIN',\n",
       " '/day/NSE/SCHAEFFLER',\n",
       " '/day/NSE/SCHAND',\n",
       " '/day/NSE/SCHNEIDER',\n",
       " '/day/NSE/SCI',\n",
       " '/day/NSE/SELAN',\n",
       " '/day/NSE/SEQUENT',\n",
       " '/day/NSE/SHARDAMOTR',\n",
       " '/day/NSE/SHREECEM',\n",
       " '/day/NSE/SHRIRAMCIT',\n",
       " '/day/NSE/SIEMENS',\n",
       " '/day/NSE/SIMPLEXINF',\n",
       " '/day/NSE/SINTEX',\n",
       " '/day/NSE/SIS',\n",
       " '/day/NSE/SJVN',\n",
       " '/day/NSE/SKFINDIA',\n",
       " '/day/NSE/SNOWMAN',\n",
       " '/day/NSE/SOBHA',\n",
       " '/day/NSE/SOLARINDS',\n",
       " '/day/NSE/SOUTHBANK',\n",
       " '/day/NSE/SPARC',\n",
       " '/day/NSE/SPTL',\n",
       " '/day/NSE/SREINFRA',\n",
       " '/day/NSE/SRF',\n",
       " '/day/NSE/SRTRANSFIN',\n",
       " '/day/NSE/STAR',\n",
       " '/day/NSE/STCINDIA',\n",
       " '/day/NSE/STRTECH',\n",
       " '/day/NSE/SUNDARMFIN',\n",
       " '/day/NSE/SUNDRMFAST',\n",
       " '/day/NSE/SUNPHARMA',\n",
       " '/day/NSE/SUNTECK',\n",
       " '/day/NSE/SUNTV',\n",
       " '/day/NSE/SUPREMEIND',\n",
       " '/day/NSE/SUVEN',\n",
       " '/day/NSE/SUZLON',\n",
       " '/day/NSE/SYNDIBANK',\n",
       " '/day/NSE/SYNGENE',\n",
       " '/day/NSE/TAKE',\n",
       " '/day/NSE/TALWALKARS',\n",
       " '/day/NSE/TATACHEM',\n",
       " '/day/NSE/TATACOFFEE',\n",
       " '/day/NSE/TATACOMM',\n",
       " '/day/NSE/TATAELXSI',\n",
       " '/day/NSE/TATAGLOBAL',\n",
       " '/day/NSE/TATAINVEST',\n",
       " '/day/NSE/TATAMOTORS',\n",
       " '/day/NSE/TATAMTRDVR',\n",
       " '/day/NSE/TATAPOWER',\n",
       " '/day/NSE/TATASPONGE',\n",
       " '/day/NSE/TATASTEEL',\n",
       " '/day/NSE/TBZ',\n",
       " '/day/NSE/TCI',\n",
       " '/day/NSE/TCS',\n",
       " '/day/NSE/TECHM',\n",
       " '/day/NSE/TEJASNET',\n",
       " '/day/NSE/TEXMOPIPES',\n",
       " '/day/NSE/TEXRAIL',\n",
       " '/day/NSE/THERMAX',\n",
       " '/day/NSE/THOMASCOOK',\n",
       " '/day/NSE/THYROCARE',\n",
       " '/day/NSE/TIMETECHNO',\n",
       " '/day/NSE/TINPLATE',\n",
       " '/day/NSE/TITAN',\n",
       " '/day/NSE/TNPETRO',\n",
       " '/day/NSE/TNPL',\n",
       " '/day/NSE/TORNTPHARM',\n",
       " '/day/NSE/TORNTPOWER',\n",
       " '/day/NSE/TRENT',\n",
       " '/day/NSE/TRIDENT',\n",
       " '/day/NSE/TRIGYN',\n",
       " '/day/NSE/TRIVENI',\n",
       " '/day/NSE/TTKPRESTIG',\n",
       " '/day/NSE/TV18BRDCST',\n",
       " '/day/NSE/TVSMOTOR',\n",
       " '/day/NSE/TWL',\n",
       " '/day/NSE/UBL',\n",
       " '/day/NSE/UCOBANK',\n",
       " '/day/NSE/UJJIVAN',\n",
       " '/day/NSE/ULTRACEMCO',\n",
       " '/day/NSE/UNIONBANK',\n",
       " '/day/NSE/UNIVCABLES',\n",
       " '/day/NSE/UPL',\n",
       " '/day/NSE/USHAMART',\n",
       " '/day/NSE/VEDL',\n",
       " '/day/NSE/VGUARD',\n",
       " '/day/NSE/VIPCLOTHNG',\n",
       " '/day/NSE/VIPIND',\n",
       " '/day/NSE/VOLTAS',\n",
       " '/day/NSE/VTL',\n",
       " '/day/NSE/WABCOINDIA',\n",
       " '/day/NSE/WALCHANNAG',\n",
       " '/day/NSE/WELCORP',\n",
       " '/day/NSE/WELENT',\n",
       " '/day/NSE/WELSPUNIND',\n",
       " '/day/NSE/WHIRLPOOL',\n",
       " '/day/NSE/WINDMACHIN',\n",
       " '/day/NSE/WIPRO',\n",
       " '/day/NSE/WOCKPHARMA',\n",
       " '/day/NSE/WONDERLA',\n",
       " '/day/NSE/YESBANK',\n",
       " '/day/NSE/ZEEL']"
      ]
     },
     "execution_count": 25,
     "metadata": {},
     "output_type": "execute_result"
    }
   ],
   "source": [
    "temp_file.keys()"
   ]
  },
  {
   "cell_type": "code",
   "execution_count": 14,
   "metadata": {},
   "outputs": [],
   "source": [
    "df1 = pd.read_hdf(temp_file, key='/minute/NSE/WIPRO')"
   ]
  },
  {
   "cell_type": "code",
   "execution_count": 3,
   "metadata": {},
   "outputs": [
    {
     "name": "stderr",
     "output_type": "stream",
     "text": [
      "/usr/local/lib/python3.7/site-packages/tables/path.py:155: NaturalNameWarning: object name is not a valid Python identifier: '3MINDIA'; it does not match the pattern ``^[a-zA-Z_][a-zA-Z0-9_]*$``; you will not be able to use natural naming to access this object; using ``getattr()`` will still work, though\n",
      "  check_attribute_name(name)\n",
      "/usr/local/lib/python3.7/site-packages/tables/path.py:155: NaturalNameWarning: object name is not a valid Python identifier: 'BAJAJ-AUTO'; it does not match the pattern ``^[a-zA-Z_][a-zA-Z0-9_]*$``; you will not be able to use natural naming to access this object; using ``getattr()`` will still work, though\n",
      "  check_attribute_name(name)\n",
      "/usr/local/lib/python3.7/site-packages/tables/path.py:155: NaturalNameWarning: object name is not a valid Python identifier: 'COX&KINGS'; it does not match the pattern ``^[a-zA-Z_][a-zA-Z0-9_]*$``; you will not be able to use natural naming to access this object; using ``getattr()`` will still work, though\n",
      "  check_attribute_name(name)\n",
      "/usr/local/lib/python3.7/site-packages/tables/path.py:155: NaturalNameWarning: object name is not a valid Python identifier: 'GET&D'; it does not match the pattern ``^[a-zA-Z_][a-zA-Z0-9_]*$``; you will not be able to use natural naming to access this object; using ``getattr()`` will still work, though\n",
      "  check_attribute_name(name)\n",
      "/usr/local/lib/python3.7/site-packages/tables/path.py:155: NaturalNameWarning: object name is not a valid Python identifier: 'HCL-INSYS'; it does not match the pattern ``^[a-zA-Z_][a-zA-Z0-9_]*$``; you will not be able to use natural naming to access this object; using ``getattr()`` will still work, though\n",
      "  check_attribute_name(name)\n",
      "/usr/local/lib/python3.7/site-packages/tables/path.py:155: NaturalNameWarning: object name is not a valid Python identifier: 'L&TFH'; it does not match the pattern ``^[a-zA-Z_][a-zA-Z0-9_]*$``; you will not be able to use natural naming to access this object; using ``getattr()`` will still work, though\n",
      "  check_attribute_name(name)\n",
      "/usr/local/lib/python3.7/site-packages/tables/path.py:155: NaturalNameWarning: object name is not a valid Python identifier: 'M&M'; it does not match the pattern ``^[a-zA-Z_][a-zA-Z0-9_]*$``; you will not be able to use natural naming to access this object; using ``getattr()`` will still work, though\n",
      "  check_attribute_name(name)\n",
      "/usr/local/lib/python3.7/site-packages/tables/path.py:155: NaturalNameWarning: object name is not a valid Python identifier: 'M&MFIN'; it does not match the pattern ``^[a-zA-Z_][a-zA-Z0-9_]*$``; you will not be able to use natural naming to access this object; using ``getattr()`` will still work, though\n",
      "  check_attribute_name(name)\n",
      "/usr/local/lib/python3.7/site-packages/tables/path.py:155: NaturalNameWarning: object name is not a valid Python identifier: 'MCDOWELL-N'; it does not match the pattern ``^[a-zA-Z_][a-zA-Z0-9_]*$``; you will not be able to use natural naming to access this object; using ``getattr()`` will still work, though\n",
      "  check_attribute_name(name)\n",
      "/usr/local/lib/python3.7/site-packages/tables/path.py:155: NaturalNameWarning: object name is not a valid Python identifier: 'NIFTY 100'; it does not match the pattern ``^[a-zA-Z_][a-zA-Z0-9_]*$``; you will not be able to use natural naming to access this object; using ``getattr()`` will still work, though\n",
      "  check_attribute_name(name)\n",
      "/usr/local/lib/python3.7/site-packages/tables/path.py:155: NaturalNameWarning: object name is not a valid Python identifier: 'NIFTY 200'; it does not match the pattern ``^[a-zA-Z_][a-zA-Z0-9_]*$``; you will not be able to use natural naming to access this object; using ``getattr()`` will still work, though\n",
      "  check_attribute_name(name)\n",
      "/usr/local/lib/python3.7/site-packages/tables/path.py:155: NaturalNameWarning: object name is not a valid Python identifier: 'NIFTY 50'; it does not match the pattern ``^[a-zA-Z_][a-zA-Z0-9_]*$``; you will not be able to use natural naming to access this object; using ``getattr()`` will still work, though\n",
      "  check_attribute_name(name)\n",
      "/usr/local/lib/python3.7/site-packages/tables/path.py:155: NaturalNameWarning: object name is not a valid Python identifier: 'NIFTY AUTO'; it does not match the pattern ``^[a-zA-Z_][a-zA-Z0-9_]*$``; you will not be able to use natural naming to access this object; using ``getattr()`` will still work, though\n",
      "  check_attribute_name(name)\n",
      "/usr/local/lib/python3.7/site-packages/tables/path.py:155: NaturalNameWarning: object name is not a valid Python identifier: 'NIFTY BANK'; it does not match the pattern ``^[a-zA-Z_][a-zA-Z0-9_]*$``; you will not be able to use natural naming to access this object; using ``getattr()`` will still work, though\n",
      "  check_attribute_name(name)\n",
      "/usr/local/lib/python3.7/site-packages/tables/path.py:155: NaturalNameWarning: object name is not a valid Python identifier: 'NIFTY COMMODITIES'; it does not match the pattern ``^[a-zA-Z_][a-zA-Z0-9_]*$``; you will not be able to use natural naming to access this object; using ``getattr()`` will still work, though\n",
      "  check_attribute_name(name)\n",
      "/usr/local/lib/python3.7/site-packages/tables/path.py:155: NaturalNameWarning: object name is not a valid Python identifier: 'NIFTY ENERGY'; it does not match the pattern ``^[a-zA-Z_][a-zA-Z0-9_]*$``; you will not be able to use natural naming to access this object; using ``getattr()`` will still work, though\n",
      "  check_attribute_name(name)\n",
      "/usr/local/lib/python3.7/site-packages/tables/path.py:155: NaturalNameWarning: object name is not a valid Python identifier: 'NIFTY FIN SERVICE'; it does not match the pattern ``^[a-zA-Z_][a-zA-Z0-9_]*$``; you will not be able to use natural naming to access this object; using ``getattr()`` will still work, though\n",
      "  check_attribute_name(name)\n",
      "/usr/local/lib/python3.7/site-packages/tables/path.py:155: NaturalNameWarning: object name is not a valid Python identifier: 'NIFTY FMCG'; it does not match the pattern ``^[a-zA-Z_][a-zA-Z0-9_]*$``; you will not be able to use natural naming to access this object; using ``getattr()`` will still work, though\n",
      "  check_attribute_name(name)\n",
      "/usr/local/lib/python3.7/site-packages/tables/path.py:155: NaturalNameWarning: object name is not a valid Python identifier: 'NIFTY INFRA'; it does not match the pattern ``^[a-zA-Z_][a-zA-Z0-9_]*$``; you will not be able to use natural naming to access this object; using ``getattr()`` will still work, though\n",
      "  check_attribute_name(name)\n",
      "/usr/local/lib/python3.7/site-packages/tables/path.py:155: NaturalNameWarning: object name is not a valid Python identifier: 'NIFTY IT'; it does not match the pattern ``^[a-zA-Z_][a-zA-Z0-9_]*$``; you will not be able to use natural naming to access this object; using ``getattr()`` will still work, though\n",
      "  check_attribute_name(name)\n",
      "/usr/local/lib/python3.7/site-packages/tables/path.py:155: NaturalNameWarning: object name is not a valid Python identifier: 'NIFTY JUNIOR'; it does not match the pattern ``^[a-zA-Z_][a-zA-Z0-9_]*$``; you will not be able to use natural naming to access this object; using ``getattr()`` will still work, though\n",
      "  check_attribute_name(name)\n",
      "/usr/local/lib/python3.7/site-packages/tables/path.py:155: NaturalNameWarning: object name is not a valid Python identifier: 'NIFTY MEDIA'; it does not match the pattern ``^[a-zA-Z_][a-zA-Z0-9_]*$``; you will not be able to use natural naming to access this object; using ``getattr()`` will still work, though\n",
      "  check_attribute_name(name)\n",
      "/usr/local/lib/python3.7/site-packages/tables/path.py:155: NaturalNameWarning: object name is not a valid Python identifier: 'NIFTY METAL'; it does not match the pattern ``^[a-zA-Z_][a-zA-Z0-9_]*$``; you will not be able to use natural naming to access this object; using ``getattr()`` will still work, though\n",
      "  check_attribute_name(name)\n",
      "/usr/local/lib/python3.7/site-packages/tables/path.py:155: NaturalNameWarning: object name is not a valid Python identifier: 'NIFTY MIDCAP 100'; it does not match the pattern ``^[a-zA-Z_][a-zA-Z0-9_]*$``; you will not be able to use natural naming to access this object; using ``getattr()`` will still work, though\n",
      "  check_attribute_name(name)\n",
      "/usr/local/lib/python3.7/site-packages/tables/path.py:155: NaturalNameWarning: object name is not a valid Python identifier: 'NIFTY MIDCAP 50'; it does not match the pattern ``^[a-zA-Z_][a-zA-Z0-9_]*$``; you will not be able to use natural naming to access this object; using ``getattr()`` will still work, though\n",
      "  check_attribute_name(name)\n"
     ]
    },
    {
     "name": "stderr",
     "output_type": "stream",
     "text": [
      "/usr/local/lib/python3.7/site-packages/tables/path.py:155: NaturalNameWarning: object name is not a valid Python identifier: 'NIFTY MNC'; it does not match the pattern ``^[a-zA-Z_][a-zA-Z0-9_]*$``; you will not be able to use natural naming to access this object; using ``getattr()`` will still work, though\n",
      "  check_attribute_name(name)\n",
      "/usr/local/lib/python3.7/site-packages/tables/path.py:155: NaturalNameWarning: object name is not a valid Python identifier: 'NIFTY PHARMA'; it does not match the pattern ``^[a-zA-Z_][a-zA-Z0-9_]*$``; you will not be able to use natural naming to access this object; using ``getattr()`` will still work, though\n",
      "  check_attribute_name(name)\n",
      "/usr/local/lib/python3.7/site-packages/tables/path.py:155: NaturalNameWarning: object name is not a valid Python identifier: 'NIFTY PSU BANK'; it does not match the pattern ``^[a-zA-Z_][a-zA-Z0-9_]*$``; you will not be able to use natural naming to access this object; using ``getattr()`` will still work, though\n",
      "  check_attribute_name(name)\n",
      "/usr/local/lib/python3.7/site-packages/tables/path.py:155: NaturalNameWarning: object name is not a valid Python identifier: 'NIFTY REALTY'; it does not match the pattern ``^[a-zA-Z_][a-zA-Z0-9_]*$``; you will not be able to use natural naming to access this object; using ``getattr()`` will still work, though\n",
      "  check_attribute_name(name)\n",
      "/usr/local/lib/python3.7/site-packages/tables/path.py:155: NaturalNameWarning: object name is not a valid Python identifier: 'NIFTY SMALL 100'; it does not match the pattern ``^[a-zA-Z_][a-zA-Z0-9_]*$``; you will not be able to use natural naming to access this object; using ``getattr()`` will still work, though\n",
      "  check_attribute_name(name)\n"
     ]
    }
   ],
   "source": [
    "keys = ['BHARTIARTL', '3MINDIA', 'AARTIIND', 'ABB', 'ABFRL', 'ACC', 'ACE', 'ADANIENT', 'ADANIPORTS', 'ADANIPOWER', 'AIAENG', 'AJANTPHARM', 'AKZOINDIA', 'ALBK', 'ALKEM', 'ALLCARGO', 'AMARAJABAT', 'AMBUJACEM', 'ANANTRAJ', 'APOLLOHOSP', 'APOLLOTYRE', 'ARVIND', 'ASAHIINDIA', 'ASHOKLEY', 'ASIANPAINT', 'ASTRAZEN', 'ATFL', 'ATUL', 'AUBANK', 'AUROPHARMA', 'AUTOAXLES', 'AVANTIFEED', 'AXISBANK', 'BAJAJ-AUTO', 'BAJAJELEC', 'BAJAJFINSV', 'BAJAJHLDNG', 'BAJFINANCE', 'BALKRISIND', 'BALRAMCHIN', 'BANCOINDIA', 'BANKBARODA', 'BANKBEES', 'BANKINDIA', 'BATAINDIA', 'BBTC', 'BEL', 'BEML', 'BERGEPAINT', 'BFUTILITIE', 'BHARATFIN', 'BHARATFORG', 'BHARTIARTL', 'BHEL', 'BIOCON', 'BLISSGVS', 'BLKASHYAP', 'BLUEDART', 'BOSCHLTD', 'BPCL', 'BRITANNIA', 'BSE', 'CADILAHC', 'CAMLINFINE', 'CANBK', 'CANFINHOME', 'CAPACITE', 'CASTROLIND', 'CDSL', 'CEATLTD', 'CENTRUM', 'CENTURYPLY', 'CENTURYTEX', 'CEREBRAINT', 'CESC', 'CGCL', 'CGPOWER', 'CHENNPETRO', 'CHOLAFIN', 'CIPLA', 'CNOVAPETRO', 'COALINDIA', 'COCHINSHIP', 'COFFEEDAY', 'COLPAL', 'CONCOR', 'COROMANDEL', 'COX&KINGS', 'CRISIL', 'CROMPTON', 'CUB', 'CUMMINSIND', 'CYIENT', 'DAAWAT', 'DABUR', 'DALMIASUG', 'DBCORP', 'DCBBANK', 'DCMSHRIRAM', 'DEN', 'DHAMPURSUG', 'DHFL', 'DIAMONDYD', 'DISHTV', 'DIVISLAB', 'DIXON', 'DLF', 'DMART', 'DREDGECORP', 'DRREDDY', 'ECLERX', 'EICHERMOT', 'EIDPARRY', 'EIHOTEL', 'ELECTCAST', 'EMAMILTD', 'ENDURANCE', 'ENGINERSIN', 'EQUITAS', 'ERIS', 'EROSMEDIA', 'ESCORTS', 'ESTER', 'EXIDEIND', 'FEDERALBNK', 'FEL', 'FINCABLES', 'FORTIS', 'FRETAIL', 'GAIL', 'GATI', 'GDL', 'GEPIL', 'GESHIP', 'GET&D', 'GHCL', 'GICHSGFIN', 'GICRE', 'GILLETTE', 'GLAXO', 'GLENMARK', 'GLOBUSSPR', 'GMBREW', 'GMRINFRA', 'GNA', 'GNFC', 'GODFRYPHLP', 'GODREJAGRO', 'GODREJCP', 'GODREJIND', 'GODREJPROP', 'GOLDBEES', 'GPPL', 'GRANULES', 'GRASIM', 'GREAVESCOT', 'GSFC', 'GSKCONS', 'GSPL', 'GUJALKALI', 'GUJFLUORO', 'GUJGASLTD', 'HATHWAY', 'HAVELLS', 'HBLPOWER', 'HCL-INSYS', 'HCLTECH', 'HDFC', 'HDFCAMC', 'HDFCBANK', 'HDFCLIFE', 'HEIDELBERG', 'HEROMOTOCO', 'HEXAWARE', 'HGS', 'HIKAL', 'HINDALCO', 'HINDCOPPER', 'HINDPETRO', 'HINDUNILVR', 'HINDZINC', 'HONAUT', 'HSCL', 'HSIL', 'HUDCO', 'IBULHSGFIN', 'ICICIBANK', 'ICICIGI', 'ICICINIFTY', 'ICICIPRULI', 'IDBI', 'IDEA', 'IDFC', 'IDFCFIRSTB', 'IEX', 'IFCI', 'IGL', 'INDHOTEL', 'INDIACEM', 'INDIANB', 'INDIGO', 'INDUSINDBK', 'INFIBEAM', 'INFRATEL', 'INFY', 'INOXLEISUR', 'INOXWIND', 'INTELLECT', 'IOB', 'IOC', 'IPCALAB', 'IRB', 'ITC', 'ITDCEM', 'JAGRAN', 'JAICORPLTD', 'JAMNAAUTO', 'JAYAGROGN', 'JAYSREETEA', 'JETAIRWAYS', 'JINDALSTEL', 'JINDWORLD', 'JISLJALEQS', 'JKCEMENT', 'JKPAPER', 'JKTYRE', 'JMFINANCIL', 'JPASSOCIAT', 'JSLHISAR', 'JSWENERGY', 'JSWSTEEL', 'JUBILANT', 'JUBLFOOD', 'JUSTDIAL', 'JYOTHYLAB', 'KAJARIACER', 'KALPATPOWR', 'KANSAINER', 'KARURVYSYA', 'KEC', 'KEI', 'KILITCH', 'KIRIINDUS', 'KOTAKBANK', 'KOTAKNIFTY', 'KSCL', 'KTKBANK', 'L&TFH', 'LALPATHLAB', 'LIBERTSHOE', 'LICHSGFIN', 'LINCOLN', 'LIQUIDBEES', 'LOVABLE', 'LT', 'LUPIN', 'M&M', 'M&MFIN', 'M50', 'MAGMA', 'MAHINDCIE', 'MAHLOG', 'MAHSEAMLES', 'MAJESCO', 'MANALIPETC', 'MANAPPURAM', 'MANGTIMBER', 'MANINDS', 'MANINFRA', 'MARICO', 'MARKSANS', 'MARUTI', 'MASFIN', 'MASTEK', 'MCDOWELL-N', 'MCX', 'MEGH', 'MFSL', 'MGL', 'MIDHANI', 'MINDACORP', 'MINDAIND', 'MINDTREE', 'MMTC', 'MOIL', 'MOLDTKPAC', 'MOREPENLAB', 'MOTHERSUMI', 'MPHASIS', 'MRF', 'MRPL', 'MUKANDLTD', 'MUNJALAU', 'MUTHOOTFIN', 'NATCOPHARM', 'NATIONALUM', 'NAUKRI', 'NAVINFLUOR', 'NAVNETEDUL', 'NBCC', 'NCC', 'NESTLEIND', 'NETWORK18', 'NFL', 'NH', 'NHPC', 'NIACL', 'NIFTY 100', 'NIFTY 200', 'NIFTY 50', 'NIFTY AUTO', 'NIFTY BANK', 'NIFTY COMMODITIES', 'NIFTY ENERGY', 'NIFTY FIN SERVICE', 'NIFTY FMCG', 'NIFTY INFRA', 'NIFTY IT', 'NIFTY JUNIOR', 'NIFTY MEDIA', 'NIFTY METAL', 'NIFTY MIDCAP 100', 'NIFTY MIDCAP 50', 'NIFTY MNC', 'NIFTY PHARMA', 'NIFTY PSU BANK', 'NIFTY REALTY', 'NIFTY SMALL 100', 'NIFTYBEES', 'NIITTECH', 'NLCINDIA', 'NMDC', 'NOCIL', 'NRBBEARING', 'NTPC', 'OBEROIRLTY', 'OFSS', 'OIL', 'OMAXE', 'ONGC', 'ORIENTBANK', 'ORIENTCEM', 'PAGEIND', 'PAPERPROD', 'PARAGMILK', 'PATELENG', 'PCJEWELLER', 'PEL', 'PERSISTENT', 'PETRONET', 'PFC', 'PFIZER', 'PGHH', 'PHILIPCARB', 'PHOENIXLTD', 'PIDILITIND', 'PIIND', 'PNB', 'PNBGILTS', 'PNBHOUSING', 'POLYPLEX', 'POWERGRID', 'PRAJIND', 'PRESTIGE', 'PTC', 'PURVA', 'PVR', 'QUICKHEAL', 'RADICO', 'RADIOCITY', 'RAJESHEXPO', 'RALLIS', 'RAMCOCEM', 'RAMCOIND', 'RAMKY', 'RAYMOND', 'RBLBANK', 'RCF', 'RECLTD', 'RELAXO', 'RELCAPITAL', 'RELIANCE', 'RELINFRA', 'REPCOHOME', 'RICOAUTO', 'RIIL', 'RKFORGE', 'RPOWER', 'SAIL', 'SAKUMA', 'SALASAR', 'SALZERELEC', 'SANGHIIND', 'SANGHVIMOV', 'SANOFI', 'SAREGAMA', 'SBILIFE', 'SBIN', 'SCHAEFFLER', 'SCHAND', 'SCHNEIDER', 'SCI', 'SELAN', 'SEQUENT', 'SHARDAMOTR', 'SHREECEM', 'SHRIRAMCIT', 'SIEMENS', 'SIMPLEXINF', 'SINTEX', 'SIS', 'SJVN', 'SKFINDIA', 'SNOWMAN', 'SOBHA', 'SOLARINDS', 'SOUTHBANK', 'SPARC', 'SPTL', 'SREINFRA', 'SRF', 'SRTRANSFIN', 'STAR', 'STCINDIA', 'STRTECH', 'SUNDARMFIN', 'SUNDRMFAST', 'SUNPHARMA', 'SUNTECK', 'SUNTV', 'SUPREMEIND', 'SUVEN', 'SUZLON', 'SYNDIBANK', 'SYNGENE', 'TAKE', 'TALWALKARS', 'TATACHEM', 'TATACOFFEE', 'TATACOMM', 'TATAELXSI', 'TATAGLOBAL', 'TATAINVEST', 'TATAMOTORS', 'TATAMTRDVR', 'TATAPOWER', 'TATASPONGE', 'TATASTEEL', 'TBZ', 'TCI', 'TCS', 'TECHM', 'TEJASNET', 'TEXMOPIPES', 'TEXRAIL', 'THERMAX', 'THOMASCOOK', 'THYROCARE', 'TIMETECHNO', 'TINPLATE', 'TITAN', 'TNPETRO', 'TNPL', 'TORNTPHARM', 'TORNTPOWER', 'TRENT', 'TRIDENT', 'TRIGYN', 'TRIVENI', 'TTKPRESTIG', 'TV18BRDCST', 'TVSMOTOR', 'TWL', 'UBL', 'UCOBANK', 'UJJIVAN', 'ULTRACEMCO', 'UNIONBANK', 'UNIVCABLES', 'UPL', 'USHAMART', 'VEDL', 'VGUARD', 'VIPCLOTHNG', 'VIPIND', 'VOLTAS', 'VTL', 'WABCOINDIA', 'WALCHANNAG', 'WELCORP', 'WELENT', 'WELSPUNIND', 'WHIRLPOOL', 'WINDMACHIN', 'WIPRO', 'WOCKPHARMA', 'WONDERLA', 'YESBANK', 'ZEEL']\n",
    "\n",
    "temp_file1 = pd.HDFStore('data/kite_cache_sample.h5', mode=\"w\")\n",
    "for key in keys:\n",
    "    hash1 = '/minute/NSE/'+key\n",
    "    hash2 = '/day/NSE/'+key\n",
    "    df1 = pd.read_hdf(temp_file, key=hash1)\n",
    "    df2 = pd.read_hdf(temp_file, key=hash2)\n",
    "    \n",
    "    df1.tail(10000).to_hdf(temp_file1, hash1)\n",
    "    df2.tail(1000).to_hdf(temp_file1, hash2)\n",
    "    \n",
    "    #print(key)\n",
    "    \n",
    "    temp_file1.close()"
   ]
  },
  {
   "cell_type": "code",
   "execution_count": 4,
   "metadata": {},
   "outputs": [
    {
     "data": {
      "text/plain": [
       "['/minute/NSE/BPCL',\n",
       " '/minute/NSE/INFRATEL',\n",
       " '/minute/NSE/TCS',\n",
       " '/minute/NSE/WIPRO',\n",
       " '/day/NSE/BPCL',\n",
       " '/day/NSE/INFRATEL',\n",
       " '/day/NSE/TCS',\n",
       " '/day/NSE/WIPRO']"
      ]
     },
     "execution_count": 4,
     "metadata": {},
     "output_type": "execute_result"
    }
   ],
   "source": [
    "pd.HDFStore('data/kite_cache_sample.h5', mode=\"r\").keys()"
   ]
  },
  {
   "cell_type": "code",
   "execution_count": 6,
   "metadata": {},
   "outputs": [
    {
     "data": {
      "text/html": [
       "<div>\n",
       "<style scoped>\n",
       "    .dataframe tbody tr th:only-of-type {\n",
       "        vertical-align: middle;\n",
       "    }\n",
       "\n",
       "    .dataframe tbody tr th {\n",
       "        vertical-align: top;\n",
       "    }\n",
       "\n",
       "    .dataframe thead th {\n",
       "        text-align: right;\n",
       "    }\n",
       "</style>\n",
       "<table border=\"1\" class=\"dataframe\">\n",
       "  <thead>\n",
       "    <tr style=\"text-align: right;\">\n",
       "      <th></th>\n",
       "      <th>close</th>\n",
       "      <th>high</th>\n",
       "      <th>low</th>\n",
       "      <th>open</th>\n",
       "      <th>volume</th>\n",
       "    </tr>\n",
       "    <tr>\n",
       "      <th>date</th>\n",
       "      <th></th>\n",
       "      <th></th>\n",
       "      <th></th>\n",
       "      <th></th>\n",
       "      <th></th>\n",
       "    </tr>\n",
       "  </thead>\n",
       "  <tbody>\n",
       "    <tr>\n",
       "      <th>2019-03-22 11:20:00</th>\n",
       "      <td>259.80</td>\n",
       "      <td>259.80</td>\n",
       "      <td>259.75</td>\n",
       "      <td>259.75</td>\n",
       "      <td>1202</td>\n",
       "    </tr>\n",
       "    <tr>\n",
       "      <th>2019-03-22 11:21:00</th>\n",
       "      <td>259.80</td>\n",
       "      <td>259.95</td>\n",
       "      <td>259.65</td>\n",
       "      <td>259.80</td>\n",
       "      <td>2975</td>\n",
       "    </tr>\n",
       "    <tr>\n",
       "      <th>2019-03-22 11:22:00</th>\n",
       "      <td>260.00</td>\n",
       "      <td>260.00</td>\n",
       "      <td>259.75</td>\n",
       "      <td>259.80</td>\n",
       "      <td>5195</td>\n",
       "    </tr>\n",
       "    <tr>\n",
       "      <th>2019-03-22 11:23:00</th>\n",
       "      <td>259.95</td>\n",
       "      <td>260.00</td>\n",
       "      <td>259.95</td>\n",
       "      <td>260.00</td>\n",
       "      <td>2723</td>\n",
       "    </tr>\n",
       "    <tr>\n",
       "      <th>2019-03-22 11:24:00</th>\n",
       "      <td>259.90</td>\n",
       "      <td>260.00</td>\n",
       "      <td>259.85</td>\n",
       "      <td>259.95</td>\n",
       "      <td>2462</td>\n",
       "    </tr>\n",
       "    <tr>\n",
       "      <th>...</th>\n",
       "      <td>...</td>\n",
       "      <td>...</td>\n",
       "      <td>...</td>\n",
       "      <td>...</td>\n",
       "      <td>...</td>\n",
       "    </tr>\n",
       "    <tr>\n",
       "      <th>2019-05-03 15:25:00</th>\n",
       "      <td>291.15</td>\n",
       "      <td>291.20</td>\n",
       "      <td>290.85</td>\n",
       "      <td>290.90</td>\n",
       "      <td>45200</td>\n",
       "    </tr>\n",
       "    <tr>\n",
       "      <th>2019-05-03 15:26:00</th>\n",
       "      <td>291.15</td>\n",
       "      <td>291.15</td>\n",
       "      <td>291.10</td>\n",
       "      <td>291.15</td>\n",
       "      <td>23576</td>\n",
       "    </tr>\n",
       "    <tr>\n",
       "      <th>2019-05-03 15:27:00</th>\n",
       "      <td>291.05</td>\n",
       "      <td>291.15</td>\n",
       "      <td>290.95</td>\n",
       "      <td>291.15</td>\n",
       "      <td>41539</td>\n",
       "    </tr>\n",
       "    <tr>\n",
       "      <th>2019-05-03 15:28:00</th>\n",
       "      <td>291.25</td>\n",
       "      <td>291.50</td>\n",
       "      <td>291.00</td>\n",
       "      <td>291.00</td>\n",
       "      <td>47988</td>\n",
       "    </tr>\n",
       "    <tr>\n",
       "      <th>2019-05-03 15:29:00</th>\n",
       "      <td>291.65</td>\n",
       "      <td>291.70</td>\n",
       "      <td>291.20</td>\n",
       "      <td>291.30</td>\n",
       "      <td>27882</td>\n",
       "    </tr>\n",
       "  </tbody>\n",
       "</table>\n",
       "<p>10000 rows × 5 columns</p>\n",
       "</div>"
      ],
      "text/plain": [
       "                      close    high     low    open  volume\n",
       "date                                                       \n",
       "2019-03-22 11:20:00  259.80  259.80  259.75  259.75    1202\n",
       "2019-03-22 11:21:00  259.80  259.95  259.65  259.80    2975\n",
       "2019-03-22 11:22:00  260.00  260.00  259.75  259.80    5195\n",
       "2019-03-22 11:23:00  259.95  260.00  259.95  260.00    2723\n",
       "2019-03-22 11:24:00  259.90  260.00  259.85  259.95    2462\n",
       "...                     ...     ...     ...     ...     ...\n",
       "2019-05-03 15:25:00  291.15  291.20  290.85  290.90   45200\n",
       "2019-05-03 15:26:00  291.15  291.15  291.10  291.15   23576\n",
       "2019-05-03 15:27:00  291.05  291.15  290.95  291.15   41539\n",
       "2019-05-03 15:28:00  291.25  291.50  291.00  291.00   47988\n",
       "2019-05-03 15:29:00  291.65  291.70  291.20  291.30   27882\n",
       "\n",
       "[10000 rows x 5 columns]"
      ]
     },
     "execution_count": 6,
     "metadata": {},
     "output_type": "execute_result"
    }
   ],
   "source": [
    "pd.read_hdf('data/kite_cache_sample.h5', key='/minute/NSE/WIPRO')"
   ]
  },
  {
   "cell_type": "code",
   "execution_count": 8,
   "metadata": {},
   "outputs": [],
   "source": [
    "temp_file1.close()"
   ]
  },
  {
   "cell_type": "code",
   "execution_count": null,
   "metadata": {},
   "outputs": [],
   "source": []
  }
 ],
 "metadata": {
  "kernelspec": {
   "display_name": "Python 3",
   "language": "python",
   "name": "python3"
  },
  "language_info": {
   "codemirror_mode": {
    "name": "ipython",
    "version": 3
   },
   "file_extension": ".py",
   "mimetype": "text/x-python",
   "name": "python",
   "nbconvert_exporter": "python",
   "pygments_lexer": "ipython3",
   "version": "3.7.7"
  }
 },
 "nbformat": 4,
 "nbformat_minor": 4
}
