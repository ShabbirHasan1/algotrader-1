{
 "cells": [
  {
   "cell_type": "code",
   "execution_count": 1,
   "metadata": {},
   "outputs": [],
   "source": [
    "%load_ext autoreload\n",
    "%autoreload 2\n",
    "#from lib.multitasking_lib import *"
   ]
  },
  {
   "cell_type": "code",
   "execution_count": 2,
   "metadata": {},
   "outputs": [],
   "source": [
    "from lib.multitasking_lib import *\n",
    "cache_type ='backtest_uni'\n",
    "\n",
    "my_cache = cache_state('backtest_uni')"
   ]
  },
  {
   "cell_type": "code",
   "execution_count": 8,
   "metadata": {
    "scrolled": true
   },
   "outputs": [
    {
     "name": "stdout",
     "output_type": "stream",
     "text": [
      "True\n",
      "['kite_simulatorbacktest_web', 'order_handlerlive', 'order_handlerbacktest_web', 'order_notification_handlerlive', 'ohlc_tick_handlerbacktest_web']\n",
      "[]\n"
     ]
    },
    {
     "name": "stderr",
     "output_type": "stream",
     "text": [
      "2020-05-30 01:30:27,868 INFO:\tStarting Handler: kite_simulator\n",
      "2020-05-30 01:30:27,888 INFO:\tStarting Handler: ohlc_tick_handler\n",
      "2020-05-30 01:30:27,889 INFO:\tStarting Handler: order_handler\n",
      "2020-05-30 01:30:28,057 DEBUG:\tohlc_tick_handler(backtest_uni) - INIT: 1\n",
      "2020-05-30 01:30:28,060 DEBUG:\tkite_simulator: 1\n",
      "2020-05-30 01:30:28,102 DEBUG:\torder_handler(backtest_uni): 1\n",
      "2020-05-30 01:30:28,150 ERROR:\tkite_simulator: Invalid msg: 1\n",
      "2020-05-30 01:30:28,206 ERROR:\tError in order handler\n",
      "2020-05-30 01:30:30,526 DEBUG:\tkite_simulator: {\"stock\": [\"TCS\"], \"sl\": 1, \"target\": 1, \"qty\": 10, \"algo\": \"breakout_1\", \"fromDate\": \"2019-4-1\", \"toDate\": \"2019-4-2\", \"freq\": \"1T\", \"mode\": \"full\"}\n",
      "2020-05-30 01:30:30,617 DEBUG:\tTrade_init: TCS\n",
      "2020-05-30 01:30:30,675 INFO:\tReset Cache for: TCSbacktest_uni\n",
      "2020-05-30 01:30:30,819 INFO:\tTCSbacktest_uni=>{'stock': 'TCS', 'qty': '0', 'SL %': '0.0', 'TP %': '0.0', 'amount': '0', 'price': '0.0', 'P&L': '0.0', 'P&L %': '0.0', 'Total P&L': '0.0', 'Total P&L %': '0.0', 'low': '0.0', 'sl': '0.0', 'ltp': '0.0', 'ltp %': '0.0', 'tp': '0.0', 'high': '0.0', 'last_processed': '0', 'state': 'INIT', 'mode': 'PAUSE', 'algo': '', 'freq': '1T', 'hdf_freq': 'minute', 'order_id': '0'}\n",
      "2020-05-30 01:30:32,003 INFO:\tRunning Full Backtest\n",
      "TRADE: S: EN:  : 2019-04-01 09:15 : TCS -> 2018.9\n",
      "2020-05-30 01:30:33,527 DEBUG:\tPlace Order: 2018.9,0.0,0,0.0\n",
      "2020-05-30 01:30:33,642 DEBUG:\torder_handler(backtest_uni): {\"cmd\": \"sell\", \"symbol\": \"TCS\", \"price\": 2018.9, \"qty\": 10.0}\n",
      "2020-05-30 01:30:33,658 INFO:\tPlaceorder(full):sell: TCS: 10x2018.9\n",
      "2020-05-30 01:30:33,696 INFO:\tPO:SHORT\n",
      "TRADE: B: EX:  : 2019-04-01 09:16 : TCS -> 2012.65\n",
      "2020-05-30 01:30:34,177 DEBUG:\tPlace Order: 2012.65,2018.9,0,0.0\n",
      "2020-05-30 01:30:34,227 DEBUG:\torder_handler(backtest_uni): {\"cmd\": \"buy\", \"symbol\": \"TCS\", \"price\": 2012.65, \"qty\": 10.0}\n",
      "2020-05-30 01:30:34,283 INFO:\tPlaceorder(full):buy: TCS: 10x2012.65\n",
      "2020-05-30 01:30:34,378 INFO:\tSQUAREOFF:SHORT\n",
      "TRADE: S: EN:  : 2019-04-01 09:32 : TCS -> 2013.65\n",
      "2020-05-30 01:30:41,859 DEBUG:\tPlace Order: 2013.65,0.0,0,62.5\n",
      "2020-05-30 01:30:42,047 DEBUG:\torder_handler(backtest_uni): {\"cmd\": \"sell\", \"symbol\": \"TCS\", \"price\": 2013.65, \"qty\": 10.0}\n",
      "2020-05-30 01:30:42,125 INFO:\tPlaceorder(full):sell: TCS: 10x2013.65\n",
      "2020-05-30 01:30:42,174 INFO:\tPO:SHORT\n",
      "TRADE: B: EX:  : 2019-04-01 09:58 : TCS -> 2019.0\n",
      "2020-05-30 01:30:52,926 DEBUG:\tPlace Order: 2019.0,2013.65,0,62.5\n",
      "2020-05-30 01:30:53,006 DEBUG:\torder_handler(backtest_uni): {\"cmd\": \"buy\", \"symbol\": \"TCS\", \"price\": 2019.0, \"qty\": 10.0}\n",
      "2020-05-30 01:30:53,106 INFO:\tPlaceorder(full):buy: TCS: 10x2019.0\n",
      "2020-05-30 01:30:53,234 INFO:\tSQUAREOFF:SHORT\n",
      "TRADE: S: EN:  : 2019-04-01 10:12 : TCS -> 2026.2\n",
      "2020-05-30 01:30:59,548 DEBUG:\tPlace Order: 2026.2,0.0,0,9.00000000000091\n",
      "2020-05-30 01:30:59,582 DEBUG:\torder_handler(backtest_uni): {\"cmd\": \"sell\", \"symbol\": \"TCS\", \"price\": 2026.2, \"qty\": 10.0}\n",
      "2020-05-30 01:30:59,623 INFO:\tPlaceorder(full):sell: TCS: 10x2026.2\n",
      "2020-05-30 01:30:59,886 INFO:\tPO:SHORT\n"
     ]
    }
   ],
   "source": [
    "######################\n",
    "# Initiate Backtest  #\n",
    "######################\n",
    "def store_algo(algo, algo_name=\"default\"):\n",
    "    redis_conn.hset(\"algos\",algo_name, algo)\n",
    "    algo_f = open(\"algo/\"+algo_name+\".txt\", \"w\")\n",
    "    algo_f.write(algo)\n",
    "    algo_f.close()\n",
    "\n",
    "def load_algo_to_redis(filename):\n",
    "    algo = open('algo/'+filename+'.txt')\n",
    "    algo_str = algo.read()\n",
    "    my_cache.hset('algos', filename,algo_str)\n",
    "    \n",
    "#my_cache.flushall()\n",
    "def backtest_unitest(stocks, freq='1T',algo_name = 'haikin_1_new', fromDate='2019-4-1', toDate='2019-4-2', mode='full'):\n",
    "    stocks = stocks\n",
    "    sl = 1\n",
    "    target = 1\n",
    "    qty = 10\n",
    "    backtest_msg={'stock':stocks,'sl':sl,'target':target,'qty':qty,'algo':algo_name,'fromDate':fromDate,'toDate':toDate,'freq':freq, 'mode':mode}\n",
    "    \n",
    "    load_algo_to_redis(algo_name)\n",
    "    \n",
    "    # Step 4: Done is set to 0: Backtest is in progress, will be resetted by backtest job\n",
    "    redis_conn.set('done'+cache_type,0)\n",
    "    # Step 5: Send the msg to backtest thread to initiate the back test\n",
    "    #pdebug(json.dumps(backtest_msg))\n",
    "    redis_conn.publish('kite_simulator'+cache_type,json.dumps(backtest_msg))\n",
    "    \n",
    "##########################\n",
    "# Unit Test              #\n",
    "##########################\n",
    "\n",
    "open('log/freedom.log','r+')\n",
    "#log_file.close()\n",
    "\n",
    "logger.setLevel(10)\n",
    "loggerT.setLevel(21)\n",
    "my_cache.set('done'+cache_type,1)\n",
    "my_cache.xtrim('msgBufferQueue'+cache_type,0,False)\n",
    "my_cache.set('last_id_msg'+cache_type, 0)\n",
    "\n",
    "\n",
    "try:\n",
    "    if backtest_manager.job.is_alive():\n",
    "        backtest_manager.job.terminate()\n",
    "        time.sleep(0.1)\n",
    "except:\n",
    "    pass\n",
    "finally:\n",
    "    backtest_manager = threadManager(cache_type, [\"kite_simulator\",\"ohlc_tick_handler\",\"order_handler\"], [kite_simulator, ohlc_tick_handler, order_handler])\n",
    "\n",
    "#redis_conn.publish('ohlc_tick_handler'+cache_type,'start')\n",
    "print(backtest_manager.job.is_alive())\n",
    "print(redis_conn.pubsub_channels())\n",
    "print(jobs)\n"
   ]
  },
  {
   "cell_type": "code",
   "execution_count": 9,
   "metadata": {
    "scrolled": true
   },
   "outputs": [],
   "source": [
    "backtest_unitest(['TCS'], algo_name='breakout_1')"
   ]
  },
  {
   "cell_type": "code",
   "execution_count": null,
   "metadata": {},
   "outputs": [],
   "source": []
  },
  {
   "cell_type": "code",
   "execution_count": 11,
   "metadata": {},
   "outputs": [
    {
     "name": "stderr",
     "output_type": "stream",
     "text": [
      "2020-05-30 01:35:14,086 INFO:\tbacktest_uni\n"
     ]
    },
    {
     "name": "stdout",
     "output_type": "stream",
     "text": [
      "False\n",
      "['kite_simulatorbacktest_web', 'order_handlerlive', 'order_handlerbacktest_web', 'order_notification_handlerlive', 'ohlc_tick_handlerbacktest_web']\n"
     ]
    }
   ],
   "source": [
    "################################\n",
    "###         Stop Trade       ###\n",
    "################################\n",
    "pinfo(cache_type)\n",
    "my_cache.xtrim('msgBufferQueue'+cache_type,0,False)\n",
    "my_cache.delete('msgBufferQueue'+cache_type)\n",
    "my_cache.set('TCSbacktest_uniTICK',pd.DataFrame().to_json())\n",
    "\n",
    "if backtest_manager.job.is_alive():\n",
    "    backtest_manager.job.terminate()\n",
    "time.sleep(1)\n",
    "print(backtest_manager.job.is_alive())\n",
    "print(redis_conn.pubsub_channels())\n",
    "my_cache.set('last_id_msg',0)\n",
    "jobs\n",
    "jobs = []"
   ]
  },
  {
   "cell_type": "code",
   "execution_count": null,
   "metadata": {},
   "outputs": [],
   "source": []
  },
  {
   "cell_type": "code",
   "execution_count": 5,
   "metadata": {},
   "outputs": [
    {
     "data": {
      "text/plain": [
       "1"
      ]
     },
     "execution_count": 5,
     "metadata": {},
     "output_type": "execute_result"
    }
   ],
   "source": [
    "my_cache.publish('kite_simulatorbacktest_web','stop')"
   ]
  },
  {
   "cell_type": "code",
   "execution_count": 3,
   "metadata": {},
   "outputs": [
    {
     "data": {
      "text/plain": [
       "['kite_simulatorbacktest_web',\n",
       " 'order_handlerlive',\n",
       " 'order_handlerbacktest_web',\n",
       " 'order_notification_handlerlive',\n",
       " 'ohlc_tick_handlerbacktest_web']"
      ]
     },
     "execution_count": 3,
     "metadata": {},
     "output_type": "execute_result"
    }
   ],
   "source": [
    "my_cache.pubsub_channels()"
   ]
  },
  {
   "cell_type": "code",
   "execution_count": null,
   "metadata": {},
   "outputs": [],
   "source": [
    "backtest_unitest(['TCS'])"
   ]
  },
  {
   "cell_type": "code",
   "execution_count": null,
   "metadata": {},
   "outputs": [],
   "source": [
    "backtest_unitest(['WIPRO','TCS'])"
   ]
  },
  {
   "cell_type": "code",
   "execution_count": null,
   "metadata": {},
   "outputs": [],
   "source": [
    "from lib.charting_lib import *\n",
    "cache_type = 'backtest_uni'\n",
    "chart_type ='haikin'\n",
    "\n",
    "symbol='WIPRO'\n",
    "my_cache = cache_state(cache_type)\n",
    "\n",
    "#######  Hack for freq  ############\n",
    "my_cache.setValue('TCS','freq','1T')\n",
    "#####################################\n",
    "dfohlc = my_cache.getOHLC(symbol)\n",
    "print(dfohlc.tail())\n",
    "trade_df = pd.read_json(redis_conn.get(symbol+cache_type+'Trade'), orient='columns')\n",
    "\n",
    "render_charts(dfohlc, trade_df, symbol, chart_type)"
   ]
  },
  {
   "cell_type": "code",
   "execution_count": null,
   "metadata": {},
   "outputs": [],
   "source": [
    "cache_state('backtest_uni').getValue()"
   ]
  },
  {
   "cell_type": "markdown",
   "metadata": {},
   "source": [
    "## Live Trade Debugging"
   ]
  },
  {
   "cell_type": "code",
   "execution_count": null,
   "metadata": {
    "scrolled": true
   },
   "outputs": [],
   "source": [
    "live = threadManager('live', [\"ohlc_tick_handler\"], [ohlc_tick_handler])\n"
   ]
  },
  {
   "cell_type": "code",
   "execution_count": null,
   "metadata": {},
   "outputs": [],
   "source": [
    "live_cache.setValue('WIPRO','mode','paper')"
   ]
  },
  {
   "cell_type": "code",
   "execution_count": null,
   "metadata": {},
   "outputs": [],
   "source": [
    "live.job.terminate()\n",
    "live_cache.set('WIPROliveTICK', pd.DataFrame().to_json(orient='columns'))\n",
    "live_cache.setValue('WIPRO','last_processed',0)\n",
    "live_cache.getValue('WIPRO')"
   ]
  },
  {
   "cell_type": "code",
   "execution_count": null,
   "metadata": {},
   "outputs": [],
   "source": [
    "#live_cache.getOHLC('WIPRO') \n",
    "print(live_cache.xrange('msgBufferQueuelive')[-2:])\n",
    "print(datetime.fromtimestamp(int(live_cache.xrange('msgBufferQueuelive')[-1][0].split('-')[0] )/1000))\n"
   ]
  },
  {
   "cell_type": "code",
   "execution_count": null,
   "metadata": {},
   "outputs": [],
   "source": [
    "live_cache.getOHLC('WIPRO').tail()"
   ]
  },
  {
   "cell_type": "code",
   "execution_count": null,
   "metadata": {},
   "outputs": [],
   "source": [
    "my_cache.getOHLC('TCS')"
   ]
  },
  {
   "cell_type": "markdown",
   "metadata": {},
   "source": [
    "## Quick Backtest"
   ]
  },
  {
   "cell_type": "code",
   "execution_count": null,
   "metadata": {
    "scrolled": false
   },
   "outputs": [],
   "source": [
    "###########################################################\n",
    "###                  Quick Backtest                     ###\n",
    "###########################################################\n",
    "from talib import MACD, MACDEXT, RSI, BBANDS, MACD, AROON, STOCHF, ATR, OBV, ADOSC, MINUS_DI, PLUS_DI, ADX, EMA, SMA\n",
    "from talib import LINEARREG, BETA, LINEARREG_INTERCEPT, LINEARREG_SLOPE, STDDEV, TSF, ADOSC, VAR, ROC, MIN, MAX, MINMAX\n",
    "\n",
    "ohlc_get = lambda df, key: df.iloc[-1][key]\n",
    "def HAIKINASI(ohlc_data_df):\n",
    "    REF = lambda key, i: ohlc_get(ohlc_data_df.shift(i), key)\n",
    "    \n",
    "    OPEN  = ohlc_data_df['open']\n",
    "    HIGH  = ohlc_data_df['high']\n",
    "    LOW   = ohlc_data_df['low']\n",
    "    CLOSE = ohlc_data_df['close']\n",
    "    \n",
    "    haOPEN  = (OPEN.shift(1) + CLOSE.shift(1))/2\n",
    "    haHIGH  = pd.DataFrame([HIGH,OPEN,CLOSE]).max(axis = 0, skipna = True)\n",
    "    haLOW   = pd.DataFrame([LOW,OPEN,CLOSE]).min(axis = 0, skipna = True)\n",
    "    haCLOSE = (OPEN+HIGH+LOW+CLOSE)/4\n",
    "    \n",
    "    return (haOPEN, haHIGH, haLOW, haCLOSE)\n",
    "\n",
    "\n",
    "################ Load Data ###################\n",
    "from lib.charting_lib import *\n",
    "cache_type = 'backtest_uni'\n",
    "symbol='TCS'\n",
    "my_cache = cache_state(cache_type)\n",
    "\n",
    "###  Set Freq for Algo\n",
    "my_cache.setValue('TCS','freq','1T')\n",
    "dfohlc = my_cache.getOHLC(symbol)\n",
    "#print(dfohlc.head())\n",
    "\n",
    "### Load Data\n",
    "ohlc_data_temp = dfohlc\n",
    "pd.set_option('display.max_rows', None)\n",
    "################ Initialize Helper Functions ###################\n",
    "trade_df1 = pd.DataFrame()\n",
    "OPEN = ohlc_data_temp['open']\n",
    "CLOSE = ohlc_data_temp['close']\n",
    "HIGH = ohlc_data_temp['high']\n",
    "LOW = ohlc_data_temp['low']\n",
    "#VOLUME = ohlc_data_temp['volume']\n",
    "\n",
    "(haOPEN, haHIGH, haLOW, haCLOSE) = HAIKINASI(ohlc_data_temp)\n",
    "\n",
    "TIME = ohlc_data_temp.index.minute+ohlc_data_temp.index.hour*60\n",
    "\n",
    "#REF = lambda df, i: df.iloc[-i-1]\n",
    "REF = lambda df, i: df.shift(i)\n",
    "TREND_UP = lambda a,b: ROC(a, b) >= 0.1\n",
    "TREND_DOWN = lambda a,b: ROC(a, b) <= -0.1\n",
    "CROSSOVER = lambda a, b: (REF(a,1)<=REF(b,1)) & (a > b)\n",
    "\n",
    "\n",
    "def BUY(CLOSE, x, trade_df1):\n",
    "    #global trade_df1\n",
    "    tmp_df = pd.DataFrame()\n",
    "    tmp_df[\"buy\"] = CLOSE[x]\n",
    "    trade_df1 = trade_df1.append(tmp_df)\n",
    "    return trade_df1\n",
    "\n",
    "def SELL(CLOSE, x, trade_df1):\n",
    "    #global trade_df1\n",
    "    tmp_df = pd.DataFrame()\n",
    "    tmp_df[\"sell\"] = CLOSE[x]\n",
    "    trade_df1 = trade_df1.append(tmp_df)\n",
    "    return trade_df1\n",
    "    \n",
    "################# Write Algo For Backtest Here ###################\n",
    "\n",
    "roc = ROC(CLOSE, 10)\n",
    "bbh, bbm, bbl = BBANDS(CLOSE)\n",
    "\n",
    "delbb = bbh - bbl\n",
    "\n",
    "#sell = (REF(roc,0) > 0.1) & (REF(haOPEN, 0) > REF(haCLOSE,0)) & (REF(haOPEN, 1) < REF(haCLOSE,1))\n",
    "#buy = (REF(roc,0) < -0.1) & (REF(haOPEN, 0) < REF(haCLOSE,0)) & (REF(haOPEN, 1) > REF(haCLOSE,1))\n",
    "buy = delbb > 2.1 * REF(delbb, 3)\n",
    "sell = delbb < 0.4 * REF(delbb, 3)\n",
    "\n",
    "logic = buy | sell\n",
    "\n",
    "summary_df = trade_df1.copy(deep=True)\n",
    "#summary_df['haopen'] = haOPEN[ logic ]\n",
    "#summary_df['haclose'] = haCLOSE[ logic ]\n",
    "summary_df['roc'] = ROC(CLOSE, 30)[logic]\n",
    "\n",
    "#print(summary_df.sort_index())\n",
    "#print(summary_df.sort_index().tail(10))\n",
    "#print(ROC(CLOSE,3))\n",
    "#################### Render Charts ###############################\n",
    "\n",
    "trade_df1 = SELL(CLOSE, sell, trade_df1)\n",
    "trade_df1 = BUY(CLOSE, buy, trade_df1)\n",
    "\n",
    "#print(trade_df1.sort_index())\n",
    "my_cache.setCache(symbol+cache_type+'Trade',trade_df1)\n",
    "#my_cache.pushTrade(symbol, trade_df1)\n",
    "\n",
    "chart_type ='haikin'\n",
    "trade_df = pd.read_json(redis_conn.get(symbol+cache_type+'Trade'), orient='columns')\n",
    "\n",
    "\n",
    "render_charts(ohlc_data_temp, trade_df, symbol, chart_type)"
   ]
  },
  {
   "cell_type": "code",
   "execution_count": null,
   "metadata": {
    "scrolled": false
   },
   "outputs": [],
   "source": [
    "\n",
    "state = 'WAIT'\n",
    "profit = 0\n",
    "for index, row in trade_df.sort_index().fillna(0).iterrows():\n",
    "    if state == 'WAIT':\n",
    "        if row['sell']!=0:\n",
    "            #print(\"S: ->: {}\".format(row['sell']))\n",
    "            state = 'SELL'\n",
    "            profit = profit + row['sell']\n",
    "        elif row['buy']!=0:\n",
    "            #print(\"B: ->: {}\".format(row['buy']))\n",
    "            state = 'BUY'\n",
    "            profit = profit - row['buy']\n",
    "    elif state == 'BUY':\n",
    "        if row['sell']!=0:\n",
    "            #print(\"S: <-: {}\".format(row['sell']))\n",
    "            state = 'WAIT'\n",
    "            profit = profit + row['sell']\n",
    "    elif state == 'SELL':\n",
    "        if row['buy']!=0:\n",
    "            #print(\"B: <-: {}\".format(row['buy']))\n",
    "            state = 'WAIT'\n",
    "            profit = profit - row['buy']\n",
    "    \n",
    "if state == 'BUY':\n",
    "    profit = profit + row['buy']\n",
    "elif state == 'SELL':\n",
    "    profit = profit - row['sell']\n",
    "    \n",
    "print(\"Total Profit: {}\".format(profit))"
   ]
  },
  {
   "cell_type": "code",
   "execution_count": null,
   "metadata": {},
   "outputs": [],
   "source": [
    "bbh, bbm, bbl = BBANDS(CLOSE)\n",
    "\n",
    "print(pd.DataFrame(data={'bbl':bbl, 'bbm':bbm, 'bbh':bbh, 'del':(bbh-bbl)/bbl*100}))"
   ]
  },
  {
   "cell_type": "code",
   "execution_count": null,
   "metadata": {},
   "outputs": [],
   "source": [
    "(bbh-bbl)/STDDEV(CLOSE)"
   ]
  },
  {
   "cell_type": "code",
   "execution_count": null,
   "metadata": {},
   "outputs": [],
   "source": [
    "cache_type = 'backtest_web'\n",
    "symbol='TCS'\n",
    "my_cache = cache_state(cache_type)\n",
    "my_cache.getTrades(symbol)\n",
    "\n",
    "my_cache.get('TCSbacktest_webTrades')"
   ]
  },
  {
   "cell_type": "code",
   "execution_count": null,
   "metadata": {},
   "outputs": [],
   "source": [
    "my_cache.getValue()"
   ]
  },
  {
   "cell_type": "code",
   "execution_count": null,
   "metadata": {
    "scrolled": false
   },
   "outputs": [],
   "source": [
    "temp_file = pd.HDFStore(\"data/kite_cache.h5\", mode=\"r\")\n",
    "temp_file.keys()"
   ]
  },
  {
   "cell_type": "code",
   "execution_count": null,
   "metadata": {},
   "outputs": [],
   "source": []
  },
  {
   "cell_type": "markdown",
   "metadata": {},
   "source": [
    "## Redis Console"
   ]
  },
  {
   "cell_type": "code",
   "execution_count": null,
   "metadata": {
    "scrolled": true
   },
   "outputs": [],
   "source": [
    "from lib.multitasking_lib import *\n",
    "#from lib.data_model_lib import *\n",
    "import json\n",
    "web_cache = cache_state('backtest_web')\n",
    "live_cache = cache_state('live')\n",
    "uni_cache = cache_state('backtest_uni')\n",
    "\n",
    "pd.set_option('display.max_rows', None)"
   ]
  },
  {
   "cell_type": "code",
   "execution_count": null,
   "metadata": {},
   "outputs": [],
   "source": [
    "live_cache.hget('algos','breakout_1')"
   ]
  },
  {
   "cell_type": "code",
   "execution_count": null,
   "metadata": {},
   "outputs": [],
   "source": [
    "live_cache.pubsub_channels()"
   ]
  },
  {
   "cell_type": "code",
   "execution_count": null,
   "metadata": {},
   "outputs": [],
   "source": [
    "live_cache.xread({'notificationQueuelivenew':0}, block=2000, count=5000)"
   ]
  },
  {
   "cell_type": "code",
   "execution_count": null,
   "metadata": {},
   "outputs": [],
   "source": []
  },
  {
   "cell_type": "code",
   "execution_count": null,
   "metadata": {},
   "outputs": [],
   "source": [
    "live_cache.remove()"
   ]
  },
  {
   "cell_type": "code",
   "execution_count": null,
   "metadata": {},
   "outputs": [],
   "source": [
    "df = uni_cache.getValue()\n",
    "df"
   ]
  },
  {
   "cell_type": "code",
   "execution_count": null,
   "metadata": {
    "scrolled": true
   },
   "outputs": [],
   "source": [
    "live_cache.getOHLC('TCS')"
   ]
  },
  {
   "cell_type": "code",
   "execution_count": null,
   "metadata": {},
   "outputs": [],
   "source": [
    "trades_df = live_cache.getTrades('TCS')\n",
    "trades_df"
   ]
  },
  {
   "cell_type": "code",
   "execution_count": null,
   "metadata": {},
   "outputs": [],
   "source": [
    "(total_profit, max_loss, max_profit, total_win, total_loss, max_winning_streak, max_loosing_streak, trade_log_df) = trade_analysis_raw(trades_df)"
   ]
  },
  {
   "cell_type": "code",
   "execution_count": null,
   "metadata": {},
   "outputs": [],
   "source": [
    "import pandas as pd\n",
    "import plotly\n",
    "import plotly.graph_objs as go\n",
    "from datetime import datetime as dt\n",
    "from datetime import timedelta\n",
    "from plotly.subplots import make_subplots\n",
    "import plotly.graph_objects as go\n",
    "\n",
    "from lib.multitasking_lib import *\n",
    "from plotly.offline import download_plotlyjs, init_notebook_mode, plot, iplot"
   ]
  },
  {
   "cell_type": "markdown",
   "metadata": {},
   "source": [
    "### GetData"
   ]
  },
  {
   "cell_type": "code",
   "execution_count": null,
   "metadata": {},
   "outputs": [],
   "source": [
    "logger.setLevel(logging.DEBUG)\n",
    "stock = 'WIPRO'\n",
    "fromDate = '2019-4-22'\n",
    "toDate  = '2019-4-24'\n",
    "freq = 'minute'\n",
    "mydate = fromDate\n",
    "exchange = 'NSE'\n",
    "ohlc_data = {}\n",
    "ohlc_data[stock] = getData(stock, fromDate, toDate, exchange, freq, False, stock)"
   ]
  },
  {
   "cell_type": "code",
   "execution_count": null,
   "metadata": {},
   "outputs": [],
   "source": [
    "ohlc_data[stock].head()"
   ]
  },
  {
   "cell_type": "markdown",
   "metadata": {},
   "source": [
    "# Kite Connect"
   ]
  },
  {
   "cell_type": "code",
   "execution_count": null,
   "metadata": {},
   "outputs": [],
   "source": [
    "from kiteconnect import KiteConnect\n",
    "kite_api_key = 'b2w0sfnr1zr92nxm'\n",
    "live_cache.set('KiteAPIKey',kite_api_key)\n",
    "access_token = live_cache.get('access_token')\n",
    "print(access_token)\n",
    "print(live_cache.get('KiteAPIKey'))\n",
    "\n",
    "kite = KiteConnect(api_key=kite_api_key)\n",
    "kite.set_access_token(access_token)"
   ]
  },
  {
   "cell_type": "code",
   "execution_count": null,
   "metadata": {},
   "outputs": [],
   "source": [
    "kite.access_token"
   ]
  },
  {
   "cell_type": "code",
   "execution_count": null,
   "metadata": {},
   "outputs": [],
   "source": []
  },
  {
   "cell_type": "code",
   "execution_count": null,
   "metadata": {},
   "outputs": [],
   "source": [
    "kite.profile()"
   ]
  },
  {
   "cell_type": "code",
   "execution_count": null,
   "metadata": {},
   "outputs": [],
   "source": [
    "cancel_order('CIPLA')"
   ]
  },
  {
   "cell_type": "code",
   "execution_count": null,
   "metadata": {
    "scrolled": true
   },
   "outputs": [],
   "source": [
    "orders_df = pd.DataFrame(kite.orders())\n",
    "orders_df[['order_id','status','tradingsymbol','transaction_type','quantity','tag','price']]"
   ]
  },
  {
   "cell_type": "code",
   "execution_count": null,
   "metadata": {},
   "outputs": [],
   "source": []
  },
  {
   "cell_type": "code",
   "execution_count": null,
   "metadata": {},
   "outputs": [],
   "source": [
    "live_cache.getValue()"
   ]
  },
  {
   "cell_type": "code",
   "execution_count": null,
   "metadata": {},
   "outputs": [],
   "source": [
    "position_df = pd.DataFrame(kite.positions()['net'])\n",
    "position_df"
   ]
  },
  {
   "cell_type": "code",
   "execution_count": null,
   "metadata": {},
   "outputs": [],
   "source": [
    "pd.DataFrame(kite.positions()['net']).columns"
   ]
  },
  {
   "cell_type": "code",
   "execution_count": null,
   "metadata": {},
   "outputs": [],
   "source": [
    "orders_df = pd.DataFrame()\n",
    "for msg in live_cache.xrange('notificationQueuelivenew'):\n",
    "    tmp_df = pd.DataFrame.from_dict(json.loads(msg[1]['data']), orient='index').transpose()\n",
    "    orders_df = orders_df.append(tmp_df)\n",
    "    #print(msg)\n",
    "orders_df[['order_id', 'status', 'tradingsymbol','order_type','transaction_type','quantity', 'average_price']]"
   ]
  },
  {
   "cell_type": "code",
   "execution_count": null,
   "metadata": {},
   "outputs": [],
   "source": []
  },
  {
   "cell_type": "code",
   "execution_count": null,
   "metadata": {},
   "outputs": [],
   "source": []
  },
  {
   "cell_type": "code",
   "execution_count": null,
   "metadata": {},
   "outputs": [],
   "source": [
    "orders_df.columns"
   ]
  },
  {
   "cell_type": "code",
   "execution_count": null,
   "metadata": {},
   "outputs": [],
   "source": [
    "live_cache.getValue().columns"
   ]
  },
  {
   "cell_type": "code",
   "execution_count": null,
   "metadata": {
    "scrolled": true
   },
   "outputs": [],
   "source": [
    "kite.margins()"
   ]
  },
  {
   "cell_type": "markdown",
   "metadata": {},
   "source": [
    "#### Starting Live Trade for a stock"
   ]
  },
  {
   "cell_type": "code",
   "execution_count": null,
   "metadata": {},
   "outputs": [],
   "source": [
    "symbol = 'INFY'\n",
    "live_cache.add(symbol)\n",
    "token = int(live_cache.hmget('eq_token',symbol)[0])\n",
    "live_cache.publish('live_trade_handlerlive', json.dumps({'cmd':'add','value':[token],'mode':'ltp'}))\n",
    "\n",
    "live_cache.setValue(symbol,'qty','1')\n",
    "live_cache.setValue(symbol,'SL %','0.4')\n",
    "live_cache.setValue(symbol,'TP %','1')\n",
    "live_cache.setValue(symbol,'algo','haikin_1_new')\n",
    "live_cache.setValue(symbol,'freq','1T')\n",
    "live_cache.setValue(symbol,'last_processed',datetime.now().timestamp())\n",
    "live_cache.setValue(symbol,'mode','paper')"
   ]
  },
  {
   "cell_type": "code",
   "execution_count": null,
   "metadata": {},
   "outputs": [],
   "source": [
    "symbol = 'WIPRO'\n",
    "live_cache.setValue(symbol,'last_processed',datetime.now().timestamp())"
   ]
  },
  {
   "cell_type": "code",
   "execution_count": null,
   "metadata": {},
   "outputs": [],
   "source": [
    "datetime.now().timestamp()"
   ]
  },
  {
   "cell_type": "code",
   "execution_count": null,
   "metadata": {},
   "outputs": [],
   "source": [
    "symbol = 'INFY'\n",
    "live_cache.setValue(symbol,'mode','PAUSE')"
   ]
  },
  {
   "cell_type": "code",
   "execution_count": null,
   "metadata": {},
   "outputs": [],
   "source": [
    "live_cache.getValue(symbol)"
   ]
  },
  {
   "cell_type": "markdown",
   "metadata": {},
   "source": [
    "### Kite Ticker Handler Manipulation"
   ]
  },
  {
   "cell_type": "code",
   "execution_count": null,
   "metadata": {},
   "outputs": [],
   "source": [
    "#live_cache.publish('live_trade_handlerlive','profile')\n",
    "live_cache.publish('live_trade_handlerlive','status')"
   ]
  },
  {
   "cell_type": "code",
   "execution_count": null,
   "metadata": {},
   "outputs": [],
   "source": [
    "live_cache.publish('kite_ticker_handlerlive','INIT')"
   ]
  },
  {
   "cell_type": "code",
   "execution_count": null,
   "metadata": {},
   "outputs": [],
   "source": [
    "live_cache.publish('kite_ticker_handlerlive','CLOSE')"
   ]
  },
  {
   "cell_type": "code",
   "execution_count": null,
   "metadata": {},
   "outputs": [],
   "source": [
    "live_cache.publish('kite_ticker_handlerlive','START')"
   ]
  },
  {
   "cell_type": "code",
   "execution_count": null,
   "metadata": {},
   "outputs": [],
   "source": [
    "live_cache.publish('kite_ticker_handlerlive','profile')"
   ]
  },
  {
   "cell_type": "code",
   "execution_count": null,
   "metadata": {},
   "outputs": [],
   "source": [
    "live_cache.smembers('live_token')"
   ]
  },
  {
   "cell_type": "code",
   "execution_count": null,
   "metadata": {},
   "outputs": [],
   "source": [
    "values = list(map(int,live_cache.smembers('ticker_list')))\n",
    "values"
   ]
  },
  {
   "cell_type": "code",
   "execution_count": null,
   "metadata": {},
   "outputs": [],
   "source": [
    "live_cache.publish('kite_ticker_handlerlive',json.dumps({'cmd':'add','value':values,'mode':'ltp'}))"
   ]
  },
  {
   "cell_type": "code",
   "execution_count": null,
   "metadata": {},
   "outputs": [],
   "source": [
    "live_cache.publish('kite_ticker_handlerlive',json.dumps({'cmd':'remove','value':[1510401],'mode':'quote'}))\n"
   ]
  },
  {
   "cell_type": "code",
   "execution_count": null,
   "metadata": {},
   "outputs": [],
   "source": [
    "pd.DataFrame(kite.orders())"
   ]
  },
  {
   "cell_type": "markdown",
   "metadata": {},
   "source": [
    "#### TickerList Manipulaitons"
   ]
  },
  {
   "cell_type": "code",
   "execution_count": null,
   "metadata": {},
   "outputs": [],
   "source": [
    "live_cache.sadd('ticker_list','2953217')\n",
    "live_cache.sadd('ticker_list','969473')\n",
    "\n",
    "live_cache.sadd('ticker_list','1510401')"
   ]
  },
  {
   "cell_type": "code",
   "execution_count": null,
   "metadata": {},
   "outputs": [],
   "source": [
    "values = list(map(int,live_cache.smembers('ticker_list')))\n",
    "print(values)\n",
    "live_cache.hmget('eq_token', values)"
   ]
  },
  {
   "cell_type": "code",
   "execution_count": null,
   "metadata": {},
   "outputs": [],
   "source": [
    "live_cache.srem('ticker_list',1510401)"
   ]
  },
  {
   "cell_type": "code",
   "execution_count": null,
   "metadata": {},
   "outputs": [],
   "source": [
    "live_cache.sismember('ticker_list',4268801)"
   ]
  },
  {
   "cell_type": "code",
   "execution_count": null,
   "metadata": {},
   "outputs": [],
   "source": [
    "live_cache.delete('ticker_list')"
   ]
  },
  {
   "cell_type": "code",
   "execution_count": null,
   "metadata": {},
   "outputs": [],
   "source": [
    "live_cache.getValue()"
   ]
  },
  {
   "cell_type": "markdown",
   "metadata": {},
   "source": [
    "### Get Kite Ticker Status"
   ]
  },
  {
   "cell_type": "code",
   "execution_count": null,
   "metadata": {},
   "outputs": [],
   "source": [
    "## Get Status of Kite\n",
    "live_cache.get('Kite_Status')"
   ]
  },
  {
   "cell_type": "markdown",
   "metadata": {},
   "source": [
    "### OrderHandler Monitor and Manipulation"
   ]
  },
  {
   "cell_type": "code",
   "execution_count": null,
   "metadata": {},
   "outputs": [],
   "source": [
    "# Pause Ordering\n",
    "live_cache.publish('order_handlerlive', 'pause')"
   ]
  },
  {
   "cell_type": "code",
   "execution_count": null,
   "metadata": {},
   "outputs": [],
   "source": [
    "# Resume Ordering\n",
    "live_cache.publish('order_handlerlive', 'resume')"
   ]
  },
  {
   "cell_type": "code",
   "execution_count": null,
   "metadata": {},
   "outputs": [],
   "source": [
    "# Buy\n",
    "live_cache.publish('order_handlerlive',json.dumps({'cmd':'buy','symbol':'WIPRO','price':180,'qty':1}))"
   ]
  },
  {
   "cell_type": "code",
   "execution_count": null,
   "metadata": {},
   "outputs": [],
   "source": [
    "# Sell\n",
    "live_cache.publish('order_handlerlive',json.dumps({'cmd':'sell','symbol':'WIPRO','price':190,'qty':1}))"
   ]
  },
  {
   "cell_type": "code",
   "execution_count": null,
   "metadata": {},
   "outputs": [],
   "source": [
    "# Cancel\n",
    "live_cache.publish('order_handlerlive',json.dumps({'cmd':'cancel','symbol':'WIPRO'}))"
   ]
  },
  {
   "cell_type": "code",
   "execution_count": null,
   "metadata": {},
   "outputs": [],
   "source": [
    "live_cache.publish('order_handlerlive',json.dumps({'cmd':'getOrders'}))"
   ]
  },
  {
   "cell_type": "code",
   "execution_count": null,
   "metadata": {},
   "outputs": [],
   "source": [
    "## Cancel All the orders\n",
    "live_cache.publish('order_handlerlive',json.dumps({'cmd':'cancelAll'}))"
   ]
  },
  {
   "cell_type": "code",
   "execution_count": null,
   "metadata": {},
   "outputs": [],
   "source": [
    "#from lib.kite_wrapper_lib import *\n",
    "cancel_order(kite,['CIPLA'])"
   ]
  },
  {
   "cell_type": "code",
   "execution_count": null,
   "metadata": {},
   "outputs": [],
   "source": [
    "buy_limit('WIPRO',188.5,1)"
   ]
  },
  {
   "cell_type": "code",
   "execution_count": null,
   "metadata": {},
   "outputs": [],
   "source": [
    "sell_limit('WIPRO',188.7,1)"
   ]
  },
  {
   "cell_type": "code",
   "execution_count": null,
   "metadata": {
    "scrolled": true
   },
   "outputs": [],
   "source": [
    "live_cache.getOHLC('WIPRO').tail(10)"
   ]
  },
  {
   "cell_type": "code",
   "execution_count": null,
   "metadata": {},
   "outputs": [],
   "source": [
    "kite.cancel_order(kite.VARIETY_REGULAR, 200511002924441, parent_order_id=None)"
   ]
  },
  {
   "cell_type": "code",
   "execution_count": null,
   "metadata": {},
   "outputs": [],
   "source": [
    "kite.convert_position(kite.EXCHANGE_NSE, 'WIPRO', transaction_type, position_type, quantity, old_product, new_product)\n"
   ]
  },
  {
   "cell_type": "code",
   "execution_count": null,
   "metadata": {},
   "outputs": [],
   "source": [
    "kite.modify_order(kite.VARIETY_REGULAR, 200511003019322, parent_order_id=None, quantity=None, price=187.4, order_type=None, trigger_price=None, validity=None, disclosed_quantity=None)\n"
   ]
  },
  {
   "cell_type": "code",
   "execution_count": null,
   "metadata": {},
   "outputs": [],
   "source": [
    "msg = {'data': '[{\"tradable\": true, \"mode\": \"quote\", \"instrument_token\": 969473, \"last_price\": 184.7, \"last_quantity\": 5, \"average_price\": 187.07, \"volume\": 4393242, \"buy_quantity\": 0, \"sell_quantity\": 0, \"ohlc\": {\"open\": 185.0, \"high\": 189.95, \"low\": 184.1, \"close\": 184.0}, \"change\": 0.38043478260868946}, {\"tradable\": true, \"mode\": \"quote\", \"instrument_token\": 2953217, \"last_price\": 1935.3, \"last_quantity\": 25, \"average_price\": 1939.47, \"volume\": 2449395, \"buy_quantity\": 0, \"sell_quantity\": 0, \"ohlc\": {\"open\": 1909.0, \"high\": 1951.4, \"low\": 1909.0, \"close\": 1893.4}, \"change\": 2.2129502482306886}]'}"
   ]
  },
  {
   "cell_type": "code",
   "execution_count": null,
   "metadata": {},
   "outputs": [],
   "source": [
    "msg['data']"
   ]
  },
  {
   "cell_type": "code",
   "execution_count": null,
   "metadata": {},
   "outputs": [],
   "source": [
    "val = json.loads(msg['data'])"
   ]
  },
  {
   "cell_type": "markdown",
   "metadata": {},
   "source": [
    "##### Reset state for tradejob"
   ]
  },
  {
   "cell_type": "code",
   "execution_count": null,
   "metadata": {},
   "outputs": [],
   "source": [
    "live_cache.setValue('WIPRO','state','SCANNING')"
   ]
  },
  {
   "cell_type": "markdown",
   "metadata": {},
   "source": [
    "### Live Cache State Monitor and manipulation"
   ]
  },
  {
   "cell_type": "code",
   "execution_count": null,
   "metadata": {},
   "outputs": [],
   "source": [
    "live_cache.getValue()"
   ]
  },
  {
   "cell_type": "code",
   "execution_count": null,
   "metadata": {},
   "outputs": [],
   "source": []
  },
  {
   "cell_type": "code",
   "execution_count": null,
   "metadata": {},
   "outputs": [],
   "source": [
    "#Modify cache table\n",
    "stock_key = 'CIPLA'\n",
    "#live_cache.add(stock_key, True) #TODO: While adding stock to table use True\n",
    "live_cache.setValue(stock_key, 'algo', 'haikin_1_new')\n",
    "live_cache.setValue(stock_key, 'freq', '1T')\n",
    "live_cache.setValue(stock_key, 'qty', 1)\n",
    "live_cache.setValue(stock_key, 'SL %', 1)\n",
    "live_cache.setValue(stock_key, 'TP %', 1)\n",
    "live_cache.setValue(stock_key, 'P&L', 0)\n",
    "live_cache.setValue(stock_key, 'Total P&L', 0)\n",
    "live_cache.setValue(stock_key, 'price', 0)\n",
    "live_cache.setValue(stock_key, 'hdf_freq', 'minute')\n",
    "live_cache.getValue()"
   ]
  },
  {
   "cell_type": "code",
   "execution_count": null,
   "metadata": {},
   "outputs": [],
   "source": [
    "live_cache.setValue('WIPRO', 'mode', 'paper')"
   ]
  },
  {
   "cell_type": "code",
   "execution_count": null,
   "metadata": {},
   "outputs": [],
   "source": [
    "#live_cache.remove('AXISBANK')\n",
    "live_cache.getValue()"
   ]
  },
  {
   "cell_type": "code",
   "execution_count": null,
   "metadata": {},
   "outputs": [],
   "source": [
    "live_cache.remove()"
   ]
  },
  {
   "cell_type": "markdown",
   "metadata": {},
   "source": [
    "#### Get token for Stock symbol"
   ]
  },
  {
   "cell_type": "code",
   "execution_count": null,
   "metadata": {},
   "outputs": [],
   "source": [
    "live_cache.hmget('eq_token',['CIPLA','INFY'])"
   ]
  },
  {
   "cell_type": "code",
   "execution_count": null,
   "metadata": {},
   "outputs": [],
   "source": [
    "live_cache.hmget('eq_token',['TCS','WIPRO','AXISBANK'])"
   ]
  },
  {
   "cell_type": "markdown",
   "metadata": {},
   "source": [
    "#### Peek into OHLC buffer"
   ]
  },
  {
   "cell_type": "code",
   "execution_count": null,
   "metadata": {},
   "outputs": [],
   "source": [
    "live_cache.getOHLC('INFRATEL').tail(5)"
   ]
  },
  {
   "cell_type": "markdown",
   "metadata": {},
   "source": [
    "#### msgBufferQueue Monitoring"
   ]
  },
  {
   "cell_type": "code",
   "execution_count": null,
   "metadata": {},
   "outputs": [],
   "source": [
    "peek_msg_queue = live_cache.xrange('msgBufferQueuelive')[-1]\n",
    "print(peek_msg_queue)\n",
    "datetime.fromtimestamp(int(peek_msg_queue[0].split('-')[0] )/1000)"
   ]
  },
  {
   "cell_type": "code",
   "execution_count": null,
   "metadata": {},
   "outputs": [],
   "source": [
    "live_cache.xrange('notificationQueuelivenew')"
   ]
  },
  {
   "cell_type": "code",
   "execution_count": null,
   "metadata": {},
   "outputs": [],
   "source": [
    "datetime.fromtimestamp(1589428580968/1000)"
   ]
  },
  {
   "cell_type": "code",
   "execution_count": null,
   "metadata": {},
   "outputs": [],
   "source": [
    "live_cache.getOHLC('INFRATEL').tail()"
   ]
  },
  {
   "cell_type": "markdown",
   "metadata": {},
   "source": [
    "##### Monitor: OHLC Tick Handler"
   ]
  },
  {
   "cell_type": "code",
   "execution_count": null,
   "metadata": {},
   "outputs": [],
   "source": [
    "val = live_cache.get('last_id_msg')\n",
    "print(val)\n",
    "datetime.fromtimestamp(int(val.split('-')[0] )/1000)"
   ]
  },
  {
   "cell_type": "raw",
   "metadata": {},
   "source": [
    "# Reset last_processed msg\n",
    "live_cache.setValue('WIPRO','last_processed',0)"
   ]
  },
  {
   "cell_type": "code",
   "execution_count": null,
   "metadata": {},
   "outputs": [],
   "source": [
    "# Timestamp to ID\n",
    "timestamp_to_id = lambda x:str(int(float(x)*1000))+'-'+str(0)\n",
    "id_val = timestamp_to_id(live_cache.getValue('WIPRO','last_processed'))\n",
    "print(id_val)\n",
    "live_cache.xread({'msgBufferQueuelive':id_val}, count=1)"
   ]
  },
  {
   "cell_type": "code",
   "execution_count": null,
   "metadata": {},
   "outputs": [],
   "source": [
    "# Peek into the last msg processed by tick handler\n",
    "print(live_cache.getValue('WIPRO','last_processed'))\n",
    "datetime.fromtimestamp(float(live_cache.getValue('WIPRO','last_processed')))"
   ]
  },
  {
   "cell_type": "code",
   "execution_count": null,
   "metadata": {},
   "outputs": [],
   "source": [
    "## Ticker job monitoring\n",
    "live_cache.get('tick_count')"
   ]
  },
  {
   "cell_type": "code",
   "execution_count": null,
   "metadata": {},
   "outputs": [],
   "source": [
    "datetime.fromtimestamp(1589535456664/1000)"
   ]
  },
  {
   "cell_type": "code",
   "execution_count": null,
   "metadata": {},
   "outputs": [],
   "source": [
    "msgBufferDump = live_cache.xrange('msgBufferQueuelive')"
   ]
  },
  {
   "cell_type": "code",
   "execution_count": null,
   "metadata": {},
   "outputs": [],
   "source": [
    "fp = open('log/ticker_log.log',mode='w')"
   ]
  },
  {
   "cell_type": "code",
   "execution_count": null,
   "metadata": {},
   "outputs": [],
   "source": [
    "fp.write(json.dumps(msgBufferDump))"
   ]
  },
  {
   "cell_type": "markdown",
   "metadata": {},
   "source": [
    "### Update Redis with Instrument list"
   ]
  },
  {
   "cell_type": "markdown",
   "metadata": {},
   "source": [
    "##### Download fresh data and store in cache"
   ]
  },
  {
   "cell_type": "code",
   "execution_count": null,
   "metadata": {},
   "outputs": [],
   "source": [
    "instruments_df = pd.DataFrame(kite.instruments())"
   ]
  },
  {
   "cell_type": "code",
   "execution_count": null,
   "metadata": {},
   "outputs": [],
   "source": [
    "instruments_df.to_hdf('data/instruments.h5',key='instruments')"
   ]
  },
  {
   "cell_type": "code",
   "execution_count": null,
   "metadata": {},
   "outputs": [],
   "source": [
    "instruments_df.columns"
   ]
  },
  {
   "cell_type": "code",
   "execution_count": null,
   "metadata": {},
   "outputs": [],
   "source": [
    "eq_nse = instruments_df.loc[(instruments_df['exchange']=='NSE') & (instruments_df['segment']=='NSE')  & (instruments_df['instrument_type']=='EQ'), ['instrument_token','tradingsymbol']]"
   ]
  },
  {
   "cell_type": "code",
   "execution_count": null,
   "metadata": {},
   "outputs": [],
   "source": [
    "eq_nse.loc[eq_nse['tradingsymbol'].isin(['TCS','WIPRO']),'instrument_token'].values"
   ]
  },
  {
   "cell_type": "markdown",
   "metadata": {},
   "source": [
    "##### Use cache"
   ]
  },
  {
   "cell_type": "code",
   "execution_count": null,
   "metadata": {},
   "outputs": [],
   "source": [
    "instruments_df = pd.read_hdf('data/instruments.h5',key='instruments')"
   ]
  },
  {
   "cell_type": "code",
   "execution_count": null,
   "metadata": {},
   "outputs": [],
   "source": [
    "instruments_df"
   ]
  },
  {
   "cell_type": "code",
   "execution_count": null,
   "metadata": {},
   "outputs": [],
   "source": [
    "eq_nse = instruments_df.loc[(instruments_df['exchange']=='NSE') & (instruments_df['segment']=='NSE')  & (instruments_df['instrument_type']=='EQ'), ['instrument_token','tradingsymbol']]"
   ]
  },
  {
   "cell_type": "code",
   "execution_count": null,
   "metadata": {},
   "outputs": [],
   "source": [
    "eq_nse.loc[eq_nse['tradingsymbol'].isin(['TCS','WIPRO']),:].values\n",
    "\n",
    "eq_nse.set_index('instrument_token')"
   ]
  },
  {
   "cell_type": "code",
   "execution_count": null,
   "metadata": {},
   "outputs": [],
   "source": [
    "live_cache.delete('eq_token')"
   ]
  },
  {
   "cell_type": "code",
   "execution_count": null,
   "metadata": {},
   "outputs": [],
   "source": [
    "eq_nse.head().to_dict(orient='records')"
   ]
  },
  {
   "cell_type": "code",
   "execution_count": null,
   "metadata": {},
   "outputs": [],
   "source": [
    "eq_nse.head().set_index('tradingsymbol').transpose().to_dict(orient='records')"
   ]
  },
  {
   "cell_type": "code",
   "execution_count": null,
   "metadata": {},
   "outputs": [],
   "source": [
    "eq_nse.head().set_index('instrument_token').transpose().to_dict(orient='records')[0]"
   ]
  },
  {
   "cell_type": "markdown",
   "metadata": {},
   "source": [
    "##### Update redis with tokens"
   ]
  },
  {
   "cell_type": "code",
   "execution_count": null,
   "metadata": {},
   "outputs": [],
   "source": [
    "live_cache.hmset('eq_token',eq_nse.set_index('instrument_token').transpose().to_dict(orient='records')[0])\n",
    "live_cache.hmset('eq_token',eq_nse.set_index('tradingsymbol').transpose().to_dict(orient='records')[0])"
   ]
  },
  {
   "cell_type": "code",
   "execution_count": null,
   "metadata": {},
   "outputs": [],
   "source": [
    "live_cache.hmget('eq_token',['TCS','WIPRO'])"
   ]
  },
  {
   "cell_type": "code",
   "execution_count": null,
   "metadata": {},
   "outputs": [],
   "source": [
    "live_cache.hgetall('eq_token')"
   ]
  },
  {
   "cell_type": "code",
   "execution_count": null,
   "metadata": {},
   "outputs": [],
   "source": [
    "live_cache.hmget('eq_token',[2953217, 969473])"
   ]
  },
  {
   "cell_type": "code",
   "execution_count": null,
   "metadata": {},
   "outputs": [],
   "source": []
  },
  {
   "cell_type": "code",
   "execution_count": null,
   "metadata": {},
   "outputs": [],
   "source": []
  },
  {
   "cell_type": "code",
   "execution_count": null,
   "metadata": {},
   "outputs": [],
   "source": [
    "import pandas as pd"
   ]
  },
  {
   "cell_type": "code",
   "execution_count": null,
   "metadata": {},
   "outputs": [],
   "source": [
    "df = pd.read_hdf('data/kite_cache_day_backup.h5')"
   ]
  },
  {
   "cell_type": "code",
   "execution_count": null,
   "metadata": {},
   "outputs": [],
   "source": [
    "import pandas as pd\n",
    "kite_cache_path = 'data/kite_cache.h5'\n",
    "temp_file = pd.HDFStore(kite_cache_path, mode=\"r\")\n",
    "#rDate = temp_file.get(key).tail(1).index"
   ]
  },
  {
   "cell_type": "code",
   "execution_count": null,
   "metadata": {},
   "outputs": [],
   "source": [
    "temp_file.keys()"
   ]
  },
  {
   "cell_type": "code",
   "execution_count": null,
   "metadata": {},
   "outputs": [],
   "source": [
    "df1 = pd.read_hdf(temp_file, key='/minute/NSE/WIPRO')"
   ]
  },
  {
   "cell_type": "code",
   "execution_count": null,
   "metadata": {},
   "outputs": [],
   "source": [
    "keys = ['BHARTIARTL', '3MINDIA', 'AARTIIND', 'ABB', 'ABFRL', 'ACC', 'ACE', 'ADANIENT', 'ADANIPORTS', 'ADANIPOWER', 'AIAENG', 'AJANTPHARM', 'AKZOINDIA', 'ALBK', 'ALKEM', 'ALLCARGO', 'AMARAJABAT', 'AMBUJACEM', 'ANANTRAJ', 'APOLLOHOSP', 'APOLLOTYRE', 'ARVIND', 'ASAHIINDIA', 'ASHOKLEY', 'ASIANPAINT', 'ASTRAZEN', 'ATFL', 'ATUL', 'AUBANK', 'AUROPHARMA', 'AUTOAXLES', 'AVANTIFEED', 'AXISBANK', 'BAJAJ-AUTO', 'BAJAJELEC', 'BAJAJFINSV', 'BAJAJHLDNG', 'BAJFINANCE', 'BALKRISIND', 'BALRAMCHIN', 'BANCOINDIA', 'BANKBARODA', 'BANKBEES', 'BANKINDIA', 'BATAINDIA', 'BBTC', 'BEL', 'BEML', 'BERGEPAINT', 'BFUTILITIE', 'BHARATFIN', 'BHARATFORG', 'BHARTIARTL', 'BHEL', 'BIOCON', 'BLISSGVS', 'BLKASHYAP', 'BLUEDART', 'BOSCHLTD', 'BPCL', 'BRITANNIA', 'BSE', 'CADILAHC', 'CAMLINFINE', 'CANBK', 'CANFINHOME', 'CAPACITE', 'CASTROLIND', 'CDSL', 'CEATLTD', 'CENTRUM', 'CENTURYPLY', 'CENTURYTEX', 'CEREBRAINT', 'CESC', 'CGCL', 'CGPOWER', 'CHENNPETRO', 'CHOLAFIN', 'CIPLA', 'CNOVAPETRO', 'COALINDIA', 'COCHINSHIP', 'COFFEEDAY', 'COLPAL', 'CONCOR', 'COROMANDEL', 'COX&KINGS', 'CRISIL', 'CROMPTON', 'CUB', 'CUMMINSIND', 'CYIENT', 'DAAWAT', 'DABUR', 'DALMIASUG', 'DBCORP', 'DCBBANK', 'DCMSHRIRAM', 'DEN', 'DHAMPURSUG', 'DHFL', 'DIAMONDYD', 'DISHTV', 'DIVISLAB', 'DIXON', 'DLF', 'DMART', 'DREDGECORP', 'DRREDDY', 'ECLERX', 'EICHERMOT', 'EIDPARRY', 'EIHOTEL', 'ELECTCAST', 'EMAMILTD', 'ENDURANCE', 'ENGINERSIN', 'EQUITAS', 'ERIS', 'EROSMEDIA', 'ESCORTS', 'ESTER', 'EXIDEIND', 'FEDERALBNK', 'FEL', 'FINCABLES', 'FORTIS', 'FRETAIL', 'GAIL', 'GATI', 'GDL', 'GEPIL', 'GESHIP', 'GET&D', 'GHCL', 'GICHSGFIN', 'GICRE', 'GILLETTE', 'GLAXO', 'GLENMARK', 'GLOBUSSPR', 'GMBREW', 'GMRINFRA', 'GNA', 'GNFC', 'GODFRYPHLP', 'GODREJAGRO', 'GODREJCP', 'GODREJIND', 'GODREJPROP', 'GOLDBEES', 'GPPL', 'GRANULES', 'GRASIM', 'GREAVESCOT', 'GSFC', 'GSKCONS', 'GSPL', 'GUJALKALI', 'GUJFLUORO', 'GUJGASLTD', 'HATHWAY', 'HAVELLS', 'HBLPOWER', 'HCL-INSYS', 'HCLTECH', 'HDFC', 'HDFCAMC', 'HDFCBANK', 'HDFCLIFE', 'HEIDELBERG', 'HEROMOTOCO', 'HEXAWARE', 'HGS', 'HIKAL', 'HINDALCO', 'HINDCOPPER', 'HINDPETRO', 'HINDUNILVR', 'HINDZINC', 'HONAUT', 'HSCL', 'HSIL', 'HUDCO', 'IBULHSGFIN', 'ICICIBANK', 'ICICIGI', 'ICICINIFTY', 'ICICIPRULI', 'IDBI', 'IDEA', 'IDFC', 'IDFCFIRSTB', 'IEX', 'IFCI', 'IGL', 'INDHOTEL', 'INDIACEM', 'INDIANB', 'INDIGO', 'INDUSINDBK', 'INFIBEAM', 'INFRATEL', 'INFY', 'INOXLEISUR', 'INOXWIND', 'INTELLECT', 'IOB', 'IOC', 'IPCALAB', 'IRB', 'ITC', 'ITDCEM', 'JAGRAN', 'JAICORPLTD', 'JAMNAAUTO', 'JAYAGROGN', 'JAYSREETEA', 'JETAIRWAYS', 'JINDALSTEL', 'JINDWORLD', 'JISLJALEQS', 'JKCEMENT', 'JKPAPER', 'JKTYRE', 'JMFINANCIL', 'JPASSOCIAT', 'JSLHISAR', 'JSWENERGY', 'JSWSTEEL', 'JUBILANT', 'JUBLFOOD', 'JUSTDIAL', 'JYOTHYLAB', 'KAJARIACER', 'KALPATPOWR', 'KANSAINER', 'KARURVYSYA', 'KEC', 'KEI', 'KILITCH', 'KIRIINDUS', 'KOTAKBANK', 'KOTAKNIFTY', 'KSCL', 'KTKBANK', 'L&TFH', 'LALPATHLAB', 'LIBERTSHOE', 'LICHSGFIN', 'LINCOLN', 'LIQUIDBEES', 'LOVABLE', 'LT', 'LUPIN', 'M&M', 'M&MFIN', 'M50', 'MAGMA', 'MAHINDCIE', 'MAHLOG', 'MAHSEAMLES', 'MAJESCO', 'MANALIPETC', 'MANAPPURAM', 'MANGTIMBER', 'MANINDS', 'MANINFRA', 'MARICO', 'MARKSANS', 'MARUTI', 'MASFIN', 'MASTEK', 'MCDOWELL-N', 'MCX', 'MEGH', 'MFSL', 'MGL', 'MIDHANI', 'MINDACORP', 'MINDAIND', 'MINDTREE', 'MMTC', 'MOIL', 'MOLDTKPAC', 'MOREPENLAB', 'MOTHERSUMI', 'MPHASIS', 'MRF', 'MRPL', 'MUKANDLTD', 'MUNJALAU', 'MUTHOOTFIN', 'NATCOPHARM', 'NATIONALUM', 'NAUKRI', 'NAVINFLUOR', 'NAVNETEDUL', 'NBCC', 'NCC', 'NESTLEIND', 'NETWORK18', 'NFL', 'NH', 'NHPC', 'NIACL', 'NIFTY 100', 'NIFTY 200', 'NIFTY 50', 'NIFTY AUTO', 'NIFTY BANK', 'NIFTY COMMODITIES', 'NIFTY ENERGY', 'NIFTY FIN SERVICE', 'NIFTY FMCG', 'NIFTY INFRA', 'NIFTY IT', 'NIFTY JUNIOR', 'NIFTY MEDIA', 'NIFTY METAL', 'NIFTY MIDCAP 100', 'NIFTY MIDCAP 50', 'NIFTY MNC', 'NIFTY PHARMA', 'NIFTY PSU BANK', 'NIFTY REALTY', 'NIFTY SMALL 100', 'NIFTYBEES', 'NIITTECH', 'NLCINDIA', 'NMDC', 'NOCIL', 'NRBBEARING', 'NTPC', 'OBEROIRLTY', 'OFSS', 'OIL', 'OMAXE', 'ONGC', 'ORIENTBANK', 'ORIENTCEM', 'PAGEIND', 'PAPERPROD', 'PARAGMILK', 'PATELENG', 'PCJEWELLER', 'PEL', 'PERSISTENT', 'PETRONET', 'PFC', 'PFIZER', 'PGHH', 'PHILIPCARB', 'PHOENIXLTD', 'PIDILITIND', 'PIIND', 'PNB', 'PNBGILTS', 'PNBHOUSING', 'POLYPLEX', 'POWERGRID', 'PRAJIND', 'PRESTIGE', 'PTC', 'PURVA', 'PVR', 'QUICKHEAL', 'RADICO', 'RADIOCITY', 'RAJESHEXPO', 'RALLIS', 'RAMCOCEM', 'RAMCOIND', 'RAMKY', 'RAYMOND', 'RBLBANK', 'RCF', 'RECLTD', 'RELAXO', 'RELCAPITAL', 'RELIANCE', 'RELINFRA', 'REPCOHOME', 'RICOAUTO', 'RIIL', 'RKFORGE', 'RPOWER', 'SAIL', 'SAKUMA', 'SALASAR', 'SALZERELEC', 'SANGHIIND', 'SANGHVIMOV', 'SANOFI', 'SAREGAMA', 'SBILIFE', 'SBIN', 'SCHAEFFLER', 'SCHAND', 'SCHNEIDER', 'SCI', 'SELAN', 'SEQUENT', 'SHARDAMOTR', 'SHREECEM', 'SHRIRAMCIT', 'SIEMENS', 'SIMPLEXINF', 'SINTEX', 'SIS', 'SJVN', 'SKFINDIA', 'SNOWMAN', 'SOBHA', 'SOLARINDS', 'SOUTHBANK', 'SPARC', 'SPTL', 'SREINFRA', 'SRF', 'SRTRANSFIN', 'STAR', 'STCINDIA', 'STRTECH', 'SUNDARMFIN', 'SUNDRMFAST', 'SUNPHARMA', 'SUNTECK', 'SUNTV', 'SUPREMEIND', 'SUVEN', 'SUZLON', 'SYNDIBANK', 'SYNGENE', 'TAKE', 'TALWALKARS', 'TATACHEM', 'TATACOFFEE', 'TATACOMM', 'TATAELXSI', 'TATAGLOBAL', 'TATAINVEST', 'TATAMOTORS', 'TATAMTRDVR', 'TATAPOWER', 'TATASPONGE', 'TATASTEEL', 'TBZ', 'TCI', 'TCS', 'TECHM', 'TEJASNET', 'TEXMOPIPES', 'TEXRAIL', 'THERMAX', 'THOMASCOOK', 'THYROCARE', 'TIMETECHNO', 'TINPLATE', 'TITAN', 'TNPETRO', 'TNPL', 'TORNTPHARM', 'TORNTPOWER', 'TRENT', 'TRIDENT', 'TRIGYN', 'TRIVENI', 'TTKPRESTIG', 'TV18BRDCST', 'TVSMOTOR', 'TWL', 'UBL', 'UCOBANK', 'UJJIVAN', 'ULTRACEMCO', 'UNIONBANK', 'UNIVCABLES', 'UPL', 'USHAMART', 'VEDL', 'VGUARD', 'VIPCLOTHNG', 'VIPIND', 'VOLTAS', 'VTL', 'WABCOINDIA', 'WALCHANNAG', 'WELCORP', 'WELENT', 'WELSPUNIND', 'WHIRLPOOL', 'WINDMACHIN', 'WIPRO', 'WOCKPHARMA', 'WONDERLA', 'YESBANK', 'ZEEL']\n",
    "\n",
    "temp_file1 = pd.HDFStore('data/kite_cache_sample.h5', mode=\"w\")\n",
    "for key in keys:\n",
    "    hash1 = '/minute/NSE/'+key\n",
    "    hash2 = '/day/NSE/'+key\n",
    "    df1 = pd.read_hdf(temp_file, key=hash1)\n",
    "    df2 = pd.read_hdf(temp_file, key=hash2)\n",
    "    \n",
    "    df1.tail(10000).to_hdf(temp_file1, hash1)\n",
    "    df2.tail(1000).to_hdf(temp_file1, hash2)\n",
    "    \n",
    "    #print(key)\n",
    "    \n",
    "    temp_file1.close()"
   ]
  },
  {
   "cell_type": "code",
   "execution_count": null,
   "metadata": {},
   "outputs": [],
   "source": [
    "pd.HDFStore('data/kite_cache_sample.h5', mode=\"r\").keys()"
   ]
  },
  {
   "cell_type": "code",
   "execution_count": null,
   "metadata": {},
   "outputs": [],
   "source": [
    "pd.read_hdf('data/kite_cache_sample.h5', key='/minute/NSE/WIPRO')"
   ]
  },
  {
   "cell_type": "code",
   "execution_count": null,
   "metadata": {},
   "outputs": [],
   "source": [
    "temp_file1.close()"
   ]
  },
  {
   "cell_type": "code",
   "execution_count": null,
   "metadata": {},
   "outputs": [],
   "source": []
  }
 ],
 "metadata": {
  "kernelspec": {
   "display_name": "Python 3",
   "language": "python",
   "name": "python3"
  },
  "language_info": {
   "codemirror_mode": {
    "name": "ipython",
    "version": 3
   },
   "file_extension": ".py",
   "mimetype": "text/x-python",
   "name": "python",
   "nbconvert_exporter": "python",
   "pygments_lexer": "ipython3",
   "version": "3.7.7"
  }
 },
 "nbformat": 4,
 "nbformat_minor": 4
}
