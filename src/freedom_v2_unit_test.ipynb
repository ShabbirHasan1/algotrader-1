{
 "cells": [
  {
   "cell_type": "code",
   "execution_count": 1,
   "metadata": {},
   "outputs": [],
   "source": [
    "%load_ext autoreload\n",
    "%autoreload 2\n",
    "#from lib.multitasking_lib import *"
   ]
  },
  {
   "cell_type": "code",
   "execution_count": 2,
   "metadata": {},
   "outputs": [],
   "source": [
    "from lib.multitasking_lib import *\n",
    "cache_type ='backtest_uni'\n",
    "\n",
    "my_cache = cache_state('backtest_uni')"
   ]
  },
  {
   "cell_type": "code",
   "execution_count": 3,
   "metadata": {
    "scrolled": true
   },
   "outputs": [
    {
     "name": "stdout",
     "output_type": "stream",
     "text": [
      "True\n",
      "['ohlc_tick_handlerlive', 'kite_ticker_handlerlive', 'ohlc_tick_handlerbacktest_web', 'order_handlerlive', 'kite_simulatorbacktest_web']\n",
      "[<Process(Process-1, started)>]\n"
     ]
    },
    {
     "name": "stderr",
     "output_type": "stream",
     "text": [
      "2020-05-14 02:20:59,816 INFO:\tStarting Handler: kite_simulator\n",
      "2020-05-14 02:20:59,833 INFO:\tStarting Handler: ohlc_tick_handler\n",
      "2020-05-14 02:20:59,872 INFO:\tStarting Handler: order_handler\n",
      "2020-05-14 02:20:59,899 DEBUG:\tkite_simulator: 1\n",
      "2020-05-14 02:20:59,868 DEBUG:\tohlc_tick_handler(backtest_uni) - INIT: 1\n",
      "2020-05-14 02:20:59,919 ERROR:\tkite_simulator: Invalid msg: 1\n",
      "2020-05-14 02:20:59,919 DEBUG:\torder_handler(backtest_uni): 1\n",
      "2020-05-14 02:20:59,940 DEBUG:\tohlc_tick_handler(backtest_uni) - START: 1\n",
      "2020-05-14 02:20:59,998 ERROR:\tError in order handler\n",
      "2020-05-14 02:21:00,010 INFO:\tbacktest_uni\n",
      "2020-05-14 02:21:01,736 DEBUG:\tkite_simulator: {\"stock\": [\"TCS\"], \"sl\": 1, \"target\": 1, \"qty\": 10, \"algo\": \"haikin_1_new\", \"fromDate\": \"2019-4-8\", \"toDate\": \"2019-4-9\", \"freq\": \"1T\", \"mode\": \"full\"}\n",
      "2020-05-14 02:21:01,764 DEBUG:\tTrade_init: TCS\n",
      "2020-05-14 02:21:01,772 INFO:\tReset Cache for: TCSbacktest_uni\n",
      "2020-05-14 02:21:01,808 INFO:\tTCSbacktest_uni=>{'stock': 'TCS', 'qty': '0', 'SL %': '0.0', 'TP %': '0.0', 'amount': '0', 'price': '0.0', 'P&L': '0.0', 'P&L %': '0.0', 'Total P&L': '0.0', 'Total P&L %': '0.0', 'low': '0.0', 'sl': '0.0', 'ltp': '0.0', 'ltp %': '0.0', 'tp': '0.0', 'high': '0.0', 'last_processed': '1999-01-01', 'state': 'INIT', 'mode': 'PAUSE', 'algo': '', 'freq': '1D', 'hdf_freq': 'day', 'order_id': '0'}\n",
      "2020-05-14 02:21:02,606 INFO:\tRunning Full Backtest\n",
      "2020-05-14 02:21:02,607 ERROR:\tCould not read data from msgBufferQueue\n",
      "2020-05-14 02:21:02,648 DEBUG:\tohlc_tick_handler(backtest_uni) - INIT: start\n",
      "2020-05-14 02:21:02,709 DEBUG:\tohlc_tick_handler(backtest_uni) - START: start\n",
      "2020-05-14 02:21:02,733 INFO:\tbacktest_uni\n",
      "2020-05-14 02:21:03,405 INFO:\tbacktest_uni\n",
      "TRADE: B: EN:  : 2019-04-08 09:15 : TCS -> 2059.0\n",
      "2020-05-14 02:21:03,594 DEBUG:\tPlace Order: 2059.0,0.0,0,0.0\n",
      "2020-05-14 02:21:03,654 DEBUG:\torder_handler(backtest_uni): {\"cmd\": \"buy\", \"symbol\": \"TCS\", \"price\": 2059.0, \"qty\": 10.0}\n",
      "2020-05-14 02:21:03,711 INFO:\tPlaceorder(full):buy: TCS: 10x2059.0\n",
      "TRADE: S: EX:  : 2019-04-08 09:18 : TCS -> 2055.25\n",
      "2020-05-14 02:21:04,255 DEBUG:\tPlace Order: 2055.25,2059.0,0,0.0\n",
      "2020-05-14 02:21:04,335 DEBUG:\torder_handler(backtest_uni): {\"cmd\": \"sell\", \"symbol\": \"TCS\", \"price\": 2055.25, \"qty\": 10.0}\n",
      "2020-05-14 02:21:04,390 INFO:\tPlaceorder(full):sell: TCS: 10x2055.25\n",
      "TRADE: B: EN:  : 2019-04-08 09:20 : TCS -> 2060.0\n",
      "2020-05-14 02:21:04,796 DEBUG:\tPlace Order: 2060.0,0.0,0,-37.5\n",
      "2020-05-14 02:21:04,834 DEBUG:\torder_handler(backtest_uni): {\"cmd\": \"buy\", \"symbol\": \"TCS\", \"price\": 2060.0, \"qty\": 10.0}\n",
      "2020-05-14 02:21:04,871 INFO:\tPlaceorder(full):buy: TCS: 10x2060.0\n",
      "TRADE: S: EX:  : 2019-04-08 09:24 : TCS -> 2061.9\n",
      "2020-05-14 02:21:05,846 DEBUG:\tPlace Order: 2061.9,2060.0,0,-37.5\n",
      "2020-05-14 02:21:05,881 DEBUG:\torder_handler(backtest_uni): {\"cmd\": \"sell\", \"symbol\": \"TCS\", \"price\": 2061.9, \"qty\": 10.0}\n",
      "2020-05-14 02:21:05,953 INFO:\tPlaceorder(full):sell: TCS: 10x2061.9\n",
      "TRADE: S: EN:  : 2019-04-08 09:26 : TCS -> 2059.0\n",
      "2020-05-14 02:21:06,338 DEBUG:\tPlace Order: 2059.0,0.0,0,-18.49999999999909\n",
      "2020-05-14 02:21:06,375 DEBUG:\torder_handler(backtest_uni): {\"cmd\": \"sell\", \"symbol\": \"TCS\", \"price\": 2059.0, \"qty\": 10.0}\n",
      "2020-05-14 02:21:06,446 INFO:\tPlaceorder(full):sell: TCS: 10x2059.0\n",
      "TRADE: B: EX:  : 2019-04-08 09:34 : TCS -> 2051.4\n",
      "2020-05-14 02:21:08,053 DEBUG:\tPlace Order: 2051.4,2059.0,0,-18.49999999999909\n",
      "2020-05-14 02:21:08,118 DEBUG:\torder_handler(backtest_uni): {\"cmd\": \"buy\", \"symbol\": \"TCS\", \"price\": 2051.4, \"qty\": 10.0}\n",
      "2020-05-14 02:21:08,175 INFO:\tPlaceorder(full):buy: TCS: 10x2051.4\n",
      "TRADE: S: EN:  : 2019-04-08 09:36 : TCS -> 2046.95\n",
      "2020-05-14 02:21:08,466 DEBUG:\tPlace Order: 2046.95,0.0,0,57.5\n",
      "2020-05-14 02:21:08,501 DEBUG:\torder_handler(backtest_uni): {\"cmd\": \"sell\", \"symbol\": \"TCS\", \"price\": 2046.95, \"qty\": 10.0}\n",
      "2020-05-14 02:21:08,513 INFO:\tPlaceorder(full):sell: TCS: 10x2046.95\n",
      "2020-05-14 02:21:09,169 INFO:\tbacktest_uni\n",
      "TRADE: B: EX:  : 2019-04-08 09:40 : TCS -> 2047.05\n",
      "2020-05-14 02:21:09,356 DEBUG:\tPlace Order: 2047.05,2046.95,0,57.5\n",
      "2020-05-14 02:21:09,404 DEBUG:\torder_handler(backtest_uni): {\"cmd\": \"buy\", \"symbol\": \"TCS\", \"price\": 2047.05, \"qty\": 10.0}\n",
      "2020-05-14 02:21:09,452 INFO:\tPlaceorder(full):buy: TCS: 10x2047.05\n",
      "TRADE: S: EN:  : 2019-04-08 09:42 : TCS -> 2046.6\n",
      "2020-05-14 02:21:09,961 DEBUG:\tPlace Order: 2046.6,0.0,0,56.50000000000091\n",
      "2020-05-14 02:21:10,028 DEBUG:\torder_handler(backtest_uni): {\"cmd\": \"sell\", \"symbol\": \"TCS\", \"price\": 2046.6, \"qty\": 10.0}\n",
      "2020-05-14 02:21:10,113 INFO:\tPlaceorder(full):sell: TCS: 10x2046.6\n",
      "TRADE: B: EX:  : 2019-04-08 09:43 : TCS -> 2047.0\n",
      "2020-05-14 02:21:10,445 DEBUG:\tPlace Order: 2047.0,2046.6,0,56.50000000000091\n",
      "2020-05-14 02:21:10,492 DEBUG:\torder_handler(backtest_uni): {\"cmd\": \"buy\", \"symbol\": \"TCS\", \"price\": 2047.0, \"qty\": 10.0}\n",
      "2020-05-14 02:21:10,582 INFO:\tPlaceorder(full):buy: TCS: 10x2047.0\n",
      "TRADE: B: EN:  : 2019-04-08 09:51 : TCS -> 2039.35\n",
      "2020-05-14 02:21:12,598 DEBUG:\tPlace Order: 2039.35,0.0,0,52.5\n",
      "2020-05-14 02:21:12,630 DEBUG:\torder_handler(backtest_uni): {\"cmd\": \"buy\", \"symbol\": \"TCS\", \"price\": 2039.35, \"qty\": 10.0}\n",
      "2020-05-14 02:21:12,667 INFO:\tPlaceorder(full):buy: TCS: 10x2039.35\n",
      "2020-05-14 02:21:16,910 INFO:\tbacktest_uni\n",
      "TRADE: S: EX:  : 2019-04-08 10:07 : TCS -> 2044.0\n",
      "2020-05-14 02:21:17,454 DEBUG:\tPlace Order: 2044.0,2039.35,0,52.5\n",
      "2020-05-14 02:21:17,493 DEBUG:\torder_handler(backtest_uni): {\"cmd\": \"sell\", \"symbol\": \"TCS\", \"price\": 2044.0, \"qty\": 10.0}\n",
      "2020-05-14 02:21:17,525 INFO:\tPlaceorder(full):sell: TCS: 10x2044.0\n",
      "TRADE: B: EN:  : 2019-04-08 10:10 : TCS -> 2047.0\n",
      "2020-05-14 02:21:18,018 DEBUG:\tPlace Order: 2047.0,0.0,0,99.00000000000091\n",
      "2020-05-14 02:21:18,051 DEBUG:\torder_handler(backtest_uni): {\"cmd\": \"buy\", \"symbol\": \"TCS\", \"price\": 2047.0, \"qty\": 10.0}\n",
      "2020-05-14 02:21:18,092 INFO:\tPlaceorder(full):buy: TCS: 10x2047.0\n",
      "TRADE: S: EX:  : 2019-04-08 10:13 : TCS -> 2045.85\n",
      "2020-05-14 02:21:18,554 DEBUG:\tPlace Order: 2045.85,2047.0,0,99.00000000000091\n",
      "2020-05-14 02:21:18,593 DEBUG:\torder_handler(backtest_uni): {\"cmd\": \"sell\", \"symbol\": \"TCS\", \"price\": 2045.85, \"qty\": 10.0}\n",
      "2020-05-14 02:21:18,628 INFO:\tPlaceorder(full):sell: TCS: 10x2045.85\n",
      "TRADE: B: EN:  : 2019-04-08 10:18 : TCS -> 2042.0\n",
      "2020-05-14 02:21:20,117 DEBUG:\tPlace Order: 2042.0,0.0,0,87.5\n",
      "2020-05-14 02:21:20,171 DEBUG:\torder_handler(backtest_uni): {\"cmd\": \"buy\", \"symbol\": \"TCS\", \"price\": 2042.0, \"qty\": 10.0}\n",
      "2020-05-14 02:21:20,244 INFO:\tPlaceorder(full):buy: TCS: 10x2042.0\n",
      "TRADE: S: EX:  : 2019-04-08 10:20 : TCS -> 2042.6\n",
      "2020-05-14 02:21:20,475 DEBUG:\tPlace Order: 2042.6,2042.0,0,87.5\n",
      "2020-05-14 02:21:20,507 DEBUG:\torder_handler(backtest_uni): {\"cmd\": \"sell\", \"symbol\": \"TCS\", \"price\": 2042.6, \"qty\": 10.0}\n",
      "2020-05-14 02:21:20,584 INFO:\tPlaceorder(full):sell: TCS: 10x2042.6\n",
      "TRADE: B: EN:  : 2019-04-08 10:23 : TCS -> 2043.0\n",
      "2020-05-14 02:21:21,458 DEBUG:\tPlace Order: 2043.0,0.0,0,93.49999999999909\n",
      "2020-05-14 02:21:21,502 DEBUG:\torder_handler(backtest_uni): {\"cmd\": \"buy\", \"symbol\": \"TCS\", \"price\": 2043.0, \"qty\": 10.0}\n",
      "2020-05-14 02:21:21,535 INFO:\tPlaceorder(full):buy: TCS: 10x2043.0\n",
      "TRADE: S: EX:  : 2019-04-08 10:26 : TCS -> 2043.95\n",
      "2020-05-14 02:21:22,153 DEBUG:\tPlace Order: 2043.95,2043.0,0,93.49999999999909\n",
      "2020-05-14 02:21:22,170 DEBUG:\torder_handler(backtest_uni): {\"cmd\": \"sell\", \"symbol\": \"TCS\", \"price\": 2043.95, \"qty\": 10.0}\n",
      "2020-05-14 02:21:22,208 INFO:\tPlaceorder(full):sell: TCS: 10x2043.95\n",
      "TRADE: B: EN:  : 2019-04-08 10:28 : TCS -> 2042.95\n",
      "2020-05-14 02:21:22,536 DEBUG:\tPlace Order: 2042.95,0.0,0,102.99999999999955\n",
      "2020-05-14 02:21:22,576 DEBUG:\torder_handler(backtest_uni): {\"cmd\": \"buy\", \"symbol\": \"TCS\", \"price\": 2042.95, \"qty\": 10.0}\n",
      "2020-05-14 02:21:22,626 INFO:\tPlaceorder(full):buy: TCS: 10x2042.95\n",
      "TRADE: S: EX:  : 2019-04-08 10:29 : TCS -> 2042.75\n",
      "2020-05-14 02:21:22,782 DEBUG:\tPlace Order: 2042.75,2042.95,0,102.99999999999955\n",
      "2020-05-14 02:21:22,814 DEBUG:\torder_handler(backtest_uni): {\"cmd\": \"sell\", \"symbol\": \"TCS\", \"price\": 2042.75, \"qty\": 10.0}\n",
      "2020-05-14 02:21:22,820 INFO:\tbacktest_uni\n",
      "2020-05-14 02:21:22,853 INFO:\tPlaceorder(full):sell: TCS: 10x2042.75\n",
      "TRADE: B: EN:  : 2019-04-08 10:33 : TCS -> 2044.7\n",
      "2020-05-14 02:21:23,585 DEBUG:\tPlace Order: 2044.7,0.0,0,100.99999999999909\n"
     ]
    },
    {
     "name": "stderr",
     "output_type": "stream",
     "text": [
      "2020-05-14 02:21:23,630 DEBUG:\torder_handler(backtest_uni): {\"cmd\": \"buy\", \"symbol\": \"TCS\", \"price\": 2044.7, \"qty\": 10.0}\n",
      "2020-05-14 02:21:23,673 INFO:\tPlaceorder(full):buy: TCS: 10x2044.7\n",
      "TRADE: S: EX:  : 2019-04-08 10:36 : TCS -> 2044.15\n",
      "2020-05-14 02:21:24,312 DEBUG:\tPlace Order: 2044.15,2044.7,0,100.99999999999909\n",
      "2020-05-14 02:21:24,372 DEBUG:\torder_handler(backtest_uni): {\"cmd\": \"sell\", \"symbol\": \"TCS\", \"price\": 2044.15, \"qty\": 10.0}\n",
      "2020-05-14 02:21:24,396 INFO:\tPlaceorder(full):sell: TCS: 10x2044.15\n",
      "TRADE: S: EN:  : 2019-04-08 10:39 : TCS -> 2047.0\n",
      "2020-05-14 02:21:25,009 DEBUG:\tPlace Order: 2047.0,0.0,0,95.49999999999955\n",
      "2020-05-14 02:21:25,032 DEBUG:\torder_handler(backtest_uni): {\"cmd\": \"sell\", \"symbol\": \"TCS\", \"price\": 2047.0, \"qty\": 10.0}\n",
      "2020-05-14 02:21:25,074 INFO:\tPlaceorder(full):sell: TCS: 10x2047.0\n",
      "TRADE: B: EX:  : 2019-04-08 10:40 : TCS -> 2047.75\n",
      "2020-05-14 02:21:25,242 DEBUG:\tPlace Order: 2047.75,2047.0,0,95.49999999999955\n",
      "2020-05-14 02:21:25,267 DEBUG:\torder_handler(backtest_uni): {\"cmd\": \"buy\", \"symbol\": \"TCS\", \"price\": 2047.75, \"qty\": 10.0}\n",
      "2020-05-14 02:21:25,302 INFO:\tPlaceorder(full):buy: TCS: 10x2047.75\n",
      "TRADE: S: EN:  : 2019-04-08 10:46 : TCS -> 2050.15\n",
      "2020-05-14 02:21:26,479 DEBUG:\tPlace Order: 2050.15,0.0,0,87.99999999999955\n",
      "2020-05-14 02:21:26,496 DEBUG:\torder_handler(backtest_uni): {\"cmd\": \"sell\", \"symbol\": \"TCS\", \"price\": 2050.15, \"qty\": 10.0}\n",
      "2020-05-14 02:21:26,518 INFO:\tPlaceorder(full):sell: TCS: 10x2050.15\n",
      "TRADE: B: EX:  : 2019-04-08 10:47 : TCS -> 2055.0\n",
      "2020-05-14 02:21:26,808 DEBUG:\tPlace Order: 2055.0,2050.15,0,87.99999999999955\n",
      "2020-05-14 02:21:26,846 DEBUG:\torder_handler(backtest_uni): {\"cmd\": \"buy\", \"symbol\": \"TCS\", \"price\": 2055.0, \"qty\": 10.0}\n",
      "2020-05-14 02:21:26,898 INFO:\tPlaceorder(full):buy: TCS: 10x2055.0\n",
      "TRADE: S: EN:  : 2019-04-08 10:49 : TCS -> 2051.0\n",
      "2020-05-14 02:21:27,405 DEBUG:\tPlace Order: 2051.0,0.0,0,39.500000000000455\n",
      "2020-05-14 02:21:27,423 DEBUG:\torder_handler(backtest_uni): {\"cmd\": \"sell\", \"symbol\": \"TCS\", \"price\": 2051.0, \"qty\": 10.0}\n",
      "2020-05-14 02:21:27,436 INFO:\tPlaceorder(full):sell: TCS: 10x2051.0\n",
      "TRADE: B: EX:  : 2019-04-08 10:54 : TCS -> 2052.75\n",
      "2020-05-14 02:21:28,942 DEBUG:\tPlace Order: 2052.75,2051.0,0,39.500000000000455\n",
      "2020-05-14 02:21:28,946 INFO:\tbacktest_uni\n",
      "2020-05-14 02:21:28,989 DEBUG:\torder_handler(backtest_uni): {\"cmd\": \"buy\", \"symbol\": \"TCS\", \"price\": 2052.75, \"qty\": 10.0}\n",
      "2020-05-14 02:21:29,135 INFO:\tPlaceorder(full):buy: TCS: 10x2052.75\n",
      "TRADE: S: EN:  : 2019-04-08 11:00 : TCS -> 2057.15\n",
      "2020-05-14 02:21:30,621 DEBUG:\tPlace Order: 2057.15,0.0,0,22.000000000000455\n",
      "2020-05-14 02:21:30,665 DEBUG:\torder_handler(backtest_uni): {\"cmd\": \"sell\", \"symbol\": \"TCS\", \"price\": 2057.15, \"qty\": 10.0}\n",
      "2020-05-14 02:21:30,694 INFO:\tPlaceorder(full):sell: TCS: 10x2057.15\n",
      "TRADE: B: EX:  : 2019-04-08 11:01 : TCS -> 2057.05\n",
      "2020-05-14 02:21:30,924 DEBUG:\tPlace Order: 2057.05,2057.15,0,22.000000000000455\n",
      "2020-05-14 02:21:30,957 DEBUG:\torder_handler(backtest_uni): {\"cmd\": \"buy\", \"symbol\": \"TCS\", \"price\": 2057.05, \"qty\": 10.0}\n",
      "2020-05-14 02:21:31,021 INFO:\tPlaceorder(full):buy: TCS: 10x2057.05\n",
      "TRADE: B: EN:  : 2019-04-08 11:04 : TCS -> 2056.75\n",
      "2020-05-14 02:21:31,570 DEBUG:\tPlace Order: 2056.75,0.0,0,22.999999999999545\n",
      "2020-05-14 02:21:31,634 DEBUG:\torder_handler(backtest_uni): {\"cmd\": \"buy\", \"symbol\": \"TCS\", \"price\": 2056.75, \"qty\": 10.0}\n",
      "2020-05-14 02:21:31,696 INFO:\tPlaceorder(full):buy: TCS: 10x2056.75\n",
      "TRADE: S: EX:  : 2019-04-08 11:06 : TCS -> 2055.55\n",
      "2020-05-14 02:21:32,226 DEBUG:\tPlace Order: 2055.55,2056.75,0,22.999999999999545\n",
      "2020-05-14 02:21:32,284 DEBUG:\torder_handler(backtest_uni): {\"cmd\": \"sell\", \"symbol\": \"TCS\", \"price\": 2055.55, \"qty\": 10.0}\n",
      "2020-05-14 02:21:32,326 INFO:\tPlaceorder(full):sell: TCS: 10x2055.55\n",
      "TRADE: B: EN:  : 2019-04-08 11:12 : TCS -> 2054.6\n",
      "2020-05-14 02:21:33,510 DEBUG:\tPlace Order: 2054.6,0.0,0,11.000000000001364\n",
      "2020-05-14 02:21:33,576 DEBUG:\torder_handler(backtest_uni): {\"cmd\": \"buy\", \"symbol\": \"TCS\", \"price\": 2054.6, \"qty\": 10.0}\n",
      "2020-05-14 02:21:33,609 INFO:\tPlaceorder(full):buy: TCS: 10x2054.6\n",
      "TRADE: S: EX:  : 2019-04-08 11:13 : TCS -> 2050.15\n",
      "2020-05-14 02:21:33,770 DEBUG:\tPlace Order: 2050.15,2054.6,0,11.000000000001364\n",
      "2020-05-14 02:21:33,806 DEBUG:\torder_handler(backtest_uni): {\"cmd\": \"sell\", \"symbol\": \"TCS\", \"price\": 2050.15, \"qty\": 10.0}\n",
      "2020-05-14 02:21:33,849 INFO:\tPlaceorder(full):sell: TCS: 10x2050.15\n",
      "TRADE: B: EN:  : 2019-04-08 11:15 : TCS -> 2050.8\n",
      "2020-05-14 02:21:34,251 DEBUG:\tPlace Order: 2050.8,0.0,0,-33.49999999999682\n",
      "2020-05-14 02:21:34,347 DEBUG:\torder_handler(backtest_uni): {\"cmd\": \"buy\", \"symbol\": \"TCS\", \"price\": 2050.8, \"qty\": 10.0}\n",
      "2020-05-14 02:21:34,362 INFO:\tPlaceorder(full):buy: TCS: 10x2050.8\n",
      "TRADE: S: EX:  : 2019-04-08 11:16 : TCS -> 2051.6\n",
      "2020-05-14 02:21:34,570 DEBUG:\tPlace Order: 2051.6,2050.8,0,-33.49999999999682\n",
      "2020-05-14 02:21:34,609 DEBUG:\torder_handler(backtest_uni): {\"cmd\": \"sell\", \"symbol\": \"TCS\", \"price\": 2051.6, \"qty\": 10.0}\n",
      "2020-05-14 02:21:34,645 INFO:\tPlaceorder(full):sell: TCS: 10x2051.6\n",
      "TRADE: B: EN:  : 2019-04-08 11:18 : TCS -> 2052.3\n",
      "2020-05-14 02:21:34,868 DEBUG:\tPlace Order: 2052.3,0.0,0,-25.499999999999545\n",
      "2020-05-14 02:21:34,929 DEBUG:\torder_handler(backtest_uni): {\"cmd\": \"buy\", \"symbol\": \"TCS\", \"price\": 2052.3, \"qty\": 10.0}\n",
      "2020-05-14 02:21:34,956 INFO:\tPlaceorder(full):buy: TCS: 10x2052.3\n",
      "2020-05-14 02:21:35,165 INFO:\tbacktest_uni\n",
      "TRADE: S: EX:  : 2019-04-08 11:21 : TCS -> 2053.8\n",
      "2020-05-14 02:21:35,575 DEBUG:\tPlace Order: 2053.8,2052.3,0,-25.499999999999545\n",
      "2020-05-14 02:21:35,616 DEBUG:\torder_handler(backtest_uni): {\"cmd\": \"sell\", \"symbol\": \"TCS\", \"price\": 2053.8, \"qty\": 10.0}\n",
      "2020-05-14 02:21:35,644 INFO:\tPlaceorder(full):sell: TCS: 10x2053.8\n",
      "TRADE: S: EN:  : 2019-04-08 11:28 : TCS -> 2054.95\n",
      "2020-05-14 02:21:36,992 DEBUG:\tPlace Order: 2054.95,0.0,0,-10.499999999999545\n",
      "2020-05-14 02:21:37,038 DEBUG:\torder_handler(backtest_uni): {\"cmd\": \"sell\", \"symbol\": \"TCS\", \"price\": 2054.95, \"qty\": 10.0}\n",
      "2020-05-14 02:21:37,073 INFO:\tPlaceorder(full):sell: TCS: 10x2054.95\n",
      "TRADE: B: EX:  : 2019-04-08 11:31 : TCS -> 2054.35\n",
      "2020-05-14 02:21:37,597 DEBUG:\tPlace Order: 2054.35,2054.95,0,-10.499999999999545\n",
      "2020-05-14 02:21:37,632 DEBUG:\torder_handler(backtest_uni): {\"cmd\": \"buy\", \"symbol\": \"TCS\", \"price\": 2054.35, \"qty\": 10.0}\n",
      "2020-05-14 02:21:37,650 INFO:\tPlaceorder(full):buy: TCS: 10x2054.35\n",
      "TRADE: B: EN:  : 2019-04-08 11:33 : TCS -> 2055.6\n",
      "2020-05-14 02:21:37,988 DEBUG:\tPlace Order: 2055.6,0.0,0,-4.500000000000455\n",
      "2020-05-14 02:21:38,025 DEBUG:\torder_handler(backtest_uni): {\"cmd\": \"buy\", \"symbol\": \"TCS\", \"price\": 2055.6, \"qty\": 10.0}\n",
      "2020-05-14 02:21:38,073 INFO:\tPlaceorder(full):buy: TCS: 10x2055.6\n",
      "TRADE: S: EX:  : 2019-04-08 11:37 : TCS -> 2058.0\n",
      "2020-05-14 02:21:38,808 DEBUG:\tPlace Order: 2058.0,2055.6,0,-4.500000000000455\n",
      "2020-05-14 02:21:38,854 DEBUG:\torder_handler(backtest_uni): {\"cmd\": \"sell\", \"symbol\": \"TCS\", \"price\": 2058.0, \"qty\": 10.0}\n",
      "2020-05-14 02:21:38,890 INFO:\tPlaceorder(full):sell: TCS: 10x2058.0\n",
      "TRADE: B: EN:  : 2019-04-08 11:41 : TCS -> 2058.0\n",
      "2020-05-14 02:21:39,657 DEBUG:\tPlace Order: 2058.0,0.0,0,19.500000000000455\n",
      "2020-05-14 02:21:39,682 DEBUG:\torder_handler(backtest_uni): {\"cmd\": \"buy\", \"symbol\": \"TCS\", \"price\": 2058.0, \"qty\": 10.0}\n",
      "2020-05-14 02:21:39,703 INFO:\tPlaceorder(full):buy: TCS: 10x2058.0\n",
      "TRADE: S: EX:  : 2019-04-08 11:43 : TCS -> 2057.45\n",
      "2020-05-14 02:21:40,134 DEBUG:\tPlace Order: 2057.45,2058.0,0,19.500000000000455\n",
      "2020-05-14 02:21:40,170 DEBUG:\torder_handler(backtest_uni): {\"cmd\": \"sell\", \"symbol\": \"TCS\", \"price\": 2057.45, \"qty\": 10.0}\n",
      "2020-05-14 02:21:40,204 INFO:\tPlaceorder(full):sell: TCS: 10x2057.45\n",
      "2020-05-14 02:21:40,404 INFO:\tbacktest_uni\n",
      "TRADE: B: EN:  : 2019-04-08 11:54 : TCS -> 2052.45\n",
      "2020-05-14 02:21:42,614 DEBUG:\tPlace Order: 2052.45,0.0,0,13.999999999998636\n",
      "2020-05-14 02:21:42,650 DEBUG:\torder_handler(backtest_uni): {\"cmd\": \"buy\", \"symbol\": \"TCS\", \"price\": 2052.45, \"qty\": 10.0}\n",
      "2020-05-14 02:21:42,721 INFO:\tPlaceorder(full):buy: TCS: 10x2052.45\n",
      "TRADE: S: EX:  : 2019-04-08 12:05 : TCS -> 2052.55\n",
      "2020-05-14 02:21:46,539 DEBUG:\tPlace Order: 2052.55,2052.45,0,13.999999999998636\n",
      "2020-05-14 02:21:46,619 DEBUG:\torder_handler(backtest_uni): {\"cmd\": \"sell\", \"symbol\": \"TCS\", \"price\": 2052.55, \"qty\": 10.0}\n"
     ]
    },
    {
     "name": "stderr",
     "output_type": "stream",
     "text": [
      "2020-05-14 02:21:46,731 INFO:\tPlaceorder(full):sell: TCS: 10x2052.55\n",
      "2020-05-14 02:21:47,749 INFO:\tbacktest_uni\n",
      "TRADE: B: EN:  : 2019-04-08 12:10 : TCS -> 2052.55\n",
      "2020-05-14 02:21:48,040 DEBUG:\tPlace Order: 2052.55,0.0,0,15.000000000002274\n",
      "2020-05-14 02:21:48,083 DEBUG:\torder_handler(backtest_uni): {\"cmd\": \"buy\", \"symbol\": \"TCS\", \"price\": 2052.55, \"qty\": 10.0}\n",
      "2020-05-14 02:21:48,136 INFO:\tPlaceorder(full):buy: TCS: 10x2052.55\n",
      "TRADE: S: EX:  : 2019-04-08 12:26 : TCS -> 2050.9\n",
      "2020-05-14 02:21:52,847 DEBUG:\tPlace Order: 2050.9,2052.55,0,15.000000000002274\n",
      "2020-05-14 02:21:52,867 DEBUG:\torder_handler(backtest_uni): {\"cmd\": \"sell\", \"symbol\": \"TCS\", \"price\": 2050.9, \"qty\": 10.0}\n",
      "2020-05-14 02:21:52,898 INFO:\tPlaceorder(full):sell: TCS: 10x2050.9\n",
      "TRADE: B: EN:  : 2019-04-08 12:29 : TCS -> 2050.45\n",
      "2020-05-14 02:21:53,592 DEBUG:\tPlace Order: 2050.45,0.0,0,-1.4999999999986358\n",
      "2020-05-14 02:21:53,624 DEBUG:\torder_handler(backtest_uni): {\"cmd\": \"buy\", \"symbol\": \"TCS\", \"price\": 2050.45, \"qty\": 10.0}\n",
      "2020-05-14 02:21:53,676 INFO:\tPlaceorder(full):buy: TCS: 10x2050.45\n",
      "TRADE: S: EX:  : 2019-04-08 12:30 : TCS -> 2049.9\n",
      "2020-05-14 02:21:53,955 DEBUG:\tPlace Order: 2049.9,2050.45,0,-1.4999999999986358\n",
      "2020-05-14 02:21:54,004 DEBUG:\torder_handler(backtest_uni): {\"cmd\": \"sell\", \"symbol\": \"TCS\", \"price\": 2049.9, \"qty\": 10.0}\n",
      "2020-05-14 02:21:54,032 INFO:\tPlaceorder(full):sell: TCS: 10x2049.9\n",
      "2020-05-14 02:21:54,950 INFO:\tbacktest_uni\n",
      "TRADE: S: EN:  : 2019-04-08 12:36 : TCS -> 2052.5\n",
      "2020-05-14 02:21:55,487 DEBUG:\tPlace Order: 2052.5,0.0,0,-6.999999999995907\n",
      "2020-05-14 02:21:55,512 DEBUG:\torder_handler(backtest_uni): {\"cmd\": \"sell\", \"symbol\": \"TCS\", \"price\": 2052.5, \"qty\": 10.0}\n",
      "2020-05-14 02:21:55,559 INFO:\tPlaceorder(full):sell: TCS: 10x2052.5\n",
      "TRADE: B: EX:  : 2019-04-08 12:37 : TCS -> 2052.4\n",
      "2020-05-14 02:21:55,864 DEBUG:\tPlace Order: 2052.4,2052.5,0,-6.999999999995907\n",
      "2020-05-14 02:21:55,896 DEBUG:\torder_handler(backtest_uni): {\"cmd\": \"buy\", \"symbol\": \"TCS\", \"price\": 2052.4, \"qty\": 10.0}\n",
      "2020-05-14 02:21:55,920 INFO:\tPlaceorder(full):buy: TCS: 10x2052.4\n",
      "TRADE: S: EN:  : 2019-04-08 12:39 : TCS -> 2050.95\n",
      "2020-05-14 02:21:56,411 DEBUG:\tPlace Order: 2050.95,0.0,0,-5.999999999996817\n",
      "2020-05-14 02:21:56,443 DEBUG:\torder_handler(backtest_uni): {\"cmd\": \"sell\", \"symbol\": \"TCS\", \"price\": 2050.95, \"qty\": 10.0}\n",
      "2020-05-14 02:21:56,476 INFO:\tPlaceorder(full):sell: TCS: 10x2050.95\n",
      "TRADE: B: EX:  : 2019-04-08 12:44 : TCS -> 2049.15\n",
      "2020-05-14 02:21:57,593 DEBUG:\tPlace Order: 2049.15,2050.95,0,-5.999999999996817\n",
      "2020-05-14 02:21:57,619 DEBUG:\torder_handler(backtest_uni): {\"cmd\": \"buy\", \"symbol\": \"TCS\", \"price\": 2049.15, \"qty\": 10.0}\n",
      "2020-05-14 02:21:57,652 INFO:\tPlaceorder(full):buy: TCS: 10x2049.15\n",
      "TRADE: S: EN:  : 2019-04-08 12:47 : TCS -> 2049.6\n",
      "2020-05-14 02:21:58,536 DEBUG:\tPlace Order: 2049.6,0.0,0,12.000000000000455\n",
      "2020-05-14 02:21:58,599 DEBUG:\torder_handler(backtest_uni): {\"cmd\": \"sell\", \"symbol\": \"TCS\", \"price\": 2049.6, \"qty\": 10.0}\n",
      "2020-05-14 02:21:58,654 INFO:\tPlaceorder(full):sell: TCS: 10x2049.6\n",
      "TRADE: B: EX:  : 2019-04-08 12:54 : TCS -> 2048.2\n",
      "2020-05-14 02:22:01,816 DEBUG:\tPlace Order: 2048.2,2049.6,0,12.000000000000455\n",
      "2020-05-14 02:22:01,835 DEBUG:\torder_handler(backtest_uni): {\"cmd\": \"buy\", \"symbol\": \"TCS\", \"price\": 2048.2, \"qty\": 10.0}\n",
      "2020-05-14 02:22:01,844 INFO:\tPlaceorder(full):buy: TCS: 10x2048.2\n",
      "2020-05-14 02:22:03,459 INFO:\tbacktest_uni\n",
      "TRADE: S: EN:  : 2019-04-08 13:01 : TCS -> 2052.7\n",
      "2020-05-14 02:22:03,892 DEBUG:\tPlace Order: 2052.7,0.0,0,26.000000000001364\n",
      "2020-05-14 02:22:03,954 DEBUG:\torder_handler(backtest_uni): {\"cmd\": \"sell\", \"symbol\": \"TCS\", \"price\": 2052.7, \"qty\": 10.0}\n",
      "2020-05-14 02:22:04,023 INFO:\tPlaceorder(full):sell: TCS: 10x2052.7\n",
      "TRADE: B: EX:  : 2019-04-08 13:05 : TCS -> 2053.25\n",
      "2020-05-14 02:22:05,224 DEBUG:\tPlace Order: 2053.25,2052.7,0,26.000000000001364\n",
      "2020-05-14 02:22:05,255 DEBUG:\torder_handler(backtest_uni): {\"cmd\": \"buy\", \"symbol\": \"TCS\", \"price\": 2053.25, \"qty\": 10.0}\n",
      "2020-05-14 02:22:05,306 INFO:\tPlaceorder(full):buy: TCS: 10x2053.25\n",
      "TRADE: B: EN:  : 2019-04-08 13:09 : TCS -> 2053.0\n",
      "2020-05-14 02:22:06,355 DEBUG:\tPlace Order: 2053.0,0.0,0,20.499999999999545\n",
      "2020-05-14 02:22:06,375 DEBUG:\torder_handler(backtest_uni): {\"cmd\": \"buy\", \"symbol\": \"TCS\", \"price\": 2053.0, \"qty\": 10.0}\n",
      "2020-05-14 02:22:06,421 INFO:\tPlaceorder(full):buy: TCS: 10x2053.0\n",
      "TRADE: S: EX:  : 2019-04-08 13:13 : TCS -> 2055.1\n",
      "2020-05-14 02:22:07,338 DEBUG:\tPlace Order: 2055.1,2053.0,0,20.499999999999545\n",
      "2020-05-14 02:22:07,357 DEBUG:\torder_handler(backtest_uni): {\"cmd\": \"sell\", \"symbol\": \"TCS\", \"price\": 2055.1, \"qty\": 10.0}\n",
      "2020-05-14 02:22:07,392 INFO:\tPlaceorder(full):sell: TCS: 10x2055.1\n",
      "TRADE: S: EN:  : 2019-04-08 13:15 : TCS -> 2054.05\n",
      "2020-05-14 02:22:07,845 DEBUG:\tPlace Order: 2054.05,0.0,0,41.499999999998636\n",
      "2020-05-14 02:22:07,886 DEBUG:\torder_handler(backtest_uni): {\"cmd\": \"sell\", \"symbol\": \"TCS\", \"price\": 2054.05, \"qty\": 10.0}\n",
      "2020-05-14 02:22:07,927 INFO:\tPlaceorder(full):sell: TCS: 10x2054.05\n",
      "TRADE: B: EX:  : 2019-04-08 13:18 : TCS -> 2055.0\n",
      "2020-05-14 02:22:08,660 DEBUG:\tPlace Order: 2055.0,2054.05,0,41.499999999998636\n",
      "2020-05-14 02:22:08,695 DEBUG:\torder_handler(backtest_uni): {\"cmd\": \"buy\", \"symbol\": \"TCS\", \"price\": 2055.0, \"qty\": 10.0}\n",
      "2020-05-14 02:22:08,752 INFO:\tPlaceorder(full):buy: TCS: 10x2055.0\n",
      "TRADE: S: EN:  : 2019-04-08 13:20 : TCS -> 2054.95\n",
      "2020-05-14 02:22:09,260 DEBUG:\tPlace Order: 2054.95,0.0,0,32.000000000000455\n",
      "2020-05-14 02:22:09,304 DEBUG:\torder_handler(backtest_uni): {\"cmd\": \"sell\", \"symbol\": \"TCS\", \"price\": 2054.95, \"qty\": 10.0}\n",
      "2020-05-14 02:22:09,345 INFO:\tPlaceorder(full):sell: TCS: 10x2054.95\n",
      "TRADE: B: EX:  : 2019-04-08 13:21 : TCS -> 2055.95\n",
      "2020-05-14 02:22:09,602 DEBUG:\tPlace Order: 2055.95,2054.95,0,32.000000000000455\n",
      "2020-05-14 02:22:09,642 DEBUG:\torder_handler(backtest_uni): {\"cmd\": \"buy\", \"symbol\": \"TCS\", \"price\": 2055.95, \"qty\": 10.0}\n",
      "2020-05-14 02:22:09,668 INFO:\tPlaceorder(full):buy: TCS: 10x2055.95\n",
      "TRADE: S: EN:  : 2019-04-08 13:24 : TCS -> 2054.55\n",
      "2020-05-14 02:22:10,445 DEBUG:\tPlace Order: 2054.55,0.0,0,22.000000000000455\n",
      "2020-05-14 02:22:10,464 DEBUG:\torder_handler(backtest_uni): {\"cmd\": \"sell\", \"symbol\": \"TCS\", \"price\": 2054.55, \"qty\": 10.0}\n",
      "2020-05-14 02:22:10,468 INFO:\tbacktest_uni\n",
      "2020-05-14 02:22:10,511 INFO:\tPlaceorder(full):sell: TCS: 10x2054.55\n",
      "TRADE: B: EX:  : 2019-04-08 13:26 : TCS -> 2056.0\n",
      "2020-05-14 02:22:11,190 DEBUG:\tPlace Order: 2056.0,2054.55,0,22.000000000000455\n",
      "2020-05-14 02:22:11,237 DEBUG:\torder_handler(backtest_uni): {\"cmd\": \"buy\", \"symbol\": \"TCS\", \"price\": 2056.0, \"qty\": 10.0}\n",
      "2020-05-14 02:22:11,301 INFO:\tPlaceorder(full):buy: TCS: 10x2056.0\n",
      "TRADE: S: EN:  : 2019-04-08 13:28 : TCS -> 2055.0\n",
      "2020-05-14 02:22:11,750 DEBUG:\tPlace Order: 2055.0,0.0,0,7.500000000002274\n",
      "2020-05-14 02:22:11,782 DEBUG:\torder_handler(backtest_uni): {\"cmd\": \"sell\", \"symbol\": \"TCS\", \"price\": 2055.0, \"qty\": 10.0}\n",
      "2020-05-14 02:22:11,839 INFO:\tPlaceorder(full):sell: TCS: 10x2055.0\n",
      "TRADE: B: EX:  : 2019-04-08 13:31 : TCS -> 2055.0\n",
      "2020-05-14 02:22:12,879 DEBUG:\tPlace Order: 2055.0,2055.0,0,7.500000000002274\n",
      "2020-05-14 02:22:12,922 DEBUG:\torder_handler(backtest_uni): {\"cmd\": \"buy\", \"symbol\": \"TCS\", \"price\": 2055.0, \"qty\": 10.0}\n",
      "2020-05-14 02:22:12,972 INFO:\tPlaceorder(full):buy: TCS: 10x2055.0\n",
      "TRADE: S: EN:  : 2019-04-08 13:33 : TCS -> 2054.0\n",
      "2020-05-14 02:22:13,418 DEBUG:\tPlace Order: 2054.0,0.0,0,7.500000000002274\n",
      "2020-05-14 02:22:13,445 DEBUG:\torder_handler(backtest_uni): {\"cmd\": \"sell\", \"symbol\": \"TCS\", \"price\": 2054.0, \"qty\": 10.0}\n",
      "2020-05-14 02:22:13,491 INFO:\tPlaceorder(full):sell: TCS: 10x2054.0\n",
      "TRADE: B: EX:  : 2019-04-08 13:38 : TCS -> 2051.9\n",
      "2020-05-14 02:22:14,760 DEBUG:\tPlace Order: 2051.9,2054.0,0,7.500000000002274\n",
      "2020-05-14 02:22:14,786 DEBUG:\torder_handler(backtest_uni): {\"cmd\": \"buy\", \"symbol\": \"TCS\", \"price\": 2051.9, \"qty\": 10.0}\n",
      "2020-05-14 02:22:14,842 INFO:\tPlaceorder(full):buy: TCS: 10x2051.9\n",
      "TRADE: B: EN:  : 2019-04-08 13:40 : TCS -> 2053.75\n",
      "2020-05-14 02:22:15,536 DEBUG:\tPlace Order: 2053.75,0.0,0,28.500000000001364\n",
      "2020-05-14 02:22:15,557 DEBUG:\torder_handler(backtest_uni): {\"cmd\": \"buy\", \"symbol\": \"TCS\", \"price\": 2053.75, \"qty\": 10.0}\n",
      "2020-05-14 02:22:15,584 INFO:\tPlaceorder(full):buy: TCS: 10x2053.75\n"
     ]
    },
    {
     "name": "stderr",
     "output_type": "stream",
     "text": [
      "2020-05-14 02:22:17,894 INFO:\tbacktest_uni\n",
      "TRADE: S: EX:  : 2019-04-08 13:55 : TCS -> 2059.0\n",
      "2020-05-14 02:22:19,520 DEBUG:\tPlace Order: 2059.0,2053.75,0,28.500000000001364\n",
      "2020-05-14 02:22:19,533 DEBUG:\torder_handler(backtest_uni): {\"cmd\": \"sell\", \"symbol\": \"TCS\", \"price\": 2059.0, \"qty\": 10.0}\n",
      "2020-05-14 02:22:19,548 INFO:\tPlaceorder(full):sell: TCS: 10x2059.0\n",
      "TRADE: B: EN:  : 2019-04-08 13:57 : TCS -> 2058.0\n",
      "2020-05-14 02:22:19,997 DEBUG:\tPlace Order: 2058.0,0.0,0,81.00000000000136\n",
      "2020-05-14 02:22:20,028 DEBUG:\torder_handler(backtest_uni): {\"cmd\": \"buy\", \"symbol\": \"TCS\", \"price\": 2058.0, \"qty\": 10.0}\n",
      "2020-05-14 02:22:20,073 INFO:\tPlaceorder(full):buy: TCS: 10x2058.0\n",
      "TRADE: S: EX:  : 2019-04-08 13:58 : TCS -> 2058.0\n",
      "2020-05-14 02:22:20,389 DEBUG:\tPlace Order: 2058.0,2058.0,0,81.00000000000136\n",
      "2020-05-14 02:22:20,425 DEBUG:\torder_handler(backtest_uni): {\"cmd\": \"sell\", \"symbol\": \"TCS\", \"price\": 2058.0, \"qty\": 10.0}\n",
      "2020-05-14 02:22:20,471 INFO:\tPlaceorder(full):sell: TCS: 10x2058.0\n",
      "TRADE: B: EN:  : 2019-04-08 14:00 : TCS -> 2058.75\n",
      "2020-05-14 02:22:20,845 DEBUG:\tPlace Order: 2058.75,0.0,0,81.00000000000136\n",
      "2020-05-14 02:22:20,873 DEBUG:\torder_handler(backtest_uni): {\"cmd\": \"buy\", \"symbol\": \"TCS\", \"price\": 2058.75, \"qty\": 10.0}\n",
      "2020-05-14 02:22:20,915 INFO:\tPlaceorder(full):buy: TCS: 10x2058.75\n",
      "TRADE: S: EX:  : 2019-04-08 14:04 : TCS -> 2067.5\n",
      "2020-05-14 02:22:22,118 DEBUG:\tPlace Order: 2067.5,2058.75,0,81.00000000000136\n",
      "2020-05-14 02:22:22,189 DEBUG:\torder_handler(backtest_uni): {\"cmd\": \"sell\", \"symbol\": \"TCS\", \"price\": 2067.5, \"qty\": 10.0}\n",
      "2020-05-14 02:22:22,238 INFO:\tPlaceorder(full):sell: TCS: 10x2067.5\n",
      "TRADE: S: EN:  : 2019-04-08 14:07 : TCS -> 2066.85\n",
      "2020-05-14 02:22:22,870 DEBUG:\tPlace Order: 2066.85,0.0,0,168.50000000000136\n",
      "2020-05-14 02:22:22,913 DEBUG:\torder_handler(backtest_uni): {\"cmd\": \"sell\", \"symbol\": \"TCS\", \"price\": 2066.85, \"qty\": 10.0}\n",
      "2020-05-14 02:22:22,950 INFO:\tPlaceorder(full):sell: TCS: 10x2066.85\n",
      "2020-05-14 02:22:25,259 INFO:\tbacktest_uni\n",
      "TRADE: B: EX:  : 2019-04-08 14:16 : TCS -> 2062.0\n",
      "2020-05-14 02:22:25,878 DEBUG:\tPlace Order: 2062.0,2066.85,0,168.50000000000136\n",
      "2020-05-14 02:22:25,922 DEBUG:\torder_handler(backtest_uni): {\"cmd\": \"buy\", \"symbol\": \"TCS\", \"price\": 2062.0, \"qty\": 10.0}\n",
      "2020-05-14 02:22:25,990 INFO:\tPlaceorder(full):buy: TCS: 10x2062.0\n",
      "TRADE: S: EN:  : 2019-04-08 14:19 : TCS -> 2060.35\n",
      "2020-05-14 02:22:27,120 DEBUG:\tPlace Order: 2060.35,0.0,0,217.00000000000045\n",
      "2020-05-14 02:22:27,326 DEBUG:\torder_handler(backtest_uni): {\"cmd\": \"sell\", \"symbol\": \"TCS\", \"price\": 2060.35, \"qty\": 10.0}\n",
      "2020-05-14 02:22:27,422 INFO:\tPlaceorder(full):sell: TCS: 10x2060.35\n",
      "TRADE: B: EX:  : 2019-04-08 14:22 : TCS -> 2060.0\n",
      "2020-05-14 02:22:28,368 DEBUG:\tPlace Order: 2060.0,2060.35,0,217.00000000000045\n",
      "2020-05-14 02:22:28,404 DEBUG:\torder_handler(backtest_uni): {\"cmd\": \"buy\", \"symbol\": \"TCS\", \"price\": 2060.0, \"qty\": 10.0}\n",
      "2020-05-14 02:22:28,439 INFO:\tPlaceorder(full):buy: TCS: 10x2060.0\n",
      "TRADE: B: EN:  : 2019-04-08 14:25 : TCS -> 2059.15\n",
      "2020-05-14 02:22:29,241 DEBUG:\tPlace Order: 2059.15,0.0,0,220.49999999999955\n",
      "2020-05-14 02:22:29,276 DEBUG:\torder_handler(backtest_uni): {\"cmd\": \"buy\", \"symbol\": \"TCS\", \"price\": 2059.15, \"qty\": 10.0}\n",
      "2020-05-14 02:22:29,307 INFO:\tPlaceorder(full):buy: TCS: 10x2059.15\n",
      "TRADE: S: EX:  : 2019-04-08 14:27 : TCS -> 2058.55\n",
      "2020-05-14 02:22:29,852 DEBUG:\tPlace Order: 2058.55,2059.15,0,220.49999999999955\n",
      "2020-05-14 02:22:29,882 DEBUG:\torder_handler(backtest_uni): {\"cmd\": \"sell\", \"symbol\": \"TCS\", \"price\": 2058.55, \"qty\": 10.0}\n",
      "2020-05-14 02:22:29,913 INFO:\tPlaceorder(full):sell: TCS: 10x2058.55\n",
      "TRADE: S: EN:  : 2019-04-08 14:29 : TCS -> 2057.8\n",
      "2020-05-14 02:22:30,607 DEBUG:\tPlace Order: 2057.8,0.0,0,214.50000000000045\n",
      "2020-05-14 02:22:30,640 DEBUG:\torder_handler(backtest_uni): {\"cmd\": \"sell\", \"symbol\": \"TCS\", \"price\": 2057.8, \"qty\": 10.0}\n",
      "2020-05-14 02:22:30,707 INFO:\tPlaceorder(full):sell: TCS: 10x2057.8\n",
      "TRADE: B: EX:  : 2019-04-08 14:31 : TCS -> 2060.0\n",
      "2020-05-14 02:22:31,766 DEBUG:\tPlace Order: 2060.0,2057.8,0,214.50000000000045\n",
      "2020-05-14 02:22:31,781 DEBUG:\torder_handler(backtest_uni): {\"cmd\": \"buy\", \"symbol\": \"TCS\", \"price\": 2060.0, \"qty\": 10.0}\n",
      "2020-05-14 02:22:31,810 INFO:\tPlaceorder(full):buy: TCS: 10x2060.0\n",
      "TRADE: S: EN:  : 2019-04-08 14:33 : TCS -> 2056.5\n",
      "2020-05-14 02:22:32,304 DEBUG:\tPlace Order: 2056.5,0.0,0,192.50000000000227\n",
      "2020-05-14 02:22:32,332 DEBUG:\torder_handler(backtest_uni): {\"cmd\": \"sell\", \"symbol\": \"TCS\", \"price\": 2056.5, \"qty\": 10.0}\n",
      "2020-05-14 02:22:32,354 INFO:\tPlaceorder(full):sell: TCS: 10x2056.5\n",
      "TRADE: B: EX:  : 2019-04-08 14:38 : TCS -> 2057.65\n",
      "2020-05-14 02:22:33,625 DEBUG:\tPlace Order: 2057.65,2056.5,0,192.50000000000227\n",
      "2020-05-14 02:22:33,654 DEBUG:\torder_handler(backtest_uni): {\"cmd\": \"buy\", \"symbol\": \"TCS\", \"price\": 2057.65, \"qty\": 10.0}\n",
      "2020-05-14 02:22:33,666 INFO:\tPlaceorder(full):buy: TCS: 10x2057.65\n",
      "2020-05-14 02:22:33,889 INFO:\tbacktest_uni\n",
      "TRADE: S: EN:  : 2019-04-08 14:40 : TCS -> 2062.55\n",
      "2020-05-14 02:22:34,182 DEBUG:\tPlace Order: 2062.55,0.0,0,181.00000000000136\n",
      "2020-05-14 02:22:34,220 DEBUG:\torder_handler(backtest_uni): {\"cmd\": \"sell\", \"symbol\": \"TCS\", \"price\": 2062.55, \"qty\": 10.0}\n",
      "2020-05-14 02:22:34,248 INFO:\tPlaceorder(full):sell: TCS: 10x2062.55\n",
      "TRADE: B: EX:  : 2019-04-08 14:41 : TCS -> 2067.15\n",
      "2020-05-14 02:22:34,479 DEBUG:\tPlace Order: 2067.15,2062.55,0,181.00000000000136\n",
      "2020-05-14 02:22:34,497 DEBUG:\torder_handler(backtest_uni): {\"cmd\": \"buy\", \"symbol\": \"TCS\", \"price\": 2067.15, \"qty\": 10.0}\n",
      "2020-05-14 02:22:34,542 INFO:\tPlaceorder(full):buy: TCS: 10x2067.15\n",
      "TRADE: S: EN:  : 2019-04-08 14:44 : TCS -> 2065.0\n",
      "2020-05-14 02:22:35,343 DEBUG:\tPlace Order: 2065.0,0.0,0,135.00000000000227\n",
      "2020-05-14 02:22:35,372 DEBUG:\torder_handler(backtest_uni): {\"cmd\": \"sell\", \"symbol\": \"TCS\", \"price\": 2065.0, \"qty\": 10.0}\n",
      "2020-05-14 02:22:35,398 INFO:\tPlaceorder(full):sell: TCS: 10x2065.0\n",
      "TRADE: B: EX:  : 2019-04-08 14:48 : TCS -> 2064.85\n",
      "2020-05-14 02:22:36,503 DEBUG:\tPlace Order: 2064.85,2065.0,0,135.00000000000227\n",
      "2020-05-14 02:22:36,522 DEBUG:\torder_handler(backtest_uni): {\"cmd\": \"buy\", \"symbol\": \"TCS\", \"price\": 2064.85, \"qty\": 10.0}\n",
      "2020-05-14 02:22:36,564 INFO:\tPlaceorder(full):buy: TCS: 10x2064.85\n",
      "TRADE: S: EN:  : 2019-04-08 14:50 : TCS -> 2061.55\n",
      "2020-05-14 02:22:37,078 DEBUG:\tPlace Order: 2061.55,0.0,0,136.50000000000318\n",
      "2020-05-14 02:22:37,152 DEBUG:\torder_handler(backtest_uni): {\"cmd\": \"sell\", \"symbol\": \"TCS\", \"price\": 2061.55, \"qty\": 10.0}\n",
      "2020-05-14 02:22:37,199 INFO:\tPlaceorder(full):sell: TCS: 10x2061.55\n",
      "TRADE: B: EX:  : 2019-04-08 14:54 : TCS -> 2064.6\n",
      "2020-05-14 02:22:38,270 DEBUG:\tPlace Order: 2064.6,2061.55,0,136.50000000000318\n",
      "2020-05-14 02:22:38,335 DEBUG:\torder_handler(backtest_uni): {\"cmd\": \"buy\", \"symbol\": \"TCS\", \"price\": 2064.6, \"qty\": 10.0}\n",
      "2020-05-14 02:22:38,355 INFO:\tPlaceorder(full):buy: TCS: 10x2064.6\n",
      "TRADE: S: EN:  : 2019-04-08 14:56 : TCS -> 2060.75\n",
      "2020-05-14 02:22:38,944 DEBUG:\tPlace Order: 2060.75,0.0,0,106.00000000000591\n",
      "2020-05-14 02:22:38,990 DEBUG:\torder_handler(backtest_uni): {\"cmd\": \"sell\", \"symbol\": \"TCS\", \"price\": 2060.75, \"qty\": 10.0}\n",
      "2020-05-14 02:22:39,057 INFO:\tPlaceorder(full):sell: TCS: 10x2060.75\n",
      "TRADE: B: EX:  : 2019-04-08 14:59 : TCS -> 2061.25\n",
      "2020-05-14 02:22:40,130 DEBUG:\tPlace Order: 2061.25,2060.75,0,106.00000000000591\n",
      "2020-05-14 02:22:40,174 DEBUG:\torder_handler(backtest_uni): {\"cmd\": \"buy\", \"symbol\": \"TCS\", \"price\": 2061.25, \"qty\": 10.0}\n",
      "2020-05-14 02:22:40,206 INFO:\tPlaceorder(full):buy: TCS: 10x2061.25\n",
      "2020-05-14 02:22:41,632 INFO:\tKite_Simulator: Done: 1500\n",
      "2020-05-14 02:22:41,671 INFO:\tbacktest_uni\n",
      "TRADE: S: EN:  : 2019-04-08 15:07 : TCS -> 2066.1\n",
      "2020-05-14 02:22:42,330 DEBUG:\tPlace Order: 2066.1,0.0,0,101.00000000000591\n",
      "2020-05-14 02:22:42,370 DEBUG:\torder_handler(backtest_uni): {\"cmd\": \"sell\", \"symbol\": \"TCS\", \"price\": 2066.1, \"qty\": 10.0}\n",
      "2020-05-14 02:22:42,395 INFO:\tPlaceorder(full):sell: TCS: 10x2066.1\n",
      "TRADE: B: EX:  : 2019-04-08 15:09 : TCS -> 2070.0\n",
      "2020-05-14 02:22:42,827 DEBUG:\tPlace Order: 2070.0,2066.1,0,101.00000000000591\n",
      "2020-05-14 02:22:42,844 DEBUG:\torder_handler(backtest_uni): {\"cmd\": \"buy\", \"symbol\": \"TCS\", \"price\": 2070.0, \"qty\": 10.0}\n",
      "2020-05-14 02:22:42,858 INFO:\tPlaceorder(full):buy: TCS: 10x2070.0\n"
     ]
    },
    {
     "name": "stderr",
     "output_type": "stream",
     "text": [
      "TRADE: S: EN:  : 2019-04-08 15:11 : TCS -> 2067.65\n",
      "2020-05-14 02:22:43,658 DEBUG:\tPlace Order: 2067.65,0.0,0,62.000000000005\n",
      "2020-05-14 02:22:43,691 DEBUG:\torder_handler(backtest_uni): {\"cmd\": \"sell\", \"symbol\": \"TCS\", \"price\": 2067.65, \"qty\": 10.0}\n",
      "2020-05-14 02:22:43,704 INFO:\tPlaceorder(full):sell: TCS: 10x2067.65\n",
      "TRADE: B: EX:  : 2019-04-08 15:13 : TCS -> 2069.4\n",
      "2020-05-14 02:22:44,278 DEBUG:\tPlace Order: 2069.4,2067.65,0,62.000000000005\n",
      "2020-05-14 02:22:44,305 DEBUG:\torder_handler(backtest_uni): {\"cmd\": \"buy\", \"symbol\": \"TCS\", \"price\": 2069.4, \"qty\": 10.0}\n",
      "2020-05-14 02:22:44,396 INFO:\tPlaceorder(full):buy: TCS: 10x2069.4\n",
      "TRADE: S: EN:  : 2019-04-08 15:15 : TCS -> 2071.9\n",
      "2020-05-14 02:22:44,802 DEBUG:\tPlace Order: 2071.9,0.0,0,44.500000000005\n",
      "2020-05-14 02:22:44,832 DEBUG:\torder_handler(backtest_uni): {\"cmd\": \"sell\", \"symbol\": \"TCS\", \"price\": 2071.9, \"qty\": 10.0}\n",
      "2020-05-14 02:22:44,864 INFO:\tPlaceorder(full):sell: TCS: 10x2071.9\n",
      "TRADE: B: EX:  : 2019-04-08 15:16 : TCS -> 2074.35\n",
      "2020-05-14 02:22:45,059 DEBUG:\tPlace Order: 2074.35,2071.9,0,44.500000000005\n",
      "2020-05-14 02:22:45,096 DEBUG:\torder_handler(backtest_uni): {\"cmd\": \"buy\", \"symbol\": \"TCS\", \"price\": 2074.35, \"qty\": 10.0}\n",
      "2020-05-14 02:22:45,140 INFO:\tPlaceorder(full):buy: TCS: 10x2074.35\n",
      "TRADE: S: EN:  : 2019-04-08 15:19 : TCS -> 2072.6\n",
      "2020-05-14 02:22:45,817 DEBUG:\tPlace Order: 2072.6,0.0,0,20.00000000000682\n",
      "2020-05-14 02:22:45,860 DEBUG:\torder_handler(backtest_uni): {\"cmd\": \"sell\", \"symbol\": \"TCS\", \"price\": 2072.6, \"qty\": 10.0}\n",
      "2020-05-14 02:22:45,915 INFO:\tPlaceorder(full):sell: TCS: 10x2072.6\n",
      "TRADE: B: EX:  : 2019-04-08 15:21 : TCS -> 2073.1\n",
      "2020-05-14 02:22:46,376 DEBUG:\tPlace Order: 2073.1,2072.6,0,20.00000000000682\n",
      "2020-05-14 02:22:46,400 DEBUG:\torder_handler(backtest_uni): {\"cmd\": \"buy\", \"symbol\": \"TCS\", \"price\": 2073.1, \"qty\": 10.0}\n",
      "2020-05-14 02:22:46,421 INFO:\tPlaceorder(full):buy: TCS: 10x2073.1\n"
     ]
    }
   ],
   "source": [
    "######################\n",
    "# Initiate Backtest  #\n",
    "######################\n",
    "def store_algo(algo, algo_name=\"default\"):\n",
    "    redis_conn.hset(\"algos\",algo_name, algo)\n",
    "    algo_f = open(\"log/\"+algo_name+\".txt\", \"w\")\n",
    "    algo_f.write(algo)\n",
    "    algo_f.close()\n",
    "    \n",
    "#my_cache.flushall()\n",
    "def backtest_unitest(stocks, freq='1T',algo_name = 'haikin_1_new', fromDate='2019-4-8', toDate='2019-4-9', mode='full'):\n",
    "    stocks = stocks\n",
    "    sl = 1\n",
    "    target = 1\n",
    "    qty = 10\n",
    "    backtest_msg={'stock':stocks,'sl':sl,'target':target,'qty':qty,'algo':algo_name,'fromDate':fromDate,'toDate':toDate,'freq':freq, 'mode':mode}\n",
    "\n",
    "    # Step 4: Done is set to 0: Backtest is in progress, will be resetted by backtest job\n",
    "    redis_conn.set('done'+cache_type,0)\n",
    "    # Step 5: Send the msg to backtest thread to initiate the back test\n",
    "    #pdebug(json.dumps(backtest_msg))\n",
    "    redis_conn.publish('kite_simulator'+cache_type,json.dumps(backtest_msg))\n",
    "    \n",
    "##########################\n",
    "# Unit Test              #\n",
    "##########################\n",
    "\n",
    "open('log/freedom.log','r+')\n",
    "#log_file.close()\n",
    "\n",
    "logger.setLevel(10)\n",
    "loggerT.setLevel(21)\n",
    "redis_conn.set('done'+cache_type,1)\n",
    "\n",
    "try:\n",
    "    if backtest_manager.job.is_alive():\n",
    "        backtest_manager.job.terminate()\n",
    "        time.sleep(0.1)\n",
    "except:\n",
    "    pass\n",
    "finally:\n",
    "    backtest_manager = threadManager(cache_type, [\"kite_simulator\",\"ohlc_tick_handler\",\"order_handler\"], [kite_simulator, ohlc_tick_handler, order_handler])\n",
    "    \n",
    "print(backtest_manager.job.is_alive())\n",
    "print(redis_conn.pubsub_channels())\n",
    "print(jobs)\n"
   ]
  },
  {
   "cell_type": "code",
   "execution_count": 4,
   "metadata": {
    "scrolled": true
   },
   "outputs": [],
   "source": [
    "backtest_unitest(['TCS'])"
   ]
  },
  {
   "cell_type": "code",
   "execution_count": 12,
   "metadata": {},
   "outputs": [
    {
     "data": {
      "text/plain": [
       "'1554714125000-0'"
      ]
     },
     "execution_count": 12,
     "metadata": {},
     "output_type": "execute_result"
    }
   ],
   "source": [
    "my_cache.get('last_id_msg')"
   ]
  },
  {
   "cell_type": "code",
   "execution_count": null,
   "metadata": {},
   "outputs": [],
   "source": []
  },
  {
   "cell_type": "code",
   "execution_count": 13,
   "metadata": {
    "scrolled": true
   },
   "outputs": [
    {
     "data": {
      "text/plain": [
       "''"
      ]
     },
     "execution_count": 13,
     "metadata": {},
     "output_type": "execute_result"
    }
   ],
   "source": [
    "cache_postfix"
   ]
  },
  {
   "cell_type": "code",
   "execution_count": 14,
   "metadata": {},
   "outputs": [
    {
     "name": "stdout",
     "output_type": "stream",
     "text": [
      "False\n",
      "['ohlc_tick_handlerbacktest_web', 'ohlc_tick_handlerlive', 'order_handlerlive', 'kite_simulatorbacktest_web']\n"
     ]
    }
   ],
   "source": [
    "################################\n",
    "###         Stop Trade       ###\n",
    "################################\n",
    "\n",
    "my_cache.xtrim('msgBufferQueue'+cache_type,0,False)\n",
    "my_cache.set('TCSbacktest_uniTICK',pd.DataFrame().to_json())\n",
    "\n",
    "if backtest_manager.job.is_alive():\n",
    "    backtest_manager.job.terminate()\n",
    "time.sleep(1)\n",
    "print(backtest_manager.job.is_alive())\n",
    "print(redis_conn.pubsub_channels())\n",
    "my_cache.set('last_id_msg',0)\n",
    "jobs\n",
    "jobs = []"
   ]
  },
  {
   "cell_type": "code",
   "execution_count": 37,
   "metadata": {},
   "outputs": [
    {
     "data": {
      "text/plain": [
       "['order_handlerlive',\n",
       " 'kite_ticker_handlerlive',\n",
       " 'kite_simulatorbacktest_web',\n",
       " 'ohlc_tick_handlerbacktest_web']"
      ]
     },
     "execution_count": 37,
     "metadata": {},
     "output_type": "execute_result"
    }
   ],
   "source": [
    "redis_conn.pubsub_channels()"
   ]
  },
  {
   "cell_type": "code",
   "execution_count": null,
   "metadata": {},
   "outputs": [],
   "source": [
    "backtest_unitest(['TCS'])"
   ]
  },
  {
   "cell_type": "code",
   "execution_count": null,
   "metadata": {},
   "outputs": [],
   "source": [
    "backtest_unitest(['WIPRO','TCS'])"
   ]
  },
  {
   "cell_type": "code",
   "execution_count": null,
   "metadata": {},
   "outputs": [],
   "source": [
    "from lib.charting_lib import *\n",
    "cache_type = 'backtest_uni'\n",
    "chart_type ='haikin'\n",
    "\n",
    "symbol='TCS'\n",
    "my_cache = cache_state(cache_type)\n",
    "\n",
    "#######  Hack for freq  ############\n",
    "my_cache.setValue('TCS','freq','1T')\n",
    "#####################################\n",
    "dfohlc = my_cache.getOHLC(symbol)\n",
    "print(dfohlc.tail())\n",
    "trade_df = pd.read_json(redis_conn.get(symbol+cache_type+'Trade'), orient='columns')\n",
    "\n",
    "render_charts(dfohlc, trade_df, symbol, chart_type)"
   ]
  },
  {
   "cell_type": "code",
   "execution_count": null,
   "metadata": {},
   "outputs": [],
   "source": [
    "cache_state('backtest_uni').getValue()"
   ]
  },
  {
   "cell_type": "markdown",
   "metadata": {},
   "source": [
    "## Live Trade Debugging"
   ]
  },
  {
   "cell_type": "code",
   "execution_count": 185,
   "metadata": {
    "scrolled": true
   },
   "outputs": [
    {
     "name": "stderr",
     "output_type": "stream",
     "text": [
      "INFO:\tStarting Handler: ohlc_tick_handler\n",
      "DEBUG:\tohlc_tick_handler(live) - INIT: 1\n",
      "TRADE: S: EN:  : 2020-05-13 15:10 : WIPRO -> 189.3\n",
      "TRADE: B: EX:  : 2020-05-13 15:16 : WIPRO -> 189.4\n",
      "TRADE: S: EN:  : 2020-05-13 15:19 : WIPRO -> 190.0\n",
      "TRADE: B: EX:  : 2020-05-13 15:20 : WIPRO -> 190.05\n",
      "TRADE: S: EN:  : 2020-05-13 15:23 : WIPRO -> 189.95\n",
      "TRADE: B: EX:  : 2020-05-13 15:24 : WIPRO -> 190.05\n",
      "TRADE: S: EN:  : 2020-05-13 15:27 : WIPRO -> 189.9\n",
      "TRADE: B: EX:  : 2020-05-13 16:18 : WIPRO -> 189.7\n",
      "ERROR:\tCould not read data from msgBufferQueue\n"
     ]
    }
   ],
   "source": [
    "live = threadManager('live', [\"ohlc_tick_handler\"], [ohlc_tick_handler])\n"
   ]
  },
  {
   "cell_type": "code",
   "execution_count": 116,
   "metadata": {},
   "outputs": [
    {
     "data": {
      "text/plain": [
       "0"
      ]
     },
     "execution_count": 116,
     "metadata": {},
     "output_type": "execute_result"
    }
   ],
   "source": [
    "live_cache.setValue('WIPRO','mode','paper')"
   ]
  },
  {
   "cell_type": "code",
   "execution_count": 184,
   "metadata": {},
   "outputs": [
    {
     "data": {
      "text/html": [
       "<div>\n",
       "<style scoped>\n",
       "    .dataframe tbody tr th:only-of-type {\n",
       "        vertical-align: middle;\n",
       "    }\n",
       "\n",
       "    .dataframe tbody tr th {\n",
       "        vertical-align: top;\n",
       "    }\n",
       "\n",
       "    .dataframe thead th {\n",
       "        text-align: right;\n",
       "    }\n",
       "</style>\n",
       "<table border=\"1\" class=\"dataframe\">\n",
       "  <thead>\n",
       "    <tr style=\"text-align: right;\">\n",
       "      <th></th>\n",
       "      <th>stock</th>\n",
       "      <th>qty</th>\n",
       "      <th>SL %</th>\n",
       "      <th>TP %</th>\n",
       "      <th>amount</th>\n",
       "      <th>price</th>\n",
       "      <th>P&amp;L</th>\n",
       "      <th>P&amp;L %</th>\n",
       "      <th>Total P&amp;L</th>\n",
       "      <th>Total P&amp;L %</th>\n",
       "      <th>...</th>\n",
       "      <th>ltp %</th>\n",
       "      <th>tp</th>\n",
       "      <th>high</th>\n",
       "      <th>last_processed</th>\n",
       "      <th>state</th>\n",
       "      <th>mode</th>\n",
       "      <th>algo</th>\n",
       "      <th>freq</th>\n",
       "      <th>hdf_freq</th>\n",
       "      <th>order_id</th>\n",
       "    </tr>\n",
       "  </thead>\n",
       "  <tbody>\n",
       "    <tr>\n",
       "      <th>0</th>\n",
       "      <td>WIPRO</td>\n",
       "      <td>1</td>\n",
       "      <td>1</td>\n",
       "      <td>1</td>\n",
       "      <td>189.7</td>\n",
       "      <td>0</td>\n",
       "      <td>0.20000000000001705</td>\n",
       "      <td>0.10531858873091997</td>\n",
       "      <td>-0.5000000000000568</td>\n",
       "      <td>-0.2635740643121017</td>\n",
       "      <td>...</td>\n",
       "      <td>0.0</td>\n",
       "      <td>0</td>\n",
       "      <td>189.7</td>\n",
       "      <td>0</td>\n",
       "      <td>SCANNING</td>\n",
       "      <td>paper</td>\n",
       "      <td>haikin_1_new</td>\n",
       "      <td>1T</td>\n",
       "      <td>minute</td>\n",
       "      <td>-1</td>\n",
       "    </tr>\n",
       "  </tbody>\n",
       "</table>\n",
       "<p>1 rows × 23 columns</p>\n",
       "</div>"
      ],
      "text/plain": [
       "   stock qty SL % TP % amount price                  P&L                P&L %  \\\n",
       "0  WIPRO   1    1    1  189.7     0  0.20000000000001705  0.10531858873091997   \n",
       "\n",
       "             Total P&L          Total P&L %  ... ltp % tp   high  \\\n",
       "0  -0.5000000000000568  -0.2635740643121017  ...   0.0  0  189.7   \n",
       "\n",
       "  last_processed     state   mode          algo freq hdf_freq order_id  \n",
       "0              0  SCANNING  paper  haikin_1_new   1T   minute       -1  \n",
       "\n",
       "[1 rows x 23 columns]"
      ]
     },
     "execution_count": 184,
     "metadata": {},
     "output_type": "execute_result"
    }
   ],
   "source": [
    "live.job.terminate()\n",
    "live_cache.set('WIPROliveTICK', pd.DataFrame().to_json(orient='columns'))\n",
    "live_cache.setValue('WIPRO','last_processed',0)\n",
    "live_cache.getValue('WIPRO')"
   ]
  },
  {
   "cell_type": "code",
   "execution_count": 73,
   "metadata": {},
   "outputs": [
    {
     "name": "stdout",
     "output_type": "stream",
     "text": [
      "[('1589365238353-0', {'data': '[{\"tradable\": true, \"mode\": \"ltp\", \"instrument_token\": 969473, \"last_price\": 189.7}]'}), ('1589365249733-0', {'data': '[{\"tradable\": true, \"mode\": \"ltp\", \"instrument_token\": 969473, \"last_price\": 189.7}]'})]\n",
      "2020-05-13 15:50:49.733000\n"
     ]
    }
   ],
   "source": [
    "#live_cache.getOHLC('WIPRO') \n",
    "print(live_cache.xrange('msgBufferQueuelive')[-2:])\n",
    "print(datetime.fromtimestamp(int(live_cache.xrange('msgBufferQueuelive')[-1][0].split('-')[0] )/1000))\n"
   ]
  },
  {
   "cell_type": "code",
   "execution_count": 11,
   "metadata": {},
   "outputs": [
    {
     "ename": "NameError",
     "evalue": "name 'live_cache' is not defined",
     "output_type": "error",
     "traceback": [
      "\u001b[0;31m---------------------------------------------------------------------------\u001b[0m",
      "\u001b[0;31mNameError\u001b[0m                                 Traceback (most recent call last)",
      "\u001b[0;32m<ipython-input-11-7dc16d99466b>\u001b[0m in \u001b[0;36m<module>\u001b[0;34m\u001b[0m\n\u001b[0;32m----> 1\u001b[0;31m \u001b[0mlive_cache\u001b[0m\u001b[0;34m.\u001b[0m\u001b[0mgetOHLC\u001b[0m\u001b[0;34m(\u001b[0m\u001b[0;34m'WIPRO'\u001b[0m\u001b[0;34m)\u001b[0m\u001b[0;34m.\u001b[0m\u001b[0mtail\u001b[0m\u001b[0;34m(\u001b[0m\u001b[0;34m)\u001b[0m\u001b[0;34m\u001b[0m\u001b[0;34m\u001b[0m\u001b[0m\n\u001b[0m",
      "\u001b[0;31mNameError\u001b[0m: name 'live_cache' is not defined"
     ]
    }
   ],
   "source": [
    "live_cache.getOHLC('WIPRO').tail()"
   ]
  },
  {
   "cell_type": "code",
   "execution_count": null,
   "metadata": {},
   "outputs": [],
   "source": []
  },
  {
   "cell_type": "markdown",
   "metadata": {},
   "source": [
    "## Quick Backtest"
   ]
  },
  {
   "cell_type": "code",
   "execution_count": null,
   "metadata": {
    "scrolled": true
   },
   "outputs": [],
   "source": [
    "###########################################################\n",
    "###                  Quick Backtest                     ###\n",
    "###########################################################\n",
    "from talib import MACD, MACDEXT, RSI, BBANDS, MACD, AROON, STOCHF, ATR, OBV, ADOSC, MINUS_DI, PLUS_DI, ADX, EMA, SMA\n",
    "from talib import LINEARREG, BETA, LINEARREG_INTERCEPT, LINEARREG_SLOPE, STDDEV, TSF, ADOSC, VAR, ROC, MIN, MAX, MINMAX\n",
    "\n",
    "ohlc_get = lambda df, key: df.iloc[-1][key]\n",
    "def HAIKINASI(ohlc_data_df):\n",
    "    REF = lambda key, i: ohlc_get(ohlc_data_df.shift(i), key)\n",
    "    \n",
    "    OPEN  = ohlc_data_df['open']\n",
    "    HIGH  = ohlc_data_df['high']\n",
    "    LOW   = ohlc_data_df['low']\n",
    "    CLOSE = ohlc_data_df['close']\n",
    "    \n",
    "    haOPEN  = (OPEN.shift(1) + CLOSE.shift(1))/2\n",
    "    haHIGH  = pd.DataFrame([HIGH,OPEN,CLOSE]).max(axis = 0, skipna = True)\n",
    "    haLOW   = pd.DataFrame([LOW,OPEN,CLOSE]).min(axis = 0, skipna = True)\n",
    "    haCLOSE = (OPEN+HIGH+LOW+CLOSE)/4\n",
    "    \n",
    "    return (haOPEN, haHIGH, haLOW, haCLOSE)\n",
    "\n",
    "\n",
    "################ Load Data ###################\n",
    "from lib.charting_lib import *\n",
    "cache_type = 'backtest_uni'\n",
    "symbol='TCS'\n",
    "my_cache = cache_state(cache_type)\n",
    "\n",
    "###  Set Freq for Algo\n",
    "my_cache.setValue('TCS','freq','1T')\n",
    "dfohlc = my_cache.getOHLC(symbol)\n",
    "#print(dfohlc.head())\n",
    "\n",
    "### Load Data\n",
    "ohlc_data_temp = dfohlc\n",
    "pd.set_option('display.max_rows', None)\n",
    "################ Initialize Helper Functions ###################\n",
    "trade_df1 = pd.DataFrame()\n",
    "OPEN = ohlc_data_temp['open']\n",
    "CLOSE = ohlc_data_temp['close']\n",
    "HIGH = ohlc_data_temp['high']\n",
    "LOW = ohlc_data_temp['low']\n",
    "#VOLUME = ohlc_data_temp['volume']\n",
    "\n",
    "(haOPEN, haHIGH, haLOW, haCLOSE) = HAIKINASI(ohlc_data_temp)\n",
    "\n",
    "TIME = ohlc_data_temp.index[-1].minute+ohlc_data_temp.index[-1].hour*60\n",
    "\n",
    "#REF = lambda df, i: df.iloc[-i-1]\n",
    "REF = lambda df, i: df.shift(i)\n",
    "TREND_UP = lambda a,b: ROC(a, b) >= 0.1\n",
    "TREND_DOWN = lambda a,b: ROC(a, b) <= -0.1\n",
    "CROSSOVER = lambda a, b: (REF(a,1)<=REF(b,1)) & (a > b)\n",
    "\n",
    "\n",
    "def BUY(CLOSE, x, trade_df1):\n",
    "    #global trade_df1\n",
    "    tmp_df = pd.DataFrame()\n",
    "    tmp_df[\"buy\"] = CLOSE[x]\n",
    "    trade_df1 = trade_df1.append(tmp_df)\n",
    "    return trade_df1\n",
    "\n",
    "def SELL(CLOSE, x, trade_df1):\n",
    "    #global trade_df1\n",
    "    tmp_df = pd.DataFrame()\n",
    "    tmp_df[\"sell\"] = CLOSE[x]\n",
    "    trade_df1 = trade_df1.append(tmp_df)\n",
    "    return trade_df1\n",
    "    \n",
    "################# Write Algo For Backtest Here ###################\n",
    "\n",
    "#sell = (REF(haOPEN, 0) > REF(haCLOSE,0)) & (REF(haOPEN, 1) > REF(haCLOSE,1))\n",
    "#print(trade_df1)\n",
    "sell = (REF(haOPEN, 0) > REF(haCLOSE,0)) & (REF(haOPEN, 1) < REF(haCLOSE,1))\n",
    "buy = (REF(haOPEN, 0) < REF(haCLOSE,0)) & (REF(haOPEN, 1) > REF(haCLOSE,1))\n",
    "\n",
    "logic = buy | sell\n",
    "\n",
    "summary_df = trade_df1.copy(deep=True)\n",
    "#summary_df['haopen'] = haOPEN[ logic ]\n",
    "#summary_df['haclose'] = haCLOSE[ logic ]\n",
    "summary_df['roc'] = ROC(CLOSE, 30)[logic]\n",
    "\n",
    "#print(summary_df.sort_index())\n",
    "#print(summary_df.sort_index().tail(10))\n",
    "#print(ROC(CLOSE,3))\n",
    "#################### Render Charts ###############################\n",
    "\n",
    "trade_df1 = SELL(CLOSE, sell, trade_df1)\n",
    "trade_df1 = BUY(CLOSE, buy, trade_df1)\n",
    "\n",
    "#print(trade_df1.sort_index())\n",
    "my_cache.setCache(symbol+cache_type+'Trade',trade_df1)\n",
    "#my_cache.pushTrade(symbol, trade_df1)\n",
    "\n",
    "chart_type ='haikin'\n",
    "trade_df = pd.read_json(redis_conn.get(symbol+cache_type+'Trade'), orient='columns')\n",
    "\n",
    "render_charts(ohlc_data_temp, trade_df, symbol, chart_type)"
   ]
  },
  {
   "cell_type": "code",
   "execution_count": null,
   "metadata": {},
   "outputs": [],
   "source": [
    "cache_type = 'backtest_web'\n",
    "symbol='TCS'\n",
    "my_cache = cache_state(cache_type)\n",
    "my_cache.getTrades(symbol)\n",
    "\n",
    "my_cache.get('TCSbacktest_webTrades')"
   ]
  },
  {
   "cell_type": "code",
   "execution_count": null,
   "metadata": {},
   "outputs": [],
   "source": [
    "my_cache.getValue()"
   ]
  },
  {
   "cell_type": "code",
   "execution_count": null,
   "metadata": {
    "scrolled": false
   },
   "outputs": [],
   "source": [
    "temp_file = pd.HDFStore(\"data/kite_cache.h5\", mode=\"r\")\n",
    "temp_file.keys()"
   ]
  },
  {
   "cell_type": "code",
   "execution_count": 9,
   "metadata": {},
   "outputs": [
    {
     "data": {
      "text/plain": [
       "False"
      ]
     },
     "execution_count": 9,
     "metadata": {},
     "output_type": "execute_result"
    }
   ],
   "source": [
    "live_cache.hget('algos','SUHAN') is not None"
   ]
  },
  {
   "cell_type": "markdown",
   "metadata": {},
   "source": [
    "## Redis Console"
   ]
  },
  {
   "cell_type": "code",
   "execution_count": 2,
   "metadata": {
    "scrolled": true
   },
   "outputs": [],
   "source": [
    "from lib.multitasking_lib import *\n",
    "#from lib.data_model_lib import *\n",
    "import json\n",
    "web_cache = cache_state('backtest_web')\n",
    "live_cache = cache_state('live')\n",
    "uni_cache = cache_state('backtest_uni')\n",
    "\n",
    "pd.set_option('display.max_rows', None)"
   ]
  },
  {
   "cell_type": "code",
   "execution_count": 3,
   "metadata": {},
   "outputs": [
    {
     "data": {
      "text/plain": [
       "['kite_simulatorbacktest_web',\n",
       " 'ohlc_tick_handlerlive',\n",
       " 'kite_ticker_handlerlive',\n",
       " 'ohlc_tick_handlerbacktest_web',\n",
       " 'order_handlerlive']"
      ]
     },
     "execution_count": 3,
     "metadata": {},
     "output_type": "execute_result"
    }
   ],
   "source": [
    "live_cache.pubsub_channels()"
   ]
  },
  {
   "cell_type": "code",
   "execution_count": 6,
   "metadata": {},
   "outputs": [],
   "source": [
    "live_cache.remove()"
   ]
  },
  {
   "cell_type": "code",
   "execution_count": 4,
   "metadata": {},
   "outputs": [
    {
     "data": {
      "text/html": [
       "<div>\n",
       "<style scoped>\n",
       "    .dataframe tbody tr th:only-of-type {\n",
       "        vertical-align: middle;\n",
       "    }\n",
       "\n",
       "    .dataframe tbody tr th {\n",
       "        vertical-align: top;\n",
       "    }\n",
       "\n",
       "    .dataframe thead th {\n",
       "        text-align: right;\n",
       "    }\n",
       "</style>\n",
       "<table border=\"1\" class=\"dataframe\">\n",
       "  <thead>\n",
       "    <tr style=\"text-align: right;\">\n",
       "      <th></th>\n",
       "      <th>stock</th>\n",
       "      <th>qty</th>\n",
       "      <th>SL %</th>\n",
       "      <th>TP %</th>\n",
       "      <th>amount</th>\n",
       "      <th>price</th>\n",
       "      <th>P&amp;L</th>\n",
       "      <th>P&amp;L %</th>\n",
       "      <th>Total P&amp;L</th>\n",
       "      <th>Total P&amp;L %</th>\n",
       "      <th>...</th>\n",
       "      <th>ltp %</th>\n",
       "      <th>tp</th>\n",
       "      <th>high</th>\n",
       "      <th>last_processed</th>\n",
       "      <th>state</th>\n",
       "      <th>mode</th>\n",
       "      <th>algo</th>\n",
       "      <th>freq</th>\n",
       "      <th>hdf_freq</th>\n",
       "      <th>order_id</th>\n",
       "    </tr>\n",
       "  </thead>\n",
       "  <tbody>\n",
       "    <tr>\n",
       "      <th>0</th>\n",
       "      <td>CIPLA</td>\n",
       "      <td>1</td>\n",
       "      <td>1</td>\n",
       "      <td>1</td>\n",
       "      <td>572.85</td>\n",
       "      <td>572.85</td>\n",
       "      <td>0</td>\n",
       "      <td>0</td>\n",
       "      <td>-2.0</td>\n",
       "      <td>-0.3491315353059265</td>\n",
       "      <td>...</td>\n",
       "      <td>0.0</td>\n",
       "      <td>567.1215</td>\n",
       "      <td>576.0</td>\n",
       "      <td>2020-05-14 09:29</td>\n",
       "      <td>SHORT</td>\n",
       "      <td>paper</td>\n",
       "      <td>haikin_1_new</td>\n",
       "      <td>1T</td>\n",
       "      <td>minute</td>\n",
       "      <td>0</td>\n",
       "    </tr>\n",
       "    <tr>\n",
       "      <th>1</th>\n",
       "      <td>WIPRO</td>\n",
       "      <td>1</td>\n",
       "      <td>1</td>\n",
       "      <td>1</td>\n",
       "      <td>184.0</td>\n",
       "      <td>0</td>\n",
       "      <td>-0.05000000000001137</td>\n",
       "      <td>-0.027181299266111104</td>\n",
       "      <td>-0.15000000000000568</td>\n",
       "      <td>-0.08152173913043786</td>\n",
       "      <td>...</td>\n",
       "      <td>0.0</td>\n",
       "      <td>0</td>\n",
       "      <td>184.35</td>\n",
       "      <td>2020-05-14 09:29</td>\n",
       "      <td>SCANNING</td>\n",
       "      <td>paper</td>\n",
       "      <td>haikin_1_new</td>\n",
       "      <td>1T</td>\n",
       "      <td>minute</td>\n",
       "      <td>0</td>\n",
       "    </tr>\n",
       "  </tbody>\n",
       "</table>\n",
       "<p>2 rows × 23 columns</p>\n",
       "</div>"
      ],
      "text/plain": [
       "   stock qty SL % TP %  amount   price                   P&L  \\\n",
       "0  CIPLA   1    1    1  572.85  572.85                     0   \n",
       "1  WIPRO   1    1    1   184.0       0  -0.05000000000001137   \n",
       "\n",
       "                   P&L %             Total P&L           Total P&L %  ...  \\\n",
       "0                      0                  -2.0   -0.3491315353059265  ...   \n",
       "1  -0.027181299266111104  -0.15000000000000568  -0.08152173913043786  ...   \n",
       "\n",
       "  ltp %        tp    high    last_processed     state   mode          algo  \\\n",
       "0   0.0  567.1215   576.0  2020-05-14 09:29     SHORT  paper  haikin_1_new   \n",
       "1   0.0         0  184.35  2020-05-14 09:29  SCANNING  paper  haikin_1_new   \n",
       "\n",
       "  freq hdf_freq order_id  \n",
       "0   1T   minute        0  \n",
       "1   1T   minute        0  \n",
       "\n",
       "[2 rows x 23 columns]"
      ]
     },
     "execution_count": 4,
     "metadata": {},
     "output_type": "execute_result"
    }
   ],
   "source": [
    "df = live_cache.getValue()\n",
    "df"
   ]
  },
  {
   "cell_type": "code",
   "execution_count": null,
   "metadata": {
    "scrolled": true
   },
   "outputs": [],
   "source": [
    "live_cache.getOHLC('TCS')"
   ]
  },
  {
   "cell_type": "code",
   "execution_count": null,
   "metadata": {},
   "outputs": [],
   "source": [
    "trades_df = live_cache.getTrades('TCS')\n",
    "trades_df"
   ]
  },
  {
   "cell_type": "code",
   "execution_count": null,
   "metadata": {},
   "outputs": [],
   "source": [
    "(total_profit, max_loss, max_profit, total_win, total_loss, max_winning_streak, max_loosing_streak, trade_log_df) = trade_analysis_raw(trades_df)"
   ]
  },
  {
   "cell_type": "code",
   "execution_count": null,
   "metadata": {},
   "outputs": [],
   "source": [
    "import pandas as pd\n",
    "import plotly\n",
    "import plotly.graph_objs as go\n",
    "from datetime import datetime as dt\n",
    "from datetime import timedelta\n",
    "from plotly.subplots import make_subplots\n",
    "import plotly.graph_objects as go\n",
    "\n",
    "from lib.multitasking_lib import *\n",
    "from plotly.offline import download_plotlyjs, init_notebook_mode, plot, iplot"
   ]
  },
  {
   "cell_type": "markdown",
   "metadata": {},
   "source": [
    "### GetData"
   ]
  },
  {
   "cell_type": "code",
   "execution_count": null,
   "metadata": {},
   "outputs": [],
   "source": [
    "logger.setLevel(logging.DEBUG)\n",
    "stock = 'WIPRO'\n",
    "fromDate = '2019-4-22'\n",
    "toDate  = '2019-4-24'\n",
    "freq = 'minute'\n",
    "mydate = fromDate\n",
    "exchange = 'NSE'\n",
    "ohlc_data = {}\n",
    "ohlc_data[stock] = getData(stock, fromDate, toDate, exchange, freq, False, stock)"
   ]
  },
  {
   "cell_type": "code",
   "execution_count": null,
   "metadata": {},
   "outputs": [],
   "source": [
    "ohlc_data[stock].head()"
   ]
  },
  {
   "cell_type": "markdown",
   "metadata": {},
   "source": [
    "# Kite Connect"
   ]
  },
  {
   "cell_type": "code",
   "execution_count": 5,
   "metadata": {},
   "outputs": [
    {
     "name": "stdout",
     "output_type": "stream",
     "text": [
      "BXSkx8x86w59hHXsHyCcpt3kRnp6nnZY\n",
      "b2w0sfnr1zr92nxm\n"
     ]
    }
   ],
   "source": [
    "from kiteconnect import KiteConnect\n",
    "kite_api_key = 'b2w0sfnr1zr92nxm'\n",
    "live_cache.set('KiteAPIKey',kite_api_key)\n",
    "access_token = live_cache.get('access_token')\n",
    "print(access_token)\n",
    "print(live_cache.get('KiteAPIKey'))\n",
    "\n",
    "kite = KiteConnect(api_key=kite_api_key)\n",
    "kite.set_access_token(access_token)"
   ]
  },
  {
   "cell_type": "code",
   "execution_count": 6,
   "metadata": {},
   "outputs": [
    {
     "data": {
      "text/plain": [
       "'BXSkx8x86w59hHXsHyCcpt3kRnp6nnZY'"
      ]
     },
     "execution_count": 6,
     "metadata": {},
     "output_type": "execute_result"
    }
   ],
   "source": [
    "kite.access_token"
   ]
  },
  {
   "cell_type": "code",
   "execution_count": null,
   "metadata": {},
   "outputs": [],
   "source": []
  },
  {
   "cell_type": "code",
   "execution_count": 7,
   "metadata": {},
   "outputs": [
    {
     "data": {
      "text/plain": [
       "{'user_id': 'YM1755',\n",
       " 'user_type': 'individual',\n",
       " 'email': 'saswati.suhan@gmail.com',\n",
       " 'user_name': 'Saswati Saha',\n",
       " 'user_shortname': 'Saswati',\n",
       " 'broker': 'ZERODHA',\n",
       " 'exchanges': ['BSE', 'MCX', 'NSE', 'NFO', 'MF', 'CDS', 'BFO'],\n",
       " 'products': ['CNC', 'NRML', 'MIS', 'BO', 'CO'],\n",
       " 'order_types': ['MARKET', 'LIMIT', 'SL', 'SL-M'],\n",
       " 'avatar_url': '',\n",
       " 'meta': {'demat_consent': 'physical'}}"
      ]
     },
     "execution_count": 7,
     "metadata": {},
     "output_type": "execute_result"
    }
   ],
   "source": [
    "kite.profile()"
   ]
  },
  {
   "cell_type": "code",
   "execution_count": null,
   "metadata": {},
   "outputs": [],
   "source": [
    "cancel_order('CIPLA')"
   ]
  },
  {
   "cell_type": "code",
   "execution_count": null,
   "metadata": {
    "scrolled": true
   },
   "outputs": [],
   "source": [
    "orders_df = pd.DataFrame(kite.orders())\n",
    "orders_df[['order_id','status','tradingsymbol','transaction_type','quantity','tag','price']]"
   ]
  },
  {
   "cell_type": "code",
   "execution_count": null,
   "metadata": {},
   "outputs": [],
   "source": []
  },
  {
   "cell_type": "code",
   "execution_count": 6,
   "metadata": {},
   "outputs": [
    {
     "data": {
      "text/html": [
       "<div>\n",
       "<style scoped>\n",
       "    .dataframe tbody tr th:only-of-type {\n",
       "        vertical-align: middle;\n",
       "    }\n",
       "\n",
       "    .dataframe tbody tr th {\n",
       "        vertical-align: top;\n",
       "    }\n",
       "\n",
       "    .dataframe thead th {\n",
       "        text-align: right;\n",
       "    }\n",
       "</style>\n",
       "<table border=\"1\" class=\"dataframe\">\n",
       "  <thead>\n",
       "    <tr style=\"text-align: right;\">\n",
       "      <th></th>\n",
       "      <th>stock</th>\n",
       "      <th>qty</th>\n",
       "      <th>SL %</th>\n",
       "      <th>TP %</th>\n",
       "      <th>amount</th>\n",
       "      <th>price</th>\n",
       "      <th>P&amp;L</th>\n",
       "      <th>P&amp;L %</th>\n",
       "      <th>Total P&amp;L</th>\n",
       "      <th>Total P&amp;L %</th>\n",
       "      <th>...</th>\n",
       "      <th>ltp %</th>\n",
       "      <th>tp</th>\n",
       "      <th>high</th>\n",
       "      <th>last_processed</th>\n",
       "      <th>state</th>\n",
       "      <th>mode</th>\n",
       "      <th>algo</th>\n",
       "      <th>freq</th>\n",
       "      <th>hdf_freq</th>\n",
       "      <th>order_id</th>\n",
       "    </tr>\n",
       "  </thead>\n",
       "  <tbody>\n",
       "    <tr>\n",
       "      <th>0</th>\n",
       "      <td>CIPLA</td>\n",
       "      <td>1</td>\n",
       "      <td>1</td>\n",
       "      <td>1</td>\n",
       "      <td>572.85</td>\n",
       "      <td>572.85</td>\n",
       "      <td>0</td>\n",
       "      <td>0</td>\n",
       "      <td>-2.0</td>\n",
       "      <td>-0.3491315353059265</td>\n",
       "      <td>...</td>\n",
       "      <td>0.0</td>\n",
       "      <td>567.1215</td>\n",
       "      <td>576.0</td>\n",
       "      <td>2020-05-14 09:31</td>\n",
       "      <td>SHORT</td>\n",
       "      <td>live</td>\n",
       "      <td>haikin_1_new</td>\n",
       "      <td>1T</td>\n",
       "      <td>minute</td>\n",
       "      <td>0</td>\n",
       "    </tr>\n",
       "    <tr>\n",
       "      <th>1</th>\n",
       "      <td>WIPRO</td>\n",
       "      <td>1</td>\n",
       "      <td>1</td>\n",
       "      <td>1</td>\n",
       "      <td>183.6</td>\n",
       "      <td>183.6</td>\n",
       "      <td>0</td>\n",
       "      <td>0</td>\n",
       "      <td>-0.15000000000000568</td>\n",
       "      <td>-0.08169934640523187</td>\n",
       "      <td>...</td>\n",
       "      <td>0.0</td>\n",
       "      <td>181.76399999999998</td>\n",
       "      <td>184.35</td>\n",
       "      <td>2020-05-14 09:31</td>\n",
       "      <td>SHORT</td>\n",
       "      <td>paper</td>\n",
       "      <td>haikin_1_new</td>\n",
       "      <td>1T</td>\n",
       "      <td>minute</td>\n",
       "      <td>0</td>\n",
       "    </tr>\n",
       "  </tbody>\n",
       "</table>\n",
       "<p>2 rows × 23 columns</p>\n",
       "</div>"
      ],
      "text/plain": [
       "   stock qty SL % TP %  amount   price P&L P&L %             Total P&L  \\\n",
       "0  CIPLA   1    1    1  572.85  572.85   0     0                  -2.0   \n",
       "1  WIPRO   1    1    1   183.6   183.6   0     0  -0.15000000000000568   \n",
       "\n",
       "            Total P&L %  ... ltp %                  tp    high  \\\n",
       "0   -0.3491315353059265  ...   0.0            567.1215   576.0   \n",
       "1  -0.08169934640523187  ...   0.0  181.76399999999998  184.35   \n",
       "\n",
       "     last_processed  state   mode          algo freq hdf_freq order_id  \n",
       "0  2020-05-14 09:31  SHORT   live  haikin_1_new   1T   minute        0  \n",
       "1  2020-05-14 09:31  SHORT  paper  haikin_1_new   1T   minute        0  \n",
       "\n",
       "[2 rows x 23 columns]"
      ]
     },
     "execution_count": 6,
     "metadata": {},
     "output_type": "execute_result"
    }
   ],
   "source": [
    "live_cache.getValue()"
   ]
  },
  {
   "cell_type": "code",
   "execution_count": null,
   "metadata": {},
   "outputs": [],
   "source": [
    "position_df = pd.DataFrame(kite.positions()['net'])\n",
    "position_df"
   ]
  },
  {
   "cell_type": "code",
   "execution_count": null,
   "metadata": {},
   "outputs": [],
   "source": [
    "pd.DataFrame(kite.positions()['day'])"
   ]
  },
  {
   "cell_type": "code",
   "execution_count": null,
   "metadata": {},
   "outputs": [],
   "source": [
    "orders_df = pd.DataFrame()\n",
    "for msg in live_cache.xrange('notificationQueuelivenew'):\n",
    "    tmp_df = pd.DataFrame.from_dict(json.loads(msg[1]['data']), orient='index').transpose()\n",
    "    orders_df = orders_df.append(tmp_df)\n",
    "    #print(msg)\n",
    "orders_df"
   ]
  },
  {
   "cell_type": "code",
   "execution_count": null,
   "metadata": {
    "scrolled": true
   },
   "outputs": [],
   "source": [
    "kite.margins()"
   ]
  },
  {
   "cell_type": "markdown",
   "metadata": {},
   "source": [
    "#### Starting Live Trade for a stock"
   ]
  },
  {
   "cell_type": "code",
   "execution_count": null,
   "metadata": {},
   "outputs": [],
   "source": [
    "symbol = 'INFY'\n",
    "live_cache.add(symbol)\n",
    "token = int(live_cache.hmget('eq_token',symbol)[0])\n",
    "live_cache.publish('live_trade_handlerlive', json.dumps({'cmd':'add','value':[token],'mode':'ltp'}))\n",
    "\n",
    "live_cache.setValue(symbol,'qty','1')\n",
    "live_cache.setValue(symbol,'SL %','0.4')\n",
    "live_cache.setValue(symbol,'TP %','1')\n",
    "live_cache.setValue(symbol,'algo','haikin_1_new')\n",
    "live_cache.setValue(symbol,'freq','1T')\n",
    "live_cache.setValue(symbol,'last_processed',datetime.now().timestamp())\n",
    "live_cache.setValue(symbol,'mode','paper')"
   ]
  },
  {
   "cell_type": "code",
   "execution_count": 163,
   "metadata": {},
   "outputs": [
    {
     "data": {
      "text/plain": [
       "0"
      ]
     },
     "execution_count": 163,
     "metadata": {},
     "output_type": "execute_result"
    }
   ],
   "source": [
    "symbol = 'WIPRO'\n",
    "live_cache.setValue(symbol,'last_processed',datetime.now().timestamp())"
   ]
  },
  {
   "cell_type": "code",
   "execution_count": 161,
   "metadata": {},
   "outputs": [
    {
     "data": {
      "text/plain": [
       "1589454314.433045"
      ]
     },
     "execution_count": 161,
     "metadata": {},
     "output_type": "execute_result"
    }
   ],
   "source": [
    "datetime.now().timestamp()"
   ]
  },
  {
   "cell_type": "code",
   "execution_count": null,
   "metadata": {},
   "outputs": [],
   "source": [
    "symbol = 'INFY'\n",
    "live_cache.setValue(symbol,'mode','PAUSE')"
   ]
  },
  {
   "cell_type": "code",
   "execution_count": 164,
   "metadata": {},
   "outputs": [
    {
     "data": {
      "text/html": [
       "<div>\n",
       "<style scoped>\n",
       "    .dataframe tbody tr th:only-of-type {\n",
       "        vertical-align: middle;\n",
       "    }\n",
       "\n",
       "    .dataframe tbody tr th {\n",
       "        vertical-align: top;\n",
       "    }\n",
       "\n",
       "    .dataframe thead th {\n",
       "        text-align: right;\n",
       "    }\n",
       "</style>\n",
       "<table border=\"1\" class=\"dataframe\">\n",
       "  <thead>\n",
       "    <tr style=\"text-align: right;\">\n",
       "      <th></th>\n",
       "      <th>stock</th>\n",
       "      <th>qty</th>\n",
       "      <th>SL %</th>\n",
       "      <th>TP %</th>\n",
       "      <th>amount</th>\n",
       "      <th>price</th>\n",
       "      <th>P&amp;L</th>\n",
       "      <th>P&amp;L %</th>\n",
       "      <th>Total P&amp;L</th>\n",
       "      <th>Total P&amp;L %</th>\n",
       "      <th>...</th>\n",
       "      <th>ltp %</th>\n",
       "      <th>tp</th>\n",
       "      <th>high</th>\n",
       "      <th>last_processed</th>\n",
       "      <th>state</th>\n",
       "      <th>mode</th>\n",
       "      <th>algo</th>\n",
       "      <th>freq</th>\n",
       "      <th>hdf_freq</th>\n",
       "      <th>order_id</th>\n",
       "    </tr>\n",
       "  </thead>\n",
       "  <tbody>\n",
       "    <tr>\n",
       "      <th>0</th>\n",
       "      <td>WIPRO</td>\n",
       "      <td>1</td>\n",
       "      <td>1</td>\n",
       "      <td>1</td>\n",
       "      <td>186.7</td>\n",
       "      <td>0</td>\n",
       "      <td>-0.05000000000001137</td>\n",
       "      <td>-0.02677376171352684</td>\n",
       "      <td>182.0</td>\n",
       "      <td>97.48259239421533</td>\n",
       "      <td>...</td>\n",
       "      <td>0.0</td>\n",
       "      <td>0</td>\n",
       "      <td>187.35</td>\n",
       "      <td>1589454443.512455</td>\n",
       "      <td>SCANNING</td>\n",
       "      <td>paper</td>\n",
       "      <td>haikin_1_new</td>\n",
       "      <td>1T</td>\n",
       "      <td>minute</td>\n",
       "      <td>200514002588219</td>\n",
       "    </tr>\n",
       "  </tbody>\n",
       "</table>\n",
       "<p>1 rows × 23 columns</p>\n",
       "</div>"
      ],
      "text/plain": [
       "   stock qty SL % TP % amount price                   P&L  \\\n",
       "0  WIPRO   1    1    1  186.7     0  -0.05000000000001137   \n",
       "\n",
       "                  P&L % Total P&L        Total P&L %  ... ltp % tp    high  \\\n",
       "0  -0.02677376171352684     182.0  97.48259239421533  ...   0.0  0  187.35   \n",
       "\n",
       "      last_processed     state   mode          algo freq hdf_freq  \\\n",
       "0  1589454443.512455  SCANNING  paper  haikin_1_new   1T   minute   \n",
       "\n",
       "          order_id  \n",
       "0  200514002588219  \n",
       "\n",
       "[1 rows x 23 columns]"
      ]
     },
     "execution_count": 164,
     "metadata": {},
     "output_type": "execute_result"
    }
   ],
   "source": [
    "live_cache.getValue(symbol)"
   ]
  },
  {
   "cell_type": "markdown",
   "metadata": {},
   "source": [
    "### Kite Ticker Handler Manipulation"
   ]
  },
  {
   "cell_type": "code",
   "execution_count": null,
   "metadata": {},
   "outputs": [],
   "source": [
    "#live_cache.publish('live_trade_handlerlive','profile')\n",
    "live_cache.publish('live_trade_handlerlive','status')"
   ]
  },
  {
   "cell_type": "code",
   "execution_count": null,
   "metadata": {},
   "outputs": [],
   "source": [
    "live_cache.publish('kite_ticker_handlerlive','INIT')"
   ]
  },
  {
   "cell_type": "code",
   "execution_count": null,
   "metadata": {},
   "outputs": [],
   "source": [
    "live_cache.publish('kite_ticker_handlerlive','CLOSE')"
   ]
  },
  {
   "cell_type": "code",
   "execution_count": null,
   "metadata": {},
   "outputs": [],
   "source": [
    "live_cache.publish('kite_ticker_handlerlive','START')"
   ]
  },
  {
   "cell_type": "code",
   "execution_count": null,
   "metadata": {},
   "outputs": [],
   "source": [
    "live_cache.publish('kite_ticker_handlerlive','profile')"
   ]
  },
  {
   "cell_type": "code",
   "execution_count": null,
   "metadata": {},
   "outputs": [],
   "source": [
    "live_cache.smembers('live_token')"
   ]
  },
  {
   "cell_type": "code",
   "execution_count": null,
   "metadata": {},
   "outputs": [],
   "source": [
    "values = list(map(int,live_cache.smembers('ticker_list')))\n",
    "values"
   ]
  },
  {
   "cell_type": "code",
   "execution_count": null,
   "metadata": {},
   "outputs": [],
   "source": [
    "live_cache.publish('kite_ticker_handlerlive',json.dumps({'cmd':'add','value':values,'mode':'ltp'}))"
   ]
  },
  {
   "cell_type": "code",
   "execution_count": 22,
   "metadata": {},
   "outputs": [
    {
     "data": {
      "text/plain": [
       "1"
      ]
     },
     "execution_count": 22,
     "metadata": {},
     "output_type": "execute_result"
    }
   ],
   "source": [
    "live_cache.publish('kite_ticker_handlerlive',json.dumps({'cmd':'remove','value':[1510401],'mode':'quote'}))\n"
   ]
  },
  {
   "cell_type": "code",
   "execution_count": null,
   "metadata": {},
   "outputs": [],
   "source": [
    "pd.DataFrame(kite.orders())"
   ]
  },
  {
   "cell_type": "markdown",
   "metadata": {},
   "source": [
    "#### TickerList Manipulaitons"
   ]
  },
  {
   "cell_type": "code",
   "execution_count": null,
   "metadata": {},
   "outputs": [],
   "source": [
    "live_cache.sadd('ticker_list','2953217')\n",
    "live_cache.sadd('ticker_list','969473')\n",
    "\n",
    "live_cache.sadd('ticker_list','1510401')"
   ]
  },
  {
   "cell_type": "code",
   "execution_count": 21,
   "metadata": {},
   "outputs": [
    {
     "name": "stdout",
     "output_type": "stream",
     "text": [
      "[177665, 969473]\n"
     ]
    },
    {
     "data": {
      "text/plain": [
       "['CIPLA', 'WIPRO']"
      ]
     },
     "execution_count": 21,
     "metadata": {},
     "output_type": "execute_result"
    }
   ],
   "source": [
    "values = list(map(int,live_cache.smembers('ticker_list')))\n",
    "print(values)\n",
    "live_cache.hmget('eq_token', values)"
   ]
  },
  {
   "cell_type": "code",
   "execution_count": 20,
   "metadata": {},
   "outputs": [
    {
     "data": {
      "text/plain": [
       "1"
      ]
     },
     "execution_count": 20,
     "metadata": {},
     "output_type": "execute_result"
    }
   ],
   "source": [
    "live_cache.srem('ticker_list',1510401)"
   ]
  },
  {
   "cell_type": "code",
   "execution_count": null,
   "metadata": {},
   "outputs": [],
   "source": [
    "live_cache.sismember('ticker_list',4268801)"
   ]
  },
  {
   "cell_type": "code",
   "execution_count": 21,
   "metadata": {},
   "outputs": [
    {
     "data": {
      "text/plain": [
       "1"
      ]
     },
     "execution_count": 21,
     "metadata": {},
     "output_type": "execute_result"
    }
   ],
   "source": [
    "live_cache.delete('ticker_list')"
   ]
  },
  {
   "cell_type": "code",
   "execution_count": null,
   "metadata": {},
   "outputs": [],
   "source": [
    "live_cache.getValue()"
   ]
  },
  {
   "cell_type": "code",
   "execution_count": null,
   "metadata": {},
   "outputs": [],
   "source": [
    "live_cache.get('Kite_Status')"
   ]
  },
  {
   "cell_type": "markdown",
   "metadata": {},
   "source": [
    "### OrderHandler Monitor and Manipulation"
   ]
  },
  {
   "cell_type": "code",
   "execution_count": 47,
   "metadata": {},
   "outputs": [
    {
     "data": {
      "text/plain": [
       "1"
      ]
     },
     "execution_count": 47,
     "metadata": {},
     "output_type": "execute_result"
    }
   ],
   "source": [
    "# Pause Ordering\n",
    "live_cache.publish('order_handlerlive', 'pause')"
   ]
  },
  {
   "cell_type": "code",
   "execution_count": 59,
   "metadata": {},
   "outputs": [
    {
     "data": {
      "text/plain": [
       "1"
      ]
     },
     "execution_count": 59,
     "metadata": {},
     "output_type": "execute_result"
    }
   ],
   "source": [
    "# Resume Ordering\n",
    "live_cache.publish('order_handlerlive', 'resume')"
   ]
  },
  {
   "cell_type": "code",
   "execution_count": 48,
   "metadata": {},
   "outputs": [
    {
     "data": {
      "text/plain": [
       "1"
      ]
     },
     "execution_count": 48,
     "metadata": {},
     "output_type": "execute_result"
    }
   ],
   "source": [
    "# Buy\n",
    "live_cache.publish('order_handlerlive',json.dumps({'cmd':'buy','symbol':'WIPRO','price':180,'qty':1}))"
   ]
  },
  {
   "cell_type": "code",
   "execution_count": 69,
   "metadata": {},
   "outputs": [
    {
     "data": {
      "text/plain": [
       "1"
      ]
     },
     "execution_count": 69,
     "metadata": {},
     "output_type": "execute_result"
    }
   ],
   "source": [
    "# Sell\n",
    "live_cache.publish('order_handlerlive',json.dumps({'cmd':'sell','symbol':'WIPRO','price':190,'qty':1}))"
   ]
  },
  {
   "cell_type": "code",
   "execution_count": null,
   "metadata": {},
   "outputs": [],
   "source": [
    "# Cancel\n",
    "live_cache.publish('order_handlerlive',json.dumps({'cmd':'cancel','symbol':'WIPRO'}))"
   ]
  },
  {
   "cell_type": "code",
   "execution_count": null,
   "metadata": {},
   "outputs": [],
   "source": [
    "live_cache.publish('order_handlerlive',json.dumps({'cmd':'getOrders'}))"
   ]
  },
  {
   "cell_type": "code",
   "execution_count": 33,
   "metadata": {},
   "outputs": [
    {
     "data": {
      "text/plain": [
       "1"
      ]
     },
     "execution_count": 33,
     "metadata": {},
     "output_type": "execute_result"
    }
   ],
   "source": [
    "## Cancel All the orders\n",
    "live_cache.publish('order_handlerlive',json.dumps({'cmd':'cancelAll'}))"
   ]
  },
  {
   "cell_type": "code",
   "execution_count": null,
   "metadata": {},
   "outputs": [],
   "source": [
    "#from lib.kite_wrapper_lib import *\n",
    "cancel_order(kite,['CIPLA'])"
   ]
  },
  {
   "cell_type": "code",
   "execution_count": null,
   "metadata": {},
   "outputs": [],
   "source": [
    "buy_limit('WIPRO',188.5,1)"
   ]
  },
  {
   "cell_type": "code",
   "execution_count": null,
   "metadata": {},
   "outputs": [],
   "source": [
    "sell_limit('WIPRO',188.7,1)"
   ]
  },
  {
   "cell_type": "code",
   "execution_count": 11,
   "metadata": {
    "scrolled": true
   },
   "outputs": [
    {
     "data": {
      "text/html": [
       "<div>\n",
       "<style scoped>\n",
       "    .dataframe tbody tr th:only-of-type {\n",
       "        vertical-align: middle;\n",
       "    }\n",
       "\n",
       "    .dataframe tbody tr th {\n",
       "        vertical-align: top;\n",
       "    }\n",
       "\n",
       "    .dataframe thead th {\n",
       "        text-align: right;\n",
       "    }\n",
       "</style>\n",
       "<table border=\"1\" class=\"dataframe\">\n",
       "  <thead>\n",
       "    <tr style=\"text-align: right;\">\n",
       "      <th></th>\n",
       "    </tr>\n",
       "  </thead>\n",
       "  <tbody>\n",
       "  </tbody>\n",
       "</table>\n",
       "</div>"
      ],
      "text/plain": [
       "Empty DataFrame\n",
       "Columns: []\n",
       "Index: []"
      ]
     },
     "execution_count": 11,
     "metadata": {},
     "output_type": "execute_result"
    }
   ],
   "source": [
    "live_cache.getOHLC('WIPRO').tail(10)"
   ]
  },
  {
   "cell_type": "code",
   "execution_count": null,
   "metadata": {},
   "outputs": [],
   "source": [
    "kite.cancel_order(kite.VARIETY_REGULAR, 200511002924441, parent_order_id=None)"
   ]
  },
  {
   "cell_type": "code",
   "execution_count": null,
   "metadata": {},
   "outputs": [],
   "source": [
    "kite.convert_position(kite.EXCHANGE_NSE, 'WIPRO', transaction_type, position_type, quantity, old_product, new_product)\n"
   ]
  },
  {
   "cell_type": "code",
   "execution_count": null,
   "metadata": {},
   "outputs": [],
   "source": [
    "kite.modify_order(kite.VARIETY_REGULAR, 200511003019322, parent_order_id=None, quantity=None, price=187.4, order_type=None, trigger_price=None, validity=None, disclosed_quantity=None)\n"
   ]
  },
  {
   "cell_type": "code",
   "execution_count": null,
   "metadata": {},
   "outputs": [],
   "source": [
    "msg = {'data': '[{\"tradable\": true, \"mode\": \"quote\", \"instrument_token\": 969473, \"last_price\": 184.7, \"last_quantity\": 5, \"average_price\": 187.07, \"volume\": 4393242, \"buy_quantity\": 0, \"sell_quantity\": 0, \"ohlc\": {\"open\": 185.0, \"high\": 189.95, \"low\": 184.1, \"close\": 184.0}, \"change\": 0.38043478260868946}, {\"tradable\": true, \"mode\": \"quote\", \"instrument_token\": 2953217, \"last_price\": 1935.3, \"last_quantity\": 25, \"average_price\": 1939.47, \"volume\": 2449395, \"buy_quantity\": 0, \"sell_quantity\": 0, \"ohlc\": {\"open\": 1909.0, \"high\": 1951.4, \"low\": 1909.0, \"close\": 1893.4}, \"change\": 2.2129502482306886}]'}"
   ]
  },
  {
   "cell_type": "code",
   "execution_count": null,
   "metadata": {},
   "outputs": [],
   "source": [
    "msg['data']"
   ]
  },
  {
   "cell_type": "code",
   "execution_count": null,
   "metadata": {},
   "outputs": [],
   "source": [
    "val = json.loads(msg['data'])"
   ]
  },
  {
   "cell_type": "markdown",
   "metadata": {},
   "source": [
    "##### Reset state for tradejob"
   ]
  },
  {
   "cell_type": "code",
   "execution_count": null,
   "metadata": {},
   "outputs": [],
   "source": [
    "live_cache.setValue('WIPRO','state','SCANNING')"
   ]
  },
  {
   "cell_type": "markdown",
   "metadata": {},
   "source": [
    "### Live Cache State Monitor and manipulation"
   ]
  },
  {
   "cell_type": "code",
   "execution_count": 59,
   "metadata": {},
   "outputs": [
    {
     "data": {
      "text/html": [
       "<div>\n",
       "<style scoped>\n",
       "    .dataframe tbody tr th:only-of-type {\n",
       "        vertical-align: middle;\n",
       "    }\n",
       "\n",
       "    .dataframe tbody tr th {\n",
       "        vertical-align: top;\n",
       "    }\n",
       "\n",
       "    .dataframe thead th {\n",
       "        text-align: right;\n",
       "    }\n",
       "</style>\n",
       "<table border=\"1\" class=\"dataframe\">\n",
       "  <thead>\n",
       "    <tr style=\"text-align: right;\">\n",
       "      <th></th>\n",
       "      <th>stock</th>\n",
       "      <th>qty</th>\n",
       "      <th>SL %</th>\n",
       "      <th>TP %</th>\n",
       "      <th>amount</th>\n",
       "      <th>price</th>\n",
       "      <th>P&amp;L</th>\n",
       "      <th>P&amp;L %</th>\n",
       "      <th>Total P&amp;L</th>\n",
       "      <th>Total P&amp;L %</th>\n",
       "      <th>...</th>\n",
       "      <th>ltp %</th>\n",
       "      <th>tp</th>\n",
       "      <th>high</th>\n",
       "      <th>last_processed</th>\n",
       "      <th>state</th>\n",
       "      <th>mode</th>\n",
       "      <th>algo</th>\n",
       "      <th>freq</th>\n",
       "      <th>hdf_freq</th>\n",
       "      <th>order_id</th>\n",
       "    </tr>\n",
       "  </thead>\n",
       "  <tbody>\n",
       "    <tr>\n",
       "      <th>0</th>\n",
       "      <td>CIPLA</td>\n",
       "      <td>1</td>\n",
       "      <td>1</td>\n",
       "      <td>1</td>\n",
       "      <td>571.05</td>\n",
       "      <td>571.05</td>\n",
       "      <td>0</td>\n",
       "      <td>0</td>\n",
       "      <td>1.4500000000000455</td>\n",
       "      <td>0.2539182208213021</td>\n",
       "      <td>...</td>\n",
       "      <td>0.0</td>\n",
       "      <td>576.7605</td>\n",
       "      <td>576.0</td>\n",
       "      <td>2020-05-14 09:49</td>\n",
       "      <td>SCANNING</td>\n",
       "      <td>PAUSE</td>\n",
       "      <td>haikin_1_new</td>\n",
       "      <td>1T</td>\n",
       "      <td>minute</td>\n",
       "      <td>200514000953553</td>\n",
       "    </tr>\n",
       "    <tr>\n",
       "      <th>1</th>\n",
       "      <td>WIPRO</td>\n",
       "      <td>1</td>\n",
       "      <td>1</td>\n",
       "      <td>1</td>\n",
       "      <td>186.9</td>\n",
       "      <td>186.9</td>\n",
       "      <td>0</td>\n",
       "      <td>0</td>\n",
       "      <td>181.49999999999997</td>\n",
       "      <td>97.11075441412518</td>\n",
       "      <td>...</td>\n",
       "      <td>0.0</td>\n",
       "      <td>185.031</td>\n",
       "      <td>187.35</td>\n",
       "      <td>2020-05-14 09:37</td>\n",
       "      <td>SHORT</td>\n",
       "      <td>paper</td>\n",
       "      <td>haikin_1_new</td>\n",
       "      <td>1T</td>\n",
       "      <td>minute</td>\n",
       "      <td>200514002588219</td>\n",
       "    </tr>\n",
       "  </tbody>\n",
       "</table>\n",
       "<p>2 rows × 23 columns</p>\n",
       "</div>"
      ],
      "text/plain": [
       "   stock qty SL % TP %  amount   price P&L P&L %           Total P&L  \\\n",
       "0  CIPLA   1    1    1  571.05  571.05   0     0  1.4500000000000455   \n",
       "1  WIPRO   1    1    1   186.9   186.9   0     0  181.49999999999997   \n",
       "\n",
       "          Total P&L %  ... ltp %        tp    high    last_processed  \\\n",
       "0  0.2539182208213021  ...   0.0  576.7605   576.0  2020-05-14 09:49   \n",
       "1   97.11075441412518  ...   0.0   185.031  187.35  2020-05-14 09:37   \n",
       "\n",
       "      state   mode          algo freq hdf_freq         order_id  \n",
       "0  SCANNING  PAUSE  haikin_1_new   1T   minute  200514000953553  \n",
       "1     SHORT  paper  haikin_1_new   1T   minute  200514002588219  \n",
       "\n",
       "[2 rows x 23 columns]"
      ]
     },
     "execution_count": 59,
     "metadata": {},
     "output_type": "execute_result"
    }
   ],
   "source": [
    "live_cache.getValue()"
   ]
  },
  {
   "cell_type": "code",
   "execution_count": null,
   "metadata": {},
   "outputs": [],
   "source": []
  },
  {
   "cell_type": "code",
   "execution_count": 11,
   "metadata": {},
   "outputs": [
    {
     "name": "stderr",
     "output_type": "stream",
     "text": [
      "2020-05-14 09:15:22,066 INFO:\tReset Cache for: CIPLAlive\n",
      "2020-05-14 09:15:22,084 INFO:\tCIPLAlive=>{'stock': 'CIPLA', 'qty': '0', 'SL %': '0.0', 'TP %': '0.0', 'amount': '0', 'price': '0.0', 'P&L': '0.0', 'P&L %': '0.0', 'Total P&L': '0.0', 'Total P&L %': '0.0', 'low': '0.0', 'sl': '0.0', 'ltp': '0.0', 'ltp %': '0.0', 'tp': '0.0', 'high': '0.0', 'last_processed': '1999-01-01', 'state': 'INIT', 'mode': 'PAUSE', 'algo': '', 'freq': '1D', 'hdf_freq': 'day', 'order_id': '0'}\n"
     ]
    },
    {
     "data": {
      "text/html": [
       "<div>\n",
       "<style scoped>\n",
       "    .dataframe tbody tr th:only-of-type {\n",
       "        vertical-align: middle;\n",
       "    }\n",
       "\n",
       "    .dataframe tbody tr th {\n",
       "        vertical-align: top;\n",
       "    }\n",
       "\n",
       "    .dataframe thead th {\n",
       "        text-align: right;\n",
       "    }\n",
       "</style>\n",
       "<table border=\"1\" class=\"dataframe\">\n",
       "  <thead>\n",
       "    <tr style=\"text-align: right;\">\n",
       "      <th></th>\n",
       "      <th>stock</th>\n",
       "      <th>qty</th>\n",
       "      <th>SL %</th>\n",
       "      <th>TP %</th>\n",
       "      <th>amount</th>\n",
       "      <th>price</th>\n",
       "      <th>P&amp;L</th>\n",
       "      <th>P&amp;L %</th>\n",
       "      <th>Total P&amp;L</th>\n",
       "      <th>Total P&amp;L %</th>\n",
       "      <th>...</th>\n",
       "      <th>ltp %</th>\n",
       "      <th>tp</th>\n",
       "      <th>high</th>\n",
       "      <th>last_processed</th>\n",
       "      <th>state</th>\n",
       "      <th>mode</th>\n",
       "      <th>algo</th>\n",
       "      <th>freq</th>\n",
       "      <th>hdf_freq</th>\n",
       "      <th>order_id</th>\n",
       "    </tr>\n",
       "  </thead>\n",
       "  <tbody>\n",
       "    <tr>\n",
       "      <th>0</th>\n",
       "      <td>CIPLA</td>\n",
       "      <td>1</td>\n",
       "      <td>1</td>\n",
       "      <td>1</td>\n",
       "      <td>0</td>\n",
       "      <td>0</td>\n",
       "      <td>0</td>\n",
       "      <td>0.0</td>\n",
       "      <td>0</td>\n",
       "      <td>0.0</td>\n",
       "      <td>...</td>\n",
       "      <td>0.0</td>\n",
       "      <td>0.0</td>\n",
       "      <td>0.0</td>\n",
       "      <td>1999-01-01</td>\n",
       "      <td>INIT</td>\n",
       "      <td>PAUSE</td>\n",
       "      <td>haikin_1_new</td>\n",
       "      <td>1T</td>\n",
       "      <td>minute</td>\n",
       "      <td>0</td>\n",
       "    </tr>\n",
       "    <tr>\n",
       "      <th>1</th>\n",
       "      <td>WIPRO</td>\n",
       "      <td>1</td>\n",
       "      <td>1</td>\n",
       "      <td>1</td>\n",
       "      <td>0</td>\n",
       "      <td>0</td>\n",
       "      <td>0</td>\n",
       "      <td>0.0</td>\n",
       "      <td>0</td>\n",
       "      <td>0.0</td>\n",
       "      <td>...</td>\n",
       "      <td>0.0</td>\n",
       "      <td>0.0</td>\n",
       "      <td>0.0</td>\n",
       "      <td>1999-01-01</td>\n",
       "      <td>INIT</td>\n",
       "      <td>PAUSE</td>\n",
       "      <td>haikin_1_new</td>\n",
       "      <td>1T</td>\n",
       "      <td>minute</td>\n",
       "      <td>0</td>\n",
       "    </tr>\n",
       "  </tbody>\n",
       "</table>\n",
       "<p>2 rows × 23 columns</p>\n",
       "</div>"
      ],
      "text/plain": [
       "   stock qty SL % TP % amount price P&L P&L % Total P&L Total P&L %  ...  \\\n",
       "0  CIPLA   1    1    1      0     0   0   0.0         0         0.0  ...   \n",
       "1  WIPRO   1    1    1      0     0   0   0.0         0         0.0  ...   \n",
       "\n",
       "  ltp %   tp high last_processed state   mode          algo freq hdf_freq  \\\n",
       "0   0.0  0.0  0.0     1999-01-01  INIT  PAUSE  haikin_1_new   1T   minute   \n",
       "1   0.0  0.0  0.0     1999-01-01  INIT  PAUSE  haikin_1_new   1T   minute   \n",
       "\n",
       "  order_id  \n",
       "0        0  \n",
       "1        0  \n",
       "\n",
       "[2 rows x 23 columns]"
      ]
     },
     "execution_count": 11,
     "metadata": {},
     "output_type": "execute_result"
    }
   ],
   "source": [
    "#Modify cache table\n",
    "stock_key = 'CIPLA'\n",
    "#live_cache.add(stock_key, True) #TODO: While adding stock to table use True\n",
    "live_cache.setValue(stock_key, 'algo', 'haikin_1_new')\n",
    "live_cache.setValue(stock_key, 'freq', '1T')\n",
    "live_cache.setValue(stock_key, 'qty', 1)\n",
    "live_cache.setValue(stock_key, 'SL %', 1)\n",
    "live_cache.setValue(stock_key, 'TP %', 1)\n",
    "live_cache.setValue(stock_key, 'P&L', 0)\n",
    "live_cache.setValue(stock_key, 'Total P&L', 0)\n",
    "live_cache.setValue(stock_key, 'price', 0)\n",
    "live_cache.setValue(stock_key, 'hdf_freq', 'minute')\n",
    "live_cache.getValue()"
   ]
  },
  {
   "cell_type": "code",
   "execution_count": 58,
   "metadata": {},
   "outputs": [
    {
     "data": {
      "text/plain": [
       "0"
      ]
     },
     "execution_count": 58,
     "metadata": {},
     "output_type": "execute_result"
    }
   ],
   "source": [
    "live_cache.setValue('WIPRO', 'mode', 'paper')"
   ]
  },
  {
   "cell_type": "code",
   "execution_count": 42,
   "metadata": {},
   "outputs": [
    {
     "data": {
      "text/html": [
       "<div>\n",
       "<style scoped>\n",
       "    .dataframe tbody tr th:only-of-type {\n",
       "        vertical-align: middle;\n",
       "    }\n",
       "\n",
       "    .dataframe tbody tr th {\n",
       "        vertical-align: top;\n",
       "    }\n",
       "\n",
       "    .dataframe thead th {\n",
       "        text-align: right;\n",
       "    }\n",
       "</style>\n",
       "<table border=\"1\" class=\"dataframe\">\n",
       "  <thead>\n",
       "    <tr style=\"text-align: right;\">\n",
       "      <th></th>\n",
       "      <th>stock</th>\n",
       "      <th>qty</th>\n",
       "      <th>SL %</th>\n",
       "      <th>TP %</th>\n",
       "      <th>amount</th>\n",
       "      <th>price</th>\n",
       "      <th>P&amp;L</th>\n",
       "      <th>P&amp;L %</th>\n",
       "      <th>Total P&amp;L</th>\n",
       "      <th>Total P&amp;L %</th>\n",
       "      <th>...</th>\n",
       "      <th>ltp %</th>\n",
       "      <th>tp</th>\n",
       "      <th>high</th>\n",
       "      <th>last_processed</th>\n",
       "      <th>state</th>\n",
       "      <th>mode</th>\n",
       "      <th>algo</th>\n",
       "      <th>freq</th>\n",
       "      <th>hdf_freq</th>\n",
       "      <th>order_id</th>\n",
       "    </tr>\n",
       "  </thead>\n",
       "  <tbody>\n",
       "    <tr>\n",
       "      <th>0</th>\n",
       "      <td>CIPLA</td>\n",
       "      <td>1</td>\n",
       "      <td>1</td>\n",
       "      <td>1</td>\n",
       "      <td>571.05</td>\n",
       "      <td>571.05</td>\n",
       "      <td>0</td>\n",
       "      <td>0</td>\n",
       "      <td>1.4500000000000455</td>\n",
       "      <td>0.2539182208213021</td>\n",
       "      <td>...</td>\n",
       "      <td>0.0</td>\n",
       "      <td>576.7605</td>\n",
       "      <td>576.0</td>\n",
       "      <td>2020-05-14 09:49</td>\n",
       "      <td>SCANNING</td>\n",
       "      <td>PAUSE</td>\n",
       "      <td>haikin_1_new</td>\n",
       "      <td>1T</td>\n",
       "      <td>minute</td>\n",
       "      <td>200514000953553</td>\n",
       "    </tr>\n",
       "    <tr>\n",
       "      <th>1</th>\n",
       "      <td>WIPRO</td>\n",
       "      <td>1</td>\n",
       "      <td>1</td>\n",
       "      <td>1</td>\n",
       "      <td>186.9</td>\n",
       "      <td>186.9</td>\n",
       "      <td>0</td>\n",
       "      <td>0</td>\n",
       "      <td>181.49999999999997</td>\n",
       "      <td>97.11075441412518</td>\n",
       "      <td>...</td>\n",
       "      <td>0.0</td>\n",
       "      <td>185.031</td>\n",
       "      <td>187.35</td>\n",
       "      <td>2020-05-14 09:33</td>\n",
       "      <td>SHORT</td>\n",
       "      <td>live</td>\n",
       "      <td>haikin_1_new</td>\n",
       "      <td>1T</td>\n",
       "      <td>minute</td>\n",
       "      <td>200514002588219</td>\n",
       "    </tr>\n",
       "  </tbody>\n",
       "</table>\n",
       "<p>2 rows × 23 columns</p>\n",
       "</div>"
      ],
      "text/plain": [
       "   stock qty SL % TP %  amount   price P&L P&L %           Total P&L  \\\n",
       "0  CIPLA   1    1    1  571.05  571.05   0     0  1.4500000000000455   \n",
       "1  WIPRO   1    1    1   186.9   186.9   0     0  181.49999999999997   \n",
       "\n",
       "          Total P&L %  ... ltp %        tp    high    last_processed  \\\n",
       "0  0.2539182208213021  ...   0.0  576.7605   576.0  2020-05-14 09:49   \n",
       "1   97.11075441412518  ...   0.0   185.031  187.35  2020-05-14 09:33   \n",
       "\n",
       "      state   mode          algo freq hdf_freq         order_id  \n",
       "0  SCANNING  PAUSE  haikin_1_new   1T   minute  200514000953553  \n",
       "1     SHORT   live  haikin_1_new   1T   minute  200514002588219  \n",
       "\n",
       "[2 rows x 23 columns]"
      ]
     },
     "execution_count": 42,
     "metadata": {},
     "output_type": "execute_result"
    }
   ],
   "source": [
    "#live_cache.remove('AXISBANK')\n",
    "live_cache.getValue()"
   ]
  },
  {
   "cell_type": "code",
   "execution_count": 9,
   "metadata": {},
   "outputs": [],
   "source": [
    "live_cache.remove()"
   ]
  },
  {
   "cell_type": "markdown",
   "metadata": {},
   "source": [
    "#### Get token for Stock symbol"
   ]
  },
  {
   "cell_type": "code",
   "execution_count": null,
   "metadata": {},
   "outputs": [],
   "source": [
    "live_cache.hmget('eq_token',['CIPLA','INFY'])"
   ]
  },
  {
   "cell_type": "code",
   "execution_count": null,
   "metadata": {},
   "outputs": [],
   "source": [
    "live_cache.hmget('eq_token',['TCS','WIPRO','AXISBANK'])"
   ]
  },
  {
   "cell_type": "markdown",
   "metadata": {},
   "source": [
    "#### Peek into OHLC buffer"
   ]
  },
  {
   "cell_type": "code",
   "execution_count": null,
   "metadata": {},
   "outputs": [],
   "source": [
    "live_cache.getOHLC('WIPRO') "
   ]
  },
  {
   "cell_type": "markdown",
   "metadata": {},
   "source": [
    "#### msgBufferQueue Monitoring"
   ]
  },
  {
   "cell_type": "code",
   "execution_count": 14,
   "metadata": {},
   "outputs": [
    {
     "data": {
      "text/plain": [
       "('1589429309951-0',\n",
       " {'data': '[{\"tradable\": true, \"mode\": \"ltp\", \"instrument_token\": 177665, \"last_price\": 568.45}]'})"
      ]
     },
     "execution_count": 14,
     "metadata": {},
     "output_type": "execute_result"
    }
   ],
   "source": [
    "live_cache.xrange('msgBufferQueuelive')[-1]"
   ]
  },
  {
   "cell_type": "code",
   "execution_count": 51,
   "metadata": {},
   "outputs": [
    {
     "data": {
      "text/plain": [
       "datetime.datetime(2020, 5, 14, 15, 4, 32, 410000)"
      ]
     },
     "execution_count": 51,
     "metadata": {},
     "output_type": "execute_result"
    }
   ],
   "source": [
    "datetime.fromtimestamp(int(live_cache.xrange('msgBufferQueuelive')[-1][0].split('-')[0] )/1000)"
   ]
  },
  {
   "cell_type": "code",
   "execution_count": 49,
   "metadata": {},
   "outputs": [
    {
     "name": "stderr",
     "output_type": "stream",
     "text": [
      "2020-05-14 15:02:10,275 DEBUG:\tfreedom.log\n",
      "2020-05-14 15:02:10,275 DEBUG:\tfreedom.log\n"
     ]
    },
    {
     "data": {
      "text/plain": [
       "datetime.datetime(2020, 5, 14, 9, 26, 20, 968000)"
      ]
     },
     "execution_count": 49,
     "metadata": {},
     "output_type": "execute_result"
    }
   ],
   "source": [
    "datetime.fromtimestamp(1589428580968/1000)"
   ]
  },
  {
   "cell_type": "code",
   "execution_count": 166,
   "metadata": {},
   "outputs": [
    {
     "data": {
      "text/html": [
       "<div>\n",
       "<style scoped>\n",
       "    .dataframe tbody tr th:only-of-type {\n",
       "        vertical-align: middle;\n",
       "    }\n",
       "\n",
       "    .dataframe tbody tr th {\n",
       "        vertical-align: top;\n",
       "    }\n",
       "\n",
       "    .dataframe thead th {\n",
       "        text-align: right;\n",
       "    }\n",
       "</style>\n",
       "<table border=\"1\" class=\"dataframe\">\n",
       "  <thead>\n",
       "    <tr style=\"text-align: right;\">\n",
       "      <th></th>\n",
       "      <th>close</th>\n",
       "      <th>high</th>\n",
       "      <th>low</th>\n",
       "      <th>open</th>\n",
       "    </tr>\n",
       "  </thead>\n",
       "  <tbody>\n",
       "    <tr>\n",
       "      <th>2020-05-14 12:57:00</th>\n",
       "      <td>186.20</td>\n",
       "      <td>186.50</td>\n",
       "      <td>186.20</td>\n",
       "      <td>186.50</td>\n",
       "    </tr>\n",
       "    <tr>\n",
       "      <th>2020-05-14 12:58:00</th>\n",
       "      <td>186.25</td>\n",
       "      <td>186.35</td>\n",
       "      <td>186.05</td>\n",
       "      <td>186.20</td>\n",
       "    </tr>\n",
       "    <tr>\n",
       "      <th>2020-05-14 12:59:00</th>\n",
       "      <td>186.20</td>\n",
       "      <td>186.30</td>\n",
       "      <td>186.10</td>\n",
       "      <td>186.25</td>\n",
       "    </tr>\n",
       "    <tr>\n",
       "      <th>2020-05-14 13:00:00</th>\n",
       "      <td>186.10</td>\n",
       "      <td>186.20</td>\n",
       "      <td>186.05</td>\n",
       "      <td>186.20</td>\n",
       "    </tr>\n",
       "    <tr>\n",
       "      <th>2020-05-14 13:01:00</th>\n",
       "      <td>186.40</td>\n",
       "      <td>186.40</td>\n",
       "      <td>186.10</td>\n",
       "      <td>186.10</td>\n",
       "    </tr>\n",
       "  </tbody>\n",
       "</table>\n",
       "</div>"
      ],
      "text/plain": [
       "                      close    high     low    open\n",
       "2020-05-14 12:57:00  186.20  186.50  186.20  186.50\n",
       "2020-05-14 12:58:00  186.25  186.35  186.05  186.20\n",
       "2020-05-14 12:59:00  186.20  186.30  186.10  186.25\n",
       "2020-05-14 13:00:00  186.10  186.20  186.05  186.20\n",
       "2020-05-14 13:01:00  186.40  186.40  186.10  186.10"
      ]
     },
     "execution_count": 166,
     "metadata": {},
     "output_type": "execute_result"
    }
   ],
   "source": [
    "live_cache.getOHLC('WIPRO').tail()"
   ]
  },
  {
   "cell_type": "markdown",
   "metadata": {},
   "source": [
    "##### Monitor: OHLC Tick Handler"
   ]
  },
  {
   "cell_type": "code",
   "execution_count": 177,
   "metadata": {},
   "outputs": [
    {
     "name": "stdout",
     "output_type": "stream",
     "text": [
      "1589429750492-0\n"
     ]
    },
    {
     "data": {
      "text/plain": [
       "datetime.datetime(2020, 5, 14, 9, 45, 50, 492000)"
      ]
     },
     "execution_count": 177,
     "metadata": {},
     "output_type": "execute_result"
    }
   ],
   "source": [
    "val = live_cache.get('last_id_msg')\n",
    "print(val)\n",
    "datetime.fromtimestamp(int(val.split('-')[0] )/1000)"
   ]
  },
  {
   "cell_type": "code",
   "execution_count": 107,
   "metadata": {},
   "outputs": [
    {
     "data": {
      "text/plain": [
       "0"
      ]
     },
     "execution_count": 107,
     "metadata": {},
     "output_type": "execute_result"
    }
   ],
   "source": [
    "# Reset last_processed msg\n",
    "live_cache.setValue('WIPRO','last_processed',0)"
   ]
  },
  {
   "cell_type": "code",
   "execution_count": 159,
   "metadata": {},
   "outputs": [
    {
     "name": "stdout",
     "output_type": "stream",
     "text": [
      "1589441430648-0\n"
     ]
    },
    {
     "data": {
      "text/plain": [
       "[['msgBufferQueuelive',\n",
       "  [('1589441431260-0',\n",
       "    {'data': '[{\"tradable\": true, \"mode\": \"ltp\", \"instrument_token\": 969473, \"last_price\": 186.1}, {\"tradable\": true, \"mode\": \"ltp\", \"instrument_token\": 177665, \"last_price\": 571.0}]'})]]]"
      ]
     },
     "execution_count": 159,
     "metadata": {},
     "output_type": "execute_result"
    }
   ],
   "source": [
    "# Timestamp to ID\n",
    "timestamp_to_id = lambda x:str(int(float(x)*1000))+'-'+str(0)\n",
    "id_val = timestamp_to_id(live_cache.getValue('WIPRO','last_processed'))\n",
    "print(id_val)\n",
    "live_cache.xread({'msgBufferQueuelive':id_val}, count=1)"
   ]
  },
  {
   "cell_type": "code",
   "execution_count": 158,
   "metadata": {},
   "outputs": [
    {
     "name": "stdout",
     "output_type": "stream",
     "text": [
      "1589441430.648\n"
     ]
    },
    {
     "data": {
      "text/plain": [
       "datetime.datetime(2020, 5, 14, 13, 0, 30, 648000)"
      ]
     },
     "execution_count": 158,
     "metadata": {},
     "output_type": "execute_result"
    }
   ],
   "source": [
    "# Peek into the last msg processed by tick handler\n",
    "print(live_cache.getValue('WIPRO','last_processed'))\n",
    "datetime.fromtimestamp(float(live_cache.getValue('WIPRO','last_processed')))"
   ]
  },
  {
   "cell_type": "markdown",
   "metadata": {},
   "source": [
    "### Update Redis with Instrument list"
   ]
  },
  {
   "cell_type": "markdown",
   "metadata": {},
   "source": [
    "##### Download fresh data and store in cache"
   ]
  },
  {
   "cell_type": "code",
   "execution_count": null,
   "metadata": {},
   "outputs": [],
   "source": [
    "instruments_df = pd.DataFrame(kite.instruments())"
   ]
  },
  {
   "cell_type": "code",
   "execution_count": null,
   "metadata": {},
   "outputs": [],
   "source": [
    "instruments_df.to_hdf('data/instruments.h5',key='instruments')"
   ]
  },
  {
   "cell_type": "code",
   "execution_count": null,
   "metadata": {},
   "outputs": [],
   "source": [
    "instruments_df.columns"
   ]
  },
  {
   "cell_type": "code",
   "execution_count": null,
   "metadata": {},
   "outputs": [],
   "source": [
    "eq_nse = instruments_df.loc[(instruments_df['exchange']=='NSE') & (instruments_df['segment']=='NSE')  & (instruments_df['instrument_type']=='EQ'), ['instrument_token','tradingsymbol']]"
   ]
  },
  {
   "cell_type": "code",
   "execution_count": null,
   "metadata": {},
   "outputs": [],
   "source": [
    "eq_nse.loc[eq_nse['tradingsymbol'].isin(['TCS','WIPRO']),'instrument_token'].values"
   ]
  },
  {
   "cell_type": "markdown",
   "metadata": {},
   "source": [
    "##### Use cache"
   ]
  },
  {
   "cell_type": "code",
   "execution_count": null,
   "metadata": {},
   "outputs": [],
   "source": [
    "instruments_df = pd.read_hdf('data/instruments.h5',key='instruments')"
   ]
  },
  {
   "cell_type": "code",
   "execution_count": null,
   "metadata": {},
   "outputs": [],
   "source": [
    "instruments_df"
   ]
  },
  {
   "cell_type": "code",
   "execution_count": null,
   "metadata": {},
   "outputs": [],
   "source": [
    "eq_nse = instruments_df.loc[(instruments_df['exchange']=='NSE') & (instruments_df['segment']=='NSE')  & (instruments_df['instrument_type']=='EQ'), ['instrument_token','tradingsymbol']]"
   ]
  },
  {
   "cell_type": "code",
   "execution_count": null,
   "metadata": {},
   "outputs": [],
   "source": [
    "eq_nse.loc[eq_nse['tradingsymbol'].isin(['TCS','WIPRO']),:].values\n",
    "\n",
    "eq_nse.set_index('instrument_token')"
   ]
  },
  {
   "cell_type": "code",
   "execution_count": null,
   "metadata": {},
   "outputs": [],
   "source": [
    "live_cache.delete('eq_token')"
   ]
  },
  {
   "cell_type": "code",
   "execution_count": null,
   "metadata": {},
   "outputs": [],
   "source": [
    "eq_nse.head().to_dict(orient='records')"
   ]
  },
  {
   "cell_type": "code",
   "execution_count": null,
   "metadata": {},
   "outputs": [],
   "source": [
    "eq_nse.head().set_index('tradingsymbol').transpose().to_dict(orient='records')"
   ]
  },
  {
   "cell_type": "code",
   "execution_count": null,
   "metadata": {},
   "outputs": [],
   "source": [
    "eq_nse.head().set_index('instrument_token').transpose().to_dict(orient='records')[0]"
   ]
  },
  {
   "cell_type": "markdown",
   "metadata": {},
   "source": [
    "##### Update redis with tokens"
   ]
  },
  {
   "cell_type": "code",
   "execution_count": null,
   "metadata": {},
   "outputs": [],
   "source": [
    "live_cache.hmset('eq_token',eq_nse.set_index('instrument_token').transpose().to_dict(orient='records')[0])\n",
    "live_cache.hmset('eq_token',eq_nse.set_index('tradingsymbol').transpose().to_dict(orient='records')[0])"
   ]
  },
  {
   "cell_type": "code",
   "execution_count": null,
   "metadata": {},
   "outputs": [],
   "source": [
    "live_cache.hmget('eq_token',['TCS','WIPRO'])"
   ]
  },
  {
   "cell_type": "code",
   "execution_count": null,
   "metadata": {},
   "outputs": [],
   "source": [
    "live_cache.hgetall('eq_token')"
   ]
  },
  {
   "cell_type": "code",
   "execution_count": null,
   "metadata": {},
   "outputs": [],
   "source": [
    "live_cache.hmget('eq_token',[2953217, 969473])"
   ]
  }
 ],
 "metadata": {
  "kernelspec": {
   "display_name": "Python 3",
   "language": "python",
   "name": "python3"
  },
  "language_info": {
   "codemirror_mode": {
    "name": "ipython",
    "version": 3
   },
   "file_extension": ".py",
   "mimetype": "text/x-python",
   "name": "python",
   "nbconvert_exporter": "python",
   "pygments_lexer": "ipython3",
   "version": "3.7.7"
  }
 },
 "nbformat": 4,
 "nbformat_minor": 4
}
