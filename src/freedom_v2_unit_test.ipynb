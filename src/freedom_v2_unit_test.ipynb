{
 "cells": [
  {
   "cell_type": "code",
   "execution_count": 1,
   "metadata": {},
   "outputs": [],
   "source": [
    "%load_ext autoreload\n",
    "%autoreload 2\n",
    "#from lib.multitasking_lib import *"
   ]
  },
  {
   "cell_type": "code",
   "execution_count": 50,
   "metadata": {
    "scrolled": false
   },
   "outputs": [
    {
     "name": "stderr",
     "output_type": "stream",
     "text": [
      "INFO:\tCache Pointing to: backtest_uni\n"
     ]
    },
    {
     "name": "stdout",
     "output_type": "stream",
     "text": [
      "True\n",
      "[]\n",
      "[<Process(Process-14, started)>]\n"
     ]
    },
    {
     "name": "stderr",
     "output_type": "stream",
     "text": [
      "INFO:\tCache Pointing to: backtest_uni\n",
      "INFO:\tStarting Handler: kite_simulator\n",
      "INFO:\tStarting Handler: ohlc_tick_handler\n",
      "DEBUG:\tkite_simulator: 1\n",
      "DEBUG:\tohlc_tick_handler: 1\n",
      "ERROR:\tkite_simulator: Invalid msg: 1\n",
      "DEBUG:\tkite_simulator: {\"stock\": [\"TCS\", \"WIPRO\"], \"sl\": 1, \"target\": 1, \"qty\": 10, \"algo\": \"haikin_1_new\", \"fromDate\": \"2019-4-8\", \"toDate\": \"2019-4-9\", \"freq\": \"1T\", \"mode\": \"full\"}\n",
      "DEBUG:\tTrade_init: TCS\n",
      "INFO:\tTCSbacktest_uni=>{'stock': 'TCS', 'qty': '0', 'SL %': '0.0', 'TP %': '0.0', 'amount': '0', 'price': '0.0', 'P&L': '0.0', 'P&L %': '0.0', 'Total P&L': '0.0', 'Total P&L %': '0.0', 'low': '0.0', 'sl': '0.0', 'ltp': '0.0', 'ltp %': '0.0', 'tp': '0.0', 'high': '0.0', 'last_processed': '1999-01-01', 'state': 'INIT', 'mode': 'PAUSE', 'algo': '', 'freq': '1D', 'hdf_freq': 'day'}\n",
      "DEBUG:\tTrade_init: WIPRO\n",
      "INFO:\tWIPRObacktest_uni=>{'stock': 'WIPRO', 'qty': '0', 'SL %': '0.0', 'TP %': '0.0', 'amount': '0', 'price': '0.0', 'P&L': '0.0', 'P&L %': '0.0', 'Total P&L': '0.0', 'Total P&L %': '0.0', 'low': '0.0', 'sl': '0.0', 'ltp': '0.0', 'ltp %': '0.0', 'tp': '0.0', 'high': '0.0', 'last_processed': '1999-01-01', 'state': 'INIT', 'mode': 'PAUSE', 'algo': '', 'freq': '1D', 'hdf_freq': 'day'}\n",
      "INFO:\tRunning Full Backtest\n",
      "DEBUG:\tohlc_tick_handler: start\n",
      "TRADE: S: EN:  : 2019-04-08 09:44 : WIPRO -> 263.5\n",
      "TRADE: S: EN:  : 2019-04-08 09:44 : TCS -> 2041.7\n",
      "TRADE: B: EX:  : 2019-04-08 09:46 : WIPRO -> 263.5\n",
      "TRADE: B: EX:  : 2019-04-08 09:51 : TCS -> 2036.2\n",
      "TRADE: B: EN:  : 2019-04-08 09:52 : WIPRO -> 262.5\n",
      "TRADE: S: EX:  : 2019-04-08 09:56 : WIPRO -> 262.9\n",
      "TRADE: B: EN:  : 2019-04-08 10:00 : WIPRO -> 262.75\n",
      "TRADE: B: EN:  : 2019-04-08 10:03 : TCS -> 2042.1\n",
      "TRADE: S: EX:  : 2019-04-08 10:07 : TCS -> 2043.05\n",
      "TRADE: S: EX:  : 2019-04-08 10:09 : WIPRO -> 263.55\n",
      "TRADE: B: EN:  : 2019-04-08 10:10 : TCS -> 2047.0\n",
      "TRADE: B: EN:  : 2019-04-08 10:11 : WIPRO -> 263.55\n",
      "TRADE: S: EX:  : 2019-04-08 10:13 : TCS -> 2045.7\n",
      "TRADE: S: EX:  : 2019-04-08 10:13 : WIPRO -> 263.25\n",
      "TRADE: B: EN:  : 2019-04-08 10:17 : WIPRO -> 263.35\n",
      "TRADE: B: EN:  : 2019-04-08 10:18 : TCS -> 2044.95\n",
      "TRADE: S: EX:  : 2019-04-08 10:20 : TCS -> 2045.45\n",
      "TRADE: S: EX:  : 2019-04-08 10:20 : WIPRO -> 263.0\n",
      "TRADE: B: EN:  : 2019-04-08 10:23 : TCS -> 2043.0\n",
      "TRADE: B: EN:  : 2019-04-08 10:23 : WIPRO -> 262.95\n",
      "TRADE: S: EX:  : 2019-04-08 10:24 : WIPRO -> 262.9\n",
      "TRADE: S: EX:  : 2019-04-08 10:26 : TCS -> 2043.2\n",
      "TRADE: B: EN:  : 2019-04-08 10:28 : TCS -> 2042.95\n",
      "TRADE: S: EX:  : 2019-04-08 10:29 : TCS -> 2042.05\n",
      "TRADE: S: EN:  : 2019-04-08 10:29 : WIPRO -> 263.3\n",
      "TRADE: B: EN:  : 2019-04-08 10:33 : TCS -> 2042.55\n",
      "TRADE: B: EX:  : 2019-04-08 10:33 : WIPRO -> 263.1\n",
      "TRADE: S: EX:  : 2019-04-08 10:36 : TCS -> 2044.15\n",
      "TRADE: S: EN:  : 2019-04-08 10:36 : WIPRO -> 263.2\n",
      "TRADE: S: EN:  : 2019-04-08 10:39 : TCS -> 2045.7\n",
      "TRADE: B: EX:  : 2019-04-08 10:40 : TCS -> 2047.0\n",
      "TRADE: B: EX:  : 2019-04-08 10:41 : WIPRO -> 263.35\n",
      "TRADE: S: EN:  : 2019-04-08 10:44 : WIPRO -> 263.5\n",
      "TRADE: B: EX:  : 2019-04-08 10:45 : WIPRO -> 263.5\n",
      "TRADE: S: EN:  : 2019-04-08 10:46 : TCS -> 2053.5\n",
      "TRADE: B: EX:  : 2019-04-08 10:47 : TCS -> 2055.0\n",
      "TRADE: S: EN:  : 2019-04-08 10:48 : WIPRO -> 263.7\n",
      "TRADE: S: EN:  : 2019-04-08 10:49 : TCS -> 2051.0\n",
      "TRADE: B: EX:  : 2019-04-08 10:52 : WIPRO -> 263.75\n",
      "TRADE: B: EX:  : 2019-04-08 10:54 : TCS -> 2051.55\n",
      "TRADE: S: EN:  : 2019-04-08 10:54 : WIPRO -> 263.45\n",
      "TRADE: B: EX:  : 2019-04-08 10:56 : WIPRO -> 263.5\n",
      "TRADE: S: EN:  : 2019-04-08 11:00 : TCS -> 2056.0\n",
      "TRADE: S: EN:  : 2019-04-08 11:00 : WIPRO -> 263.9\n",
      "TRADE: B: EX:  : 2019-04-08 11:01 : TCS -> 2057.05\n",
      "TRADE: B: EX:  : 2019-04-08 11:03 : WIPRO -> 263.8\n",
      "TRADE: B: EN:  : 2019-04-08 11:04 : TCS -> 2056.75\n",
      "TRADE: S: EN:  : 2019-04-08 11:05 : WIPRO -> 263.7\n",
      "TRADE: S: EX:  : 2019-04-08 11:06 : TCS -> 2055.5\n",
      "TRADE: B: EN:  : 2019-04-08 11:12 : TCS -> 2054.0\n",
      "TRADE: S: EX:  : 2019-04-08 11:13 : TCS -> 2050.95\n",
      "TRADE: B: EN:  : 2019-04-08 11:15 : TCS -> 2052.1\n",
      "TRADE: S: EX:  : 2019-04-08 11:16 : TCS -> 2051.5\n",
      "TRADE: B: EN:  : 2019-04-08 11:18 : TCS -> 2052.0\n",
      "TRADE: B: EX:  : 2019-04-08 11:18 : WIPRO -> 262.85\n",
      "TRADE: B: EN:  : 2019-04-08 11:20 : WIPRO -> 263.1\n",
      "TRADE: S: EX:  : 2019-04-08 11:21 : TCS -> 2051.7\n",
      "TRADE: S: EX:  : 2019-04-08 11:22 : WIPRO -> 263.0\n",
      "TRADE: B: EN:  : 2019-04-08 11:27 : WIPRO -> 263.1\n",
      "TRADE: S: EN:  : 2019-04-08 11:28 : TCS -> 2054.85\n",
      "TRADE: B: EX:  : 2019-04-08 11:31 : TCS -> 2054.35\n",
      "TRADE: S: EX:  : 2019-04-08 11:31 : WIPRO -> 263.1\n",
      "TRADE: B: EN:  : 2019-04-08 11:33 : TCS -> 2054.55\n",
      "TRADE: B: EN:  : 2019-04-08 11:36 : WIPRO -> 263.3\n",
      "TRADE: S: EX:  : 2019-04-08 11:37 : TCS -> 2057.35\n",
      "TRADE: S: EX:  : 2019-04-08 11:38 : WIPRO -> 263.2\n",
      "TRADE: B: EN:  : 2019-04-08 11:40 : WIPRO -> 263.2\n",
      "TRADE: B: EN:  : 2019-04-08 11:41 : TCS -> 2058.0\n",
      "TRADE: S: EX:  : 2019-04-08 11:43 : TCS -> 2057.45\n",
      "TRADE: S: EN:  : 2019-04-08 11:45 : TCS -> 2055.0\n",
      "TRADE: S: EX:  : 2019-04-08 11:45 : WIPRO -> 263.25\n",
      "TRADE: S: EN:  : 2019-04-08 11:48 : WIPRO -> 263.35\n",
      "TRADE: B: EX:  : 2019-04-08 11:49 : WIPRO -> 263.5\n",
      "TRADE: B: EN:  : 2019-04-08 11:52 : WIPRO -> 263.3\n",
      "TRADE: S: EX:  : 2019-04-08 11:53 : WIPRO -> 263.15\n",
      "TRADE: B: EX:  : 2019-04-08 11:54 : TCS -> 2052.4\n",
      "TRADE: B: EN:  : 2019-04-08 11:56 : WIPRO -> 263.25\n",
      "TRADE: S: EX:  : 2019-04-08 11:58 : WIPRO -> 263.05\n",
      "TRADE: B: EN:  : 2019-04-08 12:04 : WIPRO -> 262.95\n",
      "TRADE: B: EN:  : 2019-04-08 12:04 : TCS -> 2053.25\n",
      "TRADE: S: EX:  : 2019-04-08 12:05 : TCS -> 2052.55\n",
      "TRADE: S: EX:  : 2019-04-08 12:06 : WIPRO -> 262.75\n",
      "TRADE: B: EN:  : 2019-04-08 12:10 : TCS -> 2052.55\n",
      "TRADE: B: EN:  : 2019-04-08 12:11 : WIPRO -> 262.5\n",
      "TRADE: S: EX:  : 2019-04-08 12:13 : TCS -> 2051.85\n",
      "TRADE: S: EX:  : 2019-04-08 12:13 : WIPRO -> 262.5\n",
      "TRADE: B: EN:  : 2019-04-08 12:15 : WIPRO -> 262.45\n",
      "TRADE: S: EX:  : 2019-04-08 12:16 : WIPRO -> 262.5\n",
      "TRADE: S: EN:  : 2019-04-08 12:18 : WIPRO -> 262.25\n",
      "TRADE: B: EX:  : 2019-04-08 12:20 : WIPRO -> 262.35\n",
      "TRADE: B: EN:  : 2019-04-08 12:21 : TCS -> 2049.95\n",
      "TRADE: S: EN:  : 2019-04-08 12:23 : WIPRO -> 262.2\n",
      "TRADE: S: EX:  : 2019-04-08 12:26 : TCS -> 2050.9\n",
      "TRADE: B: EN:  : 2019-04-08 12:29 : TCS -> 2050.45\n",
      "TRADE: B: EX:  : 2019-04-08 12:29 : WIPRO -> 262.4\n",
      "TRADE: S: EX:  : 2019-04-08 12:30 : TCS -> 2050.0\n",
      "TRADE: S: EN:  : 2019-04-08 12:35 : WIPRO -> 262.6\n",
      "TRADE: S: EN:  : 2019-04-08 12:36 : TCS -> 2051.0\n",
      "TRADE: B: EX:  : 2019-04-08 12:36 : WIPRO -> 262.75\n",
      "TRADE: B: EX:  : 2019-04-08 12:37 : TCS -> 2052.25\n",
      "TRADE: S: EN:  : 2019-04-08 12:39 : TCS -> 2050.5\n",
      "TRADE: B: EN:  : 2019-04-08 12:42 : WIPRO -> 262.5\n",
      "TRADE: B: EX:  : 2019-04-08 12:44 : TCS -> 2049.15\n",
      "TRADE: S: EX:  : 2019-04-08 12:46 : WIPRO -> 262.45\n",
      "TRADE: S: EN:  : 2019-04-08 12:47 : TCS -> 2049.6\n",
      "TRADE: B: EN:  : 2019-04-08 12:50 : WIPRO -> 262.55\n",
      "TRADE: S: EX:  : 2019-04-08 12:52 : WIPRO -> 262.45\n",
      "TRADE: B: EX:  : 2019-04-08 12:54 : TCS -> 2048.2\n",
      "TRADE: B: EN:  : 2019-04-08 12:55 : WIPRO -> 262.4\n",
      "TRADE: B: EN:  : 2019-04-08 13:05 : TCS -> 2053.25\n",
      "TRADE: S: EX:  : 2019-04-08 13:06 : TCS -> 2051.55\n",
      "TRADE: S: EX:  : 2019-04-08 13:06 : WIPRO -> 262.75\n",
      "TRADE: B: EN:  : 2019-04-08 13:08 : WIPRO -> 262.75\n",
      "TRADE: B: EN:  : 2019-04-08 13:09 : TCS -> 2051.7\n",
      "TRADE: S: EX:  : 2019-04-08 13:09 : WIPRO -> 262.7\n",
      "TRADE: S: EX:  : 2019-04-08 13:13 : TCS -> 2055.1\n",
      "TRADE: S: EN:  : 2019-04-08 13:15 : TCS -> 2054.0\n",
      "TRADE: B: EX:  : 2019-04-08 13:18 : TCS -> 2055.0\n",
      "TRADE: B: EN:  : 2019-04-08 13:18 : WIPRO -> 262.55\n",
      "TRADE: B: EN:  : 2019-04-08 13:21 : TCS -> 2054.9\n",
      "TRADE: S: EX:  : 2019-04-08 13:24 : TCS -> 2054.3\n",
      "TRADE: S: EX:  : 2019-04-08 13:24 : WIPRO -> 262.45\n",
      "TRADE: B: EN:  : 2019-04-08 13:26 : TCS -> 2055.0\n",
      "TRADE: S: EN:  : 2019-04-08 13:26 : WIPRO -> 262.35\n",
      "TRADE: S: EX:  : 2019-04-08 13:28 : TCS -> 2053.95\n",
      "TRADE: B: EN:  : 2019-04-08 13:31 : TCS -> 2053.9\n",
      "TRADE: B: EX:  : 2019-04-08 13:32 : WIPRO -> 261.75\n",
      "TRADE: S: EX:  : 2019-04-08 13:33 : TCS -> 2054.0\n",
      "TRADE: S: EN:  : 2019-04-08 13:34 : WIPRO -> 261.5\n",
      "TRADE: B: EN:  : 2019-04-08 13:38 : TCS -> 2051.8\n",
      "TRADE: S: EX:  : 2019-04-08 13:39 : TCS -> 2051.0\n",
      "TRADE: B: EX:  : 2019-04-08 13:40 : WIPRO -> 261.3\n",
      "TRADE: B: EN:  : 2019-04-08 13:43 : WIPRO -> 261.35\n",
      "TRADE: S: EX:  : 2019-04-08 13:46 : WIPRO -> 261.35\n",
      "TRADE: B: EN:  : 2019-04-08 13:48 : WIPRO -> 261.5\n",
      "TRADE: S: EX:  : 2019-04-08 13:49 : WIPRO -> 261.3\n"
     ]
    },
    {
     "name": "stderr",
     "output_type": "stream",
     "text": [
      "TRADE: B: EN:  : 2019-04-08 13:50 : TCS -> 2054.75\n",
      "TRADE: S: EN:  : 2019-04-08 13:52 : WIPRO -> 261.55\n",
      "TRADE: B: EX:  : 2019-04-08 13:53 : WIPRO -> 261.65\n",
      "TRADE: S: EX:  : 2019-04-08 13:55 : TCS -> 2057.75\n",
      "TRADE: S: EN:  : 2019-04-08 13:55 : WIPRO -> 261.7\n",
      "TRADE: B: EN:  : 2019-04-08 13:57 : TCS -> 2058.0\n",
      "TRADE: S: EX:  : 2019-04-08 13:58 : TCS -> 2057.7\n",
      "TRADE: B: EN:  : 2019-04-08 14:00 : TCS -> 2058.75\n",
      "TRADE: B: EX:  : 2019-04-08 14:01 : WIPRO -> 261.5\n",
      "TRADE: S: EX:  : 2019-04-08 14:04 : TCS -> 2066.0\n",
      "TRADE: S: EN:  : 2019-04-08 14:07 : TCS -> 2066.85\n",
      "TRADE: S: EN:  : 2019-04-08 14:08 : WIPRO -> 262.35\n",
      "TRADE: B: EX:  : 2019-04-08 14:09 : WIPRO -> 262.4\n",
      "TRADE: S: EN:  : 2019-04-08 14:11 : WIPRO -> 262.3\n",
      "TRADE: B: EX:  : 2019-04-08 14:15 : WIPRO -> 262.25\n",
      "TRADE: B: EX:  : 2019-04-08 14:16 : TCS -> 2059.0\n",
      "TRADE: S: EN:  : 2019-04-08 14:19 : TCS -> 2060.35\n",
      "TRADE: S: EN:  : 2019-04-08 14:19 : WIPRO -> 262.4\n",
      "TRADE: B: EX:  : 2019-04-08 14:22 : TCS -> 2059.95\n",
      "TRADE: B: EX:  : 2019-04-08 14:23 : WIPRO -> 262.2\n",
      "TRADE: B: EN:  : 2019-04-08 14:25 : TCS -> 2058.8\n",
      "TRADE: S: EX:  : 2019-04-08 14:27 : TCS -> 2057.1\n",
      "TRADE: B: EN:  : 2019-04-08 14:27 : WIPRO -> 262.1\n",
      "TRADE: S: EX:  : 2019-04-08 14:28 : WIPRO -> 261.9\n",
      "TRADE: S: EN:  : 2019-04-08 14:29 : TCS -> 2056.1\n",
      "TRADE: B: EN:  : 2019-04-08 14:30 : WIPRO -> 261.95\n",
      "TRADE: B: EX:  : 2019-04-08 14:31 : TCS -> 2060.0\n",
      "TRADE: S: EX:  : 2019-04-08 14:32 : WIPRO -> 261.8\n",
      "TRADE: S: EN:  : 2019-04-08 14:33 : TCS -> 2056.5\n",
      "TRADE: B: EN:  : 2019-04-08 14:34 : WIPRO -> 262.1\n",
      "TRADE: S: EX:  : 2019-04-08 14:35 : WIPRO -> 261.95\n",
      "TRADE: B: EX:  : 2019-04-08 14:38 : TCS -> 2057.05\n",
      "TRADE: S: EN:  : 2019-04-08 14:39 : WIPRO -> 261.95\n",
      "TRADE: S: EN:  : 2019-04-08 14:40 : TCS -> 2057.45\n",
      "TRADE: B: EX:  : 2019-04-08 14:41 : WIPRO -> 262.1\n",
      "TRADE: B: EX:  : 2019-04-08 14:41 : TCS -> 2062.2\n",
      "TRADE: S: EN:  : 2019-04-08 14:43 : WIPRO -> 262.05\n",
      "TRADE: S: EN:  : 2019-04-08 14:44 : TCS -> 2065.0\n",
      "TRADE: B: EX:  : 2019-04-08 14:45 : WIPRO -> 262.05\n",
      "TRADE: B: EX:  : 2019-04-08 14:48 : TCS -> 2063.95\n",
      "TRADE: S: EN:  : 2019-04-08 14:50 : WIPRO -> 262.7\n",
      "TRADE: B: EN:  : 2019-04-08 14:52 : TCS -> 2060.3\n",
      "TRADE: B: EX:  : 2019-04-08 14:52 : WIPRO -> 262.7\n",
      "TRADE: S: EX:  : 2019-04-08 14:56 : TCS -> 2060.05\n",
      "TRADE: S: EN:  : 2019-04-08 14:57 : WIPRO -> 262.85\n",
      "TRADE: B: EN:  : 2019-04-08 14:59 : TCS -> 2060.05\n",
      "INFO:\tKite_Simulator: Done: 1500\n",
      "TRADE: S: EX:  : 2019-04-08 15:07 : TCS -> 2066.1\n",
      "TRADE: B: EX:  : 2019-04-08 15:08 : WIPRO -> 263.55\n",
      "ERROR:\tProcessing done: 1501: ('1589201803224-0', {'data': '\"done\"'})\n"
     ]
    }
   ],
   "source": [
    "######################\n",
    "# Initiate Backtest  #\n",
    "######################\n",
    "from lib.multitasking_lib import *\n",
    "cache_type ='backtest_uni'\n",
    "my_cache = cache_state('backtest_uni')\n",
    "\n",
    "def store_algo(algo, algo_name=\"default\"):\n",
    "    redis_conn.hset(\"algos\",algo_name, algo)\n",
    "    algo_f = open(\"log/\"+algo_name+\".txt\", \"w\")\n",
    "    algo_f.write(algo)\n",
    "    algo_f.close()\n",
    "    \n",
    "#my_cache.flushall()\n",
    "def backtest_unitest(stocks, freq='1T',algo_name = 'haikin_1_new', fromDate='2019-4-8', toDate='2019-4-9', mode='full'):\n",
    "    stocks = stocks\n",
    "    sl = 1\n",
    "    target = 1\n",
    "    qty = 10\n",
    "    backtest_msg={'stock':stocks,'sl':sl,'target':target,'qty':qty,'algo':algo_name,'fromDate':fromDate,'toDate':toDate,'freq':freq, 'mode':mode}\n",
    "\n",
    "    # Step 4: Done is set to 0: Backtest is in progress, will be resetted by backtest job\n",
    "    redis_conn.set('done'+cache_type,0)\n",
    "    # Step 5: Send the msg to backtest thread to initiate the back test\n",
    "    #pdebug(json.dumps(backtest_msg))\n",
    "    redis_conn.publish('kite_simulator'+cache_type,json.dumps(backtest_msg))\n",
    "    \n",
    "##########################\n",
    "# Unit Test              #\n",
    "##########################\n",
    "\n",
    "open('log/freedom.log','r+')\n",
    "#log_file.close()\n",
    "\n",
    "logger.setLevel(10)\n",
    "loggerT.setLevel(21)\n",
    "redis_conn.set('done'+cache_type,1)\n",
    "\n",
    "try:\n",
    "    if backtest_manager.job.is_alive():\n",
    "        backtest_manager.job.terminate()\n",
    "        time.sleep(0.1)\n",
    "except:\n",
    "    pass\n",
    "finally:\n",
    "    backtest_manager = threadManager(cache_type, [\"kite_simulator\",\"ohlc_tick_handler\"], [kite_simulator, ohlc_tick_handler])\n",
    "    \n",
    "print(backtest_manager.job.is_alive())\n",
    "print(redis_conn.pubsub_channels())\n",
    "print(jobs)\n"
   ]
  },
  {
   "cell_type": "code",
   "execution_count": 51,
   "metadata": {
    "scrolled": true
   },
   "outputs": [],
   "source": [
    "backtest_unitest(['TCS','WIPRO'])"
   ]
  },
  {
   "cell_type": "code",
   "execution_count": null,
   "metadata": {},
   "outputs": [],
   "source": []
  },
  {
   "cell_type": "code",
   "execution_count": 49,
   "metadata": {},
   "outputs": [
    {
     "name": "stdout",
     "output_type": "stream",
     "text": [
      "False\n",
      "[]\n"
     ]
    }
   ],
   "source": [
    "################################\n",
    "###         Stop Trade       ###\n",
    "################################\n",
    "\n",
    "my_cache.delete('msgBufferQueue'+cache_postfix)\n",
    "#my_cache.set('TCSbacktest_uniTICK',pd.DataFrame().to_json())\n",
    "\n",
    "if backtest_manager.job.is_alive():\n",
    "    backtest_manager.job.terminate()\n",
    "time.sleep(1)\n",
    "print(backtest_manager.job.is_alive())\n",
    "print(redis_conn.pubsub_channels())\n",
    "\n",
    "jobs\n",
    "jobs = []"
   ]
  },
  {
   "cell_type": "code",
   "execution_count": 43,
   "metadata": {},
   "outputs": [],
   "source": [
    "backtest_unitest(['TCS'])"
   ]
  },
  {
   "cell_type": "code",
   "execution_count": null,
   "metadata": {},
   "outputs": [],
   "source": [
    "backtest_unitest(['WIPRO','TCS'])"
   ]
  },
  {
   "cell_type": "code",
   "execution_count": null,
   "metadata": {},
   "outputs": [],
   "source": [
    "from lib.charting_lib import *\n",
    "cache_type = 'backtest_uni'\n",
    "chart_type ='haikin'\n",
    "\n",
    "symbol='TCS'\n",
    "my_cache = cache_state(cache_type)\n",
    "\n",
    "#######  Hack for freq  ############\n",
    "my_cache.setValue('TCS','freq','1T')\n",
    "#####################################\n",
    "dfohlc = my_cache.getOHLC(symbol)\n",
    "print(dfohlc.tail())\n",
    "trade_df = pd.read_json(redis_conn.get(symbol+cache_type+'Trade'), orient='columns')\n",
    "\n",
    "render_charts(dfohlc, trade_df, symbol, chart_type)"
   ]
  },
  {
   "cell_type": "code",
   "execution_count": 53,
   "metadata": {},
   "outputs": [
    {
     "name": "stderr",
     "output_type": "stream",
     "text": [
      "INFO:\tCache Pointing to: backtest_uni\n"
     ]
    },
    {
     "data": {
      "text/html": [
       "<div>\n",
       "<style scoped>\n",
       "    .dataframe tbody tr th:only-of-type {\n",
       "        vertical-align: middle;\n",
       "    }\n",
       "\n",
       "    .dataframe tbody tr th {\n",
       "        vertical-align: top;\n",
       "    }\n",
       "\n",
       "    .dataframe thead th {\n",
       "        text-align: right;\n",
       "    }\n",
       "</style>\n",
       "<table border=\"1\" class=\"dataframe\">\n",
       "  <thead>\n",
       "    <tr style=\"text-align: right;\">\n",
       "      <th></th>\n",
       "      <th>stock</th>\n",
       "      <th>qty</th>\n",
       "      <th>SL %</th>\n",
       "      <th>TP %</th>\n",
       "      <th>amount</th>\n",
       "      <th>price</th>\n",
       "      <th>P&amp;L</th>\n",
       "      <th>P&amp;L %</th>\n",
       "      <th>Total P&amp;L</th>\n",
       "      <th>Total P&amp;L %</th>\n",
       "      <th>...</th>\n",
       "      <th>ltp</th>\n",
       "      <th>ltp %</th>\n",
       "      <th>tp</th>\n",
       "      <th>high</th>\n",
       "      <th>last_processed</th>\n",
       "      <th>state</th>\n",
       "      <th>mode</th>\n",
       "      <th>algo</th>\n",
       "      <th>freq</th>\n",
       "      <th>hdf_freq</th>\n",
       "    </tr>\n",
       "  </thead>\n",
       "  <tbody>\n",
       "    <tr>\n",
       "      <th>0</th>\n",
       "      <td>TCS</td>\n",
       "      <td>10</td>\n",
       "      <td>1</td>\n",
       "      <td>1</td>\n",
       "      <td>20661.0</td>\n",
       "      <td>0</td>\n",
       "      <td>60.49999999999727</td>\n",
       "      <td>2.936821921797882</td>\n",
       "      <td>153.999999999985</td>\n",
       "      <td>0.7453656647789797</td>\n",
       "      <td>...</td>\n",
       "      <td>2073.6</td>\n",
       "      <td>0.0</td>\n",
       "      <td>0</td>\n",
       "      <td>2075.0</td>\n",
       "      <td>2019-04-08 15:29</td>\n",
       "      <td>SCANNING</td>\n",
       "      <td>PAUSE</td>\n",
       "      <td>haikin_1_new</td>\n",
       "      <td>1T</td>\n",
       "      <td>minute</td>\n",
       "    </tr>\n",
       "    <tr>\n",
       "      <th>1</th>\n",
       "      <td>WIPRO</td>\n",
       "      <td>10</td>\n",
       "      <td>1</td>\n",
       "      <td>1</td>\n",
       "      <td>2635.5</td>\n",
       "      <td>0</td>\n",
       "      <td>-6.999999999999886</td>\n",
       "      <td>-2.6631158455392376</td>\n",
       "      <td>-2.5000000000022737</td>\n",
       "      <td>-0.09485866059579867</td>\n",
       "      <td>...</td>\n",
       "      <td>263.6</td>\n",
       "      <td>0.0</td>\n",
       "      <td>0</td>\n",
       "      <td>264.6</td>\n",
       "      <td>2019-04-08 15:29</td>\n",
       "      <td>SCANNING</td>\n",
       "      <td>PAUSE</td>\n",
       "      <td>haikin_1_new</td>\n",
       "      <td>1T</td>\n",
       "      <td>minute</td>\n",
       "    </tr>\n",
       "  </tbody>\n",
       "</table>\n",
       "<p>2 rows × 22 columns</p>\n",
       "</div>"
      ],
      "text/plain": [
       "   stock qty SL % TP %   amount price                 P&L  \\\n",
       "0    TCS  10    1    1  20661.0     0   60.49999999999727   \n",
       "1  WIPRO  10    1    1   2635.5     0  -6.999999999999886   \n",
       "\n",
       "                 P&L %            Total P&L           Total P&L %  ...  \\\n",
       "0    2.936821921797882     153.999999999985    0.7453656647789797  ...   \n",
       "1  -2.6631158455392376  -2.5000000000022737  -0.09485866059579867  ...   \n",
       "\n",
       "      ltp ltp % tp    high    last_processed     state   mode          algo  \\\n",
       "0  2073.6   0.0  0  2075.0  2019-04-08 15:29  SCANNING  PAUSE  haikin_1_new   \n",
       "1   263.6   0.0  0   264.6  2019-04-08 15:29  SCANNING  PAUSE  haikin_1_new   \n",
       "\n",
       "  freq hdf_freq  \n",
       "0   1T   minute  \n",
       "1   1T   minute  \n",
       "\n",
       "[2 rows x 22 columns]"
      ]
     },
     "execution_count": 53,
     "metadata": {},
     "output_type": "execute_result"
    }
   ],
   "source": [
    "cache_state('backtest_uni').getValue()"
   ]
  },
  {
   "cell_type": "code",
   "execution_count": null,
   "metadata": {
    "scrolled": true
   },
   "outputs": [],
   "source": [
    "###########################################################\n",
    "###                  Quick Backtest                     ###\n",
    "###########################################################\n",
    "from talib import MACD, MACDEXT, RSI, BBANDS, MACD, AROON, STOCHF, ATR, OBV, ADOSC, MINUS_DI, PLUS_DI, ADX, EMA, SMA\n",
    "from talib import LINEARREG, BETA, LINEARREG_INTERCEPT, LINEARREG_SLOPE, STDDEV, TSF, ADOSC, VAR, ROC, MIN, MAX, MINMAX\n",
    "\n",
    "ohlc_get = lambda df, key: df.iloc[-1][key]\n",
    "def HAIKINASI(ohlc_data_df):\n",
    "    REF = lambda key, i: ohlc_get(ohlc_data_df.shift(i), key)\n",
    "    \n",
    "    OPEN  = ohlc_data_df['open']\n",
    "    HIGH  = ohlc_data_df['high']\n",
    "    LOW   = ohlc_data_df['low']\n",
    "    CLOSE = ohlc_data_df['close']\n",
    "    \n",
    "    haOPEN  = (OPEN.shift(1) + CLOSE.shift(1))/2\n",
    "    haHIGH  = pd.DataFrame([HIGH,OPEN,CLOSE]).max(axis = 0, skipna = True)\n",
    "    haLOW   = pd.DataFrame([LOW,OPEN,CLOSE]).min(axis = 0, skipna = True)\n",
    "    haCLOSE = (OPEN+HIGH+LOW+CLOSE)/4\n",
    "    \n",
    "    return (haOPEN, haHIGH, haLOW, haCLOSE)\n",
    "\n",
    "\n",
    "################ Load Data ###################\n",
    "from lib.charting_lib import *\n",
    "cache_type = 'backtest_uni'\n",
    "symbol='TCS'\n",
    "my_cache = cache_state(cache_type)\n",
    "\n",
    "###  Set Freq for Algo\n",
    "my_cache.setValue('TCS','freq','1T')\n",
    "dfohlc = my_cache.getOHLC(symbol)\n",
    "#print(dfohlc.head())\n",
    "\n",
    "### Load Data\n",
    "ohlc_data_temp = dfohlc\n",
    "pd.set_option('display.max_rows', None)\n",
    "################ Initialize Helper Functions ###################\n",
    "trade_df1 = pd.DataFrame()\n",
    "OPEN = ohlc_data_temp['open']\n",
    "CLOSE = ohlc_data_temp['close']\n",
    "HIGH = ohlc_data_temp['high']\n",
    "LOW = ohlc_data_temp['low']\n",
    "#VOLUME = ohlc_data_temp['volume']\n",
    "\n",
    "(haOPEN, haHIGH, haLOW, haCLOSE) = HAIKINASI(ohlc_data_temp)\n",
    "\n",
    "TIME = ohlc_data_temp.index[-1].minute+ohlc_data_temp.index[-1].hour*60\n",
    "\n",
    "#REF = lambda df, i: df.iloc[-i-1]\n",
    "REF = lambda df, i: df.shift(i)\n",
    "TREND_UP = lambda a,b: ROC(a, b) >= 0.1\n",
    "TREND_DOWN = lambda a,b: ROC(a, b) <= -0.1\n",
    "CROSSOVER = lambda a, b: (REF(a,1)<=REF(b,1)) & (a > b)\n",
    "\n",
    "\n",
    "def BUY(CLOSE, x, trade_df1):\n",
    "    #global trade_df1\n",
    "    tmp_df = pd.DataFrame()\n",
    "    tmp_df[\"buy\"] = CLOSE[x]\n",
    "    trade_df1 = trade_df1.append(tmp_df)\n",
    "    return trade_df1\n",
    "\n",
    "def SELL(CLOSE, x, trade_df1):\n",
    "    #global trade_df1\n",
    "    tmp_df = pd.DataFrame()\n",
    "    tmp_df[\"sell\"] = CLOSE[x]\n",
    "    trade_df1 = trade_df1.append(tmp_df)\n",
    "    return trade_df1\n",
    "    \n",
    "################# Write Algo For Backtest Here ###################\n",
    "\n",
    "#sell = (REF(haOPEN, 0) > REF(haCLOSE,0)) & (REF(haOPEN, 1) > REF(haCLOSE,1))\n",
    "#print(trade_df1)\n",
    "sell = (REF(haOPEN, 0) > REF(haCLOSE,0)) & (REF(haOPEN, 1) < REF(haCLOSE,1))\n",
    "buy = (REF(haOPEN, 0) < REF(haCLOSE,0)) & (REF(haOPEN, 1) > REF(haCLOSE,1))\n",
    "\n",
    "logic = buy | sell\n",
    "\n",
    "summary_df = trade_df1.copy(deep=True)\n",
    "#summary_df['haopen'] = haOPEN[ logic ]\n",
    "#summary_df['haclose'] = haCLOSE[ logic ]\n",
    "summary_df['roc'] = ROC(CLOSE, 30)[logic]\n",
    "\n",
    "#print(summary_df.sort_index())\n",
    "#print(summary_df.sort_index().tail(10))\n",
    "#print(ROC(CLOSE,3))\n",
    "#################### Render Charts ###############################\n",
    "\n",
    "trade_df1 = SELL(CLOSE, sell, trade_df1)\n",
    "trade_df1 = BUY(CLOSE, buy, trade_df1)\n",
    "\n",
    "#print(trade_df1.sort_index())\n",
    "my_cache.setCache(symbol+cache_type+'Trade',trade_df1)\n",
    "#my_cache.pushTrade(symbol, trade_df1)\n",
    "\n",
    "chart_type ='haikin'\n",
    "trade_df = pd.read_json(redis_conn.get(symbol+cache_type+'Trade'), orient='columns')\n",
    "\n",
    "render_charts(ohlc_data_temp, trade_df, symbol, chart_type)"
   ]
  },
  {
   "cell_type": "code",
   "execution_count": null,
   "metadata": {},
   "outputs": [],
   "source": [
    "cache_type = 'backtest_web'\n",
    "symbol='TCS'\n",
    "my_cache = cache_state(cache_type)\n",
    "my_cache.getTrades(symbol)\n",
    "\n",
    "my_cache.get('TCSbacktest_webTrades')"
   ]
  },
  {
   "cell_type": "code",
   "execution_count": null,
   "metadata": {},
   "outputs": [],
   "source": [
    "my_cache.getValue()"
   ]
  },
  {
   "cell_type": "code",
   "execution_count": null,
   "metadata": {
    "scrolled": false
   },
   "outputs": [],
   "source": [
    "temp_file = pd.HDFStore(\"data/kite_cache.h5\", mode=\"r\")\n",
    "temp_file.keys()"
   ]
  },
  {
   "cell_type": "code",
   "execution_count": null,
   "metadata": {},
   "outputs": [],
   "source": [
    "# Long Strategies\n",
    "def long_indicators(s):\n",
    "    temp_df = 0\n",
    "    #temp_df = temp_df | (REF(s.fastk,1) <=20)&(s.fastk>20)\n",
    "    #temp_df = temp_df | CROSSOVER(s.fastk, s.fastd)\n",
    "    #temp_df = temp_df | (REF(s.macd,1) <=0)&(s.macd>0)\n",
    "    #temp_df = temp_df | CROSSOVER(s.macd, s.macdsignal)\n",
    "    temp_df = temp_df | (REF(s.rsi,1) <=40)\n",
    "    #temp_df = temp_df | (s.CLOSE.shift(1) == s.min.shift(1)) & (s.CLOSE > s.OPEN)\n",
    "    #temp_df = temp_df & CROSSOVER(s.BBB, s.CLOSE)\n",
    "\n",
    "    return pd.DataFrame(  temp_df, columns=[\"buy\"] )\n",
    "\n",
    "# Short Strategies\n",
    "def short_indicators(s):\n",
    "    temp_df = 0\n",
    "    #temp_df = temp_df | (REF(s.fastk,1) >=80)&(s.fastk<80)\n",
    "    #temp_df = temp_df | CROSSOVER(s.fastd, s.fastk)\n",
    "    #temp_df = temp_df | (REF(s.macd,1) >=0)&(s.macd<0)\n",
    "    #temp_df = temp_df | CROSSOVER(s.macdsignal, s.macd)\n",
    "    temp_df = temp_df | (REF(s.rsi,1) >=60)\n",
    "    #temp_df = temp_df & CROSSOVER(s.CLOSE, s.BBT)\n",
    "    return pd.DataFrame( temp_df, columns=[\"sell\"])\n",
    "\n",
    "\n",
    "\n",
    "def long_breakout(s):\n",
    "    temp_df = s.haCLOSE >= s.BBT.shift(1)\n",
    "    temp_df = temp_df | (s.haCLOSE >= s.haOPEN.shift(2))\n",
    "    temp_df = temp_df & ( CROSSOVER(s.OPEN, s.BBT) | CROSSOVER(s.OPEN, s.BBB) | CROSSOVER(s.OPEN, s.BBM))\n",
    "    return pd.DataFrame( temp_df , columns=[\"buy\"])\n",
    "\n",
    "def short_breakout(s):\n",
    "    temp_df = s.haOPEN <= s.BBB.shift(1)\n",
    "    temp_df = temp_df | (s.haCLOSE <= s.haOPEN.shift(2))\n",
    "    temp_df = temp_df & ( CROSSOVER(s.BBT, s.OPEN) | CROSSOVER(s.BBB, s.OPEN) | CROSSOVER(s.BBM, s.OPEN))\n",
    "    return pd.DataFrame( temp_df , columns=[\"sell\"])\n",
    "\n",
    "def long_ha(s):\n",
    "    temp_df = (REF(s.haCLOSE,3) < REF(s.haOPEN,3)) & (REF(s.haCLOSE,2) < REF(s.haOPEN,2)) & (REF(s.haCLOSE,1) > REF(s.haOPEN,1)) & (s.haCLOSE > s.haOPEN)  \n",
    "    #temp_df = temp_df & (s.rsi < 40 )\n",
    "    return pd.DataFrame( temp_df , columns=[\"buy\"])\n",
    "\n",
    "def short_ha(s):\n",
    "    temp_df = (REF(s.haCLOSE,3) > REF(s.haOPEN,3)) & (REF(s.haCLOSE,2) > REF(s.haOPEN,2)) & (REF(s.haCLOSE,1) < REF(s.haOPEN,1)) & (s.haCLOSE < s.haOPEN)\n",
    "    #temp_df = temp_df & (s.rsi > 60 )\n",
    "    return pd.DataFrame( temp_df , columns=[\"sell\"])\n",
    "    \n"
   ]
  },
  {
   "cell_type": "markdown",
   "metadata": {},
   "source": [
    "## Redis Console"
   ]
  },
  {
   "cell_type": "code",
   "execution_count": null,
   "metadata": {},
   "outputs": [],
   "source": [
    "from redis import Redis\n",
    "import json\n",
    "\n",
    "conn = Redis(host='redis', port=6379, db=0, charset=\"utf-8\", decode_responses=True)"
   ]
  },
  {
   "cell_type": "code",
   "execution_count": null,
   "metadata": {},
   "outputs": [],
   "source": [
    "conn.xadd('msgBufferQueue',{'msg': 'next'})"
   ]
  },
  {
   "cell_type": "code",
   "execution_count": null,
   "metadata": {},
   "outputs": [],
   "source": []
  },
  {
   "cell_type": "code",
   "execution_count": null,
   "metadata": {
    "scrolled": true
   },
   "outputs": [],
   "source": [
    "pd.set_option('display.max_rows', 50)\n",
    "pd.read_json(conn.hget(stock+'_state','ohlc')).tail(50)"
   ]
  },
  {
   "cell_type": "code",
   "execution_count": null,
   "metadata": {},
   "outputs": [],
   "source": [
    "buy = pd.DataFrame()\n",
    "\n",
    "if buy.shape[0] > 0 and buy[-1]==True:\n",
    "    print('Yeah')"
   ]
  },
  {
   "cell_type": "code",
   "execution_count": null,
   "metadata": {},
   "outputs": [],
   "source": []
  },
  {
   "cell_type": "markdown",
   "metadata": {},
   "source": [
    "## Scratchpad"
   ]
  },
  {
   "cell_type": "code",
   "execution_count": null,
   "metadata": {},
   "outputs": [],
   "source": [
    "redis_conn.pubsub_channels()"
   ]
  },
  {
   "cell_type": "code",
   "execution_count": null,
   "metadata": {},
   "outputs": [],
   "source": [
    "my_cache = cache_state('backtest_uni')"
   ]
  },
  {
   "cell_type": "code",
   "execution_count": null,
   "metadata": {},
   "outputs": [],
   "source": [
    "df = my_cache.getValue()"
   ]
  },
  {
   "cell_type": "code",
   "execution_count": null,
   "metadata": {
    "scrolled": true
   },
   "outputs": [],
   "source": [
    "pd.set_option('display.max_rows', 1000)\n",
    "my_cache.getOHLC('TCS')"
   ]
  },
  {
   "cell_type": "code",
   "execution_count": null,
   "metadata": {},
   "outputs": [],
   "source": [
    "trades_df = my_cache.getTrades('TCS')\n",
    "trades_df"
   ]
  },
  {
   "cell_type": "code",
   "execution_count": null,
   "metadata": {},
   "outputs": [],
   "source": [
    "(total_profit, max_loss, max_profit, total_win, total_loss, max_winning_streak, max_loosing_streak, trade_log_df) = trade_analysis_raw(trades_df)"
   ]
  },
  {
   "cell_type": "code",
   "execution_count": null,
   "metadata": {},
   "outputs": [],
   "source": [
    "import pandas as pd\n",
    "import plotly\n",
    "import plotly.graph_objs as go\n",
    "from datetime import datetime as dt\n",
    "from datetime import timedelta\n",
    "from plotly.subplots import make_subplots\n",
    "import plotly.graph_objects as go\n",
    "\n",
    "from lib.multitasking_lib import *\n",
    "from plotly.offline import download_plotlyjs, init_notebook_mode, plot, iplot"
   ]
  },
  {
   "cell_type": "code",
   "execution_count": null,
   "metadata": {},
   "outputs": [],
   "source": [
    "# GetData\n",
    "\n",
    "logger.setLevel(logging.DEBUG)\n",
    "stock = 'WIPRO'\n",
    "fromDate = '2019-4-22'\n",
    "toDate  = '2019-4-24'\n",
    "freq = 'minute'\n",
    "mydate = fromDate\n",
    "exchange = 'NSE'\n",
    "ohlc_data = {}\n",
    "ohlc_data[stock] = getData(stock, fromDate, toDate, exchange, freq, False, stock)"
   ]
  },
  {
   "cell_type": "code",
   "execution_count": null,
   "metadata": {},
   "outputs": [],
   "source": [
    "ohlc_data[stock].head()"
   ]
  },
  {
   "cell_type": "code",
   "execution_count": null,
   "metadata": {},
   "outputs": [],
   "source": [
    "from lib.data_model_lib import *\n",
    "live_cache = cache_state('backtest_web')\n",
    "live_cache.getValue()\n",
    "#live_cache.getOHLC('TCS', '1D').head()"
   ]
  },
  {
   "cell_type": "code",
   "execution_count": 5,
   "metadata": {},
   "outputs": [
    {
     "name": "stderr",
     "output_type": "stream",
     "text": [
      "INFO:\tCache Pointing to: live\n"
     ]
    }
   ],
   "source": [
    "from lib.data_model_lib import *\n",
    "live_cache = cache_state('live')"
   ]
  },
  {
   "cell_type": "code",
   "execution_count": 3,
   "metadata": {},
   "outputs": [],
   "source": [
    "from kiteconnect import KiteConnect"
   ]
  },
  {
   "cell_type": "code",
   "execution_count": 4,
   "metadata": {},
   "outputs": [
    {
     "data": {
      "text/plain": [
       "True"
      ]
     },
     "execution_count": 4,
     "metadata": {},
     "output_type": "execute_result"
    }
   ],
   "source": [
    "kite_api_key = 'b2w0sfnr1zr92nxm'\n",
    "\n",
    "live_cache.set('KiteAPIKey',kite_api_key)"
   ]
  },
  {
   "cell_type": "code",
   "execution_count": 5,
   "metadata": {},
   "outputs": [
    {
     "data": {
      "text/plain": [
       "'o2MI2Q7xSNPVSZOy24mQx5h28BL765Mv'"
      ]
     },
     "execution_count": 5,
     "metadata": {},
     "output_type": "execute_result"
    }
   ],
   "source": [
    "live_cache.get('access_token')"
   ]
  },
  {
   "cell_type": "code",
   "execution_count": 6,
   "metadata": {},
   "outputs": [
    {
     "data": {
      "text/plain": [
       "'b2w0sfnr1zr92nxm'"
      ]
     },
     "execution_count": 6,
     "metadata": {},
     "output_type": "execute_result"
    }
   ],
   "source": [
    "live_cache.get('KiteAPIKey')"
   ]
  },
  {
   "cell_type": "code",
   "execution_count": 7,
   "metadata": {},
   "outputs": [],
   "source": [
    "KiteAPIKey = live_cache.get('KiteAPIKey')\n",
    "kite = KiteConnect(api_key=KiteAPIKey)\n",
    "access_token = live_cache.get('access_token')\n",
    "kite.set_access_token(access_token)"
   ]
  },
  {
   "cell_type": "code",
   "execution_count": 8,
   "metadata": {},
   "outputs": [
    {
     "data": {
      "text/plain": [
       "{'user_id': 'YM1755',\n",
       " 'user_type': 'individual',\n",
       " 'email': 'saswati.suhan@gmail.com',\n",
       " 'user_name': 'Saswati Saha',\n",
       " 'user_shortname': 'Saswati',\n",
       " 'broker': 'ZERODHA',\n",
       " 'exchanges': ['BSE', 'MCX', 'NSE', 'NFO', 'MF', 'CDS', 'BFO'],\n",
       " 'products': ['CNC', 'NRML', 'MIS', 'BO', 'CO'],\n",
       " 'order_types': ['MARKET', 'LIMIT', 'SL', 'SL-M'],\n",
       " 'avatar_url': '',\n",
       " 'meta': {'demat_consent': 'physical'}}"
      ]
     },
     "execution_count": 8,
     "metadata": {},
     "output_type": "execute_result"
    }
   ],
   "source": [
    "kite.profile()"
   ]
  },
  {
   "cell_type": "code",
   "execution_count": 9,
   "metadata": {},
   "outputs": [],
   "source": [
    "instruments_df = pd.DataFrame(kite.instruments())"
   ]
  },
  {
   "cell_type": "code",
   "execution_count": 67,
   "metadata": {},
   "outputs": [
    {
     "data": {
      "text/plain": [
       "[{'placed_by': 'YM1755',\n",
       "  'order_id': '200511002296687',\n",
       "  'exchange_order_id': '1000000008525391',\n",
       "  'parent_order_id': None,\n",
       "  'status': 'COMPLETE',\n",
       "  'status_message': None,\n",
       "  'status_message_raw': None,\n",
       "  'order_timestamp': datetime.datetime(2020, 5, 11, 12, 31, 16),\n",
       "  'exchange_update_timestamp': '2020-05-11 12:31:16',\n",
       "  'exchange_timestamp': datetime.datetime(2020, 5, 11, 12, 31, 16),\n",
       "  'variety': 'regular',\n",
       "  'exchange': 'NSE',\n",
       "  'tradingsymbol': 'CIPLA',\n",
       "  'instrument_token': 177665,\n",
       "  'order_type': 'LIMIT',\n",
       "  'transaction_type': 'SELL',\n",
       "  'validity': 'DAY',\n",
       "  'product': 'MIS',\n",
       "  'quantity': 1,\n",
       "  'disclosed_quantity': 0,\n",
       "  'price': 586.55,\n",
       "  'trigger_price': 0,\n",
       "  'average_price': 586.55,\n",
       "  'filled_quantity': 1,\n",
       "  'pending_quantity': 0,\n",
       "  'cancelled_quantity': 0,\n",
       "  'market_protection': 0,\n",
       "  'meta': {},\n",
       "  'tag': None,\n",
       "  'guid': '01XV6OchBiiVM2W'},\n",
       " {'placed_by': 'YM1755',\n",
       "  'order_id': '200511002303419',\n",
       "  'exchange_order_id': '1000000008557450',\n",
       "  'parent_order_id': None,\n",
       "  'status': 'COMPLETE',\n",
       "  'status_message': None,\n",
       "  'status_message_raw': None,\n",
       "  'order_timestamp': datetime.datetime(2020, 5, 11, 12, 32, 11),\n",
       "  'exchange_update_timestamp': '2020-05-11 12:32:11',\n",
       "  'exchange_timestamp': datetime.datetime(2020, 5, 11, 12, 32, 11),\n",
       "  'variety': 'regular',\n",
       "  'exchange': 'NSE',\n",
       "  'tradingsymbol': 'CIPLA',\n",
       "  'instrument_token': 177665,\n",
       "  'order_type': 'MARKET',\n",
       "  'transaction_type': 'BUY',\n",
       "  'validity': 'DAY',\n",
       "  'product': 'MIS',\n",
       "  'quantity': 1,\n",
       "  'disclosed_quantity': 0,\n",
       "  'price': 0,\n",
       "  'trigger_price': 0,\n",
       "  'average_price': 586.25,\n",
       "  'filled_quantity': 1,\n",
       "  'pending_quantity': 0,\n",
       "  'cancelled_quantity': 0,\n",
       "  'market_protection': 0,\n",
       "  'meta': {},\n",
       "  'tag': None,\n",
       "  'guid': '01XhB7d4C0xNZCO'},\n",
       " {'placed_by': 'YM1755',\n",
       "  'order_id': '200511002313172',\n",
       "  'exchange_order_id': '1000000008592942',\n",
       "  'parent_order_id': None,\n",
       "  'status': 'COMPLETE',\n",
       "  'status_message': None,\n",
       "  'status_message_raw': None,\n",
       "  'order_timestamp': datetime.datetime(2020, 5, 11, 12, 34, 39),\n",
       "  'exchange_update_timestamp': '2020-05-11 12:34:39',\n",
       "  'exchange_timestamp': datetime.datetime(2020, 5, 11, 12, 33, 31),\n",
       "  'variety': 'regular',\n",
       "  'exchange': 'NSE',\n",
       "  'tradingsymbol': 'CIPLA',\n",
       "  'instrument_token': 177665,\n",
       "  'order_type': 'LIMIT',\n",
       "  'transaction_type': 'SELL',\n",
       "  'validity': 'DAY',\n",
       "  'product': 'MIS',\n",
       "  'quantity': 1,\n",
       "  'disclosed_quantity': 0,\n",
       "  'price': 586.25,\n",
       "  'trigger_price': 0,\n",
       "  'average_price': 586.25,\n",
       "  'filled_quantity': 1,\n",
       "  'pending_quantity': 0,\n",
       "  'cancelled_quantity': 0,\n",
       "  'market_protection': 0,\n",
       "  'meta': {},\n",
       "  'tag': None,\n",
       "  'guid': '01XpLIf8QU5LSgQ'},\n",
       " {'placed_by': 'YM1755',\n",
       "  'order_id': '200511002324231',\n",
       "  'exchange_order_id': '1000000008635253',\n",
       "  'parent_order_id': None,\n",
       "  'status': 'COMPLETE',\n",
       "  'status_message': None,\n",
       "  'status_message_raw': None,\n",
       "  'order_timestamp': datetime.datetime(2020, 5, 11, 12, 37, 7),\n",
       "  'exchange_update_timestamp': '2020-05-11 12:37:07',\n",
       "  'exchange_timestamp': datetime.datetime(2020, 5, 11, 12, 37, 7),\n",
       "  'variety': 'regular',\n",
       "  'exchange': 'NSE',\n",
       "  'tradingsymbol': 'CIPLA',\n",
       "  'instrument_token': 177665,\n",
       "  'order_type': 'LIMIT',\n",
       "  'transaction_type': 'BUY',\n",
       "  'validity': 'DAY',\n",
       "  'product': 'MIS',\n",
       "  'quantity': 1,\n",
       "  'disclosed_quantity': 0,\n",
       "  'price': 0,\n",
       "  'trigger_price': 586.5,\n",
       "  'average_price': 586.55,\n",
       "  'filled_quantity': 1,\n",
       "  'pending_quantity': 0,\n",
       "  'cancelled_quantity': 0,\n",
       "  'market_protection': 0,\n",
       "  'meta': {},\n",
       "  'tag': None,\n",
       "  'guid': '01XlXPrZy0aY0F2'},\n",
       " {'placed_by': 'YM1755',\n",
       "  'order_id': '200511002348549',\n",
       "  'exchange_order_id': '1000000008723799',\n",
       "  'parent_order_id': None,\n",
       "  'status': 'COMPLETE',\n",
       "  'status_message': None,\n",
       "  'status_message_raw': None,\n",
       "  'order_timestamp': datetime.datetime(2020, 5, 11, 12, 39, 15),\n",
       "  'exchange_update_timestamp': '2020-05-11 12:39:15',\n",
       "  'exchange_timestamp': datetime.datetime(2020, 5, 11, 12, 39, 15),\n",
       "  'variety': 'regular',\n",
       "  'exchange': 'NSE',\n",
       "  'tradingsymbol': 'CIPLA',\n",
       "  'instrument_token': 177665,\n",
       "  'order_type': 'MARKET',\n",
       "  'transaction_type': 'SELL',\n",
       "  'validity': 'DAY',\n",
       "  'product': 'MIS',\n",
       "  'quantity': 1,\n",
       "  'disclosed_quantity': 0,\n",
       "  'price': 0,\n",
       "  'trigger_price': 0,\n",
       "  'average_price': 586.4,\n",
       "  'filled_quantity': 1,\n",
       "  'pending_quantity': 0,\n",
       "  'cancelled_quantity': 0,\n",
       "  'market_protection': 0,\n",
       "  'meta': {},\n",
       "  'tag': None,\n",
       "  'guid': '01XmnQEAr2YT2xQ'},\n",
       " {'placed_by': 'YM1755',\n",
       "  'order_id': '200511002352090',\n",
       "  'exchange_order_id': '1300000008253352',\n",
       "  'parent_order_id': None,\n",
       "  'status': 'COMPLETE',\n",
       "  'status_message': None,\n",
       "  'status_message_raw': None,\n",
       "  'order_timestamp': datetime.datetime(2020, 5, 11, 12, 40, 27),\n",
       "  'exchange_update_timestamp': '2020-05-11 12:40:27',\n",
       "  'exchange_timestamp': datetime.datetime(2020, 5, 11, 12, 40, 27),\n",
       "  'variety': 'regular',\n",
       "  'exchange': 'NSE',\n",
       "  'tradingsymbol': 'SUNPHARMA',\n",
       "  'instrument_token': 857857,\n",
       "  'order_type': 'MARKET',\n",
       "  'transaction_type': 'BUY',\n",
       "  'validity': 'DAY',\n",
       "  'product': 'MIS',\n",
       "  'quantity': 1,\n",
       "  'disclosed_quantity': 0,\n",
       "  'price': 0,\n",
       "  'trigger_price': 0,\n",
       "  'average_price': 465.25,\n",
       "  'filled_quantity': 1,\n",
       "  'pending_quantity': 0,\n",
       "  'cancelled_quantity': 0,\n",
       "  'market_protection': 0,\n",
       "  'meta': {},\n",
       "  'tag': None,\n",
       "  'guid': '01XUZS9Ji90uD7o'},\n",
       " {'placed_by': 'YM1755',\n",
       "  'order_id': '200511002330486',\n",
       "  'exchange_order_id': '1000000008655883',\n",
       "  'parent_order_id': None,\n",
       "  'status': 'COMPLETE',\n",
       "  'status_message': None,\n",
       "  'status_message_raw': None,\n",
       "  'order_timestamp': datetime.datetime(2020, 5, 11, 12, 50, 39),\n",
       "  'exchange_update_timestamp': '2020-05-11 12:50:39',\n",
       "  'exchange_timestamp': datetime.datetime(2020, 5, 11, 12, 36, 11),\n",
       "  'variety': 'regular',\n",
       "  'exchange': 'NSE',\n",
       "  'tradingsymbol': 'CIPLA',\n",
       "  'instrument_token': 177665,\n",
       "  'order_type': 'LIMIT',\n",
       "  'transaction_type': 'BUY',\n",
       "  'validity': 'DAY',\n",
       "  'product': 'MIS',\n",
       "  'quantity': 1,\n",
       "  'disclosed_quantity': 0,\n",
       "  'price': 585.6,\n",
       "  'trigger_price': 0,\n",
       "  'average_price': 585.6,\n",
       "  'filled_quantity': 1,\n",
       "  'pending_quantity': 0,\n",
       "  'cancelled_quantity': 0,\n",
       "  'market_protection': 0,\n",
       "  'meta': {},\n",
       "  'tag': None,\n",
       "  'guid': '01XxfyBaWPh6gd6'},\n",
       " {'placed_by': 'YM1755',\n",
       "  'order_id': '200511002438954',\n",
       "  'exchange_order_id': '1300000008663041',\n",
       "  'parent_order_id': None,\n",
       "  'status': 'COMPLETE',\n",
       "  'status_message': None,\n",
       "  'status_message_raw': None,\n",
       "  'order_timestamp': datetime.datetime(2020, 5, 11, 12, 51, 39),\n",
       "  'exchange_update_timestamp': '2020-05-11 12:51:39',\n",
       "  'exchange_timestamp': datetime.datetime(2020, 5, 11, 12, 51, 39),\n",
       "  'variety': 'regular',\n",
       "  'exchange': 'NSE',\n",
       "  'tradingsymbol': 'SUNPHARMA',\n",
       "  'instrument_token': 857857,\n",
       "  'order_type': 'MARKET',\n",
       "  'transaction_type': 'SELL',\n",
       "  'validity': 'DAY',\n",
       "  'product': 'MIS',\n",
       "  'quantity': 1,\n",
       "  'disclosed_quantity': 0,\n",
       "  'price': 0,\n",
       "  'trigger_price': 0,\n",
       "  'average_price': 465.5,\n",
       "  'filled_quantity': 1,\n",
       "  'pending_quantity': 0,\n",
       "  'cancelled_quantity': 0,\n",
       "  'market_protection': 0,\n",
       "  'meta': {},\n",
       "  'tag': None,\n",
       "  'guid': '01X53RcEPnij2bE'},\n",
       " {'placed_by': 'YM1755',\n",
       "  'order_id': '200511002882907',\n",
       "  'exchange_order_id': '1300000010508638',\n",
       "  'parent_order_id': None,\n",
       "  'status': 'COMPLETE',\n",
       "  'status_message': None,\n",
       "  'status_message_raw': None,\n",
       "  'order_timestamp': datetime.datetime(2020, 5, 11, 13, 53, 49),\n",
       "  'exchange_update_timestamp': '2020-05-11 13:53:49',\n",
       "  'exchange_timestamp': datetime.datetime(2020, 5, 11, 13, 53, 49),\n",
       "  'variety': 'regular',\n",
       "  'exchange': 'NSE',\n",
       "  'tradingsymbol': 'WIPRO',\n",
       "  'instrument_token': 969473,\n",
       "  'order_type': 'LIMIT',\n",
       "  'transaction_type': 'BUY',\n",
       "  'validity': 'DAY',\n",
       "  'product': 'MIS',\n",
       "  'quantity': 1,\n",
       "  'disclosed_quantity': 0,\n",
       "  'price': 187.5,\n",
       "  'trigger_price': 0,\n",
       "  'average_price': 187.45,\n",
       "  'filled_quantity': 1,\n",
       "  'pending_quantity': 0,\n",
       "  'cancelled_quantity': 0,\n",
       "  'market_protection': 0,\n",
       "  'meta': {},\n",
       "  'tag': 'freedom_v2',\n",
       "  'tags': ['freedom_v2'],\n",
       "  'guid': '11327XhyWqcZonNj34'},\n",
       " {'placed_by': 'YM1755',\n",
       "  'order_id': '200511002895361',\n",
       "  'exchange_order_id': '1300000010552444',\n",
       "  'parent_order_id': None,\n",
       "  'status': 'REJECTED',\n",
       "  'status_message': '16283 : Order price is not a multiple of tick size  ',\n",
       "  'status_message_raw': '16283 : Order price is not a multiple of tick size  ',\n",
       "  'order_timestamp': datetime.datetime(2020, 5, 11, 13, 55, 16),\n",
       "  'exchange_update_timestamp': None,\n",
       "  'exchange_timestamp': datetime.datetime(2020, 5, 11, 13, 55, 16),\n",
       "  'variety': 'regular',\n",
       "  'exchange': 'NSE',\n",
       "  'tradingsymbol': 'WIPRO',\n",
       "  'instrument_token': 969473,\n",
       "  'order_type': 'LIMIT',\n",
       "  'transaction_type': 'SELL',\n",
       "  'validity': 'DAY',\n",
       "  'product': 'MIS',\n",
       "  'quantity': 1,\n",
       "  'disclosed_quantity': 0,\n",
       "  'price': 187.36,\n",
       "  'trigger_price': 0,\n",
       "  'average_price': 0,\n",
       "  'filled_quantity': 0,\n",
       "  'pending_quantity': 0,\n",
       "  'cancelled_quantity': 0,\n",
       "  'market_protection': 0,\n",
       "  'meta': {},\n",
       "  'tag': None,\n",
       "  'guid': '11327X16SjVrKiZWnM'},\n",
       " {'placed_by': 'YM1755',\n",
       "  'order_id': '200511002897931',\n",
       "  'exchange_order_id': '1300000010559940',\n",
       "  'parent_order_id': None,\n",
       "  'status': 'COMPLETE',\n",
       "  'status_message': None,\n",
       "  'status_message_raw': None,\n",
       "  'order_timestamp': datetime.datetime(2020, 5, 11, 13, 55, 32),\n",
       "  'exchange_update_timestamp': '2020-05-11 13:55:32',\n",
       "  'exchange_timestamp': datetime.datetime(2020, 5, 11, 13, 55, 32),\n",
       "  'variety': 'regular',\n",
       "  'exchange': 'NSE',\n",
       "  'tradingsymbol': 'WIPRO',\n",
       "  'instrument_token': 969473,\n",
       "  'order_type': 'LIMIT',\n",
       "  'transaction_type': 'SELL',\n",
       "  'validity': 'DAY',\n",
       "  'product': 'MIS',\n",
       "  'quantity': 1,\n",
       "  'disclosed_quantity': 0,\n",
       "  'price': 187.35,\n",
       "  'trigger_price': 0,\n",
       "  'average_price': 187.5,\n",
       "  'filled_quantity': 1,\n",
       "  'pending_quantity': 0,\n",
       "  'cancelled_quantity': 0,\n",
       "  'market_protection': 0,\n",
       "  'meta': {},\n",
       "  'tag': None,\n",
       "  'guid': '11327XmEATG5O2S35n'},\n",
       " {'placed_by': 'YM1755',\n",
       "  'order_id': '200511002924441',\n",
       "  'exchange_order_id': '1300000010649033',\n",
       "  'parent_order_id': None,\n",
       "  'status': 'CANCELLED',\n",
       "  'status_message': None,\n",
       "  'status_message_raw': None,\n",
       "  'order_timestamp': datetime.datetime(2020, 5, 11, 14, 7, 6),\n",
       "  'exchange_update_timestamp': '2020-05-11 14:07:06',\n",
       "  'exchange_timestamp': datetime.datetime(2020, 5, 11, 14, 7, 6),\n",
       "  'variety': 'regular',\n",
       "  'exchange': 'NSE',\n",
       "  'tradingsymbol': 'WIPRO',\n",
       "  'instrument_token': 969473,\n",
       "  'order_type': 'LIMIT',\n",
       "  'transaction_type': 'SELL',\n",
       "  'validity': 'DAY',\n",
       "  'product': 'MIS',\n",
       "  'quantity': 1,\n",
       "  'disclosed_quantity': 0,\n",
       "  'price': 187.9,\n",
       "  'trigger_price': 0,\n",
       "  'average_price': 0,\n",
       "  'filled_quantity': 0,\n",
       "  'pending_quantity': 1,\n",
       "  'cancelled_quantity': 1,\n",
       "  'market_protection': 0,\n",
       "  'meta': {},\n",
       "  'tag': None,\n",
       "  'guid': '11327XfPY7pIozspMU'},\n",
       " {'placed_by': 'YM1755',\n",
       "  'order_id': '200511003001821',\n",
       "  'exchange_order_id': '1300000010909771',\n",
       "  'parent_order_id': None,\n",
       "  'status': 'COMPLETE',\n",
       "  'status_message': None,\n",
       "  'status_message_raw': None,\n",
       "  'order_timestamp': datetime.datetime(2020, 5, 11, 14, 10, 1),\n",
       "  'exchange_update_timestamp': '2020-05-11 14:10:01',\n",
       "  'exchange_timestamp': datetime.datetime(2020, 5, 11, 14, 10, 1),\n",
       "  'variety': 'regular',\n",
       "  'exchange': 'NSE',\n",
       "  'tradingsymbol': 'WIPRO',\n",
       "  'instrument_token': 969473,\n",
       "  'order_type': 'LIMIT',\n",
       "  'transaction_type': 'SELL',\n",
       "  'validity': 'DAY',\n",
       "  'product': 'MIS',\n",
       "  'quantity': 1,\n",
       "  'disclosed_quantity': 0,\n",
       "  'price': 187.2,\n",
       "  'trigger_price': 0,\n",
       "  'average_price': 187.25,\n",
       "  'filled_quantity': 1,\n",
       "  'pending_quantity': 0,\n",
       "  'cancelled_quantity': 0,\n",
       "  'market_protection': 0,\n",
       "  'meta': {},\n",
       "  'tag': None,\n",
       "  'guid': '11327Xr01ccuDDcEHl'},\n",
       " {'placed_by': 'YM1755',\n",
       "  'order_id': '200511003019322',\n",
       "  'exchange_order_id': '1300000010966091',\n",
       "  'parent_order_id': None,\n",
       "  'status': 'OPEN',\n",
       "  'status_message': None,\n",
       "  'status_message_raw': None,\n",
       "  'order_timestamp': datetime.datetime(2020, 5, 11, 14, 12, 13),\n",
       "  'exchange_update_timestamp': '2020-05-11 14:12:13',\n",
       "  'exchange_timestamp': datetime.datetime(2020, 5, 11, 14, 12, 13),\n",
       "  'variety': 'regular',\n",
       "  'exchange': 'NSE',\n",
       "  'tradingsymbol': 'WIPRO',\n",
       "  'instrument_token': 969473,\n",
       "  'order_type': 'LIMIT',\n",
       "  'transaction_type': 'BUY',\n",
       "  'validity': 'DAY',\n",
       "  'product': 'MIS',\n",
       "  'quantity': 1,\n",
       "  'disclosed_quantity': 0,\n",
       "  'price': 186.5,\n",
       "  'trigger_price': 0,\n",
       "  'average_price': 0,\n",
       "  'filled_quantity': 0,\n",
       "  'pending_quantity': 1,\n",
       "  'cancelled_quantity': 0,\n",
       "  'market_protection': 0,\n",
       "  'meta': {},\n",
       "  'tag': 'freedom_v2',\n",
       "  'tags': ['freedom_v2'],\n",
       "  'guid': '11327XfB1khrmmM3Yc'}]"
      ]
     },
     "execution_count": 67,
     "metadata": {},
     "output_type": "execute_result"
    }
   ],
   "source": [
    "kite.orders()"
   ]
  },
  {
   "cell_type": "code",
   "execution_count": 59,
   "metadata": {
    "scrolled": true
   },
   "outputs": [
    {
     "data": {
      "text/plain": [
       "{'net': [{'tradingsymbol': 'CIPLA',\n",
       "   'exchange': 'NSE',\n",
       "   'instrument_token': 177665,\n",
       "   'product': 'MIS',\n",
       "   'quantity': 0,\n",
       "   'overnight_quantity': 0,\n",
       "   'multiplier': 1,\n",
       "   'average_price': 0,\n",
       "   'close_price': 0,\n",
       "   'last_price': 585.6,\n",
       "   'value': 0.7999999999997272,\n",
       "   'pnl': 0.7999999999997272,\n",
       "   'm2m': 0.7999999999997272,\n",
       "   'unrealised': 0.7999999999997272,\n",
       "   'realised': 0,\n",
       "   'buy_quantity': 3,\n",
       "   'buy_price': 586.1333333333333,\n",
       "   'buy_value': 1758.4,\n",
       "   'buy_m2m': 1758.4,\n",
       "   'sell_quantity': 3,\n",
       "   'sell_price': 586.4,\n",
       "   'sell_value': 1759.1999999999998,\n",
       "   'sell_m2m': 1759.1999999999998,\n",
       "   'day_buy_quantity': 3,\n",
       "   'day_buy_price': 586.1333333333333,\n",
       "   'day_buy_value': 1758.4,\n",
       "   'day_sell_quantity': 3,\n",
       "   'day_sell_price': 586.4,\n",
       "   'day_sell_value': 1759.1999999999998},\n",
       "  {'tradingsymbol': 'SUNPHARMA',\n",
       "   'exchange': 'NSE',\n",
       "   'instrument_token': 857857,\n",
       "   'product': 'MIS',\n",
       "   'quantity': 0,\n",
       "   'overnight_quantity': 0,\n",
       "   'multiplier': 1,\n",
       "   'average_price': 0,\n",
       "   'close_price': 0,\n",
       "   'last_price': 465.8,\n",
       "   'value': 0.25,\n",
       "   'pnl': 0.25,\n",
       "   'm2m': 0.25,\n",
       "   'unrealised': 0.25,\n",
       "   'realised': 0,\n",
       "   'buy_quantity': 1,\n",
       "   'buy_price': 465.25,\n",
       "   'buy_value': 465.25,\n",
       "   'buy_m2m': 465.25,\n",
       "   'sell_quantity': 1,\n",
       "   'sell_price': 465.5,\n",
       "   'sell_value': 465.5,\n",
       "   'sell_m2m': 465.5,\n",
       "   'day_buy_quantity': 1,\n",
       "   'day_buy_price': 465.25,\n",
       "   'day_buy_value': 465.25,\n",
       "   'day_sell_quantity': 1,\n",
       "   'day_sell_price': 465.5,\n",
       "   'day_sell_value': 465.5},\n",
       "  {'tradingsymbol': 'WIPRO',\n",
       "   'exchange': 'NSE',\n",
       "   'instrument_token': 969473,\n",
       "   'product': 'MIS',\n",
       "   'quantity': 0,\n",
       "   'overnight_quantity': 0,\n",
       "   'multiplier': 1,\n",
       "   'average_price': 0,\n",
       "   'close_price': 0,\n",
       "   'last_price': 187.35,\n",
       "   'value': 0.05000000000001137,\n",
       "   'pnl': 0.05000000000001137,\n",
       "   'm2m': 0.05000000000001137,\n",
       "   'unrealised': 0.05000000000001137,\n",
       "   'realised': 0,\n",
       "   'buy_quantity': 1,\n",
       "   'buy_price': 187.45,\n",
       "   'buy_value': 187.45,\n",
       "   'buy_m2m': 187.45,\n",
       "   'sell_quantity': 1,\n",
       "   'sell_price': 187.5,\n",
       "   'sell_value': 187.5,\n",
       "   'sell_m2m': 187.5,\n",
       "   'day_buy_quantity': 1,\n",
       "   'day_buy_price': 187.45,\n",
       "   'day_buy_value': 187.45,\n",
       "   'day_sell_quantity': 1,\n",
       "   'day_sell_price': 187.5,\n",
       "   'day_sell_value': 187.5}],\n",
       " 'day': [{'tradingsymbol': 'CIPLA',\n",
       "   'exchange': 'NSE',\n",
       "   'instrument_token': 177665,\n",
       "   'product': 'MIS',\n",
       "   'quantity': 0,\n",
       "   'overnight_quantity': 0,\n",
       "   'multiplier': 1,\n",
       "   'average_price': 0,\n",
       "   'close_price': 0,\n",
       "   'last_price': 585.6,\n",
       "   'value': 0.7999999999997272,\n",
       "   'pnl': 0.7999999999997272,\n",
       "   'm2m': 0.7999999999997272,\n",
       "   'unrealised': 0.7999999999997272,\n",
       "   'realised': 0,\n",
       "   'buy_quantity': 3,\n",
       "   'buy_price': 586.1333333333333,\n",
       "   'buy_value': 1758.4,\n",
       "   'buy_m2m': 1758.4,\n",
       "   'sell_quantity': 3,\n",
       "   'sell_price': 586.4,\n",
       "   'sell_value': 1759.1999999999998,\n",
       "   'sell_m2m': 1759.1999999999998,\n",
       "   'day_buy_quantity': 3,\n",
       "   'day_buy_price': 586.1333333333333,\n",
       "   'day_buy_value': 1758.4,\n",
       "   'day_sell_quantity': 3,\n",
       "   'day_sell_price': 586.4,\n",
       "   'day_sell_value': 1759.1999999999998},\n",
       "  {'tradingsymbol': 'SUNPHARMA',\n",
       "   'exchange': 'NSE',\n",
       "   'instrument_token': 857857,\n",
       "   'product': 'MIS',\n",
       "   'quantity': 0,\n",
       "   'overnight_quantity': 0,\n",
       "   'multiplier': 1,\n",
       "   'average_price': 0,\n",
       "   'close_price': 0,\n",
       "   'last_price': 465.8,\n",
       "   'value': 0.25,\n",
       "   'pnl': 0.25,\n",
       "   'm2m': 0.25,\n",
       "   'unrealised': 0.25,\n",
       "   'realised': 0,\n",
       "   'buy_quantity': 1,\n",
       "   'buy_price': 465.25,\n",
       "   'buy_value': 465.25,\n",
       "   'buy_m2m': 465.25,\n",
       "   'sell_quantity': 1,\n",
       "   'sell_price': 465.5,\n",
       "   'sell_value': 465.5,\n",
       "   'sell_m2m': 465.5,\n",
       "   'day_buy_quantity': 1,\n",
       "   'day_buy_price': 465.25,\n",
       "   'day_buy_value': 465.25,\n",
       "   'day_sell_quantity': 1,\n",
       "   'day_sell_price': 465.5,\n",
       "   'day_sell_value': 465.5},\n",
       "  {'tradingsymbol': 'WIPRO',\n",
       "   'exchange': 'NSE',\n",
       "   'instrument_token': 969473,\n",
       "   'product': 'MIS',\n",
       "   'quantity': 0,\n",
       "   'overnight_quantity': 0,\n",
       "   'multiplier': 1,\n",
       "   'average_price': 0,\n",
       "   'close_price': 0,\n",
       "   'last_price': 187.35,\n",
       "   'value': 0.05000000000001137,\n",
       "   'pnl': 0.05000000000001137,\n",
       "   'm2m': 0.05000000000001137,\n",
       "   'unrealised': 0.05000000000001137,\n",
       "   'realised': 0,\n",
       "   'buy_quantity': 1,\n",
       "   'buy_price': 187.45,\n",
       "   'buy_value': 187.45,\n",
       "   'buy_m2m': 187.45,\n",
       "   'sell_quantity': 1,\n",
       "   'sell_price': 187.5,\n",
       "   'sell_value': 187.5,\n",
       "   'sell_m2m': 187.5,\n",
       "   'day_buy_quantity': 1,\n",
       "   'day_buy_price': 187.45,\n",
       "   'day_buy_value': 187.45,\n",
       "   'day_sell_quantity': 1,\n",
       "   'day_sell_price': 187.5,\n",
       "   'day_sell_value': 187.5}]}"
      ]
     },
     "execution_count": 59,
     "metadata": {},
     "output_type": "execute_result"
    }
   ],
   "source": [
    "kite.positions()"
   ]
  },
  {
   "cell_type": "code",
   "execution_count": 40,
   "metadata": {
    "scrolled": true
   },
   "outputs": [
    {
     "data": {
      "text/plain": [
       "[{'trade_id': '2444958',\n",
       "  'order_id': '200511002296687',\n",
       "  'exchange': 'NSE',\n",
       "  'tradingsymbol': 'CIPLA',\n",
       "  'instrument_token': 177665,\n",
       "  'product': 'MIS',\n",
       "  'average_price': 586.55,\n",
       "  'quantity': 1,\n",
       "  'exchange_order_id': '1000000008525391',\n",
       "  'transaction_type': 'SELL',\n",
       "  'fill_timestamp': datetime.datetime(2020, 5, 11, 12, 31, 16),\n",
       "  'order_timestamp': '12:31:16',\n",
       "  'exchange_timestamp': datetime.datetime(2020, 5, 11, 12, 31, 16)},\n",
       " {'trade_id': '2455345',\n",
       "  'order_id': '200511002303419',\n",
       "  'exchange': 'NSE',\n",
       "  'tradingsymbol': 'CIPLA',\n",
       "  'instrument_token': 177665,\n",
       "  'product': 'MIS',\n",
       "  'average_price': 586.25,\n",
       "  'quantity': 1,\n",
       "  'exchange_order_id': '1000000008557450',\n",
       "  'transaction_type': 'BUY',\n",
       "  'fill_timestamp': datetime.datetime(2020, 5, 11, 12, 32, 11),\n",
       "  'order_timestamp': '12:32:11',\n",
       "  'exchange_timestamp': datetime.datetime(2020, 5, 11, 12, 32, 11)},\n",
       " {'trade_id': '2477143',\n",
       "  'order_id': '200511002313172',\n",
       "  'exchange': 'NSE',\n",
       "  'tradingsymbol': 'CIPLA',\n",
       "  'instrument_token': 177665,\n",
       "  'product': 'MIS',\n",
       "  'average_price': 586.25,\n",
       "  'quantity': 1,\n",
       "  'exchange_order_id': '1000000008592942',\n",
       "  'transaction_type': 'SELL',\n",
       "  'fill_timestamp': datetime.datetime(2020, 5, 11, 12, 34, 39),\n",
       "  'order_timestamp': '12:34:39',\n",
       "  'exchange_timestamp': datetime.datetime(2020, 5, 11, 12, 33, 31)},\n",
       " {'trade_id': '2496876',\n",
       "  'order_id': '200511002324231',\n",
       "  'exchange': 'NSE',\n",
       "  'tradingsymbol': 'CIPLA',\n",
       "  'instrument_token': 177665,\n",
       "  'product': 'MIS',\n",
       "  'average_price': 586.55,\n",
       "  'quantity': 1,\n",
       "  'exchange_order_id': '1000000008635253',\n",
       "  'transaction_type': 'BUY',\n",
       "  'fill_timestamp': datetime.datetime(2020, 5, 11, 12, 37, 7),\n",
       "  'order_timestamp': '12:37:07',\n",
       "  'exchange_timestamp': datetime.datetime(2020, 5, 11, 12, 37, 7)},\n",
       " {'trade_id': '2514011',\n",
       "  'order_id': '200511002348549',\n",
       "  'exchange': 'NSE',\n",
       "  'tradingsymbol': 'CIPLA',\n",
       "  'instrument_token': 177665,\n",
       "  'product': 'MIS',\n",
       "  'average_price': 586.4,\n",
       "  'quantity': 1,\n",
       "  'exchange_order_id': '1000000008723799',\n",
       "  'transaction_type': 'SELL',\n",
       "  'fill_timestamp': datetime.datetime(2020, 5, 11, 12, 39, 15),\n",
       "  'order_timestamp': '12:39:15',\n",
       "  'exchange_timestamp': datetime.datetime(2020, 5, 11, 12, 39, 15)},\n",
       " {'trade_id': '77668852',\n",
       "  'order_id': '200511002352090',\n",
       "  'exchange': 'NSE',\n",
       "  'tradingsymbol': 'SUNPHARMA',\n",
       "  'instrument_token': 857857,\n",
       "  'product': 'MIS',\n",
       "  'average_price': 465.25,\n",
       "  'quantity': 1,\n",
       "  'exchange_order_id': '1300000008253352',\n",
       "  'transaction_type': 'BUY',\n",
       "  'fill_timestamp': datetime.datetime(2020, 5, 11, 12, 40, 27),\n",
       "  'order_timestamp': '12:40:27',\n",
       "  'exchange_timestamp': datetime.datetime(2020, 5, 11, 12, 40, 27)}]"
      ]
     },
     "execution_count": 40,
     "metadata": {},
     "output_type": "execute_result"
    }
   ],
   "source": [
    "kite.trades()"
   ]
  },
  {
   "cell_type": "code",
   "execution_count": 12,
   "metadata": {},
   "outputs": [
    {
     "name": "stderr",
     "output_type": "stream",
     "text": [
      "/usr/local/lib/python3.7/site-packages/pandas/core/generic.py:2505: PerformanceWarning: \n",
      "your performance may suffer as PyTables will pickle object types that it cannot\n",
      "map directly to c-types [inferred_type->mixed,key->block2_values] [items->Index(['exchange_token', 'tradingsymbol', 'name', 'expiry', 'instrument_type',\n",
      "       'segment', 'exchange'],\n",
      "      dtype='object')]\n",
      "\n",
      "  encoding=encoding,\n"
     ]
    }
   ],
   "source": [
    "instruments_df.to_hdf('data/instruments.hdf',key='instruments')"
   ]
  },
  {
   "cell_type": "code",
   "execution_count": 14,
   "metadata": {},
   "outputs": [
    {
     "data": {
      "text/plain": [
       "Index(['instrument_token', 'exchange_token', 'tradingsymbol', 'name',\n",
       "       'last_price', 'expiry', 'strike', 'tick_size', 'lot_size',\n",
       "       'instrument_type', 'segment', 'exchange'],\n",
       "      dtype='object')"
      ]
     },
     "execution_count": 14,
     "metadata": {},
     "output_type": "execute_result"
    }
   ],
   "source": [
    "instruments_df.columns"
   ]
  },
  {
   "cell_type": "code",
   "execution_count": 21,
   "metadata": {},
   "outputs": [],
   "source": [
    "eq_nse = instruments_df.loc[(instruments_df['exchange']=='NSE') & (instruments_df['segment']=='NSE')  & (instruments_df['instrument_type']=='EQ'), ['instrument_token','tradingsymbol']]"
   ]
  },
  {
   "cell_type": "code",
   "execution_count": 25,
   "metadata": {},
   "outputs": [
    {
     "data": {
      "text/plain": [
       "array([2953217,  969473])"
      ]
     },
     "execution_count": 25,
     "metadata": {},
     "output_type": "execute_result"
    }
   ],
   "source": [
    "eq_nse.loc[eq_nse['tradingsymbol'].isin(['TCS','WIPRO']),'instrument_token'].values"
   ]
  },
  {
   "cell_type": "code",
   "execution_count": 35,
   "metadata": {
    "scrolled": true
   },
   "outputs": [
    {
     "data": {
      "text/plain": [
       "{'equity': {'enabled': True,\n",
       "  'net': 2182.61,\n",
       "  'available': {'adhoc_margin': 0,\n",
       "   'cash': 2182.61,\n",
       "   'opening_balance': 2182.61,\n",
       "   'live_balance': 2182.61,\n",
       "   'collateral': 0,\n",
       "   'intraday_payin': 0},\n",
       "  'utilised': {'debits': 0,\n",
       "   'exposure': 0,\n",
       "   'm2m_realised': 0,\n",
       "   'm2m_unrealised': 0,\n",
       "   'option_premium': 0,\n",
       "   'payout': 0,\n",
       "   'span': 0,\n",
       "   'holding_sales': 0,\n",
       "   'turnover': 0,\n",
       "   'liquid_collateral': 0,\n",
       "   'stock_collateral': 0}},\n",
       " 'commodity': {'enabled': True,\n",
       "  'net': 0,\n",
       "  'available': {'adhoc_margin': 0,\n",
       "   'cash': 0,\n",
       "   'opening_balance': 0,\n",
       "   'live_balance': 0,\n",
       "   'collateral': 0,\n",
       "   'intraday_payin': 0},\n",
       "  'utilised': {'debits': 0,\n",
       "   'exposure': 0,\n",
       "   'm2m_realised': 0,\n",
       "   'm2m_unrealised': 0,\n",
       "   'option_premium': 0,\n",
       "   'payout': 0,\n",
       "   'span': 0,\n",
       "   'holding_sales': 0,\n",
       "   'turnover': 0,\n",
       "   'liquid_collateral': 0,\n",
       "   'stock_collateral': 0}}}"
      ]
     },
     "execution_count": 35,
     "metadata": {},
     "output_type": "execute_result"
    }
   ],
   "source": [
    "kite.margins()"
   ]
  },
  {
   "cell_type": "code",
   "execution_count": 95,
   "metadata": {},
   "outputs": [
    {
     "data": {
      "text/plain": [
       "1"
      ]
     },
     "execution_count": 95,
     "metadata": {},
     "output_type": "execute_result"
    }
   ],
   "source": [
    "live_cache.publish('live_trade_handlerlive','INIT')"
   ]
  },
  {
   "cell_type": "code",
   "execution_count": 34,
   "metadata": {},
   "outputs": [
    {
     "data": {
      "text/plain": [
       "1"
      ]
     },
     "execution_count": 34,
     "metadata": {},
     "output_type": "execute_result"
    }
   ],
   "source": [
    "live_cache.publish('live_trade_handlerlive','CLOSE')"
   ]
  },
  {
   "cell_type": "code",
   "execution_count": 36,
   "metadata": {},
   "outputs": [
    {
     "data": {
      "text/plain": [
       "1"
      ]
     },
     "execution_count": 36,
     "metadata": {},
     "output_type": "execute_result"
    }
   ],
   "source": [
    "live_cache.publish('live_trade_handlerlive','START')"
   ]
  },
  {
   "cell_type": "code",
   "execution_count": 96,
   "metadata": {},
   "outputs": [
    {
     "data": {
      "text/plain": [
       "1"
      ]
     },
     "execution_count": 96,
     "metadata": {},
     "output_type": "execute_result"
    }
   ],
   "source": [
    "live_cache.publish('live_trade_handlerlive',json.dumps({'cmd':'add','value':[969473, 2953217],'mode':'quote'}))"
   ]
  },
  {
   "cell_type": "code",
   "execution_count": 10,
   "metadata": {},
   "outputs": [],
   "source": [
    "import json"
   ]
  },
  {
   "cell_type": "code",
   "execution_count": 35,
   "metadata": {},
   "outputs": [
    {
     "data": {
      "text/plain": [
       "3"
      ]
     },
     "execution_count": 35,
     "metadata": {},
     "output_type": "execute_result"
    }
   ],
   "source": [
    "live_cache.publish('live_trade_handlerlive',json.dumps({'cmd':'remove','value':[969473, 2953217],'mode':'quote'}))"
   ]
  },
  {
   "cell_type": "code",
   "execution_count": 74,
   "metadata": {},
   "outputs": [
    {
     "data": {
      "text/plain": [
       "1"
      ]
     },
     "execution_count": 74,
     "metadata": {},
     "output_type": "execute_result"
    }
   ],
   "source": [
    "live_cache.publish('live_trade_handlerlive','add')"
   ]
  },
  {
   "cell_type": "code",
   "execution_count": 31,
   "metadata": {},
   "outputs": [
    {
     "data": {
      "text/plain": [
       "1"
      ]
     },
     "execution_count": 31,
     "metadata": {},
     "output_type": "execute_result"
    }
   ],
   "source": [
    "live_cache.publish('live_trade_handlerlive',json.dumps({'cmd':'buy','symbol':'WIPRO','price':187.5,'qty':1}))"
   ]
  },
  {
   "cell_type": "code",
   "execution_count": 32,
   "metadata": {},
   "outputs": [
    {
     "data": {
      "text/plain": [
       "1"
      ]
     },
     "execution_count": 32,
     "metadata": {},
     "output_type": "execute_result"
    }
   ],
   "source": [
    "live_cache.publish('live_trade_handlerlive',json.dumps({'cmd':'sell','symbol':'WIPRO','price':184.6,'qty':1}))"
   ]
  },
  {
   "cell_type": "code",
   "execution_count": 21,
   "metadata": {},
   "outputs": [
    {
     "data": {
      "text/plain": [
       "'{\"cmd\": \"buy\", \"symbol\": \"WIPRO\", \"price\": 187.5, \"qty\": 1}'"
      ]
     },
     "execution_count": 21,
     "metadata": {},
     "output_type": "execute_result"
    }
   ],
   "source": [
    "json.dumps({'cmd':'buy','symbol':'WIPRO','price':187.5,'qty':1})"
   ]
  },
  {
   "cell_type": "code",
   "execution_count": 66,
   "metadata": {},
   "outputs": [],
   "source": [
    "buy_limit('WIPRO',186.5,1)"
   ]
  },
  {
   "cell_type": "code",
   "execution_count": 62,
   "metadata": {},
   "outputs": [],
   "source": [
    "sell_limit('WIPRO',187.2,1)"
   ]
  },
  {
   "cell_type": "code",
   "execution_count": 65,
   "metadata": {},
   "outputs": [],
   "source": [
    "def buy_limit(symbol, price, quantity=1): \n",
    "    pinfo(\"B Limit: {}[{}]=> {}\".format(symbol, quantity, price))\n",
    "\n",
    "    try:\n",
    "        order_id = kite.place_order(tradingsymbol=symbol,\n",
    "                                exchange=kite.EXCHANGE_NSE,\n",
    "                                transaction_type=kite.TRANSACTION_TYPE_BUY,\n",
    "                                quantity=quantity,\n",
    "                                order_type=kite.ORDER_TYPE_LIMIT,\n",
    "                                product=kite.PRODUCT_MIS,\n",
    "                                #trigger_price=round(trigger,1),\n",
    "                                #stoploss=round(stoploss,1),\n",
    "                                #trigger_price=round(price,1),\n",
    "                                price=price,\n",
    "                                variety=kite.VARIETY_REGULAR,\n",
    "                                tag='freedom_v2'\n",
    "                                )\n",
    "        pinfo(\"Order placed. ID is: {}\".format(order_id))\n",
    "    except Exception as e:\n",
    "        pinfo(\"Order placement failed: {}\".format(e.message))\n",
    "        \n",
    "def sell_limit(symbol, price, quantity=1):\n",
    "    pinfo(\"S Limit: {}[{}]=> {}\".format(symbol, quantity, price))\n",
    "\n",
    "    try:\n",
    "        order_id = kite.place_order(tradingsymbol=symbol,\n",
    "                            exchange=kite.EXCHANGE_NSE,\n",
    "                            transaction_type=kite.TRANSACTION_TYPE_SELL,\n",
    "                            quantity=quantity,\n",
    "                            order_type=kite.ORDER_TYPE_LIMIT,\n",
    "                            product=kite.PRODUCT_MIS,\n",
    "                            #trigger_price=round(trigger,1),\n",
    "                            #trigger_price=round(price,1),\n",
    "                            price=price,\n",
    "                            variety=kite.VARIETY_REGULAR)\n",
    "        pinfo(\"Order placed. ID is: {}\".format(order_id))\n",
    "    except Exception as e:\n",
    "        pinfo(\"Order placement failed: {}\".format(e.message))"
   ]
  },
  {
   "cell_type": "code",
   "execution_count": 61,
   "metadata": {},
   "outputs": [
    {
     "data": {
      "text/plain": [
       "'200511002924441'"
      ]
     },
     "execution_count": 61,
     "metadata": {},
     "output_type": "execute_result"
    }
   ],
   "source": [
    "kite.cancel_order(kite.VARIETY_REGULAR, 200511002924441, parent_order_id=None)"
   ]
  },
  {
   "cell_type": "code",
   "execution_count": null,
   "metadata": {},
   "outputs": [],
   "source": [
    "kite.convert_position(kite.EXCHANGE_NSE, 'WIPRO', transaction_type, position_type, quantity, old_product, new_product)\n"
   ]
  },
  {
   "cell_type": "code",
   "execution_count": 69,
   "metadata": {},
   "outputs": [
    {
     "data": {
      "text/plain": [
       "'200511003019322'"
      ]
     },
     "execution_count": 69,
     "metadata": {},
     "output_type": "execute_result"
    }
   ],
   "source": [
    "kite.modify_order(kite.VARIETY_REGULAR, 200511003019322, parent_order_id=None, quantity=None, price=187.4, order_type=None, trigger_price=None, validity=None, disclosed_quantity=None)\n"
   ]
  },
  {
   "cell_type": "code",
   "execution_count": 11,
   "metadata": {},
   "outputs": [],
   "source": [
    "instruments_df = pd.read_hdf('data/instruments.h5',key='instruments')"
   ]
  },
  {
   "cell_type": "code",
   "execution_count": 12,
   "metadata": {},
   "outputs": [
    {
     "data": {
      "text/html": [
       "<div>\n",
       "<style scoped>\n",
       "    .dataframe tbody tr th:only-of-type {\n",
       "        vertical-align: middle;\n",
       "    }\n",
       "\n",
       "    .dataframe tbody tr th {\n",
       "        vertical-align: top;\n",
       "    }\n",
       "\n",
       "    .dataframe thead th {\n",
       "        text-align: right;\n",
       "    }\n",
       "</style>\n",
       "<table border=\"1\" class=\"dataframe\">\n",
       "  <thead>\n",
       "    <tr style=\"text-align: right;\">\n",
       "      <th></th>\n",
       "      <th>instrument_token</th>\n",
       "      <th>exchange_token</th>\n",
       "      <th>tradingsymbol</th>\n",
       "      <th>name</th>\n",
       "      <th>last_price</th>\n",
       "      <th>expiry</th>\n",
       "      <th>strike</th>\n",
       "      <th>tick_size</th>\n",
       "      <th>lot_size</th>\n",
       "      <th>instrument_type</th>\n",
       "      <th>segment</th>\n",
       "      <th>exchange</th>\n",
       "    </tr>\n",
       "  </thead>\n",
       "  <tbody>\n",
       "    <tr>\n",
       "      <th>0</th>\n",
       "      <td>540584966</td>\n",
       "      <td>2111660</td>\n",
       "      <td>EURINR20DEC77.7500CE</td>\n",
       "      <td>EURINR</td>\n",
       "      <td>0.0</td>\n",
       "      <td>2020-12-29</td>\n",
       "      <td>77.75</td>\n",
       "      <td>0.0025</td>\n",
       "      <td>1</td>\n",
       "      <td>CE</td>\n",
       "      <td>BCD-OPT</td>\n",
       "      <td>BCD</td>\n",
       "    </tr>\n",
       "    <tr>\n",
       "      <th>1</th>\n",
       "      <td>540578822</td>\n",
       "      <td>2111636</td>\n",
       "      <td>EURINR20DEC77.7500PE</td>\n",
       "      <td>EURINR</td>\n",
       "      <td>0.0</td>\n",
       "      <td>2020-12-29</td>\n",
       "      <td>77.75</td>\n",
       "      <td>0.0025</td>\n",
       "      <td>1</td>\n",
       "      <td>PE</td>\n",
       "      <td>BCD-OPT</td>\n",
       "      <td>BCD</td>\n",
       "    </tr>\n",
       "    <tr>\n",
       "      <th>2</th>\n",
       "      <td>540512774</td>\n",
       "      <td>2111378</td>\n",
       "      <td>EURINR20DEC78.0000CE</td>\n",
       "      <td>EURINR</td>\n",
       "      <td>0.0</td>\n",
       "      <td>2020-12-29</td>\n",
       "      <td>78.00</td>\n",
       "      <td>0.0025</td>\n",
       "      <td>1</td>\n",
       "      <td>CE</td>\n",
       "      <td>BCD-OPT</td>\n",
       "      <td>BCD</td>\n",
       "    </tr>\n",
       "    <tr>\n",
       "      <th>3</th>\n",
       "      <td>540506374</td>\n",
       "      <td>2111353</td>\n",
       "      <td>EURINR20DEC78.0000PE</td>\n",
       "      <td>EURINR</td>\n",
       "      <td>0.0</td>\n",
       "      <td>2020-12-29</td>\n",
       "      <td>78.00</td>\n",
       "      <td>0.0025</td>\n",
       "      <td>1</td>\n",
       "      <td>PE</td>\n",
       "      <td>BCD-OPT</td>\n",
       "      <td>BCD</td>\n",
       "    </tr>\n",
       "    <tr>\n",
       "      <th>4</th>\n",
       "      <td>540627462</td>\n",
       "      <td>2111826</td>\n",
       "      <td>EURINR20DEC78.2500CE</td>\n",
       "      <td>EURINR</td>\n",
       "      <td>0.0</td>\n",
       "      <td>2020-12-29</td>\n",
       "      <td>78.25</td>\n",
       "      <td>0.0025</td>\n",
       "      <td>1</td>\n",
       "      <td>CE</td>\n",
       "      <td>BCD-OPT</td>\n",
       "      <td>BCD</td>\n",
       "    </tr>\n",
       "    <tr>\n",
       "      <th>...</th>\n",
       "      <td>...</td>\n",
       "      <td>...</td>\n",
       "      <td>...</td>\n",
       "      <td>...</td>\n",
       "      <td>...</td>\n",
       "      <td>...</td>\n",
       "      <td>...</td>\n",
       "      <td>...</td>\n",
       "      <td>...</td>\n",
       "      <td>...</td>\n",
       "      <td>...</td>\n",
       "      <td>...</td>\n",
       "    </tr>\n",
       "    <tr>\n",
       "      <th>64873</th>\n",
       "      <td>978945</td>\n",
       "      <td>3824</td>\n",
       "      <td>ZODJRDMKJ</td>\n",
       "      <td>ZODIAC JRD-MKJ</td>\n",
       "      <td>0.0</td>\n",
       "      <td></td>\n",
       "      <td>0.00</td>\n",
       "      <td>0.0500</td>\n",
       "      <td>1</td>\n",
       "      <td>EQ</td>\n",
       "      <td>NSE</td>\n",
       "      <td>NSE</td>\n",
       "    </tr>\n",
       "    <tr>\n",
       "      <th>64874</th>\n",
       "      <td>2916865</td>\n",
       "      <td>11394</td>\n",
       "      <td>ZOTA</td>\n",
       "      <td>ZOTA HEALTH CARE</td>\n",
       "      <td>0.0</td>\n",
       "      <td></td>\n",
       "      <td>0.00</td>\n",
       "      <td>0.0500</td>\n",
       "      <td>1</td>\n",
       "      <td>EQ</td>\n",
       "      <td>NSE</td>\n",
       "      <td>NSE</td>\n",
       "    </tr>\n",
       "    <tr>\n",
       "      <th>64875</th>\n",
       "      <td>7437825</td>\n",
       "      <td>29054</td>\n",
       "      <td>ZUARI-BE</td>\n",
       "      <td>ZUARI AGRO CHEMICALS</td>\n",
       "      <td>0.0</td>\n",
       "      <td></td>\n",
       "      <td>0.00</td>\n",
       "      <td>0.0500</td>\n",
       "      <td>1</td>\n",
       "      <td>EQ</td>\n",
       "      <td>NSE</td>\n",
       "      <td>NSE</td>\n",
       "    </tr>\n",
       "    <tr>\n",
       "      <th>64876</th>\n",
       "      <td>979713</td>\n",
       "      <td>3827</td>\n",
       "      <td>ZUARIGLOB</td>\n",
       "      <td>ZUARI GLOBAL</td>\n",
       "      <td>0.0</td>\n",
       "      <td></td>\n",
       "      <td>0.00</td>\n",
       "      <td>0.0500</td>\n",
       "      <td>1</td>\n",
       "      <td>EQ</td>\n",
       "      <td>NSE</td>\n",
       "      <td>NSE</td>\n",
       "    </tr>\n",
       "    <tr>\n",
       "      <th>64877</th>\n",
       "      <td>4514561</td>\n",
       "      <td>17635</td>\n",
       "      <td>ZYDUSWELL</td>\n",
       "      <td>ZYDUS WELLNESS</td>\n",
       "      <td>0.0</td>\n",
       "      <td></td>\n",
       "      <td>0.00</td>\n",
       "      <td>0.0500</td>\n",
       "      <td>1</td>\n",
       "      <td>EQ</td>\n",
       "      <td>NSE</td>\n",
       "      <td>NSE</td>\n",
       "    </tr>\n",
       "  </tbody>\n",
       "</table>\n",
       "<p>64878 rows × 12 columns</p>\n",
       "</div>"
      ],
      "text/plain": [
       "       instrument_token exchange_token         tradingsymbol  \\\n",
       "0             540584966        2111660  EURINR20DEC77.7500CE   \n",
       "1             540578822        2111636  EURINR20DEC77.7500PE   \n",
       "2             540512774        2111378  EURINR20DEC78.0000CE   \n",
       "3             540506374        2111353  EURINR20DEC78.0000PE   \n",
       "4             540627462        2111826  EURINR20DEC78.2500CE   \n",
       "...                 ...            ...                   ...   \n",
       "64873            978945           3824             ZODJRDMKJ   \n",
       "64874           2916865          11394                  ZOTA   \n",
       "64875           7437825          29054              ZUARI-BE   \n",
       "64876            979713           3827             ZUARIGLOB   \n",
       "64877           4514561          17635             ZYDUSWELL   \n",
       "\n",
       "                       name  last_price      expiry  strike  tick_size  \\\n",
       "0                    EURINR         0.0  2020-12-29   77.75     0.0025   \n",
       "1                    EURINR         0.0  2020-12-29   77.75     0.0025   \n",
       "2                    EURINR         0.0  2020-12-29   78.00     0.0025   \n",
       "3                    EURINR         0.0  2020-12-29   78.00     0.0025   \n",
       "4                    EURINR         0.0  2020-12-29   78.25     0.0025   \n",
       "...                     ...         ...         ...     ...        ...   \n",
       "64873        ZODIAC JRD-MKJ         0.0                0.00     0.0500   \n",
       "64874      ZOTA HEALTH CARE         0.0                0.00     0.0500   \n",
       "64875  ZUARI AGRO CHEMICALS         0.0                0.00     0.0500   \n",
       "64876          ZUARI GLOBAL         0.0                0.00     0.0500   \n",
       "64877        ZYDUS WELLNESS         0.0                0.00     0.0500   \n",
       "\n",
       "       lot_size instrument_type  segment exchange  \n",
       "0             1              CE  BCD-OPT      BCD  \n",
       "1             1              PE  BCD-OPT      BCD  \n",
       "2             1              CE  BCD-OPT      BCD  \n",
       "3             1              PE  BCD-OPT      BCD  \n",
       "4             1              CE  BCD-OPT      BCD  \n",
       "...         ...             ...      ...      ...  \n",
       "64873         1              EQ      NSE      NSE  \n",
       "64874         1              EQ      NSE      NSE  \n",
       "64875         1              EQ      NSE      NSE  \n",
       "64876         1              EQ      NSE      NSE  \n",
       "64877         1              EQ      NSE      NSE  \n",
       "\n",
       "[64878 rows x 12 columns]"
      ]
     },
     "execution_count": 12,
     "metadata": {},
     "output_type": "execute_result"
    }
   ],
   "source": [
    "instruments_df"
   ]
  },
  {
   "cell_type": "code",
   "execution_count": 13,
   "metadata": {},
   "outputs": [],
   "source": [
    "eq_nse = instruments_df.loc[(instruments_df['exchange']=='NSE') & (instruments_df['segment']=='NSE')  & (instruments_df['instrument_type']=='EQ'), ['instrument_token','tradingsymbol']]"
   ]
  },
  {
   "cell_type": "code",
   "execution_count": 14,
   "metadata": {},
   "outputs": [
    {
     "data": {
      "text/html": [
       "<div>\n",
       "<style scoped>\n",
       "    .dataframe tbody tr th:only-of-type {\n",
       "        vertical-align: middle;\n",
       "    }\n",
       "\n",
       "    .dataframe tbody tr th {\n",
       "        vertical-align: top;\n",
       "    }\n",
       "\n",
       "    .dataframe thead th {\n",
       "        text-align: right;\n",
       "    }\n",
       "</style>\n",
       "<table border=\"1\" class=\"dataframe\">\n",
       "  <thead>\n",
       "    <tr style=\"text-align: right;\">\n",
       "      <th></th>\n",
       "      <th>tradingsymbol</th>\n",
       "    </tr>\n",
       "    <tr>\n",
       "      <th>instrument_token</th>\n",
       "      <th></th>\n",
       "    </tr>\n",
       "  </thead>\n",
       "  <tbody>\n",
       "    <tr>\n",
       "      <th>1749249</th>\n",
       "      <td>1018GS2026-GS</td>\n",
       "    </tr>\n",
       "    <tr>\n",
       "      <th>1745665</th>\n",
       "      <td>1025GS2021-GS</td>\n",
       "    </tr>\n",
       "    <tr>\n",
       "      <th>1744385</th>\n",
       "      <td>116GS2020-GS</td>\n",
       "    </tr>\n",
       "    <tr>\n",
       "      <th>4331777</th>\n",
       "      <td>20MICRONS</td>\n",
       "    </tr>\n",
       "    <tr>\n",
       "      <th>1025</th>\n",
       "      <td>21STCENMGM</td>\n",
       "    </tr>\n",
       "    <tr>\n",
       "      <th>...</th>\n",
       "      <td>...</td>\n",
       "    </tr>\n",
       "    <tr>\n",
       "      <th>978945</th>\n",
       "      <td>ZODJRDMKJ</td>\n",
       "    </tr>\n",
       "    <tr>\n",
       "      <th>2916865</th>\n",
       "      <td>ZOTA</td>\n",
       "    </tr>\n",
       "    <tr>\n",
       "      <th>7437825</th>\n",
       "      <td>ZUARI-BE</td>\n",
       "    </tr>\n",
       "    <tr>\n",
       "      <th>979713</th>\n",
       "      <td>ZUARIGLOB</td>\n",
       "    </tr>\n",
       "    <tr>\n",
       "      <th>4514561</th>\n",
       "      <td>ZYDUSWELL</td>\n",
       "    </tr>\n",
       "  </tbody>\n",
       "</table>\n",
       "<p>2481 rows × 1 columns</p>\n",
       "</div>"
      ],
      "text/plain": [
       "                  tradingsymbol\n",
       "instrument_token               \n",
       "1749249           1018GS2026-GS\n",
       "1745665           1025GS2021-GS\n",
       "1744385            116GS2020-GS\n",
       "4331777               20MICRONS\n",
       "1025                 21STCENMGM\n",
       "...                         ...\n",
       "978945                ZODJRDMKJ\n",
       "2916865                    ZOTA\n",
       "7437825                ZUARI-BE\n",
       "979713                ZUARIGLOB\n",
       "4514561               ZYDUSWELL\n",
       "\n",
       "[2481 rows x 1 columns]"
      ]
     },
     "execution_count": 14,
     "metadata": {},
     "output_type": "execute_result"
    }
   ],
   "source": [
    "eq_nse.loc[eq_nse['tradingsymbol'].isin(['TCS','WIPRO']),:].values\n",
    "\n",
    "eq_nse.set_index('instrument_token')"
   ]
  },
  {
   "cell_type": "code",
   "execution_count": 15,
   "metadata": {},
   "outputs": [
    {
     "data": {
      "text/plain": [
       "0"
      ]
     },
     "execution_count": 15,
     "metadata": {},
     "output_type": "execute_result"
    }
   ],
   "source": [
    "live_cache.delete('eq_token')"
   ]
  },
  {
   "cell_type": "code",
   "execution_count": 64,
   "metadata": {},
   "outputs": [
    {
     "data": {
      "text/plain": [
       "[{'instrument_token': 1749249, 'tradingsymbol': '1018GS2026-GS'},\n",
       " {'instrument_token': 1745665, 'tradingsymbol': '1025GS2021-GS'},\n",
       " {'instrument_token': 1744385, 'tradingsymbol': '116GS2020-GS'},\n",
       " {'instrument_token': 4331777, 'tradingsymbol': '20MICRONS'},\n",
       " {'instrument_token': 1025, 'tradingsymbol': '21STCENMGM'}]"
      ]
     },
     "execution_count": 64,
     "metadata": {},
     "output_type": "execute_result"
    }
   ],
   "source": [
    "eq_nse.head().to_dict(orient='records')"
   ]
  },
  {
   "cell_type": "code",
   "execution_count": 70,
   "metadata": {},
   "outputs": [
    {
     "data": {
      "text/plain": [
       "[{'1018GS2026-GS': 1749249,\n",
       "  '1025GS2021-GS': 1745665,\n",
       "  '116GS2020-GS': 1744385,\n",
       "  '20MICRONS': 4331777,\n",
       "  '21STCENMGM': 1025}]"
      ]
     },
     "execution_count": 70,
     "metadata": {},
     "output_type": "execute_result"
    }
   ],
   "source": [
    "eq_nse.head().set_index('tradingsymbol').transpose().to_dict(orient='records')"
   ]
  },
  {
   "cell_type": "code",
   "execution_count": 76,
   "metadata": {},
   "outputs": [
    {
     "data": {
      "text/plain": [
       "{1749249: '1018GS2026-GS',\n",
       " 1745665: '1025GS2021-GS',\n",
       " 1744385: '116GS2020-GS',\n",
       " 4331777: '20MICRONS',\n",
       " 1025: '21STCENMGM'}"
      ]
     },
     "execution_count": 76,
     "metadata": {},
     "output_type": "execute_result"
    }
   ],
   "source": [
    "eq_nse.head().set_index('instrument_token').transpose().to_dict(orient='records')[0]"
   ]
  },
  {
   "cell_type": "code",
   "execution_count": 16,
   "metadata": {},
   "outputs": [
    {
     "data": {
      "text/plain": [
       "True"
      ]
     },
     "execution_count": 16,
     "metadata": {},
     "output_type": "execute_result"
    }
   ],
   "source": [
    "live_cache.hmset('eq_token',eq_nse.set_index('instrument_token').transpose().to_dict(orient='records')[0])\n",
    "live_cache.hmset('eq_token',eq_nse.set_index('tradingsymbol').transpose().to_dict(orient='records')[0])"
   ]
  },
  {
   "cell_type": "code",
   "execution_count": 17,
   "metadata": {},
   "outputs": [
    {
     "data": {
      "text/plain": [
       "['2953217', '969473']"
      ]
     },
     "execution_count": 17,
     "metadata": {},
     "output_type": "execute_result"
    }
   ],
   "source": [
    "live_cache.hmget('eq_token',['TCS','WIPRO'])"
   ]
  },
  {
   "cell_type": "code",
   "execution_count": 10,
   "metadata": {},
   "outputs": [
    {
     "data": {
      "text/plain": [
       "{}"
      ]
     },
     "execution_count": 10,
     "metadata": {},
     "output_type": "execute_result"
    }
   ],
   "source": [
    "live_cache.hgetall('eq_token')"
   ]
  },
  {
   "cell_type": "code",
   "execution_count": 37,
   "metadata": {},
   "outputs": [
    {
     "ename": "DataError",
     "evalue": "Invalid input of type: 'list'. Convert to a bytes, string, int or float first.",
     "output_type": "error",
     "traceback": [
      "\u001b[0;31m---------------------------------------------------------------------------\u001b[0m",
      "\u001b[0;31mDataError\u001b[0m                                 Traceback (most recent call last)",
      "\u001b[0;32m<ipython-input-37-4f035b5bf5b9>\u001b[0m in \u001b[0;36m<module>\u001b[0;34m\u001b[0m\n\u001b[0;32m----> 1\u001b[0;31m \u001b[0mlive_cache\u001b[0m\u001b[0;34m.\u001b[0m\u001b[0mhget\u001b[0m\u001b[0;34m(\u001b[0m\u001b[0;34m'eq_token'\u001b[0m\u001b[0;34m,\u001b[0m\u001b[0;34m[\u001b[0m\u001b[0;36m2953217\u001b[0m\u001b[0;34m,\u001b[0m \u001b[0;36m969473\u001b[0m\u001b[0;34m]\u001b[0m\u001b[0;34m)\u001b[0m\u001b[0;34m\u001b[0m\u001b[0;34m\u001b[0m\u001b[0m\n\u001b[0m",
      "\u001b[0;32m/usr/local/lib/python3.7/site-packages/redis/client.py\u001b[0m in \u001b[0;36mhget\u001b[0;34m(self, name, key)\u001b[0m\n\u001b[1;32m   2973\u001b[0m     \u001b[0;32mdef\u001b[0m \u001b[0mhget\u001b[0m\u001b[0;34m(\u001b[0m\u001b[0mself\u001b[0m\u001b[0;34m,\u001b[0m \u001b[0mname\u001b[0m\u001b[0;34m,\u001b[0m \u001b[0mkey\u001b[0m\u001b[0;34m)\u001b[0m\u001b[0;34m:\u001b[0m\u001b[0;34m\u001b[0m\u001b[0;34m\u001b[0m\u001b[0m\n\u001b[1;32m   2974\u001b[0m         \u001b[0;34m\"Return the value of ``key`` within the hash ``name``\"\u001b[0m\u001b[0;34m\u001b[0m\u001b[0;34m\u001b[0m\u001b[0m\n\u001b[0;32m-> 2975\u001b[0;31m         \u001b[0;32mreturn\u001b[0m \u001b[0mself\u001b[0m\u001b[0;34m.\u001b[0m\u001b[0mexecute_command\u001b[0m\u001b[0;34m(\u001b[0m\u001b[0;34m'HGET'\u001b[0m\u001b[0;34m,\u001b[0m \u001b[0mname\u001b[0m\u001b[0;34m,\u001b[0m \u001b[0mkey\u001b[0m\u001b[0;34m)\u001b[0m\u001b[0;34m\u001b[0m\u001b[0;34m\u001b[0m\u001b[0m\n\u001b[0m\u001b[1;32m   2976\u001b[0m \u001b[0;34m\u001b[0m\u001b[0m\n\u001b[1;32m   2977\u001b[0m     \u001b[0;32mdef\u001b[0m \u001b[0mhgetall\u001b[0m\u001b[0;34m(\u001b[0m\u001b[0mself\u001b[0m\u001b[0;34m,\u001b[0m \u001b[0mname\u001b[0m\u001b[0;34m)\u001b[0m\u001b[0;34m:\u001b[0m\u001b[0;34m\u001b[0m\u001b[0;34m\u001b[0m\u001b[0m\n",
      "\u001b[0;32m/usr/local/lib/python3.7/site-packages/redis/client.py\u001b[0m in \u001b[0;36mexecute_command\u001b[0;34m(self, *args, **options)\u001b[0m\n\u001b[1;32m    875\u001b[0m         \u001b[0mconn\u001b[0m \u001b[0;34m=\u001b[0m \u001b[0mself\u001b[0m\u001b[0;34m.\u001b[0m\u001b[0mconnection\u001b[0m \u001b[0;32mor\u001b[0m \u001b[0mpool\u001b[0m\u001b[0;34m.\u001b[0m\u001b[0mget_connection\u001b[0m\u001b[0;34m(\u001b[0m\u001b[0mcommand_name\u001b[0m\u001b[0;34m,\u001b[0m \u001b[0;34m**\u001b[0m\u001b[0moptions\u001b[0m\u001b[0;34m)\u001b[0m\u001b[0;34m\u001b[0m\u001b[0;34m\u001b[0m\u001b[0m\n\u001b[1;32m    876\u001b[0m         \u001b[0;32mtry\u001b[0m\u001b[0;34m:\u001b[0m\u001b[0;34m\u001b[0m\u001b[0;34m\u001b[0m\u001b[0m\n\u001b[0;32m--> 877\u001b[0;31m             \u001b[0mconn\u001b[0m\u001b[0;34m.\u001b[0m\u001b[0msend_command\u001b[0m\u001b[0;34m(\u001b[0m\u001b[0;34m*\u001b[0m\u001b[0margs\u001b[0m\u001b[0;34m)\u001b[0m\u001b[0;34m\u001b[0m\u001b[0;34m\u001b[0m\u001b[0m\n\u001b[0m\u001b[1;32m    878\u001b[0m             \u001b[0;32mreturn\u001b[0m \u001b[0mself\u001b[0m\u001b[0;34m.\u001b[0m\u001b[0mparse_response\u001b[0m\u001b[0;34m(\u001b[0m\u001b[0mconn\u001b[0m\u001b[0;34m,\u001b[0m \u001b[0mcommand_name\u001b[0m\u001b[0;34m,\u001b[0m \u001b[0;34m**\u001b[0m\u001b[0moptions\u001b[0m\u001b[0;34m)\u001b[0m\u001b[0;34m\u001b[0m\u001b[0;34m\u001b[0m\u001b[0m\n\u001b[1;32m    879\u001b[0m         \u001b[0;32mexcept\u001b[0m \u001b[0;34m(\u001b[0m\u001b[0mConnectionError\u001b[0m\u001b[0;34m,\u001b[0m \u001b[0mTimeoutError\u001b[0m\u001b[0;34m)\u001b[0m \u001b[0;32mas\u001b[0m \u001b[0me\u001b[0m\u001b[0;34m:\u001b[0m\u001b[0;34m\u001b[0m\u001b[0;34m\u001b[0m\u001b[0m\n",
      "\u001b[0;32m/usr/local/lib/python3.7/site-packages/redis/connection.py\u001b[0m in \u001b[0;36msend_command\u001b[0;34m(self, *args, **kwargs)\u001b[0m\n\u001b[1;32m    718\u001b[0m     \u001b[0;32mdef\u001b[0m \u001b[0msend_command\u001b[0m\u001b[0;34m(\u001b[0m\u001b[0mself\u001b[0m\u001b[0;34m,\u001b[0m \u001b[0;34m*\u001b[0m\u001b[0margs\u001b[0m\u001b[0;34m,\u001b[0m \u001b[0;34m**\u001b[0m\u001b[0mkwargs\u001b[0m\u001b[0;34m)\u001b[0m\u001b[0;34m:\u001b[0m\u001b[0;34m\u001b[0m\u001b[0;34m\u001b[0m\u001b[0m\n\u001b[1;32m    719\u001b[0m         \u001b[0;34m\"Pack and send a command to the Redis server\"\u001b[0m\u001b[0;34m\u001b[0m\u001b[0;34m\u001b[0m\u001b[0m\n\u001b[0;32m--> 720\u001b[0;31m         self.send_packed_command(self.pack_command(*args),\n\u001b[0m\u001b[1;32m    721\u001b[0m                                  check_health=kwargs.get('check_health', True))\n\u001b[1;32m    722\u001b[0m \u001b[0;34m\u001b[0m\u001b[0m\n",
      "\u001b[0;32m/usr/local/lib/python3.7/site-packages/redis/connection.py\u001b[0m in \u001b[0;36mpack_command\u001b[0;34m(self, *args)\u001b[0m\n\u001b[1;32m    769\u001b[0m \u001b[0;34m\u001b[0m\u001b[0m\n\u001b[1;32m    770\u001b[0m         \u001b[0mbuffer_cutoff\u001b[0m \u001b[0;34m=\u001b[0m \u001b[0mself\u001b[0m\u001b[0;34m.\u001b[0m\u001b[0m_buffer_cutoff\u001b[0m\u001b[0;34m\u001b[0m\u001b[0;34m\u001b[0m\u001b[0m\n\u001b[0;32m--> 771\u001b[0;31m         \u001b[0;32mfor\u001b[0m \u001b[0marg\u001b[0m \u001b[0;32min\u001b[0m \u001b[0mimap\u001b[0m\u001b[0;34m(\u001b[0m\u001b[0mself\u001b[0m\u001b[0;34m.\u001b[0m\u001b[0mencoder\u001b[0m\u001b[0;34m.\u001b[0m\u001b[0mencode\u001b[0m\u001b[0;34m,\u001b[0m \u001b[0margs\u001b[0m\u001b[0;34m)\u001b[0m\u001b[0;34m:\u001b[0m\u001b[0;34m\u001b[0m\u001b[0;34m\u001b[0m\u001b[0m\n\u001b[0m\u001b[1;32m    772\u001b[0m             \u001b[0;31m# to avoid large string mallocs, chunk the command into the\u001b[0m\u001b[0;34m\u001b[0m\u001b[0;34m\u001b[0m\u001b[0;34m\u001b[0m\u001b[0m\n\u001b[1;32m    773\u001b[0m             \u001b[0;31m# output list if we're sending large values\u001b[0m\u001b[0;34m\u001b[0m\u001b[0;34m\u001b[0m\u001b[0;34m\u001b[0m\u001b[0m\n",
      "\u001b[0;32m/usr/local/lib/python3.7/site-packages/redis/connection.py\u001b[0m in \u001b[0;36mencode\u001b[0;34m(self, value)\u001b[0m\n\u001b[1;32m    119\u001b[0m             \u001b[0mtypename\u001b[0m \u001b[0;34m=\u001b[0m \u001b[0mtype\u001b[0m\u001b[0;34m(\u001b[0m\u001b[0mvalue\u001b[0m\u001b[0;34m)\u001b[0m\u001b[0;34m.\u001b[0m\u001b[0m__name__\u001b[0m\u001b[0;34m\u001b[0m\u001b[0;34m\u001b[0m\u001b[0m\n\u001b[1;32m    120\u001b[0m             raise DataError(\"Invalid input of type: '%s'. Convert to a \"\n\u001b[0;32m--> 121\u001b[0;31m                             \"bytes, string, int or float first.\" % typename)\n\u001b[0m\u001b[1;32m    122\u001b[0m         \u001b[0;32mif\u001b[0m \u001b[0misinstance\u001b[0m\u001b[0;34m(\u001b[0m\u001b[0mvalue\u001b[0m\u001b[0;34m,\u001b[0m \u001b[0municode\u001b[0m\u001b[0;34m)\u001b[0m\u001b[0;34m:\u001b[0m\u001b[0;34m\u001b[0m\u001b[0;34m\u001b[0m\u001b[0m\n\u001b[1;32m    123\u001b[0m             \u001b[0mvalue\u001b[0m \u001b[0;34m=\u001b[0m \u001b[0mvalue\u001b[0m\u001b[0;34m.\u001b[0m\u001b[0mencode\u001b[0m\u001b[0;34m(\u001b[0m\u001b[0mself\u001b[0m\u001b[0;34m.\u001b[0m\u001b[0mencoding\u001b[0m\u001b[0;34m,\u001b[0m \u001b[0mself\u001b[0m\u001b[0;34m.\u001b[0m\u001b[0mencoding_errors\u001b[0m\u001b[0;34m)\u001b[0m\u001b[0;34m\u001b[0m\u001b[0;34m\u001b[0m\u001b[0m\n",
      "\u001b[0;31mDataError\u001b[0m: Invalid input of type: 'list'. Convert to a bytes, string, int or float first."
     ]
    }
   ],
   "source": [
    "live_cache.hget('eq_token',[2953217, 969473])"
   ]
  },
  {
   "cell_type": "code",
   "execution_count": 42,
   "metadata": {},
   "outputs": [],
   "source": [
    "msg = {'data': '[{\"tradable\": true, \"mode\": \"quote\", \"instrument_token\": 969473, \"last_price\": 184.7, \"last_quantity\": 5, \"average_price\": 187.07, \"volume\": 4393242, \"buy_quantity\": 0, \"sell_quantity\": 0, \"ohlc\": {\"open\": 185.0, \"high\": 189.95, \"low\": 184.1, \"close\": 184.0}, \"change\": 0.38043478260868946}, {\"tradable\": true, \"mode\": \"quote\", \"instrument_token\": 2953217, \"last_price\": 1935.3, \"last_quantity\": 25, \"average_price\": 1939.47, \"volume\": 2449395, \"buy_quantity\": 0, \"sell_quantity\": 0, \"ohlc\": {\"open\": 1909.0, \"high\": 1951.4, \"low\": 1909.0, \"close\": 1893.4}, \"change\": 2.2129502482306886}]'}"
   ]
  },
  {
   "cell_type": "code",
   "execution_count": 43,
   "metadata": {},
   "outputs": [
    {
     "data": {
      "text/plain": [
       "'[{\"tradable\": true, \"mode\": \"quote\", \"instrument_token\": 969473, \"last_price\": 184.7, \"last_quantity\": 5, \"average_price\": 187.07, \"volume\": 4393242, \"buy_quantity\": 0, \"sell_quantity\": 0, \"ohlc\": {\"open\": 185.0, \"high\": 189.95, \"low\": 184.1, \"close\": 184.0}, \"change\": 0.38043478260868946}, {\"tradable\": true, \"mode\": \"quote\", \"instrument_token\": 2953217, \"last_price\": 1935.3, \"last_quantity\": 25, \"average_price\": 1939.47, \"volume\": 2449395, \"buy_quantity\": 0, \"sell_quantity\": 0, \"ohlc\": {\"open\": 1909.0, \"high\": 1951.4, \"low\": 1909.0, \"close\": 1893.4}, \"change\": 2.2129502482306886}]'"
      ]
     },
     "execution_count": 43,
     "metadata": {},
     "output_type": "execute_result"
    }
   ],
   "source": [
    "msg['data']"
   ]
  },
  {
   "cell_type": "code",
   "execution_count": 45,
   "metadata": {},
   "outputs": [],
   "source": [
    "val = json.loads(msg['data'])"
   ]
  },
  {
   "cell_type": "code",
   "execution_count": 58,
   "metadata": {},
   "outputs": [
    {
     "name": "stdout",
     "output_type": "stream",
     "text": [
      "WIPRO\n",
      "184.7\n",
      "TCS\n",
      "1935.3\n"
     ]
    }
   ],
   "source": [
    "for data in val:\n",
    "    instrument_token = data['instrument_token']\n",
    "    stock_id = live_cache.hmget('eq_token',instrument_token)[0]\n",
    "\n",
    "\n",
    "    ltp = data['last_price']\n",
    "    #temp_df = pd.DataFrame(data={'date':[date_val],'ltp':[ltp]})\n",
    "    #temp_df = temp_df.set_index('date')\n",
    "    #temp_df.index = pd.to_datetime(temp_df.index)\n",
    "    print(stock_id)\n",
    "    print(ltp)\n",
    "    hash_key = stock_id"
   ]
  },
  {
   "cell_type": "code",
   "execution_count": 55,
   "metadata": {},
   "outputs": [
    {
     "data": {
      "text/plain": [
       "['WIPRO']"
      ]
     },
     "execution_count": 55,
     "metadata": {},
     "output_type": "execute_result"
    }
   ],
   "source": [
    "stock_id"
   ]
  },
  {
   "cell_type": "code",
   "execution_count": 94,
   "metadata": {},
   "outputs": [
    {
     "data": {
      "text/html": [
       "<div>\n",
       "<style scoped>\n",
       "    .dataframe tbody tr th:only-of-type {\n",
       "        vertical-align: middle;\n",
       "    }\n",
       "\n",
       "    .dataframe tbody tr th {\n",
       "        vertical-align: top;\n",
       "    }\n",
       "\n",
       "    .dataframe thead th {\n",
       "        text-align: right;\n",
       "    }\n",
       "</style>\n",
       "<table border=\"1\" class=\"dataframe\">\n",
       "  <thead>\n",
       "    <tr style=\"text-align: right;\">\n",
       "      <th></th>\n",
       "      <th>stock</th>\n",
       "      <th>qty</th>\n",
       "      <th>SL %</th>\n",
       "      <th>TP %</th>\n",
       "      <th>amount</th>\n",
       "      <th>price</th>\n",
       "      <th>P&amp;L</th>\n",
       "      <th>P&amp;L %</th>\n",
       "      <th>Total P&amp;L</th>\n",
       "      <th>Total P&amp;L %</th>\n",
       "      <th>...</th>\n",
       "      <th>ltp</th>\n",
       "      <th>ltp %</th>\n",
       "      <th>tp</th>\n",
       "      <th>high</th>\n",
       "      <th>last_processed</th>\n",
       "      <th>state</th>\n",
       "      <th>mode</th>\n",
       "      <th>algo</th>\n",
       "      <th>freq</th>\n",
       "      <th>hdf_freq</th>\n",
       "    </tr>\n",
       "  </thead>\n",
       "  <tbody>\n",
       "    <tr>\n",
       "      <th>0</th>\n",
       "      <td>WIPRO</td>\n",
       "      <td>1</td>\n",
       "      <td>1</td>\n",
       "      <td>1</td>\n",
       "      <td>0</td>\n",
       "      <td>0</td>\n",
       "      <td>0</td>\n",
       "      <td>0.0</td>\n",
       "      <td>0</td>\n",
       "      <td>0.0</td>\n",
       "      <td>...</td>\n",
       "      <td>0.0</td>\n",
       "      <td>0.0</td>\n",
       "      <td>0.0</td>\n",
       "      <td>0.0</td>\n",
       "      <td>1999-01-01</td>\n",
       "      <td>INIT</td>\n",
       "      <td>PAUSE</td>\n",
       "      <td>haikin_1_new</td>\n",
       "      <td>1T</td>\n",
       "      <td>minute</td>\n",
       "    </tr>\n",
       "    <tr>\n",
       "      <th>1</th>\n",
       "      <td>TCS</td>\n",
       "      <td>1</td>\n",
       "      <td>1</td>\n",
       "      <td>1</td>\n",
       "      <td>0</td>\n",
       "      <td>0</td>\n",
       "      <td>0</td>\n",
       "      <td>0.0</td>\n",
       "      <td>0</td>\n",
       "      <td>0.0</td>\n",
       "      <td>...</td>\n",
       "      <td>0.0</td>\n",
       "      <td>0.0</td>\n",
       "      <td>0.0</td>\n",
       "      <td>0.0</td>\n",
       "      <td>1999-01-01</td>\n",
       "      <td>INIT</td>\n",
       "      <td>PAUSE</td>\n",
       "      <td>haikin_1_new</td>\n",
       "      <td>1T</td>\n",
       "      <td>minute</td>\n",
       "    </tr>\n",
       "  </tbody>\n",
       "</table>\n",
       "<p>2 rows × 22 columns</p>\n",
       "</div>"
      ],
      "text/plain": [
       "   stock qty SL % TP % amount price P&L P&L % Total P&L Total P&L %  ...  ltp  \\\n",
       "0  WIPRO   1    1    1      0     0   0   0.0         0         0.0  ...  0.0   \n",
       "1    TCS   1    1    1      0     0   0   0.0         0         0.0  ...  0.0   \n",
       "\n",
       "  ltp %   tp high last_processed state   mode          algo freq hdf_freq  \n",
       "0   0.0  0.0  0.0     1999-01-01  INIT  PAUSE  haikin_1_new   1T   minute  \n",
       "1   0.0  0.0  0.0     1999-01-01  INIT  PAUSE  haikin_1_new   1T   minute  \n",
       "\n",
       "[2 rows x 22 columns]"
      ]
     },
     "execution_count": 94,
     "metadata": {},
     "output_type": "execute_result"
    }
   ],
   "source": [
    "live_cache.getValue()"
   ]
  },
  {
   "cell_type": "code",
   "execution_count": 93,
   "metadata": {},
   "outputs": [],
   "source": [
    "live_cache.add('WIPRO')"
   ]
  },
  {
   "cell_type": "code",
   "execution_count": 90,
   "metadata": {},
   "outputs": [
    {
     "data": {
      "text/plain": [
       "0"
      ]
     },
     "execution_count": 90,
     "metadata": {},
     "output_type": "execute_result"
    }
   ],
   "source": [
    "stock_key = 'TCS'\n",
    "live_cache.setValue(stock_key, 'algo', 'haikin_1_new')\n",
    "live_cache.setValue(stock_key, 'freq', '1T')\n",
    "live_cache.setValue(stock_key, 'qty', 1)\n",
    "live_cache.setValue(stock_key, 'SL %', 1)\n",
    "live_cache.setValue(stock_key, 'TP %', 1)\n",
    "live_cache.setValue(stock_key, 'P&L', 0)\n",
    "live_cache.setValue(stock_key, 'Total P&L', 0)\n",
    "live_cache.setValue(stock_key, 'price', 0)\n",
    "live_cache.setValue(stock_key, 'hdf_freq', 'minute')"
   ]
  },
  {
   "cell_type": "code",
   "execution_count": 86,
   "metadata": {},
   "outputs": [],
   "source": [
    "live_cache.add('TCS')"
   ]
  },
  {
   "cell_type": "code",
   "execution_count": 82,
   "metadata": {},
   "outputs": [],
   "source": [
    "live_cache.remove()"
   ]
  },
  {
   "cell_type": "code",
   "execution_count": 6,
   "metadata": {},
   "outputs": [
    {
     "data": {
      "text/html": [
       "<div>\n",
       "<style scoped>\n",
       "    .dataframe tbody tr th:only-of-type {\n",
       "        vertical-align: middle;\n",
       "    }\n",
       "\n",
       "    .dataframe tbody tr th {\n",
       "        vertical-align: top;\n",
       "    }\n",
       "\n",
       "    .dataframe thead th {\n",
       "        text-align: right;\n",
       "    }\n",
       "</style>\n",
       "<table border=\"1\" class=\"dataframe\">\n",
       "  <thead>\n",
       "    <tr style=\"text-align: right;\">\n",
       "      <th></th>\n",
       "      <th>stock</th>\n",
       "      <th>qty</th>\n",
       "      <th>SL %</th>\n",
       "      <th>TP %</th>\n",
       "      <th>amount</th>\n",
       "      <th>price</th>\n",
       "      <th>P&amp;L</th>\n",
       "      <th>P&amp;L %</th>\n",
       "      <th>Total P&amp;L</th>\n",
       "      <th>Total P&amp;L %</th>\n",
       "      <th>...</th>\n",
       "      <th>ltp</th>\n",
       "      <th>ltp %</th>\n",
       "      <th>tp</th>\n",
       "      <th>high</th>\n",
       "      <th>last_processed</th>\n",
       "      <th>state</th>\n",
       "      <th>mode</th>\n",
       "      <th>algo</th>\n",
       "      <th>freq</th>\n",
       "      <th>hdf_freq</th>\n",
       "    </tr>\n",
       "  </thead>\n",
       "  <tbody>\n",
       "    <tr>\n",
       "      <th>0</th>\n",
       "      <td>WIPRO</td>\n",
       "      <td>1</td>\n",
       "      <td>1</td>\n",
       "      <td>1</td>\n",
       "      <td>0</td>\n",
       "      <td>0</td>\n",
       "      <td>0</td>\n",
       "      <td>0.0</td>\n",
       "      <td>0</td>\n",
       "      <td>0.0</td>\n",
       "      <td>...</td>\n",
       "      <td>184.7</td>\n",
       "      <td>0.0</td>\n",
       "      <td>0.0</td>\n",
       "      <td>184.7</td>\n",
       "      <td>2020-05-11 10:26</td>\n",
       "      <td>SCANNING</td>\n",
       "      <td>PAUSE</td>\n",
       "      <td>haikin_1_new</td>\n",
       "      <td>1T</td>\n",
       "      <td>minute</td>\n",
       "    </tr>\n",
       "    <tr>\n",
       "      <th>1</th>\n",
       "      <td>TCS</td>\n",
       "      <td>1</td>\n",
       "      <td>1</td>\n",
       "      <td>1</td>\n",
       "      <td>0</td>\n",
       "      <td>0</td>\n",
       "      <td>0</td>\n",
       "      <td>0.0</td>\n",
       "      <td>0</td>\n",
       "      <td>0.0</td>\n",
       "      <td>...</td>\n",
       "      <td>1935.3</td>\n",
       "      <td>0.0</td>\n",
       "      <td>0.0</td>\n",
       "      <td>1935.3</td>\n",
       "      <td>2020-05-11 10:26</td>\n",
       "      <td>SCANNING</td>\n",
       "      <td>PAUSE</td>\n",
       "      <td>haikin_1_new</td>\n",
       "      <td>1T</td>\n",
       "      <td>minute</td>\n",
       "    </tr>\n",
       "  </tbody>\n",
       "</table>\n",
       "<p>2 rows × 22 columns</p>\n",
       "</div>"
      ],
      "text/plain": [
       "   stock qty SL % TP % amount price P&L P&L % Total P&L Total P&L %  ...  \\\n",
       "0  WIPRO   1    1    1      0     0   0   0.0         0         0.0  ...   \n",
       "1    TCS   1    1    1      0     0   0   0.0         0         0.0  ...   \n",
       "\n",
       "      ltp ltp %   tp    high    last_processed     state   mode          algo  \\\n",
       "0   184.7   0.0  0.0   184.7  2020-05-11 10:26  SCANNING  PAUSE  haikin_1_new   \n",
       "1  1935.3   0.0  0.0  1935.3  2020-05-11 10:26  SCANNING  PAUSE  haikin_1_new   \n",
       "\n",
       "  freq hdf_freq  \n",
       "0   1T   minute  \n",
       "1   1T   minute  \n",
       "\n",
       "[2 rows x 22 columns]"
      ]
     },
     "execution_count": 6,
     "metadata": {},
     "output_type": "execute_result"
    }
   ],
   "source": [
    "live_cache.getValue()"
   ]
  },
  {
   "cell_type": "code",
   "execution_count": null,
   "metadata": {},
   "outputs": [],
   "source": []
  },
  {
   "cell_type": "code",
   "execution_count": 18,
   "metadata": {},
   "outputs": [
    {
     "data": {
      "text/plain": [
       "'2953217'"
      ]
     },
     "execution_count": 18,
     "metadata": {},
     "output_type": "execute_result"
    }
   ],
   "source": [
    "live_cache.hmget('eq_token','TCS')[0]"
   ]
  },
  {
   "cell_type": "code",
   "execution_count": null,
   "metadata": {},
   "outputs": [],
   "source": []
  },
  {
   "cell_type": "code",
   "execution_count": null,
   "metadata": {},
   "outputs": [],
   "source": []
  }
 ],
 "metadata": {
  "kernelspec": {
   "display_name": "Python 3",
   "language": "python",
   "name": "python3"
  },
  "language_info": {
   "codemirror_mode": {
    "name": "ipython",
    "version": 3
   },
   "file_extension": ".py",
   "mimetype": "text/x-python",
   "name": "python",
   "nbconvert_exporter": "python",
   "pygments_lexer": "ipython3",
   "version": "3.7.7"
  }
 },
 "nbformat": 4,
 "nbformat_minor": 4
}
