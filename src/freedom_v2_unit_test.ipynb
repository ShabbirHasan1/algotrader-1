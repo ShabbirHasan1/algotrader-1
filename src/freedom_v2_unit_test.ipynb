{
 "cells": [
  {
   "cell_type": "code",
   "execution_count": null,
   "metadata": {},
   "outputs": [],
   "source": [
    "%load_ext autoreload\n",
    "%autoreload 2\n",
    "#from lib.multitasking_lib import *"
   ]
  },
  {
   "cell_type": "code",
   "execution_count": null,
   "metadata": {},
   "outputs": [],
   "source": [
    "from lib.multitasking_lib import *\n",
    "cache_type ='backtest_uni'\n",
    "\n",
    "my_cache = cache_state('backtest_uni')"
   ]
  },
  {
   "cell_type": "code",
   "execution_count": null,
   "metadata": {
    "scrolled": true
   },
   "outputs": [],
   "source": [
    "######################\n",
    "# Initiate Backtest  #\n",
    "######################\n",
    "\n",
    "\n",
    "def store_algo(algo, algo_name=\"default\"):\n",
    "    redis_conn.hset(\"algos\",algo_name, algo)\n",
    "    algo_f = open(\"log/\"+algo_name+\".txt\", \"w\")\n",
    "    algo_f.write(algo)\n",
    "    algo_f.close()\n",
    "    \n",
    "#my_cache.flushall()\n",
    "def backtest_unitest(stocks, freq='1T',algo_name = 'haikin_1_new', fromDate='2019-4-8', toDate='2019-4-9', mode='full'):\n",
    "    stocks = stocks\n",
    "    sl = 1\n",
    "    target = 1\n",
    "    qty = 10\n",
    "    backtest_msg={'stock':stocks,'sl':sl,'target':target,'qty':qty,'algo':algo_name,'fromDate':fromDate,'toDate':toDate,'freq':freq, 'mode':mode}\n",
    "\n",
    "    # Step 4: Done is set to 0: Backtest is in progress, will be resetted by backtest job\n",
    "    redis_conn.set('done'+cache_type,0)\n",
    "    # Step 5: Send the msg to backtest thread to initiate the back test\n",
    "    #pdebug(json.dumps(backtest_msg))\n",
    "    redis_conn.publish('kite_simulator'+cache_type,json.dumps(backtest_msg))\n",
    "    \n",
    "##########################\n",
    "# Unit Test              #\n",
    "##########################\n",
    "\n",
    "open('log/freedom.log','r+')\n",
    "#log_file.close()\n",
    "\n",
    "logger.setLevel(10)\n",
    "loggerT.setLevel(21)\n",
    "redis_conn.set('done'+cache_type,1)\n",
    "\n",
    "try:\n",
    "    if backtest_manager.job.is_alive():\n",
    "        backtest_manager.job.terminate()\n",
    "        time.sleep(0.1)\n",
    "except:\n",
    "    pass\n",
    "finally:\n",
    "    backtest_manager = threadManager(cache_type, [\"kite_simulator\",\"ohlc_tick_handler\"], [kite_simulator, ohlc_tick_handler])\n",
    "    \n",
    "print(backtest_manager.job.is_alive())\n",
    "print(redis_conn.pubsub_channels())\n",
    "print(jobs)\n"
   ]
  },
  {
   "cell_type": "code",
   "execution_count": null,
   "metadata": {},
   "outputs": [],
   "source": [
    "datetime.fromtimestamp(1589305326570/1000).strftime('%Y-%m-%d %H:%M:%S')"
   ]
  },
  {
   "cell_type": "code",
   "execution_count": null,
   "metadata": {
    "scrolled": true
   },
   "outputs": [],
   "source": [
    "backtest_unitest(['TCS'])"
   ]
  },
  {
   "cell_type": "code",
   "execution_count": null,
   "metadata": {},
   "outputs": [],
   "source": [
    "my_cache.get('last_id_msg')"
   ]
  },
  {
   "cell_type": "code",
   "execution_count": null,
   "metadata": {},
   "outputs": [],
   "source": []
  },
  {
   "cell_type": "code",
   "execution_count": null,
   "metadata": {
    "scrolled": true
   },
   "outputs": [],
   "source": [
    "my_cache.set('last_id_msg',0)"
   ]
  },
  {
   "cell_type": "code",
   "execution_count": null,
   "metadata": {},
   "outputs": [],
   "source": [
    "################################\n",
    "###         Stop Trade       ###\n",
    "################################\n",
    "\n",
    "my_cache.delete('msgBufferQueue'+cache_postfix)\n",
    "my_cache.set('TCSbacktest_uniTICK',pd.DataFrame().to_json())\n",
    "\n",
    "if backtest_manager.job.is_alive():\n",
    "    backtest_manager.job.terminate()\n",
    "time.sleep(1)\n",
    "print(backtest_manager.job.is_alive())\n",
    "print(redis_conn.pubsub_channels())\n",
    "\n",
    "jobs\n",
    "jobs = []"
   ]
  },
  {
   "cell_type": "code",
   "execution_count": null,
   "metadata": {},
   "outputs": [],
   "source": [
    "backtest_unitest(['TCS'])"
   ]
  },
  {
   "cell_type": "code",
   "execution_count": null,
   "metadata": {},
   "outputs": [],
   "source": [
    "backtest_unitest(['WIPRO','TCS'])"
   ]
  },
  {
   "cell_type": "code",
   "execution_count": null,
   "metadata": {},
   "outputs": [],
   "source": [
    "from lib.charting_lib import *\n",
    "cache_type = 'backtest_uni'\n",
    "chart_type ='haikin'\n",
    "\n",
    "symbol='TCS'\n",
    "my_cache = cache_state(cache_type)\n",
    "\n",
    "#######  Hack for freq  ############\n",
    "my_cache.setValue('TCS','freq','1T')\n",
    "#####################################\n",
    "dfohlc = my_cache.getOHLC(symbol)\n",
    "print(dfohlc.tail())\n",
    "trade_df = pd.read_json(redis_conn.get(symbol+cache_type+'Trade'), orient='columns')\n",
    "\n",
    "render_charts(dfohlc, trade_df, symbol, chart_type)"
   ]
  },
  {
   "cell_type": "code",
   "execution_count": null,
   "metadata": {},
   "outputs": [],
   "source": [
    "cache_state('backtest_uni').getValue()"
   ]
  },
  {
   "cell_type": "code",
   "execution_count": null,
   "metadata": {
    "scrolled": true
   },
   "outputs": [],
   "source": [
    "###########################################################\n",
    "###                  Quick Backtest                     ###\n",
    "###########################################################\n",
    "from talib import MACD, MACDEXT, RSI, BBANDS, MACD, AROON, STOCHF, ATR, OBV, ADOSC, MINUS_DI, PLUS_DI, ADX, EMA, SMA\n",
    "from talib import LINEARREG, BETA, LINEARREG_INTERCEPT, LINEARREG_SLOPE, STDDEV, TSF, ADOSC, VAR, ROC, MIN, MAX, MINMAX\n",
    "\n",
    "ohlc_get = lambda df, key: df.iloc[-1][key]\n",
    "def HAIKINASI(ohlc_data_df):\n",
    "    REF = lambda key, i: ohlc_get(ohlc_data_df.shift(i), key)\n",
    "    \n",
    "    OPEN  = ohlc_data_df['open']\n",
    "    HIGH  = ohlc_data_df['high']\n",
    "    LOW   = ohlc_data_df['low']\n",
    "    CLOSE = ohlc_data_df['close']\n",
    "    \n",
    "    haOPEN  = (OPEN.shift(1) + CLOSE.shift(1))/2\n",
    "    haHIGH  = pd.DataFrame([HIGH,OPEN,CLOSE]).max(axis = 0, skipna = True)\n",
    "    haLOW   = pd.DataFrame([LOW,OPEN,CLOSE]).min(axis = 0, skipna = True)\n",
    "    haCLOSE = (OPEN+HIGH+LOW+CLOSE)/4\n",
    "    \n",
    "    return (haOPEN, haHIGH, haLOW, haCLOSE)\n",
    "\n",
    "\n",
    "################ Load Data ###################\n",
    "from lib.charting_lib import *\n",
    "cache_type = 'backtest_uni'\n",
    "symbol='TCS'\n",
    "my_cache = cache_state(cache_type)\n",
    "\n",
    "###  Set Freq for Algo\n",
    "my_cache.setValue('TCS','freq','1T')\n",
    "dfohlc = my_cache.getOHLC(symbol)\n",
    "#print(dfohlc.head())\n",
    "\n",
    "### Load Data\n",
    "ohlc_data_temp = dfohlc\n",
    "pd.set_option('display.max_rows', None)\n",
    "################ Initialize Helper Functions ###################\n",
    "trade_df1 = pd.DataFrame()\n",
    "OPEN = ohlc_data_temp['open']\n",
    "CLOSE = ohlc_data_temp['close']\n",
    "HIGH = ohlc_data_temp['high']\n",
    "LOW = ohlc_data_temp['low']\n",
    "#VOLUME = ohlc_data_temp['volume']\n",
    "\n",
    "(haOPEN, haHIGH, haLOW, haCLOSE) = HAIKINASI(ohlc_data_temp)\n",
    "\n",
    "TIME = ohlc_data_temp.index[-1].minute+ohlc_data_temp.index[-1].hour*60\n",
    "\n",
    "#REF = lambda df, i: df.iloc[-i-1]\n",
    "REF = lambda df, i: df.shift(i)\n",
    "TREND_UP = lambda a,b: ROC(a, b) >= 0.1\n",
    "TREND_DOWN = lambda a,b: ROC(a, b) <= -0.1\n",
    "CROSSOVER = lambda a, b: (REF(a,1)<=REF(b,1)) & (a > b)\n",
    "\n",
    "\n",
    "def BUY(CLOSE, x, trade_df1):\n",
    "    #global trade_df1\n",
    "    tmp_df = pd.DataFrame()\n",
    "    tmp_df[\"buy\"] = CLOSE[x]\n",
    "    trade_df1 = trade_df1.append(tmp_df)\n",
    "    return trade_df1\n",
    "\n",
    "def SELL(CLOSE, x, trade_df1):\n",
    "    #global trade_df1\n",
    "    tmp_df = pd.DataFrame()\n",
    "    tmp_df[\"sell\"] = CLOSE[x]\n",
    "    trade_df1 = trade_df1.append(tmp_df)\n",
    "    return trade_df1\n",
    "    \n",
    "################# Write Algo For Backtest Here ###################\n",
    "\n",
    "#sell = (REF(haOPEN, 0) > REF(haCLOSE,0)) & (REF(haOPEN, 1) > REF(haCLOSE,1))\n",
    "#print(trade_df1)\n",
    "sell = (REF(haOPEN, 0) > REF(haCLOSE,0)) & (REF(haOPEN, 1) < REF(haCLOSE,1))\n",
    "buy = (REF(haOPEN, 0) < REF(haCLOSE,0)) & (REF(haOPEN, 1) > REF(haCLOSE,1))\n",
    "\n",
    "logic = buy | sell\n",
    "\n",
    "summary_df = trade_df1.copy(deep=True)\n",
    "#summary_df['haopen'] = haOPEN[ logic ]\n",
    "#summary_df['haclose'] = haCLOSE[ logic ]\n",
    "summary_df['roc'] = ROC(CLOSE, 30)[logic]\n",
    "\n",
    "#print(summary_df.sort_index())\n",
    "#print(summary_df.sort_index().tail(10))\n",
    "#print(ROC(CLOSE,3))\n",
    "#################### Render Charts ###############################\n",
    "\n",
    "trade_df1 = SELL(CLOSE, sell, trade_df1)\n",
    "trade_df1 = BUY(CLOSE, buy, trade_df1)\n",
    "\n",
    "#print(trade_df1.sort_index())\n",
    "my_cache.setCache(symbol+cache_type+'Trade',trade_df1)\n",
    "#my_cache.pushTrade(symbol, trade_df1)\n",
    "\n",
    "chart_type ='haikin'\n",
    "trade_df = pd.read_json(redis_conn.get(symbol+cache_type+'Trade'), orient='columns')\n",
    "\n",
    "render_charts(ohlc_data_temp, trade_df, symbol, chart_type)"
   ]
  },
  {
   "cell_type": "code",
   "execution_count": null,
   "metadata": {},
   "outputs": [],
   "source": [
    "cache_type = 'backtest_web'\n",
    "symbol='TCS'\n",
    "my_cache = cache_state(cache_type)\n",
    "my_cache.getTrades(symbol)\n",
    "\n",
    "my_cache.get('TCSbacktest_webTrades')"
   ]
  },
  {
   "cell_type": "code",
   "execution_count": null,
   "metadata": {},
   "outputs": [],
   "source": [
    "my_cache.getValue()"
   ]
  },
  {
   "cell_type": "code",
   "execution_count": null,
   "metadata": {
    "scrolled": false
   },
   "outputs": [],
   "source": [
    "temp_file = pd.HDFStore(\"data/kite_cache.h5\", mode=\"r\")\n",
    "temp_file.keys()"
   ]
  },
  {
   "cell_type": "code",
   "execution_count": null,
   "metadata": {},
   "outputs": [],
   "source": []
  },
  {
   "cell_type": "markdown",
   "metadata": {},
   "source": [
    "## Redis Console"
   ]
  },
  {
   "cell_type": "code",
   "execution_count": 6,
   "metadata": {
    "scrolled": true
   },
   "outputs": [],
   "source": [
    "from lib.multitasking_lib import *\n",
    "#from lib.data_model_lib import *\n",
    "import json\n",
    "web_cache = cache_state('backtest_web')\n",
    "live_cache = cache_state('live')\n",
    "uni_cache = cache_state('backtest_uni')\n",
    "\n",
    "pd.set_option('display.max_rows', None)"
   ]
  },
  {
   "cell_type": "code",
   "execution_count": 7,
   "metadata": {},
   "outputs": [
    {
     "data": {
      "text/plain": [
       "['order_handlerlive',\n",
       " 'kite_ticker_handlerlive',\n",
       " 'kite_simulatorbacktest_web',\n",
       " 'ohlc_tick_handlerbacktest_web']"
      ]
     },
     "execution_count": 7,
     "metadata": {},
     "output_type": "execute_result"
    }
   ],
   "source": [
    "live_cache.pubsub_channels()"
   ]
  },
  {
   "cell_type": "markdown",
   "metadata": {},
   "source": [
    "#### Scratchpad"
   ]
  },
  {
   "cell_type": "code",
   "execution_count": null,
   "metadata": {},
   "outputs": [],
   "source": [
    "df = live_cache.getValue()"
   ]
  },
  {
   "cell_type": "code",
   "execution_count": null,
   "metadata": {
    "scrolled": true
   },
   "outputs": [],
   "source": [
    "live_cache.getOHLC('TCS')"
   ]
  },
  {
   "cell_type": "code",
   "execution_count": null,
   "metadata": {},
   "outputs": [],
   "source": [
    "trades_df = live_cache.getTrades('TCS')\n",
    "trades_df"
   ]
  },
  {
   "cell_type": "code",
   "execution_count": null,
   "metadata": {},
   "outputs": [],
   "source": [
    "(total_profit, max_loss, max_profit, total_win, total_loss, max_winning_streak, max_loosing_streak, trade_log_df) = trade_analysis_raw(trades_df)"
   ]
  },
  {
   "cell_type": "code",
   "execution_count": null,
   "metadata": {},
   "outputs": [],
   "source": [
    "import pandas as pd\n",
    "import plotly\n",
    "import plotly.graph_objs as go\n",
    "from datetime import datetime as dt\n",
    "from datetime import timedelta\n",
    "from plotly.subplots import make_subplots\n",
    "import plotly.graph_objects as go\n",
    "\n",
    "from lib.multitasking_lib import *\n",
    "from plotly.offline import download_plotlyjs, init_notebook_mode, plot, iplot"
   ]
  },
  {
   "cell_type": "markdown",
   "metadata": {},
   "source": [
    "### GetData"
   ]
  },
  {
   "cell_type": "code",
   "execution_count": null,
   "metadata": {},
   "outputs": [],
   "source": [
    "logger.setLevel(logging.DEBUG)\n",
    "stock = 'WIPRO'\n",
    "fromDate = '2019-4-22'\n",
    "toDate  = '2019-4-24'\n",
    "freq = 'minute'\n",
    "mydate = fromDate\n",
    "exchange = 'NSE'\n",
    "ohlc_data = {}\n",
    "ohlc_data[stock] = getData(stock, fromDate, toDate, exchange, freq, False, stock)"
   ]
  },
  {
   "cell_type": "code",
   "execution_count": null,
   "metadata": {},
   "outputs": [],
   "source": [
    "ohlc_data[stock].head()"
   ]
  },
  {
   "cell_type": "markdown",
   "metadata": {},
   "source": [
    "# Kite Connect"
   ]
  },
  {
   "cell_type": "code",
   "execution_count": 8,
   "metadata": {},
   "outputs": [
    {
     "name": "stdout",
     "output_type": "stream",
     "text": [
      "KRtj5s4LxJ6Ihv7UvH21jraPo84G19ij\n",
      "b2w0sfnr1zr92nxm\n"
     ]
    }
   ],
   "source": [
    "from kiteconnect import KiteConnect\n",
    "kite_api_key = 'b2w0sfnr1zr92nxm'\n",
    "live_cache.set('KiteAPIKey',kite_api_key)\n",
    "access_token = live_cache.get('access_token')\n",
    "print(access_token)\n",
    "print(live_cache.get('KiteAPIKey'))\n",
    "\n",
    "kite = KiteConnect(api_key=kite_api_key)\n",
    "kite.set_access_token(access_token)"
   ]
  },
  {
   "cell_type": "code",
   "execution_count": 9,
   "metadata": {},
   "outputs": [
    {
     "data": {
      "text/plain": [
       "'KRtj5s4LxJ6Ihv7UvH21jraPo84G19ij'"
      ]
     },
     "execution_count": 9,
     "metadata": {},
     "output_type": "execute_result"
    }
   ],
   "source": [
    "kite.access_token"
   ]
  },
  {
   "cell_type": "code",
   "execution_count": null,
   "metadata": {},
   "outputs": [],
   "source": []
  },
  {
   "cell_type": "code",
   "execution_count": null,
   "metadata": {},
   "outputs": [],
   "source": [
    "kite.profile()"
   ]
  },
  {
   "cell_type": "code",
   "execution_count": null,
   "metadata": {},
   "outputs": [],
   "source": [
    "cancel_order('CIPLA')"
   ]
  },
  {
   "cell_type": "code",
   "execution_count": null,
   "metadata": {
    "scrolled": true
   },
   "outputs": [],
   "source": [
    "orders_df = pd.DataFrame(kite.orders())\n",
    "orders_df[['order_id','status','tradingsymbol','transaction_type','quantity','tag','price']]"
   ]
  },
  {
   "cell_type": "code",
   "execution_count": null,
   "metadata": {},
   "outputs": [],
   "source": [
    "symbol = 'INFY'\n",
    "live_cache.add(symbol)\n",
    "token = int(live_cache.hmget('eq_token',symbol)[0])\n",
    "live_cache.publish('live_trade_handlerlive', json.dumps({'cmd':'add','value':[token],'mode':'ltp'}))\n",
    "\n",
    "live_cache.setValue('INFY','qty','1')\n",
    "live_cache.setValue('INFY','SL %','0.4')\n",
    "live_cache.setValue('INFY','TP %','1')\n",
    "live_cache.setValue('INFY','algo','haikin_1_new')\n",
    "live_cache.setValue('INFY','freq','1T')\n",
    "\n",
    "live_cache.setValue('INFY','mode','live')"
   ]
  },
  {
   "cell_type": "code",
   "execution_count": null,
   "metadata": {},
   "outputs": [],
   "source": []
  },
  {
   "cell_type": "code",
   "execution_count": 10,
   "metadata": {},
   "outputs": [
    {
     "data": {
      "text/html": [
       "<div>\n",
       "<style scoped>\n",
       "    .dataframe tbody tr th:only-of-type {\n",
       "        vertical-align: middle;\n",
       "    }\n",
       "\n",
       "    .dataframe tbody tr th {\n",
       "        vertical-align: top;\n",
       "    }\n",
       "\n",
       "    .dataframe thead th {\n",
       "        text-align: right;\n",
       "    }\n",
       "</style>\n",
       "<table border=\"1\" class=\"dataframe\">\n",
       "  <thead>\n",
       "    <tr style=\"text-align: right;\">\n",
       "      <th></th>\n",
       "      <th>stock</th>\n",
       "      <th>qty</th>\n",
       "      <th>SL %</th>\n",
       "      <th>TP %</th>\n",
       "      <th>amount</th>\n",
       "      <th>price</th>\n",
       "      <th>P&amp;L</th>\n",
       "      <th>P&amp;L %</th>\n",
       "      <th>Total P&amp;L</th>\n",
       "      <th>Total P&amp;L %</th>\n",
       "      <th>...</th>\n",
       "      <th>ltp %</th>\n",
       "      <th>tp</th>\n",
       "      <th>high</th>\n",
       "      <th>last_processed</th>\n",
       "      <th>state</th>\n",
       "      <th>mode</th>\n",
       "      <th>algo</th>\n",
       "      <th>freq</th>\n",
       "      <th>hdf_freq</th>\n",
       "      <th>order_id</th>\n",
       "    </tr>\n",
       "  </thead>\n",
       "  <tbody>\n",
       "    <tr>\n",
       "      <th>0</th>\n",
       "      <td>WIPRO</td>\n",
       "      <td>1</td>\n",
       "      <td>1</td>\n",
       "      <td>1</td>\n",
       "      <td>0</td>\n",
       "      <td>0</td>\n",
       "      <td>0</td>\n",
       "      <td>0.0</td>\n",
       "      <td>0</td>\n",
       "      <td>0.0</td>\n",
       "      <td>...</td>\n",
       "      <td>0.0</td>\n",
       "      <td>0.0</td>\n",
       "      <td>0.0</td>\n",
       "      <td>1999-01-01</td>\n",
       "      <td>INIT</td>\n",
       "      <td>PAUSE</td>\n",
       "      <td>haikin_1_new</td>\n",
       "      <td>1T</td>\n",
       "      <td>minute</td>\n",
       "      <td>200513002688712</td>\n",
       "    </tr>\n",
       "  </tbody>\n",
       "</table>\n",
       "<p>1 rows × 23 columns</p>\n",
       "</div>"
      ],
      "text/plain": [
       "   stock qty SL % TP % amount price P&L P&L % Total P&L Total P&L %  ...  \\\n",
       "0  WIPRO   1    1    1      0     0   0   0.0         0         0.0  ...   \n",
       "\n",
       "  ltp %   tp high last_processed state   mode          algo freq hdf_freq  \\\n",
       "0   0.0  0.0  0.0     1999-01-01  INIT  PAUSE  haikin_1_new   1T   minute   \n",
       "\n",
       "          order_id  \n",
       "0  200513002688712  \n",
       "\n",
       "[1 rows x 23 columns]"
      ]
     },
     "execution_count": 10,
     "metadata": {},
     "output_type": "execute_result"
    }
   ],
   "source": [
    "live_cache.getValue()"
   ]
  },
  {
   "cell_type": "code",
   "execution_count": null,
   "metadata": {},
   "outputs": [],
   "source": [
    "live_cache.setValue('INFY','mode','paper')\n",
    "live_cache.setValue('INFY','qty','1')\n",
    "live_cache.setValue('INFY','SL %','0.4')\n",
    "live_cache.setValue('INFY','TP %','1')\n",
    "live_cache.setValue('INFY','algo','haikin_1_new')\n",
    "live_cache.setValue('INFY','freq','1T')"
   ]
  },
  {
   "cell_type": "code",
   "execution_count": null,
   "metadata": {},
   "outputs": [],
   "source": [
    "live_cache.setValue('INFY','qty','1')\n",
    "live_cache.setValue('INFY','SL %','0.4')\n",
    "live_cache.setValue('INFY','TP %','1')\n",
    "live_cache.setValue('INFY','algo','haikin_1_new')\n",
    "live_cache.setValue('INFY','freq','1T')"
   ]
  },
  {
   "cell_type": "code",
   "execution_count": null,
   "metadata": {},
   "outputs": [],
   "source": [
    "live_cache.setValue('CIPLA','mode','PAUSE')"
   ]
  },
  {
   "cell_type": "code",
   "execution_count": null,
   "metadata": {},
   "outputs": [],
   "source": [
    "position_df = pd.DataFrame(kite.positions()['net'])\n",
    "position_df"
   ]
  },
  {
   "cell_type": "code",
   "execution_count": null,
   "metadata": {},
   "outputs": [],
   "source": [
    "pd.DataFrame(kite.positions()['day'])"
   ]
  },
  {
   "cell_type": "code",
   "execution_count": null,
   "metadata": {},
   "outputs": [],
   "source": [
    "orders_df = pd.DataFrame()\n",
    "for msg in live_cache.xrange('notificationQueuelivenew'):\n",
    "    tmp_df = pd.DataFrame.from_dict(json.loads(msg[1]['data']), orient='index').transpose()\n",
    "    orders_df = orders_df.append(tmp_df)\n",
    "    #print(msg)\n",
    "orders_df"
   ]
  },
  {
   "cell_type": "code",
   "execution_count": null,
   "metadata": {
    "scrolled": true
   },
   "outputs": [],
   "source": [
    "kite.margins()"
   ]
  },
  {
   "cell_type": "markdown",
   "metadata": {},
   "source": [
    "### Kite Ticker Handler Manipulation"
   ]
  },
  {
   "cell_type": "code",
   "execution_count": null,
   "metadata": {},
   "outputs": [],
   "source": [
    "#live_cache.publish('live_trade_handlerlive','profile')\n",
    "live_cache.publish('live_trade_handlerlive','status')"
   ]
  },
  {
   "cell_type": "code",
   "execution_count": null,
   "metadata": {},
   "outputs": [],
   "source": [
    "live_cache.publish('kite_ticker_handlerlive','INIT')"
   ]
  },
  {
   "cell_type": "code",
   "execution_count": null,
   "metadata": {},
   "outputs": [],
   "source": [
    "live_cache.publish('kite_ticker_handlerlive','CLOSE')"
   ]
  },
  {
   "cell_type": "code",
   "execution_count": null,
   "metadata": {},
   "outputs": [],
   "source": [
    "live_cache.publish('kite_ticker_handlerlive','START')"
   ]
  },
  {
   "cell_type": "code",
   "execution_count": null,
   "metadata": {},
   "outputs": [],
   "source": [
    "live_cache.publish('kite_ticker_handlerlive','profile')"
   ]
  },
  {
   "cell_type": "code",
   "execution_count": null,
   "metadata": {},
   "outputs": [],
   "source": [
    "live_cache.smembers('live_token')"
   ]
  },
  {
   "cell_type": "code",
   "execution_count": null,
   "metadata": {},
   "outputs": [],
   "source": [
    "values = list(map(int,live_cache.smembers('ticker_list')))\n",
    "values"
   ]
  },
  {
   "cell_type": "code",
   "execution_count": null,
   "metadata": {},
   "outputs": [],
   "source": [
    "live_cache.publish('kite_ticker_handlerlive',json.dumps({'cmd':'add','value':values,'mode':'ltp'}))"
   ]
  },
  {
   "cell_type": "code",
   "execution_count": null,
   "metadata": {},
   "outputs": [],
   "source": [
    "live_cache.publish('kite_ticker_handlerlive',json.dumps({'cmd':'remove','value':[1270529, 969473, 1510401],'mode':'quote'}))\n"
   ]
  },
  {
   "cell_type": "code",
   "execution_count": null,
   "metadata": {},
   "outputs": [],
   "source": [
    "pd.DataFrame(kite.orders())"
   ]
  },
  {
   "cell_type": "markdown",
   "metadata": {},
   "source": [
    "### OrderHandler Monitor and Manipulation"
   ]
  },
  {
   "cell_type": "code",
   "execution_count": 29,
   "metadata": {},
   "outputs": [
    {
     "data": {
      "text/plain": [
       "1"
      ]
     },
     "execution_count": 29,
     "metadata": {},
     "output_type": "execute_result"
    }
   ],
   "source": [
    "# Pause Ordering\n",
    "live_cache.publish('order_handlerlive', 'pause')"
   ]
  },
  {
   "cell_type": "code",
   "execution_count": 31,
   "metadata": {},
   "outputs": [
    {
     "data": {
      "text/plain": [
       "1"
      ]
     },
     "execution_count": 31,
     "metadata": {},
     "output_type": "execute_result"
    }
   ],
   "source": [
    "# Resume Ordering\n",
    "live_cache.publish('order_handlerlive', 'resume')"
   ]
  },
  {
   "cell_type": "code",
   "execution_count": 32,
   "metadata": {},
   "outputs": [
    {
     "data": {
      "text/plain": [
       "1"
      ]
     },
     "execution_count": 32,
     "metadata": {},
     "output_type": "execute_result"
    }
   ],
   "source": [
    "# Buy\n",
    "live_cache.publish('order_handlerlive',json.dumps({'cmd':'buy','symbol':'WIPRO','price':180,'qty':1}))"
   ]
  },
  {
   "cell_type": "code",
   "execution_count": 12,
   "metadata": {},
   "outputs": [
    {
     "data": {
      "text/plain": [
       "1"
      ]
     },
     "execution_count": 12,
     "metadata": {},
     "output_type": "execute_result"
    }
   ],
   "source": [
    "# Sell\n",
    "live_cache.publish('order_handlerlive',json.dumps({'cmd':'sell','symbol':'WIPRO','price':190,'qty':1}))"
   ]
  },
  {
   "cell_type": "code",
   "execution_count": null,
   "metadata": {},
   "outputs": [],
   "source": [
    "# Cancel\n",
    "live_cache.publish('order_handlerlive',json.dumps({'cmd':'cancel','symbol':'WIPRO'}))"
   ]
  },
  {
   "cell_type": "code",
   "execution_count": null,
   "metadata": {},
   "outputs": [],
   "source": [
    "live_cache.publish('order_handlerlive',json.dumps({'cmd':'getOrders'}))"
   ]
  },
  {
   "cell_type": "code",
   "execution_count": 26,
   "metadata": {},
   "outputs": [
    {
     "data": {
      "text/plain": [
       "1"
      ]
     },
     "execution_count": 26,
     "metadata": {},
     "output_type": "execute_result"
    }
   ],
   "source": [
    "## Cancel All the orders\n",
    "live_cache.publish('order_handlerlive',json.dumps({'cmd':'cancelAll'}))"
   ]
  },
  {
   "cell_type": "code",
   "execution_count": null,
   "metadata": {},
   "outputs": [],
   "source": [
    "#from lib.kite_wrapper_lib import *\n",
    "cancel_order(kite,['CIPLA'])"
   ]
  },
  {
   "cell_type": "code",
   "execution_count": null,
   "metadata": {},
   "outputs": [],
   "source": [
    "buy_limit('WIPRO',188.5,1)"
   ]
  },
  {
   "cell_type": "code",
   "execution_count": null,
   "metadata": {},
   "outputs": [],
   "source": [
    "sell_limit('WIPRO',188.7,1)"
   ]
  },
  {
   "cell_type": "code",
   "execution_count": 11,
   "metadata": {
    "scrolled": true
   },
   "outputs": [
    {
     "data": {
      "text/html": [
       "<div>\n",
       "<style scoped>\n",
       "    .dataframe tbody tr th:only-of-type {\n",
       "        vertical-align: middle;\n",
       "    }\n",
       "\n",
       "    .dataframe tbody tr th {\n",
       "        vertical-align: top;\n",
       "    }\n",
       "\n",
       "    .dataframe thead th {\n",
       "        text-align: right;\n",
       "    }\n",
       "</style>\n",
       "<table border=\"1\" class=\"dataframe\">\n",
       "  <thead>\n",
       "    <tr style=\"text-align: right;\">\n",
       "      <th></th>\n",
       "    </tr>\n",
       "  </thead>\n",
       "  <tbody>\n",
       "  </tbody>\n",
       "</table>\n",
       "</div>"
      ],
      "text/plain": [
       "Empty DataFrame\n",
       "Columns: []\n",
       "Index: []"
      ]
     },
     "execution_count": 11,
     "metadata": {},
     "output_type": "execute_result"
    }
   ],
   "source": [
    "live_cache.getOHLC('WIPRO').tail(10)"
   ]
  },
  {
   "cell_type": "code",
   "execution_count": null,
   "metadata": {},
   "outputs": [],
   "source": [
    "kite.cancel_order(kite.VARIETY_REGULAR, 200511002924441, parent_order_id=None)"
   ]
  },
  {
   "cell_type": "code",
   "execution_count": null,
   "metadata": {},
   "outputs": [],
   "source": [
    "kite.convert_position(kite.EXCHANGE_NSE, 'WIPRO', transaction_type, position_type, quantity, old_product, new_product)\n"
   ]
  },
  {
   "cell_type": "code",
   "execution_count": null,
   "metadata": {},
   "outputs": [],
   "source": [
    "kite.modify_order(kite.VARIETY_REGULAR, 200511003019322, parent_order_id=None, quantity=None, price=187.4, order_type=None, trigger_price=None, validity=None, disclosed_quantity=None)\n"
   ]
  },
  {
   "cell_type": "code",
   "execution_count": null,
   "metadata": {},
   "outputs": [],
   "source": [
    "msg = {'data': '[{\"tradable\": true, \"mode\": \"quote\", \"instrument_token\": 969473, \"last_price\": 184.7, \"last_quantity\": 5, \"average_price\": 187.07, \"volume\": 4393242, \"buy_quantity\": 0, \"sell_quantity\": 0, \"ohlc\": {\"open\": 185.0, \"high\": 189.95, \"low\": 184.1, \"close\": 184.0}, \"change\": 0.38043478260868946}, {\"tradable\": true, \"mode\": \"quote\", \"instrument_token\": 2953217, \"last_price\": 1935.3, \"last_quantity\": 25, \"average_price\": 1939.47, \"volume\": 2449395, \"buy_quantity\": 0, \"sell_quantity\": 0, \"ohlc\": {\"open\": 1909.0, \"high\": 1951.4, \"low\": 1909.0, \"close\": 1893.4}, \"change\": 2.2129502482306886}]'}"
   ]
  },
  {
   "cell_type": "code",
   "execution_count": null,
   "metadata": {},
   "outputs": [],
   "source": [
    "msg['data']"
   ]
  },
  {
   "cell_type": "code",
   "execution_count": null,
   "metadata": {},
   "outputs": [],
   "source": [
    "val = json.loads(msg['data'])"
   ]
  },
  {
   "cell_type": "markdown",
   "metadata": {},
   "source": [
    "##### Reset state for tradejob"
   ]
  },
  {
   "cell_type": "code",
   "execution_count": null,
   "metadata": {},
   "outputs": [],
   "source": [
    "live_cache.setValue('WIPRO','state','SCANNING')"
   ]
  },
  {
   "cell_type": "markdown",
   "metadata": {},
   "source": [
    "### Monitor: OHLC Tick Handler"
   ]
  },
  {
   "cell_type": "code",
   "execution_count": null,
   "metadata": {},
   "outputs": [],
   "source": [
    "live_cache.get('last_id_msg')"
   ]
  },
  {
   "cell_type": "markdown",
   "metadata": {},
   "source": [
    "### Live Cache State Monitor and manipulation"
   ]
  },
  {
   "cell_type": "code",
   "execution_count": null,
   "metadata": {},
   "outputs": [],
   "source": [
    "live_cache.getValue()"
   ]
  },
  {
   "cell_type": "code",
   "execution_count": null,
   "metadata": {},
   "outputs": [],
   "source": []
  },
  {
   "cell_type": "code",
   "execution_count": null,
   "metadata": {},
   "outputs": [],
   "source": [
    "stock_key = 'WIPRO'\n",
    "live_cache.add(stock_key, True) #TODO: While adding stock to table use True\n",
    "live_cache.setValue(stock_key, 'algo', 'haikin_1_new')\n",
    "live_cache.setValue(stock_key, 'freq', '1T')\n",
    "live_cache.setValue(stock_key, 'qty', 1)\n",
    "live_cache.setValue(stock_key, 'SL %', 1)\n",
    "live_cache.setValue(stock_key, 'TP %', 1)\n",
    "live_cache.setValue(stock_key, 'P&L', 0)\n",
    "live_cache.setValue(stock_key, 'Total P&L', 0)\n",
    "live_cache.setValue(stock_key, 'price', 0)\n",
    "live_cache.setValue(stock_key, 'hdf_freq', 'minute')\n",
    "live_cache.getValue()"
   ]
  },
  {
   "cell_type": "code",
   "execution_count": null,
   "metadata": {},
   "outputs": [],
   "source": [
    "live_cache.remove('AXISBANK')\n",
    "live_cache.getValue()"
   ]
  },
  {
   "cell_type": "markdown",
   "metadata": {},
   "source": [
    "#### Get token for Stock symbol"
   ]
  },
  {
   "cell_type": "code",
   "execution_count": null,
   "metadata": {},
   "outputs": [],
   "source": [
    "live_cache.hmget('eq_token',['CIPLA','INFY'])"
   ]
  },
  {
   "cell_type": "code",
   "execution_count": null,
   "metadata": {},
   "outputs": [],
   "source": [
    "live_cache.hmget('eq_token',['TCS','WIPRO','AXISBANK'])"
   ]
  },
  {
   "cell_type": "markdown",
   "metadata": {},
   "source": [
    "#### Peek into OHLC buffer"
   ]
  },
  {
   "cell_type": "code",
   "execution_count": null,
   "metadata": {},
   "outputs": [],
   "source": [
    "live_cache.getOHLC('WIPRO') "
   ]
  },
  {
   "cell_type": "markdown",
   "metadata": {},
   "source": [
    "#### msgBufferQueue Monitoring"
   ]
  },
  {
   "cell_type": "code",
   "execution_count": null,
   "metadata": {},
   "outputs": [],
   "source": [
    "live_cache.xrange('msgBufferQueuelive')[-1]"
   ]
  },
  {
   "cell_type": "code",
   "execution_count": null,
   "metadata": {},
   "outputs": [],
   "source": [
    "datetime.fromtimestamp(int(live_cache.xrange('msgBufferQueuelive')[-1][0].split('-')[0] )/1000)"
   ]
  },
  {
   "cell_type": "markdown",
   "metadata": {},
   "source": [
    "#### TickerList Manipulaitons"
   ]
  },
  {
   "cell_type": "code",
   "execution_count": null,
   "metadata": {},
   "outputs": [],
   "source": [
    "live_cache.sadd('ticker_list','2953217')\n",
    "live_cache.sadd('ticker_list','969473')\n",
    "\n",
    "live_cache.sadd('ticker_list','1510401')"
   ]
  },
  {
   "cell_type": "code",
   "execution_count": null,
   "metadata": {},
   "outputs": [],
   "source": [
    "values = list(map(int,live_cache.smembers('ticker_list')))\n",
    "print(values)\n",
    "live_cache.hmget('eq_token', values)"
   ]
  },
  {
   "cell_type": "code",
   "execution_count": null,
   "metadata": {},
   "outputs": [],
   "source": [
    "live_cache.srem('ticker_list',1510401)"
   ]
  },
  {
   "cell_type": "code",
   "execution_count": null,
   "metadata": {},
   "outputs": [],
   "source": [
    "live_cache.sismember('ticker_list',4268801)"
   ]
  },
  {
   "cell_type": "code",
   "execution_count": null,
   "metadata": {},
   "outputs": [],
   "source": [
    "live_cache.delete('ticker_list')"
   ]
  },
  {
   "cell_type": "code",
   "execution_count": null,
   "metadata": {},
   "outputs": [],
   "source": [
    "live_cache.getValue()"
   ]
  },
  {
   "cell_type": "code",
   "execution_count": null,
   "metadata": {},
   "outputs": [],
   "source": [
    "live_cache.get('Kite_Status')"
   ]
  },
  {
   "cell_type": "markdown",
   "metadata": {},
   "source": [
    "### Update Redis with Instrument list"
   ]
  },
  {
   "cell_type": "markdown",
   "metadata": {},
   "source": [
    "##### Download fresh data and store in cache"
   ]
  },
  {
   "cell_type": "code",
   "execution_count": null,
   "metadata": {},
   "outputs": [],
   "source": [
    "instruments_df = pd.DataFrame(kite.instruments())"
   ]
  },
  {
   "cell_type": "code",
   "execution_count": null,
   "metadata": {},
   "outputs": [],
   "source": [
    "instruments_df.to_hdf('data/instruments.h5',key='instruments')"
   ]
  },
  {
   "cell_type": "code",
   "execution_count": null,
   "metadata": {},
   "outputs": [],
   "source": [
    "instruments_df.columns"
   ]
  },
  {
   "cell_type": "code",
   "execution_count": null,
   "metadata": {},
   "outputs": [],
   "source": [
    "eq_nse = instruments_df.loc[(instruments_df['exchange']=='NSE') & (instruments_df['segment']=='NSE')  & (instruments_df['instrument_type']=='EQ'), ['instrument_token','tradingsymbol']]"
   ]
  },
  {
   "cell_type": "code",
   "execution_count": null,
   "metadata": {},
   "outputs": [],
   "source": [
    "eq_nse.loc[eq_nse['tradingsymbol'].isin(['TCS','WIPRO']),'instrument_token'].values"
   ]
  },
  {
   "cell_type": "markdown",
   "metadata": {},
   "source": [
    "##### Use cache"
   ]
  },
  {
   "cell_type": "code",
   "execution_count": null,
   "metadata": {},
   "outputs": [],
   "source": [
    "instruments_df = pd.read_hdf('data/instruments.h5',key='instruments')"
   ]
  },
  {
   "cell_type": "code",
   "execution_count": null,
   "metadata": {},
   "outputs": [],
   "source": [
    "instruments_df"
   ]
  },
  {
   "cell_type": "code",
   "execution_count": null,
   "metadata": {},
   "outputs": [],
   "source": [
    "eq_nse = instruments_df.loc[(instruments_df['exchange']=='NSE') & (instruments_df['segment']=='NSE')  & (instruments_df['instrument_type']=='EQ'), ['instrument_token','tradingsymbol']]"
   ]
  },
  {
   "cell_type": "code",
   "execution_count": null,
   "metadata": {},
   "outputs": [],
   "source": [
    "eq_nse.loc[eq_nse['tradingsymbol'].isin(['TCS','WIPRO']),:].values\n",
    "\n",
    "eq_nse.set_index('instrument_token')"
   ]
  },
  {
   "cell_type": "code",
   "execution_count": null,
   "metadata": {},
   "outputs": [],
   "source": [
    "live_cache.delete('eq_token')"
   ]
  },
  {
   "cell_type": "code",
   "execution_count": null,
   "metadata": {},
   "outputs": [],
   "source": [
    "eq_nse.head().to_dict(orient='records')"
   ]
  },
  {
   "cell_type": "code",
   "execution_count": null,
   "metadata": {},
   "outputs": [],
   "source": [
    "eq_nse.head().set_index('tradingsymbol').transpose().to_dict(orient='records')"
   ]
  },
  {
   "cell_type": "code",
   "execution_count": null,
   "metadata": {},
   "outputs": [],
   "source": [
    "eq_nse.head().set_index('instrument_token').transpose().to_dict(orient='records')[0]"
   ]
  },
  {
   "cell_type": "markdown",
   "metadata": {},
   "source": [
    "##### Update redis with tokens"
   ]
  },
  {
   "cell_type": "code",
   "execution_count": null,
   "metadata": {},
   "outputs": [],
   "source": [
    "live_cache.hmset('eq_token',eq_nse.set_index('instrument_token').transpose().to_dict(orient='records')[0])\n",
    "live_cache.hmset('eq_token',eq_nse.set_index('tradingsymbol').transpose().to_dict(orient='records')[0])"
   ]
  },
  {
   "cell_type": "code",
   "execution_count": null,
   "metadata": {},
   "outputs": [],
   "source": [
    "live_cache.hmget('eq_token',['TCS','WIPRO'])"
   ]
  },
  {
   "cell_type": "code",
   "execution_count": null,
   "metadata": {},
   "outputs": [],
   "source": [
    "live_cache.hgetall('eq_token')"
   ]
  },
  {
   "cell_type": "code",
   "execution_count": null,
   "metadata": {},
   "outputs": [],
   "source": [
    "live_cache.hmget('eq_token',[2953217, 969473])"
   ]
  }
 ],
 "metadata": {
  "kernelspec": {
   "display_name": "Python 3",
   "language": "python",
   "name": "python3"
  },
  "language_info": {
   "codemirror_mode": {
    "name": "ipython",
    "version": 3
   },
   "file_extension": ".py",
   "mimetype": "text/x-python",
   "name": "python",
   "nbconvert_exporter": "python",
   "pygments_lexer": "ipython3",
   "version": "3.7.7"
  }
 },
 "nbformat": 4,
 "nbformat_minor": 4
}
