{
 "cells": [
  {
   "cell_type": "code",
   "execution_count": null,
   "metadata": {},
   "outputs": [],
   "source": [
    "%load_ext autoreload\n",
    "%autoreload 2\n",
    "#from lib.multitasking_lib import *"
   ]
  },
  {
   "cell_type": "code",
   "execution_count": 30,
   "metadata": {
    "scrolled": true
   },
   "outputs": [
    {
     "name": "stderr",
     "output_type": "stream",
     "text": [
      "INFO:\tCache Pointing to: backtest_uni\n",
      "INFO:\tCache Pointing to: backtest_uni\n",
      "INFO:\tStarting Handler: kite_simulator\n",
      "INFO:\tStarting Handler: ohlc_tick_handler\n"
     ]
    },
    {
     "name": "stdout",
     "output_type": "stream",
     "text": [
      "True\n",
      "[]\n",
      "[<Process(Process-8, started)>]\n"
     ]
    },
    {
     "name": "stderr",
     "output_type": "stream",
     "text": [
      "DEBUG:\tkite_simulator: 1\n",
      "DEBUG:\tohlc_tick_handler: 1\n",
      "ERROR:\tkite_simulator: Invalid msg: 1\n",
      "DEBUG:\tkite_simulator: {\"stock\": [\"TCS\"], \"sl\": 1, \"target\": 1, \"qty\": 10, \"algo\": \"haikin_1_new\", \"fromDate\": \"2019-4-8\", \"toDate\": \"2019-4-9\", \"freq\": \"1T\", \"mode\": \"full\"}\n",
      "DEBUG:\tTrade_init: TCS\n",
      "INFO:\tTCSbacktest_uni=>{'stock': 'TCS', 'qty': '0', 'SL %': '0.0', 'TP %': '0.0', 'amount': '0', 'price': '0.0', 'P&L': '0.0', 'P&L %': '0.0', 'Total P&L': '0.0', 'Total P&L %': '0.0', 'low': '0.0', 'sl': '0.0', 'ltp': '0.0', 'ltp %': '0.0', 'tp': '0.0', 'high': '0.0', 'last_processed': '1999-01-01', 'state': 'INIT', 'mode': 'PAUSE', 'algo': '', 'freq': '1D', 'hdf_freq': 'day'}\n",
      "INFO:\tRunning Full Backtest\n",
      "DEBUG:\tohlc_tick_handler: start\n",
      "TRADE: B: EN:  : 2019-04-08 09:18 : TCS -> 2053.35\n",
      "TRADE: S: EX:  : 2019-04-08 09:24 : TCS -> 2059.75\n",
      "TRADE: S: EN:  : 2019-04-08 09:26 : TCS -> 2059.0\n",
      "TRADE: B: EX:  : 2019-04-08 09:34 : TCS -> 2049.1\n",
      "TRADE: S: EN:  : 2019-04-08 09:36 : TCS -> 2046.95\n",
      "TRADE: B: EX:  : 2019-04-08 09:40 : TCS -> 2047.05\n",
      "TRADE: S: EN:  : 2019-04-08 09:42 : TCS -> 2045.65\n",
      "TRADE: B: EX:  : 2019-04-08 09:43 : TCS -> 2045.65\n",
      "TRADE: B: EN:  : 2019-04-08 09:51 : TCS -> 2036.2\n",
      "TRADE: S: EX:  : 2019-04-08 10:07 : TCS -> 2043.05\n",
      "TRADE: B: EN:  : 2019-04-08 10:10 : TCS -> 2047.0\n",
      "TRADE: S: EX:  : 2019-04-08 10:13 : TCS -> 2045.7\n",
      "TRADE: B: EN:  : 2019-04-08 10:18 : TCS -> 2044.95\n",
      "TRADE: S: EX:  : 2019-04-08 10:20 : TCS -> 2045.45\n",
      "TRADE: B: EN:  : 2019-04-08 10:23 : TCS -> 2043.0\n",
      "TRADE: S: EX:  : 2019-04-08 10:26 : TCS -> 2043.2\n",
      "TRADE: B: EN:  : 2019-04-08 10:28 : TCS -> 2042.95\n",
      "TRADE: S: EX:  : 2019-04-08 10:29 : TCS -> 2042.05\n",
      "TRADE: B: EN:  : 2019-04-08 10:33 : TCS -> 2044.7\n",
      "TRADE: S: EX:  : 2019-04-08 10:36 : TCS -> 2044.15\n",
      "TRADE: S: EN:  : 2019-04-08 10:39 : TCS -> 2047.0\n",
      "TRADE: B: EX:  : 2019-04-08 10:40 : TCS -> 2047.0\n",
      "TRADE: S: EN:  : 2019-04-08 10:46 : TCS -> 2050.15\n",
      "TRADE: B: EX:  : 2019-04-08 10:47 : TCS -> 2053.5\n",
      "TRADE: S: EN:  : 2019-04-08 10:49 : TCS -> 2051.0\n",
      "TRADE: B: EX:  : 2019-04-08 10:54 : TCS -> 2052.75\n",
      "TRADE: S: EN:  : 2019-04-08 11:00 : TCS -> 2057.15\n",
      "TRADE: B: EX:  : 2019-04-08 11:01 : TCS -> 2057.05\n",
      "TRADE: B: EN:  : 2019-04-08 11:04 : TCS -> 2056.75\n",
      "TRADE: S: EX:  : 2019-04-08 11:06 : TCS -> 2055.55\n",
      "TRADE: B: EN:  : 2019-04-08 11:12 : TCS -> 2054.0\n",
      "TRADE: S: EX:  : 2019-04-08 11:13 : TCS -> 2050.95\n",
      "TRADE: B: EN:  : 2019-04-08 11:15 : TCS -> 2052.1\n",
      "TRADE: S: EX:  : 2019-04-08 11:16 : TCS -> 2052.3\n",
      "TRADE: B: EN:  : 2019-04-08 11:18 : TCS -> 2052.3\n",
      "TRADE: S: EX:  : 2019-04-08 11:21 : TCS -> 2051.7\n",
      "TRADE: S: EN:  : 2019-04-08 11:28 : TCS -> 2054.95\n",
      "TRADE: B: EX:  : 2019-04-08 11:31 : TCS -> 2054.35\n",
      "TRADE: B: EN:  : 2019-04-08 11:33 : TCS -> 2054.55\n",
      "TRADE: S: EX:  : 2019-04-08 11:37 : TCS -> 2057.35\n",
      "TRADE: B: EN:  : 2019-04-08 11:41 : TCS -> 2058.0\n",
      "TRADE: S: EX:  : 2019-04-08 11:43 : TCS -> 2057.45\n",
      "TRADE: B: EN:  : 2019-04-08 11:54 : TCS -> 2052.4\n",
      "INFO:\tStopping : ohlc_tick_handler\n",
      "INFO:\tAbort Request: Full Simulation\n",
      "TRADE: S: EX:  : 2019-04-08 12:05 : TCS -> 2051.35\n",
      "INFO:\tAbort Request: ohlc_tick_handler\n",
      "DEBUG:\tkite_simulator: {\"stock\": [\"TCS\"], \"sl\": 1, \"target\": 1, \"qty\": 10, \"algo\": \"haikin_1_new\", \"fromDate\": \"2019-4-8\", \"toDate\": \"2019-4-9\", \"freq\": \"1T\", \"mode\": \"full\"}\n",
      "DEBUG:\tTrade_init: TCS\n",
      "INFO:\tTCSbacktest_uni=>{'stock': 'TCS', 'qty': '0', 'SL %': '0.0', 'TP %': '0.0', 'amount': '0', 'price': '0.0', 'P&L': '0.0', 'P&L %': '0.0', 'Total P&L': '0.0', 'Total P&L %': '0.0', 'low': '0.0', 'sl': '0.0', 'ltp': '0.0', 'ltp %': '0.0', 'tp': '0.0', 'high': '0.0', 'last_processed': '1999-01-01', 'state': 'INIT', 'mode': 'PAUSE', 'algo': '', 'freq': '1D', 'hdf_freq': 'day'}\n",
      "INFO:\tRunning Full Backtest\n",
      "DEBUG:\tohlc_tick_handler: start\n",
      "TRADE: B: EN:  : 2019-04-08 09:18 : TCS -> 2055.25\n",
      "TRADE: S: EX:  : 2019-04-08 09:24 : TCS -> 2059.75\n",
      "TRADE: S: EN:  : 2019-04-08 09:26 : TCS -> 2059.0\n",
      "TRADE: B: EX:  : 2019-04-08 09:34 : TCS -> 2049.1\n",
      "TRADE: S: EN:  : 2019-04-08 09:36 : TCS -> 2046.95\n",
      "TRADE: B: EX:  : 2019-04-08 09:40 : TCS -> 2049.0\n",
      "TRADE: S: EN:  : 2019-04-08 09:42 : TCS -> 2045.65\n",
      "TRADE: B: EX:  : 2019-04-08 09:43 : TCS -> 2045.65\n",
      "TRADE: B: EN:  : 2019-04-08 09:51 : TCS -> 2036.2\n",
      "TRADE: S: EX:  : 2019-04-08 10:07 : TCS -> 2043.05\n",
      "TRADE: B: EN:  : 2019-04-08 10:10 : TCS -> 2047.0\n",
      "TRADE: S: EX:  : 2019-04-08 10:13 : TCS -> 2045.7\n",
      "TRADE: B: EN:  : 2019-04-08 10:18 : TCS -> 2044.95\n",
      "TRADE: S: EX:  : 2019-04-08 10:20 : TCS -> 2045.45\n",
      "TRADE: B: EN:  : 2019-04-08 10:23 : TCS -> 2044.15\n",
      "TRADE: S: EX:  : 2019-04-08 10:26 : TCS -> 2043.2\n",
      "TRADE: B: EN:  : 2019-04-08 10:28 : TCS -> 2042.95\n",
      "TRADE: S: EX:  : 2019-04-08 10:29 : TCS -> 2042.05\n",
      "TRADE: B: EN:  : 2019-04-08 10:33 : TCS -> 2042.55\n",
      "TRADE: S: EX:  : 2019-04-08 10:36 : TCS -> 2044.15\n",
      "TRADE: S: EN:  : 2019-04-08 10:39 : TCS -> 2045.7\n",
      "TRADE: B: EX:  : 2019-04-08 10:40 : TCS -> 2047.0\n",
      "TRADE: S: EN:  : 2019-04-08 10:46 : TCS -> 2050.15\n",
      "TRADE: B: EX:  : 2019-04-08 10:47 : TCS -> 2055.0\n",
      "TRADE: S: EN:  : 2019-04-08 10:49 : TCS -> 2051.0\n",
      "TRADE: B: EX:  : 2019-04-08 10:54 : TCS -> 2051.55\n",
      "TRADE: S: EN:  : 2019-04-08 11:00 : TCS -> 2056.0\n",
      "TRADE: B: EX:  : 2019-04-08 11:01 : TCS -> 2057.05\n",
      "TRADE: B: EN:  : 2019-04-08 11:04 : TCS -> 2056.75\n",
      "TRADE: S: EX:  : 2019-04-08 11:06 : TCS -> 2055.5\n",
      "TRADE: B: EN:  : 2019-04-08 11:12 : TCS -> 2054.0\n",
      "TRADE: S: EX:  : 2019-04-08 11:13 : TCS -> 2050.95\n",
      "TRADE: B: EN:  : 2019-04-08 11:15 : TCS -> 2052.1\n",
      "TRADE: S: EX:  : 2019-04-08 11:16 : TCS -> 2051.5\n",
      "TRADE: B: EN:  : 2019-04-08 11:18 : TCS -> 2052.0\n",
      "TRADE: S: EX:  : 2019-04-08 11:21 : TCS -> 2051.7\n",
      "TRADE: S: EN:  : 2019-04-08 11:28 : TCS -> 2054.85\n",
      "TRADE: B: EX:  : 2019-04-08 11:31 : TCS -> 2054.35\n",
      "TRADE: B: EN:  : 2019-04-08 11:33 : TCS -> 2054.55\n",
      "TRADE: S: EX:  : 2019-04-08 11:37 : TCS -> 2057.35\n",
      "TRADE: B: EN:  : 2019-04-08 11:41 : TCS -> 2058.0\n",
      "TRADE: S: EX:  : 2019-04-08 11:43 : TCS -> 2057.45\n",
      "TRADE: B: EN:  : 2019-04-08 11:54 : TCS -> 2052.4\n",
      "TRADE: S: EX:  : 2019-04-08 12:05 : TCS -> 2052.55\n",
      "TRADE: B: EN:  : 2019-04-08 12:10 : TCS -> 2053.9\n",
      "TRADE: S: EX:  : 2019-04-08 12:13 : TCS -> 2051.85\n",
      "TRADE: B: EN:  : 2019-04-08 12:21 : TCS -> 2050.3\n",
      "TRADE: S: EX:  : 2019-04-08 12:26 : TCS -> 2050.9\n",
      "TRADE: B: EN:  : 2019-04-08 12:29 : TCS -> 2050.45\n",
      "TRADE: S: EX:  : 2019-04-08 12:30 : TCS -> 2050.0\n",
      "TRADE: S: EN:  : 2019-04-08 12:36 : TCS -> 2052.5\n",
      "TRADE: B: EX:  : 2019-04-08 12:37 : TCS -> 2052.25\n",
      "TRADE: S: EN:  : 2019-04-08 12:39 : TCS -> 2050.5\n",
      "TRADE: B: EX:  : 2019-04-08 12:44 : TCS -> 2051.1\n",
      "TRADE: S: EN:  : 2019-04-08 12:47 : TCS -> 2049.6\n",
      "TRADE: B: EX:  : 2019-04-08 12:54 : TCS -> 2048.2\n",
      "TRADE: S: EN:  : 2019-04-08 13:01 : TCS -> 2054.2\n",
      "TRADE: B: EX:  : 2019-04-08 13:05 : TCS -> 2053.25\n",
      "TRADE: B: EN:  : 2019-04-08 13:09 : TCS -> 2051.7\n",
      "TRADE: S: EX:  : 2019-04-08 13:13 : TCS -> 2055.85\n",
      "TRADE: S: EN:  : 2019-04-08 13:15 : TCS -> 2054.0\n",
      "TRADE: B: EX:  : 2019-04-08 13:18 : TCS -> 2055.0\n",
      "TRADE: S: EN:  : 2019-04-08 13:20 : TCS -> 2054.95\n",
      "TRADE: B: EX:  : 2019-04-08 13:21 : TCS -> 2054.9\n",
      "TRADE: S: EN:  : 2019-04-08 13:24 : TCS -> 2054.3\n",
      "TRADE: B: EX:  : 2019-04-08 13:26 : TCS -> 2055.0\n",
      "TRADE: S: EN:  : 2019-04-08 13:28 : TCS -> 2055.0\n",
      "TRADE: B: EX:  : 2019-04-08 13:31 : TCS -> 2055.0\n",
      "TRADE: S: EN:  : 2019-04-08 13:33 : TCS -> 2053.45\n",
      "TRADE: B: EX:  : 2019-04-08 13:38 : TCS -> 2051.8\n",
      "TRADE: B: EN:  : 2019-04-08 13:40 : TCS -> 2052.75\n",
      "TRADE: S: EX:  : 2019-04-08 13:55 : TCS -> 2057.75\n",
      "TRADE: B: EN:  : 2019-04-08 13:57 : TCS -> 2058.0\n",
      "TRADE: S: EX:  : 2019-04-08 13:58 : TCS -> 2058.0\n",
      "TRADE: B: EN:  : 2019-04-08 14:00 : TCS -> 2058.75\n",
      "TRADE: S: EX:  : 2019-04-08 14:04 : TCS -> 2066.0\n",
      "TRADE: S: EN:  : 2019-04-08 14:07 : TCS -> 2066.85\n",
      "TRADE: B: EX:  : 2019-04-08 14:16 : TCS -> 2059.0\n",
      "TRADE: S: EN:  : 2019-04-08 14:19 : TCS -> 2060.35\n",
      "TRADE: B: EX:  : 2019-04-08 14:22 : TCS -> 2059.95\n",
      "TRADE: B: EN:  : 2019-04-08 14:25 : TCS -> 2058.8\n",
      "TRADE: S: EX:  : 2019-04-08 14:27 : TCS -> 2058.55\n",
      "TRADE: S: EN:  : 2019-04-08 14:29 : TCS -> 2056.1\n",
      "TRADE: B: EX:  : 2019-04-08 14:31 : TCS -> 2060.0\n",
      "TRADE: S: EN:  : 2019-04-08 14:33 : TCS -> 2056.5\n",
      "TRADE: B: EX:  : 2019-04-08 14:38 : TCS -> 2057.05\n",
      "TRADE: S: EN:  : 2019-04-08 14:40 : TCS -> 2057.45\n",
      "TRADE: B: EX:  : 2019-04-08 14:41 : TCS -> 2062.2\n",
      "TRADE: S: EN:  : 2019-04-08 14:44 : TCS -> 2065.0\n"
     ]
    },
    {
     "name": "stderr",
     "output_type": "stream",
     "text": [
      "TRADE: B: EX:  : 2019-04-08 14:48 : TCS -> 2064.85\n",
      "TRADE: S: EN:  : 2019-04-08 14:50 : TCS -> 2062.2\n",
      "TRADE: B: EX:  : 2019-04-08 14:54 : TCS -> 2061.2\n",
      "TRADE: S: EN:  : 2019-04-08 14:56 : TCS -> 2060.75\n",
      "TRADE: B: EX:  : 2019-04-08 14:59 : TCS -> 2060.05\n",
      "INFO:\tKite_Simulator: Done: 1500\n",
      "ERROR:\tProcessing done: 1489: ('1589106462781-0', {'data': '\"done\"'})\n"
     ]
    }
   ],
   "source": [
    "######################\n",
    "# Initiate Backtest  #\n",
    "######################\n",
    "from lib.multitasking_lib import *\n",
    "cache_type ='backtest_uni'\n",
    "my_cache = cache_state('backtest_uni')\n",
    "\n",
    "def store_algo(algo, algo_name=\"default\"):\n",
    "    redis_conn.hset(\"algos\",algo_name, algo)\n",
    "    algo_f = open(\"log/\"+algo_name+\".txt\", \"w\")\n",
    "    algo_f.write(algo)\n",
    "    algo_f.close()\n",
    "    \n",
    "#my_cache.flushall()\n",
    "def backtest_unitest(stocks, freq='1T',algo_name = 'haikin_1_new', fromDate='2019-4-8', toDate='2019-4-9', mode='full'):\n",
    "    stocks = stocks\n",
    "    sl = 1\n",
    "    target = 1\n",
    "    qty = 10\n",
    "    backtest_msg={'stock':stocks,'sl':sl,'target':target,'qty':qty,'algo':algo_name,'fromDate':fromDate,'toDate':toDate,'freq':freq, 'mode':mode}\n",
    "\n",
    "    # Step 4: Done is set to 0: Backtest is in progress, will be resetted by backtest job\n",
    "    redis_conn.set('done'+cache_type,0)\n",
    "    # Step 5: Send the msg to backtest thread to initiate the back test\n",
    "    #pdebug(json.dumps(backtest_msg))\n",
    "    redis_conn.publish('kite_simulator'+cache_type,json.dumps(backtest_msg))\n",
    "    \n",
    "##########################\n",
    "# Unit Test              #\n",
    "##########################\n",
    "\n",
    "open('log/freedom.log','r+')\n",
    "#log_file.close()\n",
    "\n",
    "logger.setLevel(10)\n",
    "loggerT.setLevel(21)\n",
    "redis_conn.set('done'+cache_type,1)\n",
    "\n",
    "try:\n",
    "    if backtest_manager.job.is_alive():\n",
    "        backtest_manager.job.terminate()\n",
    "        time.sleep(0.1)\n",
    "except:\n",
    "    pass\n",
    "finally:\n",
    "    backtest_manager = threadManager(cache_type, [\"kite_simulator\",\"ohlc_tick_handler\"], [kite_simulator, ohlc_tick_handler])\n",
    "    \n",
    "print(backtest_manager.job.is_alive())\n",
    "print(redis_conn.pubsub_channels())\n",
    "print(jobs)\n"
   ]
  },
  {
   "cell_type": "code",
   "execution_count": 32,
   "metadata": {
    "scrolled": true
   },
   "outputs": [],
   "source": [
    "backtest_unitest(['TCS'])"
   ]
  },
  {
   "cell_type": "code",
   "execution_count": null,
   "metadata": {},
   "outputs": [],
   "source": []
  },
  {
   "cell_type": "code",
   "execution_count": 29,
   "metadata": {},
   "outputs": [
    {
     "name": "stdout",
     "output_type": "stream",
     "text": [
      "False\n",
      "[]\n"
     ]
    }
   ],
   "source": [
    "################################\n",
    "###         Stop Trade       ###\n",
    "################################\n",
    "\n",
    "my_cache.delete('msgBufferQueue'+cache_postfix)\n",
    "#my_cache.set('TCSbacktest_uniTICK',pd.DataFrame().to_json())\n",
    "\n",
    "if backtest_manager.job.is_alive():\n",
    "    backtest_manager.job.terminate()\n",
    "time.sleep(1)\n",
    "print(backtest_manager.job.is_alive())\n",
    "print(redis_conn.pubsub_channels())\n",
    "\n",
    "jobs\n",
    "jobs = []"
   ]
  },
  {
   "cell_type": "code",
   "execution_count": null,
   "metadata": {},
   "outputs": [],
   "source": [
    "backtest_unitest(['TCS'])"
   ]
  },
  {
   "cell_type": "code",
   "execution_count": null,
   "metadata": {},
   "outputs": [],
   "source": [
    "backtest_unitest(['WIPRO','TCS'])"
   ]
  },
  {
   "cell_type": "code",
   "execution_count": null,
   "metadata": {},
   "outputs": [],
   "source": [
    "from lib.charting_lib import *\n",
    "cache_type = 'backtest_uni'\n",
    "chart_type ='haikin'\n",
    "\n",
    "symbol='TCS'\n",
    "my_cache = cache_state(cache_type)\n",
    "\n",
    "#######  Hack for freq  ############\n",
    "my_cache.setValue('TCS','freq','1T')\n",
    "#####################################\n",
    "dfohlc = my_cache.getOHLC(symbol)\n",
    "print(dfohlc.tail())\n",
    "trade_df = pd.read_json(redis_conn.get(symbol+cache_type+'Trade'), orient='columns')\n",
    "\n",
    "render_charts(dfohlc, trade_df, symbol, chart_type)"
   ]
  },
  {
   "cell_type": "code",
   "execution_count": null,
   "metadata": {},
   "outputs": [],
   "source": [
    "cache_state('backtest_uni').getValue()"
   ]
  },
  {
   "cell_type": "code",
   "execution_count": null,
   "metadata": {
    "scrolled": true
   },
   "outputs": [],
   "source": [
    "###########################################################\n",
    "###                  Quick Backtest                     ###\n",
    "###########################################################\n",
    "from talib import MACD, MACDEXT, RSI, BBANDS, MACD, AROON, STOCHF, ATR, OBV, ADOSC, MINUS_DI, PLUS_DI, ADX, EMA, SMA\n",
    "from talib import LINEARREG, BETA, LINEARREG_INTERCEPT, LINEARREG_SLOPE, STDDEV, TSF, ADOSC, VAR, ROC, MIN, MAX, MINMAX\n",
    "\n",
    "ohlc_get = lambda df, key: df.iloc[-1][key]\n",
    "def HAIKINASI(ohlc_data_df):\n",
    "    REF = lambda key, i: ohlc_get(ohlc_data_df.shift(i), key)\n",
    "    \n",
    "    OPEN  = ohlc_data_df['open']\n",
    "    HIGH  = ohlc_data_df['high']\n",
    "    LOW   = ohlc_data_df['low']\n",
    "    CLOSE = ohlc_data_df['close']\n",
    "    \n",
    "    haOPEN  = (OPEN.shift(1) + CLOSE.shift(1))/2\n",
    "    haHIGH  = pd.DataFrame([HIGH,OPEN,CLOSE]).max(axis = 0, skipna = True)\n",
    "    haLOW   = pd.DataFrame([LOW,OPEN,CLOSE]).min(axis = 0, skipna = True)\n",
    "    haCLOSE = (OPEN+HIGH+LOW+CLOSE)/4\n",
    "    \n",
    "    return (haOPEN, haHIGH, haLOW, haCLOSE)\n",
    "\n",
    "\n",
    "################ Load Data ###################\n",
    "from lib.charting_lib import *\n",
    "cache_type = 'backtest_uni'\n",
    "symbol='TCS'\n",
    "my_cache = cache_state(cache_type)\n",
    "\n",
    "###  Set Freq for Algo\n",
    "my_cache.setValue('TCS','freq','1T')\n",
    "dfohlc = my_cache.getOHLC(symbol)\n",
    "#print(dfohlc.head())\n",
    "\n",
    "### Load Data\n",
    "ohlc_data_temp = dfohlc\n",
    "pd.set_option('display.max_rows', None)\n",
    "################ Initialize Helper Functions ###################\n",
    "trade_df1 = pd.DataFrame()\n",
    "OPEN = ohlc_data_temp['open']\n",
    "CLOSE = ohlc_data_temp['close']\n",
    "HIGH = ohlc_data_temp['high']\n",
    "LOW = ohlc_data_temp['low']\n",
    "#VOLUME = ohlc_data_temp['volume']\n",
    "\n",
    "(haOPEN, haHIGH, haLOW, haCLOSE) = HAIKINASI(ohlc_data_temp)\n",
    "\n",
    "TIME = ohlc_data_temp.index[-1].minute+ohlc_data_temp.index[-1].hour*60\n",
    "\n",
    "#REF = lambda df, i: df.iloc[-i-1]\n",
    "REF = lambda df, i: df.shift(i)\n",
    "TREND_UP = lambda a,b: ROC(a, b) >= 0.1\n",
    "TREND_DOWN = lambda a,b: ROC(a, b) <= -0.1\n",
    "CROSSOVER = lambda a, b: (REF(a,1)<=REF(b,1)) & (a > b)\n",
    "\n",
    "\n",
    "def BUY(CLOSE, x, trade_df1):\n",
    "    #global trade_df1\n",
    "    tmp_df = pd.DataFrame()\n",
    "    tmp_df[\"buy\"] = CLOSE[x]\n",
    "    trade_df1 = trade_df1.append(tmp_df)\n",
    "    return trade_df1\n",
    "\n",
    "def SELL(CLOSE, x, trade_df1):\n",
    "    #global trade_df1\n",
    "    tmp_df = pd.DataFrame()\n",
    "    tmp_df[\"sell\"] = CLOSE[x]\n",
    "    trade_df1 = trade_df1.append(tmp_df)\n",
    "    return trade_df1\n",
    "    \n",
    "################# Write Algo For Backtest Here ###################\n",
    "\n",
    "#sell = (REF(haOPEN, 0) > REF(haCLOSE,0)) & (REF(haOPEN, 1) > REF(haCLOSE,1))\n",
    "#print(trade_df1)\n",
    "sell = (REF(haOPEN, 0) > REF(haCLOSE,0)) & (REF(haOPEN, 1) < REF(haCLOSE,1))\n",
    "buy = (REF(haOPEN, 0) < REF(haCLOSE,0)) & (REF(haOPEN, 1) > REF(haCLOSE,1))\n",
    "\n",
    "logic = buy | sell\n",
    "\n",
    "summary_df = trade_df1.copy(deep=True)\n",
    "#summary_df['haopen'] = haOPEN[ logic ]\n",
    "#summary_df['haclose'] = haCLOSE[ logic ]\n",
    "summary_df['roc'] = ROC(CLOSE, 30)[logic]\n",
    "\n",
    "#print(summary_df.sort_index())\n",
    "#print(summary_df.sort_index().tail(10))\n",
    "#print(ROC(CLOSE,3))\n",
    "#################### Render Charts ###############################\n",
    "\n",
    "trade_df1 = SELL(CLOSE, sell, trade_df1)\n",
    "trade_df1 = BUY(CLOSE, buy, trade_df1)\n",
    "\n",
    "#print(trade_df1.sort_index())\n",
    "my_cache.setCache(symbol+cache_type+'Trade',trade_df1)\n",
    "#my_cache.pushTrade(symbol, trade_df1)\n",
    "\n",
    "chart_type ='haikin'\n",
    "trade_df = pd.read_json(redis_conn.get(symbol+cache_type+'Trade'), orient='columns')\n",
    "\n",
    "render_charts(ohlc_data_temp, trade_df, symbol, chart_type)"
   ]
  },
  {
   "cell_type": "code",
   "execution_count": null,
   "metadata": {},
   "outputs": [],
   "source": [
    "cache_type = 'backtest_web'\n",
    "symbol='TCS'\n",
    "my_cache = cache_state(cache_type)\n",
    "my_cache.getTrades(symbol)\n",
    "\n",
    "my_cache.get('TCSbacktest_webTrades')"
   ]
  },
  {
   "cell_type": "code",
   "execution_count": null,
   "metadata": {},
   "outputs": [],
   "source": [
    "my_cache.getValue()"
   ]
  },
  {
   "cell_type": "code",
   "execution_count": null,
   "metadata": {
    "scrolled": false
   },
   "outputs": [],
   "source": [
    "temp_file = pd.HDFStore(\"data/kite_cache.h5\", mode=\"r\")\n",
    "temp_file.keys()"
   ]
  },
  {
   "cell_type": "code",
   "execution_count": null,
   "metadata": {},
   "outputs": [],
   "source": [
    "# Long Strategies\n",
    "def long_indicators(s):\n",
    "    temp_df = 0\n",
    "    #temp_df = temp_df | (REF(s.fastk,1) <=20)&(s.fastk>20)\n",
    "    #temp_df = temp_df | CROSSOVER(s.fastk, s.fastd)\n",
    "    #temp_df = temp_df | (REF(s.macd,1) <=0)&(s.macd>0)\n",
    "    #temp_df = temp_df | CROSSOVER(s.macd, s.macdsignal)\n",
    "    temp_df = temp_df | (REF(s.rsi,1) <=40)\n",
    "    #temp_df = temp_df | (s.CLOSE.shift(1) == s.min.shift(1)) & (s.CLOSE > s.OPEN)\n",
    "    #temp_df = temp_df & CROSSOVER(s.BBB, s.CLOSE)\n",
    "\n",
    "    return pd.DataFrame(  temp_df, columns=[\"buy\"] )\n",
    "\n",
    "# Short Strategies\n",
    "def short_indicators(s):\n",
    "    temp_df = 0\n",
    "    #temp_df = temp_df | (REF(s.fastk,1) >=80)&(s.fastk<80)\n",
    "    #temp_df = temp_df | CROSSOVER(s.fastd, s.fastk)\n",
    "    #temp_df = temp_df | (REF(s.macd,1) >=0)&(s.macd<0)\n",
    "    #temp_df = temp_df | CROSSOVER(s.macdsignal, s.macd)\n",
    "    temp_df = temp_df | (REF(s.rsi,1) >=60)\n",
    "    #temp_df = temp_df & CROSSOVER(s.CLOSE, s.BBT)\n",
    "    return pd.DataFrame( temp_df, columns=[\"sell\"])\n",
    "\n",
    "\n",
    "\n",
    "def long_breakout(s):\n",
    "    temp_df = s.haCLOSE >= s.BBT.shift(1)\n",
    "    temp_df = temp_df | (s.haCLOSE >= s.haOPEN.shift(2))\n",
    "    temp_df = temp_df & ( CROSSOVER(s.OPEN, s.BBT) | CROSSOVER(s.OPEN, s.BBB) | CROSSOVER(s.OPEN, s.BBM))\n",
    "    return pd.DataFrame( temp_df , columns=[\"buy\"])\n",
    "\n",
    "def short_breakout(s):\n",
    "    temp_df = s.haOPEN <= s.BBB.shift(1)\n",
    "    temp_df = temp_df | (s.haCLOSE <= s.haOPEN.shift(2))\n",
    "    temp_df = temp_df & ( CROSSOVER(s.BBT, s.OPEN) | CROSSOVER(s.BBB, s.OPEN) | CROSSOVER(s.BBM, s.OPEN))\n",
    "    return pd.DataFrame( temp_df , columns=[\"sell\"])\n",
    "\n",
    "def long_ha(s):\n",
    "    temp_df = (REF(s.haCLOSE,3) < REF(s.haOPEN,3)) & (REF(s.haCLOSE,2) < REF(s.haOPEN,2)) & (REF(s.haCLOSE,1) > REF(s.haOPEN,1)) & (s.haCLOSE > s.haOPEN)  \n",
    "    #temp_df = temp_df & (s.rsi < 40 )\n",
    "    return pd.DataFrame( temp_df , columns=[\"buy\"])\n",
    "\n",
    "def short_ha(s):\n",
    "    temp_df = (REF(s.haCLOSE,3) > REF(s.haOPEN,3)) & (REF(s.haCLOSE,2) > REF(s.haOPEN,2)) & (REF(s.haCLOSE,1) < REF(s.haOPEN,1)) & (s.haCLOSE < s.haOPEN)\n",
    "    #temp_df = temp_df & (s.rsi > 60 )\n",
    "    return pd.DataFrame( temp_df , columns=[\"sell\"])\n",
    "    \n"
   ]
  },
  {
   "cell_type": "markdown",
   "metadata": {},
   "source": [
    "## Redis Console"
   ]
  },
  {
   "cell_type": "code",
   "execution_count": null,
   "metadata": {},
   "outputs": [],
   "source": [
    "from redis import Redis\n",
    "import json\n",
    "\n",
    "conn = Redis(host='redis', port=6379, db=0, charset=\"utf-8\", decode_responses=True)"
   ]
  },
  {
   "cell_type": "code",
   "execution_count": null,
   "metadata": {},
   "outputs": [],
   "source": [
    "conn.xadd('msgBufferQueue',{'msg': 'next'})"
   ]
  },
  {
   "cell_type": "code",
   "execution_count": null,
   "metadata": {},
   "outputs": [],
   "source": []
  },
  {
   "cell_type": "code",
   "execution_count": null,
   "metadata": {
    "scrolled": true
   },
   "outputs": [],
   "source": [
    "pd.set_option('display.max_rows', 50)\n",
    "pd.read_json(conn.hget(stock+'_state','ohlc')).tail(50)"
   ]
  },
  {
   "cell_type": "code",
   "execution_count": null,
   "metadata": {},
   "outputs": [],
   "source": [
    "buy = pd.DataFrame()\n",
    "\n",
    "if buy.shape[0] > 0 and buy[-1]==True:\n",
    "    print('Yeah')"
   ]
  },
  {
   "cell_type": "code",
   "execution_count": null,
   "metadata": {},
   "outputs": [],
   "source": []
  },
  {
   "cell_type": "markdown",
   "metadata": {},
   "source": [
    "## Scratchpad"
   ]
  },
  {
   "cell_type": "code",
   "execution_count": null,
   "metadata": {},
   "outputs": [],
   "source": [
    "redis_conn.pubsub_channels()"
   ]
  },
  {
   "cell_type": "code",
   "execution_count": null,
   "metadata": {},
   "outputs": [],
   "source": [
    "my_cache = cache_state('backtest_uni')"
   ]
  },
  {
   "cell_type": "code",
   "execution_count": null,
   "metadata": {},
   "outputs": [],
   "source": [
    "df = my_cache.getValue()"
   ]
  },
  {
   "cell_type": "code",
   "execution_count": null,
   "metadata": {
    "scrolled": true
   },
   "outputs": [],
   "source": [
    "pd.set_option('display.max_rows', 1000)\n",
    "my_cache.getOHLC('TCS')"
   ]
  },
  {
   "cell_type": "code",
   "execution_count": null,
   "metadata": {},
   "outputs": [],
   "source": [
    "trades_df = my_cache.getTrades('TCS')\n",
    "trades_df"
   ]
  },
  {
   "cell_type": "code",
   "execution_count": null,
   "metadata": {},
   "outputs": [],
   "source": [
    "(total_profit, max_loss, max_profit, total_win, total_loss, max_winning_streak, max_loosing_streak, trade_log_df) = trade_analysis_raw(trades_df)"
   ]
  },
  {
   "cell_type": "code",
   "execution_count": null,
   "metadata": {},
   "outputs": [],
   "source": [
    "import pandas as pd\n",
    "import plotly\n",
    "import plotly.graph_objs as go\n",
    "from datetime import datetime as dt\n",
    "from datetime import timedelta\n",
    "from plotly.subplots import make_subplots\n",
    "import plotly.graph_objects as go\n",
    "\n",
    "from lib.multitasking_lib import *\n",
    "from plotly.offline import download_plotlyjs, init_notebook_mode, plot, iplot"
   ]
  },
  {
   "cell_type": "code",
   "execution_count": null,
   "metadata": {},
   "outputs": [],
   "source": [
    "# GetData\n",
    "\n",
    "logger.setLevel(logging.DEBUG)\n",
    "stock = 'WIPRO'\n",
    "fromDate = '2019-4-22'\n",
    "toDate  = '2019-4-24'\n",
    "freq = 'minute'\n",
    "mydate = fromDate\n",
    "exchange = 'NSE'\n",
    "ohlc_data = {}\n",
    "ohlc_data[stock] = getData(stock, fromDate, toDate, exchange, freq, False, stock)"
   ]
  },
  {
   "cell_type": "code",
   "execution_count": null,
   "metadata": {},
   "outputs": [],
   "source": [
    "ohlc_data[stock].head()"
   ]
  },
  {
   "cell_type": "code",
   "execution_count": null,
   "metadata": {},
   "outputs": [],
   "source": [
    "from lib.data_model_lib import *\n",
    "live_cache = cache_state('backtest_web')\n",
    "live_cache.getValue()\n",
    "#live_cache.getOHLC('TCS', '1D').head()"
   ]
  },
  {
   "cell_type": "code",
   "execution_count": null,
   "metadata": {},
   "outputs": [],
   "source": []
  },
  {
   "cell_type": "code",
   "execution_count": null,
   "metadata": {},
   "outputs": [],
   "source": []
  },
  {
   "cell_type": "code",
   "execution_count": null,
   "metadata": {},
   "outputs": [],
   "source": []
  },
  {
   "cell_type": "code",
   "execution_count": null,
   "metadata": {},
   "outputs": [],
   "source": []
  },
  {
   "cell_type": "code",
   "execution_count": null,
   "metadata": {},
   "outputs": [],
   "source": []
  }
 ],
 "metadata": {
  "kernelspec": {
   "display_name": "Python 3",
   "language": "python",
   "name": "python3"
  },
  "language_info": {
   "codemirror_mode": {
    "name": "ipython",
    "version": 3
   },
   "file_extension": ".py",
   "mimetype": "text/x-python",
   "name": "python",
   "nbconvert_exporter": "python",
   "pygments_lexer": "ipython3",
   "version": "3.7.7"
  }
 },
 "nbformat": 4,
 "nbformat_minor": 4
}
