{
 "cells": [
  {
   "cell_type": "code",
   "execution_count": 2,
   "metadata": {},
   "outputs": [],
   "source": [
    "%load_ext autoreload\n",
    "%autoreload 2\n",
    "#from lib.multitasking_lib import *"
   ]
  },
  {
   "cell_type": "code",
   "execution_count": 3,
   "metadata": {},
   "outputs": [],
   "source": [
    "from lib.multitasking_lib import *\n",
    "cache_type ='backtest_uni'\n",
    "\n",
    "my_cache = cache_state('backtest_uni')"
   ]
  },
  {
   "cell_type": "code",
   "execution_count": 3,
   "metadata": {
    "scrolled": true
   },
   "outputs": [
    {
     "name": "stderr",
     "output_type": "stream",
     "text": [
      "INFO:\tStarting Handler: kite_simulator\n"
     ]
    },
    {
     "name": "stdout",
     "output_type": "stream",
     "text": [
      "True\n",
      "['order_handlerlive', 'kite_ticker_handlerlive', 'kite_simulatorbacktest_web', 'ohlc_tick_handlerbacktest_web']\n",
      "[<Process(Process-1, started)>]\n"
     ]
    },
    {
     "name": "stderr",
     "output_type": "stream",
     "text": [
      "INFO:\tStarting Handler: ohlc_tick_handler\n",
      "DEBUG:\tkite_simulator: 1\n",
      "ERROR:\tkite_simulator: Invalid msg: 1\n",
      "DEBUG:\tohlc_tick_handler(backtest_uni) - INIT: 1\n",
      "TRADE: B: EN:  : 2019-04-08 09:19 : TCS -> 2058.0\n",
      "TRADE: S: EX:  : 2019-04-08 09:23 : TCS -> 2060.85\n",
      "TRADE: B: EN:  : 2019-04-08 09:28 : TCS -> 2056.4\n",
      "TRADE: S: EX:  : 2019-04-08 09:41 : TCS -> 2046.35\n",
      "TRADE: B: EN:  : 2019-04-08 09:51 : TCS -> 2039.35\n",
      "TRADE: S: EX:  : 2019-04-08 10:07 : TCS -> 2044.0\n",
      "TRADE: B: EN:  : 2019-04-08 10:10 : TCS -> 2047.0\n",
      "TRADE: S: EX:  : 2019-04-08 10:13 : TCS -> 2045.85\n",
      "TRADE: B: EN:  : 2019-04-08 10:18 : TCS -> 2045.1\n",
      "TRADE: S: EX:  : 2019-04-08 10:20 : TCS -> 2045.55\n",
      "TRADE: B: EN:  : 2019-04-08 10:23 : TCS -> 2044.15\n",
      "TRADE: S: EX:  : 2019-04-08 10:26 : TCS -> 2043.95\n",
      "TRADE: B: EN:  : 2019-04-08 10:28 : TCS -> 2042.95\n",
      "TRADE: S: EX:  : 2019-04-08 10:29 : TCS -> 2042.75\n",
      "TRADE: B: EN:  : 2019-04-08 10:33 : TCS -> 2044.7\n",
      "TRADE: S: EX:  : 2019-04-08 10:36 : TCS -> 2045.6\n",
      "TRADE: S: EN:  : 2019-04-08 10:39 : TCS -> 2047.0\n",
      "TRADE: B: EX:  : 2019-04-08 10:40 : TCS -> 2047.75\n",
      "TRADE: S: EN:  : 2019-04-08 10:46 : TCS -> 2053.5\n",
      "TRADE: B: EX:  : 2019-04-08 10:47 : TCS -> 2055.0\n",
      "TRADE: S: EN:  : 2019-04-08 10:49 : TCS -> 2051.0\n",
      "TRADE: B: EX:  : 2019-04-08 10:54 : TCS -> 2052.75\n",
      "TRADE: S: EN:  : 2019-04-08 11:00 : TCS -> 2057.15\n",
      "TRADE: B: EX:  : 2019-04-08 11:01 : TCS -> 2057.05\n",
      "TRADE: B: EN:  : 2019-04-08 11:04 : TCS -> 2057.15\n",
      "TRADE: S: EX:  : 2019-04-08 11:06 : TCS -> 2055.55\n",
      "TRADE: B: EN:  : 2019-04-08 11:12 : TCS -> 2054.6\n",
      "TRADE: S: EX:  : 2019-04-08 11:13 : TCS -> 2052.25\n",
      "TRADE: B: EN:  : 2019-04-08 11:15 : TCS -> 2052.45\n",
      "TRADE: S: EX:  : 2019-04-08 11:16 : TCS -> 2052.3\n",
      "TRADE: B: EN:  : 2019-04-08 11:18 : TCS -> 2052.0\n",
      "TRADE: S: EX:  : 2019-04-08 11:21 : TCS -> 2053.8\n",
      "TRADE: S: EN:  : 2019-04-08 11:28 : TCS -> 2054.95\n",
      "TRADE: B: EX:  : 2019-04-08 11:31 : TCS -> 2054.35\n",
      "TRADE: B: EN:  : 2019-04-08 11:33 : TCS -> 2055.6\n",
      "TRADE: S: EX:  : 2019-04-08 11:37 : TCS -> 2058.0\n",
      "TRADE: B: EN:  : 2019-04-08 11:41 : TCS -> 2058.0\n",
      "TRADE: S: EX:  : 2019-04-08 11:43 : TCS -> 2057.45\n",
      "TRADE: B: EN:  : 2019-04-08 11:54 : TCS -> 2052.45\n",
      "TRADE: S: EX:  : 2019-04-08 12:05 : TCS -> 2052.55\n",
      "TRADE: B: EN:  : 2019-04-08 12:10 : TCS -> 2053.9\n",
      "TRADE: S: EX:  : 2019-04-08 12:13 : TCS -> 2052.1\n",
      "TRADE: B: EN:  : 2019-04-08 12:21 : TCS -> 2050.3\n",
      "TRADE: S: EX:  : 2019-04-08 12:26 : TCS -> 2050.9\n",
      "TRADE: B: EN:  : 2019-04-08 12:29 : TCS -> 2050.45\n",
      "TRADE: S: EX:  : 2019-04-08 12:30 : TCS -> 2051.1\n",
      "TRADE: S: EN:  : 2019-04-08 12:36 : TCS -> 2052.5\n",
      "TRADE: B: EX:  : 2019-04-08 12:37 : TCS -> 2052.4\n",
      "TRADE: S: EN:  : 2019-04-08 12:39 : TCS -> 2050.95\n",
      "TRADE: B: EX:  : 2019-04-08 12:44 : TCS -> 2049.15\n",
      "TRADE: S: EN:  : 2019-04-08 12:47 : TCS -> 2049.9\n",
      "TRADE: B: EX:  : 2019-04-08 12:54 : TCS -> 2049.45\n",
      "TRADE: S: EN:  : 2019-04-08 13:01 : TCS -> 2052.7\n",
      "TRADE: B: EX:  : 2019-04-08 13:05 : TCS -> 2053.25\n",
      "TRADE: B: EN:  : 2019-04-08 13:09 : TCS -> 2053.0\n",
      "TRADE: S: EX:  : 2019-04-08 13:13 : TCS -> 2055.85\n",
      "TRADE: S: EN:  : 2019-04-08 13:15 : TCS -> 2054.05\n",
      "TRADE: B: EX:  : 2019-04-08 13:18 : TCS -> 2055.0\n",
      "TRADE: S: EN:  : 2019-04-08 13:20 : TCS -> 2054.95\n",
      "TRADE: B: EX:  : 2019-04-08 13:21 : TCS -> 2055.95\n",
      "TRADE: S: EN:  : 2019-04-08 13:24 : TCS -> 2054.55\n",
      "TRADE: B: EX:  : 2019-04-08 13:26 : TCS -> 2056.0\n",
      "TRADE: S: EN:  : 2019-04-08 13:28 : TCS -> 2055.0\n",
      "TRADE: B: EX:  : 2019-04-08 13:31 : TCS -> 2055.0\n",
      "TRADE: S: EN:  : 2019-04-08 13:33 : TCS -> 2054.0\n",
      "TRADE: B: EX:  : 2019-04-08 13:38 : TCS -> 2051.9\n",
      "TRADE: B: EN:  : 2019-04-08 13:40 : TCS -> 2053.75\n",
      "TRADE: S: EX:  : 2019-04-08 13:55 : TCS -> 2059.0\n",
      "TRADE: B: EN:  : 2019-04-08 13:57 : TCS -> 2058.0\n",
      "TRADE: S: EX:  : 2019-04-08 13:58 : TCS -> 2058.0\n",
      "TRADE: B: EN:  : 2019-04-08 14:00 : TCS -> 2065.0\n",
      "TRADE: S: EX:  : 2019-04-08 14:04 : TCS -> 2067.5\n",
      "TRADE: S: EN:  : 2019-04-08 14:07 : TCS -> 2067.0\n",
      "TRADE: B: EX:  : 2019-04-08 14:16 : TCS -> 2062.0\n",
      "TRADE: S: EN:  : 2019-04-08 14:19 : TCS -> 2061.0\n",
      "TRADE: B: EX:  : 2019-04-08 14:22 : TCS -> 2060.0\n",
      "TRADE: B: EN:  : 2019-04-08 14:25 : TCS -> 2059.15\n",
      "TRADE: S: EX:  : 2019-04-08 14:27 : TCS -> 2058.55\n",
      "TRADE: S: EN:  : 2019-04-08 14:29 : TCS -> 2057.8\n",
      "TRADE: B: EX:  : 2019-04-08 14:31 : TCS -> 2060.0\n",
      "TRADE: S: EN:  : 2019-04-08 14:33 : TCS -> 2057.1\n",
      "TRADE: B: EX:  : 2019-04-08 14:38 : TCS -> 2057.65\n",
      "TRADE: S: EN:  : 2019-04-08 14:40 : TCS -> 2062.55\n",
      "TRADE: B: EX:  : 2019-04-08 14:41 : TCS -> 2067.15\n",
      "TRADE: S: EN:  : 2019-04-08 14:44 : TCS -> 2065.3\n",
      "TRADE: B: EX:  : 2019-04-08 14:48 : TCS -> 2064.85\n",
      "TRADE: S: EN:  : 2019-04-08 14:50 : TCS -> 2062.7\n",
      "TRADE: B: EX:  : 2019-04-08 14:54 : TCS -> 2064.6\n",
      "TRADE: S: EN:  : 2019-04-08 14:56 : TCS -> 2060.75\n",
      "TRADE: B: EX:  : 2019-04-08 14:59 : TCS -> 2061.25\n",
      "TRADE: S: EN:  : 2019-04-08 15:07 : TCS -> 2069.95\n",
      "TRADE: B: EX:  : 2019-04-08 15:09 : TCS -> 2070.5\n",
      "TRADE: S: EN:  : 2019-04-08 15:11 : TCS -> 2070.0\n",
      "TRADE: B: EX:  : 2019-04-08 15:13 : TCS -> 2069.6\n",
      "TRADE: S: EN:  : 2019-04-08 15:15 : TCS -> 2071.9\n",
      "TRADE: B: EX:  : 2019-04-08 15:16 : TCS -> 2074.35\n",
      "TRADE: S: EN:  : 2019-04-08 15:19 : TCS -> 2073.85\n",
      "TRADE: B: EX:  : 2019-04-08 15:21 : TCS -> 2073.1\n",
      "TRADE: B: EN:  : 2019-04-08 15:23 : TCS -> 2074.9\n",
      "TRADE: S: EX:  : 2019-04-08 15:27 : TCS -> 2074.35\n",
      "ERROR:\tProcessing done(backtest_uni): 1501: ('1589347842183-0', {'data': '\"done\"'})\n",
      "ERROR:\tCould not read data from msgBufferQueue\n",
      "DEBUG:\tkite_simulator: {\"stock\": [\"TCS\"], \"sl\": 1, \"target\": 1, \"qty\": 10, \"algo\": \"haikin_1_new\", \"fromDate\": \"2019-4-8\", \"toDate\": \"2019-4-9\", \"freq\": \"1T\", \"mode\": \"full\"}\n",
      "DEBUG:\tTrade_init: TCS\n",
      "INFO:\tReset Cache for: TCSbacktest_uni\n",
      "INFO:\tTCSbacktest_uni=>{'stock': 'TCS', 'qty': '0', 'SL %': '0.0', 'TP %': '0.0', 'amount': '0', 'price': '0.0', 'P&L': '0.0', 'P&L %': '0.0', 'Total P&L': '0.0', 'Total P&L %': '0.0', 'low': '0.0', 'sl': '0.0', 'ltp': '0.0', 'ltp %': '0.0', 'tp': '0.0', 'high': '0.0', 'last_processed': '1999-01-01', 'state': 'INIT', 'mode': 'PAUSE', 'algo': '', 'freq': '1D', 'hdf_freq': 'day', 'order_id': '0'}\n",
      "INFO:\tRunning Full Backtest\n",
      "DEBUG:\tohlc_tick_handler(backtest_uni) - INIT: start\n",
      "TRADE: B: EN:  : 2019-04-08 09:15 : TCS -> 2060.0\n",
      "TRADE: S: EX:  : 2019-04-08 09:18 : TCS -> 2055.25\n",
      "TRADE: S: EN:  : 2019-04-08 09:18 : TCS -> 2055.0\n",
      "TRADE: B: EX:  : 2019-04-08 09:20 : TCS -> 2060.0\n",
      "TRADE: S: EN:  : 2019-04-08 09:24 : TCS -> 2059.35\n",
      "TRADE: B: EX:  : 2019-04-08 09:34 : TCS -> 2049.1\n",
      "TRADE: S: EN:  : 2019-04-08 09:36 : TCS -> 2046.95\n",
      "TRADE: B: EX:  : 2019-04-08 09:40 : TCS -> 2047.05\n",
      "TRADE: S: EN:  : 2019-04-08 09:42 : TCS -> 2045.65\n",
      "TRADE: B: EX:  : 2019-04-08 09:43 : TCS -> 2041.75\n",
      "INFO:\tKite_Simulator: Done: 1500\n",
      "TRADE: B: EN:  : 2019-04-08 09:51 : TCS -> 2036.2\n",
      "TRADE: S: EX:  : 2019-04-08 10:07 : TCS -> 2044.0\n",
      "TRADE: B: EN:  : 2019-04-08 10:10 : TCS -> 2047.0\n",
      "TRADE: S: EX:  : 2019-04-08 10:13 : TCS -> 2045.85\n",
      "TRADE: B: EN:  : 2019-04-08 10:18 : TCS -> 2045.1\n",
      "TRADE: S: EX:  : 2019-04-08 10:20 : TCS -> 2045.55\n",
      "TRADE: B: EN:  : 2019-04-08 10:23 : TCS -> 2044.15\n",
      "TRADE: S: EX:  : 2019-04-08 10:26 : TCS -> 2043.95\n",
      "TRADE: B: EN:  : 2019-04-08 10:28 : TCS -> 2042.95\n",
      "TRADE: S: EX:  : 2019-04-08 10:29 : TCS -> 2042.75\n",
      "TRADE: B: EN:  : 2019-04-08 10:33 : TCS -> 2044.7\n",
      "TRADE: S: EX:  : 2019-04-08 10:36 : TCS -> 2045.6\n",
      "TRADE: S: EN:  : 2019-04-08 10:39 : TCS -> 2047.0\n",
      "TRADE: B: EX:  : 2019-04-08 10:40 : TCS -> 2047.75\n",
      "TRADE: S: EN:  : 2019-04-08 10:46 : TCS -> 2053.5\n",
      "TRADE: B: EX:  : 2019-04-08 10:47 : TCS -> 2055.0\n",
      "TRADE: S: EN:  : 2019-04-08 10:49 : TCS -> 2051.0\n",
      "TRADE: B: EX:  : 2019-04-08 10:54 : TCS -> 2052.75\n",
      "TRADE: S: EN:  : 2019-04-08 11:00 : TCS -> 2057.15\n",
      "TRADE: B: EX:  : 2019-04-08 11:01 : TCS -> 2057.05\n",
      "TRADE: B: EN:  : 2019-04-08 11:04 : TCS -> 2057.15\n",
      "TRADE: S: EX:  : 2019-04-08 11:06 : TCS -> 2055.55\n",
      "TRADE: B: EN:  : 2019-04-08 11:12 : TCS -> 2054.6\n",
      "TRADE: S: EX:  : 2019-04-08 11:13 : TCS -> 2052.25\n",
      "TRADE: B: EN:  : 2019-04-08 11:15 : TCS -> 2052.45\n",
      "TRADE: S: EX:  : 2019-04-08 11:16 : TCS -> 2052.3\n",
      "TRADE: B: EN:  : 2019-04-08 11:18 : TCS -> 2052.3\n",
      "TRADE: S: EX:  : 2019-04-08 11:21 : TCS -> 2053.8\n",
      "TRADE: S: EN:  : 2019-04-08 11:28 : TCS -> 2054.95\n",
      "TRADE: B: EX:  : 2019-04-08 11:31 : TCS -> 2054.35\n",
      "TRADE: B: EN:  : 2019-04-08 11:33 : TCS -> 2055.6\n",
      "TRADE: S: EX:  : 2019-04-08 11:37 : TCS -> 2058.0\n"
     ]
    },
    {
     "name": "stderr",
     "output_type": "stream",
     "text": [
      "TRADE: B: EN:  : 2019-04-08 11:41 : TCS -> 2058.0\n",
      "TRADE: S: EX:  : 2019-04-08 11:43 : TCS -> 2057.45\n",
      "TRADE: B: EN:  : 2019-04-08 11:54 : TCS -> 2052.45\n",
      "TRADE: S: EX:  : 2019-04-08 12:05 : TCS -> 2052.55\n",
      "TRADE: B: EN:  : 2019-04-08 12:10 : TCS -> 2053.9\n",
      "TRADE: S: EX:  : 2019-04-08 12:13 : TCS -> 2052.1\n",
      "TRADE: B: EN:  : 2019-04-08 12:21 : TCS -> 2050.3\n",
      "TRADE: S: EX:  : 2019-04-08 12:26 : TCS -> 2050.9\n",
      "TRADE: B: EN:  : 2019-04-08 12:29 : TCS -> 2050.45\n",
      "TRADE: S: EX:  : 2019-04-08 12:30 : TCS -> 2051.1\n",
      "TRADE: S: EN:  : 2019-04-08 12:36 : TCS -> 2051.0\n",
      "TRADE: B: EX:  : 2019-04-08 12:37 : TCS -> 2052.4\n",
      "TRADE: S: EN:  : 2019-04-08 12:39 : TCS -> 2050.95\n",
      "TRADE: B: EX:  : 2019-04-08 12:44 : TCS -> 2051.1\n",
      "TRADE: S: EN:  : 2019-04-08 12:47 : TCS -> 2049.9\n",
      "TRADE: B: EX:  : 2019-04-08 12:54 : TCS -> 2048.0\n",
      "TRADE: S: EN:  : 2019-04-08 13:01 : TCS -> 2054.2\n",
      "TRADE: B: EX:  : 2019-04-08 13:05 : TCS -> 2053.25\n",
      "TRADE: B: EN:  : 2019-04-08 13:09 : TCS -> 2053.0\n",
      "TRADE: S: EX:  : 2019-04-08 13:13 : TCS -> 2055.85\n",
      "TRADE: S: EN:  : 2019-04-08 13:15 : TCS -> 2054.05\n",
      "TRADE: B: EX:  : 2019-04-08 13:18 : TCS -> 2055.0\n",
      "TRADE: S: EN:  : 2019-04-08 13:20 : TCS -> 2054.95\n",
      "TRADE: B: EX:  : 2019-04-08 13:21 : TCS -> 2055.95\n",
      "TRADE: S: EN:  : 2019-04-08 13:24 : TCS -> 2054.55\n",
      "TRADE: B: EX:  : 2019-04-08 13:26 : TCS -> 2056.0\n",
      "TRADE: S: EN:  : 2019-04-08 13:28 : TCS -> 2055.0\n",
      "TRADE: B: EX:  : 2019-04-08 13:31 : TCS -> 2053.25\n",
      "TRADE: S: EN:  : 2019-04-08 13:33 : TCS -> 2054.0\n",
      "TRADE: B: EX:  : 2019-04-08 13:38 : TCS -> 2051.9\n",
      "TRADE: B: EN:  : 2019-04-08 13:40 : TCS -> 2053.75\n",
      "TRADE: S: EX:  : 2019-04-08 13:55 : TCS -> 2059.0\n",
      "TRADE: B: EN:  : 2019-04-08 13:57 : TCS -> 2058.0\n",
      "TRADE: S: EX:  : 2019-04-08 13:58 : TCS -> 2058.0\n",
      "TRADE: B: EN:  : 2019-04-08 14:00 : TCS -> 2065.0\n",
      "TRADE: S: EX:  : 2019-04-08 14:04 : TCS -> 2067.5\n",
      "TRADE: S: EN:  : 2019-04-08 14:07 : TCS -> 2067.0\n",
      "TRADE: B: EX:  : 2019-04-08 14:16 : TCS -> 2062.0\n",
      "TRADE: S: EN:  : 2019-04-08 14:19 : TCS -> 2061.0\n",
      "TRADE: B: EX:  : 2019-04-08 14:22 : TCS -> 2060.0\n",
      "TRADE: B: EN:  : 2019-04-08 14:25 : TCS -> 2059.15\n",
      "TRADE: S: EX:  : 2019-04-08 14:27 : TCS -> 2058.55\n",
      "TRADE: S: EN:  : 2019-04-08 14:29 : TCS -> 2057.8\n",
      "TRADE: B: EX:  : 2019-04-08 14:31 : TCS -> 2060.0\n",
      "TRADE: S: EN:  : 2019-04-08 14:33 : TCS -> 2057.1\n",
      "TRADE: B: EX:  : 2019-04-08 14:38 : TCS -> 2057.65\n",
      "TRADE: S: EN:  : 2019-04-08 14:40 : TCS -> 2062.55\n",
      "TRADE: B: EX:  : 2019-04-08 14:41 : TCS -> 2067.15\n",
      "TRADE: S: EN:  : 2019-04-08 14:44 : TCS -> 2065.3\n",
      "TRADE: B: EX:  : 2019-04-08 14:48 : TCS -> 2063.95\n",
      "TRADE: S: EN:  : 2019-04-08 14:50 : TCS -> 2062.7\n",
      "TRADE: B: EX:  : 2019-04-08 14:54 : TCS -> 2064.6\n",
      "TRADE: S: EN:  : 2019-04-08 14:56 : TCS -> 2060.75\n",
      "TRADE: B: EX:  : 2019-04-08 14:59 : TCS -> 2061.25\n",
      "TRADE: S: EN:  : 2019-04-08 15:07 : TCS -> 2069.95\n",
      "TRADE: B: EX:  : 2019-04-08 15:09 : TCS -> 2070.5\n",
      "TRADE: S: EN:  : 2019-04-08 15:11 : TCS -> 2070.0\n",
      "TRADE: B: EX:  : 2019-04-08 15:13 : TCS -> 2069.6\n",
      "TRADE: S: EN:  : 2019-04-08 15:15 : TCS -> 2071.9\n",
      "TRADE: B: EX:  : 2019-04-08 15:16 : TCS -> 2074.35\n",
      "TRADE: S: EN:  : 2019-04-08 15:19 : TCS -> 2073.85\n",
      "TRADE: B: EX:  : 2019-04-08 15:21 : TCS -> 2073.1\n",
      "TRADE: B: EN:  : 2019-04-08 15:23 : TCS -> 2074.9\n",
      "TRADE: S: EX:  : 2019-04-08 15:27 : TCS -> 2074.35\n",
      "ERROR:\tProcessing done(backtest_uni): 1501: ('1589372047299-0', {'data': '\"done\"'})\n",
      "ERROR:\tCould not read data from msgBufferQueue\n",
      "DEBUG:\tkite_simulator: {\"stock\": [\"TCS\"], \"sl\": 1, \"target\": 1, \"qty\": 10, \"algo\": \"haikin_1_new\", \"fromDate\": \"2019-4-8\", \"toDate\": \"2019-4-9\", \"freq\": \"1T\", \"mode\": \"full\"}\n",
      "DEBUG:\tTrade_init: TCS\n",
      "INFO:\tReset Cache for: TCSbacktest_uni\n",
      "INFO:\tTCSbacktest_uni=>{'stock': 'TCS', 'qty': '0', 'SL %': '0.0', 'TP %': '0.0', 'amount': '0', 'price': '0.0', 'P&L': '0.0', 'P&L %': '0.0', 'Total P&L': '0.0', 'Total P&L %': '0.0', 'low': '0.0', 'sl': '0.0', 'ltp': '0.0', 'ltp %': '0.0', 'tp': '0.0', 'high': '0.0', 'last_processed': '1999-01-01', 'state': 'INIT', 'mode': 'PAUSE', 'algo': '', 'freq': '1D', 'hdf_freq': 'day', 'order_id': '0'}\n",
      "INFO:\tRunning Full Backtest\n",
      "DEBUG:\tohlc_tick_handler(backtest_uni) - INIT: start\n",
      "TRADE: B: EN:  : 2019-04-08 09:15 : TCS -> 2060.0\n",
      "TRADE: S: EX:  : 2019-04-08 09:18 : TCS -> 2053.35\n",
      "TRADE: B: EN:  : 2019-04-08 09:20 : TCS -> 2060.0\n",
      "TRADE: S: EX:  : 2019-04-08 09:26 : TCS -> 2059.0\n",
      "TRADE: B: EN:  : 2019-04-08 09:34 : TCS -> 2051.4\n",
      "TRADE: S: EX:  : 2019-04-08 09:36 : TCS -> 2046.95\n",
      "TRADE: B: EN:  : 2019-04-08 09:40 : TCS -> 2049.0\n",
      "TRADE: S: EX:  : 2019-04-08 09:42 : TCS -> 2045.55\n",
      "TRADE: S: EN:  : 2019-04-08 09:44 : TCS -> 2041.75\n",
      "INFO:\tKite_Simulator: Done: 1500\n",
      "TRADE: B: EX:  : 2019-04-08 09:51 : TCS -> 2039.35\n",
      "TRADE: B: EN:  : 2019-04-08 10:03 : TCS -> 2043.0\n",
      "TRADE: S: EX:  : 2019-04-08 10:07 : TCS -> 2044.0\n",
      "TRADE: B: EN:  : 2019-04-08 10:10 : TCS -> 2047.0\n",
      "TRADE: S: EX:  : 2019-04-08 10:13 : TCS -> 2044.75\n",
      "TRADE: B: EN:  : 2019-04-08 10:18 : TCS -> 2045.1\n",
      "TRADE: S: EX:  : 2019-04-08 10:20 : TCS -> 2045.55\n",
      "TRADE: B: EN:  : 2019-04-08 10:23 : TCS -> 2044.15\n",
      "TRADE: S: EX:  : 2019-04-08 10:26 : TCS -> 2043.95\n",
      "TRADE: B: EN:  : 2019-04-08 10:28 : TCS -> 2042.95\n",
      "TRADE: S: EX:  : 2019-04-08 10:29 : TCS -> 2042.75\n",
      "TRADE: B: EN:  : 2019-04-08 10:33 : TCS -> 2044.7\n",
      "TRADE: S: EX:  : 2019-04-08 10:36 : TCS -> 2045.6\n",
      "TRADE: S: EN:  : 2019-04-08 10:39 : TCS -> 2047.0\n",
      "TRADE: B: EX:  : 2019-04-08 10:40 : TCS -> 2047.75\n",
      "TRADE: S: EN:  : 2019-04-08 10:46 : TCS -> 2053.5\n",
      "TRADE: B: EX:  : 2019-04-08 10:47 : TCS -> 2055.0\n",
      "TRADE: S: EN:  : 2019-04-08 10:49 : TCS -> 2051.0\n",
      "TRADE: B: EX:  : 2019-04-08 10:54 : TCS -> 2052.75\n",
      "TRADE: S: EN:  : 2019-04-08 11:00 : TCS -> 2057.15\n",
      "TRADE: B: EX:  : 2019-04-08 11:01 : TCS -> 2057.05\n",
      "TRADE: B: EN:  : 2019-04-08 11:04 : TCS -> 2057.15\n",
      "TRADE: S: EX:  : 2019-04-08 11:06 : TCS -> 2055.55\n",
      "TRADE: B: EN:  : 2019-04-08 11:12 : TCS -> 2054.6\n",
      "TRADE: S: EX:  : 2019-04-08 11:13 : TCS -> 2052.25\n",
      "TRADE: B: EN:  : 2019-04-08 11:15 : TCS -> 2052.45\n",
      "TRADE: S: EX:  : 2019-04-08 11:16 : TCS -> 2052.3\n",
      "TRADE: B: EN:  : 2019-04-08 11:18 : TCS -> 2052.3\n",
      "TRADE: S: EX:  : 2019-04-08 11:21 : TCS -> 2053.8\n",
      "TRADE: S: EN:  : 2019-04-08 11:28 : TCS -> 2054.85\n",
      "TRADE: B: EX:  : 2019-04-08 11:31 : TCS -> 2054.35\n",
      "TRADE: B: EN:  : 2019-04-08 11:33 : TCS -> 2055.6\n",
      "TRADE: S: EX:  : 2019-04-08 11:37 : TCS -> 2058.0\n",
      "TRADE: B: EN:  : 2019-04-08 11:41 : TCS -> 2058.0\n",
      "TRADE: S: EX:  : 2019-04-08 11:43 : TCS -> 2057.45\n",
      "TRADE: B: EN:  : 2019-04-08 11:54 : TCS -> 2052.45\n",
      "TRADE: S: EX:  : 2019-04-08 12:05 : TCS -> 2052.55\n",
      "TRADE: B: EN:  : 2019-04-08 12:10 : TCS -> 2053.9\n",
      "TRADE: S: EX:  : 2019-04-08 12:13 : TCS -> 2052.1\n",
      "TRADE: B: EN:  : 2019-04-08 12:21 : TCS -> 2050.3\n",
      "TRADE: S: EX:  : 2019-04-08 12:26 : TCS -> 2050.9\n",
      "TRADE: B: EN:  : 2019-04-08 12:29 : TCS -> 2050.45\n",
      "TRADE: S: EX:  : 2019-04-08 12:30 : TCS -> 2051.1\n",
      "TRADE: S: EN:  : 2019-04-08 12:36 : TCS -> 2052.5\n",
      "TRADE: B: EX:  : 2019-04-08 12:37 : TCS -> 2052.4\n",
      "TRADE: S: EN:  : 2019-04-08 12:39 : TCS -> 2050.95\n",
      "TRADE: B: EX:  : 2019-04-08 12:44 : TCS -> 2051.1\n",
      "TRADE: S: EN:  : 2019-04-08 12:47 : TCS -> 2049.9\n",
      "TRADE: B: EX:  : 2019-04-08 12:54 : TCS -> 2049.45\n",
      "TRADE: S: EN:  : 2019-04-08 13:01 : TCS -> 2054.2\n"
     ]
    }
   ],
   "source": [
    "######################\n",
    "# Initiate Backtest  #\n",
    "######################\n",
    "\n",
    "\n",
    "def store_algo(algo, algo_name=\"default\"):\n",
    "    redis_conn.hset(\"algos\",algo_name, algo)\n",
    "    algo_f = open(\"log/\"+algo_name+\".txt\", \"w\")\n",
    "    algo_f.write(algo)\n",
    "    algo_f.close()\n",
    "    \n",
    "#my_cache.flushall()\n",
    "def backtest_unitest(stocks, freq='1T',algo_name = 'haikin_1_new', fromDate='2019-4-8', toDate='2019-4-9', mode='full'):\n",
    "    stocks = stocks\n",
    "    sl = 1\n",
    "    target = 1\n",
    "    qty = 10\n",
    "    backtest_msg={'stock':stocks,'sl':sl,'target':target,'qty':qty,'algo':algo_name,'fromDate':fromDate,'toDate':toDate,'freq':freq, 'mode':mode}\n",
    "\n",
    "    # Step 4: Done is set to 0: Backtest is in progress, will be resetted by backtest job\n",
    "    redis_conn.set('done'+cache_type,0)\n",
    "    # Step 5: Send the msg to backtest thread to initiate the back test\n",
    "    #pdebug(json.dumps(backtest_msg))\n",
    "    redis_conn.publish('kite_simulator'+cache_type,json.dumps(backtest_msg))\n",
    "    \n",
    "##########################\n",
    "# Unit Test              #\n",
    "##########################\n",
    "\n",
    "open('log/freedom.log','r+')\n",
    "#log_file.close()\n",
    "\n",
    "logger.setLevel(10)\n",
    "loggerT.setLevel(21)\n",
    "redis_conn.set('done'+cache_type,1)\n",
    "\n",
    "try:\n",
    "    if backtest_manager.job.is_alive():\n",
    "        backtest_manager.job.terminate()\n",
    "        time.sleep(0.1)\n",
    "except:\n",
    "    pass\n",
    "finally:\n",
    "    backtest_manager = threadManager(cache_type, [\"kite_simulator\",\"ohlc_tick_handler\"], [kite_simulator, ohlc_tick_handler])\n",
    "    \n",
    "print(backtest_manager.job.is_alive())\n",
    "print(redis_conn.pubsub_channels())\n",
    "print(jobs)\n"
   ]
  },
  {
   "cell_type": "code",
   "execution_count": null,
   "metadata": {},
   "outputs": [],
   "source": [
    "datetime.fromtimestamp(1589305326570/1000).strftime('%Y-%m-%d %H:%M:%S')"
   ]
  },
  {
   "cell_type": "code",
   "execution_count": 5,
   "metadata": {
    "scrolled": true
   },
   "outputs": [],
   "source": [
    "backtest_unitest(['TCS'])"
   ]
  },
  {
   "cell_type": "code",
   "execution_count": 7,
   "metadata": {},
   "outputs": [
    {
     "data": {
      "text/plain": [
       "'1554708870000-0'"
      ]
     },
     "execution_count": 7,
     "metadata": {},
     "output_type": "execute_result"
    }
   ],
   "source": [
    "my_cache.get('last_id_msg')"
   ]
  },
  {
   "cell_type": "code",
   "execution_count": null,
   "metadata": {},
   "outputs": [],
   "source": []
  },
  {
   "cell_type": "code",
   "execution_count": 8,
   "metadata": {
    "scrolled": true
   },
   "outputs": [
    {
     "data": {
      "text/plain": [
       "True"
      ]
     },
     "execution_count": 8,
     "metadata": {},
     "output_type": "execute_result"
    }
   ],
   "source": []
  },
  {
   "cell_type": "code",
   "execution_count": 6,
   "metadata": {},
   "outputs": [
    {
     "name": "stdout",
     "output_type": "stream",
     "text": [
      "False\n",
      "['order_handlerlive', 'kite_ticker_handlerlive', 'kite_simulatorbacktest_web', 'ohlc_tick_handlerbacktest_web']\n"
     ]
    }
   ],
   "source": [
    "################################\n",
    "###         Stop Trade       ###\n",
    "################################\n",
    "\n",
    "my_cache.delete('msgBufferQueue'+cache_postfix)\n",
    "my_cache.set('TCSbacktest_uniTICK',pd.DataFrame().to_json())\n",
    "\n",
    "if backtest_manager.job.is_alive():\n",
    "    backtest_manager.job.terminate()\n",
    "time.sleep(1)\n",
    "print(backtest_manager.job.is_alive())\n",
    "print(redis_conn.pubsub_channels())\n",
    "my_cache.set('last_id_msg',0)\n",
    "jobs\n",
    "jobs = []"
   ]
  },
  {
   "cell_type": "code",
   "execution_count": 37,
   "metadata": {},
   "outputs": [
    {
     "data": {
      "text/plain": [
       "['order_handlerlive',\n",
       " 'kite_ticker_handlerlive',\n",
       " 'kite_simulatorbacktest_web',\n",
       " 'ohlc_tick_handlerbacktest_web']"
      ]
     },
     "execution_count": 37,
     "metadata": {},
     "output_type": "execute_result"
    }
   ],
   "source": [
    "redis_conn.pubsub_channels()"
   ]
  },
  {
   "cell_type": "code",
   "execution_count": null,
   "metadata": {},
   "outputs": [],
   "source": [
    "backtest_unitest(['TCS'])"
   ]
  },
  {
   "cell_type": "code",
   "execution_count": null,
   "metadata": {},
   "outputs": [],
   "source": [
    "backtest_unitest(['WIPRO','TCS'])"
   ]
  },
  {
   "cell_type": "code",
   "execution_count": null,
   "metadata": {},
   "outputs": [],
   "source": [
    "from lib.charting_lib import *\n",
    "cache_type = 'backtest_uni'\n",
    "chart_type ='haikin'\n",
    "\n",
    "symbol='TCS'\n",
    "my_cache = cache_state(cache_type)\n",
    "\n",
    "#######  Hack for freq  ############\n",
    "my_cache.setValue('TCS','freq','1T')\n",
    "#####################################\n",
    "dfohlc = my_cache.getOHLC(symbol)\n",
    "print(dfohlc.tail())\n",
    "trade_df = pd.read_json(redis_conn.get(symbol+cache_type+'Trade'), orient='columns')\n",
    "\n",
    "render_charts(dfohlc, trade_df, symbol, chart_type)"
   ]
  },
  {
   "cell_type": "code",
   "execution_count": null,
   "metadata": {},
   "outputs": [],
   "source": [
    "cache_state('backtest_uni').getValue()"
   ]
  },
  {
   "cell_type": "markdown",
   "metadata": {},
   "source": [
    "## Live Trade Debugging"
   ]
  },
  {
   "cell_type": "code",
   "execution_count": 185,
   "metadata": {
    "scrolled": true
   },
   "outputs": [
    {
     "name": "stderr",
     "output_type": "stream",
     "text": [
      "INFO:\tStarting Handler: ohlc_tick_handler\n",
      "DEBUG:\tohlc_tick_handler(live) - INIT: 1\n",
      "TRADE: S: EN:  : 2020-05-13 15:10 : WIPRO -> 189.3\n",
      "TRADE: B: EX:  : 2020-05-13 15:16 : WIPRO -> 189.4\n",
      "TRADE: S: EN:  : 2020-05-13 15:19 : WIPRO -> 190.0\n",
      "TRADE: B: EX:  : 2020-05-13 15:20 : WIPRO -> 190.05\n",
      "TRADE: S: EN:  : 2020-05-13 15:23 : WIPRO -> 189.95\n",
      "TRADE: B: EX:  : 2020-05-13 15:24 : WIPRO -> 190.05\n",
      "TRADE: S: EN:  : 2020-05-13 15:27 : WIPRO -> 189.9\n",
      "TRADE: B: EX:  : 2020-05-13 16:18 : WIPRO -> 189.7\n",
      "ERROR:\tCould not read data from msgBufferQueue\n"
     ]
    }
   ],
   "source": [
    "live = threadManager('live', [\"ohlc_tick_handler\"], [ohlc_tick_handler])\n"
   ]
  },
  {
   "cell_type": "code",
   "execution_count": 116,
   "metadata": {},
   "outputs": [
    {
     "data": {
      "text/plain": [
       "0"
      ]
     },
     "execution_count": 116,
     "metadata": {},
     "output_type": "execute_result"
    }
   ],
   "source": [
    "live_cache.setValue('WIPRO','mode','paper')"
   ]
  },
  {
   "cell_type": "code",
   "execution_count": 184,
   "metadata": {},
   "outputs": [
    {
     "data": {
      "text/html": [
       "<div>\n",
       "<style scoped>\n",
       "    .dataframe tbody tr th:only-of-type {\n",
       "        vertical-align: middle;\n",
       "    }\n",
       "\n",
       "    .dataframe tbody tr th {\n",
       "        vertical-align: top;\n",
       "    }\n",
       "\n",
       "    .dataframe thead th {\n",
       "        text-align: right;\n",
       "    }\n",
       "</style>\n",
       "<table border=\"1\" class=\"dataframe\">\n",
       "  <thead>\n",
       "    <tr style=\"text-align: right;\">\n",
       "      <th></th>\n",
       "      <th>stock</th>\n",
       "      <th>qty</th>\n",
       "      <th>SL %</th>\n",
       "      <th>TP %</th>\n",
       "      <th>amount</th>\n",
       "      <th>price</th>\n",
       "      <th>P&amp;L</th>\n",
       "      <th>P&amp;L %</th>\n",
       "      <th>Total P&amp;L</th>\n",
       "      <th>Total P&amp;L %</th>\n",
       "      <th>...</th>\n",
       "      <th>ltp %</th>\n",
       "      <th>tp</th>\n",
       "      <th>high</th>\n",
       "      <th>last_processed</th>\n",
       "      <th>state</th>\n",
       "      <th>mode</th>\n",
       "      <th>algo</th>\n",
       "      <th>freq</th>\n",
       "      <th>hdf_freq</th>\n",
       "      <th>order_id</th>\n",
       "    </tr>\n",
       "  </thead>\n",
       "  <tbody>\n",
       "    <tr>\n",
       "      <th>0</th>\n",
       "      <td>WIPRO</td>\n",
       "      <td>1</td>\n",
       "      <td>1</td>\n",
       "      <td>1</td>\n",
       "      <td>189.7</td>\n",
       "      <td>0</td>\n",
       "      <td>0.20000000000001705</td>\n",
       "      <td>0.10531858873091997</td>\n",
       "      <td>-0.5000000000000568</td>\n",
       "      <td>-0.2635740643121017</td>\n",
       "      <td>...</td>\n",
       "      <td>0.0</td>\n",
       "      <td>0</td>\n",
       "      <td>189.7</td>\n",
       "      <td>0</td>\n",
       "      <td>SCANNING</td>\n",
       "      <td>paper</td>\n",
       "      <td>haikin_1_new</td>\n",
       "      <td>1T</td>\n",
       "      <td>minute</td>\n",
       "      <td>-1</td>\n",
       "    </tr>\n",
       "  </tbody>\n",
       "</table>\n",
       "<p>1 rows × 23 columns</p>\n",
       "</div>"
      ],
      "text/plain": [
       "   stock qty SL % TP % amount price                  P&L                P&L %  \\\n",
       "0  WIPRO   1    1    1  189.7     0  0.20000000000001705  0.10531858873091997   \n",
       "\n",
       "             Total P&L          Total P&L %  ... ltp % tp   high  \\\n",
       "0  -0.5000000000000568  -0.2635740643121017  ...   0.0  0  189.7   \n",
       "\n",
       "  last_processed     state   mode          algo freq hdf_freq order_id  \n",
       "0              0  SCANNING  paper  haikin_1_new   1T   minute       -1  \n",
       "\n",
       "[1 rows x 23 columns]"
      ]
     },
     "execution_count": 184,
     "metadata": {},
     "output_type": "execute_result"
    }
   ],
   "source": [
    "live.job.terminate()\n",
    "live_cache.set('WIPROliveTICK', pd.DataFrame().to_json(orient='columns'))\n",
    "live_cache.setValue('WIPRO','last_processed',0)\n",
    "live_cache.getValue('WIPRO')"
   ]
  },
  {
   "cell_type": "code",
   "execution_count": 73,
   "metadata": {},
   "outputs": [
    {
     "name": "stdout",
     "output_type": "stream",
     "text": [
      "[('1589365238353-0', {'data': '[{\"tradable\": true, \"mode\": \"ltp\", \"instrument_token\": 969473, \"last_price\": 189.7}]'}), ('1589365249733-0', {'data': '[{\"tradable\": true, \"mode\": \"ltp\", \"instrument_token\": 969473, \"last_price\": 189.7}]'})]\n",
      "2020-05-13 15:50:49.733000\n"
     ]
    }
   ],
   "source": [
    "#live_cache.getOHLC('WIPRO') \n",
    "print(live_cache.xrange('msgBufferQueuelive')[-2:])\n",
    "print(datetime.fromtimestamp(int(live_cache.xrange('msgBufferQueuelive')[-1][0].split('-')[0] )/1000))\n"
   ]
  },
  {
   "cell_type": "code",
   "execution_count": 175,
   "metadata": {},
   "outputs": [
    {
     "data": {
      "text/html": [
       "<div>\n",
       "<style scoped>\n",
       "    .dataframe tbody tr th:only-of-type {\n",
       "        vertical-align: middle;\n",
       "    }\n",
       "\n",
       "    .dataframe tbody tr th {\n",
       "        vertical-align: top;\n",
       "    }\n",
       "\n",
       "    .dataframe thead th {\n",
       "        text-align: right;\n",
       "    }\n",
       "</style>\n",
       "<table border=\"1\" class=\"dataframe\">\n",
       "  <thead>\n",
       "    <tr style=\"text-align: right;\">\n",
       "      <th></th>\n",
       "    </tr>\n",
       "  </thead>\n",
       "  <tbody>\n",
       "  </tbody>\n",
       "</table>\n",
       "</div>"
      ],
      "text/plain": [
       "Empty DataFrame\n",
       "Columns: []\n",
       "Index: []"
      ]
     },
     "execution_count": 175,
     "metadata": {},
     "output_type": "execute_result"
    }
   ],
   "source": [
    "live_cache.getOHLC('WIPRO').tail()"
   ]
  },
  {
   "cell_type": "code",
   "execution_count": null,
   "metadata": {},
   "outputs": [],
   "source": []
  },
  {
   "cell_type": "markdown",
   "metadata": {},
   "source": [
    "## Quick Backtest"
   ]
  },
  {
   "cell_type": "code",
   "execution_count": null,
   "metadata": {
    "scrolled": true
   },
   "outputs": [],
   "source": [
    "###########################################################\n",
    "###                  Quick Backtest                     ###\n",
    "###########################################################\n",
    "from talib import MACD, MACDEXT, RSI, BBANDS, MACD, AROON, STOCHF, ATR, OBV, ADOSC, MINUS_DI, PLUS_DI, ADX, EMA, SMA\n",
    "from talib import LINEARREG, BETA, LINEARREG_INTERCEPT, LINEARREG_SLOPE, STDDEV, TSF, ADOSC, VAR, ROC, MIN, MAX, MINMAX\n",
    "\n",
    "ohlc_get = lambda df, key: df.iloc[-1][key]\n",
    "def HAIKINASI(ohlc_data_df):\n",
    "    REF = lambda key, i: ohlc_get(ohlc_data_df.shift(i), key)\n",
    "    \n",
    "    OPEN  = ohlc_data_df['open']\n",
    "    HIGH  = ohlc_data_df['high']\n",
    "    LOW   = ohlc_data_df['low']\n",
    "    CLOSE = ohlc_data_df['close']\n",
    "    \n",
    "    haOPEN  = (OPEN.shift(1) + CLOSE.shift(1))/2\n",
    "    haHIGH  = pd.DataFrame([HIGH,OPEN,CLOSE]).max(axis = 0, skipna = True)\n",
    "    haLOW   = pd.DataFrame([LOW,OPEN,CLOSE]).min(axis = 0, skipna = True)\n",
    "    haCLOSE = (OPEN+HIGH+LOW+CLOSE)/4\n",
    "    \n",
    "    return (haOPEN, haHIGH, haLOW, haCLOSE)\n",
    "\n",
    "\n",
    "################ Load Data ###################\n",
    "from lib.charting_lib import *\n",
    "cache_type = 'backtest_uni'\n",
    "symbol='TCS'\n",
    "my_cache = cache_state(cache_type)\n",
    "\n",
    "###  Set Freq for Algo\n",
    "my_cache.setValue('TCS','freq','1T')\n",
    "dfohlc = my_cache.getOHLC(symbol)\n",
    "#print(dfohlc.head())\n",
    "\n",
    "### Load Data\n",
    "ohlc_data_temp = dfohlc\n",
    "pd.set_option('display.max_rows', None)\n",
    "################ Initialize Helper Functions ###################\n",
    "trade_df1 = pd.DataFrame()\n",
    "OPEN = ohlc_data_temp['open']\n",
    "CLOSE = ohlc_data_temp['close']\n",
    "HIGH = ohlc_data_temp['high']\n",
    "LOW = ohlc_data_temp['low']\n",
    "#VOLUME = ohlc_data_temp['volume']\n",
    "\n",
    "(haOPEN, haHIGH, haLOW, haCLOSE) = HAIKINASI(ohlc_data_temp)\n",
    "\n",
    "TIME = ohlc_data_temp.index[-1].minute+ohlc_data_temp.index[-1].hour*60\n",
    "\n",
    "#REF = lambda df, i: df.iloc[-i-1]\n",
    "REF = lambda df, i: df.shift(i)\n",
    "TREND_UP = lambda a,b: ROC(a, b) >= 0.1\n",
    "TREND_DOWN = lambda a,b: ROC(a, b) <= -0.1\n",
    "CROSSOVER = lambda a, b: (REF(a,1)<=REF(b,1)) & (a > b)\n",
    "\n",
    "\n",
    "def BUY(CLOSE, x, trade_df1):\n",
    "    #global trade_df1\n",
    "    tmp_df = pd.DataFrame()\n",
    "    tmp_df[\"buy\"] = CLOSE[x]\n",
    "    trade_df1 = trade_df1.append(tmp_df)\n",
    "    return trade_df1\n",
    "\n",
    "def SELL(CLOSE, x, trade_df1):\n",
    "    #global trade_df1\n",
    "    tmp_df = pd.DataFrame()\n",
    "    tmp_df[\"sell\"] = CLOSE[x]\n",
    "    trade_df1 = trade_df1.append(tmp_df)\n",
    "    return trade_df1\n",
    "    \n",
    "################# Write Algo For Backtest Here ###################\n",
    "\n",
    "#sell = (REF(haOPEN, 0) > REF(haCLOSE,0)) & (REF(haOPEN, 1) > REF(haCLOSE,1))\n",
    "#print(trade_df1)\n",
    "sell = (REF(haOPEN, 0) > REF(haCLOSE,0)) & (REF(haOPEN, 1) < REF(haCLOSE,1))\n",
    "buy = (REF(haOPEN, 0) < REF(haCLOSE,0)) & (REF(haOPEN, 1) > REF(haCLOSE,1))\n",
    "\n",
    "logic = buy | sell\n",
    "\n",
    "summary_df = trade_df1.copy(deep=True)\n",
    "#summary_df['haopen'] = haOPEN[ logic ]\n",
    "#summary_df['haclose'] = haCLOSE[ logic ]\n",
    "summary_df['roc'] = ROC(CLOSE, 30)[logic]\n",
    "\n",
    "#print(summary_df.sort_index())\n",
    "#print(summary_df.sort_index().tail(10))\n",
    "#print(ROC(CLOSE,3))\n",
    "#################### Render Charts ###############################\n",
    "\n",
    "trade_df1 = SELL(CLOSE, sell, trade_df1)\n",
    "trade_df1 = BUY(CLOSE, buy, trade_df1)\n",
    "\n",
    "#print(trade_df1.sort_index())\n",
    "my_cache.setCache(symbol+cache_type+'Trade',trade_df1)\n",
    "#my_cache.pushTrade(symbol, trade_df1)\n",
    "\n",
    "chart_type ='haikin'\n",
    "trade_df = pd.read_json(redis_conn.get(symbol+cache_type+'Trade'), orient='columns')\n",
    "\n",
    "render_charts(ohlc_data_temp, trade_df, symbol, chart_type)"
   ]
  },
  {
   "cell_type": "code",
   "execution_count": null,
   "metadata": {},
   "outputs": [],
   "source": [
    "cache_type = 'backtest_web'\n",
    "symbol='TCS'\n",
    "my_cache = cache_state(cache_type)\n",
    "my_cache.getTrades(symbol)\n",
    "\n",
    "my_cache.get('TCSbacktest_webTrades')"
   ]
  },
  {
   "cell_type": "code",
   "execution_count": null,
   "metadata": {},
   "outputs": [],
   "source": [
    "my_cache.getValue()"
   ]
  },
  {
   "cell_type": "code",
   "execution_count": null,
   "metadata": {
    "scrolled": false
   },
   "outputs": [],
   "source": [
    "temp_file = pd.HDFStore(\"data/kite_cache.h5\", mode=\"r\")\n",
    "temp_file.keys()"
   ]
  },
  {
   "cell_type": "code",
   "execution_count": null,
   "metadata": {},
   "outputs": [],
   "source": []
  },
  {
   "cell_type": "markdown",
   "metadata": {},
   "source": [
    "## Redis Console"
   ]
  },
  {
   "cell_type": "code",
   "execution_count": 4,
   "metadata": {
    "scrolled": true
   },
   "outputs": [],
   "source": [
    "from lib.multitasking_lib import *\n",
    "#from lib.data_model_lib import *\n",
    "import json\n",
    "web_cache = cache_state('backtest_web')\n",
    "live_cache = cache_state('live')\n",
    "uni_cache = cache_state('backtest_uni')\n",
    "\n",
    "pd.set_option('display.max_rows', None)"
   ]
  },
  {
   "cell_type": "code",
   "execution_count": 5,
   "metadata": {},
   "outputs": [
    {
     "data": {
      "text/plain": [
       "['order_handlerlive',\n",
       " 'kite_ticker_handlerlive',\n",
       " 'ohlc_tick_handlerlive',\n",
       " 'kite_simulatorbacktest_web',\n",
       " 'ohlc_tick_handlerbacktest_web']"
      ]
     },
     "execution_count": 5,
     "metadata": {},
     "output_type": "execute_result"
    }
   ],
   "source": [
    "live_cache.pubsub_channels()"
   ]
  },
  {
   "cell_type": "code",
   "execution_count": null,
   "metadata": {},
   "outputs": [],
   "source": [
    "df = live_cache.getValue()"
   ]
  },
  {
   "cell_type": "code",
   "execution_count": null,
   "metadata": {
    "scrolled": true
   },
   "outputs": [],
   "source": [
    "live_cache.getOHLC('TCS')"
   ]
  },
  {
   "cell_type": "code",
   "execution_count": null,
   "metadata": {},
   "outputs": [],
   "source": [
    "trades_df = live_cache.getTrades('TCS')\n",
    "trades_df"
   ]
  },
  {
   "cell_type": "code",
   "execution_count": null,
   "metadata": {},
   "outputs": [],
   "source": [
    "(total_profit, max_loss, max_profit, total_win, total_loss, max_winning_streak, max_loosing_streak, trade_log_df) = trade_analysis_raw(trades_df)"
   ]
  },
  {
   "cell_type": "code",
   "execution_count": null,
   "metadata": {},
   "outputs": [],
   "source": [
    "import pandas as pd\n",
    "import plotly\n",
    "import plotly.graph_objs as go\n",
    "from datetime import datetime as dt\n",
    "from datetime import timedelta\n",
    "from plotly.subplots import make_subplots\n",
    "import plotly.graph_objects as go\n",
    "\n",
    "from lib.multitasking_lib import *\n",
    "from plotly.offline import download_plotlyjs, init_notebook_mode, plot, iplot"
   ]
  },
  {
   "cell_type": "markdown",
   "metadata": {},
   "source": [
    "### GetData"
   ]
  },
  {
   "cell_type": "code",
   "execution_count": null,
   "metadata": {},
   "outputs": [],
   "source": [
    "logger.setLevel(logging.DEBUG)\n",
    "stock = 'WIPRO'\n",
    "fromDate = '2019-4-22'\n",
    "toDate  = '2019-4-24'\n",
    "freq = 'minute'\n",
    "mydate = fromDate\n",
    "exchange = 'NSE'\n",
    "ohlc_data = {}\n",
    "ohlc_data[stock] = getData(stock, fromDate, toDate, exchange, freq, False, stock)"
   ]
  },
  {
   "cell_type": "code",
   "execution_count": null,
   "metadata": {},
   "outputs": [],
   "source": [
    "ohlc_data[stock].head()"
   ]
  },
  {
   "cell_type": "markdown",
   "metadata": {},
   "source": [
    "# Kite Connect"
   ]
  },
  {
   "cell_type": "code",
   "execution_count": 8,
   "metadata": {},
   "outputs": [
    {
     "name": "stdout",
     "output_type": "stream",
     "text": [
      "KRtj5s4LxJ6Ihv7UvH21jraPo84G19ij\n",
      "b2w0sfnr1zr92nxm\n"
     ]
    }
   ],
   "source": [
    "from kiteconnect import KiteConnect\n",
    "kite_api_key = 'b2w0sfnr1zr92nxm'\n",
    "live_cache.set('KiteAPIKey',kite_api_key)\n",
    "access_token = live_cache.get('access_token')\n",
    "print(access_token)\n",
    "print(live_cache.get('KiteAPIKey'))\n",
    "\n",
    "kite = KiteConnect(api_key=kite_api_key)\n",
    "kite.set_access_token(access_token)"
   ]
  },
  {
   "cell_type": "code",
   "execution_count": 9,
   "metadata": {},
   "outputs": [
    {
     "data": {
      "text/plain": [
       "'KRtj5s4LxJ6Ihv7UvH21jraPo84G19ij'"
      ]
     },
     "execution_count": 9,
     "metadata": {},
     "output_type": "execute_result"
    }
   ],
   "source": [
    "kite.access_token"
   ]
  },
  {
   "cell_type": "code",
   "execution_count": null,
   "metadata": {},
   "outputs": [],
   "source": []
  },
  {
   "cell_type": "code",
   "execution_count": null,
   "metadata": {},
   "outputs": [],
   "source": [
    "kite.profile()"
   ]
  },
  {
   "cell_type": "code",
   "execution_count": null,
   "metadata": {},
   "outputs": [],
   "source": [
    "cancel_order('CIPLA')"
   ]
  },
  {
   "cell_type": "code",
   "execution_count": null,
   "metadata": {
    "scrolled": true
   },
   "outputs": [],
   "source": [
    "orders_df = pd.DataFrame(kite.orders())\n",
    "orders_df[['order_id','status','tradingsymbol','transaction_type','quantity','tag','price']]"
   ]
  },
  {
   "cell_type": "code",
   "execution_count": null,
   "metadata": {},
   "outputs": [],
   "source": [
    "symbol = 'INFY'\n",
    "live_cache.add(symbol)\n",
    "token = int(live_cache.hmget('eq_token',symbol)[0])\n",
    "live_cache.publish('live_trade_handlerlive', json.dumps({'cmd':'add','value':[token],'mode':'ltp'}))\n",
    "\n",
    "live_cache.setValue('INFY','qty','1')\n",
    "live_cache.setValue('INFY','SL %','0.4')\n",
    "live_cache.setValue('INFY','TP %','1')\n",
    "live_cache.setValue('INFY','algo','haikin_1_new')\n",
    "live_cache.setValue('INFY','freq','1T')\n",
    "\n",
    "live_cache.setValue('INFY','mode','live')"
   ]
  },
  {
   "cell_type": "code",
   "execution_count": null,
   "metadata": {},
   "outputs": [],
   "source": []
  },
  {
   "cell_type": "code",
   "execution_count": 10,
   "metadata": {},
   "outputs": [
    {
     "data": {
      "text/html": [
       "<div>\n",
       "<style scoped>\n",
       "    .dataframe tbody tr th:only-of-type {\n",
       "        vertical-align: middle;\n",
       "    }\n",
       "\n",
       "    .dataframe tbody tr th {\n",
       "        vertical-align: top;\n",
       "    }\n",
       "\n",
       "    .dataframe thead th {\n",
       "        text-align: right;\n",
       "    }\n",
       "</style>\n",
       "<table border=\"1\" class=\"dataframe\">\n",
       "  <thead>\n",
       "    <tr style=\"text-align: right;\">\n",
       "      <th></th>\n",
       "      <th>stock</th>\n",
       "      <th>qty</th>\n",
       "      <th>SL %</th>\n",
       "      <th>TP %</th>\n",
       "      <th>amount</th>\n",
       "      <th>price</th>\n",
       "      <th>P&amp;L</th>\n",
       "      <th>P&amp;L %</th>\n",
       "      <th>Total P&amp;L</th>\n",
       "      <th>Total P&amp;L %</th>\n",
       "      <th>...</th>\n",
       "      <th>ltp %</th>\n",
       "      <th>tp</th>\n",
       "      <th>high</th>\n",
       "      <th>last_processed</th>\n",
       "      <th>state</th>\n",
       "      <th>mode</th>\n",
       "      <th>algo</th>\n",
       "      <th>freq</th>\n",
       "      <th>hdf_freq</th>\n",
       "      <th>order_id</th>\n",
       "    </tr>\n",
       "  </thead>\n",
       "  <tbody>\n",
       "    <tr>\n",
       "      <th>0</th>\n",
       "      <td>WIPRO</td>\n",
       "      <td>1</td>\n",
       "      <td>1</td>\n",
       "      <td>1</td>\n",
       "      <td>0</td>\n",
       "      <td>0</td>\n",
       "      <td>0</td>\n",
       "      <td>0.0</td>\n",
       "      <td>0</td>\n",
       "      <td>0.0</td>\n",
       "      <td>...</td>\n",
       "      <td>0.0</td>\n",
       "      <td>0.0</td>\n",
       "      <td>0.0</td>\n",
       "      <td>1999-01-01</td>\n",
       "      <td>INIT</td>\n",
       "      <td>PAUSE</td>\n",
       "      <td>haikin_1_new</td>\n",
       "      <td>1T</td>\n",
       "      <td>minute</td>\n",
       "      <td>200513002688712</td>\n",
       "    </tr>\n",
       "  </tbody>\n",
       "</table>\n",
       "<p>1 rows × 23 columns</p>\n",
       "</div>"
      ],
      "text/plain": [
       "   stock qty SL % TP % amount price P&L P&L % Total P&L Total P&L %  ...  \\\n",
       "0  WIPRO   1    1    1      0     0   0   0.0         0         0.0  ...   \n",
       "\n",
       "  ltp %   tp high last_processed state   mode          algo freq hdf_freq  \\\n",
       "0   0.0  0.0  0.0     1999-01-01  INIT  PAUSE  haikin_1_new   1T   minute   \n",
       "\n",
       "          order_id  \n",
       "0  200513002688712  \n",
       "\n",
       "[1 rows x 23 columns]"
      ]
     },
     "execution_count": 10,
     "metadata": {},
     "output_type": "execute_result"
    }
   ],
   "source": [
    "live_cache.getValue()"
   ]
  },
  {
   "cell_type": "code",
   "execution_count": null,
   "metadata": {},
   "outputs": [],
   "source": [
    "live_cache.setValue('INFY','mode','paper')\n",
    "live_cache.setValue('INFY','qty','1')\n",
    "live_cache.setValue('INFY','SL %','0.4')\n",
    "live_cache.setValue('INFY','TP %','1')\n",
    "live_cache.setValue('INFY','algo','haikin_1_new')\n",
    "live_cache.setValue('INFY','freq','1T')"
   ]
  },
  {
   "cell_type": "code",
   "execution_count": null,
   "metadata": {},
   "outputs": [],
   "source": [
    "live_cache.setValue('INFY','qty','1')\n",
    "live_cache.setValue('INFY','SL %','0.4')\n",
    "live_cache.setValue('INFY','TP %','1')\n",
    "live_cache.setValue('INFY','algo','haikin_1_new')\n",
    "live_cache.setValue('INFY','freq','1T')"
   ]
  },
  {
   "cell_type": "code",
   "execution_count": null,
   "metadata": {},
   "outputs": [],
   "source": [
    "live_cache.setValue('CIPLA','mode','PAUSE')"
   ]
  },
  {
   "cell_type": "code",
   "execution_count": null,
   "metadata": {},
   "outputs": [],
   "source": [
    "position_df = pd.DataFrame(kite.positions()['net'])\n",
    "position_df"
   ]
  },
  {
   "cell_type": "code",
   "execution_count": null,
   "metadata": {},
   "outputs": [],
   "source": [
    "pd.DataFrame(kite.positions()['day'])"
   ]
  },
  {
   "cell_type": "code",
   "execution_count": null,
   "metadata": {},
   "outputs": [],
   "source": [
    "orders_df = pd.DataFrame()\n",
    "for msg in live_cache.xrange('notificationQueuelivenew'):\n",
    "    tmp_df = pd.DataFrame.from_dict(json.loads(msg[1]['data']), orient='index').transpose()\n",
    "    orders_df = orders_df.append(tmp_df)\n",
    "    #print(msg)\n",
    "orders_df"
   ]
  },
  {
   "cell_type": "code",
   "execution_count": null,
   "metadata": {
    "scrolled": true
   },
   "outputs": [],
   "source": [
    "kite.margins()"
   ]
  },
  {
   "cell_type": "markdown",
   "metadata": {},
   "source": [
    "### Kite Ticker Handler Manipulation"
   ]
  },
  {
   "cell_type": "code",
   "execution_count": null,
   "metadata": {},
   "outputs": [],
   "source": [
    "#live_cache.publish('live_trade_handlerlive','profile')\n",
    "live_cache.publish('live_trade_handlerlive','status')"
   ]
  },
  {
   "cell_type": "code",
   "execution_count": null,
   "metadata": {},
   "outputs": [],
   "source": [
    "live_cache.publish('kite_ticker_handlerlive','INIT')"
   ]
  },
  {
   "cell_type": "code",
   "execution_count": null,
   "metadata": {},
   "outputs": [],
   "source": [
    "live_cache.publish('kite_ticker_handlerlive','CLOSE')"
   ]
  },
  {
   "cell_type": "code",
   "execution_count": null,
   "metadata": {},
   "outputs": [],
   "source": [
    "live_cache.publish('kite_ticker_handlerlive','START')"
   ]
  },
  {
   "cell_type": "code",
   "execution_count": null,
   "metadata": {},
   "outputs": [],
   "source": [
    "live_cache.publish('kite_ticker_handlerlive','profile')"
   ]
  },
  {
   "cell_type": "code",
   "execution_count": null,
   "metadata": {},
   "outputs": [],
   "source": [
    "live_cache.smembers('live_token')"
   ]
  },
  {
   "cell_type": "code",
   "execution_count": null,
   "metadata": {},
   "outputs": [],
   "source": [
    "values = list(map(int,live_cache.smembers('ticker_list')))\n",
    "values"
   ]
  },
  {
   "cell_type": "code",
   "execution_count": null,
   "metadata": {},
   "outputs": [],
   "source": [
    "live_cache.publish('kite_ticker_handlerlive',json.dumps({'cmd':'add','value':values,'mode':'ltp'}))"
   ]
  },
  {
   "cell_type": "code",
   "execution_count": null,
   "metadata": {},
   "outputs": [],
   "source": [
    "live_cache.publish('kite_ticker_handlerlive',json.dumps({'cmd':'remove','value':[1270529, 969473, 1510401],'mode':'quote'}))\n"
   ]
  },
  {
   "cell_type": "code",
   "execution_count": null,
   "metadata": {},
   "outputs": [],
   "source": [
    "pd.DataFrame(kite.orders())"
   ]
  },
  {
   "cell_type": "markdown",
   "metadata": {},
   "source": [
    "### OrderHandler Monitor and Manipulation"
   ]
  },
  {
   "cell_type": "code",
   "execution_count": 96,
   "metadata": {},
   "outputs": [
    {
     "data": {
      "text/plain": [
       "1"
      ]
     },
     "execution_count": 96,
     "metadata": {},
     "output_type": "execute_result"
    }
   ],
   "source": [
    "# Pause Ordering\n",
    "live_cache.publish('order_handlerlive', 'pause')"
   ]
  },
  {
   "cell_type": "code",
   "execution_count": 182,
   "metadata": {},
   "outputs": [
    {
     "data": {
      "text/plain": [
       "1"
      ]
     },
     "execution_count": 182,
     "metadata": {},
     "output_type": "execute_result"
    }
   ],
   "source": [
    "# Resume Ordering\n",
    "live_cache.publish('order_handlerlive', 'resume')"
   ]
  },
  {
   "cell_type": "code",
   "execution_count": 97,
   "metadata": {},
   "outputs": [
    {
     "data": {
      "text/plain": [
       "1"
      ]
     },
     "execution_count": 97,
     "metadata": {},
     "output_type": "execute_result"
    }
   ],
   "source": [
    "# Buy\n",
    "live_cache.publish('order_handlerlive',json.dumps({'cmd':'buy','symbol':'WIPRO','price':180,'qty':1}))"
   ]
  },
  {
   "cell_type": "code",
   "execution_count": 12,
   "metadata": {},
   "outputs": [
    {
     "data": {
      "text/plain": [
       "1"
      ]
     },
     "execution_count": 12,
     "metadata": {},
     "output_type": "execute_result"
    }
   ],
   "source": [
    "# Sell\n",
    "live_cache.publish('order_handlerlive',json.dumps({'cmd':'sell','symbol':'WIPRO','price':190,'qty':1}))"
   ]
  },
  {
   "cell_type": "code",
   "execution_count": null,
   "metadata": {},
   "outputs": [],
   "source": [
    "# Cancel\n",
    "live_cache.publish('order_handlerlive',json.dumps({'cmd':'cancel','symbol':'WIPRO'}))"
   ]
  },
  {
   "cell_type": "code",
   "execution_count": null,
   "metadata": {},
   "outputs": [],
   "source": [
    "live_cache.publish('order_handlerlive',json.dumps({'cmd':'getOrders'}))"
   ]
  },
  {
   "cell_type": "code",
   "execution_count": 33,
   "metadata": {},
   "outputs": [
    {
     "data": {
      "text/plain": [
       "1"
      ]
     },
     "execution_count": 33,
     "metadata": {},
     "output_type": "execute_result"
    }
   ],
   "source": [
    "## Cancel All the orders\n",
    "live_cache.publish('order_handlerlive',json.dumps({'cmd':'cancelAll'}))"
   ]
  },
  {
   "cell_type": "code",
   "execution_count": null,
   "metadata": {},
   "outputs": [],
   "source": [
    "#from lib.kite_wrapper_lib import *\n",
    "cancel_order(kite,['CIPLA'])"
   ]
  },
  {
   "cell_type": "code",
   "execution_count": null,
   "metadata": {},
   "outputs": [],
   "source": [
    "buy_limit('WIPRO',188.5,1)"
   ]
  },
  {
   "cell_type": "code",
   "execution_count": null,
   "metadata": {},
   "outputs": [],
   "source": [
    "sell_limit('WIPRO',188.7,1)"
   ]
  },
  {
   "cell_type": "code",
   "execution_count": 11,
   "metadata": {
    "scrolled": true
   },
   "outputs": [
    {
     "data": {
      "text/html": [
       "<div>\n",
       "<style scoped>\n",
       "    .dataframe tbody tr th:only-of-type {\n",
       "        vertical-align: middle;\n",
       "    }\n",
       "\n",
       "    .dataframe tbody tr th {\n",
       "        vertical-align: top;\n",
       "    }\n",
       "\n",
       "    .dataframe thead th {\n",
       "        text-align: right;\n",
       "    }\n",
       "</style>\n",
       "<table border=\"1\" class=\"dataframe\">\n",
       "  <thead>\n",
       "    <tr style=\"text-align: right;\">\n",
       "      <th></th>\n",
       "    </tr>\n",
       "  </thead>\n",
       "  <tbody>\n",
       "  </tbody>\n",
       "</table>\n",
       "</div>"
      ],
      "text/plain": [
       "Empty DataFrame\n",
       "Columns: []\n",
       "Index: []"
      ]
     },
     "execution_count": 11,
     "metadata": {},
     "output_type": "execute_result"
    }
   ],
   "source": [
    "live_cache.getOHLC('WIPRO').tail(10)"
   ]
  },
  {
   "cell_type": "code",
   "execution_count": null,
   "metadata": {},
   "outputs": [],
   "source": [
    "kite.cancel_order(kite.VARIETY_REGULAR, 200511002924441, parent_order_id=None)"
   ]
  },
  {
   "cell_type": "code",
   "execution_count": null,
   "metadata": {},
   "outputs": [],
   "source": [
    "kite.convert_position(kite.EXCHANGE_NSE, 'WIPRO', transaction_type, position_type, quantity, old_product, new_product)\n"
   ]
  },
  {
   "cell_type": "code",
   "execution_count": null,
   "metadata": {},
   "outputs": [],
   "source": [
    "kite.modify_order(kite.VARIETY_REGULAR, 200511003019322, parent_order_id=None, quantity=None, price=187.4, order_type=None, trigger_price=None, validity=None, disclosed_quantity=None)\n"
   ]
  },
  {
   "cell_type": "code",
   "execution_count": null,
   "metadata": {},
   "outputs": [],
   "source": [
    "msg = {'data': '[{\"tradable\": true, \"mode\": \"quote\", \"instrument_token\": 969473, \"last_price\": 184.7, \"last_quantity\": 5, \"average_price\": 187.07, \"volume\": 4393242, \"buy_quantity\": 0, \"sell_quantity\": 0, \"ohlc\": {\"open\": 185.0, \"high\": 189.95, \"low\": 184.1, \"close\": 184.0}, \"change\": 0.38043478260868946}, {\"tradable\": true, \"mode\": \"quote\", \"instrument_token\": 2953217, \"last_price\": 1935.3, \"last_quantity\": 25, \"average_price\": 1939.47, \"volume\": 2449395, \"buy_quantity\": 0, \"sell_quantity\": 0, \"ohlc\": {\"open\": 1909.0, \"high\": 1951.4, \"low\": 1909.0, \"close\": 1893.4}, \"change\": 2.2129502482306886}]'}"
   ]
  },
  {
   "cell_type": "code",
   "execution_count": null,
   "metadata": {},
   "outputs": [],
   "source": [
    "msg['data']"
   ]
  },
  {
   "cell_type": "code",
   "execution_count": null,
   "metadata": {},
   "outputs": [],
   "source": [
    "val = json.loads(msg['data'])"
   ]
  },
  {
   "cell_type": "markdown",
   "metadata": {},
   "source": [
    "##### Reset state for tradejob"
   ]
  },
  {
   "cell_type": "code",
   "execution_count": null,
   "metadata": {},
   "outputs": [],
   "source": [
    "live_cache.setValue('WIPRO','state','SCANNING')"
   ]
  },
  {
   "cell_type": "markdown",
   "metadata": {},
   "source": [
    "### Monitor: OHLC Tick Handler"
   ]
  },
  {
   "cell_type": "code",
   "execution_count": null,
   "metadata": {},
   "outputs": [],
   "source": [
    "live_cache.get('last_id_msg')"
   ]
  },
  {
   "cell_type": "markdown",
   "metadata": {},
   "source": [
    "### Live Cache State Monitor and manipulation"
   ]
  },
  {
   "cell_type": "code",
   "execution_count": null,
   "metadata": {},
   "outputs": [],
   "source": [
    "live_cache.getValue()"
   ]
  },
  {
   "cell_type": "code",
   "execution_count": null,
   "metadata": {},
   "outputs": [],
   "source": []
  },
  {
   "cell_type": "code",
   "execution_count": null,
   "metadata": {},
   "outputs": [],
   "source": [
    "stock_key = 'WIPRO'\n",
    "live_cache.add(stock_key, True) #TODO: While adding stock to table use True\n",
    "live_cache.setValue(stock_key, 'algo', 'haikin_1_new')\n",
    "live_cache.setValue(stock_key, 'freq', '1T')\n",
    "live_cache.setValue(stock_key, 'qty', 1)\n",
    "live_cache.setValue(stock_key, 'SL %', 1)\n",
    "live_cache.setValue(stock_key, 'TP %', 1)\n",
    "live_cache.setValue(stock_key, 'P&L', 0)\n",
    "live_cache.setValue(stock_key, 'Total P&L', 0)\n",
    "live_cache.setValue(stock_key, 'price', 0)\n",
    "live_cache.setValue(stock_key, 'hdf_freq', 'minute')\n",
    "live_cache.getValue()"
   ]
  },
  {
   "cell_type": "code",
   "execution_count": null,
   "metadata": {},
   "outputs": [],
   "source": [
    "live_cache.remove('AXISBANK')\n",
    "live_cache.getValue()"
   ]
  },
  {
   "cell_type": "markdown",
   "metadata": {},
   "source": [
    "#### Get token for Stock symbol"
   ]
  },
  {
   "cell_type": "code",
   "execution_count": null,
   "metadata": {},
   "outputs": [],
   "source": [
    "live_cache.hmget('eq_token',['CIPLA','INFY'])"
   ]
  },
  {
   "cell_type": "code",
   "execution_count": null,
   "metadata": {},
   "outputs": [],
   "source": [
    "live_cache.hmget('eq_token',['TCS','WIPRO','AXISBANK'])"
   ]
  },
  {
   "cell_type": "markdown",
   "metadata": {},
   "source": [
    "#### Peek into OHLC buffer"
   ]
  },
  {
   "cell_type": "code",
   "execution_count": null,
   "metadata": {},
   "outputs": [],
   "source": [
    "live_cache.getOHLC('WIPRO') "
   ]
  },
  {
   "cell_type": "markdown",
   "metadata": {},
   "source": [
    "#### msgBufferQueue Monitoring"
   ]
  },
  {
   "cell_type": "code",
   "execution_count": 10,
   "metadata": {},
   "outputs": [
    {
     "data": {
      "text/plain": [
       "('1589370308339-0',\n",
       " {'data': '[{\"tradable\": true, \"mode\": \"ltp\", \"instrument_token\": 969473, \"last_price\": 189.7}]'})"
      ]
     },
     "execution_count": 10,
     "metadata": {},
     "output_type": "execute_result"
    }
   ],
   "source": [
    "live_cache.xrange('msgBufferQueuelive')[-1]"
   ]
  },
  {
   "cell_type": "code",
   "execution_count": 13,
   "metadata": {},
   "outputs": [
    {
     "data": {
      "text/plain": [
       "datetime.datetime(2020, 5, 13, 17, 15, 8, 339000)"
      ]
     },
     "execution_count": 13,
     "metadata": {},
     "output_type": "execute_result"
    }
   ],
   "source": [
    "datetime.fromtimestamp(int(live_cache.xrange('msgBufferQueuelive')[-1][0].split('-')[0] )/1000)"
   ]
  },
  {
   "cell_type": "markdown",
   "metadata": {},
   "source": [
    "#### TickerList Manipulaitons"
   ]
  },
  {
   "cell_type": "code",
   "execution_count": null,
   "metadata": {},
   "outputs": [],
   "source": [
    "live_cache.sadd('ticker_list','2953217')\n",
    "live_cache.sadd('ticker_list','969473')\n",
    "\n",
    "live_cache.sadd('ticker_list','1510401')"
   ]
  },
  {
   "cell_type": "code",
   "execution_count": 6,
   "metadata": {},
   "outputs": [
    {
     "name": "stdout",
     "output_type": "stream",
     "text": [
      "[969473]\n"
     ]
    },
    {
     "data": {
      "text/plain": [
       "['WIPRO']"
      ]
     },
     "execution_count": 6,
     "metadata": {},
     "output_type": "execute_result"
    }
   ],
   "source": [
    "values = list(map(int,live_cache.smembers('ticker_list')))\n",
    "print(values)\n",
    "live_cache.hmget('eq_token', values)"
   ]
  },
  {
   "cell_type": "code",
   "execution_count": null,
   "metadata": {},
   "outputs": [],
   "source": [
    "live_cache.srem('ticker_list',1510401)"
   ]
  },
  {
   "cell_type": "code",
   "execution_count": null,
   "metadata": {},
   "outputs": [],
   "source": [
    "live_cache.sismember('ticker_list',4268801)"
   ]
  },
  {
   "cell_type": "code",
   "execution_count": null,
   "metadata": {},
   "outputs": [],
   "source": [
    "live_cache.delete('ticker_list')"
   ]
  },
  {
   "cell_type": "code",
   "execution_count": null,
   "metadata": {},
   "outputs": [],
   "source": [
    "live_cache.getValue()"
   ]
  },
  {
   "cell_type": "code",
   "execution_count": null,
   "metadata": {},
   "outputs": [],
   "source": [
    "live_cache.get('Kite_Status')"
   ]
  },
  {
   "cell_type": "markdown",
   "metadata": {},
   "source": [
    "### Update Redis with Instrument list"
   ]
  },
  {
   "cell_type": "markdown",
   "metadata": {},
   "source": [
    "##### Download fresh data and store in cache"
   ]
  },
  {
   "cell_type": "code",
   "execution_count": null,
   "metadata": {},
   "outputs": [],
   "source": [
    "instruments_df = pd.DataFrame(kite.instruments())"
   ]
  },
  {
   "cell_type": "code",
   "execution_count": null,
   "metadata": {},
   "outputs": [],
   "source": [
    "instruments_df.to_hdf('data/instruments.h5',key='instruments')"
   ]
  },
  {
   "cell_type": "code",
   "execution_count": null,
   "metadata": {},
   "outputs": [],
   "source": [
    "instruments_df.columns"
   ]
  },
  {
   "cell_type": "code",
   "execution_count": null,
   "metadata": {},
   "outputs": [],
   "source": [
    "eq_nse = instruments_df.loc[(instruments_df['exchange']=='NSE') & (instruments_df['segment']=='NSE')  & (instruments_df['instrument_type']=='EQ'), ['instrument_token','tradingsymbol']]"
   ]
  },
  {
   "cell_type": "code",
   "execution_count": null,
   "metadata": {},
   "outputs": [],
   "source": [
    "eq_nse.loc[eq_nse['tradingsymbol'].isin(['TCS','WIPRO']),'instrument_token'].values"
   ]
  },
  {
   "cell_type": "markdown",
   "metadata": {},
   "source": [
    "##### Use cache"
   ]
  },
  {
   "cell_type": "code",
   "execution_count": null,
   "metadata": {},
   "outputs": [],
   "source": [
    "instruments_df = pd.read_hdf('data/instruments.h5',key='instruments')"
   ]
  },
  {
   "cell_type": "code",
   "execution_count": null,
   "metadata": {},
   "outputs": [],
   "source": [
    "instruments_df"
   ]
  },
  {
   "cell_type": "code",
   "execution_count": null,
   "metadata": {},
   "outputs": [],
   "source": [
    "eq_nse = instruments_df.loc[(instruments_df['exchange']=='NSE') & (instruments_df['segment']=='NSE')  & (instruments_df['instrument_type']=='EQ'), ['instrument_token','tradingsymbol']]"
   ]
  },
  {
   "cell_type": "code",
   "execution_count": null,
   "metadata": {},
   "outputs": [],
   "source": [
    "eq_nse.loc[eq_nse['tradingsymbol'].isin(['TCS','WIPRO']),:].values\n",
    "\n",
    "eq_nse.set_index('instrument_token')"
   ]
  },
  {
   "cell_type": "code",
   "execution_count": null,
   "metadata": {},
   "outputs": [],
   "source": [
    "live_cache.delete('eq_token')"
   ]
  },
  {
   "cell_type": "code",
   "execution_count": null,
   "metadata": {},
   "outputs": [],
   "source": [
    "eq_nse.head().to_dict(orient='records')"
   ]
  },
  {
   "cell_type": "code",
   "execution_count": null,
   "metadata": {},
   "outputs": [],
   "source": [
    "eq_nse.head().set_index('tradingsymbol').transpose().to_dict(orient='records')"
   ]
  },
  {
   "cell_type": "code",
   "execution_count": null,
   "metadata": {},
   "outputs": [],
   "source": [
    "eq_nse.head().set_index('instrument_token').transpose().to_dict(orient='records')[0]"
   ]
  },
  {
   "cell_type": "markdown",
   "metadata": {},
   "source": [
    "##### Update redis with tokens"
   ]
  },
  {
   "cell_type": "code",
   "execution_count": null,
   "metadata": {},
   "outputs": [],
   "source": [
    "live_cache.hmset('eq_token',eq_nse.set_index('instrument_token').transpose().to_dict(orient='records')[0])\n",
    "live_cache.hmset('eq_token',eq_nse.set_index('tradingsymbol').transpose().to_dict(orient='records')[0])"
   ]
  },
  {
   "cell_type": "code",
   "execution_count": null,
   "metadata": {},
   "outputs": [],
   "source": [
    "live_cache.hmget('eq_token',['TCS','WIPRO'])"
   ]
  },
  {
   "cell_type": "code",
   "execution_count": null,
   "metadata": {},
   "outputs": [],
   "source": [
    "live_cache.hgetall('eq_token')"
   ]
  },
  {
   "cell_type": "code",
   "execution_count": null,
   "metadata": {},
   "outputs": [],
   "source": [
    "live_cache.hmget('eq_token',[2953217, 969473])"
   ]
  }
 ],
 "metadata": {
  "kernelspec": {
   "display_name": "Python 3",
   "language": "python",
   "name": "python3"
  },
  "language_info": {
   "codemirror_mode": {
    "name": "ipython",
    "version": 3
   },
   "file_extension": ".py",
   "mimetype": "text/x-python",
   "name": "python",
   "nbconvert_exporter": "python",
   "pygments_lexer": "ipython3",
   "version": "3.7.7"
  }
 },
 "nbformat": 4,
 "nbformat_minor": 4
}
