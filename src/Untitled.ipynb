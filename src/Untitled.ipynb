{
 "cells": [
  {
   "cell_type": "code",
   "execution_count": 1,
   "metadata": {},
   "outputs": [],
   "source": [
    "import pandas as pd"
   ]
  },
  {
   "cell_type": "code",
   "execution_count": null,
   "metadata": {},
   "outputs": [],
   "source": []
  },
  {
   "cell_type": "code",
   "execution_count": 2,
   "metadata": {},
   "outputs": [],
   "source": [
    "import psycopg2"
   ]
  },
  {
   "cell_type": "code",
   "execution_count": 3,
   "metadata": {},
   "outputs": [],
   "source": [
    "import sqlalchemy as db\n",
    "engine = db.create_engine('postgresql://suhan:suhan005@db:5432/freedom')"
   ]
  },
  {
   "cell_type": "code",
   "execution_count": null,
   "metadata": {},
   "outputs": [],
   "source": []
  },
  {
   "cell_type": "code",
   "execution_count": 4,
   "metadata": {},
   "outputs": [],
   "source": [
    "from sqlalchemy import create_engine, MetaData, Table, Column, Integer, String\n",
    "meta = MetaData()\n",
    "\n",
    "students = Table(\n",
    "   'students', meta, \n",
    "   Column('id', Integer, primary_key = True), \n",
    "   Column('name', String), \n",
    "   Column('lastname', String),\n",
    ")\n",
    "meta.create_all(engine)"
   ]
  },
  {
   "cell_type": "code",
   "execution_count": 5,
   "metadata": {},
   "outputs": [],
   "source": [
    "ins = students.insert()\n",
    "ins = students.insert().values(name = 'Ravi', lastname = 'Kapoor')\n",
    "conn = engine.connect()\n",
    "result = conn.execute(ins)"
   ]
  },
  {
   "cell_type": "code",
   "execution_count": 6,
   "metadata": {},
   "outputs": [
    {
     "name": "stdout",
     "output_type": "stream",
     "text": [
      "(1, 'Ravi', 'Kapoor')\n",
      "(2, 'Ravi', 'Kapoor')\n"
     ]
    }
   ],
   "source": [
    "s = students.select()\n",
    "conn = engine.connect()\n",
    "result = conn.execute(s)\n",
    "\n",
    "for row in result:\n",
    "    print (row)"
   ]
  },
  {
   "cell_type": "code",
   "execution_count": 9,
   "metadata": {},
   "outputs": [],
   "source": [
    "from werkzeug.security import generate_password_hash"
   ]
  },
  {
   "cell_type": "code",
   "execution_count": 10,
   "metadata": {},
   "outputs": [],
   "source": [
    "from flask_login import LoginManager"
   ]
  },
  {
   "cell_type": "code",
   "execution_count": 11,
   "metadata": {},
   "outputs": [],
   "source": [
    "from flask_login import UserMixin"
   ]
  },
  {
   "cell_type": "code",
   "execution_count": 14,
   "metadata": {},
   "outputs": [],
   "source": [
    "from flask import Flask"
   ]
  },
  {
   "cell_type": "code",
   "execution_count": 1,
   "metadata": {},
   "outputs": [],
   "source": [
    "from sqlalchemy import Table, Column, Integer, ForeignKey\n",
    "from sqlalchemy.orm import relationship\n",
    "from sqlalchemy.ext.declarative import declarative_base"
   ]
  },
  {
   "cell_type": "code",
   "execution_count": null,
   "metadata": {},
   "outputs": [],
   "source": []
  },
  {
   "cell_type": "code",
   "execution_count": null,
   "metadata": {},
   "outputs": [],
   "source": []
  },
  {
   "cell_type": "code",
   "execution_count": 1,
   "metadata": {},
   "outputs": [],
   "source": [
    "from flask_login import UserMixin\n",
    "from flask_sqlalchemy import SQLAlchemy\n",
    "from sqlalchemy.orm import relationship\n",
    "from sqlalchemy.ext.declarative import declarative_base\n",
    "from flask import Flask\n",
    "\n",
    "Base = declarative_base()\n",
    "\n",
    "db = SQLAlchemy()\n",
    "\n",
    "class User(UserMixin, db.Model, Base):\n",
    "    __tablename__ = 'users'\n",
    "    id = db.Column(db.Integer, primary_key=True) # primary keys are required by SQLAlchemy\n",
    "    email = db.Column(db.String(100), unique=True)\n",
    "    password = db.Column(db.String(512))\n",
    "    name = db.Column(db.String(100))\n",
    "    mobile = db.Column(db.String(25), unique=True)\n",
    "    broker_id = db.Column(db.String(25), unique=True)\n",
    "    broker_name = db.Column(db.String(50))\n",
    "    api_key = db.Column(db.String(512), unique=True)\n",
    "    api_secret = db.Column(db.String(512), unique=True)\n",
    "    api_token = db.Column(db.String(512), unique=True)\n",
    "    session_id = db.Column(db.String(512), unique=True)\n",
    "    algos = relationship(\"Algos\", back_populates=\"users\")\n",
    "    portfolios = relationship(\"Portfolios\", back_populates=\"users\")\n",
    "    jobs = relationship(\"Jobs\", back_populates=\"users\")\n",
    "\n",
    "\n",
    "class Algos(db.Model, Base):\n",
    "    __tablename__ = 'algos'\n",
    "    id = db.Column(db.Integer, primary_key=True) # primary keys are required by SQLAlchemy\n",
    "    title = db.Column(db.String(100))\n",
    "    algo = db.Column(db.String(100))\n",
    "    user_id = db.Column(db.Integer, db.ForeignKey('users.id'), index=True)\n",
    "    users = relationship(\"User\", back_populates=\"algos\")\n",
    "\n",
    "\n",
    "class Portfolios(db.Model, Base):\n",
    "    __tablename__ = 'portfolios'\n",
    "    id = db.Column(db.Integer, primary_key=True) # primary keys are required by SQLAlchemy\n",
    "    title = db.Column(db.String(100), index=True)\n",
    "    stock = db.Column(db.String(20))\n",
    "    user_id = db.Column(db.Integer, db.ForeignKey('users.id'), index=True)\n",
    "    users = relationship(\"User\", back_populates=\"portfolios\")\n",
    "\n",
    "\n",
    "class Jobs(db.Model, Base):\n",
    "    __tablename__ = 'jobs'\n",
    "    id = db.Column(db.Integer, primary_key=True) # primary keys are required by SQLAlchemy\n",
    "    job_id = db.Column(db.String(100), unique=True)\n",
    "    job_type = db.Column(db.String(25))\n",
    "    job_status = db.Column(db.String(25))\n",
    "    user_id = db.Column(db.Integer, db.ForeignKey('users.id'), index=True)\n",
    "    users = relationship(\"User\", back_populates=\"jobs\")\n",
    "    trades = relationship(\"Trades\", back_populates=\"jobs\")\n",
    "\n",
    "\n",
    "class Trades(db.Model, Base):\n",
    "    __tablename__ = 'trades'\n",
    "    id = db.Column(db.Integer, primary_key=True) # primary keys are required by SQLAlchemy\n",
    "    timestamp  = db.Column(db.Integer)\n",
    "    stock = db.Column(db.String(20), index=True)\n",
    "    price = db.Column(db.Float)\n",
    "    qty = db.Column(db.Float)\n",
    "    buy_or_sell = db.Column(db.String(20))\n",
    "    en_or_ex = db.Column(db.String(20))\n",
    "    order_id = db.Column(db.String(100))\n",
    "    job_id = db.Column(db.Integer, db.ForeignKey('jobs.id'), index=True)\n",
    "    jobs = relationship(\"Jobs\", back_populates=\"trades\")\n",
    "\n",
    "\n",
    "class OHLC(db.Model, Base):\n",
    "    __tablename__ = 'ohlc'\n",
    "    id = db.Column(db.Integer, primary_key=True) # primary keys are required by SQLAlchemy\n",
    "    stock = db.Column(db.String(20), index=True)\n",
    "    timestamp  = db.Column(db.Integer)\n",
    "    open = db.Column(db.Float)\n",
    "    high = db.Column(db.Float)\n",
    "    low = db.Column(db.Float)\n",
    "    close = db.Column(db.Float)\n",
    "    volume = db.Column(db.Float)\n",
    "\n",
    "app = Flask(__name__)\n",
    "app.config['SQLALCHEMY_DATABASE_URI'] = 'postgresql://suhan:suhan005@db:5432/freedom'\n",
    "app.config['SQLALCHEMY_TRACK_MODIFICATIONS'] = False\n",
    "db.init_app(app)\n",
    "\n",
    "\n",
    "##########\n",
    "from sqlalchemy import Column, Integer, String, create_engine, select\n",
    "from sqlalchemy.orm import sessionmaker\n",
    "import pandas as pd\n",
    "\n",
    "engine = create_engine('postgresql://suhan:suhan005@db:5432/freedom', echo=False)\n",
    "#Base = declarative_base(bind=engine)\n",
    "Session = sessionmaker(bind=engine)\n",
    "session = Session()\n",
    "\n",
    "conn = session.bind"
   ]
  },
  {
   "cell_type": "code",
   "execution_count": null,
   "metadata": {},
   "outputs": [],
   "source": [
    "\n",
    "\n"
   ]
  },
  {
   "cell_type": "code",
   "execution_count": 4,
   "metadata": {},
   "outputs": [
    {
     "data": {
      "text/html": [
       "<div>\n",
       "<style scoped>\n",
       "    .dataframe tbody tr th:only-of-type {\n",
       "        vertical-align: middle;\n",
       "    }\n",
       "\n",
       "    .dataframe tbody tr th {\n",
       "        vertical-align: top;\n",
       "    }\n",
       "\n",
       "    .dataframe thead th {\n",
       "        text-align: right;\n",
       "    }\n",
       "</style>\n",
       "<table border=\"1\" class=\"dataframe\">\n",
       "  <thead>\n",
       "    <tr style=\"text-align: right;\">\n",
       "      <th></th>\n",
       "      <th>id</th>\n",
       "      <th>email</th>\n",
       "      <th>password</th>\n",
       "      <th>name</th>\n",
       "      <th>mobile</th>\n",
       "      <th>broker_id</th>\n",
       "      <th>broker_name</th>\n",
       "      <th>api_key</th>\n",
       "      <th>api_secret</th>\n",
       "      <th>api_token</th>\n",
       "      <th>session_id</th>\n",
       "    </tr>\n",
       "  </thead>\n",
       "  <tbody>\n",
       "    <tr>\n",
       "      <th>0</th>\n",
       "      <td>1</td>\n",
       "      <td>suhansaha@gmail.com</td>\n",
       "      <td>sha256$ZPzKNGp4$487b1d21cd69cebcd9dd7022bbba4d...</td>\n",
       "      <td>Suhan Saha</td>\n",
       "      <td>+917984183480</td>\n",
       "      <td>YM1755</td>\n",
       "      <td>ZERODHA</td>\n",
       "      <td>b2w0sfnr1zr92nxm</td>\n",
       "      <td>jtga2mp2e5fn29h8w0pe2kb722g3dh1q</td>\n",
       "      <td>None</td>\n",
       "      <td>None</td>\n",
       "    </tr>\n",
       "  </tbody>\n",
       "</table>\n",
       "</div>"
      ],
      "text/plain": [
       "   id                email                                           password  \\\n",
       "0   1  suhansaha@gmail.com  sha256$ZPzKNGp4$487b1d21cd69cebcd9dd7022bbba4d...   \n",
       "\n",
       "         name         mobile broker_id broker_name           api_key  \\\n",
       "0  Suhan Saha  +917984183480    YM1755     ZERODHA  b2w0sfnr1zr92nxm   \n",
       "\n",
       "                         api_secret api_token session_id  \n",
       "0  jtga2mp2e5fn29h8w0pe2kb722g3dh1q      None       None  "
      ]
     },
     "execution_count": 4,
     "metadata": {},
     "output_type": "execute_result"
    }
   ],
   "source": [
    "df_query = select([User])\n",
    "\n",
    "df_data = pd.read_sql(df_query, con = conn)\n",
    "df_data"
   ]
  },
  {
   "cell_type": "code",
   "execution_count": null,
   "metadata": {},
   "outputs": [],
   "source": []
  },
  {
   "cell_type": "code",
   "execution_count": null,
   "metadata": {},
   "outputs": [],
   "source": []
  },
  {
   "cell_type": "code",
   "execution_count": 3,
   "metadata": {},
   "outputs": [],
   "source": [
    "with app.app_context():\n",
    "    db.create_all()\n",
    "    user = User.query.filter_by(email='suhansaha@gmail.com').first()\n",
    "    user.name = 'Suhan Saha'\n",
    "    user.mobile = '+917984183480'\n",
    "    user.broker_name = 'ZERODHA'\n",
    "    user.broker_id = 'YM1755'\n",
    "    user.api_key = 'b2w0sfnr1zr92nxm'\n",
    "    user.api_secret = 'jtga2mp2e5fn29h8w0pe2kb722g3dh1q'\n",
    "    db.session.commit()"
   ]
  },
  {
   "cell_type": "code",
   "execution_count": null,
   "metadata": {},
   "outputs": [],
   "source": []
  },
  {
   "cell_type": "code",
   "execution_count": null,
   "metadata": {},
   "outputs": [],
   "source": []
  }
 ],
 "metadata": {
  "kernelspec": {
   "display_name": "Python 3",
   "language": "python",
   "name": "python3"
  },
  "language_info": {
   "codemirror_mode": {
    "name": "ipython",
    "version": 3
   },
   "file_extension": ".py",
   "mimetype": "text/x-python",
   "name": "python",
   "nbconvert_exporter": "python",
   "pygments_lexer": "ipython3",
   "version": "3.7.7"
  }
 },
 "nbformat": 4,
 "nbformat_minor": 4
}
