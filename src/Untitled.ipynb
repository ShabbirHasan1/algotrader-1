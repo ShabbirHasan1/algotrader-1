{
 "cells": [
  {
   "cell_type": "code",
   "execution_count": 1,
   "metadata": {},
   "outputs": [],
   "source": [
    "import pandas as pd"
   ]
  },
  {
   "cell_type": "code",
   "execution_count": 2,
   "metadata": {},
   "outputs": [],
   "source": [
    "df = pd.read_csv('data/ind_nifty50list.csv')\n",
    "pd.DataFrame({'label':df['Symbol'],'value':df['Symbol']}).to_dict(orient='records')"
   ]
  },
  {
   "cell_type": "code",
   "execution_count": 20,
   "metadata": {},
   "outputs": [
    {
     "data": {
      "text/plain": [
       "[{'label': 'ADANIPORTS', 'value': 'ADANIPORTS'},\n",
       " {'label': 'ASIANPAINT', 'value': 'ASIANPAINT'},\n",
       " {'label': 'AXISBANK', 'value': 'AXISBANK'},\n",
       " {'label': 'BAJAJ-AUTO', 'value': 'BAJAJ-AUTO'},\n",
       " {'label': 'BAJFINANCE', 'value': 'BAJFINANCE'},\n",
       " {'label': 'BAJAJFINSV', 'value': 'BAJAJFINSV'},\n",
       " {'label': 'BPCL', 'value': 'BPCL'},\n",
       " {'label': 'BHARTIARTL', 'value': 'BHARTIARTL'},\n",
       " {'label': 'INFRATEL', 'value': 'INFRATEL'},\n",
       " {'label': 'BRITANNIA', 'value': 'BRITANNIA'},\n",
       " {'label': 'CIPLA', 'value': 'CIPLA'},\n",
       " {'label': 'COALINDIA', 'value': 'COALINDIA'},\n",
       " {'label': 'DRREDDY', 'value': 'DRREDDY'},\n",
       " {'label': 'EICHERMOT', 'value': 'EICHERMOT'},\n",
       " {'label': 'GAIL', 'value': 'GAIL'},\n",
       " {'label': 'GRASIM', 'value': 'GRASIM'},\n",
       " {'label': 'HCLTECH', 'value': 'HCLTECH'},\n",
       " {'label': 'HDFCBANK', 'value': 'HDFCBANK'},\n",
       " {'label': 'HEROMOTOCO', 'value': 'HEROMOTOCO'},\n",
       " {'label': 'HINDALCO', 'value': 'HINDALCO'},\n",
       " {'label': 'HINDUNILVR', 'value': 'HINDUNILVR'},\n",
       " {'label': 'HDFC', 'value': 'HDFC'},\n",
       " {'label': 'ITC', 'value': 'ITC'},\n",
       " {'label': 'ICICIBANK', 'value': 'ICICIBANK'},\n",
       " {'label': 'IBULHSGFIN', 'value': 'IBULHSGFIN'},\n",
       " {'label': 'IOC', 'value': 'IOC'},\n",
       " {'label': 'INDUSINDBK', 'value': 'INDUSINDBK'},\n",
       " {'label': 'INFY', 'value': 'INFY'},\n",
       " {'label': 'JSWSTEEL', 'value': 'JSWSTEEL'},\n",
       " {'label': 'KOTAKBANK', 'value': 'KOTAKBANK'},\n",
       " {'label': 'LT', 'value': 'LT'},\n",
       " {'label': 'M&M', 'value': 'M&M'},\n",
       " {'label': 'MARUTI', 'value': 'MARUTI'},\n",
       " {'label': 'NTPC', 'value': 'NTPC'},\n",
       " {'label': 'ONGC', 'value': 'ONGC'},\n",
       " {'label': 'POWERGRID', 'value': 'POWERGRID'},\n",
       " {'label': 'RELIANCE', 'value': 'RELIANCE'},\n",
       " {'label': 'SBIN', 'value': 'SBIN'},\n",
       " {'label': 'SUNPHARMA', 'value': 'SUNPHARMA'},\n",
       " {'label': 'TCS', 'value': 'TCS'},\n",
       " {'label': 'TATAMOTORS', 'value': 'TATAMOTORS'},\n",
       " {'label': 'TATASTEEL', 'value': 'TATASTEEL'},\n",
       " {'label': 'TECHM', 'value': 'TECHM'},\n",
       " {'label': 'TITAN', 'value': 'TITAN'},\n",
       " {'label': 'UPL', 'value': 'UPL'},\n",
       " {'label': 'ULTRACEMCO', 'value': 'ULTRACEMCO'},\n",
       " {'label': 'VEDL', 'value': 'VEDL'},\n",
       " {'label': 'WIPRO', 'value': 'WIPRO'},\n",
       " {'label': 'YESBANK', 'value': 'YESBANK'},\n",
       " {'label': 'ZEEL', 'value': 'ZEEL'}]"
      ]
     },
     "execution_count": 20,
     "metadata": {},
     "output_type": "execute_result"
    }
   ],
   "source": [
    "pd.DataFrame({'label':df['Symbol'],'value':df['Symbol']}).to_dict(orient='records')"
   ]
  },
  {
   "cell_type": "code",
   "execution_count": null,
   "metadata": {},
   "outputs": [],
   "source": []
  }
 ],
 "metadata": {
  "kernelspec": {
   "display_name": "Python 3",
   "language": "python",
   "name": "python3"
  },
  "language_info": {
   "codemirror_mode": {
    "name": "ipython",
    "version": 3
   },
   "file_extension": ".py",
   "mimetype": "text/x-python",
   "name": "python",
   "nbconvert_exporter": "python",
   "pygments_lexer": "ipython3",
   "version": "3.7.6"
  }
 },
 "nbformat": 4,
 "nbformat_minor": 4
}
