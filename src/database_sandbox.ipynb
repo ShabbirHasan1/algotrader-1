{
 "cells": [
  {
   "cell_type": "code",
   "execution_count": 1,
   "metadata": {},
   "outputs": [],
   "source": [
    "import pandas as pd\n",
    "import os\n",
    "database_url = os.environ.get('DATABASE_URL')\n",
    "import psycopg2\n",
    "import sqlalchemy as db\n",
    "from sqlalchemy import create_engine, MetaData, Table, Column, Integer, String"
   ]
  },
  {
   "cell_type": "code",
   "execution_count": 2,
   "metadata": {},
   "outputs": [],
   "source": [
    "from lib.data_model_lib import *"
   ]
  },
  {
   "cell_type": "code",
   "execution_count": 3,
   "metadata": {},
   "outputs": [],
   "source": [
    "web_cache = cache_state('backtest_web')"
   ]
  },
  {
   "cell_type": "code",
   "execution_count": 4,
   "metadata": {},
   "outputs": [],
   "source": [
    "from flask import Flask\n",
    "from sqlalchemy import Column, Integer, String, create_engine, select\n",
    "from sqlalchemy.orm import sessionmaker\n",
    "from werkzeug.security import generate_password_hash\n",
    "\n",
    "#app = Flask(__name__)\n",
    "#app.config['SQLALCHEMY_DATABASE_URI'] = database_url\n",
    "#app.config['SQLALCHEMY_TRACK_MODIFICATIONS'] = False\n",
    "#db.init_app(app)\n",
    "\n",
    "\n",
    "##########\n",
    "\n",
    "engine = create_engine(database_url, echo=False)\n",
    "#Base = declarative_base(bind=engine)\n",
    "Session = sessionmaker(bind=engine)\n",
    "session = Session()\n",
    "\n",
    "conn = session.bind\n"
   ]
  },
  {
   "cell_type": "code",
   "execution_count": 25,
   "metadata": {},
   "outputs": [
    {
     "data": {
      "text/plain": [
       "'SELECT trades.id, trades.timestamp, trades.stock, trades.price, trades.qty, trades.buy_or_sell, trades.en_or_ex, trades.order_id, trades.job_id \\nFROM trades \\nWHERE trades.job_id = :job_id_1'"
      ]
     },
     "execution_count": 25,
     "metadata": {},
     "output_type": "execute_result"
    }
   ],
   "source": [
    "str(select([Trades]).where(Trades.job_id==job))"
   ]
  },
  {
   "cell_type": "code",
   "execution_count": 39,
   "metadata": {},
   "outputs": [],
   "source": [
    "from sqlalchemy import and_\n",
    "job_id = web_cache.getValue('TCS1','job_id')\n",
    "stock = web_cache.getValue('TCS1','stock')\n",
    "job = session.query(Jobs).filter(Jobs.job_id==job_id).first().id\n",
    "\n",
    "trades = session.query(Trades).filter(Trades.job_id==job)\n",
    "\n",
    "tmp_df = pd.read_sql(select([Trades]).where(and_(Trades.job_id==job, Trades.stock==stock)), conn)\n",
    "\n",
    "tmp_df[\"buy\"] = tmp_df[tmp_df['buy_or_sell']=='B'].price\n",
    "tmp_df[\"sell\"] = tmp_df[tmp_df['buy_or_sell']=='S'].price\n",
    "tmp_df1 = tmp_df.drop(columns=['id', 'stock', 'price', 'qty', 'buy_or_sell',\n",
    "       'order_id', 'job_id']).set_index('timestamp')\n",
    "tmp_df1.columns = ['mode','buy','sell']"
   ]
  },
  {
   "cell_type": "code",
   "execution_count": 44,
   "metadata": {},
   "outputs": [],
   "source": []
  },
  {
   "cell_type": "code",
   "execution_count": 46,
   "metadata": {},
   "outputs": [],
   "source": []
  },
  {
   "cell_type": "code",
   "execution_count": 47,
   "metadata": {},
   "outputs": [
    {
     "data": {
      "text/html": [
       "<div>\n",
       "<style scoped>\n",
       "    .dataframe tbody tr th:only-of-type {\n",
       "        vertical-align: middle;\n",
       "    }\n",
       "\n",
       "    .dataframe tbody tr th {\n",
       "        vertical-align: top;\n",
       "    }\n",
       "\n",
       "    .dataframe thead th {\n",
       "        text-align: right;\n",
       "    }\n",
       "</style>\n",
       "<table border=\"1\" class=\"dataframe\">\n",
       "  <thead>\n",
       "    <tr style=\"text-align: right;\">\n",
       "      <th></th>\n",
       "      <th>mode</th>\n",
       "      <th>buy</th>\n",
       "      <th>sell</th>\n",
       "    </tr>\n",
       "    <tr>\n",
       "      <th>timestamp</th>\n",
       "      <th></th>\n",
       "      <th></th>\n",
       "      <th></th>\n",
       "    </tr>\n",
       "  </thead>\n",
       "  <tbody>\n",
       "    <tr>\n",
       "      <th>2019-04-23 09:17</th>\n",
       "      <td>B: EN:</td>\n",
       "      <td>2154.05</td>\n",
       "      <td>NaN</td>\n",
       "    </tr>\n",
       "    <tr>\n",
       "      <th>2019-04-23 09:18</th>\n",
       "      <td>S: EX:</td>\n",
       "      <td>NaN</td>\n",
       "      <td>2147.35</td>\n",
       "    </tr>\n",
       "    <tr>\n",
       "      <th>2019-04-23 09:20</th>\n",
       "      <td>B: EN:</td>\n",
       "      <td>2149.30</td>\n",
       "      <td>NaN</td>\n",
       "    </tr>\n",
       "    <tr>\n",
       "      <th>2019-04-23 09:21</th>\n",
       "      <td>S: EX:</td>\n",
       "      <td>NaN</td>\n",
       "      <td>2149.30</td>\n",
       "    </tr>\n",
       "    <tr>\n",
       "      <th>2019-04-23 09:24</th>\n",
       "      <td>B: EN:</td>\n",
       "      <td>2143.75</td>\n",
       "      <td>NaN</td>\n",
       "    </tr>\n",
       "    <tr>\n",
       "      <th>...</th>\n",
       "      <td>...</td>\n",
       "      <td>...</td>\n",
       "      <td>...</td>\n",
       "    </tr>\n",
       "    <tr>\n",
       "      <th>2019-04-23 14:44</th>\n",
       "      <td>S: EX:</td>\n",
       "      <td>NaN</td>\n",
       "      <td>2149.50</td>\n",
       "    </tr>\n",
       "    <tr>\n",
       "      <th>2019-04-23 14:45</th>\n",
       "      <td>B: EN:</td>\n",
       "      <td>2149.20</td>\n",
       "      <td>NaN</td>\n",
       "    </tr>\n",
       "    <tr>\n",
       "      <th>2019-04-23 14:46</th>\n",
       "      <td>S: EX:</td>\n",
       "      <td>NaN</td>\n",
       "      <td>2151.25</td>\n",
       "    </tr>\n",
       "    <tr>\n",
       "      <th>2019-04-23 14:47</th>\n",
       "      <td>B: EN:</td>\n",
       "      <td>2149.45</td>\n",
       "      <td>NaN</td>\n",
       "    </tr>\n",
       "    <tr>\n",
       "      <th>2019-04-23 14:49</th>\n",
       "      <td>S: EX:</td>\n",
       "      <td>NaN</td>\n",
       "      <td>2148.45</td>\n",
       "    </tr>\n",
       "  </tbody>\n",
       "</table>\n",
       "<p>128 rows × 3 columns</p>\n",
       "</div>"
      ],
      "text/plain": [
       "                     mode      buy     sell\n",
       "timestamp                                  \n",
       "2019-04-23 09:17  B: EN:   2154.05      NaN\n",
       "2019-04-23 09:18  S: EX:       NaN  2147.35\n",
       "2019-04-23 09:20  B: EN:   2149.30      NaN\n",
       "2019-04-23 09:21  S: EX:       NaN  2149.30\n",
       "2019-04-23 09:24  B: EN:   2143.75      NaN\n",
       "...                   ...      ...      ...\n",
       "2019-04-23 14:44  S: EX:       NaN  2149.50\n",
       "2019-04-23 14:45  B: EN:   2149.20      NaN\n",
       "2019-04-23 14:46  S: EX:       NaN  2151.25\n",
       "2019-04-23 14:47  B: EN:   2149.45      NaN\n",
       "2019-04-23 14:49  S: EX:       NaN  2148.45\n",
       "\n",
       "[128 rows x 3 columns]"
      ]
     },
     "execution_count": 47,
     "metadata": {},
     "output_type": "execute_result"
    }
   ],
   "source": [
    "tmp_df1"
   ]
  },
  {
   "cell_type": "code",
   "execution_count": 4,
   "metadata": {},
   "outputs": [
    {
     "data": {
      "text/html": [
       "<div>\n",
       "<style scoped>\n",
       "    .dataframe tbody tr th:only-of-type {\n",
       "        vertical-align: middle;\n",
       "    }\n",
       "\n",
       "    .dataframe tbody tr th {\n",
       "        vertical-align: top;\n",
       "    }\n",
       "\n",
       "    .dataframe thead th {\n",
       "        text-align: right;\n",
       "    }\n",
       "</style>\n",
       "<table border=\"1\" class=\"dataframe\">\n",
       "  <thead>\n",
       "    <tr style=\"text-align: right;\">\n",
       "      <th></th>\n",
       "      <th>id</th>\n",
       "      <th>email</th>\n",
       "      <th>password</th>\n",
       "      <th>name</th>\n",
       "      <th>mobile</th>\n",
       "      <th>broker_id</th>\n",
       "      <th>broker_name</th>\n",
       "      <th>api_key</th>\n",
       "      <th>api_secret</th>\n",
       "      <th>api_token</th>\n",
       "      <th>session_id</th>\n",
       "      <th>is_active</th>\n",
       "      <th>is_admin</th>\n",
       "    </tr>\n",
       "  </thead>\n",
       "  <tbody>\n",
       "    <tr>\n",
       "      <th>0</th>\n",
       "      <td>2</td>\n",
       "      <td>mailme@suhan.in</td>\n",
       "      <td>sha256$YsLjJSJY$71213b96a447e14e492c52cbf07e09...</td>\n",
       "      <td>Saswati Saha</td>\n",
       "      <td>None</td>\n",
       "      <td>None</td>\n",
       "      <td>None</td>\n",
       "      <td>None</td>\n",
       "      <td>None</td>\n",
       "      <td>None</td>\n",
       "      <td>None</td>\n",
       "      <td>False</td>\n",
       "      <td>False</td>\n",
       "    </tr>\n",
       "    <tr>\n",
       "      <th>1</th>\n",
       "      <td>1</td>\n",
       "      <td>suhansaha@gmail.com</td>\n",
       "      <td>sha256$4wgMT9w0$1638131fa1d88330e543a726d3669b...</td>\n",
       "      <td>Suhan Saha</td>\n",
       "      <td>+917984183480</td>\n",
       "      <td>YM1755</td>\n",
       "      <td>ZERODHA</td>\n",
       "      <td>b2w0sfnr1zr92nxm</td>\n",
       "      <td>jtga2mp2e5fn29h8w0pe2kb722g3dh1q</td>\n",
       "      <td>None</td>\n",
       "      <td>None</td>\n",
       "      <td>True</td>\n",
       "      <td>True</td>\n",
       "    </tr>\n",
       "  </tbody>\n",
       "</table>\n",
       "</div>"
      ],
      "text/plain": [
       "   id                email                                           password  \\\n",
       "0   2      mailme@suhan.in  sha256$YsLjJSJY$71213b96a447e14e492c52cbf07e09...   \n",
       "1   1  suhansaha@gmail.com  sha256$4wgMT9w0$1638131fa1d88330e543a726d3669b...   \n",
       "\n",
       "           name         mobile broker_id broker_name           api_key  \\\n",
       "0  Saswati Saha           None      None        None              None   \n",
       "1    Suhan Saha  +917984183480    YM1755     ZERODHA  b2w0sfnr1zr92nxm   \n",
       "\n",
       "                         api_secret api_token session_id  is_active  is_admin  \n",
       "0                              None      None       None      False     False  \n",
       "1  jtga2mp2e5fn29h8w0pe2kb722g3dh1q      None       None       True      True  "
      ]
     },
     "execution_count": 4,
     "metadata": {},
     "output_type": "execute_result"
    }
   ],
   "source": [
    "df_query = select([User])\n",
    "\n",
    "df_data = pd.read_sql(df_query, con = conn)\n",
    "df_data"
   ]
  },
  {
   "cell_type": "code",
   "execution_count": 7,
   "metadata": {},
   "outputs": [],
   "source": [
    "# Update user table\n",
    "user = session.query(User).filter_by(email='suhansaha@gmail.com').first()\n",
    "user.name = 'Suhan Saha'\n",
    "user.mobile = '+917984183480'\n",
    "user.broker_name = 'ZERODHA'\n",
    "user.broker_id = 'YM1755'\n",
    "user.api_key = 'b2w0sfnr1zr92nxm'\n",
    "user.api_secret = 'jtga2mp2e5fn29h8w0pe2kb722g3dh1q'\n",
    "session.commit()"
   ]
  },
  {
   "cell_type": "code",
   "execution_count": 29,
   "metadata": {},
   "outputs": [
    {
     "name": "stdout",
     "output_type": "stream",
     "text": [
      "roc = ROC(CLOSE, 10)\n",
      "bbh, bbm, bbl = BBANDS(CLOSE)\n",
      "\n",
      "delbb = bbh - bbl\n",
      "\n",
      "#sell = (REF(roc,0) > 0.1) & (REF(haOPEN, 0) > REF(haCLOSE,0)) & (REF(haOPEN, 1) < REF(haCLOSE,1))\n",
      "#buy = (REF(roc,0) < -0.1) & (REF(haOPEN, 0) < REF(haCLOSE,0)) & (REF(haOPEN, 1) > REF(haCLOSE,1))\n",
      "buy = delbb > 2.1 * REF(delbb, 3)\n",
      "sell = delbb < 0.4 * REF(delbb, 3)\n"
     ]
    }
   ],
   "source": [
    "# Update algo\n",
    "def update_algo(name, algo_str, user_id):\n",
    "    algo = session.query(Algos).filter(Algos.title==name, Algos.user_id==user_id).first()\n",
    "    if algo == None:\n",
    "        new_algo = Algos(title=name, algo=algo_str, user_id=user_id)\n",
    "        session.add(new_algo)\n",
    "        session.commit()\n",
    "    else:\n",
    "        algo.algo = algo_str\n",
    "        session.commit()\n",
    "        \n",
    "def update_algo1(name, algo_str, user_id):\n",
    "    user = session.query(User).filter(User.id==user_id).first()\n",
    "    user.algos = [Algos(title=name, algo=algo_str)]\n",
    "    session.commit()\n",
    "    \n",
    "def load_algo_to_db(filename, user_id):\n",
    "    algo = open('algo/'+filename+'.txt')\n",
    "    algo_str = algo.read()\n",
    "    print(algo_str)\n",
    "    #my_cache.hset('algos', filename,algo_str)\n",
    "    update_algo(filename, algo_str, user_id)\n",
    "    \n",
    "load_algo_to_db('bull_squeeze', 1)"
   ]
  },
  {
   "cell_type": "code",
   "execution_count": 17,
   "metadata": {},
   "outputs": [],
   "source": [
    "algos = session.query(User).filter(User.id==1).first().algos"
   ]
  },
  {
   "cell_type": "code",
   "execution_count": null,
   "metadata": {},
   "outputs": [],
   "source": []
  },
  {
   "cell_type": "code",
   "execution_count": 28,
   "metadata": {},
   "outputs": [],
   "source": [
    "import datetime as dt"
   ]
  },
  {
   "cell_type": "code",
   "execution_count": 39,
   "metadata": {},
   "outputs": [
    {
     "data": {
      "text/plain": [
       "'1591476589829133-1'"
      ]
     },
     "execution_count": 39,
     "metadata": {},
     "output_type": "execute_result"
    }
   ],
   "source": [
    "\"{}-{}\".format(int(dt.datetime.now().timestamp()*1000000),1)"
   ]
  },
  {
   "cell_type": "markdown",
   "metadata": {},
   "source": [
    "## Scratchpad"
   ]
  },
  {
   "cell_type": "code",
   "execution_count": null,
   "metadata": {},
   "outputs": [],
   "source": []
  },
  {
   "cell_type": "code",
   "execution_count": 4,
   "metadata": {},
   "outputs": [
    {
     "data": {
      "text/html": [
       "<div>\n",
       "<style scoped>\n",
       "    .dataframe tbody tr th:only-of-type {\n",
       "        vertical-align: middle;\n",
       "    }\n",
       "\n",
       "    .dataframe tbody tr th {\n",
       "        vertical-align: top;\n",
       "    }\n",
       "\n",
       "    .dataframe thead th {\n",
       "        text-align: right;\n",
       "    }\n",
       "</style>\n",
       "<table border=\"1\" class=\"dataframe\">\n",
       "  <thead>\n",
       "    <tr style=\"text-align: right;\">\n",
       "      <th></th>\n",
       "      <th>id</th>\n",
       "      <th>email</th>\n",
       "      <th>password</th>\n",
       "      <th>name</th>\n",
       "      <th>mobile</th>\n",
       "      <th>broker_id</th>\n",
       "      <th>broker_name</th>\n",
       "      <th>api_key</th>\n",
       "      <th>api_secret</th>\n",
       "      <th>api_token</th>\n",
       "      <th>session_id</th>\n",
       "    </tr>\n",
       "  </thead>\n",
       "  <tbody>\n",
       "    <tr>\n",
       "      <th>0</th>\n",
       "      <td>1</td>\n",
       "      <td>suhansaha@gmail.com</td>\n",
       "      <td>sha256$ZPzKNGp4$487b1d21cd69cebcd9dd7022bbba4d...</td>\n",
       "      <td>Suhan Saha</td>\n",
       "      <td>+917984183480</td>\n",
       "      <td>YM1755</td>\n",
       "      <td>ZERODHA</td>\n",
       "      <td>b2w0sfnr1zr92nxm</td>\n",
       "      <td>jtga2mp2e5fn29h8w0pe2kb722g3dh1q</td>\n",
       "      <td>None</td>\n",
       "      <td>None</td>\n",
       "    </tr>\n",
       "  </tbody>\n",
       "</table>\n",
       "</div>"
      ],
      "text/plain": [
       "   id                email                                           password  \\\n",
       "0   1  suhansaha@gmail.com  sha256$ZPzKNGp4$487b1d21cd69cebcd9dd7022bbba4d...   \n",
       "\n",
       "         name         mobile broker_id broker_name           api_key  \\\n",
       "0  Suhan Saha  +917984183480    YM1755     ZERODHA  b2w0sfnr1zr92nxm   \n",
       "\n",
       "                         api_secret api_token session_id  \n",
       "0  jtga2mp2e5fn29h8w0pe2kb722g3dh1q      None       None  "
      ]
     },
     "execution_count": 4,
     "metadata": {},
     "output_type": "execute_result"
    }
   ],
   "source": [
    "df_query = select([User])\n",
    "\n",
    "df_data = pd.read_sql(df_query, con = conn)\n",
    "df_data"
   ]
  },
  {
   "cell_type": "code",
   "execution_count": null,
   "metadata": {},
   "outputs": [],
   "source": []
  },
  {
   "cell_type": "code",
   "execution_count": null,
   "metadata": {},
   "outputs": [],
   "source": []
  },
  {
   "cell_type": "code",
   "execution_count": 1,
   "metadata": {},
   "outputs": [],
   "source": [
    "import pandas as pd"
   ]
  },
  {
   "cell_type": "code",
   "execution_count": null,
   "metadata": {},
   "outputs": [],
   "source": []
  },
  {
   "cell_type": "code",
   "execution_count": 3,
   "metadata": {},
   "outputs": [],
   "source": [
    "f = h5py.File(\"swmr.h5\", 'w', libver='latest')\n",
    "f.swmr_mode = True"
   ]
  },
  {
   "cell_type": "code",
   "execution_count": 4,
   "metadata": {},
   "outputs": [],
   "source": []
  },
  {
   "cell_type": "code",
   "execution_count": 23,
   "metadata": {},
   "outputs": [],
   "source": [
    "f = h5py.File('data/kite_cache_sample_swmr.h5', 'r', libver='latest', swmr=True)\n",
    "#dset = f[\"data\"]"
   ]
  },
  {
   "cell_type": "code",
   "execution_count": null,
   "metadata": {},
   "outputs": [],
   "source": []
  },
  {
   "cell_type": "code",
   "execution_count": null,
   "metadata": {},
   "outputs": [],
   "source": []
  },
  {
   "cell_type": "code",
   "execution_count": null,
   "metadata": {},
   "outputs": [],
   "source": []
  },
  {
   "cell_type": "code",
   "execution_count": 34,
   "metadata": {},
   "outputs": [],
   "source": [
    "with pd.HDFStore('data/WIPRO1backtest_uniTRADE', mode=\"r\") as f:\n",
    "    df = pd.read_hdf(f)\n"
   ]
  },
  {
   "cell_type": "code",
   "execution_count": null,
   "metadata": {},
   "outputs": [],
   "source": []
  },
  {
   "cell_type": "code",
   "execution_count": null,
   "metadata": {},
   "outputs": [],
   "source": []
  }
 ],
 "metadata": {
  "kernelspec": {
   "display_name": "Python 3",
   "language": "python",
   "name": "python3"
  },
  "language_info": {
   "codemirror_mode": {
    "name": "ipython",
    "version": 3
   },
   "file_extension": ".py",
   "mimetype": "text/x-python",
   "name": "python",
   "nbconvert_exporter": "python",
   "pygments_lexer": "ipython3",
   "version": "3.7.7"
  }
 },
 "nbformat": 4,
 "nbformat_minor": 4
}
