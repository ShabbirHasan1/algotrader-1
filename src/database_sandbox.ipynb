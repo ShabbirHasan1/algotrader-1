{
 "cells": [
  {
   "cell_type": "code",
   "execution_count": 1,
   "metadata": {},
   "outputs": [],
   "source": [
    "import pandas as pd\n",
    "import os\n",
    "database_url = os.environ.get('DATABASE_URL')\n",
    "import psycopg2\n",
    "import sqlalchemy as db\n",
    "from sqlalchemy import create_engine, MetaData, Table, Column, Integer, String"
   ]
  },
  {
   "cell_type": "code",
   "execution_count": 2,
   "metadata": {},
   "outputs": [],
   "source": [
    "from lib.data_model_lib import *"
   ]
  },
  {
   "cell_type": "code",
   "execution_count": null,
   "metadata": {},
   "outputs": [],
   "source": []
  },
  {
   "cell_type": "code",
   "execution_count": 3,
   "metadata": {},
   "outputs": [],
   "source": [
    "from flask import Flask\n",
    "from sqlalchemy import Column, Integer, String, create_engine, select\n",
    "from sqlalchemy.orm import sessionmaker\n",
    "from werkzeug.security import generate_password_hash\n",
    "\n",
    "#app = Flask(__name__)\n",
    "#app.config['SQLALCHEMY_DATABASE_URI'] = database_url\n",
    "#app.config['SQLALCHEMY_TRACK_MODIFICATIONS'] = False\n",
    "#db.init_app(app)\n",
    "\n",
    "\n",
    "##########\n",
    "\n",
    "engine = create_engine(database_url, echo=False)\n",
    "#Base = declarative_base(bind=engine)\n",
    "Session = sessionmaker(bind=engine)\n",
    "session = Session()\n",
    "\n",
    "conn = session.bind\n"
   ]
  },
  {
   "cell_type": "code",
   "execution_count": null,
   "metadata": {},
   "outputs": [],
   "source": []
  },
  {
   "cell_type": "code",
   "execution_count": 4,
   "metadata": {},
   "outputs": [
    {
     "data": {
      "text/html": [
       "<div>\n",
       "<style scoped>\n",
       "    .dataframe tbody tr th:only-of-type {\n",
       "        vertical-align: middle;\n",
       "    }\n",
       "\n",
       "    .dataframe tbody tr th {\n",
       "        vertical-align: top;\n",
       "    }\n",
       "\n",
       "    .dataframe thead th {\n",
       "        text-align: right;\n",
       "    }\n",
       "</style>\n",
       "<table border=\"1\" class=\"dataframe\">\n",
       "  <thead>\n",
       "    <tr style=\"text-align: right;\">\n",
       "      <th></th>\n",
       "      <th>id</th>\n",
       "      <th>email</th>\n",
       "      <th>password</th>\n",
       "      <th>name</th>\n",
       "      <th>mobile</th>\n",
       "      <th>broker_id</th>\n",
       "      <th>broker_name</th>\n",
       "      <th>api_key</th>\n",
       "      <th>api_secret</th>\n",
       "      <th>api_token</th>\n",
       "      <th>session_id</th>\n",
       "      <th>is_active</th>\n",
       "      <th>is_admin</th>\n",
       "    </tr>\n",
       "  </thead>\n",
       "  <tbody>\n",
       "    <tr>\n",
       "      <th>0</th>\n",
       "      <td>2</td>\n",
       "      <td>mailme@suhan.in</td>\n",
       "      <td>sha256$YsLjJSJY$71213b96a447e14e492c52cbf07e09...</td>\n",
       "      <td>Saswati Saha</td>\n",
       "      <td>None</td>\n",
       "      <td>None</td>\n",
       "      <td>None</td>\n",
       "      <td>None</td>\n",
       "      <td>None</td>\n",
       "      <td>None</td>\n",
       "      <td>None</td>\n",
       "      <td>False</td>\n",
       "      <td>False</td>\n",
       "    </tr>\n",
       "    <tr>\n",
       "      <th>1</th>\n",
       "      <td>1</td>\n",
       "      <td>suhansaha@gmail.com</td>\n",
       "      <td>sha256$4wgMT9w0$1638131fa1d88330e543a726d3669b...</td>\n",
       "      <td>Suhan Saha</td>\n",
       "      <td>+917984183480</td>\n",
       "      <td>YM1755</td>\n",
       "      <td>ZERODHA</td>\n",
       "      <td>b2w0sfnr1zr92nxm</td>\n",
       "      <td>jtga2mp2e5fn29h8w0pe2kb722g3dh1q</td>\n",
       "      <td>None</td>\n",
       "      <td>None</td>\n",
       "      <td>True</td>\n",
       "      <td>True</td>\n",
       "    </tr>\n",
       "  </tbody>\n",
       "</table>\n",
       "</div>"
      ],
      "text/plain": [
       "   id                email                                           password  \\\n",
       "0   2      mailme@suhan.in  sha256$YsLjJSJY$71213b96a447e14e492c52cbf07e09...   \n",
       "1   1  suhansaha@gmail.com  sha256$4wgMT9w0$1638131fa1d88330e543a726d3669b...   \n",
       "\n",
       "           name         mobile broker_id broker_name           api_key  \\\n",
       "0  Saswati Saha           None      None        None              None   \n",
       "1    Suhan Saha  +917984183480    YM1755     ZERODHA  b2w0sfnr1zr92nxm   \n",
       "\n",
       "                         api_secret api_token session_id  is_active  is_admin  \n",
       "0                              None      None       None      False     False  \n",
       "1  jtga2mp2e5fn29h8w0pe2kb722g3dh1q      None       None       True      True  "
      ]
     },
     "execution_count": 4,
     "metadata": {},
     "output_type": "execute_result"
    }
   ],
   "source": [
    "df_query = select([User])\n",
    "\n",
    "df_data = pd.read_sql(df_query, con = conn)\n",
    "df_data"
   ]
  },
  {
   "cell_type": "code",
   "execution_count": 7,
   "metadata": {},
   "outputs": [],
   "source": [
    "# Update user table\n",
    "user = session.query(User).filter_by(email='suhansaha@gmail.com').first()\n",
    "user.name = 'Suhan Saha'\n",
    "user.mobile = '+917984183480'\n",
    "user.broker_name = 'ZERODHA'\n",
    "user.broker_id = 'YM1755'\n",
    "user.api_key = 'b2w0sfnr1zr92nxm'\n",
    "user.api_secret = 'jtga2mp2e5fn29h8w0pe2kb722g3dh1q'\n",
    "session.commit()"
   ]
  },
  {
   "cell_type": "code",
   "execution_count": 29,
   "metadata": {},
   "outputs": [
    {
     "name": "stdout",
     "output_type": "stream",
     "text": [
      "roc = ROC(CLOSE, 10)\n",
      "bbh, bbm, bbl = BBANDS(CLOSE)\n",
      "\n",
      "delbb = bbh - bbl\n",
      "\n",
      "#sell = (REF(roc,0) > 0.1) & (REF(haOPEN, 0) > REF(haCLOSE,0)) & (REF(haOPEN, 1) < REF(haCLOSE,1))\n",
      "#buy = (REF(roc,0) < -0.1) & (REF(haOPEN, 0) < REF(haCLOSE,0)) & (REF(haOPEN, 1) > REF(haCLOSE,1))\n",
      "buy = delbb > 2.1 * REF(delbb, 3)\n",
      "sell = delbb < 0.4 * REF(delbb, 3)\n"
     ]
    }
   ],
   "source": [
    "# Update algo\n",
    "def update_algo(name, algo_str, user_id):\n",
    "    algo = session.query(Algos).filter(Algos.title==name, Algos.user_id==user_id).first()\n",
    "    if algo == None:\n",
    "        new_algo = Algos(title=name, algo=algo_str, user_id=user_id)\n",
    "        session.add(new_algo)\n",
    "        session.commit()\n",
    "    else:\n",
    "        algo.algo = algo_str\n",
    "        session.commit()\n",
    "        \n",
    "def update_algo1(name, algo_str, user_id):\n",
    "    user = session.query(User).filter(User.id==user_id).first()\n",
    "    user.algos = [Algos(title=name, algo=algo_str)]\n",
    "    session.commit()\n",
    "    \n",
    "def load_algo_to_db(filename, user_id):\n",
    "    algo = open('algo/'+filename+'.txt')\n",
    "    algo_str = algo.read()\n",
    "    print(algo_str)\n",
    "    #my_cache.hset('algos', filename,algo_str)\n",
    "    update_algo(filename, algo_str, user_id)\n",
    "    \n",
    "load_algo_to_db('bull_squeeze', 1)"
   ]
  },
  {
   "cell_type": "code",
   "execution_count": 17,
   "metadata": {},
   "outputs": [],
   "source": [
    "algos = session.query(User).filter(User.id==1).first().algos"
   ]
  },
  {
   "cell_type": "code",
   "execution_count": null,
   "metadata": {},
   "outputs": [],
   "source": []
  },
  {
   "cell_type": "code",
   "execution_count": 28,
   "metadata": {},
   "outputs": [],
   "source": [
    "import datetime as dt"
   ]
  },
  {
   "cell_type": "code",
   "execution_count": 39,
   "metadata": {},
   "outputs": [
    {
     "data": {
      "text/plain": [
       "'1591476589829133-1'"
      ]
     },
     "execution_count": 39,
     "metadata": {},
     "output_type": "execute_result"
    }
   ],
   "source": [
    "\"{}-{}\".format(int(dt.datetime.now().timestamp()*1000000),1)"
   ]
  },
  {
   "cell_type": "markdown",
   "metadata": {},
   "source": [
    "## Scratchpad"
   ]
  },
  {
   "cell_type": "code",
   "execution_count": null,
   "metadata": {},
   "outputs": [],
   "source": []
  },
  {
   "cell_type": "code",
   "execution_count": 4,
   "metadata": {},
   "outputs": [
    {
     "data": {
      "text/html": [
       "<div>\n",
       "<style scoped>\n",
       "    .dataframe tbody tr th:only-of-type {\n",
       "        vertical-align: middle;\n",
       "    }\n",
       "\n",
       "    .dataframe tbody tr th {\n",
       "        vertical-align: top;\n",
       "    }\n",
       "\n",
       "    .dataframe thead th {\n",
       "        text-align: right;\n",
       "    }\n",
       "</style>\n",
       "<table border=\"1\" class=\"dataframe\">\n",
       "  <thead>\n",
       "    <tr style=\"text-align: right;\">\n",
       "      <th></th>\n",
       "      <th>id</th>\n",
       "      <th>email</th>\n",
       "      <th>password</th>\n",
       "      <th>name</th>\n",
       "      <th>mobile</th>\n",
       "      <th>broker_id</th>\n",
       "      <th>broker_name</th>\n",
       "      <th>api_key</th>\n",
       "      <th>api_secret</th>\n",
       "      <th>api_token</th>\n",
       "      <th>session_id</th>\n",
       "    </tr>\n",
       "  </thead>\n",
       "  <tbody>\n",
       "    <tr>\n",
       "      <th>0</th>\n",
       "      <td>1</td>\n",
       "      <td>suhansaha@gmail.com</td>\n",
       "      <td>sha256$ZPzKNGp4$487b1d21cd69cebcd9dd7022bbba4d...</td>\n",
       "      <td>Suhan Saha</td>\n",
       "      <td>+917984183480</td>\n",
       "      <td>YM1755</td>\n",
       "      <td>ZERODHA</td>\n",
       "      <td>b2w0sfnr1zr92nxm</td>\n",
       "      <td>jtga2mp2e5fn29h8w0pe2kb722g3dh1q</td>\n",
       "      <td>None</td>\n",
       "      <td>None</td>\n",
       "    </tr>\n",
       "  </tbody>\n",
       "</table>\n",
       "</div>"
      ],
      "text/plain": [
       "   id                email                                           password  \\\n",
       "0   1  suhansaha@gmail.com  sha256$ZPzKNGp4$487b1d21cd69cebcd9dd7022bbba4d...   \n",
       "\n",
       "         name         mobile broker_id broker_name           api_key  \\\n",
       "0  Suhan Saha  +917984183480    YM1755     ZERODHA  b2w0sfnr1zr92nxm   \n",
       "\n",
       "                         api_secret api_token session_id  \n",
       "0  jtga2mp2e5fn29h8w0pe2kb722g3dh1q      None       None  "
      ]
     },
     "execution_count": 4,
     "metadata": {},
     "output_type": "execute_result"
    }
   ],
   "source": [
    "df_query = select([User])\n",
    "\n",
    "df_data = pd.read_sql(df_query, con = conn)\n",
    "df_data"
   ]
  },
  {
   "cell_type": "code",
   "execution_count": null,
   "metadata": {},
   "outputs": [],
   "source": []
  },
  {
   "cell_type": "code",
   "execution_count": null,
   "metadata": {},
   "outputs": [],
   "source": []
  },
  {
   "cell_type": "code",
   "execution_count": 1,
   "metadata": {},
   "outputs": [],
   "source": [
    "import pandas as pd"
   ]
  },
  {
   "cell_type": "code",
   "execution_count": null,
   "metadata": {},
   "outputs": [],
   "source": []
  },
  {
   "cell_type": "code",
   "execution_count": null,
   "metadata": {},
   "outputs": [],
   "source": []
  }
 ],
 "metadata": {
  "kernelspec": {
   "display_name": "Python 3",
   "language": "python",
   "name": "python3"
  },
  "language_info": {
   "codemirror_mode": {
    "name": "ipython",
    "version": 3
   },
   "file_extension": ".py",
   "mimetype": "text/x-python",
   "name": "python",
   "nbconvert_exporter": "python",
   "pygments_lexer": "ipython3",
   "version": "3.7.7"
  }
 },
 "nbformat": 4,
 "nbformat_minor": 4
}
