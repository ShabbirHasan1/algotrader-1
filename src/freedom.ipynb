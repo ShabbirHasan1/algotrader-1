{
 "cells": [
  {
   "cell_type": "markdown",
   "metadata": {},
   "source": [
    "## Thread functions"
   ]
  },
  {
   "cell_type": "code",
   "execution_count": 1,
   "metadata": {},
   "outputs": [],
   "source": [
    "#setup logging\n",
    "import logging\n",
    "logging.basicConfig(format='%(asctime)s:%(levelname)s:\\t%(message)s', level=logging.DEBUG, datefmt='%m-%d %H:%M:%S')\n",
    "logger = logging.getLogger('simple_example')\n",
    "#logger.setLevel(logging.DEBUG)\n",
    "\n",
    "pdebug = lambda x: logger.debug(x)\n",
    "pinfo = lambda x: logger.info(x)\n",
    "perror = lambda x: logger.error(x)\n",
    "pexception = lambda x: logger.critical(x)\n",
    "\n",
    "\n",
    "\n",
    "import threading\n",
    "import time\n",
    "from queue import Queue\n",
    "from redis import Redis\n",
    "import multiprocessing\n",
    "\n",
    "exitFlag = 0\n",
    "\n",
    "conn = Redis(host='redis', port=6379, db=0, charset=\"utf-8\", decode_responses=True)\n",
    "\n",
    "# The base thread class to enable multithreading\n",
    "class myThread (threading.Thread):\n",
    "    def __init__(self, manager, name, callback, pubsub=True, msg=\"\"):\n",
    "        threading.Thread.__init__(self)\n",
    "        self.threadID = manager.threadID\n",
    "        self.name = name\n",
    "        self.callback = callback\n",
    "        self.pubsub = pubsub\n",
    "        self.msg = \"\"\n",
    "        self.manager = manager\n",
    "        \n",
    "    def run(self):\n",
    "        pdebug(\"Starting \" + self.name)\n",
    "        if self.pubsub:\n",
    "            self.thread_function(self.callback) # Runs an infinite thread\n",
    "        else:\n",
    "            self.thread_job(self.callback, self.msg)\n",
    "        pdebug(\"Exiting \" + self.name)  # Runs an thread job which terminates after completion\n",
    "    \n",
    "    # The thread function for infinite threads which can expect IPC using Redis\n",
    "    def thread_function(self, callback):\n",
    "        pubsub = conn.pubsub()\n",
    "        pubsub.subscribe([self.name+'/cmd', self.name+'/msg'])\n",
    "        \n",
    "        pubsub.get_message(self.name+'/cmd')\n",
    "        pubsub.get_message(self.name+'/msg')\n",
    "\n",
    "        for item in pubsub.listen():\n",
    "            channel = item['channel'].split('/')[1]\n",
    "            msg = item['data']\n",
    "            pdebug(self.name+':'+channel)\n",
    "            if channel== 'msg':\n",
    "                callback(self.manager, msg) # CALL: Thread callback function\n",
    "            elif channel== 'cmd' and msg == 'stop':\n",
    "                pubsub.unsubscribe() # Stop listening to the channel\n",
    "                break\n",
    "    \n",
    "    # The thread function for one of tasks\n",
    "    def thread_job(self, callback, msg):\n",
    "        #pdebug(conn.rpop(queue))\n",
    "        callback(msg) #CALL: Thread callback function with message queue\n",
    "\n",
    "jobs = []\n",
    "# Each thread manager runs in its own process\n",
    "class threadManager():\n",
    "    def __init__(self, name, thread_list, callback_list):\n",
    "        #self.threads = []\n",
    "        self.name = name\n",
    "        self.threadList = thread_list\n",
    "        self.threadCallback = callback_list\n",
    "        \n",
    "        self.start()\n",
    "        \n",
    "    def start(self):\n",
    "        self.job = multiprocessing.Process(target=self.init)\n",
    "        jobs.append(self.job)\n",
    "        self.job.start() # Starting the process\n",
    "        \n",
    "        \n",
    "    def init(self):\n",
    "        self.threads = []\n",
    "        self.threadID = 1\n",
    "        \n",
    "        # Create new threads\n",
    "        for tName in self.threadList:\n",
    "            self.add(tName, self.threadCallback[self.threadID-1])\n",
    "        \n",
    "        #pdebug(\"Init: waiting for threads to join\")\n",
    "        # Wait for all threads to complete\n",
    "        for t in self.threads:\n",
    "            t.join()\n",
    "            #pdebug(\".\")\n",
    "        pinfo(\"Exiting Main Thread\")\n",
    "        \n",
    "    #TODO: Define function to restart a stopped thread\n",
    "        \n",
    "    def add(self, name, callback, pubsub=True, q=\"default\"):\n",
    "        # Create an instance of mythrade class and start the thread\n",
    "        #pdebug(\"threadManager: add: before myThread: {}\".format(name))\n",
    "        self.thread = myThread(self, name, callback, pubsub, q)\n",
    "        self.thread.start()\n",
    "        #pdebug(\"threadManager: add: after myThread: {}\".format(name))\n",
    "        self.threads.append(self.thread)\n",
    "        #pdebug(self.threads)\n",
    "        self.threadID += 1\n"
   ]
  },
  {
   "cell_type": "markdown",
   "metadata": {},
   "source": [
    "## Definition of handler functions"
   ]
  },
  {
   "cell_type": "code",
   "execution_count": 2,
   "metadata": {},
   "outputs": [],
   "source": [
    "# This function is called by Kite or Kite_Simulation\n",
    "def notification_despatcher(msg):\n",
    "    pdebug('notification_despatcher: {}'.format(msg))\n",
    "    # Step 1: Extract msg type: Tick/Callbacks\n",
    "    \n",
    "    Tick = True\n",
    "    # Step 2.1: If Tick\n",
    "    if Tick == True:\n",
    "        # Push msg to msgBufferQueue\n",
    "        conn.xadd('msgBufferQueue',{'msg': msg})\n",
    "    \n",
    "    # Step 2.2: else\n",
    "    else:\n",
    "        # Push msg to notificationQueue\n",
    "        conn.xadd('notificationQueue',{'msg': msg})\n",
    "\n",
    "# A thread function to process notifications and tick\n",
    "def trade_job(msg):\n",
    "    pdebug('trade_job: {}'.format(msg))\n",
    "    \n",
    "    # Step 1.1: Get stock name from the message\n",
    "    \n",
    "    # Step 1.2: Get state for the stock from the redis\n",
    "    \n",
    "    # Step 2: Switch to appropriate state machine based on current state\n",
    "    \n",
    "    # State: Init\n",
    "        # 1: Populate Redis buffer stock+\"OHLCBuffer\" with historical data\n",
    "        \n",
    "        # 2: Set state to Scanning\n",
    "    \n",
    "    # State: Scanning\n",
    "        # 1: Run trading algorithm for entering trade\n",
    "        \n",
    "        # 2: If Algo returns Buy: set State to 'Pending Order: Long'\n",
    "        \n",
    "        # 3: If Algo returns Sell: set State to 'Pending Order: Short'\n",
    "        \n",
    "        # 4: Update TradeMetaData: Push order details to OrderQueue\n",
    "    \n",
    "    # State: Pending Order: Long\n",
    "        # 1: On Fill: set State to Long\n",
    "    \n",
    "    # State: Pending Order: Short\n",
    "        # 1: On Fill: set State to Short\n",
    "    \n",
    "    # State: Long\n",
    "        # 1: If notification for AutoSquare Off: set state to init\n",
    "        \n",
    "        # 2: Else run trading algorithm for square off\n",
    "        \n",
    "        # 3: If algo returns square off: then push square off details to OrderQueue, set state to 'Awaiting Square Off'\n",
    "    \n",
    "    # State: Short\n",
    "        # 1: If notification for AutoSquare Off: set state to init\n",
    "        \n",
    "        # 2: Else run trading algorithm for square off\n",
    "        \n",
    "        # 3: If algo returns square off: then push square off details to OrderQueue, set state to 'Awaiting Square Off'\n",
    "    \n",
    "    # State: Awaiting Square Off\n",
    "        # 1: On Fill notification: set state to Init\n",
    "    \n",
    "    \n",
    "def trade_handler(manager, msg):\n",
    "    pdebug('trade_handler: {}'.format(msg))\n",
    "    # Step 1: Blocking call to userRequestsQueue, msgBufferQueue and notificationQueue\n",
    "    \n",
    "    # Step 3: Process userRequest: Start a worker thread for each request\n",
    "    \n",
    "    # Step 3: Process notifications: Start a worker thread for each notification\n",
    "    \n",
    "    # Step 4: Process tick: Start a worker thread for each msg\n",
    "    \n",
    "    \n",
    "def order_handler(manager, msg):\n",
    "    pdebug('order_handler: {}'.format(msg))\n",
    "    \n",
    "    # Step 1: Block for new order request: OrderQueue\n",
    "    \n",
    "    # Step 2: Create order msg for Kite: fill metadata\n",
    "    \n",
    "    # Step 3: If papertrade: create a log entry\n",
    "    \n",
    "    # Step 4: If not a papertrade: despatch order\n",
    "    \n",
    "def backtest_handler(manager, msg):\n",
    "    pdebug('backtest_handler: {}'.format(msg))\n",
    "    # Start an interval thread: 1000 ms\n",
    "    \n",
    "    # Calculate trade status data, charts and analytics\n",
    "    \n",
    "    # Update redis cache with figure and msg\n",
    "    \n",
    "def kite_simulator(manager, msg):\n",
    "    pdebug('kite_simulator: {}'.format(msg))\n",
    "    # Loop through OHLC data from local storage\n",
    "    \n",
    "    # Check square off conditions\n",
    "    \n",
    "    # Construct Json message like Kite\n",
    "    \n",
    "    # Call notification_despatcher\n",
    "    \n",
    "    # Optional: wait few miliseconds\n",
    "    "
   ]
  },
  {
   "cell_type": "code",
   "execution_count": 3,
   "metadata": {},
   "outputs": [
    {
     "name": "stderr",
     "output_type": "stream",
     "text": [
      "04-11 20:33:33:DEBUG:\tStarting kite_simulator\n",
      "04-11 20:33:33:DEBUG:\tStarting backtest_handler\n",
      "04-11 20:33:33:DEBUG:\tStarting trade_handler\n",
      "04-11 20:33:33:DEBUG:\tStarting order_handler\n",
      "04-11 20:33:33:DEBUG:\tkite_simulator:msg\n",
      "04-11 20:33:33:DEBUG:\tbacktest_handler:msg\n",
      "04-11 20:33:33:DEBUG:\torder_handler:cmd\n",
      "04-11 20:33:33:DEBUG:\tkite_simulator: 2\n",
      "04-11 20:33:33:DEBUG:\tbacktest_handler: 2\n",
      "04-11 20:33:33:DEBUG:\torder_handler:msg\n",
      "04-11 20:33:33:DEBUG:\torder_handler: 2\n",
      "04-11 20:34:12:DEBUG:\tkite_simulator:msg\n",
      "04-11 20:34:12:DEBUG:\tkite_simulator: Hello Dear\n",
      "04-11 20:34:43:DEBUG:\tkite_simulator:msg\n",
      "04-11 20:34:43:DEBUG:\tkite_simulator: Hello Dear\n",
      "04-11 20:34:43:DEBUG:\tkite_simulator:cmd\n",
      "04-11 20:34:43:DEBUG:\tExiting kite_simulator\n"
     ]
    }
   ],
   "source": [
    "freedom = threadManager(\"freedom\", [\"kite_simulator\", \"backtest_handler\", \"trade_handler\",\"order_handler\"], \n",
    "                        [kite_simulator, backtest_handler, trade_handler, order_handler])"
   ]
  },
  {
   "cell_type": "code",
   "execution_count": 4,
   "metadata": {},
   "outputs": [
    {
     "data": {
      "text/plain": [
       "True"
      ]
     },
     "execution_count": 4,
     "metadata": {},
     "output_type": "execute_result"
    }
   ],
   "source": [
    "freedom.job\n",
    "freedom.job.is_alive()"
   ]
  },
  {
   "cell_type": "code",
   "execution_count": null,
   "metadata": {},
   "outputs": [],
   "source": []
  },
  {
   "cell_type": "code",
   "execution_count": 8,
   "metadata": {},
   "outputs": [
    {
     "name": "stderr",
     "output_type": "stream",
     "text": [
      "04-11 20:34:43:DEBUG:\t['backtest_handler/cmd', 'backtest/cmd', 'trade_handler/msg', 'order_handler/cmd', 'trade_handler/cmd', 'kite_simulator/msg', 'backtest_handler/msg', 'kite_simulator/cmd', 'backtest/data', 'order_handler/msg']\n"
     ]
    },
    {
     "data": {
      "text/plain": [
       "1"
      ]
     },
     "execution_count": 8,
     "metadata": {},
     "output_type": "execute_result"
    }
   ],
   "source": [
    "pdebug(conn.pubsub_channels())\n",
    "conn.pubsub_numsub('kite_simulator/msg')\n",
    "conn.publish('kite_simulator/msg','Hello Dear')\n",
    "conn.publish('kite_simulator/cmd','stop')"
   ]
  },
  {
   "cell_type": "code",
   "execution_count": null,
   "metadata": {},
   "outputs": [],
   "source": []
  },
  {
   "cell_type": "code",
   "execution_count": 84,
   "metadata": {},
   "outputs": [],
   "source": [
    "#from walrus import Database  # A subclass of the redis-py Redis client.\n",
    "\n",
    "#db = Database(host='redis', port=6379, db=0, charset=\"utf-8\", decode_responses=True)\n",
    "#stream = conn.Stream('stream-a')"
   ]
  },
  {
   "cell_type": "code",
   "execution_count": 66,
   "metadata": {},
   "outputs": [
    {
     "name": "stdout",
     "output_type": "stream",
     "text": [
      "1586632321501-0\n"
     ]
    }
   ],
   "source": [
    "msgid = conn.xadd('stream-1',{'message': 'hello, streams'})\n",
    "print(msgid)"
   ]
  },
  {
   "cell_type": "code",
   "execution_count": 45,
   "metadata": {},
   "outputs": [],
   "source": [
    "msgid2 = conn.xadd('stream-1',{'message': 'message 2'})\n",
    "msgid3 = conn.xadd('stream-1',{'message': 'message 3'})"
   ]
  },
  {
   "cell_type": "code",
   "execution_count": 58,
   "metadata": {},
   "outputs": [],
   "source": [
    "msgid2 = conn.xadd('stream-1',{'message': 'message 4'})"
   ]
  },
  {
   "cell_type": "code",
   "execution_count": 104,
   "metadata": {},
   "outputs": [
    {
     "data": {
      "text/plain": [
       "5"
      ]
     },
     "execution_count": 104,
     "metadata": {},
     "output_type": "execute_result"
    }
   ],
   "source": [
    "conn.xtrim('stream-1',maxlen=0, approximate=False)"
   ]
  },
  {
   "cell_type": "code",
   "execution_count": 105,
   "metadata": {},
   "outputs": [
    {
     "name": "stdout",
     "output_type": "stream",
     "text": [
      "Help on method xtrim in module redis.client:\n",
      "\n",
      "xtrim(name, maxlen, approximate=True) method of redis.client.Redis instance\n",
      "    Trims old messages from a stream.\n",
      "    name: name of the stream.\n",
      "    maxlen: truncate old stream messages beyond this size\n",
      "    approximate: actual stream length may be slightly more than maxlen\n",
      "\n"
     ]
    }
   ],
   "source": [
    "help(conn.xtrim)"
   ]
  },
  {
   "cell_type": "code",
   "execution_count": 106,
   "metadata": {},
   "outputs": [
    {
     "data": {
      "text/plain": [
       "[]"
      ]
     },
     "execution_count": 106,
     "metadata": {},
     "output_type": "execute_result"
    }
   ],
   "source": [
    "conn.xrange('stream-1')"
   ]
  },
  {
   "cell_type": "code",
   "execution_count": null,
   "metadata": {},
   "outputs": [],
   "source": [
    "import numpy as np\n",
    "import time\n",
    "for i in np.linspace(1,5,5):\n",
    "    msg = conn.xread({'stream-1':'$','stream-2':'$'}, block=0, count=100)\n",
    "    msg = conn.xread({'stream-1':'0','stream-2':'0'}, block=5000, count=100)\n",
    "    pdebug(msg)"
   ]
  },
  {
   "cell_type": "code",
   "execution_count": 32,
   "metadata": {},
   "outputs": [
    {
     "name": "stdout",
     "output_type": "stream",
     "text": [
      "[('1586629344621-0', {'message': 'hello, streams'})]\n"
     ]
    }
   ],
   "source": [
    "messages = stream[msgid::1]\n",
    "print(messages)"
   ]
  },
  {
   "cell_type": "code",
   "execution_count": 37,
   "metadata": {},
   "outputs": [
    {
     "data": {
      "text/plain": [
       "[('1586629344621-0', {'message': 'hello, streams'}),\n",
       " ('1586629368816-0', {'message': 'message 2'}),\n",
       " ('1586629368818-0', {'message': 'message 3'})]"
      ]
     },
     "execution_count": 37,
     "metadata": {},
     "output_type": "execute_result"
    }
   ],
   "source": [
    "list(stream)"
   ]
  },
  {
   "cell_type": "code",
   "execution_count": 36,
   "metadata": {},
   "outputs": [
    {
     "name": "stdout",
     "output_type": "stream",
     "text": [
      "3\n"
     ]
    }
   ],
   "source": [
    "# Adding and deleting a message:\n",
    "msgid4 = stream.add({'message': 'delete me'})\n",
    "del stream[msgid4]\n",
    "\n",
    "# How many items are in the stream?\n",
    "print(len(stream))  # Prints 3."
   ]
  },
  {
   "cell_type": "code",
   "execution_count": 38,
   "metadata": {},
   "outputs": [
    {
     "name": "stdout",
     "output_type": "stream",
     "text": [
      "900\n",
      "100\n",
      "10\n"
     ]
    }
   ],
   "source": [
    "# Add 1000 items to \"stream-2\".\n",
    "stream2 = db.Stream('stream-2')\n",
    "for i in range(1000):\n",
    "    stream2.add({'data': 'message-%s' % i})\n",
    "\n",
    "# Trim stream-2 to (approximately) 10 most-recent messages.\n",
    "nremoved = stream2.trim(10)\n",
    "print(nremoved)\n",
    "# 909\n",
    "print(len(stream2))\n",
    "# 91\n",
    "\n",
    "# To trim to an exact number, specify `approximate=False`:\n",
    "stream2.trim(10, approximate=False)  # Returns 81.\n",
    "print(len(stream2))"
   ]
  },
  {
   "cell_type": "code",
   "execution_count": 40,
   "metadata": {},
   "outputs": [
    {
     "ename": "TypeError",
     "evalue": "read() got an unexpected keyword argument 'timeout'",
     "output_type": "error",
     "traceback": [
      "\u001b[0;31m---------------------------------------------------------------------------\u001b[0m",
      "\u001b[0;31mTypeError\u001b[0m                                 Traceback (most recent call last)",
      "\u001b[0;32m<ipython-input-40-bdf4e6f311af>\u001b[0m in \u001b[0;36m<module>\u001b[0;34m\u001b[0m\n\u001b[0;32m----> 1\u001b[0;31m \u001b[0mstream\u001b[0m\u001b[0;34m.\u001b[0m\u001b[0mread\u001b[0m\u001b[0;34m(\u001b[0m\u001b[0mtimeout\u001b[0m\u001b[0;34m=\u001b[0m\u001b[0;36m2000\u001b[0m\u001b[0;34m,\u001b[0m \u001b[0mlast_id\u001b[0m\u001b[0;34m=\u001b[0m\u001b[0;34m'$'\u001b[0m\u001b[0;34m)\u001b[0m\u001b[0;34m\u001b[0m\u001b[0;34m\u001b[0m\u001b[0m\n\u001b[0m",
      "\u001b[0;31mTypeError\u001b[0m: read() got an unexpected keyword argument 'timeout'"
     ]
    }
   ],
   "source": [
    "stream.read(timeout=2000, last_id='$')"
   ]
  },
  {
   "cell_type": "code",
   "execution_count": null,
   "metadata": {},
   "outputs": [],
   "source": []
  }
 ],
 "metadata": {
  "kernelspec": {
   "display_name": "Python 3",
   "language": "python",
   "name": "python3"
  },
  "language_info": {
   "codemirror_mode": {
    "name": "ipython",
    "version": 3
   },
   "file_extension": ".py",
   "mimetype": "text/x-python",
   "name": "python",
   "nbconvert_exporter": "python",
   "pygments_lexer": "ipython3",
   "version": "3.7.6"
  }
 },
 "nbformat": 4,
 "nbformat_minor": 4
}
