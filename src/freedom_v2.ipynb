{
 "cells": [
  {
   "cell_type": "markdown",
   "metadata": {},
   "source": [
    "### TODO"
   ]
  },
  {
   "cell_type": "markdown",
   "metadata": {},
   "source": [
    "## Thread functions"
   ]
  },
  {
   "cell_type": "code",
   "execution_count": 1,
   "metadata": {},
   "outputs": [],
   "source": [
    "from lib.multitasking_lib import *\n",
    "#from lib.kite_helper_lib import *"
   ]
  },
  {
   "cell_type": "code",
   "execution_count": 2,
   "metadata": {},
   "outputs": [],
   "source": [
    "freedom = threadManager(\"freedom\", [ \"kite_simulator1\", \"trade_handler1\"], \n",
    "                        [kite_simulator, trade_handler])"
   ]
  },
  {
   "cell_type": "code",
   "execution_count": 6,
   "metadata": {},
   "outputs": [],
   "source": [
    "freedom.job.terminate()"
   ]
  },
  {
   "cell_type": "code",
   "execution_count": 8,
   "metadata": {},
   "outputs": [
    {
     "name": "stdout",
     "output_type": "stream",
     "text": [
      "False\n"
     ]
    }
   ],
   "source": [
    "print(freedom.job.is_alive())"
   ]
  },
  {
   "cell_type": "code",
   "execution_count": 4,
   "metadata": {},
   "outputs": [],
   "source": [
    "freedom.add(\"order_handler1\", order_handler)"
   ]
  },
  {
   "cell_type": "code",
   "execution_count": null,
   "metadata": {},
   "outputs": [],
   "source": [
    "\n",
    "stock = 'ONGC'\n",
    "logger.setLevel(logging.DEBUG)\n",
    "trade_analysis(stock)"
   ]
  },
  {
   "cell_type": "code",
   "execution_count": null,
   "metadata": {},
   "outputs": [],
   "source": []
  },
  {
   "cell_type": "code",
   "execution_count": null,
   "metadata": {},
   "outputs": [],
   "source": [
    "import dash_html_components as html\n",
    "\n",
    "print(html.Br())"
   ]
  },
  {
   "cell_type": "code",
   "execution_count": null,
   "metadata": {},
   "outputs": [],
   "source": [
    "# Long Strategies\n",
    "def long_indicators(s):\n",
    "    temp_df = 0\n",
    "    #temp_df = temp_df | (REF(s.fastk,1) <=20)&(s.fastk>20)\n",
    "    #temp_df = temp_df | CROSSOVER(s.fastk, s.fastd)\n",
    "    #temp_df = temp_df | (REF(s.macd,1) <=0)&(s.macd>0)\n",
    "    #temp_df = temp_df | CROSSOVER(s.macd, s.macdsignal)\n",
    "    temp_df = temp_df | (REF(s.rsi,1) <=40)\n",
    "    #temp_df = temp_df | (s.CLOSE.shift(1) == s.min.shift(1)) & (s.CLOSE > s.OPEN)\n",
    "    #temp_df = temp_df & CROSSOVER(s.BBB, s.CLOSE)\n",
    "\n",
    "    return pd.DataFrame(  temp_df, columns=[\"buy\"] )\n",
    "\n",
    "# Short Strategies\n",
    "def short_indicators(s):\n",
    "    temp_df = 0\n",
    "    #temp_df = temp_df | (REF(s.fastk,1) >=80)&(s.fastk<80)\n",
    "    #temp_df = temp_df | CROSSOVER(s.fastd, s.fastk)\n",
    "    #temp_df = temp_df | (REF(s.macd,1) >=0)&(s.macd<0)\n",
    "    #temp_df = temp_df | CROSSOVER(s.macdsignal, s.macd)\n",
    "    temp_df = temp_df | (REF(s.rsi,1) >=60)\n",
    "    #temp_df = temp_df & CROSSOVER(s.CLOSE, s.BBT)\n",
    "    return pd.DataFrame( temp_df, columns=[\"sell\"])\n",
    "\n",
    "\n",
    "\n",
    "def long_breakout(s):\n",
    "    temp_df = s.haCLOSE >= s.BBT.shift(1)\n",
    "    temp_df = temp_df | (s.haCLOSE >= s.haOPEN.shift(2))\n",
    "    temp_df = temp_df & ( CROSSOVER(s.OPEN, s.BBT) | CROSSOVER(s.OPEN, s.BBB) | CROSSOVER(s.OPEN, s.BBM))\n",
    "    return pd.DataFrame( temp_df , columns=[\"buy\"])\n",
    "\n",
    "def short_breakout(s):\n",
    "    temp_df = s.haOPEN <= s.BBB.shift(1)\n",
    "    temp_df = temp_df | (s.haCLOSE <= s.haOPEN.shift(2))\n",
    "    temp_df = temp_df & ( CROSSOVER(s.BBT, s.OPEN) | CROSSOVER(s.BBB, s.OPEN) | CROSSOVER(s.BBM, s.OPEN))\n",
    "    return pd.DataFrame( temp_df , columns=[\"sell\"])\n",
    "\n",
    "def long_ha(s):\n",
    "    temp_df = (REF(s.haCLOSE,3) < REF(s.haOPEN,3)) & (REF(s.haCLOSE,2) < REF(s.haOPEN,2)) & (REF(s.haCLOSE,1) > REF(s.haOPEN,1)) & (s.haCLOSE > s.haOPEN)  \n",
    "    #temp_df = temp_df & (s.rsi < 40 )\n",
    "    return pd.DataFrame( temp_df , columns=[\"buy\"])\n",
    "\n",
    "def short_ha(s):\n",
    "    temp_df = (REF(s.haCLOSE,3) > REF(s.haOPEN,3)) & (REF(s.haCLOSE,2) > REF(s.haOPEN,2)) & (REF(s.haCLOSE,1) < REF(s.haOPEN,1)) & (s.haCLOSE < s.haOPEN)\n",
    "    #temp_df = temp_df & (s.rsi > 60 )\n",
    "    return pd.DataFrame( temp_df , columns=[\"sell\"])\n",
    "    \n"
   ]
  },
  {
   "cell_type": "markdown",
   "metadata": {},
   "source": [
    "## Definition of handler functions"
   ]
  },
  {
   "cell_type": "code",
   "execution_count": null,
   "metadata": {
    "scrolled": false
   },
   "outputs": [],
   "source": [
    "#freedom_init = threadManager(\"freedom_init\", [\"freedom_init\"], [freedom_init])   \n",
    "\n",
    "#freedom = threadManager(\"freedom\", [\"user_requests_handler\", \"kite_simulator\", \"backtest_handler\", \"trade_handler\",\"order_handler\"], \n",
    "#                        [user_requests_handler, kite_simulator, backtest_handler, trade_handler, order_handler])\n",
    "\n",
    "logger.setLevel(21)\n",
    "freedom = threadManager(\"freedom\", [ \"kite_simulator\", \"trade_handler\", \"order_handler\"], \n",
    "                        [kite_simulator, trade_handler, order_handler])\n"
   ]
  },
  {
   "cell_type": "code",
   "execution_count": null,
   "metadata": {},
   "outputs": [],
   "source": [
    "# Shut down\n",
    "conn.publish('kite_simulator','stop')\n",
    "conn.publish('trade_handler','stop')\n",
    "freedom.job.terminate()\n",
    "print(freedom.job.is_alive())\n",
    "conn.pubsub_channels()"
   ]
  },
  {
   "cell_type": "markdown",
   "metadata": {},
   "source": [
    "## Redis Console"
   ]
  },
  {
   "cell_type": "code",
   "execution_count": null,
   "metadata": {},
   "outputs": [],
   "source": [
    "from redis import Redis\n",
    "import json\n",
    "\n",
    "conn = Redis(host='redis', port=6379, db=0, charset=\"utf-8\", decode_responses=True)"
   ]
  },
  {
   "cell_type": "code",
   "execution_count": null,
   "metadata": {},
   "outputs": [],
   "source": [
    "\n",
    "def trade_analysis(stock):\n",
    "    trade_log = pd.read_json(conn.get(stock+'Trade'))\n",
    "\n",
    "    state = 'None'\n",
    "    trade_log['profit'] = 0\n",
    "    profit = 0\n",
    "    total_win = 0\n",
    "    total_loss = 0\n",
    "    max_profit = 0 \n",
    "    max_loss = 0\n",
    "    winning_streak = 0\n",
    "    loosing_stream = 0\n",
    "    prev_profit = 0\n",
    "    winning_streak = 1\n",
    "    loosing_streak = 1\n",
    "    max_winning_streak = 0\n",
    "    max_loosing_streak = 0\n",
    "\n",
    "    for index, row in trade_log.iterrows():\n",
    "        if not math.isnan(row.buy):\n",
    "            profit -= row['buy']\n",
    "            #print(row['buy'])  \n",
    "        if not math.isnan(row.sell):\n",
    "            profit += row['sell']\n",
    "            #print(row['sell'])\n",
    "\n",
    "        if state=='None':\n",
    "            trade_log.loc[index,'profit'] = 0\n",
    "            state='Trade'\n",
    "        else:\n",
    "            trade_log.loc[index,'profit'] = profit\n",
    "            if profit >=0:\n",
    "                total_win += 1\n",
    "                if profit > max_profit:\n",
    "                    max_profit = profit\n",
    "\n",
    "                if prev_profit > 0:\n",
    "                    winning_streak += 1\n",
    "                elif loosing_streak > max_loosing_streak:\n",
    "                    max_loosing_streak = loosing_streak\n",
    "                loosing_streak = 1    \n",
    "\n",
    "            else:\n",
    "                total_loss += 1\n",
    "                if profit < max_loss:\n",
    "                    max_loss = profit\n",
    "\n",
    "                if prev_profit < 0:\n",
    "                    loosing_streak += 1\n",
    "                elif winning_streak > max_winning_streak:\n",
    "                    max_winning_streak = winning_streak\n",
    "                winning_streak = 1\n",
    "\n",
    "            prev_profit = profit\n",
    "            profit = 0\n",
    "            state = 'None'\n",
    "\n",
    "    total_profit = trade_log.profit.sum()\n",
    "    trade_log['CumProfit'] = trade_log.profit.cumsum()\n",
    "    logtrade('Profit: {}, max loss: {}, max win: {}'.format(total_profit, max_loss, max_profit))\n",
    "    logtrade('# of Win: {}, # of Loss: {}, max_winning_streak: {}, max_loosing_streak: {}'.format(total_win, total_loss, max_winning_streak, max_loosing_streak))\n",
    "\n",
    "    logtrade('\\n{}'.format(trade_log.fillna('')))"
   ]
  },
  {
   "cell_type": "code",
   "execution_count": null,
   "metadata": {},
   "outputs": [],
   "source": [
    "import pandas as pd\n",
    "\n",
    "\n",
    "stock = 'ONGC'\n",
    "logger.setLevel(logging.DEBUG)\n",
    "trade_analysis(stock)"
   ]
  },
  {
   "cell_type": "code",
   "execution_count": null,
   "metadata": {},
   "outputs": [],
   "source": []
  },
  {
   "cell_type": "code",
   "execution_count": null,
   "metadata": {},
   "outputs": [],
   "source": [
    "conn.xadd('msgBufferQueue',{'msg': 'next'})"
   ]
  },
  {
   "cell_type": "code",
   "execution_count": null,
   "metadata": {},
   "outputs": [],
   "source": [
    "\n",
    "# Unit Test#1\n",
    "freq='day'\n",
    "exchange='NSE'\n",
    "fromDate = '2019-01-01'\n",
    "toDate = '2019-05-03'\n",
    "stock='INFY'\n",
    "\n",
    "state = 'INIT'\n",
    "hash_key = stock+'_state'\n",
    "\n",
    "try:\n",
    "    all_keys = list(conn.hgetall(hash_key).keys())\n",
    "    conn.hdel(hash_key,*all_keys)\n",
    "except:\n",
    "    pass\n",
    "\n",
    "#conn.hmset(hash_key, {'state':state,'stock':stock, 'qty':0,'price':0,'algo':'','freq':'day','so':0,'target':0})\n",
    "\n",
    "msg = json.dumps({'stock': stock, 'fromDate':fromDate,'toDate':toDate, 'exchange':exchange, 'freq':freq})\n",
    "conn.publish('trade_handler','start')\n",
    "msgid2 = conn.publish('kite_simulator',msg)\n"
   ]
  },
  {
   "cell_type": "code",
   "execution_count": null,
   "metadata": {},
   "outputs": [],
   "source": [
    "# Unit Test#2\n",
    "stock = 'NDTV'\n",
    "msg = json.dumps({'stock': stock, 'fromDate':fromDate,'toDate':toDate, 'exchange':exchange, 'freq':freq})\n",
    "conn.publish('trade_handler','start')\n",
    "msgid2 = conn.publish('kite_simulator',msg)\n",
    "conn.xadd('msgBufferQueue',{'msg': 'next'})"
   ]
  },
  {
   "cell_type": "code",
   "execution_count": null,
   "metadata": {},
   "outputs": [],
   "source": []
  },
  {
   "cell_type": "code",
   "execution_count": null,
   "metadata": {},
   "outputs": [],
   "source": [
    "# Shut down\n",
    "conn.publish('kite_simulator','stop')\n",
    "conn.publish('trade_handler','stop')\n",
    "freedom.job.terminate()\n",
    "print(freedom.job.is_alive())\n",
    "conn.pubsub_channels()"
   ]
  },
  {
   "cell_type": "code",
   "execution_count": null,
   "metadata": {},
   "outputs": [],
   "source": [
    "conn.pubsub_channels()"
   ]
  },
  {
   "cell_type": "code",
   "execution_count": null,
   "metadata": {
    "scrolled": false
   },
   "outputs": [],
   "source": [
    "# Debug\n",
    "stock='TCS'\n",
    "#notification_despatcher(None, 'msg')\n",
    "print(stock)\n",
    "pd.read_json(conn.hget(stock+'_state','ohlc'))"
   ]
  },
  {
   "cell_type": "code",
   "execution_count": null,
   "metadata": {
    "scrolled": true
   },
   "outputs": [],
   "source": [
    "pd.set_option('display.max_rows', 50)\n",
    "pd.read_json(conn.hget(stock+'_state','ohlc')).tail(50)"
   ]
  },
  {
   "cell_type": "code",
   "execution_count": null,
   "metadata": {},
   "outputs": [],
   "source": []
  },
  {
   "cell_type": "raw",
   "metadata": {},
   "source": [
    "msg = [['msgBufferQueue', [('1587153010498-0', {'stock': 'TCS', 'fromDate': '2019-01-01', 'toDate': '2019-05-03', 'exchange': 'NSE', 'freq': 'day'})]]]"
   ]
  },
  {
   "cell_type": "code",
   "execution_count": null,
   "metadata": {},
   "outputs": [],
   "source": []
  },
  {
   "cell_type": "code",
   "execution_count": null,
   "metadata": {},
   "outputs": [],
   "source": []
  },
  {
   "cell_type": "code",
   "execution_count": null,
   "metadata": {},
   "outputs": [],
   "source": [
    "\n"
   ]
  },
  {
   "cell_type": "code",
   "execution_count": null,
   "metadata": {},
   "outputs": [],
   "source": []
  },
  {
   "cell_type": "markdown",
   "metadata": {},
   "source": [
    "## Scratchpad"
   ]
  },
  {
   "cell_type": "code",
   "execution_count": null,
   "metadata": {},
   "outputs": [],
   "source": [
    "import pandas as pd\n",
    "import plotly\n",
    "import plotly.graph_objs as go\n",
    "from datetime import datetime as dt\n",
    "from datetime import timedelta\n",
    "from plotly.subplots import make_subplots\n",
    "import plotly.graph_objects as go\n",
    "\n",
    "from lib.multitasking_lib import *\n",
    "from plotly.offline import download_plotlyjs, init_notebook_mode, plot, iplot"
   ]
  },
  {
   "cell_type": "code",
   "execution_count": null,
   "metadata": {},
   "outputs": [],
   "source": [
    "# GetData\n",
    "\n",
    "logger.setLevel(logging.DEBUG)\n",
    "stock = 'WIPRO'\n",
    "fromDate = '2019-2-2'\n",
    "toDate  = '2019-2-28'\n",
    "freq = 'minute'\n",
    "exchange = 'NSE'\n",
    "ohlc_data = {}\n",
    "ohlc_data[stock] = getData(stock, fromDate, toDate, exchange, freq, False, stock)"
   ]
  },
  {
   "cell_type": "code",
   "execution_count": null,
   "metadata": {},
   "outputs": [],
   "source": []
  },
  {
   "cell_type": "code",
   "execution_count": null,
   "metadata": {},
   "outputs": [],
   "source": []
  },
  {
   "cell_type": "code",
   "execution_count": null,
   "metadata": {},
   "outputs": [],
   "source": [
    "import numpy as np\n",
    "no = 1\n",
    "for i in np.linspace(0,no-1,no):\n",
    "    i = int(i)\n",
    "    row = ohlc_data[stock].iloc[i]\n",
    "    print(type(row))\n",
    "    index = ohlc_data[stock].index[i]\n",
    "    update_plot_cache(stock, row)\n",
    "    print(index)\n",
    "    print(ohlc_data[stock].iloc[i])\n",
    "    # Construct Json message like Kite\n",
    "    mydate = \"{}-{}-{}\".format(index.year,index.month,index.day)        \n",
    "    msg = {exchange+\":\"+stock:{\"ohlc\":{'date':mydate,'open':row['open'],'high':row['high'],'low':row['low'],'close':row['close'],'volume':row['volume']}}}\n",
    "    pdebug(msg)\n",
    "    msg = json.dumps(msg)"
   ]
  },
  {
   "cell_type": "code",
   "execution_count": null,
   "metadata": {},
   "outputs": [],
   "source": [
    "for i,r in ohlc_data[stock].iterrows():\n",
    "    print(type(r))\n",
    "    print(index)\n",
    "    print(r)\n",
    "    break"
   ]
  },
  {
   "cell_type": "code",
   "execution_count": null,
   "metadata": {},
   "outputs": [],
   "source": [
    "#tmp_df = pd.DataFrame({'buy': ohlc_data.iloc[1:5]['close'], 'sell':ohlc_data.iloc[10:15]['close']})\n",
    "\n",
    "tmp_df_s = pd.DataFrame()\n",
    "tmp_df_b = pd.DataFrame()\n",
    "tmp_df_b['buy'] = ohlc_data.iloc[-1:]['close']\n",
    "tmp_df_s['sell'] = ohlc_data.iloc[20:25]['close']\n",
    "\n",
    "tmp_df_b.append(tmp_df_s)"
   ]
  }
 ],
 "metadata": {
  "kernelspec": {
   "display_name": "Python 3",
   "language": "python",
   "name": "python3"
  },
  "language_info": {
   "codemirror_mode": {
    "name": "ipython",
    "version": 3
   },
   "file_extension": ".py",
   "mimetype": "text/x-python",
   "name": "python",
   "nbconvert_exporter": "python",
   "pygments_lexer": "ipython3",
   "version": "3.7.7"
  }
 },
 "nbformat": 4,
 "nbformat_minor": 4
}
