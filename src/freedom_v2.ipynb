{
 "cells": [
  {
   "cell_type": "markdown",
   "metadata": {},
   "source": [
    "### TODO\n",
    "\n",
    "1. lambda functions to create quote and order notification messages\n",
    "2. implement threads for handling live streaming\n",
    "  - Design json message structure for each handler\n",
    "  - Implement decoder for json messages for each handler\n",
    "3. Implement trade job - init, scanner, order\n",
    "4. Implement user request handler\n",
    "\n",
    "\n",
    "#### Future\n",
    "1. Define function to restart a stopped thread\n",
    "2. Watchdog implementation to resume processes\n",
    "3. Implementation of user initiated aborts and restart"
   ]
  },
  {
   "cell_type": "markdown",
   "metadata": {},
   "source": [
    "## Thread functions"
   ]
  },
  {
   "cell_type": "code",
   "execution_count": 2,
   "metadata": {},
   "outputs": [],
   "source": [
    "from lib.multitasking_lib import *\n",
    "from lib.kite_helper_lib import *\n",
    "import sys"
   ]
  },
  {
   "cell_type": "code",
   "execution_count": null,
   "metadata": {},
   "outputs": [],
   "source": []
  },
  {
   "cell_type": "markdown",
   "metadata": {},
   "source": [
    "## Definition of handler functions"
   ]
  },
  {
   "cell_type": "code",
   "execution_count": 9,
   "metadata": {},
   "outputs": [],
   "source": [
    "# A thread function to process notifications and tick\n",
    "\n",
    "trade_lock = Lock() #TODO: make lock per stockname\n",
    "def trade_job(hash_key):\n",
    "    pdebug('trade_job: {}'.format(hash_key))\n",
    "    \n",
    "    trade_lock.acquire()\n",
    "    # Step 1.1: Get stock name from the message    \n",
    "    \n",
    "    # Step 1.2: Get state for the stock from the redis\n",
    "    state = conn.hget(hash_key,'state')\n",
    "    if not state:\n",
    "        return\n",
    "    stock = conn.hget(hash_key,'stock')\n",
    "    freq = conn.hget(hash_key,'freq')\n",
    "    pdebug(\"{}: {}: {}\".format(hash_key, stock, state ))\n",
    "    ohlc_df = pd.read_json(conn.hget(hash_key,'ohlc'))\n",
    "    \n",
    "    last_processed = ohlc_df.index[-1].strftime('%Y-%m-%d')\n",
    "    pdebug(\"{}=>{}\".format(last_processed,conn.hget(hash_key,'last_processed')))\n",
    "    \n",
    "    if last_processed == conn.hget(hash_key,'last_processed'):   \n",
    "        trade_lock.release()\n",
    "        return\n",
    "    else:\n",
    "        conn.hset(hash_key,'last_processed',last_processed)\n",
    "    \n",
    "    #print('{}:{}'.format(stock,ohlc_df.index[-1]))\n",
    "    \n",
    "    # Step 2: Switch to appropriate state machine based on current state\n",
    "    if state == 'INIT': # State: Init\n",
    "        # 1: Populate Redis buffer stock+\"OHLCBuffer\" with historical data\n",
    "            # Done inside thread handler\n",
    "        \n",
    "        # 2: Set state to Scanning\n",
    "        conn.hset(hash_key,'state','SCANNING')\n",
    "        pass\n",
    "    \n",
    "    elif state == 'SCANNING':  # State: Scanning\n",
    "        # 1: Run trading algorithm for entering trade\n",
    "        tradeDecision = False\n",
    "        \n",
    "        # 2: If Algo returns Buy: set State to 'Pending Order: Long'\n",
    "        if tradeDecision:\n",
    "            conn.hset(hash_key,'state','PO:LONG')\n",
    "        \n",
    "        # 3: If Algo returns Sell: set State to 'Pending Order: Short'\n",
    "        if tradeDecision:\n",
    "            conn.hset(hash_key,'state','PO:SHORT')\n",
    "        \n",
    "        # 4: Update TradeMetaData: Push order details to OrderQueue\n",
    "        \n",
    "        pass\n",
    "    \n",
    "    elif state == 'PO:LONG': # State: Pending Order: Long\n",
    "    \n",
    "        # 1: On Fill: set State to Long\n",
    "        conn.hset(hash_key,'state','LONG')\n",
    "        pass\n",
    "    \n",
    "    \n",
    "    elif state == 'PO:SHORT': # State: Pending Order: Short\n",
    "    \n",
    "        # 1: On Fill: set State to Short\n",
    "        conn.hset(hash_key,'state','SHORT')\n",
    "        pass\n",
    "    \n",
    "    \n",
    "    elif state == 'LONG': # State: Long\n",
    "    \n",
    "        # 1: If notification for AutoSquare Off: set state to init\n",
    "        \n",
    "        # 2: Else run trading algorithm for square off\n",
    "        \n",
    "        # 3: If algo returns square off: then push square off details to OrderQueue, set state to 'Awaiting Square Off'   \n",
    "        conn.hset(hash_key,'state','SQUAREOFF')\n",
    "        pass\n",
    "    \n",
    "    \n",
    "    elif state == 'SHORT': # State: Short\n",
    "    \n",
    "        # 1: If notification for AutoSquare Off: set state to init\n",
    "        \n",
    "        # 2: Else run trading algorithm for square off\n",
    "        \n",
    "        # 3: If algo returns square off: then push square off details to OrderQueue, set state to 'Awaiting Square Off'\n",
    "    \n",
    "        conn.hset(hash_key,'state','SQUAREOFF')\n",
    "        pass\n",
    "        \n",
    "    elif state == 'SQUAREOFF':  # State: Awaiting Square Off\n",
    "        \n",
    "        conn.hset(hash_key,'state','INIT')\n",
    "        pass\n",
    "   \n",
    "        # 1: On Fill notification: set state to Init\n",
    "\n",
    "    trade_lock.release()\n",
    "\n",
    "\n",
    "def trade_handler(manager, msg):\n",
    "    pdebug('trade_handler: {}'.format(msg))\n",
    "    # Step 1: Blocking call to msgBufferQueue and notificationQueue\n",
    "    conn.xtrim('msgBufferQueue',maxlen=0, approximate=False)\n",
    "    conn.xtrim('notificationQueue',maxlen=0, approximate=False)\n",
    "    while(True):\n",
    "        msg_q = conn.xread({'msgBufferQueue':'$','notificationQueue':'$'}, block=0, count=100)\n",
    "        msgs_q = conn.xread({'msgBufferQueue':'0','notificationQueue':'0'}, block=1, count=100)\n",
    "        conn.xtrim('msgBufferQueue',maxlen=0, approximate=False)\n",
    "        conn.xtrim('notificationQueue',maxlen=0, approximate=False)\n",
    "        \n",
    "        # Step 2: Process notifications: Start a worker thread for each notification\n",
    "        \n",
    "        #TODO\n",
    "        \n",
    "        # Step 3: Process tick: Start a worker thread for each msg        \n",
    "        for msg in msgs_q[0][1]:\n",
    "            pdebug('trade_handler: {}'.format(msg[1]['msg']))\n",
    "            \n",
    "            try:\n",
    "                data = json.loads(msg[1]['msg'])\n",
    "            except:\n",
    "                perror(\"Un-supported message: {} : {}\".format(msg, sys.exc_info()[0]))\n",
    "                break\n",
    "\n",
    "            for key in data.keys():\n",
    "                stock = key.split(':')[1]\n",
    "                exchange = key.split(':')[0]\n",
    "\n",
    "            hash_key = stock+'_state'\n",
    "            freq = conn.hget(hash_key,'freq')\n",
    "            state = conn.hget(hash_key,'state')\n",
    "\n",
    "\n",
    "            temp_df = msg_to_ohlc(data)\n",
    "            if state == 'INIT': # State: Init: Load historical data from cache\n",
    "                # 1: Populate Redis buffer stock+\"OHLCBuffer\" with historical data\n",
    "                toDate = (temp_df.index[0] - timedelta(days=1)).strftime('%Y-%m-%d')\n",
    "                fromDate = (temp_df.index[0] - timedelta(days=no_of_hist_candles)).strftime('%Y-%m-%d')\n",
    "                ohlc_data = getData(stock, fromDate, toDate, exchange, freq, False, stock)\n",
    "            else: # Load data from OHLC buffer in hash\n",
    "                ohlc_data = pd.read_json(conn.hget(hash_key, 'ohlc'))\n",
    "\n",
    "            ohlc_data = ohlc_data.append(temp_df)\n",
    "            conn.hset(hash_key,'ohlc',ohlc_data.to_json())\n",
    "\n",
    "            # Add to OHLCBuffer in hash\n",
    "            manager.add(stock, trade_job, False, hash_key)\n",
    "            pdebug(msg[0])"
   ]
  },
  {
   "cell_type": "code",
   "execution_count": null,
   "metadata": {},
   "outputs": [],
   "source": []
  },
  {
   "cell_type": "code",
   "execution_count": 10,
   "metadata": {
    "scrolled": true
   },
   "outputs": [
    {
     "name": "stderr",
     "output_type": "stream",
     "text": [
      "04-18 17:34:23:INFO:\tNumExpr defaulting to 2 threads.\n",
      "04-18 17:34:24:INFO:\tUsing cache: Not downloading data\n",
      "04-18 17:34:24:INFO:\tUsing cache: Not downloading data\n",
      "04-18 17:34:24:INFO:\t2019-01-01=>1999-01-01\n"
     ]
    },
    {
     "name": "stdout",
     "output_type": "stream",
     "text": [
      "WIPRO:2019-01-01 00:00:00\n"
     ]
    },
    {
     "name": "stderr",
     "output_type": "stream",
     "text": [
      "04-18 17:34:24:INFO:\tUsing cache: Not downloading data\n",
      "04-18 17:34:24:INFO:\t2019-01-02=>2019-01-01\n"
     ]
    },
    {
     "name": "stdout",
     "output_type": "stream",
     "text": [
      "WIPRO:2019-01-02 00:00:00\n"
     ]
    },
    {
     "name": "stderr",
     "output_type": "stream",
     "text": [
      "04-18 17:34:24:INFO:\t2019-01-03=>2019-01-02\n"
     ]
    },
    {
     "name": "stdout",
     "output_type": "stream",
     "text": [
      "WIPRO:2019-01-03 00:00:00\n"
     ]
    },
    {
     "name": "stderr",
     "output_type": "stream",
     "text": [
      "04-18 17:34:24:INFO:\t2019-01-04=>2019-01-03\n"
     ]
    },
    {
     "name": "stdout",
     "output_type": "stream",
     "text": [
      "WIPRO:2019-01-04 00:00:00\n"
     ]
    },
    {
     "name": "stderr",
     "output_type": "stream",
     "text": [
      "04-18 17:34:24:INFO:\t2019-01-08=>2019-01-04\n"
     ]
    },
    {
     "name": "stdout",
     "output_type": "stream",
     "text": [
      "WIPRO:2019-01-08 00:00:00\n"
     ]
    },
    {
     "name": "stderr",
     "output_type": "stream",
     "text": [
      "04-18 17:34:24:INFO:\t2019-01-09=>2019-01-08\n"
     ]
    },
    {
     "name": "stdout",
     "output_type": "stream",
     "text": [
      "WIPRO:2019-01-09 00:00:00\n"
     ]
    },
    {
     "name": "stderr",
     "output_type": "stream",
     "text": [
      "04-18 17:34:25:INFO:\t2019-01-09=>2019-01-09\n",
      "04-18 17:34:25:INFO:\t2019-01-11=>2019-01-09\n"
     ]
    },
    {
     "name": "stdout",
     "output_type": "stream",
     "text": [
      "WIPRO:2019-01-11 00:00:00\n"
     ]
    },
    {
     "name": "stderr",
     "output_type": "stream",
     "text": [
      "04-18 17:34:25:INFO:\t2019-01-16=>2019-01-11\n"
     ]
    },
    {
     "name": "stdout",
     "output_type": "stream",
     "text": [
      "WIPRO:2019-01-16 00:00:00\n"
     ]
    },
    {
     "name": "stderr",
     "output_type": "stream",
     "text": [
      "04-18 17:34:25:INFO:\t2019-01-17=>2019-01-16\n"
     ]
    },
    {
     "name": "stdout",
     "output_type": "stream",
     "text": [
      "WIPRO:2019-01-17 00:00:00\n"
     ]
    },
    {
     "name": "stderr",
     "output_type": "stream",
     "text": [
      "04-18 17:34:25:INFO:\t2019-01-21=>2019-01-17\n"
     ]
    },
    {
     "name": "stdout",
     "output_type": "stream",
     "text": [
      "WIPRO:2019-01-21 00:00:00\n"
     ]
    },
    {
     "name": "stderr",
     "output_type": "stream",
     "text": [
      "04-18 17:34:25:INFO:\t2019-01-22=>2019-01-21\n"
     ]
    },
    {
     "name": "stdout",
     "output_type": "stream",
     "text": [
      "WIPRO:2019-01-22 00:00:00\n"
     ]
    },
    {
     "name": "stderr",
     "output_type": "stream",
     "text": [
      "04-18 17:34:25:INFO:\t2019-01-24=>2019-01-22\n"
     ]
    },
    {
     "name": "stdout",
     "output_type": "stream",
     "text": [
      "WIPRO:2019-01-24 00:00:00\n"
     ]
    },
    {
     "name": "stderr",
     "output_type": "stream",
     "text": [
      "04-18 17:34:25:INFO:\t2019-01-24=>2019-01-24\n",
      "04-18 17:34:25:INFO:\t2019-01-25=>2019-01-24\n"
     ]
    },
    {
     "name": "stdout",
     "output_type": "stream",
     "text": [
      "WIPRO:2019-01-25 00:00:00\n"
     ]
    },
    {
     "name": "stderr",
     "output_type": "stream",
     "text": [
      "04-18 17:34:25:INFO:\t2019-01-25=>2019-01-25\n",
      "04-18 17:34:25:INFO:\t2019-01-29=>2019-01-25\n"
     ]
    },
    {
     "name": "stdout",
     "output_type": "stream",
     "text": [
      "WIPRO:2019-01-29 00:00:00\n"
     ]
    },
    {
     "name": "stderr",
     "output_type": "stream",
     "text": [
      "04-18 17:34:25:INFO:\t2019-01-31=>2019-01-29\n"
     ]
    },
    {
     "name": "stdout",
     "output_type": "stream",
     "text": [
      "WIPRO:2019-01-31 00:00:00\n"
     ]
    },
    {
     "name": "stderr",
     "output_type": "stream",
     "text": [
      "04-18 17:34:26:INFO:\t2019-01-31=>2019-01-31\n",
      "04-18 17:34:26:INFO:\t2019-02-04=>2019-01-31\n"
     ]
    },
    {
     "name": "stdout",
     "output_type": "stream",
     "text": [
      "WIPRO:2019-02-04 00:00:00\n"
     ]
    },
    {
     "name": "stderr",
     "output_type": "stream",
     "text": [
      "04-18 17:34:26:INFO:\t2019-02-04=>2019-02-04\n",
      "04-18 17:34:26:INFO:\t2019-02-06=>2019-02-04\n"
     ]
    },
    {
     "name": "stdout",
     "output_type": "stream",
     "text": [
      "WIPRO:2019-02-06 00:00:00\n"
     ]
    },
    {
     "name": "stderr",
     "output_type": "stream",
     "text": [
      "04-18 17:34:26:INFO:\t2019-02-06=>2019-02-06\n",
      "04-18 17:34:26:INFO:\t2019-02-07=>2019-02-06\n"
     ]
    },
    {
     "name": "stdout",
     "output_type": "stream",
     "text": [
      "WIPRO:2019-02-07 00:00:00\n"
     ]
    },
    {
     "name": "stderr",
     "output_type": "stream",
     "text": [
      "04-18 17:34:26:INFO:\t2019-02-08=>2019-02-07\n"
     ]
    },
    {
     "name": "stdout",
     "output_type": "stream",
     "text": [
      "WIPRO:2019-02-08 00:00:00\n"
     ]
    },
    {
     "name": "stderr",
     "output_type": "stream",
     "text": [
      "04-18 17:34:26:INFO:\t2019-02-12=>2019-02-08\n"
     ]
    },
    {
     "name": "stdout",
     "output_type": "stream",
     "text": [
      "WIPRO:2019-02-12 00:00:00\n"
     ]
    },
    {
     "name": "stderr",
     "output_type": "stream",
     "text": [
      "04-18 17:34:26:INFO:\t2019-02-13=>2019-02-12\n"
     ]
    },
    {
     "name": "stdout",
     "output_type": "stream",
     "text": [
      "WIPRO:2019-02-13 00:00:00\n"
     ]
    },
    {
     "name": "stderr",
     "output_type": "stream",
     "text": [
      "04-18 17:34:26:INFO:\t2019-02-13=>2019-02-13\n",
      "04-18 17:34:26:INFO:\t2019-02-13=>2019-02-13\n",
      "04-18 17:34:26:INFO:\t2019-02-13=>2019-02-13\n",
      "04-18 17:34:26:INFO:\t2019-02-13=>2019-02-13\n",
      "04-18 17:35:17:INFO:\t2019-02-14=>2019-02-13\n"
     ]
    },
    {
     "name": "stdout",
     "output_type": "stream",
     "text": [
      "WIPRO:2019-02-14 00:00:00\n"
     ]
    },
    {
     "name": "stderr",
     "output_type": "stream",
     "text": [
      "04-18 17:35:17:INFO:\t2019-02-18=>2019-02-14\n"
     ]
    },
    {
     "name": "stdout",
     "output_type": "stream",
     "text": [
      "WIPRO:2019-02-18 00:00:00\n"
     ]
    },
    {
     "name": "stderr",
     "output_type": "stream",
     "text": [
      "04-18 17:35:17:INFO:\t2019-02-20=>2019-02-18\n"
     ]
    },
    {
     "name": "stdout",
     "output_type": "stream",
     "text": [
      "WIPRO:2019-02-20 00:00:00\n"
     ]
    },
    {
     "name": "stderr",
     "output_type": "stream",
     "text": [
      "04-18 17:35:17:INFO:\t2019-02-22=>2019-02-20\n"
     ]
    },
    {
     "name": "stdout",
     "output_type": "stream",
     "text": [
      "WIPRO:2019-02-22 00:00:00\n"
     ]
    },
    {
     "name": "stderr",
     "output_type": "stream",
     "text": [
      "04-18 17:35:17:INFO:\t2019-02-25=>2019-02-22\n"
     ]
    },
    {
     "name": "stdout",
     "output_type": "stream",
     "text": [
      "WIPRO:2019-02-25 00:00:00\n"
     ]
    },
    {
     "name": "stderr",
     "output_type": "stream",
     "text": [
      "04-18 17:35:17:INFO:\t2019-02-27=>2019-02-25\n"
     ]
    },
    {
     "name": "stdout",
     "output_type": "stream",
     "text": [
      "WIPRO:2019-02-27 00:00:00\n"
     ]
    },
    {
     "name": "stderr",
     "output_type": "stream",
     "text": [
      "04-18 17:35:17:INFO:\t2019-02-27=>2019-02-27\n",
      "04-18 17:35:17:INFO:\t2019-03-01=>2019-02-27\n"
     ]
    },
    {
     "name": "stdout",
     "output_type": "stream",
     "text": [
      "WIPRO:2019-03-01 00:00:00\n"
     ]
    },
    {
     "name": "stderr",
     "output_type": "stream",
     "text": [
      "04-18 17:35:17:INFO:\t2019-03-06=>2019-03-01\n"
     ]
    },
    {
     "name": "stdout",
     "output_type": "stream",
     "text": [
      "WIPRO:2019-03-06 00:00:00\n"
     ]
    },
    {
     "name": "stderr",
     "output_type": "stream",
     "text": [
      "04-18 17:35:17:INFO:\t2019-03-07=>2019-03-06\n"
     ]
    },
    {
     "name": "stdout",
     "output_type": "stream",
     "text": [
      "WIPRO:2019-03-07 00:00:00\n"
     ]
    },
    {
     "name": "stderr",
     "output_type": "stream",
     "text": [
      "04-18 17:35:18:INFO:\t2019-03-08=>2019-03-07\n"
     ]
    },
    {
     "name": "stdout",
     "output_type": "stream",
     "text": [
      "WIPRO:2019-03-08 00:00:00\n"
     ]
    },
    {
     "name": "stderr",
     "output_type": "stream",
     "text": [
      "04-18 17:35:18:INFO:\t2019-03-11=>2019-03-08\n"
     ]
    },
    {
     "name": "stdout",
     "output_type": "stream",
     "text": [
      "WIPRO:2019-03-11 00:00:00\n"
     ]
    },
    {
     "name": "stderr",
     "output_type": "stream",
     "text": [
      "04-18 17:35:18:INFO:\t2019-03-13=>2019-03-11\n"
     ]
    },
    {
     "name": "stdout",
     "output_type": "stream",
     "text": [
      "WIPRO:2019-03-13 00:00:00\n"
     ]
    },
    {
     "name": "stderr",
     "output_type": "stream",
     "text": [
      "04-18 17:35:18:INFO:\t2019-03-15=>2019-03-13\n"
     ]
    },
    {
     "name": "stdout",
     "output_type": "stream",
     "text": [
      "WIPRO:2019-03-15 00:00:00\n"
     ]
    },
    {
     "name": "stderr",
     "output_type": "stream",
     "text": [
      "04-18 17:35:18:INFO:\t2019-03-19=>2019-03-15\n"
     ]
    },
    {
     "name": "stdout",
     "output_type": "stream",
     "text": [
      "WIPRO:2019-03-19 00:00:00\n"
     ]
    },
    {
     "name": "stderr",
     "output_type": "stream",
     "text": [
      "04-18 17:35:18:INFO:\t2019-03-22=>2019-03-19\n"
     ]
    },
    {
     "name": "stdout",
     "output_type": "stream",
     "text": [
      "WIPRO:2019-03-22 00:00:00\n"
     ]
    },
    {
     "name": "stderr",
     "output_type": "stream",
     "text": [
      "04-18 17:35:18:INFO:\t2019-03-26=>2019-03-22\n"
     ]
    },
    {
     "name": "stdout",
     "output_type": "stream",
     "text": [
      "WIPRO:2019-03-26 00:00:00\n"
     ]
    },
    {
     "name": "stderr",
     "output_type": "stream",
     "text": [
      "04-18 17:35:18:INFO:\t2019-03-28=>2019-03-26\n"
     ]
    },
    {
     "name": "stdout",
     "output_type": "stream",
     "text": [
      "WIPRO:2019-03-28 00:00:00\n"
     ]
    },
    {
     "name": "stderr",
     "output_type": "stream",
     "text": [
      "04-18 17:35:19:INFO:\t2019-03-29=>2019-03-28\n"
     ]
    },
    {
     "name": "stdout",
     "output_type": "stream",
     "text": [
      "WIPRO:2019-03-29 00:00:00\n"
     ]
    },
    {
     "name": "stderr",
     "output_type": "stream",
     "text": [
      "04-18 17:35:19:INFO:\t2019-04-02=>2019-03-29\n"
     ]
    },
    {
     "name": "stdout",
     "output_type": "stream",
     "text": [
      "WIPRO:2019-04-02 00:00:00\n"
     ]
    },
    {
     "name": "stderr",
     "output_type": "stream",
     "text": [
      "04-18 17:35:19:INFO:\t2019-04-03=>2019-04-02\n"
     ]
    },
    {
     "name": "stdout",
     "output_type": "stream",
     "text": [
      "WIPRO:2019-04-03 00:00:00\n"
     ]
    },
    {
     "name": "stderr",
     "output_type": "stream",
     "text": [
      "04-18 17:35:19:INFO:\t2019-04-05=>2019-04-03\n"
     ]
    },
    {
     "name": "stdout",
     "output_type": "stream",
     "text": [
      "WIPRO:2019-04-05 00:00:00\n"
     ]
    },
    {
     "name": "stderr",
     "output_type": "stream",
     "text": [
      "04-18 17:35:19:INFO:\t2019-04-08=>2019-04-05\n"
     ]
    },
    {
     "name": "stdout",
     "output_type": "stream",
     "text": [
      "WIPRO:2019-04-08 00:00:00\n"
     ]
    },
    {
     "name": "stderr",
     "output_type": "stream",
     "text": [
      "04-18 17:35:19:INFO:\t2019-04-10=>2019-04-08\n"
     ]
    },
    {
     "name": "stdout",
     "output_type": "stream",
     "text": [
      "WIPRO:2019-04-10 00:00:00\n"
     ]
    },
    {
     "name": "stderr",
     "output_type": "stream",
     "text": [
      "04-18 17:35:19:INFO:\t2019-04-11=>2019-04-10\n"
     ]
    },
    {
     "name": "stdout",
     "output_type": "stream",
     "text": [
      "WIPRO:2019-04-11 00:00:00\n"
     ]
    },
    {
     "name": "stderr",
     "output_type": "stream",
     "text": [
      "04-18 17:35:19:INFO:\t2019-04-16=>2019-04-11\n"
     ]
    },
    {
     "name": "stdout",
     "output_type": "stream",
     "text": [
      "WIPRO:2019-04-16 00:00:00\n"
     ]
    },
    {
     "name": "stderr",
     "output_type": "stream",
     "text": [
      "04-18 17:35:19:INFO:\t2019-04-18=>2019-04-16\n"
     ]
    },
    {
     "name": "stdout",
     "output_type": "stream",
     "text": [
      "WIPRO:2019-04-18 00:00:00\n"
     ]
    },
    {
     "name": "stderr",
     "output_type": "stream",
     "text": [
      "04-18 17:35:20:INFO:\t2019-04-23=>2019-04-18\n"
     ]
    },
    {
     "name": "stdout",
     "output_type": "stream",
     "text": [
      "WIPRO:2019-04-23 00:00:00\n"
     ]
    },
    {
     "name": "stderr",
     "output_type": "stream",
     "text": [
      "04-18 17:35:20:INFO:\t2019-04-24=>2019-04-23\n"
     ]
    },
    {
     "name": "stdout",
     "output_type": "stream",
     "text": [
      "WIPRO:2019-04-24 00:00:00\n"
     ]
    },
    {
     "name": "stderr",
     "output_type": "stream",
     "text": [
      "04-18 17:35:20:INFO:\t2019-04-25=>2019-04-24\n"
     ]
    },
    {
     "name": "stdout",
     "output_type": "stream",
     "text": [
      "WIPRO:2019-04-25 00:00:00\n"
     ]
    },
    {
     "name": "stderr",
     "output_type": "stream",
     "text": [
      "04-18 17:35:20:INFO:\t2019-04-30=>2019-04-25\n"
     ]
    },
    {
     "name": "stdout",
     "output_type": "stream",
     "text": [
      "WIPRO:2019-04-30 00:00:00\n"
     ]
    },
    {
     "name": "stderr",
     "output_type": "stream",
     "text": [
      "04-18 17:35:20:INFO:\t2019-05-02=>2019-04-30\n"
     ]
    },
    {
     "name": "stdout",
     "output_type": "stream",
     "text": [
      "WIPRO:2019-05-02 00:00:00\n"
     ]
    },
    {
     "name": "stderr",
     "output_type": "stream",
     "text": [
      "04-18 17:35:20:ERROR:\tUn-supported message: ('1587231317038-0', {'msg': 'stop'}) : <class 'json.decoder.JSONDecodeError'>\n",
      "04-18 17:35:20:INFO:\t2019-05-03=>2019-05-02\n"
     ]
    },
    {
     "name": "stdout",
     "output_type": "stream",
     "text": [
      "WIPRO:2019-05-03 00:00:00\n"
     ]
    },
    {
     "name": "stderr",
     "output_type": "stream",
     "text": [
      "04-18 17:35:20:INFO:\t2019-05-03=>2019-05-03\n",
      "04-18 17:35:20:INFO:\t2019-05-03=>2019-05-03\n",
      "04-18 17:35:20:INFO:\t2019-05-03=>2019-05-03\n",
      "04-18 17:35:20:INFO:\t2019-05-03=>2019-05-03\n",
      "04-18 17:35:20:INFO:\t2019-05-03=>2019-05-03\n",
      "04-18 17:35:20:INFO:\t2019-05-03=>2019-05-03\n",
      "04-18 17:35:20:INFO:\t2019-05-03=>2019-05-03\n",
      "04-18 17:35:20:INFO:\t2019-05-03=>2019-05-03\n",
      "04-18 17:35:20:INFO:\t2019-05-03=>2019-05-03\n",
      "04-18 17:35:20:INFO:\t2019-05-03=>2019-05-03\n",
      "04-18 17:35:20:INFO:\t2019-05-03=>2019-05-03\n",
      "04-18 17:35:20:INFO:\t2019-05-03=>2019-05-03\n",
      "04-18 17:35:20:INFO:\t2019-05-03=>2019-05-03\n",
      "04-18 17:35:20:INFO:\t2019-05-03=>2019-05-03\n",
      "04-18 17:35:20:INFO:\t2019-05-03=>2019-05-03\n",
      "04-18 17:35:20:INFO:\t2019-05-03=>2019-05-03\n",
      "04-18 17:35:20:INFO:\t2019-05-03=>2019-05-03\n",
      "04-18 17:35:21:INFO:\t2019-05-03=>2019-05-03\n",
      "04-18 17:36:02:ERROR:\tUn-supported message: ('1587231362859-0', {'msg': 'stop'}) : <class 'json.decoder.JSONDecodeError'>\n",
      "04-18 17:36:08:ERROR:\tUn-supported message: ('1587231368386-0', {'msg': 'msg'}) : <class 'json.decoder.JSONDecodeError'>\n",
      "04-18 17:36:08:INFO:\tUsing cache: Not downloading data\n",
      "04-18 17:36:08:INFO:\tUsing cache: Not downloading data\n",
      "04-18 17:36:08:INFO:\t2019-01-01=>1999-01-01\n"
     ]
    },
    {
     "name": "stdout",
     "output_type": "stream",
     "text": [
      "TCS:2019-01-01 00:00:00\n"
     ]
    },
    {
     "name": "stderr",
     "output_type": "stream",
     "text": [
      "04-18 17:36:08:INFO:\tUsing cache: Not downloading data\n",
      "04-18 17:36:08:INFO:\t2019-01-02=>2019-01-01\n"
     ]
    },
    {
     "name": "stdout",
     "output_type": "stream",
     "text": [
      "TCS:2019-01-02 00:00:00\n"
     ]
    },
    {
     "name": "stderr",
     "output_type": "stream",
     "text": [
      "04-18 17:36:09:INFO:\t2019-01-03=>2019-01-02\n"
     ]
    },
    {
     "name": "stdout",
     "output_type": "stream",
     "text": [
      "TCS:2019-01-03 00:00:00\n"
     ]
    },
    {
     "name": "stderr",
     "output_type": "stream",
     "text": [
      "04-18 17:36:09:INFO:\t2019-01-07=>2019-01-03\n"
     ]
    },
    {
     "name": "stdout",
     "output_type": "stream",
     "text": [
      "TCS:2019-01-07 00:00:00\n"
     ]
    },
    {
     "name": "stderr",
     "output_type": "stream",
     "text": [
      "04-18 17:36:09:INFO:\t2019-01-08=>2019-01-07\n"
     ]
    },
    {
     "name": "stdout",
     "output_type": "stream",
     "text": [
      "TCS:2019-01-08 00:00:00\n"
     ]
    },
    {
     "name": "stderr",
     "output_type": "stream",
     "text": [
      "04-18 17:36:09:INFO:\t2019-01-10=>2019-01-08\n"
     ]
    },
    {
     "name": "stdout",
     "output_type": "stream",
     "text": [
      "TCS:2019-01-10 00:00:00\n"
     ]
    },
    {
     "name": "stderr",
     "output_type": "stream",
     "text": [
      "04-18 17:36:09:INFO:\t2019-01-11=>2019-01-10\n"
     ]
    },
    {
     "name": "stdout",
     "output_type": "stream",
     "text": [
      "TCS:2019-01-11 00:00:00\n"
     ]
    },
    {
     "name": "stderr",
     "output_type": "stream",
     "text": [
      "04-18 17:36:09:INFO:\t2019-01-14=>2019-01-11\n"
     ]
    },
    {
     "name": "stdout",
     "output_type": "stream",
     "text": [
      "TCS:2019-01-14 00:00:00\n"
     ]
    },
    {
     "name": "stderr",
     "output_type": "stream",
     "text": [
      "04-18 17:36:09:INFO:\t2019-01-15=>2019-01-14\n"
     ]
    },
    {
     "name": "stdout",
     "output_type": "stream",
     "text": [
      "TCS:2019-01-15 00:00:00\n"
     ]
    },
    {
     "name": "stderr",
     "output_type": "stream",
     "text": [
      "04-18 17:36:10:INFO:\t2019-01-16=>2019-01-15\n"
     ]
    },
    {
     "name": "stdout",
     "output_type": "stream",
     "text": [
      "TCS:2019-01-16 00:00:00\n"
     ]
    },
    {
     "name": "stderr",
     "output_type": "stream",
     "text": [
      "04-18 17:36:10:INFO:\t2019-01-17=>2019-01-16\n"
     ]
    },
    {
     "name": "stdout",
     "output_type": "stream",
     "text": [
      "TCS:2019-01-17 00:00:00\n"
     ]
    },
    {
     "name": "stderr",
     "output_type": "stream",
     "text": [
      "04-18 17:36:10:INFO:\t2019-01-17=>2019-01-17\n",
      "04-18 17:36:10:INFO:\t2019-01-21=>2019-01-17\n"
     ]
    },
    {
     "name": "stdout",
     "output_type": "stream",
     "text": [
      "TCS:2019-01-21 00:00:00\n"
     ]
    },
    {
     "name": "stderr",
     "output_type": "stream",
     "text": [
      "04-18 17:36:10:INFO:\t2019-01-22=>2019-01-21\n"
     ]
    },
    {
     "name": "stdout",
     "output_type": "stream",
     "text": [
      "TCS:2019-01-22 00:00:00\n"
     ]
    },
    {
     "name": "stderr",
     "output_type": "stream",
     "text": [
      "04-18 17:36:10:INFO:\t2019-01-23=>2019-01-22\n"
     ]
    },
    {
     "name": "stdout",
     "output_type": "stream",
     "text": [
      "TCS:2019-01-23 00:00:00\n"
     ]
    },
    {
     "name": "stderr",
     "output_type": "stream",
     "text": [
      "04-18 17:36:10:INFO:\t2019-01-23=>2019-01-23\n",
      "04-18 17:36:11:INFO:\t2019-01-25=>2019-01-23\n"
     ]
    },
    {
     "name": "stdout",
     "output_type": "stream",
     "text": [
      "TCS:2019-01-25 00:00:00\n"
     ]
    },
    {
     "name": "stderr",
     "output_type": "stream",
     "text": [
      "04-18 17:36:11:INFO:\t2019-01-28=>2019-01-25\n"
     ]
    },
    {
     "name": "stdout",
     "output_type": "stream",
     "text": [
      "TCS:2019-01-28 00:00:00\n"
     ]
    },
    {
     "name": "stderr",
     "output_type": "stream",
     "text": [
      "04-18 17:36:11:INFO:\t2019-01-29=>2019-01-28\n"
     ]
    },
    {
     "name": "stdout",
     "output_type": "stream",
     "text": [
      "TCS:2019-01-29 00:00:00\n"
     ]
    },
    {
     "name": "stderr",
     "output_type": "stream",
     "text": [
      "04-18 17:36:11:INFO:\t2019-01-30=>2019-01-29\n"
     ]
    },
    {
     "name": "stdout",
     "output_type": "stream",
     "text": [
      "TCS:2019-01-30 00:00:00\n"
     ]
    },
    {
     "name": "stderr",
     "output_type": "stream",
     "text": [
      "04-18 17:36:11:INFO:\t2019-01-30=>2019-01-30\n",
      "04-18 17:36:11:INFO:\t2019-01-31=>2019-01-30\n"
     ]
    },
    {
     "name": "stdout",
     "output_type": "stream",
     "text": [
      "TCS:2019-01-31 00:00:00\n"
     ]
    },
    {
     "name": "stderr",
     "output_type": "stream",
     "text": [
      "04-18 17:36:11:INFO:\t2019-02-01=>2019-01-31\n"
     ]
    },
    {
     "name": "stdout",
     "output_type": "stream",
     "text": [
      "TCS:2019-02-01 00:00:00\n"
     ]
    },
    {
     "name": "stderr",
     "output_type": "stream",
     "text": [
      "04-18 17:36:11:INFO:\t2019-02-04=>2019-02-01\n"
     ]
    },
    {
     "name": "stdout",
     "output_type": "stream",
     "text": [
      "TCS:2019-02-04 00:00:00\n"
     ]
    },
    {
     "name": "stderr",
     "output_type": "stream",
     "text": [
      "04-18 17:36:11:INFO:\t2019-02-06=>2019-02-04\n"
     ]
    },
    {
     "name": "stdout",
     "output_type": "stream",
     "text": [
      "TCS:2019-02-06 00:00:00\n"
     ]
    },
    {
     "name": "stderr",
     "output_type": "stream",
     "text": [
      "04-18 17:36:12:INFO:\t2019-02-11=>2019-02-06\n"
     ]
    },
    {
     "name": "stdout",
     "output_type": "stream",
     "text": [
      "TCS:2019-02-11 00:00:00\n"
     ]
    },
    {
     "name": "stderr",
     "output_type": "stream",
     "text": [
      "04-18 17:36:12:INFO:\t2019-02-12=>2019-02-11\n"
     ]
    },
    {
     "name": "stdout",
     "output_type": "stream",
     "text": [
      "TCS:2019-02-12 00:00:00\n"
     ]
    },
    {
     "name": "stderr",
     "output_type": "stream",
     "text": [
      "04-18 17:36:12:INFO:\t2019-02-14=>2019-02-12\n"
     ]
    },
    {
     "name": "stdout",
     "output_type": "stream",
     "text": [
      "TCS:2019-02-14 00:00:00\n"
     ]
    },
    {
     "name": "stderr",
     "output_type": "stream",
     "text": [
      "04-18 17:36:12:INFO:\t2019-02-19=>2019-02-14\n"
     ]
    },
    {
     "name": "stdout",
     "output_type": "stream",
     "text": [
      "TCS:2019-02-19 00:00:00\n"
     ]
    },
    {
     "name": "stderr",
     "output_type": "stream",
     "text": [
      "04-18 17:36:12:INFO:\t2019-02-20=>2019-02-19\n"
     ]
    },
    {
     "name": "stdout",
     "output_type": "stream",
     "text": [
      "TCS:2019-02-20 00:00:00\n"
     ]
    },
    {
     "name": "stderr",
     "output_type": "stream",
     "text": [
      "04-18 17:36:12:INFO:\t2019-02-21=>2019-02-20\n"
     ]
    },
    {
     "name": "stdout",
     "output_type": "stream",
     "text": [
      "TCS:2019-02-21 00:00:00\n"
     ]
    },
    {
     "name": "stderr",
     "output_type": "stream",
     "text": [
      "04-18 17:36:12:INFO:\t2019-02-22=>2019-02-21\n"
     ]
    },
    {
     "name": "stdout",
     "output_type": "stream",
     "text": [
      "TCS:2019-02-22 00:00:00\n"
     ]
    },
    {
     "name": "stderr",
     "output_type": "stream",
     "text": [
      "04-18 17:36:12:INFO:\t2019-02-25=>2019-02-22\n"
     ]
    },
    {
     "name": "stdout",
     "output_type": "stream",
     "text": [
      "TCS:2019-02-25 00:00:00\n"
     ]
    },
    {
     "name": "stderr",
     "output_type": "stream",
     "text": [
      "04-18 17:36:12:INFO:\t2019-02-26=>2019-02-25\n"
     ]
    },
    {
     "name": "stdout",
     "output_type": "stream",
     "text": [
      "TCS:2019-02-26 00:00:00\n"
     ]
    },
    {
     "name": "stderr",
     "output_type": "stream",
     "text": [
      "04-18 17:36:12:INFO:\t2019-02-27=>2019-02-26\n"
     ]
    },
    {
     "name": "stdout",
     "output_type": "stream",
     "text": [
      "TCS:2019-02-27 00:00:00\n"
     ]
    },
    {
     "name": "stderr",
     "output_type": "stream",
     "text": [
      "04-18 17:36:13:INFO:\t2019-03-01=>2019-02-27\n"
     ]
    },
    {
     "name": "stdout",
     "output_type": "stream",
     "text": [
      "TCS:2019-03-01 00:00:00\n"
     ]
    },
    {
     "name": "stderr",
     "output_type": "stream",
     "text": [
      "04-18 17:36:13:INFO:\t2019-03-05=>2019-03-01\n"
     ]
    },
    {
     "name": "stdout",
     "output_type": "stream",
     "text": [
      "TCS:2019-03-05 00:00:00\n"
     ]
    },
    {
     "name": "stderr",
     "output_type": "stream",
     "text": [
      "04-18 17:36:13:INFO:\t2019-03-05=>2019-03-05\n",
      "04-18 17:36:13:INFO:\t2019-03-05=>2019-03-05\n",
      "04-18 17:36:13:INFO:\t2019-03-05=>2019-03-05\n",
      "04-18 17:36:13:INFO:\t2019-03-05=>2019-03-05\n",
      "04-18 17:36:13:INFO:\t2019-03-05=>2019-03-05\n",
      "04-18 17:36:13:INFO:\t2019-03-05=>2019-03-05\n",
      "04-18 17:36:13:INFO:\t2019-03-05=>2019-03-05\n",
      "04-18 17:36:13:INFO:\t2019-03-05=>2019-03-05\n"
     ]
    }
   ],
   "source": [
    "#freedom_init = threadManager(\"freedom_init\", [\"freedom_init\"], [freedom_init])   \n",
    "\n",
    "#freedom = threadManager(\"freedom\", [\"user_requests_handler\", \"kite_simulator\", \"backtest_handler\", \"trade_handler\",\"order_handler\"], \n",
    "#                        [user_requests_handler, kite_simulator, backtest_handler, trade_handler, order_handler])\n",
    "\n",
    "logger.setLevel(logging.INFO)\n",
    "freedom = threadManager(\"freedom\", [ \"kite_simulator\", \"trade_handler\", \"order_handler\"], \n",
    "                        [kite_simulator, trade_handler, order_handler])\n"
   ]
  },
  {
   "cell_type": "code",
   "execution_count": 11,
   "metadata": {},
   "outputs": [],
   "source": [
    "\n",
    "# Unit Test#1\n",
    "freq='day'\n",
    "exchange='NSE'\n",
    "symbol='WIPRO'\n",
    "fromDate = '2019-01-01'\n",
    "toDate = '2019-05-03'\n",
    "stock=symbol\n",
    "\n",
    "state = 'INIT'\n",
    "hash_key = stock+'_state'\n",
    "\n",
    "try:\n",
    "    all_keys = list(conn.hgetall(hash_key).keys())\n",
    "    conn.hdel(hash_key,*all_keys)\n",
    "except:\n",
    "    pass\n",
    "\n",
    "#conn.hmset(hash_key, {'state':state,'stock':stock, 'qty':0,'price':0,'algo':'','freq':'day','so':0,'target':0})\n",
    "\n",
    "logger.setLevel(logging.INFO)\n",
    "msg = json.dumps({'stock': stock, 'fromDate':fromDate,'toDate':toDate, 'exchange':exchange, 'freq':freq})\n",
    "conn.publish('trade_handler','start')\n",
    "msgid2 = conn.publish('kite_simulator',msg)\n"
   ]
  },
  {
   "cell_type": "code",
   "execution_count": 13,
   "metadata": {},
   "outputs": [],
   "source": [
    "notification_despatcher(None, 'stop')"
   ]
  },
  {
   "cell_type": "code",
   "execution_count": 14,
   "metadata": {},
   "outputs": [],
   "source": [
    "# Unit Test#2\n",
    "stock = 'TCS'\n",
    "msg = json.dumps({'stock': stock, 'fromDate':fromDate,'toDate':toDate, 'exchange':exchange, 'freq':freq})\n",
    "conn.publish('trade_handler','start')\n",
    "msgid2 = conn.publish('kite_simulator',msg)\n",
    "notification_despatcher(None, 'msg')"
   ]
  },
  {
   "cell_type": "code",
   "execution_count": 8,
   "metadata": {},
   "outputs": [
    {
     "data": {
      "text/plain": [
       "['backtest']"
      ]
     },
     "execution_count": 8,
     "metadata": {},
     "output_type": "execute_result"
    }
   ],
   "source": [
    "conn.pubsub_channels()"
   ]
  },
  {
   "cell_type": "code",
   "execution_count": 8,
   "metadata": {},
   "outputs": [
    {
     "name": "stdout",
     "output_type": "stream",
     "text": [
      "True\n"
     ]
    },
    {
     "data": {
      "text/plain": [
       "['order_handler', 'trade_handler', 'backtest']"
      ]
     },
     "execution_count": 8,
     "metadata": {},
     "output_type": "execute_result"
    }
   ],
   "source": [
    "# Shut down\n",
    "conn.publish('kite_simulator','stop')\n",
    "conn.publish('trade_handler','stop')\n",
    "freedom.job.terminate()\n",
    "print(freedom.job.is_alive())\n",
    "conn.pubsub_channels()"
   ]
  },
  {
   "cell_type": "code",
   "execution_count": 5,
   "metadata": {
    "scrolled": false
   },
   "outputs": [
    {
     "name": "stdout",
     "output_type": "stream",
     "text": [
      "WIPRO\n"
     ]
    },
    {
     "data": {
      "text/html": [
       "<div>\n",
       "<style scoped>\n",
       "    .dataframe tbody tr th:only-of-type {\n",
       "        vertical-align: middle;\n",
       "    }\n",
       "\n",
       "    .dataframe tbody tr th {\n",
       "        vertical-align: top;\n",
       "    }\n",
       "\n",
       "    .dataframe thead th {\n",
       "        text-align: right;\n",
       "    }\n",
       "</style>\n",
       "<table border=\"1\" class=\"dataframe\">\n",
       "  <thead>\n",
       "    <tr style=\"text-align: right;\">\n",
       "      <th></th>\n",
       "      <th>close</th>\n",
       "      <th>high</th>\n",
       "      <th>low</th>\n",
       "      <th>open</th>\n",
       "      <th>volume</th>\n",
       "    </tr>\n",
       "  </thead>\n",
       "  <tbody>\n",
       "    <tr>\n",
       "      <th>2018-09-24</th>\n",
       "      <td>250.15</td>\n",
       "      <td>254.14</td>\n",
       "      <td>248.31</td>\n",
       "      <td>248.31</td>\n",
       "      <td>3740868</td>\n",
       "    </tr>\n",
       "    <tr>\n",
       "      <th>2018-09-25</th>\n",
       "      <td>246.84</td>\n",
       "      <td>251.80</td>\n",
       "      <td>245.30</td>\n",
       "      <td>250.38</td>\n",
       "      <td>3389131</td>\n",
       "    </tr>\n",
       "    <tr>\n",
       "      <th>2018-09-26</th>\n",
       "      <td>240.04</td>\n",
       "      <td>247.33</td>\n",
       "      <td>237.89</td>\n",
       "      <td>246.77</td>\n",
       "      <td>7864825</td>\n",
       "    </tr>\n",
       "    <tr>\n",
       "      <th>2018-09-27</th>\n",
       "      <td>239.81</td>\n",
       "      <td>243.35</td>\n",
       "      <td>238.12</td>\n",
       "      <td>242.03</td>\n",
       "      <td>17997289</td>\n",
       "    </tr>\n",
       "    <tr>\n",
       "      <th>2018-09-28</th>\n",
       "      <td>243.61</td>\n",
       "      <td>245.60</td>\n",
       "      <td>237.14</td>\n",
       "      <td>239.85</td>\n",
       "      <td>6912444</td>\n",
       "    </tr>\n",
       "    <tr>\n",
       "      <th>...</th>\n",
       "      <td>...</td>\n",
       "      <td>...</td>\n",
       "      <td>...</td>\n",
       "      <td>...</td>\n",
       "      <td>...</td>\n",
       "    </tr>\n",
       "    <tr>\n",
       "      <th>2019-04-22</th>\n",
       "      <td>288.25</td>\n",
       "      <td>289.00</td>\n",
       "      <td>285.10</td>\n",
       "      <td>285.50</td>\n",
       "      <td>8412054</td>\n",
       "    </tr>\n",
       "    <tr>\n",
       "      <th>2019-04-23</th>\n",
       "      <td>291.10</td>\n",
       "      <td>291.85</td>\n",
       "      <td>286.70</td>\n",
       "      <td>289.70</td>\n",
       "      <td>6177784</td>\n",
       "    </tr>\n",
       "    <tr>\n",
       "      <th>2019-04-24</th>\n",
       "      <td>293.05</td>\n",
       "      <td>294.30</td>\n",
       "      <td>290.20</td>\n",
       "      <td>292.05</td>\n",
       "      <td>9149069</td>\n",
       "    </tr>\n",
       "    <tr>\n",
       "      <th>2019-04-25</th>\n",
       "      <td>295.20</td>\n",
       "      <td>295.95</td>\n",
       "      <td>292.85</td>\n",
       "      <td>293.05</td>\n",
       "      <td>10390816</td>\n",
       "    </tr>\n",
       "    <tr>\n",
       "      <th>2019-04-26</th>\n",
       "      <td>294.80</td>\n",
       "      <td>296.65</td>\n",
       "      <td>293.50</td>\n",
       "      <td>296.40</td>\n",
       "      <td>6196551</td>\n",
       "    </tr>\n",
       "  </tbody>\n",
       "</table>\n",
       "<p>145 rows × 5 columns</p>\n",
       "</div>"
      ],
      "text/plain": [
       "             close    high     low    open    volume\n",
       "2018-09-24  250.15  254.14  248.31  248.31   3740868\n",
       "2018-09-25  246.84  251.80  245.30  250.38   3389131\n",
       "2018-09-26  240.04  247.33  237.89  246.77   7864825\n",
       "2018-09-27  239.81  243.35  238.12  242.03  17997289\n",
       "2018-09-28  243.61  245.60  237.14  239.85   6912444\n",
       "...            ...     ...     ...     ...       ...\n",
       "2019-04-22  288.25  289.00  285.10  285.50   8412054\n",
       "2019-04-23  291.10  291.85  286.70  289.70   6177784\n",
       "2019-04-24  293.05  294.30  290.20  292.05   9149069\n",
       "2019-04-25  295.20  295.95  292.85  293.05  10390816\n",
       "2019-04-26  294.80  296.65  293.50  296.40   6196551\n",
       "\n",
       "[145 rows x 5 columns]"
      ]
     },
     "execution_count": 5,
     "metadata": {},
     "output_type": "execute_result"
    }
   ],
   "source": [
    "# Debug\n",
    "stock='WIPRO'\n",
    "#notification_despatcher(None, 'msg')\n",
    "print(stock)\n",
    "pd.read_json(conn.hget(stock+'_state','ohlc'))"
   ]
  },
  {
   "cell_type": "code",
   "execution_count": 16,
   "metadata": {
    "scrolled": true
   },
   "outputs": [
    {
     "data": {
      "text/html": [
       "<div>\n",
       "<style scoped>\n",
       "    .dataframe tbody tr th:only-of-type {\n",
       "        vertical-align: middle;\n",
       "    }\n",
       "\n",
       "    .dataframe tbody tr th {\n",
       "        vertical-align: top;\n",
       "    }\n",
       "\n",
       "    .dataframe thead th {\n",
       "        text-align: right;\n",
       "    }\n",
       "</style>\n",
       "<table border=\"1\" class=\"dataframe\">\n",
       "  <thead>\n",
       "    <tr style=\"text-align: right;\">\n",
       "      <th></th>\n",
       "      <th>close</th>\n",
       "      <th>high</th>\n",
       "      <th>low</th>\n",
       "      <th>open</th>\n",
       "      <th>volume</th>\n",
       "    </tr>\n",
       "  </thead>\n",
       "  <tbody>\n",
       "    <tr>\n",
       "      <th>2019-02-15</th>\n",
       "      <td>2029.70</td>\n",
       "      <td>2052.00</td>\n",
       "      <td>2010.95</td>\n",
       "      <td>2049.00</td>\n",
       "      <td>1930065</td>\n",
       "    </tr>\n",
       "    <tr>\n",
       "      <th>2019-02-18</th>\n",
       "      <td>1970.30</td>\n",
       "      <td>2041.95</td>\n",
       "      <td>1962.65</td>\n",
       "      <td>2037.60</td>\n",
       "      <td>2942184</td>\n",
       "    </tr>\n",
       "    <tr>\n",
       "      <th>2019-02-19</th>\n",
       "      <td>1904.80</td>\n",
       "      <td>1971.00</td>\n",
       "      <td>1892.00</td>\n",
       "      <td>1970.00</td>\n",
       "      <td>4408554</td>\n",
       "    </tr>\n",
       "    <tr>\n",
       "      <th>2019-02-20</th>\n",
       "      <td>1914.75</td>\n",
       "      <td>1933.80</td>\n",
       "      <td>1881.30</td>\n",
       "      <td>1915.00</td>\n",
       "      <td>4645778</td>\n",
       "    </tr>\n",
       "    <tr>\n",
       "      <th>2019-02-21</th>\n",
       "      <td>1914.20</td>\n",
       "      <td>1940.00</td>\n",
       "      <td>1897.05</td>\n",
       "      <td>1914.75</td>\n",
       "      <td>4683919</td>\n",
       "    </tr>\n",
       "    <tr>\n",
       "      <th>2019-02-22</th>\n",
       "      <td>1925.65</td>\n",
       "      <td>1930.00</td>\n",
       "      <td>1905.10</td>\n",
       "      <td>1917.20</td>\n",
       "      <td>2271955</td>\n",
       "    </tr>\n",
       "    <tr>\n",
       "      <th>2019-02-25</th>\n",
       "      <td>1985.15</td>\n",
       "      <td>1990.00</td>\n",
       "      <td>1930.50</td>\n",
       "      <td>1932.50</td>\n",
       "      <td>2934880</td>\n",
       "    </tr>\n",
       "    <tr>\n",
       "      <th>2019-02-26</th>\n",
       "      <td>2038.70</td>\n",
       "      <td>2045.15</td>\n",
       "      <td>1972.25</td>\n",
       "      <td>1984.00</td>\n",
       "      <td>6453309</td>\n",
       "    </tr>\n",
       "    <tr>\n",
       "      <th>2019-02-27</th>\n",
       "      <td>2058.10</td>\n",
       "      <td>2074.95</td>\n",
       "      <td>2022.00</td>\n",
       "      <td>2040.00</td>\n",
       "      <td>4732082</td>\n",
       "    </tr>\n",
       "    <tr>\n",
       "      <th>2019-02-28</th>\n",
       "      <td>1983.45</td>\n",
       "      <td>2071.35</td>\n",
       "      <td>1977.60</td>\n",
       "      <td>2060.00</td>\n",
       "      <td>8454295</td>\n",
       "    </tr>\n",
       "    <tr>\n",
       "      <th>2019-03-01</th>\n",
       "      <td>1995.40</td>\n",
       "      <td>2005.00</td>\n",
       "      <td>1980.35</td>\n",
       "      <td>1995.05</td>\n",
       "      <td>4148548</td>\n",
       "    </tr>\n",
       "    <tr>\n",
       "      <th>2019-03-05</th>\n",
       "      <td>1988.10</td>\n",
       "      <td>2007.00</td>\n",
       "      <td>1976.60</td>\n",
       "      <td>2005.00</td>\n",
       "      <td>2449622</td>\n",
       "    </tr>\n",
       "    <tr>\n",
       "      <th>2019-03-06</th>\n",
       "      <td>1999.60</td>\n",
       "      <td>2015.00</td>\n",
       "      <td>1985.05</td>\n",
       "      <td>1989.30</td>\n",
       "      <td>2635047</td>\n",
       "    </tr>\n",
       "    <tr>\n",
       "      <th>2019-03-07</th>\n",
       "      <td>2013.30</td>\n",
       "      <td>2024.05</td>\n",
       "      <td>2000.20</td>\n",
       "      <td>2005.00</td>\n",
       "      <td>2539884</td>\n",
       "    </tr>\n",
       "    <tr>\n",
       "      <th>2019-03-08</th>\n",
       "      <td>2022.70</td>\n",
       "      <td>2033.00</td>\n",
       "      <td>2010.05</td>\n",
       "      <td>2025.00</td>\n",
       "      <td>2031071</td>\n",
       "    </tr>\n",
       "    <tr>\n",
       "      <th>2019-03-11</th>\n",
       "      <td>2014.80</td>\n",
       "      <td>2033.00</td>\n",
       "      <td>2003.65</td>\n",
       "      <td>2028.90</td>\n",
       "      <td>3111689</td>\n",
       "    </tr>\n",
       "    <tr>\n",
       "      <th>2019-03-12</th>\n",
       "      <td>2012.45</td>\n",
       "      <td>2024.80</td>\n",
       "      <td>2003.00</td>\n",
       "      <td>2014.05</td>\n",
       "      <td>2658550</td>\n",
       "    </tr>\n",
       "    <tr>\n",
       "      <th>2019-03-13</th>\n",
       "      <td>2000.50</td>\n",
       "      <td>2015.90</td>\n",
       "      <td>1978.60</td>\n",
       "      <td>2013.00</td>\n",
       "      <td>1833163</td>\n",
       "    </tr>\n",
       "    <tr>\n",
       "      <th>2019-03-14</th>\n",
       "      <td>1987.40</td>\n",
       "      <td>2007.80</td>\n",
       "      <td>1981.00</td>\n",
       "      <td>2004.95</td>\n",
       "      <td>1905495</td>\n",
       "    </tr>\n",
       "    <tr>\n",
       "      <th>2019-03-15</th>\n",
       "      <td>2039.95</td>\n",
       "      <td>2068.95</td>\n",
       "      <td>1991.00</td>\n",
       "      <td>1998.90</td>\n",
       "      <td>5184318</td>\n",
       "    </tr>\n",
       "    <tr>\n",
       "      <th>2019-03-18</th>\n",
       "      <td>2022.80</td>\n",
       "      <td>2064.60</td>\n",
       "      <td>2011.00</td>\n",
       "      <td>2043.00</td>\n",
       "      <td>2349915</td>\n",
       "    </tr>\n",
       "    <tr>\n",
       "      <th>2019-03-19</th>\n",
       "      <td>2022.80</td>\n",
       "      <td>2030.00</td>\n",
       "      <td>1995.10</td>\n",
       "      <td>2030.00</td>\n",
       "      <td>2373993</td>\n",
       "    </tr>\n",
       "    <tr>\n",
       "      <th>2019-03-20</th>\n",
       "      <td>2015.05</td>\n",
       "      <td>2044.80</td>\n",
       "      <td>2000.00</td>\n",
       "      <td>2028.00</td>\n",
       "      <td>3091165</td>\n",
       "    </tr>\n",
       "    <tr>\n",
       "      <th>2019-03-22</th>\n",
       "      <td>2005.65</td>\n",
       "      <td>2016.00</td>\n",
       "      <td>1983.30</td>\n",
       "      <td>2015.00</td>\n",
       "      <td>3148149</td>\n",
       "    </tr>\n",
       "    <tr>\n",
       "      <th>2019-03-25</th>\n",
       "      <td>1984.25</td>\n",
       "      <td>2007.80</td>\n",
       "      <td>1977.20</td>\n",
       "      <td>2007.80</td>\n",
       "      <td>2429205</td>\n",
       "    </tr>\n",
       "    <tr>\n",
       "      <th>2019-03-26</th>\n",
       "      <td>1982.65</td>\n",
       "      <td>1994.95</td>\n",
       "      <td>1958.05</td>\n",
       "      <td>1984.00</td>\n",
       "      <td>2316539</td>\n",
       "    </tr>\n",
       "    <tr>\n",
       "      <th>2019-03-27</th>\n",
       "      <td>1967.90</td>\n",
       "      <td>1998.00</td>\n",
       "      <td>1961.00</td>\n",
       "      <td>1994.00</td>\n",
       "      <td>2266166</td>\n",
       "    </tr>\n",
       "    <tr>\n",
       "      <th>2019-03-28</th>\n",
       "      <td>2000.30</td>\n",
       "      <td>2014.60</td>\n",
       "      <td>1972.80</td>\n",
       "      <td>1980.00</td>\n",
       "      <td>4054489</td>\n",
       "    </tr>\n",
       "    <tr>\n",
       "      <th>2019-03-29</th>\n",
       "      <td>2001.65</td>\n",
       "      <td>2024.90</td>\n",
       "      <td>1983.55</td>\n",
       "      <td>2019.00</td>\n",
       "      <td>2948955</td>\n",
       "    </tr>\n",
       "    <tr>\n",
       "      <th>2019-04-01</th>\n",
       "      <td>2031.65</td>\n",
       "      <td>2039.95</td>\n",
       "      <td>2008.25</td>\n",
       "      <td>2010.00</td>\n",
       "      <td>2095740</td>\n",
       "    </tr>\n",
       "    <tr>\n",
       "      <th>2019-04-02</th>\n",
       "      <td>2079.30</td>\n",
       "      <td>2086.00</td>\n",
       "      <td>2037.00</td>\n",
       "      <td>2037.10</td>\n",
       "      <td>3719663</td>\n",
       "    </tr>\n",
       "    <tr>\n",
       "      <th>2019-04-03</th>\n",
       "      <td>2079.30</td>\n",
       "      <td>2089.60</td>\n",
       "      <td>2058.10</td>\n",
       "      <td>2085.00</td>\n",
       "      <td>2939886</td>\n",
       "    </tr>\n",
       "    <tr>\n",
       "      <th>2019-04-04</th>\n",
       "      <td>2014.50</td>\n",
       "      <td>2079.70</td>\n",
       "      <td>2007.40</td>\n",
       "      <td>2078.15</td>\n",
       "      <td>4397518</td>\n",
       "    </tr>\n",
       "    <tr>\n",
       "      <th>2019-04-05</th>\n",
       "      <td>2048.30</td>\n",
       "      <td>2054.40</td>\n",
       "      <td>2018.80</td>\n",
       "      <td>2028.65</td>\n",
       "      <td>3152103</td>\n",
       "    </tr>\n",
       "    <tr>\n",
       "      <th>2019-04-08</th>\n",
       "      <td>2070.75</td>\n",
       "      <td>2075.00</td>\n",
       "      <td>2032.70</td>\n",
       "      <td>2059.00</td>\n",
       "      <td>2194294</td>\n",
       "    </tr>\n",
       "    <tr>\n",
       "      <th>2019-04-09</th>\n",
       "      <td>2091.50</td>\n",
       "      <td>2098.00</td>\n",
       "      <td>2057.65</td>\n",
       "      <td>2070.00</td>\n",
       "      <td>2690970</td>\n",
       "    </tr>\n",
       "    <tr>\n",
       "      <th>2019-04-10</th>\n",
       "      <td>2040.25</td>\n",
       "      <td>2085.50</td>\n",
       "      <td>2036.00</td>\n",
       "      <td>2083.00</td>\n",
       "      <td>3313062</td>\n",
       "    </tr>\n",
       "    <tr>\n",
       "      <th>2019-04-11</th>\n",
       "      <td>2019.50</td>\n",
       "      <td>2055.00</td>\n",
       "      <td>2013.65</td>\n",
       "      <td>2045.00</td>\n",
       "      <td>3422442</td>\n",
       "    </tr>\n",
       "    <tr>\n",
       "      <th>2019-04-12</th>\n",
       "      <td>2014.50</td>\n",
       "      <td>2039.00</td>\n",
       "      <td>2007.00</td>\n",
       "      <td>2038.00</td>\n",
       "      <td>3198471</td>\n",
       "    </tr>\n",
       "    <tr>\n",
       "      <th>2019-04-15</th>\n",
       "      <td>2113.30</td>\n",
       "      <td>2119.80</td>\n",
       "      <td>2041.00</td>\n",
       "      <td>2070.00</td>\n",
       "      <td>9189201</td>\n",
       "    </tr>\n",
       "    <tr>\n",
       "      <th>2019-04-16</th>\n",
       "      <td>2131.80</td>\n",
       "      <td>2155.95</td>\n",
       "      <td>2115.55</td>\n",
       "      <td>2120.00</td>\n",
       "      <td>5771952</td>\n",
       "    </tr>\n",
       "    <tr>\n",
       "      <th>2019-04-18</th>\n",
       "      <td>2150.05</td>\n",
       "      <td>2155.00</td>\n",
       "      <td>2114.20</td>\n",
       "      <td>2149.90</td>\n",
       "      <td>3413728</td>\n",
       "    </tr>\n",
       "    <tr>\n",
       "      <th>2019-04-22</th>\n",
       "      <td>2161.45</td>\n",
       "      <td>2176.00</td>\n",
       "      <td>2145.60</td>\n",
       "      <td>2148.00</td>\n",
       "      <td>2007135</td>\n",
       "    </tr>\n",
       "    <tr>\n",
       "      <th>2019-04-23</th>\n",
       "      <td>2155.05</td>\n",
       "      <td>2165.50</td>\n",
       "      <td>2134.05</td>\n",
       "      <td>2163.00</td>\n",
       "      <td>2163524</td>\n",
       "    </tr>\n",
       "    <tr>\n",
       "      <th>2019-04-24</th>\n",
       "      <td>2183.45</td>\n",
       "      <td>2195.00</td>\n",
       "      <td>2156.10</td>\n",
       "      <td>2158.00</td>\n",
       "      <td>3003071</td>\n",
       "    </tr>\n",
       "    <tr>\n",
       "      <th>2019-04-25</th>\n",
       "      <td>2195.00</td>\n",
       "      <td>2205.00</td>\n",
       "      <td>2168.05</td>\n",
       "      <td>2175.00</td>\n",
       "      <td>4211526</td>\n",
       "    </tr>\n",
       "    <tr>\n",
       "      <th>2019-04-26</th>\n",
       "      <td>2238.55</td>\n",
       "      <td>2243.95</td>\n",
       "      <td>2193.15</td>\n",
       "      <td>2203.00</td>\n",
       "      <td>2716958</td>\n",
       "    </tr>\n",
       "    <tr>\n",
       "      <th>2019-04-30</th>\n",
       "      <td>2260.35</td>\n",
       "      <td>2266.95</td>\n",
       "      <td>2230.10</td>\n",
       "      <td>2238.55</td>\n",
       "      <td>3488395</td>\n",
       "    </tr>\n",
       "    <tr>\n",
       "      <th>2019-05-02</th>\n",
       "      <td>2215.40</td>\n",
       "      <td>2259.40</td>\n",
       "      <td>2211.10</td>\n",
       "      <td>2255.00</td>\n",
       "      <td>2457699</td>\n",
       "    </tr>\n",
       "    <tr>\n",
       "      <th>2019-05-03</th>\n",
       "      <td>2132.00</td>\n",
       "      <td>2186.05</td>\n",
       "      <td>2125.00</td>\n",
       "      <td>2185.00</td>\n",
       "      <td>3780886</td>\n",
       "    </tr>\n",
       "  </tbody>\n",
       "</table>\n",
       "</div>"
      ],
      "text/plain": [
       "              close     high      low     open   volume\n",
       "2019-02-15  2029.70  2052.00  2010.95  2049.00  1930065\n",
       "2019-02-18  1970.30  2041.95  1962.65  2037.60  2942184\n",
       "2019-02-19  1904.80  1971.00  1892.00  1970.00  4408554\n",
       "2019-02-20  1914.75  1933.80  1881.30  1915.00  4645778\n",
       "2019-02-21  1914.20  1940.00  1897.05  1914.75  4683919\n",
       "2019-02-22  1925.65  1930.00  1905.10  1917.20  2271955\n",
       "2019-02-25  1985.15  1990.00  1930.50  1932.50  2934880\n",
       "2019-02-26  2038.70  2045.15  1972.25  1984.00  6453309\n",
       "2019-02-27  2058.10  2074.95  2022.00  2040.00  4732082\n",
       "2019-02-28  1983.45  2071.35  1977.60  2060.00  8454295\n",
       "2019-03-01  1995.40  2005.00  1980.35  1995.05  4148548\n",
       "2019-03-05  1988.10  2007.00  1976.60  2005.00  2449622\n",
       "2019-03-06  1999.60  2015.00  1985.05  1989.30  2635047\n",
       "2019-03-07  2013.30  2024.05  2000.20  2005.00  2539884\n",
       "2019-03-08  2022.70  2033.00  2010.05  2025.00  2031071\n",
       "2019-03-11  2014.80  2033.00  2003.65  2028.90  3111689\n",
       "2019-03-12  2012.45  2024.80  2003.00  2014.05  2658550\n",
       "2019-03-13  2000.50  2015.90  1978.60  2013.00  1833163\n",
       "2019-03-14  1987.40  2007.80  1981.00  2004.95  1905495\n",
       "2019-03-15  2039.95  2068.95  1991.00  1998.90  5184318\n",
       "2019-03-18  2022.80  2064.60  2011.00  2043.00  2349915\n",
       "2019-03-19  2022.80  2030.00  1995.10  2030.00  2373993\n",
       "2019-03-20  2015.05  2044.80  2000.00  2028.00  3091165\n",
       "2019-03-22  2005.65  2016.00  1983.30  2015.00  3148149\n",
       "2019-03-25  1984.25  2007.80  1977.20  2007.80  2429205\n",
       "2019-03-26  1982.65  1994.95  1958.05  1984.00  2316539\n",
       "2019-03-27  1967.90  1998.00  1961.00  1994.00  2266166\n",
       "2019-03-28  2000.30  2014.60  1972.80  1980.00  4054489\n",
       "2019-03-29  2001.65  2024.90  1983.55  2019.00  2948955\n",
       "2019-04-01  2031.65  2039.95  2008.25  2010.00  2095740\n",
       "2019-04-02  2079.30  2086.00  2037.00  2037.10  3719663\n",
       "2019-04-03  2079.30  2089.60  2058.10  2085.00  2939886\n",
       "2019-04-04  2014.50  2079.70  2007.40  2078.15  4397518\n",
       "2019-04-05  2048.30  2054.40  2018.80  2028.65  3152103\n",
       "2019-04-08  2070.75  2075.00  2032.70  2059.00  2194294\n",
       "2019-04-09  2091.50  2098.00  2057.65  2070.00  2690970\n",
       "2019-04-10  2040.25  2085.50  2036.00  2083.00  3313062\n",
       "2019-04-11  2019.50  2055.00  2013.65  2045.00  3422442\n",
       "2019-04-12  2014.50  2039.00  2007.00  2038.00  3198471\n",
       "2019-04-15  2113.30  2119.80  2041.00  2070.00  9189201\n",
       "2019-04-16  2131.80  2155.95  2115.55  2120.00  5771952\n",
       "2019-04-18  2150.05  2155.00  2114.20  2149.90  3413728\n",
       "2019-04-22  2161.45  2176.00  2145.60  2148.00  2007135\n",
       "2019-04-23  2155.05  2165.50  2134.05  2163.00  2163524\n",
       "2019-04-24  2183.45  2195.00  2156.10  2158.00  3003071\n",
       "2019-04-25  2195.00  2205.00  2168.05  2175.00  4211526\n",
       "2019-04-26  2238.55  2243.95  2193.15  2203.00  2716958\n",
       "2019-04-30  2260.35  2266.95  2230.10  2238.55  3488395\n",
       "2019-05-02  2215.40  2259.40  2211.10  2255.00  2457699\n",
       "2019-05-03  2132.00  2186.05  2125.00  2185.00  3780886"
      ]
     },
     "execution_count": 16,
     "metadata": {},
     "output_type": "execute_result"
    }
   ],
   "source": [
    "pd.set_option('display.max_rows', 50)\n",
    "pd.read_json(conn.hget(stock+'_state','ohlc')).tail(50)"
   ]
  },
  {
   "cell_type": "code",
   "execution_count": null,
   "metadata": {},
   "outputs": [],
   "source": []
  },
  {
   "cell_type": "raw",
   "metadata": {},
   "source": [
    "msg = [['msgBufferQueue', [('1587153010498-0', {'stock': 'TCS', 'fromDate': '2019-01-01', 'toDate': '2019-05-03', 'exchange': 'NSE', 'freq': 'day'})]]]"
   ]
  },
  {
   "cell_type": "code",
   "execution_count": null,
   "metadata": {},
   "outputs": [],
   "source": []
  },
  {
   "cell_type": "code",
   "execution_count": null,
   "metadata": {},
   "outputs": [],
   "source": []
  },
  {
   "cell_type": "code",
   "execution_count": null,
   "metadata": {},
   "outputs": [],
   "source": [
    "\n"
   ]
  },
  {
   "cell_type": "code",
   "execution_count": null,
   "metadata": {},
   "outputs": [],
   "source": []
  },
  {
   "cell_type": "markdown",
   "metadata": {},
   "source": [
    "## Scratchpad"
   ]
  },
  {
   "cell_type": "code",
   "execution_count": null,
   "metadata": {},
   "outputs": [],
   "source": [
    "\n",
    " \n",
    "if False:\n",
    "    msg_ohlc = {\"NSE:WIPRO\": {\"ohlc\": {\"date\": \"2019-1-1\", \"open\": 1896.0, \"high\": 1910.0, \"low\": 1885.0, \"close\": 1902.8, \"volume\": 1094883.0}}}\n",
    "\n",
    "    stock='WIPRO'\n",
    "    state = 'INIT'\n",
    "    hash_key = stock+'_state'\n",
    "\n",
    "    try:\n",
    "        all_keys = list(conn.hgetall(hash_key).keys())\n",
    "        conn.hdel(hash_key,*all_keys)\n",
    "    except:\n",
    "        pass\n",
    "\n",
    "    conn.hmset(hash_key, {'state':state,'stock':stock, 'qty':0,'price':0,'algo':'','freq':'day','so':0,'target':0})\n",
    "\n",
    "    logger.setLevel(logging.INFO)\n",
    "    trade_job(json.dumps(msg_ohlc))\n",
    "    #trade_job(json.dumps(msg_ohlc))\n",
    "    #trade_job(json.dumps(msg_ohlc))\n",
    "    #trade_job(json.dumps(msg_ohlc))\n",
    "    #trade_job(json.dumps(msg_ohlc))\n",
    "    #trade_job(json.dumps(msg_ohlc))\n",
    "\n",
    "if False:\n",
    "    msg_ohlc = {\"NSE:WIPRO\": {\"ohlc\": {\"date\": \"2019-1-3\", \"open\": 1896.0, \"high\": 1910.0, \"low\": 1885.0, \"close\": 1902.8, \"volume\": 1094883.0}}}\n",
    "    trade_job(json.dumps(msg_ohlc))"
   ]
  }
 ],
 "metadata": {
  "kernelspec": {
   "display_name": "Python 3",
   "language": "python",
   "name": "python3"
  },
  "language_info": {
   "codemirror_mode": {
    "name": "ipython",
    "version": 3
   },
   "file_extension": ".py",
   "mimetype": "text/x-python",
   "name": "python",
   "nbconvert_exporter": "python",
   "pygments_lexer": "ipython3",
   "version": "3.7.6"
  }
 },
 "nbformat": 4,
 "nbformat_minor": 4
}
