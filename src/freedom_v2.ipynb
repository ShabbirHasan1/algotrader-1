{
 "cells": [
  {
   "cell_type": "markdown",
   "metadata": {},
   "source": [
    "### TODO"
   ]
  },
  {
   "cell_type": "markdown",
   "metadata": {},
   "source": [
    "## Thread functions"
   ]
  },
  {
   "cell_type": "code",
   "execution_count": 1,
   "metadata": {},
   "outputs": [],
   "source": [
    "from lib.multitasking_lib import *\n",
    "#from lib.kite_helper_lib import *\n",
    "import sys"
   ]
  },
  {
   "cell_type": "code",
   "execution_count": null,
   "metadata": {},
   "outputs": [],
   "source": [
    "# Long Strategies\n",
    "def long_indicators(s):\n",
    "    temp_df = 0\n",
    "    #temp_df = temp_df | (REF(s.fastk,1) <=20)&(s.fastk>20)\n",
    "    #temp_df = temp_df | CROSSOVER(s.fastk, s.fastd)\n",
    "    #temp_df = temp_df | (REF(s.macd,1) <=0)&(s.macd>0)\n",
    "    #temp_df = temp_df | CROSSOVER(s.macd, s.macdsignal)\n",
    "    temp_df = temp_df | (REF(s.rsi,1) <=40)\n",
    "    #temp_df = temp_df | (s.CLOSE.shift(1) == s.min.shift(1)) & (s.CLOSE > s.OPEN)\n",
    "    #temp_df = temp_df & CROSSOVER(s.BBB, s.CLOSE)\n",
    "\n",
    "    return pd.DataFrame(  temp_df, columns=[\"buy\"] )\n",
    "\n",
    "# Short Strategies\n",
    "def short_indicators(s):\n",
    "    temp_df = 0\n",
    "    #temp_df = temp_df | (REF(s.fastk,1) >=80)&(s.fastk<80)\n",
    "    #temp_df = temp_df | CROSSOVER(s.fastd, s.fastk)\n",
    "    #temp_df = temp_df | (REF(s.macd,1) >=0)&(s.macd<0)\n",
    "    #temp_df = temp_df | CROSSOVER(s.macdsignal, s.macd)\n",
    "    temp_df = temp_df | (REF(s.rsi,1) >=60)\n",
    "    #temp_df = temp_df & CROSSOVER(s.CLOSE, s.BBT)\n",
    "    return pd.DataFrame( temp_df, columns=[\"sell\"])\n",
    "\n",
    "\n",
    "\n",
    "def long_breakout(s):\n",
    "    temp_df = s.haCLOSE >= s.BBT.shift(1)\n",
    "    temp_df = temp_df | (s.haCLOSE >= s.haOPEN.shift(2))\n",
    "    temp_df = temp_df & ( CROSSOVER(s.OPEN, s.BBT) | CROSSOVER(s.OPEN, s.BBB) | CROSSOVER(s.OPEN, s.BBM))\n",
    "    return pd.DataFrame( temp_df , columns=[\"buy\"])\n",
    "\n",
    "def short_breakout(s):\n",
    "    temp_df = s.haOPEN <= s.BBB.shift(1)\n",
    "    temp_df = temp_df | (s.haCLOSE <= s.haOPEN.shift(2))\n",
    "    temp_df = temp_df & ( CROSSOVER(s.BBT, s.OPEN) | CROSSOVER(s.BBB, s.OPEN) | CROSSOVER(s.BBM, s.OPEN))\n",
    "    return pd.DataFrame( temp_df , columns=[\"sell\"])\n",
    "\n",
    "def long_ha(s):\n",
    "    temp_df = (REF(s.haCLOSE,3) < REF(s.haOPEN,3)) & (REF(s.haCLOSE,2) < REF(s.haOPEN,2)) & (REF(s.haCLOSE,1) > REF(s.haOPEN,1)) & (s.haCLOSE > s.haOPEN)  \n",
    "    #temp_df = temp_df & (s.rsi < 40 )\n",
    "    return pd.DataFrame( temp_df , columns=[\"buy\"])\n",
    "\n",
    "def short_ha(s):\n",
    "    temp_df = (REF(s.haCLOSE,3) > REF(s.haOPEN,3)) & (REF(s.haCLOSE,2) > REF(s.haOPEN,2)) & (REF(s.haCLOSE,1) < REF(s.haOPEN,1)) & (s.haCLOSE < s.haOPEN)\n",
    "    #temp_df = temp_df & (s.rsi > 60 )\n",
    "    return pd.DataFrame( temp_df , columns=[\"sell\"])\n",
    "    \n"
   ]
  },
  {
   "cell_type": "markdown",
   "metadata": {},
   "source": [
    "## Definition of handler functions"
   ]
  },
  {
   "cell_type": "code",
   "execution_count": null,
   "metadata": {
    "scrolled": false
   },
   "outputs": [],
   "source": [
    "#freedom_init = threadManager(\"freedom_init\", [\"freedom_init\"], [freedom_init])   \n",
    "\n",
    "#freedom = threadManager(\"freedom\", [\"user_requests_handler\", \"kite_simulator\", \"backtest_handler\", \"trade_handler\",\"order_handler\"], \n",
    "#                        [user_requests_handler, kite_simulator, backtest_handler, trade_handler, order_handler])\n",
    "\n",
    "logger.setLevel(21)\n",
    "freedom = threadManager(\"freedom\", [ \"kite_simulator\", \"trade_handler\", \"order_handler\"], \n",
    "                        [kite_simulator, trade_handler, order_handler])\n"
   ]
  },
  {
   "cell_type": "code",
   "execution_count": null,
   "metadata": {},
   "outputs": [],
   "source": [
    "# Shut down\n",
    "conn.publish('kite_simulator','stop')\n",
    "conn.publish('trade_handler','stop')\n",
    "freedom.job.terminate()\n",
    "print(freedom.job.is_alive())\n",
    "conn.pubsub_channels()"
   ]
  },
  {
   "cell_type": "markdown",
   "metadata": {},
   "source": [
    "## Redis Console"
   ]
  },
  {
   "cell_type": "code",
   "execution_count": 3,
   "metadata": {},
   "outputs": [],
   "source": [
    "from redis import Redis\n",
    "import json\n",
    "\n",
    "conn = Redis(host='redis', port=6379, db=0, charset=\"utf-8\", decode_responses=True)"
   ]
  },
  {
   "cell_type": "code",
   "execution_count": null,
   "metadata": {},
   "outputs": [],
   "source": [
    "conn.xadd('msgBufferQueue',{'msg': 'next'})"
   ]
  },
  {
   "cell_type": "code",
   "execution_count": null,
   "metadata": {},
   "outputs": [],
   "source": [
    "\n",
    "# Unit Test#1\n",
    "freq='day'\n",
    "exchange='NSE'\n",
    "fromDate = '2019-01-01'\n",
    "toDate = '2019-05-03'\n",
    "stock='INFY'\n",
    "\n",
    "state = 'INIT'\n",
    "hash_key = stock+'_state'\n",
    "\n",
    "try:\n",
    "    all_keys = list(conn.hgetall(hash_key).keys())\n",
    "    conn.hdel(hash_key,*all_keys)\n",
    "except:\n",
    "    pass\n",
    "\n",
    "#conn.hmset(hash_key, {'state':state,'stock':stock, 'qty':0,'price':0,'algo':'','freq':'day','so':0,'target':0})\n",
    "\n",
    "msg = json.dumps({'stock': stock, 'fromDate':fromDate,'toDate':toDate, 'exchange':exchange, 'freq':freq})\n",
    "conn.publish('trade_handler','start')\n",
    "msgid2 = conn.publish('kite_simulator',msg)\n"
   ]
  },
  {
   "cell_type": "code",
   "execution_count": null,
   "metadata": {},
   "outputs": [],
   "source": [
    "# Unit Test#2\n",
    "stock = 'NDTV'\n",
    "msg = json.dumps({'stock': stock, 'fromDate':fromDate,'toDate':toDate, 'exchange':exchange, 'freq':freq})\n",
    "conn.publish('trade_handler','start')\n",
    "msgid2 = conn.publish('kite_simulator',msg)\n",
    "conn.xadd('msgBufferQueue',{'msg': 'next'})"
   ]
  },
  {
   "cell_type": "code",
   "execution_count": null,
   "metadata": {},
   "outputs": [],
   "source": []
  },
  {
   "cell_type": "code",
   "execution_count": null,
   "metadata": {},
   "outputs": [],
   "source": [
    "# Shut down\n",
    "conn.publish('kite_simulator','stop')\n",
    "conn.publish('trade_handler','stop')\n",
    "freedom.job.terminate()\n",
    "print(freedom.job.is_alive())\n",
    "conn.pubsub_channels()"
   ]
  },
  {
   "cell_type": "code",
   "execution_count": null,
   "metadata": {},
   "outputs": [],
   "source": [
    "conn.pubsub_channels()"
   ]
  },
  {
   "cell_type": "code",
   "execution_count": null,
   "metadata": {
    "scrolled": false
   },
   "outputs": [],
   "source": [
    "# Debug\n",
    "stock='TCS'\n",
    "#notification_despatcher(None, 'msg')\n",
    "print(stock)\n",
    "pd.read_json(conn.hget(stock+'_state','ohlc'))"
   ]
  },
  {
   "cell_type": "code",
   "execution_count": null,
   "metadata": {
    "scrolled": true
   },
   "outputs": [],
   "source": [
    "pd.set_option('display.max_rows', 50)\n",
    "pd.read_json(conn.hget(stock+'_state','ohlc')).tail(50)"
   ]
  },
  {
   "cell_type": "code",
   "execution_count": null,
   "metadata": {},
   "outputs": [],
   "source": []
  },
  {
   "cell_type": "raw",
   "metadata": {},
   "source": [
    "msg = [['msgBufferQueue', [('1587153010498-0', {'stock': 'TCS', 'fromDate': '2019-01-01', 'toDate': '2019-05-03', 'exchange': 'NSE', 'freq': 'day'})]]]"
   ]
  },
  {
   "cell_type": "code",
   "execution_count": null,
   "metadata": {},
   "outputs": [],
   "source": []
  },
  {
   "cell_type": "code",
   "execution_count": null,
   "metadata": {},
   "outputs": [],
   "source": []
  },
  {
   "cell_type": "code",
   "execution_count": null,
   "metadata": {},
   "outputs": [],
   "source": [
    "\n"
   ]
  },
  {
   "cell_type": "code",
   "execution_count": null,
   "metadata": {},
   "outputs": [],
   "source": []
  },
  {
   "cell_type": "markdown",
   "metadata": {},
   "source": [
    "## Scratchpad"
   ]
  },
  {
   "cell_type": "code",
   "execution_count": 2,
   "metadata": {},
   "outputs": [],
   "source": [
    "import pandas as pd\n",
    "import plotly\n",
    "import plotly.graph_objs as go\n",
    "from datetime import datetime as dt\n",
    "from datetime import timedelta\n",
    "from plotly.subplots import make_subplots\n",
    "import plotly.graph_objects as go\n",
    "\n",
    "from lib.multitasking_lib import *\n",
    "from plotly.offline import download_plotlyjs, init_notebook_mode, plot, iplot"
   ]
  },
  {
   "cell_type": "code",
   "execution_count": 4,
   "metadata": {},
   "outputs": [
    {
     "name": "stderr",
     "output_type": "stream",
     "text": [
      "INFO:\tUsing cache: Not downloading data\n"
     ]
    }
   ],
   "source": [
    "# GetData\n",
    "\n",
    "logger.setLevel(logging.DEBUG)\n",
    "stock = 'WIPRO'\n",
    "fromDate = '2019-1-1'\n",
    "toDate  = '2019-4-30'\n",
    "freq = 'day'\n",
    "exchange = 'NSE'\n",
    "ohlc_data = getData(stock, fromDate, toDate, exchange, freq, False, stock)"
   ]
  },
  {
   "cell_type": "code",
   "execution_count": null,
   "metadata": {},
   "outputs": [],
   "source": []
  },
  {
   "cell_type": "code",
   "execution_count": 46,
   "metadata": {},
   "outputs": [
    {
     "data": {
      "text/html": [
       "<div>\n",
       "<style scoped>\n",
       "    .dataframe tbody tr th:only-of-type {\n",
       "        vertical-align: middle;\n",
       "    }\n",
       "\n",
       "    .dataframe tbody tr th {\n",
       "        vertical-align: top;\n",
       "    }\n",
       "\n",
       "    .dataframe thead th {\n",
       "        text-align: right;\n",
       "    }\n",
       "</style>\n",
       "<table border=\"1\" class=\"dataframe\">\n",
       "  <thead>\n",
       "    <tr style=\"text-align: right;\">\n",
       "      <th></th>\n",
       "      <th>close</th>\n",
       "      <th>high</th>\n",
       "      <th>low</th>\n",
       "      <th>open</th>\n",
       "      <th>volume</th>\n",
       "    </tr>\n",
       "    <tr>\n",
       "      <th>date</th>\n",
       "      <th></th>\n",
       "      <th></th>\n",
       "      <th></th>\n",
       "      <th></th>\n",
       "      <th></th>\n",
       "    </tr>\n",
       "  </thead>\n",
       "  <tbody>\n",
       "    <tr>\n",
       "      <th>2019-01-02</th>\n",
       "      <td>244.77</td>\n",
       "      <td>249.10</td>\n",
       "      <td>242.86</td>\n",
       "      <td>247.22</td>\n",
       "      <td>3308303</td>\n",
       "    </tr>\n",
       "    <tr>\n",
       "      <th>2019-01-03</th>\n",
       "      <td>244.74</td>\n",
       "      <td>246.58</td>\n",
       "      <td>242.89</td>\n",
       "      <td>245.86</td>\n",
       "      <td>3542281</td>\n",
       "    </tr>\n",
       "    <tr>\n",
       "      <th>2019-01-04</th>\n",
       "      <td>243.95</td>\n",
       "      <td>245.75</td>\n",
       "      <td>240.34</td>\n",
       "      <td>243.98</td>\n",
       "      <td>2405278</td>\n",
       "    </tr>\n",
       "    <tr>\n",
       "      <th>2019-01-07</th>\n",
       "      <td>243.80</td>\n",
       "      <td>245.68</td>\n",
       "      <td>242.33</td>\n",
       "      <td>245.19</td>\n",
       "      <td>1903604</td>\n",
       "    </tr>\n",
       "    <tr>\n",
       "      <th>2019-01-08</th>\n",
       "      <td>244.77</td>\n",
       "      <td>246.24</td>\n",
       "      <td>242.56</td>\n",
       "      <td>244.36</td>\n",
       "      <td>2084659</td>\n",
       "    </tr>\n",
       "    <tr>\n",
       "      <th>...</th>\n",
       "      <td>...</td>\n",
       "      <td>...</td>\n",
       "      <td>...</td>\n",
       "      <td>...</td>\n",
       "      <td>...</td>\n",
       "    </tr>\n",
       "    <tr>\n",
       "      <th>2019-04-23</th>\n",
       "      <td>291.10</td>\n",
       "      <td>291.85</td>\n",
       "      <td>286.70</td>\n",
       "      <td>289.70</td>\n",
       "      <td>6177784</td>\n",
       "    </tr>\n",
       "    <tr>\n",
       "      <th>2019-04-24</th>\n",
       "      <td>293.05</td>\n",
       "      <td>294.30</td>\n",
       "      <td>290.20</td>\n",
       "      <td>292.05</td>\n",
       "      <td>9149069</td>\n",
       "    </tr>\n",
       "    <tr>\n",
       "      <th>2019-04-25</th>\n",
       "      <td>295.20</td>\n",
       "      <td>295.95</td>\n",
       "      <td>292.85</td>\n",
       "      <td>293.05</td>\n",
       "      <td>10390816</td>\n",
       "    </tr>\n",
       "    <tr>\n",
       "      <th>2019-04-26</th>\n",
       "      <td>294.80</td>\n",
       "      <td>296.65</td>\n",
       "      <td>293.50</td>\n",
       "      <td>296.40</td>\n",
       "      <td>6196551</td>\n",
       "    </tr>\n",
       "    <tr>\n",
       "      <th>2019-04-30</th>\n",
       "      <td>298.55</td>\n",
       "      <td>299.45</td>\n",
       "      <td>295.00</td>\n",
       "      <td>295.00</td>\n",
       "      <td>7339917</td>\n",
       "    </tr>\n",
       "  </tbody>\n",
       "</table>\n",
       "<p>80 rows × 5 columns</p>\n",
       "</div>"
      ],
      "text/plain": [
       "             close    high     low    open    volume\n",
       "date                                                \n",
       "2019-01-02  244.77  249.10  242.86  247.22   3308303\n",
       "2019-01-03  244.74  246.58  242.89  245.86   3542281\n",
       "2019-01-04  243.95  245.75  240.34  243.98   2405278\n",
       "2019-01-07  243.80  245.68  242.33  245.19   1903604\n",
       "2019-01-08  244.77  246.24  242.56  244.36   2084659\n",
       "...            ...     ...     ...     ...       ...\n",
       "2019-04-23  291.10  291.85  286.70  289.70   6177784\n",
       "2019-04-24  293.05  294.30  290.20  292.05   9149069\n",
       "2019-04-25  295.20  295.95  292.85  293.05  10390816\n",
       "2019-04-26  294.80  296.65  293.50  296.40   6196551\n",
       "2019-04-30  298.55  299.45  295.00  295.00   7339917\n",
       "\n",
       "[80 rows x 5 columns]"
      ]
     },
     "execution_count": 46,
     "metadata": {},
     "output_type": "execute_result"
    }
   ],
   "source": [
    "ohlc_data.iloc[1:]"
   ]
  },
  {
   "cell_type": "code",
   "execution_count": 42,
   "metadata": {},
   "outputs": [
    {
     "data": {
      "text/plain": [
       "True"
      ]
     },
     "execution_count": 42,
     "metadata": {},
     "output_type": "execute_result"
    }
   ],
   "source": [
    "conn.set(stock, '')"
   ]
  },
  {
   "cell_type": "code",
   "execution_count": 44,
   "metadata": {},
   "outputs": [
    {
     "data": {
      "text/plain": [
       "True"
      ]
     },
     "execution_count": 44,
     "metadata": {},
     "output_type": "execute_result"
    }
   ],
   "source": []
  },
  {
   "cell_type": "code",
   "execution_count": 55,
   "metadata": {},
   "outputs": [
    {
     "data": {
      "text/html": [
       "<div>\n",
       "<style scoped>\n",
       "    .dataframe tbody tr th:only-of-type {\n",
       "        vertical-align: middle;\n",
       "    }\n",
       "\n",
       "    .dataframe tbody tr th {\n",
       "        vertical-align: top;\n",
       "    }\n",
       "\n",
       "    .dataframe thead th {\n",
       "        text-align: right;\n",
       "    }\n",
       "</style>\n",
       "<table border=\"1\" class=\"dataframe\">\n",
       "  <thead>\n",
       "    <tr style=\"text-align: right;\">\n",
       "      <th></th>\n",
       "      <th>close</th>\n",
       "      <th>high</th>\n",
       "      <th>low</th>\n",
       "      <th>open</th>\n",
       "      <th>volume</th>\n",
       "    </tr>\n",
       "  </thead>\n",
       "  <tbody>\n",
       "    <tr>\n",
       "      <th>2019-01-01</th>\n",
       "      <td>245.60</td>\n",
       "      <td>250.19</td>\n",
       "      <td>244.66</td>\n",
       "      <td>248.68</td>\n",
       "      <td>1513704</td>\n",
       "    </tr>\n",
       "    <tr>\n",
       "      <th>2019-01-02</th>\n",
       "      <td>244.77</td>\n",
       "      <td>249.10</td>\n",
       "      <td>242.86</td>\n",
       "      <td>247.22</td>\n",
       "      <td>3308303</td>\n",
       "    </tr>\n",
       "    <tr>\n",
       "      <th>2019-01-03</th>\n",
       "      <td>244.74</td>\n",
       "      <td>246.58</td>\n",
       "      <td>242.89</td>\n",
       "      <td>245.86</td>\n",
       "      <td>3542281</td>\n",
       "    </tr>\n",
       "    <tr>\n",
       "      <th>2019-01-04</th>\n",
       "      <td>243.95</td>\n",
       "      <td>245.75</td>\n",
       "      <td>240.34</td>\n",
       "      <td>243.98</td>\n",
       "      <td>2405278</td>\n",
       "    </tr>\n",
       "    <tr>\n",
       "      <th>2019-01-07</th>\n",
       "      <td>243.80</td>\n",
       "      <td>245.68</td>\n",
       "      <td>242.33</td>\n",
       "      <td>245.19</td>\n",
       "      <td>1903604</td>\n",
       "    </tr>\n",
       "    <tr>\n",
       "      <th>...</th>\n",
       "      <td>...</td>\n",
       "      <td>...</td>\n",
       "      <td>...</td>\n",
       "      <td>...</td>\n",
       "      <td>...</td>\n",
       "    </tr>\n",
       "    <tr>\n",
       "      <th>2019-04-23</th>\n",
       "      <td>291.10</td>\n",
       "      <td>291.85</td>\n",
       "      <td>286.70</td>\n",
       "      <td>289.70</td>\n",
       "      <td>6177784</td>\n",
       "    </tr>\n",
       "    <tr>\n",
       "      <th>2019-04-24</th>\n",
       "      <td>293.05</td>\n",
       "      <td>294.30</td>\n",
       "      <td>290.20</td>\n",
       "      <td>292.05</td>\n",
       "      <td>9149069</td>\n",
       "    </tr>\n",
       "    <tr>\n",
       "      <th>2019-04-25</th>\n",
       "      <td>295.20</td>\n",
       "      <td>295.95</td>\n",
       "      <td>292.85</td>\n",
       "      <td>293.05</td>\n",
       "      <td>10390816</td>\n",
       "    </tr>\n",
       "    <tr>\n",
       "      <th>2019-04-26</th>\n",
       "      <td>294.80</td>\n",
       "      <td>296.65</td>\n",
       "      <td>293.50</td>\n",
       "      <td>296.40</td>\n",
       "      <td>6196551</td>\n",
       "    </tr>\n",
       "    <tr>\n",
       "      <th>2019-04-30</th>\n",
       "      <td>298.55</td>\n",
       "      <td>299.45</td>\n",
       "      <td>295.00</td>\n",
       "      <td>295.00</td>\n",
       "      <td>7339917</td>\n",
       "    </tr>\n",
       "  </tbody>\n",
       "</table>\n",
       "<p>81 rows × 5 columns</p>\n",
       "</div>"
      ],
      "text/plain": [
       "             close    high     low    open    volume\n",
       "2019-01-01  245.60  250.19  244.66  248.68   1513704\n",
       "2019-01-02  244.77  249.10  242.86  247.22   3308303\n",
       "2019-01-03  244.74  246.58  242.89  245.86   3542281\n",
       "2019-01-04  243.95  245.75  240.34  243.98   2405278\n",
       "2019-01-07  243.80  245.68  242.33  245.19   1903604\n",
       "...            ...     ...     ...     ...       ...\n",
       "2019-04-23  291.10  291.85  286.70  289.70   6177784\n",
       "2019-04-24  293.05  294.30  290.20  292.05   9149069\n",
       "2019-04-25  295.20  295.95  292.85  293.05  10390816\n",
       "2019-04-26  294.80  296.65  293.50  296.40   6196551\n",
       "2019-04-30  298.55  299.45  295.00  295.00   7339917\n",
       "\n",
       "[81 rows x 5 columns]"
      ]
     },
     "execution_count": 55,
     "metadata": {},
     "output_type": "execute_result"
    }
   ],
   "source": [
    "ohlc_data\n",
    "conn.set(stock, pd.DataFrame().to_json(orient='columns'))\n",
    "def update_plot_cache(tmp_df):\n",
    "    cache_buff = pd.read_json(conn.get(stock))\n",
    "    #tmp_df = ohlc_data.loc[index]\n",
    "    cache_buff = cache_buff.append(tmp_df)\n",
    "    conn.set(stock, cache_buff.to_json(orient='columns'))\n",
    "\n",
    "for index, row in ohlc_data.iterrows(): \n",
    "    tmp_df = ohlc_data.loc[index]\n",
    "    update_plot_cache(row)\n",
    "\n",
    "pd.read_json(conn.get(stock))"
   ]
  },
  {
   "cell_type": "code",
   "execution_count": null,
   "metadata": {},
   "outputs": [],
   "source": [
    "plot_layout = {\n",
    "    'height': 950,\n",
    "    'plot_bgcolor': 'rgba(0,0,0,0)',\n",
    "    'template': '...',\n",
    "    'title': {'text': 'Charts for WIPRO'},\n",
    "    'xaxis': {'rangeselector': {'buttons': [{'count': 1, 'label': '1h', 'step': 'hour', 'stepmode': 'backward'},\n",
    "                                            {'count': 3, 'label': '3h', 'step': 'hour', 'stepmode': 'backward'},\n",
    "                                            {'count': 6, 'label': '1d', 'step': 'hour', 'stepmode': 'backward'},\n",
    "                                            {'step': 'all'}]},\n",
    "              'rangeslider': {'visible': False},\n",
    "              'side': 'bottom'},\n",
    "    'xaxis2': {'anchor': 'y2', 'domain': [0.0, 1.0], 'matches': 'x5', 'showticklabels': False},\n",
    "    'xaxis3': {'anchor': 'y3', 'domain': [0.0, 1.0], 'matches': 'x5', 'showticklabels': False},\n",
    "    'xaxis4': {'anchor': 'y4', 'domain': [0.0, 1.0], 'matches': 'x5', 'showticklabels': False},\n",
    "    'xaxis5': {'anchor': 'y5', 'domain': [0.0, 1.0]},\n",
    "    'yaxis': {'anchor': 'x', 'domain': [0.5636363636363636, 1.0], 'side': 'right'},\n",
    "    'yaxis2': {'anchor': 'x2', 'domain': [0.4663636363636363, 0.5536363636363636]},\n",
    "    'yaxis3': {'anchor': 'x3', 'domain': [0.19454545454545452, 0.4563636363636363]},\n",
    "    'yaxis4': {'anchor': 'x4', 'domain': [0.09727272727272726, 0.1845454545454545]},\n",
    "    'yaxis5': {'anchor': 'x5', 'domain': [0.0, 0.08727272727272727]}\n",
    "}\n",
    "\n",
    "#plot_layout"
   ]
  },
  {
   "cell_type": "code",
   "execution_count": null,
   "metadata": {},
   "outputs": [],
   "source": [
    "fig.layout = plot_layout"
   ]
  },
  {
   "cell_type": "code",
   "execution_count": null,
   "metadata": {},
   "outputs": [],
   "source": []
  },
  {
   "cell_type": "code",
   "execution_count": null,
   "metadata": {},
   "outputs": [],
   "source": [
    "\n"
   ]
  },
  {
   "cell_type": "code",
   "execution_count": null,
   "metadata": {},
   "outputs": [],
   "source": []
  },
  {
   "cell_type": "code",
   "execution_count": null,
   "metadata": {},
   "outputs": [],
   "source": [
    "fig = make_subplots(rows=3, cols=1, shared_xaxes=True, row_width=[3,1,5], vertical_spacing = 0.01)\n",
    "fig['layout']={'xaxis':{'rangeselector': {'buttons': [{'count': 1, 'label': '1h', 'step': 'hour', 'stepmode': 'backward'},\n",
    "                                         {'count': 3, 'label': '3h', 'step': 'hour', 'stepmode': 'backward'},\n",
    "                                        {'count': 6, 'label': '1d', 'step': 'hour', 'stepmode': 'backward'},\n",
    "                                            {'step': 'all'}]},\n",
    "              'rangeslider': {'visible': False}, 'side': 'bottom'}, \n",
    "              'xaxis2': {'anchor': 'y2', 'domain': [0.0, 1.0], 'matches': 'x', 'showticklabels': False},\n",
    "              'xaxis3': {'anchor': 'y3', 'domain': [0.0, 1.0], 'matches': 'x', 'showticklabels': True},\n",
    "              'yaxis' : {'anchor': 'x', 'domain': [0.45, 1.0], 'side': 'right', 'linecolor':'black', 'ticks':'inside'},\n",
    "              'yaxis2': {'anchor': 'x2', 'domain': [0.2, 0.43], 'side': 'right', 'linecolor':'black', 'ticks':'inside'},\n",
    "              'yaxis3': {'anchor': 'x3', 'domain': [0.0, 0.19], 'side': 'right', 'range':[0,100], 'tickvals':[0,30,70,100], 'ticks':'inside','gridcolor':'black', 'showgrid':True, 'linecolor':'black'},\n",
    "              'height': 650, 'plot_bgcolor': 'rgba(0,0,0,0)','title': {'text': 'Charts for WIPRO'}}\n",
    "\n",
    "\n",
    "\n",
    "scatter = lambda df, key, title, c, fill='none', fillcolor=\"rgba(0,40,100,0.02)\": go.Scatter(x=df.index.astype('str'), y=df[key], name=title, line=dict(color=c),showlegend=False, fill = fill, fillcolor=fillcolor)\n",
    "bar =  lambda df, key, title, c: go.Bar(x=df.index.astype('str'), y=df[key], name=title, marker=dict(color=c),showlegend=False)\n",
    "\n",
    "def plot_2_lines_1_bar(fig, df, d1, t1='', c1='black', d2=None, t2='', c2='red', d3=None, t3='', c3='grey', pos = 1):\n",
    "    trace1 = scatter(df, d1, t1, c1)\n",
    "    fig.append_trace(trace1, pos, 1)\n",
    "    \n",
    "    if d2:\n",
    "        trace2 = scatter(df, d2, t2, c2)\n",
    "        fig.append_trace(trace2, pos, 1)\n",
    "    if d3:\n",
    "        trace3 = bar(df, d3, t3, c3)\n",
    "        fig.append_trace(trace3, pos, 1)\n",
    "    \n",
    "    return fig\n",
    "\n",
    "def plot_3_lines(fig, df, d1, t1='', c1='black', d2=None, t2='', c2='red', d3=None, t3='', c3='grey', pos = 1, fill=False, fillcolor=\"rgba(0,40,100,0.02)\"):\n",
    "    trace1 = scatter(df, d1, t1, c1)\n",
    "    fig.append_trace(trace1, pos, 1)\n",
    "    \n",
    "    filltonexty = \"none\"\n",
    "    if fill==True:\n",
    "        filltonexty = 'tonexty'\n",
    "    \n",
    "    if d2:\n",
    "        trace2 = scatter(df, d2, t2, c2, fill=filltonexty, fillcolor=fillcolor)\n",
    "        fig.append_trace(trace2, pos, 1)\n",
    "        \n",
    "    if d3:\n",
    "        trace3 = scatter(df, d3, t3, c3, fill=filltonexty, fillcolor=fillcolor)\n",
    "        fig.append_trace(trace3, pos, 1)\n",
    "    \n",
    "    return fig\n",
    "\n",
    "\n",
    "plot_candle = lambda fig, df, pos = 1: fig.append_trace( go.Candlestick(x=df.index.astype('str'), open=df.open, high=df.high, low=df.low, close=df.close, name=\"Candlestick\", showlegend=False), pos, 1)\n",
    "plot_macd = lambda fig, df, pos = 1: plot_2_lines_1_bar(fig, df, 'macd', 'MACD' ,'black', 'macdsignal','MACD Signal', 'red', 'macdhist','MACD Histogram', 'grey', pos)\n",
    "plot_rsi =  lambda fig, df, pos = 1: plot_2_lines_1_bar(fig, df, 'rsi', 'RSI' ,'black', pos=pos)\n",
    "plot_bbb =  lambda fig, df, pos = 1, fill=True, fillcolor=\"rgba(0,40,100,0.02)\": plot_3_lines(fig, df, 'bbt', 'Top' ,'lightgrey', 'bbb','Bottom', 'lightgrey', 'bbm','Middle', 'lightgrey', pos, fill, fillcolor)\n",
    "\n",
    "\n",
    "\n",
    "price = ohlc_data\n",
    "price['macd'], price['macdsignal'], price['macdhist'] = MACDEXT(price.close, fastperiod=12, slowperiod=26, signalperiod=9, fastmatype=1, slowmatype=1,signalmatype=1)\n",
    "price['rsi'] = RSI(price.close, timeperiod=14)\n",
    "price['bbt'], price['bbm'], price['bbb'] = BBANDS(price.close, timeperiod=20, nbdevup=1.6, nbdevdn=1.6, matype=0)\n",
    "\n",
    "price['buy'] = ''\n",
    "price['sell'] = ''\n",
    "price['buy'] = ohlc_data['close'][30:40]\n",
    "price['sell'] = ohlc_data['close'][50:51]\n",
    "\n",
    "def plot_trade(fig, df, pos=1):\n",
    "    fig.append_trace(go.Scatter(x=df.index.astype('str'), y=df['buy']*0.8 ,  mode='markers', marker=dict(color='green'),showlegend=False, hovertext=df['buy']), pos, 1)\n",
    "    fig.append_trace(go.Scatter(x=df.index.astype('str'), y=df['sell']*1.2,  mode='markers', marker=dict(color='red'),showlegend=False, hovertext=df['sell']), pos, 1)\n",
    "    return fig\n",
    "    \n",
    "plot_candle(fig, price, 1)\n",
    "\n",
    "fig = plot_trade(fig, price, 1)\n",
    "fig = plot_bbb(fig, price, 1)\n",
    "fig = plot_macd(fig, price, 2)\n",
    "fig = plot_rsi(fig, price, 3)\n",
    "\n",
    "\n",
    "init_notebook_mode(connected=True)\n",
    "iplot(fig)"
   ]
  },
  {
   "cell_type": "code",
   "execution_count": null,
   "metadata": {},
   "outputs": [],
   "source": []
  },
  {
   "cell_type": "code",
   "execution_count": null,
   "metadata": {},
   "outputs": [],
   "source": [
    "fig = make_subplots(rows=3, cols=1, shared_xaxes=True, row_width=[3,1,5], vertical_spacing = 0.01)\n",
    "fig['layout']"
   ]
  },
  {
   "cell_type": "code",
   "execution_count": null,
   "metadata": {},
   "outputs": [],
   "source": []
  },
  {
   "cell_type": "code",
   "execution_count": null,
   "metadata": {},
   "outputs": [],
   "source": []
  },
  {
   "cell_type": "code",
   "execution_count": null,
   "metadata": {},
   "outputs": [],
   "source": [
    "\n",
    " \n",
    "if False:\n",
    "    msg_ohlc = {\"NSE:WIPRO\": {\"ohlc\": {\"date\": \"2019-1-1\", \"open\": 1896.0, \"high\": 1910.0, \"low\": 1885.0, \"close\": 1902.8, \"volume\": 1094883.0}}}\n",
    "\n",
    "    stock='WIPRO'\n",
    "    state = 'INIT'\n",
    "    hash_key = stock+'_state'\n",
    "\n",
    "    try:\n",
    "        all_keys = list(conn.hgetall(hash_key).keys())\n",
    "        conn.hdel(hash_key,*all_keys)\n",
    "    except:\n",
    "        pass\n",
    "\n",
    "    conn.hmset(hash_key, {'state':state,'stock':stock, 'qty':0,'price':0,'algo':'','freq':'day','so':0,'target':0})\n",
    "\n",
    "    logger.setLevel(logging.INFO)\n",
    "    trade_job(json.dumps(msg_ohlc))\n",
    "    #trade_job(json.dumps(msg_ohlc))\n",
    "    #trade_job(json.dumps(msg_ohlc))\n",
    "    #trade_job(json.dumps(msg_ohlc))\n",
    "    #trade_job(json.dumps(msg_ohlc))\n",
    "    #trade_job(json.dumps(msg_ohlc))\n",
    "\n",
    "if False:\n",
    "    msg_ohlc = {\"NSE:WIPRO\": {\"ohlc\": {\"date\": \"2019-1-3\", \"open\": 1896.0, \"high\": 1910.0, \"low\": 1885.0, \"close\": 1902.8, \"volume\": 1094883.0}}}\n",
    "    trade_job(json.dumps(msg_ohlc))"
   ]
  }
 ],
 "metadata": {
  "kernelspec": {
   "display_name": "Python 3",
   "language": "python",
   "name": "python3"
  },
  "language_info": {
   "codemirror_mode": {
    "name": "ipython",
    "version": 3
   },
   "file_extension": ".py",
   "mimetype": "text/x-python",
   "name": "python",
   "nbconvert_exporter": "python",
   "pygments_lexer": "ipython3",
   "version": "3.7.6"
  }
 },
 "nbformat": 4,
 "nbformat_minor": 4
}
