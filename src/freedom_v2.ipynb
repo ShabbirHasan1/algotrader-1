{
 "cells": [
  {
   "cell_type": "markdown",
   "metadata": {},
   "source": [
    "### TODO"
   ]
  },
  {
   "cell_type": "markdown",
   "metadata": {},
   "source": [
    "## Thread functions"
   ]
  },
  {
   "cell_type": "code",
   "execution_count": 1,
   "metadata": {},
   "outputs": [],
   "source": [
    "from lib.multitasking_lib import *\n",
    "#from lib.kite_helper_lib import *"
   ]
  },
  {
   "cell_type": "code",
   "execution_count": 2,
   "metadata": {},
   "outputs": [
    {
     "name": "stderr",
     "output_type": "stream",
     "text": [
      "TRADE: \n",
      "============================================\n",
      "*** Trade Analysis for : ONGC\n",
      "--------------------------------------------\n",
      "Total Profit: 0.50, max loss: -6.80, max win: 9.15\n",
      "# of Win: 1, # of Loss: 4, max_winning_streak: 1, max_loosing_streak: 1\n",
      "--------------------------------------------\n",
      "              sell     buy  profit  CumProfit\n",
      "2019-02-08  144.15            0.00       0.00\n",
      "2019-02-15             135    9.15       9.15\n",
      "2019-02-25  147.75            0.00       9.15\n",
      "2019-02-27             148   -0.25       8.90\n",
      "2019-03-07  152.05            0.00       8.90\n",
      "2019-03-11             153   -0.95       7.95\n",
      "2019-03-20  151.85            0.00       7.95\n",
      "2019-03-25          158.65   -6.80       1.15\n",
      "2019-03-28   155.9            0.00       1.15\n",
      "2019-04-05          156.55   -0.65       0.50\n",
      "2019-04-10     158            0.00       0.50\n",
      "============================================\n"
     ]
    }
   ],
   "source": [
    "\n",
    "stock = 'ONGC'\n",
    "logger.setLevel(logging.DEBUG)\n",
    "trade_analysis(stock)"
   ]
  },
  {
   "cell_type": "code",
   "execution_count": null,
   "metadata": {},
   "outputs": [],
   "source": [
    "# Long Strategies\n",
    "def long_indicators(s):\n",
    "    temp_df = 0\n",
    "    #temp_df = temp_df | (REF(s.fastk,1) <=20)&(s.fastk>20)\n",
    "    #temp_df = temp_df | CROSSOVER(s.fastk, s.fastd)\n",
    "    #temp_df = temp_df | (REF(s.macd,1) <=0)&(s.macd>0)\n",
    "    #temp_df = temp_df | CROSSOVER(s.macd, s.macdsignal)\n",
    "    temp_df = temp_df | (REF(s.rsi,1) <=40)\n",
    "    #temp_df = temp_df | (s.CLOSE.shift(1) == s.min.shift(1)) & (s.CLOSE > s.OPEN)\n",
    "    #temp_df = temp_df & CROSSOVER(s.BBB, s.CLOSE)\n",
    "\n",
    "    return pd.DataFrame(  temp_df, columns=[\"buy\"] )\n",
    "\n",
    "# Short Strategies\n",
    "def short_indicators(s):\n",
    "    temp_df = 0\n",
    "    #temp_df = temp_df | (REF(s.fastk,1) >=80)&(s.fastk<80)\n",
    "    #temp_df = temp_df | CROSSOVER(s.fastd, s.fastk)\n",
    "    #temp_df = temp_df | (REF(s.macd,1) >=0)&(s.macd<0)\n",
    "    #temp_df = temp_df | CROSSOVER(s.macdsignal, s.macd)\n",
    "    temp_df = temp_df | (REF(s.rsi,1) >=60)\n",
    "    #temp_df = temp_df & CROSSOVER(s.CLOSE, s.BBT)\n",
    "    return pd.DataFrame( temp_df, columns=[\"sell\"])\n",
    "\n",
    "\n",
    "\n",
    "def long_breakout(s):\n",
    "    temp_df = s.haCLOSE >= s.BBT.shift(1)\n",
    "    temp_df = temp_df | (s.haCLOSE >= s.haOPEN.shift(2))\n",
    "    temp_df = temp_df & ( CROSSOVER(s.OPEN, s.BBT) | CROSSOVER(s.OPEN, s.BBB) | CROSSOVER(s.OPEN, s.BBM))\n",
    "    return pd.DataFrame( temp_df , columns=[\"buy\"])\n",
    "\n",
    "def short_breakout(s):\n",
    "    temp_df = s.haOPEN <= s.BBB.shift(1)\n",
    "    temp_df = temp_df | (s.haCLOSE <= s.haOPEN.shift(2))\n",
    "    temp_df = temp_df & ( CROSSOVER(s.BBT, s.OPEN) | CROSSOVER(s.BBB, s.OPEN) | CROSSOVER(s.BBM, s.OPEN))\n",
    "    return pd.DataFrame( temp_df , columns=[\"sell\"])\n",
    "\n",
    "def long_ha(s):\n",
    "    temp_df = (REF(s.haCLOSE,3) < REF(s.haOPEN,3)) & (REF(s.haCLOSE,2) < REF(s.haOPEN,2)) & (REF(s.haCLOSE,1) > REF(s.haOPEN,1)) & (s.haCLOSE > s.haOPEN)  \n",
    "    #temp_df = temp_df & (s.rsi < 40 )\n",
    "    return pd.DataFrame( temp_df , columns=[\"buy\"])\n",
    "\n",
    "def short_ha(s):\n",
    "    temp_df = (REF(s.haCLOSE,3) > REF(s.haOPEN,3)) & (REF(s.haCLOSE,2) > REF(s.haOPEN,2)) & (REF(s.haCLOSE,1) < REF(s.haOPEN,1)) & (s.haCLOSE < s.haOPEN)\n",
    "    #temp_df = temp_df & (s.rsi > 60 )\n",
    "    return pd.DataFrame( temp_df , columns=[\"sell\"])\n",
    "    \n"
   ]
  },
  {
   "cell_type": "markdown",
   "metadata": {},
   "source": [
    "## Definition of handler functions"
   ]
  },
  {
   "cell_type": "code",
   "execution_count": null,
   "metadata": {
    "scrolled": false
   },
   "outputs": [],
   "source": [
    "#freedom_init = threadManager(\"freedom_init\", [\"freedom_init\"], [freedom_init])   \n",
    "\n",
    "#freedom = threadManager(\"freedom\", [\"user_requests_handler\", \"kite_simulator\", \"backtest_handler\", \"trade_handler\",\"order_handler\"], \n",
    "#                        [user_requests_handler, kite_simulator, backtest_handler, trade_handler, order_handler])\n",
    "\n",
    "logger.setLevel(21)\n",
    "freedom = threadManager(\"freedom\", [ \"kite_simulator\", \"trade_handler\", \"order_handler\"], \n",
    "                        [kite_simulator, trade_handler, order_handler])\n"
   ]
  },
  {
   "cell_type": "code",
   "execution_count": null,
   "metadata": {},
   "outputs": [],
   "source": [
    "# Shut down\n",
    "conn.publish('kite_simulator','stop')\n",
    "conn.publish('trade_handler','stop')\n",
    "freedom.job.terminate()\n",
    "print(freedom.job.is_alive())\n",
    "conn.pubsub_channels()"
   ]
  },
  {
   "cell_type": "markdown",
   "metadata": {},
   "source": [
    "## Redis Console"
   ]
  },
  {
   "cell_type": "code",
   "execution_count": 3,
   "metadata": {},
   "outputs": [],
   "source": [
    "from redis import Redis\n",
    "import json\n",
    "\n",
    "conn = Redis(host='redis', port=6379, db=0, charset=\"utf-8\", decode_responses=True)"
   ]
  },
  {
   "cell_type": "code",
   "execution_count": 13,
   "metadata": {},
   "outputs": [
    {
     "data": {
      "text/plain": [
       "'{\"close\":{\"1549238400000\":146.25,\"1549324800000\":142.95,\"1549411200000\":146.7,\"1549497600000\":147.9,\"1549584000000\":144.15,\"1549843200000\":138.2,\"1549929600000\":137.45,\"1550016000000\":133.4,\"1550102400000\":132.15,\"1550188800000\":135.0,\"1550448000000\":137.1,\"1550534400000\":139.15,\"1550620800000\":144.05,\"1550707200000\":146.95,\"1550793600000\":148.6,\"1551052800000\":147.75,\"1551139200000\":147.5,\"1551225600000\":148.0,\"1551312000000\":148.65,\"1551398400000\":149.1,\"1551744000000\":155.0,\"1551830400000\":154.8,\"1551916800000\":152.05,\"1552003200000\":150.4,\"1552262400000\":153.0,\"1552348800000\":151.85,\"1552435200000\":149.75,\"1552521600000\":151.05,\"1552608000000\":156.0,\"1552867200000\":154.65,\"1552953600000\":157.0,\"1553040000000\":151.85,\"1553212800000\":152.35,\"1553472000000\":158.65,\"1553558400000\":160.05,\"1553644800000\":160.1,\"1553731200000\":155.9,\"1553817600000\":159.75,\"1554076800000\":157.25,\"1554163200000\":157.5,\"1554249600000\":155.45,\"1554336000000\":155.25,\"1554422400000\":156.55,\"1554681600000\":158.1,\"1554768000000\":157.55,\"1554854400000\":158.0,\"1554940800000\":158.6,\"1555027200000\":157.6,\"1555286400000\":156.45,\"1555372800000\":160.45,\"1555545600000\":160.6,\"1555891200000\":157.9,\"1555977600000\":163.75,\"1556064000000\":168.65,\"1556150400000\":168.85,\"1556236800000\":168.4,\"1556582400000\":169.2,\"1556755200000\":168.9,\"1556841600000\":170.25},\"high\":{\"1549238400000\":147.45,\"1549324800000\":148.2,\"1549411200000\":147.75,\"1549497600000\":148.3,\"1549584000000\":148.3,\"1549843200000\":143.65,\"1549929600000\":140.95,\"1550016000000\":139.5,\"1550102400000\":134.2,\"1550188800000\":140.9,\"1550448000000\":138.9,\"1550534400000\":140.35,\"1550620800000\":145.35,\"1550707200000\":148.6,\"1550793600000\":150.5,\"1551052800000\":149.35,\"1551139200000\":149.2,\"1551225600000\":149.75,\"1551312000000\":150.75,\"1551398400000\":150.2,\"1551744000000\":155.65,\"1551830400000\":157.0,\"1551916800000\":155.5,\"1552003200000\":152.6,\"1552262400000\":154.3,\"1552348800000\":155.6,\"1552435200000\":151.25,\"1552521600000\":152.5,\"1552608000000\":157.45,\"1552867200000\":157.3,\"1552953600000\":163.2,\"1553040000000\":157.05,\"1553212800000\":153.45,\"1553472000000\":160.55,\"1553558400000\":163.05,\"1553644800000\":161.4,\"1553731200000\":160.25,\"1553817600000\":162.3,\"1554076800000\":160.95,\"1554163200000\":159.7,\"1554249600000\":159.1,\"1554336000000\":156.35,\"1554422400000\":157.15,\"1554681600000\":160.25,\"1554768000000\":158.9,\"1554854400000\":159.95,\"1554940800000\":159.4,\"1555027200000\":159.65,\"1555286400000\":158.3,\"1555372800000\":161.0,\"1555545600000\":162.2,\"1555891200000\":161.5,\"1555977600000\":165.0,\"1556064000000\":170.45,\"1556150400000\":170.0,\"1556236800000\":169.95,\"1556582400000\":171.15,\"1556755200000\":172.0,\"1556841600000\":171.9},\"low\":{\"1549238400000\":142.45,\"1549324800000\":142.3,\"1549411200000\":142.5,\"1549497600000\":145.5,\"1549584000000\":143.15,\"1549843200000\":137.1,\"1549929600000\":136.55,\"1550016000000\":133.1,\"1550102400000\":127.6,\"1550188800000\":133.4,\"1550448000000\":135.8,\"1550534400000\":137.2,\"1550620800000\":140.0,\"1550707200000\":144.2,\"1550793600000\":147.1,\"1551052800000\":145.7,\"1551139200000\":146.0,\"1551225600000\":146.5,\"1551312000000\":143.1,\"1551398400000\":147.85,\"1551744000000\":147.85,\"1551830400000\":152.8,\"1551916800000\":151.5,\"1552003200000\":147.0,\"1552262400000\":151.1,\"1552348800000\":151.1,\"1552435200000\":145.7,\"1552521600000\":149.5,\"1552608000000\":151.2,\"1552867200000\":153.6,\"1552953600000\":154.8,\"1553040000000\":150.6,\"1553212800000\":148.45,\"1553472000000\":150.7,\"1553558400000\":158.7,\"1553644800000\":157.5,\"1553731200000\":155.2,\"1553817600000\":155.5,\"1554076800000\":155.8,\"1554163200000\":156.4,\"1554249600000\":154.6,\"1554336000000\":153.3,\"1554422400000\":153.95,\"1554681600000\":156.55,\"1554768000000\":157.05,\"1554854400000\":156.8,\"1554940800000\":155.9,\"1555027200000\":157.25,\"1555286400000\":156.1,\"1555372800000\":155.85,\"1555545600000\":159.05,\"1555891200000\":156.9,\"1555977600000\":157.6,\"1556064000000\":165.7,\"1556150400000\":166.55,\"1556236800000\":167.9,\"1556582400000\":166.15,\"1556755200000\":168.4,\"1556841600000\":168.7},\"open\":{\"1549238400000\":142.5,\"1549324800000\":146.0,\"1549411200000\":143.4,\"1549497600000\":146.9,\"1549584000000\":146.3,\"1549843200000\":143.25,\"1549929600000\":138.5,\"1550016000000\":138.75,\"1550102400000\":133.5,\"1550188800000\":138.0,\"1550448000000\":136.8,\"1550534400000\":137.2,\"1550620800000\":141.6,\"1550707200000\":145.0,\"1550793600000\":148.6,\"1551052800000\":149.0,\"1551139200000\":147.5,\"1551225600000\":148.75,\"1551312000000\":144.4,\"1551398400000\":149.9,\"1551744000000\":148.75,\"1551830400000\":155.1,\"1551916800000\":154.8,\"1552003200000\":152.1,\"1552262400000\":151.55,\"1552348800000\":154.0,\"1552435200000\":151.25,\"1552521600000\":150.0,\"1552608000000\":151.9,\"1552867200000\":155.0,\"1552953600000\":155.95,\"1553040000000\":156.65,\"1553212800000\":152.95,\"1553472000000\":152.0,\"1553558400000\":159.0,\"1553644800000\":160.15,\"1553731200000\":160.0,\"1553817600000\":157.0,\"1554076800000\":160.5,\"1554163200000\":159.2,\"1554249600000\":158.55,\"1554336000000\":155.25,\"1554422400000\":156.0,\"1554681600000\":157.8,\"1554768000000\":158.6,\"1554854400000\":156.95,\"1554940800000\":158.0,\"1555027200000\":159.0,\"1555286400000\":158.3,\"1555372800000\":156.5,\"1555545600000\":160.85,\"1555891200000\":160.7,\"1555977600000\":158.0,\"1556064000000\":165.7,\"1556150400000\":168.35,\"1556236800000\":169.5,\"1556582400000\":168.0,\"1556755200000\":169.3,\"1556841600000\":168.85},\"volume\":{\"1549238400000\":9532350,\"1549324800000\":5413425,\"1549411200000\":5075180,\"1549497600000\":6080631,\"1549584000000\":4510762,\"1549843200000\":6424512,\"1549929600000\":6816203,\"1550016000000\":8709694,\"1550102400000\":25346334,\"1550188800000\":37975666,\"1550448000000\":10614715,\"1550534400000\":9077045,\"1550620800000\":14236359,\"1550707200000\":13876243,\"1550793600000\":18273813,\"1551052800000\":20216077,\"1551139200000\":12458860,\"1551225600000\":11868751,\"1551312000000\":48854712,\"1551398400000\":9764801,\"1551744000000\":11194669,\"1551830400000\":15648948,\"1551916800000\":30210637,\"1552003200000\":17986042,\"1552262400000\":15880368,\"1552348800000\":10818012,\"1552435200000\":21001041,\"1552521600000\":6328309,\"1552608000000\":15483879,\"1552867200000\":7575127,\"1552953600000\":18289779,\"1553040000000\":28675956,\"1553212800000\":26751005,\"1553472000000\":22638399,\"1553558400000\":16694599,\"1553644800000\":10063152,\"1553731200000\":25492224,\"1553817600000\":28968721,\"1554076800000\":20605152,\"1554163200000\":10435568,\"1554249600000\":8283863,\"1554336000000\":10752094,\"1554422400000\":6797106,\"1554681600000\":13120469,\"1554768000000\":8487177,\"1554854400000\":9363447,\"1554940800000\":5279154,\"1555027200000\":5631030,\"1555286400000\":3902646,\"1555372800000\":8394765,\"1555545600000\":9606055,\"1555891200000\":5543020,\"1555977600000\":10137024,\"1556064000000\":33596281,\"1556150400000\":134264338,\"1556236800000\":8708111,\"1556582400000\":9844317,\"1556755200000\":22056708,\"1556841600000\":12720120}}'"
      ]
     },
     "execution_count": 13,
     "metadata": {},
     "output_type": "execute_result"
    }
   ],
   "source": [
    "\n",
    "def trade_analysis(stock):\n",
    "    trade_log = pd.read_json(conn.get(stock+'Trade'))\n",
    "\n",
    "    state = 'None'\n",
    "    trade_log['profit'] = 0\n",
    "    profit = 0\n",
    "    total_win = 0\n",
    "    total_loss = 0\n",
    "    max_profit = 0 \n",
    "    max_loss = 0\n",
    "    winning_streak = 0\n",
    "    loosing_stream = 0\n",
    "    prev_profit = 0\n",
    "    winning_streak = 1\n",
    "    loosing_streak = 1\n",
    "    max_winning_streak = 0\n",
    "    max_loosing_streak = 0\n",
    "\n",
    "    for index, row in trade_log.iterrows():\n",
    "        if not math.isnan(row.buy):\n",
    "            profit -= row['buy']\n",
    "            #print(row['buy'])  \n",
    "        if not math.isnan(row.sell):\n",
    "            profit += row['sell']\n",
    "            #print(row['sell'])\n",
    "\n",
    "        if state=='None':\n",
    "            trade_log.loc[index,'profit'] = 0\n",
    "            state='Trade'\n",
    "        else:\n",
    "            trade_log.loc[index,'profit'] = profit\n",
    "            if profit >=0:\n",
    "                total_win += 1\n",
    "                if profit > max_profit:\n",
    "                    max_profit = profit\n",
    "\n",
    "                if prev_profit > 0:\n",
    "                    winning_streak += 1\n",
    "                elif loosing_streak > max_loosing_streak:\n",
    "                    max_loosing_streak = loosing_streak\n",
    "                loosing_streak = 1    \n",
    "\n",
    "            else:\n",
    "                total_loss += 1\n",
    "                if profit < max_loss:\n",
    "                    max_loss = profit\n",
    "\n",
    "                if prev_profit < 0:\n",
    "                    loosing_streak += 1\n",
    "                elif winning_streak > max_winning_streak:\n",
    "                    max_winning_streak = winning_streak\n",
    "                winning_streak = 1\n",
    "\n",
    "            prev_profit = profit\n",
    "            profit = 0\n",
    "            state = 'None'\n",
    "\n",
    "    total_profit = trade_log.profit.sum()\n",
    "    trade_log['CumProfit'] = trade_log.profit.cumsum()\n",
    "    logtrade('Profit: {}, max loss: {}, max win: {}'.format(total_profit, max_loss, max_profit))\n",
    "    logtrade('# of Win: {}, # of Loss: {}, max_winning_streak: {}, max_loosing_streak: {}'.format(total_win, total_loss, max_winning_streak, max_loosing_streak))\n",
    "\n",
    "    logtrade('\\n{}'.format(trade_log.fillna('')))"
   ]
  },
  {
   "cell_type": "code",
   "execution_count": 3,
   "metadata": {},
   "outputs": [
    {
     "name": "stderr",
     "output_type": "stream",
     "text": [
      "INFO:\ttrade_analysis :\n"
     ]
    },
    {
     "ename": "NameError",
     "evalue": "name 'math' is not defined",
     "output_type": "error",
     "traceback": [
      "\u001b[0;31m---------------------------------------------------------------------------\u001b[0m",
      "\u001b[0;31mNameError\u001b[0m                                 Traceback (most recent call last)",
      "\u001b[0;32m<ipython-input-3-11338e889ccb>\u001b[0m in \u001b[0;36m<module>\u001b[0;34m\u001b[0m\n\u001b[1;32m      4\u001b[0m \u001b[0mstock\u001b[0m \u001b[0;34m=\u001b[0m \u001b[0;34m'ONGC'\u001b[0m\u001b[0;34m\u001b[0m\u001b[0;34m\u001b[0m\u001b[0m\n\u001b[1;32m      5\u001b[0m \u001b[0mlogger\u001b[0m\u001b[0;34m.\u001b[0m\u001b[0msetLevel\u001b[0m\u001b[0;34m(\u001b[0m\u001b[0mlogging\u001b[0m\u001b[0;34m.\u001b[0m\u001b[0mDEBUG\u001b[0m\u001b[0;34m)\u001b[0m\u001b[0;34m\u001b[0m\u001b[0;34m\u001b[0m\u001b[0m\n\u001b[0;32m----> 6\u001b[0;31m \u001b[0mtrade_analysis\u001b[0m\u001b[0;34m(\u001b[0m\u001b[0mstock\u001b[0m\u001b[0;34m)\u001b[0m\u001b[0;34m\u001b[0m\u001b[0;34m\u001b[0m\u001b[0m\n\u001b[0m",
      "\u001b[0;32m/code/lib/multitasking_lib.py\u001b[0m in \u001b[0;36mtrade_analysis\u001b[0;34m(stock)\u001b[0m\n\u001b[1;32m    163\u001b[0m \u001b[0;34m\u001b[0m\u001b[0m\n\u001b[1;32m    164\u001b[0m     \u001b[0;32mfor\u001b[0m \u001b[0mindex\u001b[0m\u001b[0;34m,\u001b[0m \u001b[0mrow\u001b[0m \u001b[0;32min\u001b[0m \u001b[0mtrade_log\u001b[0m\u001b[0;34m.\u001b[0m\u001b[0miterrows\u001b[0m\u001b[0;34m(\u001b[0m\u001b[0;34m)\u001b[0m\u001b[0;34m:\u001b[0m\u001b[0;34m\u001b[0m\u001b[0;34m\u001b[0m\u001b[0m\n\u001b[0;32m--> 165\u001b[0;31m         \u001b[0;32mif\u001b[0m \u001b[0;32mnot\u001b[0m \u001b[0mmath\u001b[0m\u001b[0;34m.\u001b[0m\u001b[0misnan\u001b[0m\u001b[0;34m(\u001b[0m\u001b[0mrow\u001b[0m\u001b[0;34m.\u001b[0m\u001b[0mbuy\u001b[0m\u001b[0;34m)\u001b[0m\u001b[0;34m:\u001b[0m\u001b[0;34m\u001b[0m\u001b[0;34m\u001b[0m\u001b[0m\n\u001b[0m\u001b[1;32m    166\u001b[0m             \u001b[0mprofit\u001b[0m \u001b[0;34m-=\u001b[0m \u001b[0mrow\u001b[0m\u001b[0;34m[\u001b[0m\u001b[0;34m'buy'\u001b[0m\u001b[0;34m]\u001b[0m\u001b[0;34m\u001b[0m\u001b[0;34m\u001b[0m\u001b[0m\n\u001b[1;32m    167\u001b[0m             \u001b[0;31m#print(row['buy'])\u001b[0m\u001b[0;34m\u001b[0m\u001b[0;34m\u001b[0m\u001b[0;34m\u001b[0m\u001b[0m\n",
      "\u001b[0;31mNameError\u001b[0m: name 'math' is not defined"
     ]
    }
   ],
   "source": [
    "import pandas as pd\n",
    "\n",
    "\n",
    "stock = 'ONGC'\n",
    "logger.setLevel(logging.DEBUG)\n",
    "trade_analysis(stock)"
   ]
  },
  {
   "cell_type": "code",
   "execution_count": null,
   "metadata": {},
   "outputs": [],
   "source": []
  },
  {
   "cell_type": "code",
   "execution_count": null,
   "metadata": {},
   "outputs": [],
   "source": [
    "conn.xadd('msgBufferQueue',{'msg': 'next'})"
   ]
  },
  {
   "cell_type": "code",
   "execution_count": null,
   "metadata": {},
   "outputs": [],
   "source": [
    "\n",
    "# Unit Test#1\n",
    "freq='day'\n",
    "exchange='NSE'\n",
    "fromDate = '2019-01-01'\n",
    "toDate = '2019-05-03'\n",
    "stock='INFY'\n",
    "\n",
    "state = 'INIT'\n",
    "hash_key = stock+'_state'\n",
    "\n",
    "try:\n",
    "    all_keys = list(conn.hgetall(hash_key).keys())\n",
    "    conn.hdel(hash_key,*all_keys)\n",
    "except:\n",
    "    pass\n",
    "\n",
    "#conn.hmset(hash_key, {'state':state,'stock':stock, 'qty':0,'price':0,'algo':'','freq':'day','so':0,'target':0})\n",
    "\n",
    "msg = json.dumps({'stock': stock, 'fromDate':fromDate,'toDate':toDate, 'exchange':exchange, 'freq':freq})\n",
    "conn.publish('trade_handler','start')\n",
    "msgid2 = conn.publish('kite_simulator',msg)\n"
   ]
  },
  {
   "cell_type": "code",
   "execution_count": null,
   "metadata": {},
   "outputs": [],
   "source": [
    "# Unit Test#2\n",
    "stock = 'NDTV'\n",
    "msg = json.dumps({'stock': stock, 'fromDate':fromDate,'toDate':toDate, 'exchange':exchange, 'freq':freq})\n",
    "conn.publish('trade_handler','start')\n",
    "msgid2 = conn.publish('kite_simulator',msg)\n",
    "conn.xadd('msgBufferQueue',{'msg': 'next'})"
   ]
  },
  {
   "cell_type": "code",
   "execution_count": null,
   "metadata": {},
   "outputs": [],
   "source": []
  },
  {
   "cell_type": "code",
   "execution_count": null,
   "metadata": {},
   "outputs": [],
   "source": [
    "# Shut down\n",
    "conn.publish('kite_simulator','stop')\n",
    "conn.publish('trade_handler','stop')\n",
    "freedom.job.terminate()\n",
    "print(freedom.job.is_alive())\n",
    "conn.pubsub_channels()"
   ]
  },
  {
   "cell_type": "code",
   "execution_count": null,
   "metadata": {},
   "outputs": [],
   "source": [
    "conn.pubsub_channels()"
   ]
  },
  {
   "cell_type": "code",
   "execution_count": null,
   "metadata": {
    "scrolled": false
   },
   "outputs": [],
   "source": [
    "# Debug\n",
    "stock='TCS'\n",
    "#notification_despatcher(None, 'msg')\n",
    "print(stock)\n",
    "pd.read_json(conn.hget(stock+'_state','ohlc'))"
   ]
  },
  {
   "cell_type": "code",
   "execution_count": null,
   "metadata": {
    "scrolled": true
   },
   "outputs": [],
   "source": [
    "pd.set_option('display.max_rows', 50)\n",
    "pd.read_json(conn.hget(stock+'_state','ohlc')).tail(50)"
   ]
  },
  {
   "cell_type": "code",
   "execution_count": null,
   "metadata": {},
   "outputs": [],
   "source": []
  },
  {
   "cell_type": "raw",
   "metadata": {},
   "source": [
    "msg = [['msgBufferQueue', [('1587153010498-0', {'stock': 'TCS', 'fromDate': '2019-01-01', 'toDate': '2019-05-03', 'exchange': 'NSE', 'freq': 'day'})]]]"
   ]
  },
  {
   "cell_type": "code",
   "execution_count": null,
   "metadata": {},
   "outputs": [],
   "source": []
  },
  {
   "cell_type": "code",
   "execution_count": null,
   "metadata": {},
   "outputs": [],
   "source": []
  },
  {
   "cell_type": "code",
   "execution_count": null,
   "metadata": {},
   "outputs": [],
   "source": [
    "\n"
   ]
  },
  {
   "cell_type": "code",
   "execution_count": null,
   "metadata": {},
   "outputs": [],
   "source": []
  },
  {
   "cell_type": "markdown",
   "metadata": {},
   "source": [
    "## Scratchpad"
   ]
  },
  {
   "cell_type": "code",
   "execution_count": 1,
   "metadata": {},
   "outputs": [],
   "source": [
    "import pandas as pd\n",
    "import plotly\n",
    "import plotly.graph_objs as go\n",
    "from datetime import datetime as dt\n",
    "from datetime import timedelta\n",
    "from plotly.subplots import make_subplots\n",
    "import plotly.graph_objects as go\n",
    "\n",
    "from lib.multitasking_lib import *\n",
    "from plotly.offline import download_plotlyjs, init_notebook_mode, plot, iplot"
   ]
  },
  {
   "cell_type": "code",
   "execution_count": 2,
   "metadata": {},
   "outputs": [
    {
     "name": "stderr",
     "output_type": "stream",
     "text": [
      "DEBUG:\tUsing cache: Not downloading data\n"
     ]
    }
   ],
   "source": [
    "# GetData\n",
    "\n",
    "logger.setLevel(logging.DEBUG)\n",
    "stock = 'WIPRO'\n",
    "fromDate = '2019-1-1'\n",
    "toDate  = '2019-4-30'\n",
    "freq = 'day'\n",
    "exchange = 'NSE'\n",
    "ohlc_data = getData(stock, fromDate, toDate, exchange, freq, False, stock)"
   ]
  },
  {
   "cell_type": "code",
   "execution_count": 53,
   "metadata": {},
   "outputs": [
    {
     "data": {
      "text/html": [
       "<div>\n",
       "<style scoped>\n",
       "    .dataframe tbody tr th:only-of-type {\n",
       "        vertical-align: middle;\n",
       "    }\n",
       "\n",
       "    .dataframe tbody tr th {\n",
       "        vertical-align: top;\n",
       "    }\n",
       "\n",
       "    .dataframe thead th {\n",
       "        text-align: right;\n",
       "    }\n",
       "</style>\n",
       "<table border=\"1\" class=\"dataframe\">\n",
       "  <thead>\n",
       "    <tr style=\"text-align: right;\">\n",
       "      <th></th>\n",
       "      <th>buy</th>\n",
       "      <th>sell</th>\n",
       "    </tr>\n",
       "    <tr>\n",
       "      <th>date</th>\n",
       "      <th></th>\n",
       "      <th></th>\n",
       "    </tr>\n",
       "  </thead>\n",
       "  <tbody>\n",
       "    <tr>\n",
       "      <th>2019-04-30</th>\n",
       "      <td>298.55</td>\n",
       "      <td>NaN</td>\n",
       "    </tr>\n",
       "    <tr>\n",
       "      <th>2019-01-29</th>\n",
       "      <td>NaN</td>\n",
       "      <td>270.23</td>\n",
       "    </tr>\n",
       "    <tr>\n",
       "      <th>2019-01-30</th>\n",
       "      <td>NaN</td>\n",
       "      <td>273.12</td>\n",
       "    </tr>\n",
       "    <tr>\n",
       "      <th>2019-01-31</th>\n",
       "      <td>NaN</td>\n",
       "      <td>277.59</td>\n",
       "    </tr>\n",
       "    <tr>\n",
       "      <th>2019-02-01</th>\n",
       "      <td>NaN</td>\n",
       "      <td>279.36</td>\n",
       "    </tr>\n",
       "    <tr>\n",
       "      <th>2019-02-04</th>\n",
       "      <td>NaN</td>\n",
       "      <td>279.14</td>\n",
       "    </tr>\n",
       "  </tbody>\n",
       "</table>\n",
       "</div>"
      ],
      "text/plain": [
       "               buy    sell\n",
       "date                      \n",
       "2019-04-30  298.55     NaN\n",
       "2019-01-29     NaN  270.23\n",
       "2019-01-30     NaN  273.12\n",
       "2019-01-31     NaN  277.59\n",
       "2019-02-01     NaN  279.36\n",
       "2019-02-04     NaN  279.14"
      ]
     },
     "execution_count": 53,
     "metadata": {},
     "output_type": "execute_result"
    }
   ],
   "source": [
    "#tmp_df = pd.DataFrame({'buy': ohlc_data.iloc[1:5]['close'], 'sell':ohlc_data.iloc[10:15]['close']})\n",
    "\n",
    "tmp_df_s = pd.DataFrame()\n",
    "tmp_df_b = pd.DataFrame()\n",
    "tmp_df_b['buy'] = ohlc_data.iloc[-1:]['close']\n",
    "tmp_df_s['sell'] = ohlc_data.iloc[20:25]['close']\n",
    "\n",
    "tmp_df_b.append(tmp_df_s)"
   ]
  },
  {
   "cell_type": "code",
   "execution_count": 45,
   "metadata": {},
   "outputs": [
    {
     "data": {
      "text/html": [
       "<div>\n",
       "<style scoped>\n",
       "    .dataframe tbody tr th:only-of-type {\n",
       "        vertical-align: middle;\n",
       "    }\n",
       "\n",
       "    .dataframe tbody tr th {\n",
       "        vertical-align: top;\n",
       "    }\n",
       "\n",
       "    .dataframe thead th {\n",
       "        text-align: right;\n",
       "    }\n",
       "</style>\n",
       "<table border=\"1\" class=\"dataframe\">\n",
       "  <thead>\n",
       "    <tr style=\"text-align: right;\">\n",
       "      <th></th>\n",
       "      <th>close</th>\n",
       "      <th>high</th>\n",
       "      <th>low</th>\n",
       "      <th>open</th>\n",
       "      <th>volume</th>\n",
       "    </tr>\n",
       "    <tr>\n",
       "      <th>date</th>\n",
       "      <th></th>\n",
       "      <th></th>\n",
       "      <th></th>\n",
       "      <th></th>\n",
       "      <th></th>\n",
       "    </tr>\n",
       "  </thead>\n",
       "  <tbody>\n",
       "    <tr>\n",
       "      <th>2019-04-23</th>\n",
       "      <td>291.10</td>\n",
       "      <td>291.85</td>\n",
       "      <td>286.70</td>\n",
       "      <td>289.70</td>\n",
       "      <td>6177784</td>\n",
       "    </tr>\n",
       "    <tr>\n",
       "      <th>2019-04-24</th>\n",
       "      <td>293.05</td>\n",
       "      <td>294.30</td>\n",
       "      <td>290.20</td>\n",
       "      <td>292.05</td>\n",
       "      <td>9149069</td>\n",
       "    </tr>\n",
       "    <tr>\n",
       "      <th>2019-04-25</th>\n",
       "      <td>295.20</td>\n",
       "      <td>295.95</td>\n",
       "      <td>292.85</td>\n",
       "      <td>293.05</td>\n",
       "      <td>10390816</td>\n",
       "    </tr>\n",
       "    <tr>\n",
       "      <th>2019-04-26</th>\n",
       "      <td>294.80</td>\n",
       "      <td>296.65</td>\n",
       "      <td>293.50</td>\n",
       "      <td>296.40</td>\n",
       "      <td>6196551</td>\n",
       "    </tr>\n",
       "    <tr>\n",
       "      <th>2019-04-30</th>\n",
       "      <td>298.55</td>\n",
       "      <td>299.45</td>\n",
       "      <td>295.00</td>\n",
       "      <td>295.00</td>\n",
       "      <td>7339917</td>\n",
       "    </tr>\n",
       "  </tbody>\n",
       "</table>\n",
       "</div>"
      ],
      "text/plain": [
       "             close    high     low    open    volume\n",
       "date                                                \n",
       "2019-04-23  291.10  291.85  286.70  289.70   6177784\n",
       "2019-04-24  293.05  294.30  290.20  292.05   9149069\n",
       "2019-04-25  295.20  295.95  292.85  293.05  10390816\n",
       "2019-04-26  294.80  296.65  293.50  296.40   6196551\n",
       "2019-04-30  298.55  299.45  295.00  295.00   7339917"
      ]
     },
     "execution_count": 45,
     "metadata": {},
     "output_type": "execute_result"
    }
   ],
   "source": [
    "ohlc_data.tail()"
   ]
  },
  {
   "cell_type": "code",
   "execution_count": 9,
   "metadata": {},
   "outputs": [
    {
     "data": {
      "text/plain": [
       "close         298.55\n",
       "high          299.45\n",
       "low           295.00\n",
       "open          295.00\n",
       "volume    7339917.00\n",
       "Name: buy, dtype: float64"
      ]
     },
     "execution_count": 9,
     "metadata": {},
     "output_type": "execute_result"
    }
   ],
   "source": []
  },
  {
   "cell_type": "code",
   "execution_count": 46,
   "metadata": {},
   "outputs": [
    {
     "data": {
      "text/html": [
       "<div>\n",
       "<style scoped>\n",
       "    .dataframe tbody tr th:only-of-type {\n",
       "        vertical-align: middle;\n",
       "    }\n",
       "\n",
       "    .dataframe tbody tr th {\n",
       "        vertical-align: top;\n",
       "    }\n",
       "\n",
       "    .dataframe thead th {\n",
       "        text-align: right;\n",
       "    }\n",
       "</style>\n",
       "<table border=\"1\" class=\"dataframe\">\n",
       "  <thead>\n",
       "    <tr style=\"text-align: right;\">\n",
       "      <th></th>\n",
       "      <th>close</th>\n",
       "      <th>high</th>\n",
       "      <th>low</th>\n",
       "      <th>open</th>\n",
       "      <th>volume</th>\n",
       "    </tr>\n",
       "    <tr>\n",
       "      <th>date</th>\n",
       "      <th></th>\n",
       "      <th></th>\n",
       "      <th></th>\n",
       "      <th></th>\n",
       "      <th></th>\n",
       "    </tr>\n",
       "  </thead>\n",
       "  <tbody>\n",
       "    <tr>\n",
       "      <th>2019-01-02</th>\n",
       "      <td>244.77</td>\n",
       "      <td>249.10</td>\n",
       "      <td>242.86</td>\n",
       "      <td>247.22</td>\n",
       "      <td>3308303</td>\n",
       "    </tr>\n",
       "    <tr>\n",
       "      <th>2019-01-03</th>\n",
       "      <td>244.74</td>\n",
       "      <td>246.58</td>\n",
       "      <td>242.89</td>\n",
       "      <td>245.86</td>\n",
       "      <td>3542281</td>\n",
       "    </tr>\n",
       "    <tr>\n",
       "      <th>2019-01-04</th>\n",
       "      <td>243.95</td>\n",
       "      <td>245.75</td>\n",
       "      <td>240.34</td>\n",
       "      <td>243.98</td>\n",
       "      <td>2405278</td>\n",
       "    </tr>\n",
       "    <tr>\n",
       "      <th>2019-01-07</th>\n",
       "      <td>243.80</td>\n",
       "      <td>245.68</td>\n",
       "      <td>242.33</td>\n",
       "      <td>245.19</td>\n",
       "      <td>1903604</td>\n",
       "    </tr>\n",
       "    <tr>\n",
       "      <th>2019-01-08</th>\n",
       "      <td>244.77</td>\n",
       "      <td>246.24</td>\n",
       "      <td>242.56</td>\n",
       "      <td>244.36</td>\n",
       "      <td>2084659</td>\n",
       "    </tr>\n",
       "    <tr>\n",
       "      <th>...</th>\n",
       "      <td>...</td>\n",
       "      <td>...</td>\n",
       "      <td>...</td>\n",
       "      <td>...</td>\n",
       "      <td>...</td>\n",
       "    </tr>\n",
       "    <tr>\n",
       "      <th>2019-04-23</th>\n",
       "      <td>291.10</td>\n",
       "      <td>291.85</td>\n",
       "      <td>286.70</td>\n",
       "      <td>289.70</td>\n",
       "      <td>6177784</td>\n",
       "    </tr>\n",
       "    <tr>\n",
       "      <th>2019-04-24</th>\n",
       "      <td>293.05</td>\n",
       "      <td>294.30</td>\n",
       "      <td>290.20</td>\n",
       "      <td>292.05</td>\n",
       "      <td>9149069</td>\n",
       "    </tr>\n",
       "    <tr>\n",
       "      <th>2019-04-25</th>\n",
       "      <td>295.20</td>\n",
       "      <td>295.95</td>\n",
       "      <td>292.85</td>\n",
       "      <td>293.05</td>\n",
       "      <td>10390816</td>\n",
       "    </tr>\n",
       "    <tr>\n",
       "      <th>2019-04-26</th>\n",
       "      <td>294.80</td>\n",
       "      <td>296.65</td>\n",
       "      <td>293.50</td>\n",
       "      <td>296.40</td>\n",
       "      <td>6196551</td>\n",
       "    </tr>\n",
       "    <tr>\n",
       "      <th>2019-04-30</th>\n",
       "      <td>298.55</td>\n",
       "      <td>299.45</td>\n",
       "      <td>295.00</td>\n",
       "      <td>295.00</td>\n",
       "      <td>7339917</td>\n",
       "    </tr>\n",
       "  </tbody>\n",
       "</table>\n",
       "<p>80 rows × 5 columns</p>\n",
       "</div>"
      ],
      "text/plain": [
       "             close    high     low    open    volume\n",
       "date                                                \n",
       "2019-01-02  244.77  249.10  242.86  247.22   3308303\n",
       "2019-01-03  244.74  246.58  242.89  245.86   3542281\n",
       "2019-01-04  243.95  245.75  240.34  243.98   2405278\n",
       "2019-01-07  243.80  245.68  242.33  245.19   1903604\n",
       "2019-01-08  244.77  246.24  242.56  244.36   2084659\n",
       "...            ...     ...     ...     ...       ...\n",
       "2019-04-23  291.10  291.85  286.70  289.70   6177784\n",
       "2019-04-24  293.05  294.30  290.20  292.05   9149069\n",
       "2019-04-25  295.20  295.95  292.85  293.05  10390816\n",
       "2019-04-26  294.80  296.65  293.50  296.40   6196551\n",
       "2019-04-30  298.55  299.45  295.00  295.00   7339917\n",
       "\n",
       "[80 rows x 5 columns]"
      ]
     },
     "execution_count": 46,
     "metadata": {},
     "output_type": "execute_result"
    }
   ],
   "source": [
    "ohlc_data.iloc[1:]"
   ]
  },
  {
   "cell_type": "code",
   "execution_count": 42,
   "metadata": {},
   "outputs": [
    {
     "data": {
      "text/plain": [
       "True"
      ]
     },
     "execution_count": 42,
     "metadata": {},
     "output_type": "execute_result"
    }
   ],
   "source": [
    "conn.set(stock, '')"
   ]
  },
  {
   "cell_type": "code",
   "execution_count": 44,
   "metadata": {},
   "outputs": [
    {
     "data": {
      "text/plain": [
       "True"
      ]
     },
     "execution_count": 44,
     "metadata": {},
     "output_type": "execute_result"
    }
   ],
   "source": []
  },
  {
   "cell_type": "code",
   "execution_count": 55,
   "metadata": {},
   "outputs": [
    {
     "data": {
      "text/html": [
       "<div>\n",
       "<style scoped>\n",
       "    .dataframe tbody tr th:only-of-type {\n",
       "        vertical-align: middle;\n",
       "    }\n",
       "\n",
       "    .dataframe tbody tr th {\n",
       "        vertical-align: top;\n",
       "    }\n",
       "\n",
       "    .dataframe thead th {\n",
       "        text-align: right;\n",
       "    }\n",
       "</style>\n",
       "<table border=\"1\" class=\"dataframe\">\n",
       "  <thead>\n",
       "    <tr style=\"text-align: right;\">\n",
       "      <th></th>\n",
       "      <th>close</th>\n",
       "      <th>high</th>\n",
       "      <th>low</th>\n",
       "      <th>open</th>\n",
       "      <th>volume</th>\n",
       "    </tr>\n",
       "  </thead>\n",
       "  <tbody>\n",
       "    <tr>\n",
       "      <th>2019-01-01</th>\n",
       "      <td>245.60</td>\n",
       "      <td>250.19</td>\n",
       "      <td>244.66</td>\n",
       "      <td>248.68</td>\n",
       "      <td>1513704</td>\n",
       "    </tr>\n",
       "    <tr>\n",
       "      <th>2019-01-02</th>\n",
       "      <td>244.77</td>\n",
       "      <td>249.10</td>\n",
       "      <td>242.86</td>\n",
       "      <td>247.22</td>\n",
       "      <td>3308303</td>\n",
       "    </tr>\n",
       "    <tr>\n",
       "      <th>2019-01-03</th>\n",
       "      <td>244.74</td>\n",
       "      <td>246.58</td>\n",
       "      <td>242.89</td>\n",
       "      <td>245.86</td>\n",
       "      <td>3542281</td>\n",
       "    </tr>\n",
       "    <tr>\n",
       "      <th>2019-01-04</th>\n",
       "      <td>243.95</td>\n",
       "      <td>245.75</td>\n",
       "      <td>240.34</td>\n",
       "      <td>243.98</td>\n",
       "      <td>2405278</td>\n",
       "    </tr>\n",
       "    <tr>\n",
       "      <th>2019-01-07</th>\n",
       "      <td>243.80</td>\n",
       "      <td>245.68</td>\n",
       "      <td>242.33</td>\n",
       "      <td>245.19</td>\n",
       "      <td>1903604</td>\n",
       "    </tr>\n",
       "    <tr>\n",
       "      <th>...</th>\n",
       "      <td>...</td>\n",
       "      <td>...</td>\n",
       "      <td>...</td>\n",
       "      <td>...</td>\n",
       "      <td>...</td>\n",
       "    </tr>\n",
       "    <tr>\n",
       "      <th>2019-04-23</th>\n",
       "      <td>291.10</td>\n",
       "      <td>291.85</td>\n",
       "      <td>286.70</td>\n",
       "      <td>289.70</td>\n",
       "      <td>6177784</td>\n",
       "    </tr>\n",
       "    <tr>\n",
       "      <th>2019-04-24</th>\n",
       "      <td>293.05</td>\n",
       "      <td>294.30</td>\n",
       "      <td>290.20</td>\n",
       "      <td>292.05</td>\n",
       "      <td>9149069</td>\n",
       "    </tr>\n",
       "    <tr>\n",
       "      <th>2019-04-25</th>\n",
       "      <td>295.20</td>\n",
       "      <td>295.95</td>\n",
       "      <td>292.85</td>\n",
       "      <td>293.05</td>\n",
       "      <td>10390816</td>\n",
       "    </tr>\n",
       "    <tr>\n",
       "      <th>2019-04-26</th>\n",
       "      <td>294.80</td>\n",
       "      <td>296.65</td>\n",
       "      <td>293.50</td>\n",
       "      <td>296.40</td>\n",
       "      <td>6196551</td>\n",
       "    </tr>\n",
       "    <tr>\n",
       "      <th>2019-04-30</th>\n",
       "      <td>298.55</td>\n",
       "      <td>299.45</td>\n",
       "      <td>295.00</td>\n",
       "      <td>295.00</td>\n",
       "      <td>7339917</td>\n",
       "    </tr>\n",
       "  </tbody>\n",
       "</table>\n",
       "<p>81 rows × 5 columns</p>\n",
       "</div>"
      ],
      "text/plain": [
       "             close    high     low    open    volume\n",
       "2019-01-01  245.60  250.19  244.66  248.68   1513704\n",
       "2019-01-02  244.77  249.10  242.86  247.22   3308303\n",
       "2019-01-03  244.74  246.58  242.89  245.86   3542281\n",
       "2019-01-04  243.95  245.75  240.34  243.98   2405278\n",
       "2019-01-07  243.80  245.68  242.33  245.19   1903604\n",
       "...            ...     ...     ...     ...       ...\n",
       "2019-04-23  291.10  291.85  286.70  289.70   6177784\n",
       "2019-04-24  293.05  294.30  290.20  292.05   9149069\n",
       "2019-04-25  295.20  295.95  292.85  293.05  10390816\n",
       "2019-04-26  294.80  296.65  293.50  296.40   6196551\n",
       "2019-04-30  298.55  299.45  295.00  295.00   7339917\n",
       "\n",
       "[81 rows x 5 columns]"
      ]
     },
     "execution_count": 55,
     "metadata": {},
     "output_type": "execute_result"
    }
   ],
   "source": [
    "ohlc_data\n",
    "conn.set(stock, pd.DataFrame().to_json(orient='columns'))\n",
    "def update_plot_cache(tmp_df):\n",
    "    cache_buff = pd.read_json(conn.get(stock))\n",
    "    #tmp_df = ohlc_data.loc[index]\n",
    "    cache_buff = cache_buff.append(tmp_df)\n",
    "    conn.set(stock, cache_buff.to_json(orient='columns'))\n",
    "\n",
    "for index, row in ohlc_data.iterrows(): \n",
    "    tmp_df = ohlc_data.loc[index]\n",
    "    update_plot_cache(row)\n",
    "\n",
    "pd.read_json(conn.get(stock))"
   ]
  },
  {
   "cell_type": "code",
   "execution_count": null,
   "metadata": {},
   "outputs": [],
   "source": [
    "plot_layout = {\n",
    "    'height': 950,\n",
    "    'plot_bgcolor': 'rgba(0,0,0,0)',\n",
    "    'template': '...',\n",
    "    'title': {'text': 'Charts for WIPRO'},\n",
    "    'xaxis': {'rangeselector': {'buttons': [{'count': 1, 'label': '1h', 'step': 'hour', 'stepmode': 'backward'},\n",
    "                                            {'count': 3, 'label': '3h', 'step': 'hour', 'stepmode': 'backward'},\n",
    "                                            {'count': 6, 'label': '1d', 'step': 'hour', 'stepmode': 'backward'},\n",
    "                                            {'step': 'all'}]},\n",
    "              'rangeslider': {'visible': False},\n",
    "              'side': 'bottom'},\n",
    "    'xaxis2': {'anchor': 'y2', 'domain': [0.0, 1.0], 'matches': 'x5', 'showticklabels': False},\n",
    "    'xaxis3': {'anchor': 'y3', 'domain': [0.0, 1.0], 'matches': 'x5', 'showticklabels': False},\n",
    "    'xaxis4': {'anchor': 'y4', 'domain': [0.0, 1.0], 'matches': 'x5', 'showticklabels': False},\n",
    "    'xaxis5': {'anchor': 'y5', 'domain': [0.0, 1.0]},\n",
    "    'yaxis': {'anchor': 'x', 'domain': [0.5636363636363636, 1.0], 'side': 'right'},\n",
    "    'yaxis2': {'anchor': 'x2', 'domain': [0.4663636363636363, 0.5536363636363636]},\n",
    "    'yaxis3': {'anchor': 'x3', 'domain': [0.19454545454545452, 0.4563636363636363]},\n",
    "    'yaxis4': {'anchor': 'x4', 'domain': [0.09727272727272726, 0.1845454545454545]},\n",
    "    'yaxis5': {'anchor': 'x5', 'domain': [0.0, 0.08727272727272727]}\n",
    "}\n",
    "\n",
    "#plot_layout"
   ]
  },
  {
   "cell_type": "code",
   "execution_count": null,
   "metadata": {},
   "outputs": [],
   "source": [
    "fig.layout = plot_layout"
   ]
  },
  {
   "cell_type": "code",
   "execution_count": null,
   "metadata": {},
   "outputs": [],
   "source": []
  },
  {
   "cell_type": "code",
   "execution_count": null,
   "metadata": {},
   "outputs": [],
   "source": [
    "\n"
   ]
  },
  {
   "cell_type": "code",
   "execution_count": null,
   "metadata": {},
   "outputs": [],
   "source": []
  },
  {
   "cell_type": "code",
   "execution_count": null,
   "metadata": {},
   "outputs": [],
   "source": [
    "fig = make_subplots(rows=3, cols=1, shared_xaxes=True, row_width=[3,1,5], vertical_spacing = 0.01)\n",
    "fig['layout']={'xaxis':{'rangeselector': {'buttons': [{'count': 1, 'label': '1h', 'step': 'hour', 'stepmode': 'backward'},\n",
    "                                         {'count': 3, 'label': '3h', 'step': 'hour', 'stepmode': 'backward'},\n",
    "                                        {'count': 6, 'label': '1d', 'step': 'hour', 'stepmode': 'backward'},\n",
    "                                            {'step': 'all'}]},\n",
    "              'rangeslider': {'visible': False}, 'side': 'bottom'}, \n",
    "              'xaxis2': {'anchor': 'y2', 'domain': [0.0, 1.0], 'matches': 'x', 'showticklabels': False},\n",
    "              'xaxis3': {'anchor': 'y3', 'domain': [0.0, 1.0], 'matches': 'x', 'showticklabels': True},\n",
    "              'yaxis' : {'anchor': 'x', 'domain': [0.45, 1.0], 'side': 'right', 'linecolor':'black', 'ticks':'inside'},\n",
    "              'yaxis2': {'anchor': 'x2', 'domain': [0.2, 0.43], 'side': 'right', 'linecolor':'black', 'ticks':'inside'},\n",
    "              'yaxis3': {'anchor': 'x3', 'domain': [0.0, 0.19], 'side': 'right', 'range':[0,100], 'tickvals':[0,30,70,100], 'ticks':'inside','gridcolor':'black', 'showgrid':True, 'linecolor':'black'},\n",
    "              'height': 650, 'plot_bgcolor': 'rgba(0,0,0,0)','title': {'text': 'Charts for WIPRO'}}\n",
    "\n",
    "\n",
    "\n",
    "scatter = lambda df, key, title, c, fill='none', fillcolor=\"rgba(0,40,100,0.02)\": go.Scatter(x=df.index.astype('str'), y=df[key], name=title, line=dict(color=c),showlegend=False, fill = fill, fillcolor=fillcolor)\n",
    "bar =  lambda df, key, title, c: go.Bar(x=df.index.astype('str'), y=df[key], name=title, marker=dict(color=c),showlegend=False)\n",
    "\n",
    "def plot_2_lines_1_bar(fig, df, d1, t1='', c1='black', d2=None, t2='', c2='red', d3=None, t3='', c3='grey', pos = 1):\n",
    "    trace1 = scatter(df, d1, t1, c1)\n",
    "    fig.append_trace(trace1, pos, 1)\n",
    "    \n",
    "    if d2:\n",
    "        trace2 = scatter(df, d2, t2, c2)\n",
    "        fig.append_trace(trace2, pos, 1)\n",
    "    if d3:\n",
    "        trace3 = bar(df, d3, t3, c3)\n",
    "        fig.append_trace(trace3, pos, 1)\n",
    "    \n",
    "    return fig\n",
    "\n",
    "def plot_3_lines(fig, df, d1, t1='', c1='black', d2=None, t2='', c2='red', d3=None, t3='', c3='grey', pos = 1, fill=False, fillcolor=\"rgba(0,40,100,0.02)\"):\n",
    "    trace1 = scatter(df, d1, t1, c1)\n",
    "    fig.append_trace(trace1, pos, 1)\n",
    "    \n",
    "    filltonexty = \"none\"\n",
    "    if fill==True:\n",
    "        filltonexty = 'tonexty'\n",
    "    \n",
    "    if d2:\n",
    "        trace2 = scatter(df, d2, t2, c2, fill=filltonexty, fillcolor=fillcolor)\n",
    "        fig.append_trace(trace2, pos, 1)\n",
    "        \n",
    "    if d3:\n",
    "        trace3 = scatter(df, d3, t3, c3, fill=filltonexty, fillcolor=fillcolor)\n",
    "        fig.append_trace(trace3, pos, 1)\n",
    "    \n",
    "    return fig\n",
    "\n",
    "\n",
    "plot_candle = lambda fig, df, pos = 1: fig.append_trace( go.Candlestick(x=df.index.astype('str'), open=df.open, high=df.high, low=df.low, close=df.close, name=\"Candlestick\", showlegend=False), pos, 1)\n",
    "plot_macd = lambda fig, df, pos = 1: plot_2_lines_1_bar(fig, df, 'macd', 'MACD' ,'black', 'macdsignal','MACD Signal', 'red', 'macdhist','MACD Histogram', 'grey', pos)\n",
    "plot_rsi =  lambda fig, df, pos = 1: plot_2_lines_1_bar(fig, df, 'rsi', 'RSI' ,'black', pos=pos)\n",
    "plot_bbb =  lambda fig, df, pos = 1, fill=True, fillcolor=\"rgba(0,40,100,0.02)\": plot_3_lines(fig, df, 'bbt', 'Top' ,'lightgrey', 'bbb','Bottom', 'lightgrey', 'bbm','Middle', 'lightgrey', pos, fill, fillcolor)\n",
    "\n",
    "\n",
    "\n",
    "price = ohlc_data\n",
    "price['macd'], price['macdsignal'], price['macdhist'] = MACDEXT(price.close, fastperiod=12, slowperiod=26, signalperiod=9, fastmatype=1, slowmatype=1,signalmatype=1)\n",
    "price['rsi'] = RSI(price.close, timeperiod=14)\n",
    "price['bbt'], price['bbm'], price['bbb'] = BBANDS(price.close, timeperiod=20, nbdevup=1.6, nbdevdn=1.6, matype=0)\n",
    "\n",
    "price['buy'] = ''\n",
    "price['sell'] = ''\n",
    "price['buy'] = ohlc_data['close'][30:40]\n",
    "price['sell'] = ohlc_data['close'][50:51]\n",
    "\n",
    "def plot_trade(fig, df, pos=1):\n",
    "    fig.append_trace(go.Scatter(x=df.index.astype('str'), y=df['buy']*0.8 ,  mode='markers', marker=dict(color='green'),showlegend=False, hovertext=df['buy']), pos, 1)\n",
    "    fig.append_trace(go.Scatter(x=df.index.astype('str'), y=df['sell']*1.2,  mode='markers', marker=dict(color='red'),showlegend=False, hovertext=df['sell']), pos, 1)\n",
    "    return fig\n",
    "    \n",
    "plot_candle(fig, price, 1)\n",
    "\n",
    "fig = plot_trade(fig, price, 1)\n",
    "fig = plot_bbb(fig, price, 1)\n",
    "fig = plot_macd(fig, price, 2)\n",
    "fig = plot_rsi(fig, price, 3)\n",
    "\n",
    "\n",
    "init_notebook_mode(connected=True)\n",
    "iplot(fig)"
   ]
  },
  {
   "cell_type": "code",
   "execution_count": null,
   "metadata": {},
   "outputs": [],
   "source": []
  },
  {
   "cell_type": "code",
   "execution_count": null,
   "metadata": {},
   "outputs": [],
   "source": [
    "fig = make_subplots(rows=3, cols=1, shared_xaxes=True, row_width=[3,1,5], vertical_spacing = 0.01)\n",
    "fig['layout']"
   ]
  },
  {
   "cell_type": "code",
   "execution_count": null,
   "metadata": {},
   "outputs": [],
   "source": []
  },
  {
   "cell_type": "code",
   "execution_count": null,
   "metadata": {},
   "outputs": [],
   "source": []
  },
  {
   "cell_type": "code",
   "execution_count": null,
   "metadata": {},
   "outputs": [],
   "source": [
    "\n",
    " \n",
    "if False:\n",
    "    msg_ohlc = {\"NSE:WIPRO\": {\"ohlc\": {\"date\": \"2019-1-1\", \"open\": 1896.0, \"high\": 1910.0, \"low\": 1885.0, \"close\": 1902.8, \"volume\": 1094883.0}}}\n",
    "\n",
    "    stock='WIPRO'\n",
    "    state = 'INIT'\n",
    "    hash_key = stock+'_state'\n",
    "\n",
    "    try:\n",
    "        all_keys = list(conn.hgetall(hash_key).keys())\n",
    "        conn.hdel(hash_key,*all_keys)\n",
    "    except:\n",
    "        pass\n",
    "\n",
    "    conn.hmset(hash_key, {'state':state,'stock':stock, 'qty':0,'price':0,'algo':'','freq':'day','so':0,'target':0})\n",
    "\n",
    "    logger.setLevel(logging.INFO)\n",
    "    trade_job(json.dumps(msg_ohlc))\n",
    "    #trade_job(json.dumps(msg_ohlc))\n",
    "    #trade_job(json.dumps(msg_ohlc))\n",
    "    #trade_job(json.dumps(msg_ohlc))\n",
    "    #trade_job(json.dumps(msg_ohlc))\n",
    "    #trade_job(json.dumps(msg_ohlc))\n",
    "\n",
    "if False:\n",
    "    msg_ohlc = {\"NSE:WIPRO\": {\"ohlc\": {\"date\": \"2019-1-3\", \"open\": 1896.0, \"high\": 1910.0, \"low\": 1885.0, \"close\": 1902.8, \"volume\": 1094883.0}}}\n",
    "    trade_job(json.dumps(msg_ohlc))"
   ]
  }
 ],
 "metadata": {
  "kernelspec": {
   "display_name": "Python 3",
   "language": "python",
   "name": "python3"
  },
  "language_info": {
   "codemirror_mode": {
    "name": "ipython",
    "version": 3
   },
   "file_extension": ".py",
   "mimetype": "text/x-python",
   "name": "python",
   "nbconvert_exporter": "python",
   "pygments_lexer": "ipython3",
   "version": "3.7.6"
  }
 },
 "nbformat": 4,
 "nbformat_minor": 4
}
