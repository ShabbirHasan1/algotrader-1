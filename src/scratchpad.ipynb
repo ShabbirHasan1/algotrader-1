{
 "cells": [
  {
   "cell_type": "code",
   "execution_count": 1,
   "metadata": {},
   "outputs": [],
   "source": [
    "import pandas as pd"
   ]
  },
  {
   "cell_type": "code",
   "execution_count": 2,
   "metadata": {},
   "outputs": [],
   "source": [
    "import numpy as np"
   ]
  },
  {
   "cell_type": "code",
   "execution_count": 3,
   "metadata": {},
   "outputs": [],
   "source": [
    "import threading\n",
    "import time"
   ]
  },
  {
   "cell_type": "code",
   "execution_count": 4,
   "metadata": {},
   "outputs": [
    {
     "name": "stdout",
     "output_type": "stream",
     "text": [
      "Starting Thread-1\n",
      "Starting Thread-2\n",
      "Thread-1: Sat Feb 15 16:52:41 2020\n",
      "Thread-1: Sat Feb 15 16:52:42 2020\n",
      "Thread-1: Sat Feb 15 16:52:43 2020\n",
      "Thread-2: Sat Feb 15 16:52:45 2020\n",
      "Thread-2: Sat Feb 15 16:52:47 2020\n",
      "Thread-2: Sat Feb 15 16:52:49 2020\n",
      "Exiting Main Thread\n"
     ]
    }
   ],
   "source": [
    "class myThread (threading.Thread):\n",
    "   def __init__(self, threadID, name, counter):\n",
    "      threading.Thread.__init__(self)\n",
    "      self.threadID = threadID\n",
    "      self.name = name\n",
    "      self.counter = counter\n",
    "   def run(self):\n",
    "      print(\"Starting \" + self.name)\n",
    "      # Get lock to synchronize threads\n",
    "      threadLock.acquire()\n",
    "      print_time(self.name, self.counter, 3)\n",
    "      # Free lock to release next thread\n",
    "      threadLock.release()\n",
    "\n",
    "def print_time(threadName, delay, counter):\n",
    "   while counter:\n",
    "      time.sleep(delay)\n",
    "      print(\"%s: %s\" % (threadName, time.ctime(time.time())))\n",
    "      counter -= 1\n",
    "\n",
    "threadLock = threading.Lock()\n",
    "threads = []\n",
    "\n",
    "# Create new threads\n",
    "thread1 = myThread(1, \"Thread-1\", 1)\n",
    "thread2 = myThread(2, \"Thread-2\", 2)\n",
    "\n",
    "# Start new Threads\n",
    "thread1.start()\n",
    "thread2.start()\n",
    "\n",
    "# Add threads to thread list\n",
    "threads.append(thread1)\n",
    "threads.append(thread2)\n",
    "\n",
    "# Wait for all threads to complete\n",
    "for t in threads:\n",
    "    t.join()\n",
    "print(\"Exiting Main Thread\")"
   ]
  },
  {
   "cell_type": "code",
   "execution_count": 5,
   "metadata": {},
   "outputs": [],
   "source": [
    "import numpy\n",
    "import plotly\n",
    "import dash\n",
    "import matplotlib\n",
    "import seaborn\n",
    "import redis"
   ]
  },
  {
   "cell_type": "code",
   "execution_count": 6,
   "metadata": {},
   "outputs": [],
   "source": [
    "import talib"
   ]
  },
  {
   "cell_type": "code",
   "execution_count": null,
   "metadata": {},
   "outputs": [],
   "source": []
  }
 ],
 "metadata": {
  "kernelspec": {
   "display_name": "Python 3",
   "language": "python",
   "name": "python3"
  },
  "language_info": {
   "codemirror_mode": {
    "name": "ipython",
    "version": 3
   },
   "file_extension": ".py",
   "mimetype": "text/x-python",
   "name": "python",
   "nbconvert_exporter": "python",
   "pygments_lexer": "ipython3",
   "version": "3.7.6"
  }
 },
 "nbformat": 4,
 "nbformat_minor": 4
}
